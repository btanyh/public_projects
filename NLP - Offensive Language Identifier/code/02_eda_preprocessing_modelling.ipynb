{
 "cells": [
  {
   "cell_type": "markdown",
   "id": "6c38fb85-5de4-459a-9336-a43052c6d951",
   "metadata": {},
   "source": [
    "# EDA"
   ]
  },
  {
   "cell_type": "markdown",
   "id": "f4de8a71-c7c9-48a0-8604-e128f5d4fc49",
   "metadata": {},
   "source": [
    "This notebook will go through the EDA, preprocessing, modelling, conclusions and recommendations."
   ]
  },
  {
   "cell_type": "code",
   "execution_count": 1,
   "id": "211bf016-6e41-43d7-beb1-8a1843af836a",
   "metadata": {
    "tags": []
   },
   "outputs": [],
   "source": [
    "import numpy as np\n",
    "import pandas as pd\n",
    "import matplotlib.pyplot as plt\n",
    "import seaborn as sns\n",
    "import spacy # for Lemmatizing\n",
    "import re # for regex\n",
    "import os \n",
    "\n",
    "from sklearn.utils import resample # for downsampling to create more balanced classes\n",
    "from sklearn.model_selection import train_test_split, cross_val_score, GridSearchCV\n",
    "from sklearn.pipeline import Pipeline\n",
    "from sklearn.naive_bayes import MultinomialNB\n",
    "from sklearn import metrics\n",
    "from sklearn.feature_extraction.text import CountVectorizer,TfidfVectorizer\n",
    "from sklearn.ensemble import RandomForestClassifier\n"
   ]
  },
  {
   "cell_type": "code",
   "execution_count": 2,
   "id": "dc7f95af-5910-4a56-8463-1901ca342755",
   "metadata": {
    "tags": []
   },
   "outputs": [],
   "source": [
    "df = pd.read_csv('../data/outputs/Final_DataFrame_with_ylabels.csv',index_col=0)"
   ]
  },
  {
   "cell_type": "code",
   "execution_count": 3,
   "id": "9fc1d3b4-3363-41e0-8f17-59131132be3d",
   "metadata": {
    "tags": []
   },
   "outputs": [
    {
     "data": {
      "text/html": [
       "<div>\n",
       "<style scoped>\n",
       "    .dataframe tbody tr th:only-of-type {\n",
       "        vertical-align: middle;\n",
       "    }\n",
       "\n",
       "    .dataframe tbody tr th {\n",
       "        vertical-align: top;\n",
       "    }\n",
       "\n",
       "    .dataframe thead th {\n",
       "        text-align: right;\n",
       "    }\n",
       "</style>\n",
       "<table border=\"1\" class=\"dataframe\">\n",
       "  <thead>\n",
       "    <tr style=\"text-align: right;\">\n",
       "      <th></th>\n",
       "      <th>title</th>\n",
       "      <th>score</th>\n",
       "      <th>subreddit</th>\n",
       "      <th>id</th>\n",
       "      <th>url</th>\n",
       "      <th>num_comments</th>\n",
       "      <th>comment</th>\n",
       "      <th>target</th>\n",
       "    </tr>\n",
       "  </thead>\n",
       "  <tbody>\n",
       "    <tr>\n",
       "      <th>0</th>\n",
       "      <td>Biden Is Winning Over More Democrats Than Obam...</td>\n",
       "      <td>7627</td>\n",
       "      <td>politics</td>\n",
       "      <td>12vtljd</td>\n",
       "      <td>https://www.newsweek.com/biden-winning-over-mo...</td>\n",
       "      <td>1226</td>\n",
       "      <td>Helps when the other side is pure fascism.</td>\n",
       "      <td>0</td>\n",
       "    </tr>\n",
       "    <tr>\n",
       "      <th>1</th>\n",
       "      <td>Biden Is Winning Over More Democrats Than Obam...</td>\n",
       "      <td>7627</td>\n",
       "      <td>politics</td>\n",
       "      <td>12vtljd</td>\n",
       "      <td>https://www.newsweek.com/biden-winning-over-mo...</td>\n",
       "      <td>1226</td>\n",
       "      <td>We know the alternative. \\n\\nThere’s no compar...</td>\n",
       "      <td>1</td>\n",
       "    </tr>\n",
       "    <tr>\n",
       "      <th>2</th>\n",
       "      <td>Biden Is Winning Over More Democrats Than Obam...</td>\n",
       "      <td>7627</td>\n",
       "      <td>politics</td>\n",
       "      <td>12vtljd</td>\n",
       "      <td>https://www.newsweek.com/biden-winning-over-mo...</td>\n",
       "      <td>1226</td>\n",
       "      <td>For real,  I am just terrified of the Republic...</td>\n",
       "      <td>0</td>\n",
       "    </tr>\n",
       "    <tr>\n",
       "      <th>3</th>\n",
       "      <td>Biden Is Winning Over More Democrats Than Obam...</td>\n",
       "      <td>7627</td>\n",
       "      <td>politics</td>\n",
       "      <td>12vtljd</td>\n",
       "      <td>https://www.newsweek.com/biden-winning-over-mo...</td>\n",
       "      <td>1226</td>\n",
       "      <td>Biden sure wasn't my favourite in the primarie...</td>\n",
       "      <td>0</td>\n",
       "    </tr>\n",
       "    <tr>\n",
       "      <th>4</th>\n",
       "      <td>Biden Is Winning Over More Democrats Than Obam...</td>\n",
       "      <td>7627</td>\n",
       "      <td>politics</td>\n",
       "      <td>12vtljd</td>\n",
       "      <td>https://www.newsweek.com/biden-winning-over-mo...</td>\n",
       "      <td>1226</td>\n",
       "      <td>&gt;President Joe Biden currently has a higher jo...</td>\n",
       "      <td>0</td>\n",
       "    </tr>\n",
       "  </tbody>\n",
       "</table>\n",
       "</div>"
      ],
      "text/plain": [
       "                                               title  score subreddit  \\\n",
       "0  Biden Is Winning Over More Democrats Than Obam...   7627  politics   \n",
       "1  Biden Is Winning Over More Democrats Than Obam...   7627  politics   \n",
       "2  Biden Is Winning Over More Democrats Than Obam...   7627  politics   \n",
       "3  Biden Is Winning Over More Democrats Than Obam...   7627  politics   \n",
       "4  Biden Is Winning Over More Democrats Than Obam...   7627  politics   \n",
       "\n",
       "        id                                                url  num_comments  \\\n",
       "0  12vtljd  https://www.newsweek.com/biden-winning-over-mo...          1226   \n",
       "1  12vtljd  https://www.newsweek.com/biden-winning-over-mo...          1226   \n",
       "2  12vtljd  https://www.newsweek.com/biden-winning-over-mo...          1226   \n",
       "3  12vtljd  https://www.newsweek.com/biden-winning-over-mo...          1226   \n",
       "4  12vtljd  https://www.newsweek.com/biden-winning-over-mo...          1226   \n",
       "\n",
       "                                             comment  target  \n",
       "0         Helps when the other side is pure fascism.       0  \n",
       "1  We know the alternative. \\n\\nThere’s no compar...       1  \n",
       "2  For real,  I am just terrified of the Republic...       0  \n",
       "3  Biden sure wasn't my favourite in the primarie...       0  \n",
       "4  >President Joe Biden currently has a higher jo...       0  "
      ]
     },
     "execution_count": 3,
     "metadata": {},
     "output_type": "execute_result"
    }
   ],
   "source": [
    "df.head()"
   ]
  },
  {
   "cell_type": "code",
   "execution_count": 4,
   "id": "02601c04-ad00-4750-a49a-b9665b82a51d",
   "metadata": {
    "scrolled": true,
    "tags": []
   },
   "outputs": [],
   "source": [
    "df = df.reset_index(drop=True)# resetting the index as I concatenated multiple webscraping and the index is not in order anymore."
   ]
  },
  {
   "cell_type": "markdown",
   "id": "85fd6f27-b988-4277-bde4-6713e08e2ecd",
   "metadata": {},
   "source": [
    "We can first examine whether the topic of the subreddit has an effect on the number of offensive comments"
   ]
  },
  {
   "cell_type": "code",
   "execution_count": 5,
   "id": "af9014a9-dee9-4217-b908-f2ce897d3e51",
   "metadata": {
    "tags": []
   },
   "outputs": [
    {
     "data": {
      "text/plain": [
       "array(['politics', 'science', 'Art', 'Music', 'funny', 'news', 'movies',\n",
       "       'singapore', 'todayilearned', 'nottheonion', 'gaming', 'AskReddit',\n",
       "       'aww', 'Showerthoughts', 'sports', 'food', 'worldnews', 'pics',\n",
       "       'PublicFreakout', 'antiwork', 'SubredditDrama', 'facepalm',\n",
       "       'entitledparents'], dtype=object)"
      ]
     },
     "execution_count": 5,
     "metadata": {},
     "output_type": "execute_result"
    }
   ],
   "source": [
    "df['subreddit'].unique()"
   ]
  },
  {
   "cell_type": "code",
   "execution_count": 6,
   "id": "edc6dea2-9003-45e6-9db7-b68e02c125c6",
   "metadata": {
    "scrolled": true,
    "tags": []
   },
   "outputs": [
    {
     "data": {
      "text/html": [
       "<div>\n",
       "<style scoped>\n",
       "    .dataframe tbody tr th:only-of-type {\n",
       "        vertical-align: middle;\n",
       "    }\n",
       "\n",
       "    .dataframe tbody tr th {\n",
       "        vertical-align: top;\n",
       "    }\n",
       "\n",
       "    .dataframe thead th {\n",
       "        text-align: right;\n",
       "    }\n",
       "</style>\n",
       "<table border=\"1\" class=\"dataframe\">\n",
       "  <thead>\n",
       "    <tr style=\"text-align: right;\">\n",
       "      <th></th>\n",
       "      <th>subreddit</th>\n",
       "      <th>target</th>\n",
       "      <th>title</th>\n",
       "    </tr>\n",
       "  </thead>\n",
       "  <tbody>\n",
       "    <tr>\n",
       "      <th>0</th>\n",
       "      <td>Art</td>\n",
       "      <td>0</td>\n",
       "      <td>181</td>\n",
       "    </tr>\n",
       "    <tr>\n",
       "      <th>1</th>\n",
       "      <td>Art</td>\n",
       "      <td>1</td>\n",
       "      <td>13</td>\n",
       "    </tr>\n",
       "    <tr>\n",
       "      <th>2</th>\n",
       "      <td>AskReddit</td>\n",
       "      <td>0</td>\n",
       "      <td>752</td>\n",
       "    </tr>\n",
       "    <tr>\n",
       "      <th>3</th>\n",
       "      <td>AskReddit</td>\n",
       "      <td>1</td>\n",
       "      <td>88</td>\n",
       "    </tr>\n",
       "    <tr>\n",
       "      <th>4</th>\n",
       "      <td>Music</td>\n",
       "      <td>0</td>\n",
       "      <td>259</td>\n",
       "    </tr>\n",
       "    <tr>\n",
       "      <th>5</th>\n",
       "      <td>Music</td>\n",
       "      <td>1</td>\n",
       "      <td>9</td>\n",
       "    </tr>\n",
       "    <tr>\n",
       "      <th>6</th>\n",
       "      <td>PublicFreakout</td>\n",
       "      <td>0</td>\n",
       "      <td>1367</td>\n",
       "    </tr>\n",
       "    <tr>\n",
       "      <th>7</th>\n",
       "      <td>PublicFreakout</td>\n",
       "      <td>1</td>\n",
       "      <td>466</td>\n",
       "    </tr>\n",
       "    <tr>\n",
       "      <th>8</th>\n",
       "      <td>Showerthoughts</td>\n",
       "      <td>0</td>\n",
       "      <td>263</td>\n",
       "    </tr>\n",
       "    <tr>\n",
       "      <th>9</th>\n",
       "      <td>Showerthoughts</td>\n",
       "      <td>1</td>\n",
       "      <td>26</td>\n",
       "    </tr>\n",
       "    <tr>\n",
       "      <th>10</th>\n",
       "      <td>SubredditDrama</td>\n",
       "      <td>0</td>\n",
       "      <td>1437</td>\n",
       "    </tr>\n",
       "    <tr>\n",
       "      <th>11</th>\n",
       "      <td>SubredditDrama</td>\n",
       "      <td>1</td>\n",
       "      <td>479</td>\n",
       "    </tr>\n",
       "    <tr>\n",
       "      <th>12</th>\n",
       "      <td>antiwork</td>\n",
       "      <td>0</td>\n",
       "      <td>1575</td>\n",
       "    </tr>\n",
       "    <tr>\n",
       "      <th>13</th>\n",
       "      <td>antiwork</td>\n",
       "      <td>1</td>\n",
       "      <td>331</td>\n",
       "    </tr>\n",
       "    <tr>\n",
       "      <th>14</th>\n",
       "      <td>aww</td>\n",
       "      <td>0</td>\n",
       "      <td>504</td>\n",
       "    </tr>\n",
       "    <tr>\n",
       "      <th>15</th>\n",
       "      <td>aww</td>\n",
       "      <td>1</td>\n",
       "      <td>13</td>\n",
       "    </tr>\n",
       "    <tr>\n",
       "      <th>16</th>\n",
       "      <td>entitledparents</td>\n",
       "      <td>0</td>\n",
       "      <td>1652</td>\n",
       "    </tr>\n",
       "    <tr>\n",
       "      <th>17</th>\n",
       "      <td>entitledparents</td>\n",
       "      <td>1</td>\n",
       "      <td>255</td>\n",
       "    </tr>\n",
       "    <tr>\n",
       "      <th>18</th>\n",
       "      <td>facepalm</td>\n",
       "      <td>0</td>\n",
       "      <td>1438</td>\n",
       "    </tr>\n",
       "    <tr>\n",
       "      <th>19</th>\n",
       "      <td>facepalm</td>\n",
       "      <td>1</td>\n",
       "      <td>469</td>\n",
       "    </tr>\n",
       "    <tr>\n",
       "      <th>20</th>\n",
       "      <td>food</td>\n",
       "      <td>0</td>\n",
       "      <td>300</td>\n",
       "    </tr>\n",
       "    <tr>\n",
       "      <th>21</th>\n",
       "      <td>food</td>\n",
       "      <td>1</td>\n",
       "      <td>12</td>\n",
       "    </tr>\n",
       "    <tr>\n",
       "      <th>22</th>\n",
       "      <td>funny</td>\n",
       "      <td>0</td>\n",
       "      <td>585</td>\n",
       "    </tr>\n",
       "    <tr>\n",
       "      <th>23</th>\n",
       "      <td>funny</td>\n",
       "      <td>1</td>\n",
       "      <td>74</td>\n",
       "    </tr>\n",
       "    <tr>\n",
       "      <th>24</th>\n",
       "      <td>gaming</td>\n",
       "      <td>0</td>\n",
       "      <td>660</td>\n",
       "    </tr>\n",
       "    <tr>\n",
       "      <th>25</th>\n",
       "      <td>gaming</td>\n",
       "      <td>1</td>\n",
       "      <td>44</td>\n",
       "    </tr>\n",
       "    <tr>\n",
       "      <th>26</th>\n",
       "      <td>movies</td>\n",
       "      <td>0</td>\n",
       "      <td>730</td>\n",
       "    </tr>\n",
       "    <tr>\n",
       "      <th>27</th>\n",
       "      <td>movies</td>\n",
       "      <td>1</td>\n",
       "      <td>65</td>\n",
       "    </tr>\n",
       "    <tr>\n",
       "      <th>28</th>\n",
       "      <td>news</td>\n",
       "      <td>0</td>\n",
       "      <td>717</td>\n",
       "    </tr>\n",
       "    <tr>\n",
       "      <th>29</th>\n",
       "      <td>news</td>\n",
       "      <td>1</td>\n",
       "      <td>140</td>\n",
       "    </tr>\n",
       "    <tr>\n",
       "      <th>30</th>\n",
       "      <td>nottheonion</td>\n",
       "      <td>0</td>\n",
       "      <td>528</td>\n",
       "    </tr>\n",
       "    <tr>\n",
       "      <th>31</th>\n",
       "      <td>nottheonion</td>\n",
       "      <td>1</td>\n",
       "      <td>79</td>\n",
       "    </tr>\n",
       "    <tr>\n",
       "      <th>32</th>\n",
       "      <td>pics</td>\n",
       "      <td>0</td>\n",
       "      <td>480</td>\n",
       "    </tr>\n",
       "    <tr>\n",
       "      <th>33</th>\n",
       "      <td>pics</td>\n",
       "      <td>1</td>\n",
       "      <td>42</td>\n",
       "    </tr>\n",
       "    <tr>\n",
       "      <th>34</th>\n",
       "      <td>politics</td>\n",
       "      <td>0</td>\n",
       "      <td>723</td>\n",
       "    </tr>\n",
       "    <tr>\n",
       "      <th>35</th>\n",
       "      <td>politics</td>\n",
       "      <td>1</td>\n",
       "      <td>170</td>\n",
       "    </tr>\n",
       "    <tr>\n",
       "      <th>36</th>\n",
       "      <td>science</td>\n",
       "      <td>0</td>\n",
       "      <td>402</td>\n",
       "    </tr>\n",
       "    <tr>\n",
       "      <th>37</th>\n",
       "      <td>science</td>\n",
       "      <td>1</td>\n",
       "      <td>11</td>\n",
       "    </tr>\n",
       "    <tr>\n",
       "      <th>38</th>\n",
       "      <td>singapore</td>\n",
       "      <td>0</td>\n",
       "      <td>640</td>\n",
       "    </tr>\n",
       "    <tr>\n",
       "      <th>39</th>\n",
       "      <td>singapore</td>\n",
       "      <td>1</td>\n",
       "      <td>54</td>\n",
       "    </tr>\n",
       "    <tr>\n",
       "      <th>40</th>\n",
       "      <td>sports</td>\n",
       "      <td>0</td>\n",
       "      <td>574</td>\n",
       "    </tr>\n",
       "    <tr>\n",
       "      <th>41</th>\n",
       "      <td>sports</td>\n",
       "      <td>1</td>\n",
       "      <td>77</td>\n",
       "    </tr>\n",
       "    <tr>\n",
       "      <th>42</th>\n",
       "      <td>todayilearned</td>\n",
       "      <td>0</td>\n",
       "      <td>742</td>\n",
       "    </tr>\n",
       "    <tr>\n",
       "      <th>43</th>\n",
       "      <td>todayilearned</td>\n",
       "      <td>1</td>\n",
       "      <td>54</td>\n",
       "    </tr>\n",
       "    <tr>\n",
       "      <th>44</th>\n",
       "      <td>worldnews</td>\n",
       "      <td>0</td>\n",
       "      <td>501</td>\n",
       "    </tr>\n",
       "    <tr>\n",
       "      <th>45</th>\n",
       "      <td>worldnews</td>\n",
       "      <td>1</td>\n",
       "      <td>81</td>\n",
       "    </tr>\n",
       "  </tbody>\n",
       "</table>\n",
       "</div>"
      ],
      "text/plain": [
       "          subreddit  target  title\n",
       "0               Art       0    181\n",
       "1               Art       1     13\n",
       "2         AskReddit       0    752\n",
       "3         AskReddit       1     88\n",
       "4             Music       0    259\n",
       "5             Music       1      9\n",
       "6    PublicFreakout       0   1367\n",
       "7    PublicFreakout       1    466\n",
       "8    Showerthoughts       0    263\n",
       "9    Showerthoughts       1     26\n",
       "10   SubredditDrama       0   1437\n",
       "11   SubredditDrama       1    479\n",
       "12         antiwork       0   1575\n",
       "13         antiwork       1    331\n",
       "14              aww       0    504\n",
       "15              aww       1     13\n",
       "16  entitledparents       0   1652\n",
       "17  entitledparents       1    255\n",
       "18         facepalm       0   1438\n",
       "19         facepalm       1    469\n",
       "20             food       0    300\n",
       "21             food       1     12\n",
       "22            funny       0    585\n",
       "23            funny       1     74\n",
       "24           gaming       0    660\n",
       "25           gaming       1     44\n",
       "26           movies       0    730\n",
       "27           movies       1     65\n",
       "28             news       0    717\n",
       "29             news       1    140\n",
       "30      nottheonion       0    528\n",
       "31      nottheonion       1     79\n",
       "32             pics       0    480\n",
       "33             pics       1     42\n",
       "34         politics       0    723\n",
       "35         politics       1    170\n",
       "36          science       0    402\n",
       "37          science       1     11\n",
       "38        singapore       0    640\n",
       "39        singapore       1     54\n",
       "40           sports       0    574\n",
       "41           sports       1     77\n",
       "42    todayilearned       0    742\n",
       "43    todayilearned       1     54\n",
       "44        worldnews       0    501\n",
       "45        worldnews       1     81"
      ]
     },
     "execution_count": 6,
     "metadata": {},
     "output_type": "execute_result"
    }
   ],
   "source": [
    "counts = df.groupby(['subreddit','target']).count()['title'].reset_index()\n",
    "counts"
   ]
  },
  {
   "cell_type": "markdown",
   "id": "65119aac-69db-4f0e-8124-b82aafb821e7",
   "metadata": {},
   "source": [
    "## Number of Offensive and Non-offensive Comments per Subreddit"
   ]
  },
  {
   "cell_type": "code",
   "execution_count": 7,
   "id": "1aae20a7-4359-4a87-b389-417a0722b85d",
   "metadata": {
    "tags": []
   },
   "outputs": [
    {
     "data": {
      "image/png": "[encoded data removed]",
      "text/plain": [
       "<Figure size 1500x750 with 1 Axes>"
      ]
     },
     "metadata": {},
     "output_type": "display_data"
    }
   ],
   "source": [
    "sns.set_style(\"whitegrid\")\n",
    "\n",
    "plt.figure(figsize=(10,5),dpi=150)\n",
    "sns.barplot(x='subreddit', y='title', hue='target', data=counts.sort_values(by='title',ascending=False),)\n",
    "plt.xticks(rotation=90)\n",
    "plt.title('Number of Offensive and Non-offensive Comments per Subreddit')\n",
    "plt.ylabel('Count')\n",
    "plt.xlabel('Name of Subreddit')\n",
    "plt.legend(title = 'Target',loc='upper right')\n",
    "plt.tight_layout();"
   ]
  },
  {
   "cell_type": "markdown",
   "id": "4ad91cae-537d-4ee0-bf6b-b301f12dcc92",
   "metadata": {},
   "source": [
    "From the plot above, we can see that topics do make a difference in whether there are more offensive comments as subreddits with similar number of comments scraped have visible differences in the number of offensive comments scraped. \n",
    "\n",
    "For example politics and movies. The ratio of offensive and non-offensive comments vary visibly. This is to be expected, as politics is usually a topic which people disagree on far more than compared to movies."
   ]
  },
  {
   "cell_type": "markdown",
   "id": "ee7da9a0-42e7-4515-9d66-e266ebc80551",
   "metadata": {},
   "source": [
    "The plot is still a little hard to read, I will now get the percentage values of offensive comments in each subreddit to confirm that the topic plays a part in the number of offensive comments."
   ]
  },
  {
   "cell_type": "code",
   "execution_count": 8,
   "id": "f08a87bd-0afe-48e9-b783-2348329280c4",
   "metadata": {
    "tags": []
   },
   "outputs": [
    {
     "data": {
      "text/plain": [
       "array([ 194,  840,  268, 1833,  289, 1916, 1906,  517, 1907, 1907,  312,\n",
       "        659,  704,  795,  857,  607,  522,  893,  413,  694,  651,  796,\n",
       "        582])"
      ]
     },
     "execution_count": 8,
     "metadata": {},
     "output_type": "execute_result"
    }
   ],
   "source": [
    "counts.groupby('subreddit').sum()['title'].values"
   ]
  },
  {
   "cell_type": "markdown",
   "id": "82c540b5-55d8-469b-b2f5-b0c32ee8d546",
   "metadata": {},
   "source": [
    "Getting the total number of comments for each subreddit."
   ]
  },
  {
   "cell_type": "code",
   "execution_count": 9,
   "id": "bb3680d4-3dc8-4d3f-87a2-84bf831a4f89",
   "metadata": {
    "scrolled": true,
    "tags": []
   },
   "outputs": [
    {
     "data": {
      "text/html": [
       "<div>\n",
       "<style scoped>\n",
       "    .dataframe tbody tr th:only-of-type {\n",
       "        vertical-align: middle;\n",
       "    }\n",
       "\n",
       "    .dataframe tbody tr th {\n",
       "        vertical-align: top;\n",
       "    }\n",
       "\n",
       "    .dataframe thead th {\n",
       "        text-align: right;\n",
       "    }\n",
       "</style>\n",
       "<table border=\"1\" class=\"dataframe\">\n",
       "  <thead>\n",
       "    <tr style=\"text-align: right;\">\n",
       "      <th></th>\n",
       "      <th>subreddit</th>\n",
       "      <th>target</th>\n",
       "      <th>title</th>\n",
       "    </tr>\n",
       "  </thead>\n",
       "  <tbody>\n",
       "    <tr>\n",
       "      <th>0</th>\n",
       "      <td>Art</td>\n",
       "      <td>0</td>\n",
       "      <td>181</td>\n",
       "    </tr>\n",
       "    <tr>\n",
       "      <th>1</th>\n",
       "      <td>Art</td>\n",
       "      <td>1</td>\n",
       "      <td>13</td>\n",
       "    </tr>\n",
       "    <tr>\n",
       "      <th>2</th>\n",
       "      <td>AskReddit</td>\n",
       "      <td>0</td>\n",
       "      <td>752</td>\n",
       "    </tr>\n",
       "    <tr>\n",
       "      <th>3</th>\n",
       "      <td>AskReddit</td>\n",
       "      <td>1</td>\n",
       "      <td>88</td>\n",
       "    </tr>\n",
       "    <tr>\n",
       "      <th>4</th>\n",
       "      <td>Music</td>\n",
       "      <td>0</td>\n",
       "      <td>259</td>\n",
       "    </tr>\n",
       "    <tr>\n",
       "      <th>5</th>\n",
       "      <td>Music</td>\n",
       "      <td>1</td>\n",
       "      <td>9</td>\n",
       "    </tr>\n",
       "    <tr>\n",
       "      <th>6</th>\n",
       "      <td>PublicFreakout</td>\n",
       "      <td>0</td>\n",
       "      <td>1367</td>\n",
       "    </tr>\n",
       "    <tr>\n",
       "      <th>7</th>\n",
       "      <td>PublicFreakout</td>\n",
       "      <td>1</td>\n",
       "      <td>466</td>\n",
       "    </tr>\n",
       "    <tr>\n",
       "      <th>8</th>\n",
       "      <td>Showerthoughts</td>\n",
       "      <td>0</td>\n",
       "      <td>263</td>\n",
       "    </tr>\n",
       "    <tr>\n",
       "      <th>9</th>\n",
       "      <td>Showerthoughts</td>\n",
       "      <td>1</td>\n",
       "      <td>26</td>\n",
       "    </tr>\n",
       "    <tr>\n",
       "      <th>10</th>\n",
       "      <td>SubredditDrama</td>\n",
       "      <td>0</td>\n",
       "      <td>1437</td>\n",
       "    </tr>\n",
       "    <tr>\n",
       "      <th>11</th>\n",
       "      <td>SubredditDrama</td>\n",
       "      <td>1</td>\n",
       "      <td>479</td>\n",
       "    </tr>\n",
       "    <tr>\n",
       "      <th>12</th>\n",
       "      <td>antiwork</td>\n",
       "      <td>0</td>\n",
       "      <td>1575</td>\n",
       "    </tr>\n",
       "    <tr>\n",
       "      <th>13</th>\n",
       "      <td>antiwork</td>\n",
       "      <td>1</td>\n",
       "      <td>331</td>\n",
       "    </tr>\n",
       "    <tr>\n",
       "      <th>14</th>\n",
       "      <td>aww</td>\n",
       "      <td>0</td>\n",
       "      <td>504</td>\n",
       "    </tr>\n",
       "    <tr>\n",
       "      <th>15</th>\n",
       "      <td>aww</td>\n",
       "      <td>1</td>\n",
       "      <td>13</td>\n",
       "    </tr>\n",
       "    <tr>\n",
       "      <th>16</th>\n",
       "      <td>entitledparents</td>\n",
       "      <td>0</td>\n",
       "      <td>1652</td>\n",
       "    </tr>\n",
       "    <tr>\n",
       "      <th>17</th>\n",
       "      <td>entitledparents</td>\n",
       "      <td>1</td>\n",
       "      <td>255</td>\n",
       "    </tr>\n",
       "    <tr>\n",
       "      <th>18</th>\n",
       "      <td>facepalm</td>\n",
       "      <td>0</td>\n",
       "      <td>1438</td>\n",
       "    </tr>\n",
       "    <tr>\n",
       "      <th>19</th>\n",
       "      <td>facepalm</td>\n",
       "      <td>1</td>\n",
       "      <td>469</td>\n",
       "    </tr>\n",
       "    <tr>\n",
       "      <th>20</th>\n",
       "      <td>food</td>\n",
       "      <td>0</td>\n",
       "      <td>300</td>\n",
       "    </tr>\n",
       "    <tr>\n",
       "      <th>21</th>\n",
       "      <td>food</td>\n",
       "      <td>1</td>\n",
       "      <td>12</td>\n",
       "    </tr>\n",
       "    <tr>\n",
       "      <th>22</th>\n",
       "      <td>funny</td>\n",
       "      <td>0</td>\n",
       "      <td>585</td>\n",
       "    </tr>\n",
       "    <tr>\n",
       "      <th>23</th>\n",
       "      <td>funny</td>\n",
       "      <td>1</td>\n",
       "      <td>74</td>\n",
       "    </tr>\n",
       "    <tr>\n",
       "      <th>24</th>\n",
       "      <td>gaming</td>\n",
       "      <td>0</td>\n",
       "      <td>660</td>\n",
       "    </tr>\n",
       "    <tr>\n",
       "      <th>25</th>\n",
       "      <td>gaming</td>\n",
       "      <td>1</td>\n",
       "      <td>44</td>\n",
       "    </tr>\n",
       "    <tr>\n",
       "      <th>26</th>\n",
       "      <td>movies</td>\n",
       "      <td>0</td>\n",
       "      <td>730</td>\n",
       "    </tr>\n",
       "    <tr>\n",
       "      <th>27</th>\n",
       "      <td>movies</td>\n",
       "      <td>1</td>\n",
       "      <td>65</td>\n",
       "    </tr>\n",
       "    <tr>\n",
       "      <th>28</th>\n",
       "      <td>news</td>\n",
       "      <td>0</td>\n",
       "      <td>717</td>\n",
       "    </tr>\n",
       "    <tr>\n",
       "      <th>29</th>\n",
       "      <td>news</td>\n",
       "      <td>1</td>\n",
       "      <td>140</td>\n",
       "    </tr>\n",
       "    <tr>\n",
       "      <th>30</th>\n",
       "      <td>nottheonion</td>\n",
       "      <td>0</td>\n",
       "      <td>528</td>\n",
       "    </tr>\n",
       "    <tr>\n",
       "      <th>31</th>\n",
       "      <td>nottheonion</td>\n",
       "      <td>1</td>\n",
       "      <td>79</td>\n",
       "    </tr>\n",
       "    <tr>\n",
       "      <th>32</th>\n",
       "      <td>pics</td>\n",
       "      <td>0</td>\n",
       "      <td>480</td>\n",
       "    </tr>\n",
       "    <tr>\n",
       "      <th>33</th>\n",
       "      <td>pics</td>\n",
       "      <td>1</td>\n",
       "      <td>42</td>\n",
       "    </tr>\n",
       "    <tr>\n",
       "      <th>34</th>\n",
       "      <td>politics</td>\n",
       "      <td>0</td>\n",
       "      <td>723</td>\n",
       "    </tr>\n",
       "    <tr>\n",
       "      <th>35</th>\n",
       "      <td>politics</td>\n",
       "      <td>1</td>\n",
       "      <td>170</td>\n",
       "    </tr>\n",
       "    <tr>\n",
       "      <th>36</th>\n",
       "      <td>science</td>\n",
       "      <td>0</td>\n",
       "      <td>402</td>\n",
       "    </tr>\n",
       "    <tr>\n",
       "      <th>37</th>\n",
       "      <td>science</td>\n",
       "      <td>1</td>\n",
       "      <td>11</td>\n",
       "    </tr>\n",
       "    <tr>\n",
       "      <th>38</th>\n",
       "      <td>singapore</td>\n",
       "      <td>0</td>\n",
       "      <td>640</td>\n",
       "    </tr>\n",
       "    <tr>\n",
       "      <th>39</th>\n",
       "      <td>singapore</td>\n",
       "      <td>1</td>\n",
       "      <td>54</td>\n",
       "    </tr>\n",
       "    <tr>\n",
       "      <th>40</th>\n",
       "      <td>sports</td>\n",
       "      <td>0</td>\n",
       "      <td>574</td>\n",
       "    </tr>\n",
       "    <tr>\n",
       "      <th>41</th>\n",
       "      <td>sports</td>\n",
       "      <td>1</td>\n",
       "      <td>77</td>\n",
       "    </tr>\n",
       "    <tr>\n",
       "      <th>42</th>\n",
       "      <td>todayilearned</td>\n",
       "      <td>0</td>\n",
       "      <td>742</td>\n",
       "    </tr>\n",
       "    <tr>\n",
       "      <th>43</th>\n",
       "      <td>todayilearned</td>\n",
       "      <td>1</td>\n",
       "      <td>54</td>\n",
       "    </tr>\n",
       "    <tr>\n",
       "      <th>44</th>\n",
       "      <td>worldnews</td>\n",
       "      <td>0</td>\n",
       "      <td>501</td>\n",
       "    </tr>\n",
       "    <tr>\n",
       "      <th>45</th>\n",
       "      <td>worldnews</td>\n",
       "      <td>1</td>\n",
       "      <td>81</td>\n",
       "    </tr>\n",
       "  </tbody>\n",
       "</table>\n",
       "</div>"
      ],
      "text/plain": [
       "          subreddit  target  title\n",
       "0               Art       0    181\n",
       "1               Art       1     13\n",
       "2         AskReddit       0    752\n",
       "3         AskReddit       1     88\n",
       "4             Music       0    259\n",
       "5             Music       1      9\n",
       "6    PublicFreakout       0   1367\n",
       "7    PublicFreakout       1    466\n",
       "8    Showerthoughts       0    263\n",
       "9    Showerthoughts       1     26\n",
       "10   SubredditDrama       0   1437\n",
       "11   SubredditDrama       1    479\n",
       "12         antiwork       0   1575\n",
       "13         antiwork       1    331\n",
       "14              aww       0    504\n",
       "15              aww       1     13\n",
       "16  entitledparents       0   1652\n",
       "17  entitledparents       1    255\n",
       "18         facepalm       0   1438\n",
       "19         facepalm       1    469\n",
       "20             food       0    300\n",
       "21             food       1     12\n",
       "22            funny       0    585\n",
       "23            funny       1     74\n",
       "24           gaming       0    660\n",
       "25           gaming       1     44\n",
       "26           movies       0    730\n",
       "27           movies       1     65\n",
       "28             news       0    717\n",
       "29             news       1    140\n",
       "30      nottheonion       0    528\n",
       "31      nottheonion       1     79\n",
       "32             pics       0    480\n",
       "33             pics       1     42\n",
       "34         politics       0    723\n",
       "35         politics       1    170\n",
       "36          science       0    402\n",
       "37          science       1     11\n",
       "38        singapore       0    640\n",
       "39        singapore       1     54\n",
       "40           sports       0    574\n",
       "41           sports       1     77\n",
       "42    todayilearned       0    742\n",
       "43    todayilearned       1     54\n",
       "44        worldnews       0    501\n",
       "45        worldnews       1     81"
      ]
     },
     "execution_count": 9,
     "metadata": {},
     "output_type": "execute_result"
    }
   ],
   "source": [
    "counts"
   ]
  },
  {
   "cell_type": "code",
   "execution_count": 10,
   "id": "a4ce95d6-3c86-445a-b3b0-d5934eee84c5",
   "metadata": {
    "scrolled": true,
    "tags": []
   },
   "outputs": [
    {
     "data": {
      "text/plain": [
       "1      13\n",
       "3      88\n",
       "5       9\n",
       "7     466\n",
       "9      26\n",
       "11    479\n",
       "13    331\n",
       "15     13\n",
       "17    255\n",
       "19    469\n",
       "21     12\n",
       "23     74\n",
       "25     44\n",
       "27     65\n",
       "29    140\n",
       "31     79\n",
       "33     42\n",
       "35    170\n",
       "37     11\n",
       "39     54\n",
       "41     77\n",
       "43     54\n",
       "45     81\n",
       "Name: title, dtype: int64"
      ]
     },
     "execution_count": 10,
     "metadata": {},
     "output_type": "execute_result"
    }
   ],
   "source": [
    "counts['title'][1::2]"
   ]
  },
  {
   "cell_type": "markdown",
   "id": "d671ab6e-e7c6-4c0f-8211-ff9c140235f2",
   "metadata": {},
   "source": [
    "Getting the number of offensive comments for each subreddit."
   ]
  },
  {
   "cell_type": "code",
   "execution_count": 11,
   "id": "37810325-5ba5-4e0b-b37d-cdadeb86c1e3",
   "metadata": {
    "scrolled": true,
    "tags": []
   },
   "outputs": [
    {
     "data": {
      "text/plain": [
       "[6.7,\n",
       " 10.48,\n",
       " 3.36,\n",
       " 25.42,\n",
       " 9.0,\n",
       " 25.0,\n",
       " 17.37,\n",
       " 2.51,\n",
       " 13.37,\n",
       " 24.59,\n",
       " 3.85,\n",
       " 11.23,\n",
       " 6.25,\n",
       " 8.18,\n",
       " 16.34,\n",
       " 13.01,\n",
       " 8.05,\n",
       " 19.04,\n",
       " 2.66,\n",
       " 7.78,\n",
       " 11.83,\n",
       " 6.78,\n",
       " 13.92]"
      ]
     },
     "execution_count": 11,
     "metadata": {},
     "output_type": "execute_result"
    }
   ],
   "source": [
    "percentage_1 = []\n",
    "for i in range(len(counts['title'][1::2].values)):\n",
    "    percentage_1.append(round((100*(counts['title'][1::2].values[i]/counts.groupby('subreddit').sum()['title'].values[i])),2))\n",
    "percentage_1"
   ]
  },
  {
   "cell_type": "markdown",
   "id": "fdfcc91a-c81a-4246-9929-bd7815d4f76e",
   "metadata": {},
   "source": [
    "I now have the percentage of offensive comments over the total number of comments per subreddit.\n",
    "\n",
    "Now I can repeat the code to get the percentage of non-offensive comments."
   ]
  },
  {
   "cell_type": "code",
   "execution_count": 12,
   "id": "fe44ad79-2c69-442a-ac43-215c9ef76005",
   "metadata": {
    "tags": []
   },
   "outputs": [],
   "source": [
    "percentage_0 = []\n",
    "for i in range(len(counts['title'][::2].values)):\n",
    "    percentage_0.append(round((100*(counts['title'][::2].values[i]/counts.groupby('subreddit').sum()['title'].values[i])),2))"
   ]
  },
  {
   "cell_type": "code",
   "execution_count": 13,
   "id": "eac6bd4f-5a4c-4fdb-96e8-fafd0ddb458f",
   "metadata": {
    "tags": []
   },
   "outputs": [],
   "source": [
    "percentages = []\n",
    "for a, b in zip(percentage_0, percentage_1):\n",
    "    percentages.append(a)\n",
    "    percentages.append(b)"
   ]
  },
  {
   "cell_type": "markdown",
   "id": "94046950-51ba-4d0c-b531-4ceefd12d4c0",
   "metadata": {},
   "source": [
    "Combining the percentages for both labels."
   ]
  },
  {
   "cell_type": "code",
   "execution_count": 14,
   "id": "506cc391-26e0-4662-a95f-b6568cf1b983",
   "metadata": {
    "scrolled": true,
    "tags": []
   },
   "outputs": [
    {
     "data": {
      "text/html": [
       "<div>\n",
       "<style scoped>\n",
       "    .dataframe tbody tr th:only-of-type {\n",
       "        vertical-align: middle;\n",
       "    }\n",
       "\n",
       "    .dataframe tbody tr th {\n",
       "        vertical-align: top;\n",
       "    }\n",
       "\n",
       "    .dataframe thead th {\n",
       "        text-align: right;\n",
       "    }\n",
       "</style>\n",
       "<table border=\"1\" class=\"dataframe\">\n",
       "  <thead>\n",
       "    <tr style=\"text-align: right;\">\n",
       "      <th></th>\n",
       "      <th>subreddit</th>\n",
       "      <th>target</th>\n",
       "      <th>title</th>\n",
       "      <th>percentages</th>\n",
       "    </tr>\n",
       "  </thead>\n",
       "  <tbody>\n",
       "    <tr>\n",
       "      <th>0</th>\n",
       "      <td>Art</td>\n",
       "      <td>0</td>\n",
       "      <td>181</td>\n",
       "      <td>93.30</td>\n",
       "    </tr>\n",
       "    <tr>\n",
       "      <th>1</th>\n",
       "      <td>Art</td>\n",
       "      <td>1</td>\n",
       "      <td>13</td>\n",
       "      <td>6.70</td>\n",
       "    </tr>\n",
       "    <tr>\n",
       "      <th>2</th>\n",
       "      <td>AskReddit</td>\n",
       "      <td>0</td>\n",
       "      <td>752</td>\n",
       "      <td>89.52</td>\n",
       "    </tr>\n",
       "    <tr>\n",
       "      <th>3</th>\n",
       "      <td>AskReddit</td>\n",
       "      <td>1</td>\n",
       "      <td>88</td>\n",
       "      <td>10.48</td>\n",
       "    </tr>\n",
       "    <tr>\n",
       "      <th>4</th>\n",
       "      <td>Music</td>\n",
       "      <td>0</td>\n",
       "      <td>259</td>\n",
       "      <td>96.64</td>\n",
       "    </tr>\n",
       "    <tr>\n",
       "      <th>5</th>\n",
       "      <td>Music</td>\n",
       "      <td>1</td>\n",
       "      <td>9</td>\n",
       "      <td>3.36</td>\n",
       "    </tr>\n",
       "    <tr>\n",
       "      <th>6</th>\n",
       "      <td>PublicFreakout</td>\n",
       "      <td>0</td>\n",
       "      <td>1367</td>\n",
       "      <td>74.58</td>\n",
       "    </tr>\n",
       "    <tr>\n",
       "      <th>7</th>\n",
       "      <td>PublicFreakout</td>\n",
       "      <td>1</td>\n",
       "      <td>466</td>\n",
       "      <td>25.42</td>\n",
       "    </tr>\n",
       "    <tr>\n",
       "      <th>8</th>\n",
       "      <td>Showerthoughts</td>\n",
       "      <td>0</td>\n",
       "      <td>263</td>\n",
       "      <td>91.00</td>\n",
       "    </tr>\n",
       "    <tr>\n",
       "      <th>9</th>\n",
       "      <td>Showerthoughts</td>\n",
       "      <td>1</td>\n",
       "      <td>26</td>\n",
       "      <td>9.00</td>\n",
       "    </tr>\n",
       "    <tr>\n",
       "      <th>10</th>\n",
       "      <td>SubredditDrama</td>\n",
       "      <td>0</td>\n",
       "      <td>1437</td>\n",
       "      <td>75.00</td>\n",
       "    </tr>\n",
       "    <tr>\n",
       "      <th>11</th>\n",
       "      <td>SubredditDrama</td>\n",
       "      <td>1</td>\n",
       "      <td>479</td>\n",
       "      <td>25.00</td>\n",
       "    </tr>\n",
       "    <tr>\n",
       "      <th>12</th>\n",
       "      <td>antiwork</td>\n",
       "      <td>0</td>\n",
       "      <td>1575</td>\n",
       "      <td>82.63</td>\n",
       "    </tr>\n",
       "    <tr>\n",
       "      <th>13</th>\n",
       "      <td>antiwork</td>\n",
       "      <td>1</td>\n",
       "      <td>331</td>\n",
       "      <td>17.37</td>\n",
       "    </tr>\n",
       "    <tr>\n",
       "      <th>14</th>\n",
       "      <td>aww</td>\n",
       "      <td>0</td>\n",
       "      <td>504</td>\n",
       "      <td>97.49</td>\n",
       "    </tr>\n",
       "    <tr>\n",
       "      <th>15</th>\n",
       "      <td>aww</td>\n",
       "      <td>1</td>\n",
       "      <td>13</td>\n",
       "      <td>2.51</td>\n",
       "    </tr>\n",
       "    <tr>\n",
       "      <th>16</th>\n",
       "      <td>entitledparents</td>\n",
       "      <td>0</td>\n",
       "      <td>1652</td>\n",
       "      <td>86.63</td>\n",
       "    </tr>\n",
       "    <tr>\n",
       "      <th>17</th>\n",
       "      <td>entitledparents</td>\n",
       "      <td>1</td>\n",
       "      <td>255</td>\n",
       "      <td>13.37</td>\n",
       "    </tr>\n",
       "    <tr>\n",
       "      <th>18</th>\n",
       "      <td>facepalm</td>\n",
       "      <td>0</td>\n",
       "      <td>1438</td>\n",
       "      <td>75.41</td>\n",
       "    </tr>\n",
       "    <tr>\n",
       "      <th>19</th>\n",
       "      <td>facepalm</td>\n",
       "      <td>1</td>\n",
       "      <td>469</td>\n",
       "      <td>24.59</td>\n",
       "    </tr>\n",
       "    <tr>\n",
       "      <th>20</th>\n",
       "      <td>food</td>\n",
       "      <td>0</td>\n",
       "      <td>300</td>\n",
       "      <td>96.15</td>\n",
       "    </tr>\n",
       "    <tr>\n",
       "      <th>21</th>\n",
       "      <td>food</td>\n",
       "      <td>1</td>\n",
       "      <td>12</td>\n",
       "      <td>3.85</td>\n",
       "    </tr>\n",
       "    <tr>\n",
       "      <th>22</th>\n",
       "      <td>funny</td>\n",
       "      <td>0</td>\n",
       "      <td>585</td>\n",
       "      <td>88.77</td>\n",
       "    </tr>\n",
       "    <tr>\n",
       "      <th>23</th>\n",
       "      <td>funny</td>\n",
       "      <td>1</td>\n",
       "      <td>74</td>\n",
       "      <td>11.23</td>\n",
       "    </tr>\n",
       "    <tr>\n",
       "      <th>24</th>\n",
       "      <td>gaming</td>\n",
       "      <td>0</td>\n",
       "      <td>660</td>\n",
       "      <td>93.75</td>\n",
       "    </tr>\n",
       "    <tr>\n",
       "      <th>25</th>\n",
       "      <td>gaming</td>\n",
       "      <td>1</td>\n",
       "      <td>44</td>\n",
       "      <td>6.25</td>\n",
       "    </tr>\n",
       "    <tr>\n",
       "      <th>26</th>\n",
       "      <td>movies</td>\n",
       "      <td>0</td>\n",
       "      <td>730</td>\n",
       "      <td>91.82</td>\n",
       "    </tr>\n",
       "    <tr>\n",
       "      <th>27</th>\n",
       "      <td>movies</td>\n",
       "      <td>1</td>\n",
       "      <td>65</td>\n",
       "      <td>8.18</td>\n",
       "    </tr>\n",
       "    <tr>\n",
       "      <th>28</th>\n",
       "      <td>news</td>\n",
       "      <td>0</td>\n",
       "      <td>717</td>\n",
       "      <td>83.66</td>\n",
       "    </tr>\n",
       "    <tr>\n",
       "      <th>29</th>\n",
       "      <td>news</td>\n",
       "      <td>1</td>\n",
       "      <td>140</td>\n",
       "      <td>16.34</td>\n",
       "    </tr>\n",
       "    <tr>\n",
       "      <th>30</th>\n",
       "      <td>nottheonion</td>\n",
       "      <td>0</td>\n",
       "      <td>528</td>\n",
       "      <td>86.99</td>\n",
       "    </tr>\n",
       "    <tr>\n",
       "      <th>31</th>\n",
       "      <td>nottheonion</td>\n",
       "      <td>1</td>\n",
       "      <td>79</td>\n",
       "      <td>13.01</td>\n",
       "    </tr>\n",
       "    <tr>\n",
       "      <th>32</th>\n",
       "      <td>pics</td>\n",
       "      <td>0</td>\n",
       "      <td>480</td>\n",
       "      <td>91.95</td>\n",
       "    </tr>\n",
       "    <tr>\n",
       "      <th>33</th>\n",
       "      <td>pics</td>\n",
       "      <td>1</td>\n",
       "      <td>42</td>\n",
       "      <td>8.05</td>\n",
       "    </tr>\n",
       "    <tr>\n",
       "      <th>34</th>\n",
       "      <td>politics</td>\n",
       "      <td>0</td>\n",
       "      <td>723</td>\n",
       "      <td>80.96</td>\n",
       "    </tr>\n",
       "    <tr>\n",
       "      <th>35</th>\n",
       "      <td>politics</td>\n",
       "      <td>1</td>\n",
       "      <td>170</td>\n",
       "      <td>19.04</td>\n",
       "    </tr>\n",
       "    <tr>\n",
       "      <th>36</th>\n",
       "      <td>science</td>\n",
       "      <td>0</td>\n",
       "      <td>402</td>\n",
       "      <td>97.34</td>\n",
       "    </tr>\n",
       "    <tr>\n",
       "      <th>37</th>\n",
       "      <td>science</td>\n",
       "      <td>1</td>\n",
       "      <td>11</td>\n",
       "      <td>2.66</td>\n",
       "    </tr>\n",
       "    <tr>\n",
       "      <th>38</th>\n",
       "      <td>singapore</td>\n",
       "      <td>0</td>\n",
       "      <td>640</td>\n",
       "      <td>92.22</td>\n",
       "    </tr>\n",
       "    <tr>\n",
       "      <th>39</th>\n",
       "      <td>singapore</td>\n",
       "      <td>1</td>\n",
       "      <td>54</td>\n",
       "      <td>7.78</td>\n",
       "    </tr>\n",
       "    <tr>\n",
       "      <th>40</th>\n",
       "      <td>sports</td>\n",
       "      <td>0</td>\n",
       "      <td>574</td>\n",
       "      <td>88.17</td>\n",
       "    </tr>\n",
       "    <tr>\n",
       "      <th>41</th>\n",
       "      <td>sports</td>\n",
       "      <td>1</td>\n",
       "      <td>77</td>\n",
       "      <td>11.83</td>\n",
       "    </tr>\n",
       "    <tr>\n",
       "      <th>42</th>\n",
       "      <td>todayilearned</td>\n",
       "      <td>0</td>\n",
       "      <td>742</td>\n",
       "      <td>93.22</td>\n",
       "    </tr>\n",
       "    <tr>\n",
       "      <th>43</th>\n",
       "      <td>todayilearned</td>\n",
       "      <td>1</td>\n",
       "      <td>54</td>\n",
       "      <td>6.78</td>\n",
       "    </tr>\n",
       "    <tr>\n",
       "      <th>44</th>\n",
       "      <td>worldnews</td>\n",
       "      <td>0</td>\n",
       "      <td>501</td>\n",
       "      <td>86.08</td>\n",
       "    </tr>\n",
       "    <tr>\n",
       "      <th>45</th>\n",
       "      <td>worldnews</td>\n",
       "      <td>1</td>\n",
       "      <td>81</td>\n",
       "      <td>13.92</td>\n",
       "    </tr>\n",
       "  </tbody>\n",
       "</table>\n",
       "</div>"
      ],
      "text/plain": [
       "          subreddit  target  title  percentages\n",
       "0               Art       0    181        93.30\n",
       "1               Art       1     13         6.70\n",
       "2         AskReddit       0    752        89.52\n",
       "3         AskReddit       1     88        10.48\n",
       "4             Music       0    259        96.64\n",
       "5             Music       1      9         3.36\n",
       "6    PublicFreakout       0   1367        74.58\n",
       "7    PublicFreakout       1    466        25.42\n",
       "8    Showerthoughts       0    263        91.00\n",
       "9    Showerthoughts       1     26         9.00\n",
       "10   SubredditDrama       0   1437        75.00\n",
       "11   SubredditDrama       1    479        25.00\n",
       "12         antiwork       0   1575        82.63\n",
       "13         antiwork       1    331        17.37\n",
       "14              aww       0    504        97.49\n",
       "15              aww       1     13         2.51\n",
       "16  entitledparents       0   1652        86.63\n",
       "17  entitledparents       1    255        13.37\n",
       "18         facepalm       0   1438        75.41\n",
       "19         facepalm       1    469        24.59\n",
       "20             food       0    300        96.15\n",
       "21             food       1     12         3.85\n",
       "22            funny       0    585        88.77\n",
       "23            funny       1     74        11.23\n",
       "24           gaming       0    660        93.75\n",
       "25           gaming       1     44         6.25\n",
       "26           movies       0    730        91.82\n",
       "27           movies       1     65         8.18\n",
       "28             news       0    717        83.66\n",
       "29             news       1    140        16.34\n",
       "30      nottheonion       0    528        86.99\n",
       "31      nottheonion       1     79        13.01\n",
       "32             pics       0    480        91.95\n",
       "33             pics       1     42         8.05\n",
       "34         politics       0    723        80.96\n",
       "35         politics       1    170        19.04\n",
       "36          science       0    402        97.34\n",
       "37          science       1     11         2.66\n",
       "38        singapore       0    640        92.22\n",
       "39        singapore       1     54         7.78\n",
       "40           sports       0    574        88.17\n",
       "41           sports       1     77        11.83\n",
       "42    todayilearned       0    742        93.22\n",
       "43    todayilearned       1     54         6.78\n",
       "44        worldnews       0    501        86.08\n",
       "45        worldnews       1     81        13.92"
      ]
     },
     "execution_count": 14,
     "metadata": {},
     "output_type": "execute_result"
    }
   ],
   "source": [
    "counts['percentages'] = percentages\n",
    "counts"
   ]
  },
  {
   "cell_type": "code",
   "execution_count": 15,
   "id": "4a5732d4-f9d8-40f0-b218-a6f9864639ec",
   "metadata": {
    "scrolled": true,
    "tags": []
   },
   "outputs": [
    {
     "data": {
      "text/html": [
       "<div>\n",
       "<style scoped>\n",
       "    .dataframe tbody tr th:only-of-type {\n",
       "        vertical-align: middle;\n",
       "    }\n",
       "\n",
       "    .dataframe tbody tr th {\n",
       "        vertical-align: top;\n",
       "    }\n",
       "\n",
       "    .dataframe thead th {\n",
       "        text-align: right;\n",
       "    }\n",
       "</style>\n",
       "<table border=\"1\" class=\"dataframe\">\n",
       "  <thead>\n",
       "    <tr style=\"text-align: right;\">\n",
       "      <th></th>\n",
       "      <th>subreddit</th>\n",
       "      <th>target</th>\n",
       "      <th>title</th>\n",
       "      <th>percentages</th>\n",
       "    </tr>\n",
       "  </thead>\n",
       "  <tbody>\n",
       "    <tr>\n",
       "      <th>15</th>\n",
       "      <td>aww</td>\n",
       "      <td>1</td>\n",
       "      <td>13</td>\n",
       "      <td>2.51</td>\n",
       "    </tr>\n",
       "    <tr>\n",
       "      <th>37</th>\n",
       "      <td>science</td>\n",
       "      <td>1</td>\n",
       "      <td>11</td>\n",
       "      <td>2.66</td>\n",
       "    </tr>\n",
       "    <tr>\n",
       "      <th>5</th>\n",
       "      <td>Music</td>\n",
       "      <td>1</td>\n",
       "      <td>9</td>\n",
       "      <td>3.36</td>\n",
       "    </tr>\n",
       "    <tr>\n",
       "      <th>21</th>\n",
       "      <td>food</td>\n",
       "      <td>1</td>\n",
       "      <td>12</td>\n",
       "      <td>3.85</td>\n",
       "    </tr>\n",
       "    <tr>\n",
       "      <th>25</th>\n",
       "      <td>gaming</td>\n",
       "      <td>1</td>\n",
       "      <td>44</td>\n",
       "      <td>6.25</td>\n",
       "    </tr>\n",
       "    <tr>\n",
       "      <th>1</th>\n",
       "      <td>Art</td>\n",
       "      <td>1</td>\n",
       "      <td>13</td>\n",
       "      <td>6.70</td>\n",
       "    </tr>\n",
       "    <tr>\n",
       "      <th>43</th>\n",
       "      <td>todayilearned</td>\n",
       "      <td>1</td>\n",
       "      <td>54</td>\n",
       "      <td>6.78</td>\n",
       "    </tr>\n",
       "    <tr>\n",
       "      <th>39</th>\n",
       "      <td>singapore</td>\n",
       "      <td>1</td>\n",
       "      <td>54</td>\n",
       "      <td>7.78</td>\n",
       "    </tr>\n",
       "    <tr>\n",
       "      <th>33</th>\n",
       "      <td>pics</td>\n",
       "      <td>1</td>\n",
       "      <td>42</td>\n",
       "      <td>8.05</td>\n",
       "    </tr>\n",
       "    <tr>\n",
       "      <th>27</th>\n",
       "      <td>movies</td>\n",
       "      <td>1</td>\n",
       "      <td>65</td>\n",
       "      <td>8.18</td>\n",
       "    </tr>\n",
       "    <tr>\n",
       "      <th>9</th>\n",
       "      <td>Showerthoughts</td>\n",
       "      <td>1</td>\n",
       "      <td>26</td>\n",
       "      <td>9.00</td>\n",
       "    </tr>\n",
       "    <tr>\n",
       "      <th>3</th>\n",
       "      <td>AskReddit</td>\n",
       "      <td>1</td>\n",
       "      <td>88</td>\n",
       "      <td>10.48</td>\n",
       "    </tr>\n",
       "    <tr>\n",
       "      <th>23</th>\n",
       "      <td>funny</td>\n",
       "      <td>1</td>\n",
       "      <td>74</td>\n",
       "      <td>11.23</td>\n",
       "    </tr>\n",
       "    <tr>\n",
       "      <th>41</th>\n",
       "      <td>sports</td>\n",
       "      <td>1</td>\n",
       "      <td>77</td>\n",
       "      <td>11.83</td>\n",
       "    </tr>\n",
       "    <tr>\n",
       "      <th>31</th>\n",
       "      <td>nottheonion</td>\n",
       "      <td>1</td>\n",
       "      <td>79</td>\n",
       "      <td>13.01</td>\n",
       "    </tr>\n",
       "    <tr>\n",
       "      <th>17</th>\n",
       "      <td>entitledparents</td>\n",
       "      <td>1</td>\n",
       "      <td>255</td>\n",
       "      <td>13.37</td>\n",
       "    </tr>\n",
       "    <tr>\n",
       "      <th>45</th>\n",
       "      <td>worldnews</td>\n",
       "      <td>1</td>\n",
       "      <td>81</td>\n",
       "      <td>13.92</td>\n",
       "    </tr>\n",
       "    <tr>\n",
       "      <th>29</th>\n",
       "      <td>news</td>\n",
       "      <td>1</td>\n",
       "      <td>140</td>\n",
       "      <td>16.34</td>\n",
       "    </tr>\n",
       "    <tr>\n",
       "      <th>13</th>\n",
       "      <td>antiwork</td>\n",
       "      <td>1</td>\n",
       "      <td>331</td>\n",
       "      <td>17.37</td>\n",
       "    </tr>\n",
       "    <tr>\n",
       "      <th>35</th>\n",
       "      <td>politics</td>\n",
       "      <td>1</td>\n",
       "      <td>170</td>\n",
       "      <td>19.04</td>\n",
       "    </tr>\n",
       "    <tr>\n",
       "      <th>19</th>\n",
       "      <td>facepalm</td>\n",
       "      <td>1</td>\n",
       "      <td>469</td>\n",
       "      <td>24.59</td>\n",
       "    </tr>\n",
       "    <tr>\n",
       "      <th>11</th>\n",
       "      <td>SubredditDrama</td>\n",
       "      <td>1</td>\n",
       "      <td>479</td>\n",
       "      <td>25.00</td>\n",
       "    </tr>\n",
       "    <tr>\n",
       "      <th>7</th>\n",
       "      <td>PublicFreakout</td>\n",
       "      <td>1</td>\n",
       "      <td>466</td>\n",
       "      <td>25.42</td>\n",
       "    </tr>\n",
       "  </tbody>\n",
       "</table>\n",
       "</div>"
      ],
      "text/plain": [
       "          subreddit  target  title  percentages\n",
       "15              aww       1     13         2.51\n",
       "37          science       1     11         2.66\n",
       "5             Music       1      9         3.36\n",
       "21             food       1     12         3.85\n",
       "25           gaming       1     44         6.25\n",
       "1               Art       1     13         6.70\n",
       "43    todayilearned       1     54         6.78\n",
       "39        singapore       1     54         7.78\n",
       "33             pics       1     42         8.05\n",
       "27           movies       1     65         8.18\n",
       "9    Showerthoughts       1     26         9.00\n",
       "3         AskReddit       1     88        10.48\n",
       "23            funny       1     74        11.23\n",
       "41           sports       1     77        11.83\n",
       "31      nottheonion       1     79        13.01\n",
       "17  entitledparents       1    255        13.37\n",
       "45        worldnews       1     81        13.92\n",
       "29             news       1    140        16.34\n",
       "13         antiwork       1    331        17.37\n",
       "35         politics       1    170        19.04\n",
       "19         facepalm       1    469        24.59\n",
       "11   SubredditDrama       1    479        25.00\n",
       "7    PublicFreakout       1    466        25.42"
      ]
     },
     "execution_count": 15,
     "metadata": {},
     "output_type": "execute_result"
    }
   ],
   "source": [
    "counts.sort_values(by='percentages').iloc[:23]"
   ]
  },
  {
   "cell_type": "markdown",
   "id": "0f82e213-4528-474c-9245-a7812bd5b480",
   "metadata": {},
   "source": [
    "Separating to only get the target labels of value 1 for plotting."
   ]
  },
  {
   "cell_type": "markdown",
   "id": "96c0d8a9-9ca6-4c59-87fa-88d9ee7fa296",
   "metadata": {},
   "source": [
    "## Percentage of Offensive Comments per Subreddit"
   ]
  },
  {
   "cell_type": "code",
   "execution_count": 16,
   "id": "51190533-52bb-4591-a67b-374cb7adcf7a",
   "metadata": {
    "tags": []
   },
   "outputs": [
    {
     "data": {
      "image/png": "[encoded data removed]",
      "text/plain": [
       "<Figure size 1800x900 with 1 Axes>"
      ]
     },
     "metadata": {},
     "output_type": "display_data"
    }
   ],
   "source": [
    "plt.figure(figsize=(12,6),dpi=150)\n",
    "\n",
    "ax = sns.barplot(x='subreddit', y='percentages', data=counts.sort_values(by='percentages').iloc[:23], palette='coolwarm')\n",
    "ax.set_title('Percentage of Offensive Comments per Subreddit', fontsize=16)\n",
    "ax.set_ylabel('Percentage Value', fontsize=12)\n",
    "ax.set_xlabel('Subreddit', fontsize=12)\n",
    "ax.set_xticklabels(ax.get_xticklabels(), rotation=90, fontsize=10)\n",
    "ax.yaxis.grid(True)\n",
    "ax.spines['top'].set_visible(False)\n",
    "ax.spines['right'].set_visible(False)\n",
    "plt.tight_layout()\n",
    "\n",
    "patches = ax.patches\n",
    "for i in range(len(patches)):\n",
    "    x = patches[i].get_x() + patches[i].get_width()/2\n",
    "    y = patches[i].get_height()+.05\n",
    "    ax.annotate('{:.1f}%'.format(list(counts.sort_values(by='percentages').iloc[:23]['percentages'])[i]), (x, y), ha='center')# to input percentage values above each bar\n",
    "    "
   ]
  },
  {
   "cell_type": "markdown",
   "id": "d63b19bb-4843-49a3-be09-b8d0eab08829",
   "metadata": {},
   "source": [
    "As shown above, the topic definitely affects the number of offensive comments. This is to be expected as topics like politics generally elicit stronger opinions and consequently offensive comments. In the context of the problem statement, after initial rollout of the model, heavier moderation may be needed for particular topics if the university does intend on creating specific topics such as politics."
   ]
  },
  {
   "cell_type": "markdown",
   "id": "d51b4fba-1f53-4556-9e30-0b089d380590",
   "metadata": {},
   "source": [
    "## Distribution of Number of Comments by Target Variable"
   ]
  },
  {
   "cell_type": "markdown",
   "id": "d496e244-4aeb-46cf-bafa-d199b1630e67",
   "metadata": {},
   "source": [
    "Next let's look at whether the number of comments in a particular post affects the number of offensive comments."
   ]
  },
  {
   "cell_type": "code",
   "execution_count": 17,
   "id": "506b27e3-783b-42da-9855-a80f2106913f",
   "metadata": {
    "tags": []
   },
   "outputs": [
    {
     "data": {
      "text/plain": [
       "target          1.000000\n",
       "num_comments    0.104333\n",
       "Name: target, dtype: float64"
      ]
     },
     "execution_count": 17,
     "metadata": {},
     "output_type": "execute_result"
    }
   ],
   "source": [
    "df[['target','num_comments']].corr()['target']"
   ]
  },
  {
   "cell_type": "markdown",
   "id": "ccc79c9a-c8c4-42c9-9029-1d148c7edb47",
   "metadata": {},
   "source": [
    "There is no correlation between the two."
   ]
  },
  {
   "cell_type": "code",
   "execution_count": 18,
   "id": "baa55b0c-a3cd-432b-98d8-12a4da0323e8",
   "metadata": {
    "tags": []
   },
   "outputs": [
    {
     "data": {
      "image/png": "[encoded data removed]",
      "text/plain": [
       "<Figure size 900x750 with 1 Axes>"
      ]
     },
     "metadata": {},
     "output_type": "display_data"
    }
   ],
   "source": [
    "plt.figure(figsize=(6,5),dpi=150)\n",
    "\n",
    "sns.kdeplot(df.loc[df['target'] == 0, 'num_comments'], label='0', color='blue', fill=True)\n",
    "sns.kdeplot(df.loc[df['target'] == 1, 'num_comments'], label='1', color ='red', fill = True)\n",
    "plt.title('Distribution of Number of Comments across Target Variable')\n",
    "plt.xlabel('Number of Comments')\n",
    "plt.ylabel('Density')\n",
    "plt.legend(title='Target', loc='best')\n",
    "plt.show();\n",
    "\n"
   ]
  },
  {
   "cell_type": "markdown",
   "id": "97837701-4066-41fc-b9ae-400a1cfc3ab2",
   "metadata": {},
   "source": [
    "From the plot above, I can see that there is indeed no correlation, a higher number of comments doesn't mean that there are more offensive comments and vice versa."
   ]
  },
  {
   "cell_type": "markdown",
   "id": "71ac5cb4-240f-4cf1-a1da-d891fc482527",
   "metadata": {},
   "source": [
    "## Effect of Length and Word counts on Target Variable"
   ]
  },
  {
   "cell_type": "markdown",
   "id": "b4122aa8-d6e1-4a63-9b57-750ab32b3fa6",
   "metadata": {
    "tags": []
   },
   "source": [
    "Next I will see if the longer a comment is, whether there is a correlation with it being offensive or not. \n",
    "\n",
    "I will check based on number of words, and number of characters in a comment."
   ]
  },
  {
   "cell_type": "code",
   "execution_count": 19,
   "id": "bc34a942-eb81-4e27-a5c9-ff87de1a3664",
   "metadata": {
    "tags": []
   },
   "outputs": [],
   "source": [
    "df['comment_length'] = df['comment'].apply(lambda x: len(x))"
   ]
  },
  {
   "cell_type": "code",
   "execution_count": 20,
   "id": "77019354-b95c-4031-806d-791b7976c5cd",
   "metadata": {
    "tags": []
   },
   "outputs": [],
   "source": [
    "df['comment_word_count'] = df['comment'].apply(lambda x: len(x.split(' ')))"
   ]
  },
  {
   "cell_type": "code",
   "execution_count": 21,
   "id": "db3c86a7-bf83-4565-8723-fb56df668b85",
   "metadata": {
    "tags": []
   },
   "outputs": [
    {
     "data": {
      "image/png": "[encoded data removed]",
      "text/plain": [
       "<Figure size 1800x750 with 2 Axes>"
      ]
     },
     "metadata": {},
     "output_type": "display_data"
    }
   ],
   "source": [
    "fig, (ax1, ax2) = plt.subplots(ncols=2, figsize=(12, 5), dpi=150)\n",
    "\n",
    "sns.kdeplot(df.loc[df['target'] == 0, 'comment_word_count'], label='0', color='blue', fill=True, ax=ax1)\n",
    "sns.kdeplot(df.loc[df['target'] == 1, 'comment_word_count'], label='1', color='red', fill=True, ax=ax1)\n",
    "ax1.set_title('Distribution of Number of Words in Comments across Target Variable', y= 1.04)\n",
    "ax1.set_xlabel('Number of Words in Comment')\n",
    "ax1.set_ylabel('Density')\n",
    "ax1.legend(title='Target')\n",
    "\n",
    "sns.kdeplot(df.loc[df['target'] == 0, 'comment_length'], label='0', color='blue', fill=True, ax=ax2)\n",
    "sns.kdeplot(df.loc[df['target'] == 1, 'comment_length'], label='1', color='red', fill=True, ax=ax2)\n",
    "ax2.set_title('Distribution of Number of Characters in Comments across Target Variable', y = 1.04)\n",
    "ax2.set_xlabel('Number of Characters in Comment')\n",
    "ax2.set_ylabel('Density')\n",
    "ax2.legend(title='Target')\n",
    "\n",
    "\n",
    "plt.tight_layout();\n",
    "\n"
   ]
  },
  {
   "cell_type": "markdown",
   "id": "2c6f9c5a-3bcc-485d-ae94-2c57caf938d5",
   "metadata": {},
   "source": [
    "From the above plots, I can see that the number of words and number of characters in a comment has no effect on the probability of the comment being offensive or not.\n",
    "\n",
    "This is as the distributions of both target classes in both plots are overlapping, where if there was an effect, their distributions would not be overlapping. "
   ]
  },
  {
   "cell_type": "markdown",
   "id": "842cee40-dabc-43c0-850d-388c397fa324",
   "metadata": {},
   "source": [
    "# Baseline Model Fitting"
   ]
  },
  {
   "cell_type": "markdown",
   "id": "45b1696a-4ace-4a46-9123-0ac475c3042b",
   "metadata": {},
   "source": [
    "I will now move on to doing the train test split, transforming the data using CountVectorizer and passing it into my baseline model, before reviewing the results and doing more preprocessing such as lemmatizing, removing stop words, removing special characters, etc."
   ]
  },
  {
   "cell_type": "markdown",
   "id": "c3cb3282-bffb-4394-ae24-3f67dbfc662f",
   "metadata": {},
   "source": [
    "## Train-Test Split"
   ]
  },
  {
   "cell_type": "code",
   "execution_count": 22,
   "id": "4a80f11e-19be-4693-a4bf-c08dabaf3218",
   "metadata": {
    "tags": []
   },
   "outputs": [
    {
     "data": {
      "text/html": [
       "<div>\n",
       "<style scoped>\n",
       "    .dataframe tbody tr th:only-of-type {\n",
       "        vertical-align: middle;\n",
       "    }\n",
       "\n",
       "    .dataframe tbody tr th {\n",
       "        vertical-align: top;\n",
       "    }\n",
       "\n",
       "    .dataframe thead th {\n",
       "        text-align: right;\n",
       "    }\n",
       "</style>\n",
       "<table border=\"1\" class=\"dataframe\">\n",
       "  <thead>\n",
       "    <tr style=\"text-align: right;\">\n",
       "      <th></th>\n",
       "      <th>title</th>\n",
       "      <th>score</th>\n",
       "      <th>subreddit</th>\n",
       "      <th>id</th>\n",
       "      <th>url</th>\n",
       "      <th>num_comments</th>\n",
       "      <th>comment</th>\n",
       "      <th>target</th>\n",
       "      <th>comment_length</th>\n",
       "      <th>comment_word_count</th>\n",
       "    </tr>\n",
       "  </thead>\n",
       "  <tbody>\n",
       "    <tr>\n",
       "      <th>0</th>\n",
       "      <td>Biden Is Winning Over More Democrats Than Obam...</td>\n",
       "      <td>7627</td>\n",
       "      <td>politics</td>\n",
       "      <td>12vtljd</td>\n",
       "      <td>https://www.newsweek.com/biden-winning-over-mo...</td>\n",
       "      <td>1226</td>\n",
       "      <td>Helps when the other side is pure fascism.</td>\n",
       "      <td>0</td>\n",
       "      <td>42</td>\n",
       "      <td>8</td>\n",
       "    </tr>\n",
       "    <tr>\n",
       "      <th>1</th>\n",
       "      <td>Biden Is Winning Over More Democrats Than Obam...</td>\n",
       "      <td>7627</td>\n",
       "      <td>politics</td>\n",
       "      <td>12vtljd</td>\n",
       "      <td>https://www.newsweek.com/biden-winning-over-mo...</td>\n",
       "      <td>1226</td>\n",
       "      <td>We know the alternative. \\n\\nThere’s no compar...</td>\n",
       "      <td>1</td>\n",
       "      <td>229</td>\n",
       "      <td>40</td>\n",
       "    </tr>\n",
       "    <tr>\n",
       "      <th>2</th>\n",
       "      <td>Biden Is Winning Over More Democrats Than Obam...</td>\n",
       "      <td>7627</td>\n",
       "      <td>politics</td>\n",
       "      <td>12vtljd</td>\n",
       "      <td>https://www.newsweek.com/biden-winning-over-mo...</td>\n",
       "      <td>1226</td>\n",
       "      <td>For real,  I am just terrified of the Republic...</td>\n",
       "      <td>0</td>\n",
       "      <td>178</td>\n",
       "      <td>32</td>\n",
       "    </tr>\n",
       "    <tr>\n",
       "      <th>3</th>\n",
       "      <td>Biden Is Winning Over More Democrats Than Obam...</td>\n",
       "      <td>7627</td>\n",
       "      <td>politics</td>\n",
       "      <td>12vtljd</td>\n",
       "      <td>https://www.newsweek.com/biden-winning-over-mo...</td>\n",
       "      <td>1226</td>\n",
       "      <td>Biden sure wasn't my favourite in the primarie...</td>\n",
       "      <td>0</td>\n",
       "      <td>327</td>\n",
       "      <td>55</td>\n",
       "    </tr>\n",
       "    <tr>\n",
       "      <th>4</th>\n",
       "      <td>Biden Is Winning Over More Democrats Than Obam...</td>\n",
       "      <td>7627</td>\n",
       "      <td>politics</td>\n",
       "      <td>12vtljd</td>\n",
       "      <td>https://www.newsweek.com/biden-winning-over-mo...</td>\n",
       "      <td>1226</td>\n",
       "      <td>&gt;President Joe Biden currently has a higher jo...</td>\n",
       "      <td>0</td>\n",
       "      <td>296</td>\n",
       "      <td>51</td>\n",
       "    </tr>\n",
       "  </tbody>\n",
       "</table>\n",
       "</div>"
      ],
      "text/plain": [
       "                                               title  score subreddit  \\\n",
       "0  Biden Is Winning Over More Democrats Than Obam...   7627  politics   \n",
       "1  Biden Is Winning Over More Democrats Than Obam...   7627  politics   \n",
       "2  Biden Is Winning Over More Democrats Than Obam...   7627  politics   \n",
       "3  Biden Is Winning Over More Democrats Than Obam...   7627  politics   \n",
       "4  Biden Is Winning Over More Democrats Than Obam...   7627  politics   \n",
       "\n",
       "        id                                                url  num_comments  \\\n",
       "0  12vtljd  https://www.newsweek.com/biden-winning-over-mo...          1226   \n",
       "1  12vtljd  https://www.newsweek.com/biden-winning-over-mo...          1226   \n",
       "2  12vtljd  https://www.newsweek.com/biden-winning-over-mo...          1226   \n",
       "3  12vtljd  https://www.newsweek.com/biden-winning-over-mo...          1226   \n",
       "4  12vtljd  https://www.newsweek.com/biden-winning-over-mo...          1226   \n",
       "\n",
       "                                             comment  target  comment_length  \\\n",
       "0         Helps when the other side is pure fascism.       0              42   \n",
       "1  We know the alternative. \\n\\nThere’s no compar...       1             229   \n",
       "2  For real,  I am just terrified of the Republic...       0             178   \n",
       "3  Biden sure wasn't my favourite in the primarie...       0             327   \n",
       "4  >President Joe Biden currently has a higher jo...       0             296   \n",
       "\n",
       "   comment_word_count  \n",
       "0                   8  \n",
       "1                  40  \n",
       "2                  32  \n",
       "3                  55  \n",
       "4                  51  "
      ]
     },
     "execution_count": 22,
     "metadata": {},
     "output_type": "execute_result"
    }
   ],
   "source": [
    "df.head()"
   ]
  },
  {
   "cell_type": "code",
   "execution_count": 23,
   "id": "7e2e9f63-7e2a-44ea-996e-8e03ce4ddc56",
   "metadata": {
    "tags": []
   },
   "outputs": [],
   "source": [
    "X = df['comment']\n",
    "y = df['target']"
   ]
  },
  {
   "cell_type": "markdown",
   "id": "9ce85b31-5d77-453e-a807-96435a44dd96",
   "metadata": {},
   "source": [
    "Note that I am only using comments as the sole feature as we have established that comment_length, num_comments, comment_word_count has no effect on the target variable. I am also not using the other columns such as subreddit and title, because in the context of the problem statement, there will be no subreddit feature in the actual new test data. I will only have access to the comment itself, therefore the only feature I will be using in the model will be comments."
   ]
  },
  {
   "cell_type": "code",
   "execution_count": 24,
   "id": "ef7c18ca-7410-4a7b-84e1-7b35e781ad5a",
   "metadata": {
    "tags": []
   },
   "outputs": [
    {
     "data": {
      "text/plain": [
       "0    0.847872\n",
       "1    0.152128\n",
       "Name: target, dtype: float64"
      ]
     },
     "execution_count": 24,
     "metadata": {},
     "output_type": "execute_result"
    }
   ],
   "source": [
    "y.value_counts(normalize=True)"
   ]
  },
  {
   "cell_type": "markdown",
   "id": "6dbc0efe-65a9-4e81-863d-08295b529979",
   "metadata": {},
   "source": [
    "As my target class is imbalanced, I must use other metrics besides Accuracy for scoring and to stratify during train test split. I will use f1 score / recall to judge the model's performance."
   ]
  },
  {
   "cell_type": "code",
   "execution_count": 25,
   "id": "6b491cb4-e288-4586-8f9d-ff4696889af9",
   "metadata": {
    "tags": []
   },
   "outputs": [],
   "source": [
    "X_train, X_test, y_train, y_test = train_test_split(X, y, test_size=0.2, random_state=42, stratify= y)"
   ]
  },
  {
   "cell_type": "markdown",
   "id": "2fe5682f-7b93-43bd-9de3-12ced3190d28",
   "metadata": {},
   "source": [
    "Doing my train-test split with stratify to balance the y labels equally between my y_train and y_test."
   ]
  },
  {
   "cell_type": "markdown",
   "id": "b675ce64-fe02-47fb-8bf5-40947fad1619",
   "metadata": {},
   "source": [
    "Also note that no scaling is required for the models I will be running."
   ]
  },
  {
   "cell_type": "markdown",
   "id": "dafb1583-b40f-4ce6-8206-a511ec2c4f28",
   "metadata": {},
   "source": [
    "## Baseline Model Performance "
   ]
  },
  {
   "cell_type": "code",
   "execution_count": 26,
   "id": "39f2d148-0836-4503-8642-47e6a5ff57d5",
   "metadata": {
    "tags": []
   },
   "outputs": [],
   "source": [
    "cvec = CountVectorizer() # Instantiating CountVectorizer"
   ]
  },
  {
   "cell_type": "code",
   "execution_count": 27,
   "id": "87940a35-6ad5-4c53-af61-be7cc858bf67",
   "metadata": {
    "tags": []
   },
   "outputs": [],
   "source": [
    "cvec_X_train = cvec.fit_transform(X_train) #Fit_transform on training data\n",
    "cvec_X_test = cvec.transform(X_test)# transform test data"
   ]
  },
  {
   "cell_type": "code",
   "execution_count": 28,
   "id": "477f34c1-7a4f-4742-950c-449df1b0c3b6",
   "metadata": {
    "tags": []
   },
   "outputs": [],
   "source": [
    "nb_model = MultinomialNB() #Instantiating the model"
   ]
  },
  {
   "cell_type": "code",
   "execution_count": 29,
   "id": "9033b788-8c64-4d11-8f67-a095f03c3bf9",
   "metadata": {
    "tags": []
   },
   "outputs": [
    {
     "data": {
      "text/html": [
       "<style>#sk-container-id-1 {color: black;background-color: white;}#sk-container-id-1 pre{padding: 0;}#sk-container-id-1 div.sk-toggleable {background-color: white;}#sk-container-id-1 label.sk-toggleable__label {cursor: pointer;display: block;width: 100%;margin-bottom: 0;padding: 0.3em;box-sizing: border-box;text-align: center;}#sk-container-id-1 label.sk-toggleable__label-arrow:before {content: \"▸\";float: left;margin-right: 0.25em;color: #696969;}#sk-container-id-1 label.sk-toggleable__label-arrow:hover:before {color: black;}#sk-container-id-1 div.sk-estimator:hover label.sk-toggleable__label-arrow:before {color: black;}#sk-container-id-1 div.sk-toggleable__content {max-height: 0;max-width: 0;overflow: hidden;text-align: left;background-color: #f0f8ff;}#sk-container-id-1 div.sk-toggleable__content pre {margin: 0.2em;color: black;border-radius: 0.25em;background-color: #f0f8ff;}#sk-container-id-1 input.sk-toggleable__control:checked~div.sk-toggleable__content {max-height: 200px;max-width: 100%;overflow: auto;}#sk-container-id-1 input.sk-toggleable__control:checked~label.sk-toggleable__label-arrow:before {content: \"▾\";}#sk-container-id-1 div.sk-estimator input.sk-toggleable__control:checked~label.sk-toggleable__label {background-color: #d4ebff;}#sk-container-id-1 div.sk-label input.sk-toggleable__control:checked~label.sk-toggleable__label {background-color: #d4ebff;}#sk-container-id-1 input.sk-hidden--visually {border: 0;clip: rect(1px 1px 1px 1px);clip: rect(1px, 1px, 1px, 1px);height: 1px;margin: -1px;overflow: hidden;padding: 0;position: absolute;width: 1px;}#sk-container-id-1 div.sk-estimator {font-family: monospace;background-color: #f0f8ff;border: 1px dotted black;border-radius: 0.25em;box-sizing: border-box;margin-bottom: 0.5em;}#sk-container-id-1 div.sk-estimator:hover {background-color: #d4ebff;}#sk-container-id-1 div.sk-parallel-item::after {content: \"\";width: 100%;border-bottom: 1px solid gray;flex-grow: 1;}#sk-container-id-1 div.sk-label:hover label.sk-toggleable__label {background-color: #d4ebff;}#sk-container-id-1 div.sk-serial::before {content: \"\";position: absolute;border-left: 1px solid gray;box-sizing: border-box;top: 0;bottom: 0;left: 50%;z-index: 0;}#sk-container-id-1 div.sk-serial {display: flex;flex-direction: column;align-items: center;background-color: white;padding-right: 0.2em;padding-left: 0.2em;position: relative;}#sk-container-id-1 div.sk-item {position: relative;z-index: 1;}#sk-container-id-1 div.sk-parallel {display: flex;align-items: stretch;justify-content: center;background-color: white;position: relative;}#sk-container-id-1 div.sk-item::before, #sk-container-id-1 div.sk-parallel-item::before {content: \"\";position: absolute;border-left: 1px solid gray;box-sizing: border-box;top: 0;bottom: 0;left: 50%;z-index: -1;}#sk-container-id-1 div.sk-parallel-item {display: flex;flex-direction: column;z-index: 1;position: relative;background-color: white;}#sk-container-id-1 div.sk-parallel-item:first-child::after {align-self: flex-end;width: 50%;}#sk-container-id-1 div.sk-parallel-item:last-child::after {align-self: flex-start;width: 50%;}#sk-container-id-1 div.sk-parallel-item:only-child::after {width: 0;}#sk-container-id-1 div.sk-dashed-wrapped {border: 1px dashed gray;margin: 0 0.4em 0.5em 0.4em;box-sizing: border-box;padding-bottom: 0.4em;background-color: white;}#sk-container-id-1 div.sk-label label {font-family: monospace;font-weight: bold;display: inline-block;line-height: 1.2em;}#sk-container-id-1 div.sk-label-container {text-align: center;}#sk-container-id-1 div.sk-container {/* jupyter's `normalize.less` sets `[hidden] { display: none; }` but bootstrap.min.css set `[hidden] { display: none !important; }` so we also need the `!important` here to be able to override the default hidden behavior on the sphinx rendered scikit-learn.org. See: https://github.com/scikit-learn/scikit-learn/issues/21755 */display: inline-block !important;position: relative;}#sk-container-id-1 div.sk-text-repr-fallback {display: none;}</style><div id=\"sk-container-id-1\" class=\"sk-top-container\"><div class=\"sk-text-repr-fallback\"><pre>MultinomialNB()</pre><b>In a Jupyter environment, please rerun this cell to show the HTML representation or trust the notebook. <br />On GitHub, the HTML representation is unable to render, please try loading this page with nbviewer.org.</b></div><div class=\"sk-container\" hidden><div class=\"sk-item\"><div class=\"sk-estimator sk-toggleable\"><input class=\"sk-toggleable__control sk-hidden--visually\" id=\"sk-estimator-id-1\" type=\"checkbox\" checked><label for=\"sk-estimator-id-1\" class=\"sk-toggleable__label sk-toggleable__label-arrow\">MultinomialNB</label><div class=\"sk-toggleable__content\"><pre>MultinomialNB()</pre></div></div></div></div></div>"
      ],
      "text/plain": [
       "MultinomialNB()"
      ]
     },
     "execution_count": 29,
     "metadata": {},
     "output_type": "execute_result"
    }
   ],
   "source": [
    "nb_model.fit(cvec_X_train,y_train) # fitting the model"
   ]
  },
  {
   "cell_type": "code",
   "execution_count": 30,
   "id": "05e23c17-10bb-4638-8592-3230407308eb",
   "metadata": {
    "tags": []
   },
   "outputs": [
    {
     "data": {
      "text/plain": [
       "0.9439217396722537"
      ]
     },
     "execution_count": 30,
     "metadata": {},
     "output_type": "execute_result"
    }
   ],
   "source": [
    "nb_model.score(cvec_X_train,y_train)"
   ]
  },
  {
   "cell_type": "code",
   "execution_count": 31,
   "id": "98fe51d5-9c89-40be-9b1e-77ad07366e87",
   "metadata": {
    "tags": []
   },
   "outputs": [
    {
     "data": {
      "text/plain": [
       "0.8968352853227012"
      ]
     },
     "execution_count": 31,
     "metadata": {},
     "output_type": "execute_result"
    }
   ],
   "source": [
    "nb_model.score(cvec_X_test,y_test)"
   ]
  },
  {
   "cell_type": "markdown",
   "id": "a17c3d33-8f0d-4fd9-8f32-9d31323f0e13",
   "metadata": {},
   "source": [
    "Checking for overfitting or underfitting, the score for accuracy is pretty good across both training and test sets, however as previously mentioned, as my target classes are imbalanced, I should use other metrics such as f1_score and recall."
   ]
  },
  {
   "cell_type": "code",
   "execution_count": 32,
   "id": "2823b4af-4358-4f7f-bf7c-02d00bb4e142",
   "metadata": {
    "tags": []
   },
   "outputs": [
    {
     "data": {
      "text/plain": [
       "0.486028916043358"
      ]
     },
     "execution_count": 32,
     "metadata": {},
     "output_type": "execute_result"
    }
   ],
   "source": [
    "cross_val_score(nb_model,cvec_X_train,y_train,scoring = metrics.make_scorer(metrics.f1_score)).mean()#mean f1_score across 5 folds "
   ]
  },
  {
   "cell_type": "code",
   "execution_count": 33,
   "id": "c87f73c1-309f-402e-afc7-16b2f33d2f7b",
   "metadata": {
    "tags": []
   },
   "outputs": [
    {
     "data": {
      "text/plain": [
       "0.4205446042441919"
      ]
     },
     "execution_count": 33,
     "metadata": {},
     "output_type": "execute_result"
    }
   ],
   "source": [
    "cross_val_score(nb_model,cvec_X_train,y_train,scoring = metrics.make_scorer(metrics.recall_score)).mean()# mean recall score across 5 folds"
   ]
  },
  {
   "cell_type": "code",
   "execution_count": 34,
   "id": "8ec7880f-d7a5-4c6e-bef6-2981adf5bd1f",
   "metadata": {
    "tags": []
   },
   "outputs": [],
   "source": [
    "y_pred = nb_model.predict(cvec_X_test) # making predictions using test set"
   ]
  },
  {
   "cell_type": "code",
   "execution_count": 35,
   "id": "60f6a984-f7c4-4726-acbb-5ce212d14c57",
   "metadata": {
    "tags": []
   },
   "outputs": [
    {
     "name": "stdout",
     "output_type": "stream",
     "text": [
      "              precision    recall  f1-score   support\n",
      "\n",
      "           0       0.91      0.98      0.94      3403\n",
      "           1       0.79      0.43      0.56       610\n",
      "\n",
      "    accuracy                           0.90      4013\n",
      "   macro avg       0.85      0.71      0.75      4013\n",
      "weighted avg       0.89      0.90      0.88      4013\n",
      "\n"
     ]
    }
   ],
   "source": [
    "baseline_model_scores = (metrics.classification_report(y_test,y_pred))\n",
    "print(baseline_model_scores)# printing classification report"
   ]
  },
  {
   "cell_type": "markdown",
   "id": "4f2e356a-11c9-4c54-8efe-77777ee93d22",
   "metadata": {},
   "source": [
    "The results from the above lines of code shows the average f1 and recall score across 5 folds on the training set and the classification report of the test set.\n",
    "\n",
    "We can see that the test set's f1_score of 0.56 is actually better than the cross validated score of 0.48. This is promising as it means that there is no overfitting.\n",
    "\n",
    "Although it is better, it still isn't particularly impressive with an f1 score of only 0.56. \n",
    "\n",
    "This will be the baseline score to compare against future models after improvements have been done to the dataset."
   ]
  },
  {
   "cell_type": "code",
   "execution_count": 36,
   "id": "2f163d67-8144-440f-930c-228311db1e61",
   "metadata": {
    "tags": []
   },
   "outputs": [
    {
     "data": {
      "image/png": "[encoded data removed]",
      "text/plain": [
       "<Figure size 640x480 with 2 Axes>"
      ]
     },
     "metadata": {},
     "output_type": "display_data"
    }
   ],
   "source": [
    "metrics.ConfusionMatrixDisplay.from_predictions(y_test,y_pred)\n",
    "plt.title('Confusion Matrix of Baseline Model')\n",
    "plt.grid(None)"
   ]
  },
  {
   "cell_type": "markdown",
   "id": "43174418-d1fa-42f5-a73a-68cab128a23c",
   "metadata": {},
   "source": [
    "From the confusion matrix of the baseline model, we can see that the model is not simply predicting everything as the majority class which is a good thing."
   ]
  },
  {
   "cell_type": "markdown",
   "id": "03f28b64-97e4-427b-ab5b-67c5809c082e",
   "metadata": {},
   "source": [
    "# Improving Model Performance"
   ]
  },
  {
   "cell_type": "markdown",
   "id": "e6859e6d-61e1-460b-bbe1-60a8e6fa6888",
   "metadata": {},
   "source": [
    "Having seen the results of the baseline model where none of the usual preprocessing steps for NLP were done, I will now do preprocessing to improve performance.\n",
    "\n",
    "The following will be done:\n",
    "1. Removing special characters\n",
    "1. Removing stopwords\n",
    "1. Lemmatizing\n",
    "1. Tuning vectorizer parameters\n",
    "\n",
    "Let's start with removing special characters."
   ]
  },
  {
   "cell_type": "markdown",
   "id": "5b3b9264-f539-41e6-a2fd-fbac1f89633a",
   "metadata": {},
   "source": [
    "## Removing Special Characters"
   ]
  },
  {
   "cell_type": "markdown",
   "id": "d19c929c-b774-4a21-85c0-e869eb2f935c",
   "metadata": {},
   "source": [
    "Let's first remove all symbols from each comment such as !@#$%^&*()."
   ]
  },
  {
   "cell_type": "code",
   "execution_count": 37,
   "id": "b8952a2d-a21e-4562-ace2-e34e69bf1196",
   "metadata": {
    "tags": []
   },
   "outputs": [
    {
     "data": {
      "text/plain": [
       "'test sentence '"
      ]
     },
     "execution_count": 37,
     "metadata": {},
     "output_type": "execute_result"
    }
   ],
   "source": [
    "test = 'test sentence !!@#$%^&*()__' # test sentence to see if the regex expression is working to remove symbols.\n",
    "re.sub(r'[^a-zA-Z\\d\\s:]','',test)#regex expression to remove all symbols."
   ]
  },
  {
   "cell_type": "code",
   "execution_count": 38,
   "id": "81641e91-f31a-421f-a6c1-23a0b729f1db",
   "metadata": {
    "tags": []
   },
   "outputs": [],
   "source": [
    "df['comment'] = df['comment'].str.replace(r'[^a-zA-Z\\d\\s:]', '', regex=True)#applying the regex expression to my corpus."
   ]
  },
  {
   "cell_type": "markdown",
   "id": "d8719637-53f4-47a5-b0ff-2653c33d2766",
   "metadata": {},
   "source": [
    "Next I will remove all non-english characters"
   ]
  },
  {
   "cell_type": "code",
   "execution_count": 39,
   "id": "22ca98a4-3cd4-47cf-b59a-47e7dca77e18",
   "metadata": {
    "tags": []
   },
   "outputs": [
    {
     "data": {
      "text/plain": [
       "''"
      ]
     },
     "execution_count": 39,
     "metadata": {},
     "output_type": "execute_result"
    }
   ],
   "source": [
    "test = '拿枪射我退退退행복'\n",
    "re.sub(r'[^\\x00-\\x7F]', '', test)#regex expression to remove all non-english characters"
   ]
  },
  {
   "cell_type": "code",
   "execution_count": 40,
   "id": "9a251992-6ada-4160-b4f8-24ebd5e5038d",
   "metadata": {
    "tags": []
   },
   "outputs": [],
   "source": [
    "df['comment'] = df['comment'].str.replace(r'[^\\x00-\\x7F]', '', regex=True)#applying the regex expression to my corpus."
   ]
  },
  {
   "cell_type": "markdown",
   "id": "ff32c050-dabe-422f-901e-7696683f43f0",
   "metadata": {},
   "source": [
    "Next I will also remove all numbers from the corpus.\n",
    "\n",
    "The reason for doing this is in the context of the problem statement that I am trying to identify offensive comments. Offensive comments are almost always said through words and not numbers. I have never heard of people being insulted through using numbers only. If there is, it is extremely rare.\n",
    "\n",
    "As such, I will remove all numbers from the corpus to try and reduce the dimensionality."
   ]
  },
  {
   "cell_type": "code",
   "execution_count": 41,
   "id": "b884783a-6243-4161-9d12-b5e13f0f649f",
   "metadata": {
    "tags": []
   },
   "outputs": [
    {
     "data": {
      "text/plain": [
       "'numbers '"
      ]
     },
     "execution_count": 41,
     "metadata": {},
     "output_type": "execute_result"
    }
   ],
   "source": [
    "test = 'numbers 1234567890'\n",
    "re.sub(r'\\d+', '', test)"
   ]
  },
  {
   "cell_type": "code",
   "execution_count": 42,
   "id": "174dfbc2-cf5d-4e88-8851-151b1348e500",
   "metadata": {
    "tags": []
   },
   "outputs": [],
   "source": [
    "df['comment'] = df['comment'].str.replace(r'\\d+', '', regex=True)#applying the regex expression to my corpus."
   ]
  },
  {
   "cell_type": "markdown",
   "id": "b5b958c4-2da7-40b3-a6db-4e2d3a092978",
   "metadata": {},
   "source": [
    "Removing \\n from the corpus"
   ]
  },
  {
   "cell_type": "code",
   "execution_count": 43,
   "id": "c84b0d3d-45f9-487a-8052-886db790baa6",
   "metadata": {
    "tags": []
   },
   "outputs": [
    {
     "data": {
      "text/plain": [
       "'test sentence '"
      ]
     },
     "execution_count": 43,
     "metadata": {},
     "output_type": "execute_result"
    }
   ],
   "source": [
    "test = 'test sentence \\n' # test sentence to see if the regex expression is working to remove symbols.\n",
    "re.sub(r'[\\n]','',test)#regex expression to remove all symbols."
   ]
  },
  {
   "cell_type": "code",
   "execution_count": 44,
   "id": "ac1c650a-86c8-4c4d-89f3-8646386fa1c5",
   "metadata": {
    "tags": []
   },
   "outputs": [],
   "source": [
    "df['comment'] = df['comment'].str.replace(r'[\\n]', '', regex=True)#applying the regex expression to my corpus."
   ]
  },
  {
   "cell_type": "markdown",
   "id": "7a3ad05f-5cf5-46c5-b30d-d8cb9c05482c",
   "metadata": {},
   "source": [
    "I have now removed special characters which I think negatively affects model performance. Moving on to removing stop words."
   ]
  },
  {
   "cell_type": "markdown",
   "id": "6715e5b1-da0c-40d1-a779-01890309980d",
   "metadata": {},
   "source": [
    "## Removing Stop Words"
   ]
  },
  {
   "cell_type": "code",
   "execution_count": 45,
   "id": "e6b3207f-0751-48d9-9d6a-f1e9e51ec9cc",
   "metadata": {
    "scrolled": true,
    "tags": []
   },
   "outputs": [
    {
     "data": {
      "text/html": [
       "<div>\n",
       "<style scoped>\n",
       "    .dataframe tbody tr th:only-of-type {\n",
       "        vertical-align: middle;\n",
       "    }\n",
       "\n",
       "    .dataframe tbody tr th {\n",
       "        vertical-align: top;\n",
       "    }\n",
       "\n",
       "    .dataframe thead th {\n",
       "        text-align: right;\n",
       "    }\n",
       "</style>\n",
       "<table border=\"1\" class=\"dataframe\">\n",
       "  <thead>\n",
       "    <tr style=\"text-align: right;\">\n",
       "      <th></th>\n",
       "      <th>aaaaand</th>\n",
       "      <th>aaaah</th>\n",
       "      <th>aaaand</th>\n",
       "      <th>aah</th>\n",
       "      <th>aardvark</th>\n",
       "      <th>aaron</th>\n",
       "      <th>aback</th>\n",
       "      <th>abaft</th>\n",
       "      <th>abandon</th>\n",
       "      <th>abandoned</th>\n",
       "      <th>...</th>\n",
       "      <th>zoos</th>\n",
       "      <th>zoosanctuary</th>\n",
       "      <th>zoowildlife</th>\n",
       "      <th>zorba</th>\n",
       "      <th>zscore</th>\n",
       "      <th>zucc</th>\n",
       "      <th>zuckerberg</th>\n",
       "      <th>zuse</th>\n",
       "      <th>zygote</th>\n",
       "      <th>zyrtec</th>\n",
       "    </tr>\n",
       "  </thead>\n",
       "  <tbody>\n",
       "    <tr>\n",
       "      <th>0</th>\n",
       "      <td>0</td>\n",
       "      <td>0</td>\n",
       "      <td>0</td>\n",
       "      <td>0</td>\n",
       "      <td>0</td>\n",
       "      <td>0</td>\n",
       "      <td>0</td>\n",
       "      <td>0</td>\n",
       "      <td>0</td>\n",
       "      <td>0</td>\n",
       "      <td>...</td>\n",
       "      <td>0</td>\n",
       "      <td>0</td>\n",
       "      <td>0</td>\n",
       "      <td>0</td>\n",
       "      <td>0</td>\n",
       "      <td>0</td>\n",
       "      <td>0</td>\n",
       "      <td>0</td>\n",
       "      <td>0</td>\n",
       "      <td>0</td>\n",
       "    </tr>\n",
       "    <tr>\n",
       "      <th>1</th>\n",
       "      <td>0</td>\n",
       "      <td>0</td>\n",
       "      <td>0</td>\n",
       "      <td>0</td>\n",
       "      <td>0</td>\n",
       "      <td>0</td>\n",
       "      <td>0</td>\n",
       "      <td>0</td>\n",
       "      <td>0</td>\n",
       "      <td>0</td>\n",
       "      <td>...</td>\n",
       "      <td>0</td>\n",
       "      <td>0</td>\n",
       "      <td>0</td>\n",
       "      <td>0</td>\n",
       "      <td>0</td>\n",
       "      <td>0</td>\n",
       "      <td>0</td>\n",
       "      <td>0</td>\n",
       "      <td>0</td>\n",
       "      <td>0</td>\n",
       "    </tr>\n",
       "    <tr>\n",
       "      <th>2</th>\n",
       "      <td>0</td>\n",
       "      <td>0</td>\n",
       "      <td>0</td>\n",
       "      <td>0</td>\n",
       "      <td>0</td>\n",
       "      <td>0</td>\n",
       "      <td>0</td>\n",
       "      <td>0</td>\n",
       "      <td>0</td>\n",
       "      <td>0</td>\n",
       "      <td>...</td>\n",
       "      <td>0</td>\n",
       "      <td>0</td>\n",
       "      <td>0</td>\n",
       "      <td>0</td>\n",
       "      <td>0</td>\n",
       "      <td>0</td>\n",
       "      <td>0</td>\n",
       "      <td>0</td>\n",
       "      <td>0</td>\n",
       "      <td>0</td>\n",
       "    </tr>\n",
       "    <tr>\n",
       "      <th>3</th>\n",
       "      <td>0</td>\n",
       "      <td>0</td>\n",
       "      <td>0</td>\n",
       "      <td>0</td>\n",
       "      <td>0</td>\n",
       "      <td>0</td>\n",
       "      <td>0</td>\n",
       "      <td>0</td>\n",
       "      <td>0</td>\n",
       "      <td>0</td>\n",
       "      <td>...</td>\n",
       "      <td>0</td>\n",
       "      <td>0</td>\n",
       "      <td>0</td>\n",
       "      <td>0</td>\n",
       "      <td>0</td>\n",
       "      <td>0</td>\n",
       "      <td>0</td>\n",
       "      <td>0</td>\n",
       "      <td>0</td>\n",
       "      <td>0</td>\n",
       "    </tr>\n",
       "    <tr>\n",
       "      <th>4</th>\n",
       "      <td>0</td>\n",
       "      <td>0</td>\n",
       "      <td>0</td>\n",
       "      <td>0</td>\n",
       "      <td>0</td>\n",
       "      <td>0</td>\n",
       "      <td>0</td>\n",
       "      <td>0</td>\n",
       "      <td>0</td>\n",
       "      <td>0</td>\n",
       "      <td>...</td>\n",
       "      <td>0</td>\n",
       "      <td>0</td>\n",
       "      <td>0</td>\n",
       "      <td>0</td>\n",
       "      <td>0</td>\n",
       "      <td>0</td>\n",
       "      <td>0</td>\n",
       "      <td>0</td>\n",
       "      <td>0</td>\n",
       "      <td>0</td>\n",
       "    </tr>\n",
       "    <tr>\n",
       "      <th>...</th>\n",
       "      <td>...</td>\n",
       "      <td>...</td>\n",
       "      <td>...</td>\n",
       "      <td>...</td>\n",
       "      <td>...</td>\n",
       "      <td>...</td>\n",
       "      <td>...</td>\n",
       "      <td>...</td>\n",
       "      <td>...</td>\n",
       "      <td>...</td>\n",
       "      <td>...</td>\n",
       "      <td>...</td>\n",
       "      <td>...</td>\n",
       "      <td>...</td>\n",
       "      <td>...</td>\n",
       "      <td>...</td>\n",
       "      <td>...</td>\n",
       "      <td>...</td>\n",
       "      <td>...</td>\n",
       "      <td>...</td>\n",
       "      <td>...</td>\n",
       "    </tr>\n",
       "    <tr>\n",
       "      <th>20057</th>\n",
       "      <td>0</td>\n",
       "      <td>0</td>\n",
       "      <td>0</td>\n",
       "      <td>0</td>\n",
       "      <td>0</td>\n",
       "      <td>0</td>\n",
       "      <td>0</td>\n",
       "      <td>0</td>\n",
       "      <td>0</td>\n",
       "      <td>0</td>\n",
       "      <td>...</td>\n",
       "      <td>0</td>\n",
       "      <td>0</td>\n",
       "      <td>0</td>\n",
       "      <td>0</td>\n",
       "      <td>0</td>\n",
       "      <td>0</td>\n",
       "      <td>0</td>\n",
       "      <td>0</td>\n",
       "      <td>0</td>\n",
       "      <td>0</td>\n",
       "    </tr>\n",
       "    <tr>\n",
       "      <th>20058</th>\n",
       "      <td>0</td>\n",
       "      <td>0</td>\n",
       "      <td>0</td>\n",
       "      <td>0</td>\n",
       "      <td>0</td>\n",
       "      <td>0</td>\n",
       "      <td>0</td>\n",
       "      <td>0</td>\n",
       "      <td>0</td>\n",
       "      <td>0</td>\n",
       "      <td>...</td>\n",
       "      <td>0</td>\n",
       "      <td>0</td>\n",
       "      <td>0</td>\n",
       "      <td>0</td>\n",
       "      <td>0</td>\n",
       "      <td>0</td>\n",
       "      <td>0</td>\n",
       "      <td>0</td>\n",
       "      <td>0</td>\n",
       "      <td>0</td>\n",
       "    </tr>\n",
       "    <tr>\n",
       "      <th>20059</th>\n",
       "      <td>0</td>\n",
       "      <td>0</td>\n",
       "      <td>0</td>\n",
       "      <td>0</td>\n",
       "      <td>0</td>\n",
       "      <td>0</td>\n",
       "      <td>0</td>\n",
       "      <td>0</td>\n",
       "      <td>0</td>\n",
       "      <td>0</td>\n",
       "      <td>...</td>\n",
       "      <td>0</td>\n",
       "      <td>0</td>\n",
       "      <td>0</td>\n",
       "      <td>0</td>\n",
       "      <td>0</td>\n",
       "      <td>0</td>\n",
       "      <td>0</td>\n",
       "      <td>0</td>\n",
       "      <td>0</td>\n",
       "      <td>0</td>\n",
       "    </tr>\n",
       "    <tr>\n",
       "      <th>20060</th>\n",
       "      <td>0</td>\n",
       "      <td>0</td>\n",
       "      <td>0</td>\n",
       "      <td>0</td>\n",
       "      <td>0</td>\n",
       "      <td>0</td>\n",
       "      <td>0</td>\n",
       "      <td>0</td>\n",
       "      <td>0</td>\n",
       "      <td>0</td>\n",
       "      <td>...</td>\n",
       "      <td>0</td>\n",
       "      <td>0</td>\n",
       "      <td>0</td>\n",
       "      <td>0</td>\n",
       "      <td>0</td>\n",
       "      <td>0</td>\n",
       "      <td>0</td>\n",
       "      <td>0</td>\n",
       "      <td>0</td>\n",
       "      <td>0</td>\n",
       "    </tr>\n",
       "    <tr>\n",
       "      <th>20061</th>\n",
       "      <td>0</td>\n",
       "      <td>0</td>\n",
       "      <td>0</td>\n",
       "      <td>0</td>\n",
       "      <td>0</td>\n",
       "      <td>0</td>\n",
       "      <td>0</td>\n",
       "      <td>0</td>\n",
       "      <td>0</td>\n",
       "      <td>0</td>\n",
       "      <td>...</td>\n",
       "      <td>0</td>\n",
       "      <td>0</td>\n",
       "      <td>0</td>\n",
       "      <td>0</td>\n",
       "      <td>0</td>\n",
       "      <td>0</td>\n",
       "      <td>0</td>\n",
       "      <td>0</td>\n",
       "      <td>0</td>\n",
       "      <td>0</td>\n",
       "    </tr>\n",
       "  </tbody>\n",
       "</table>\n",
       "<p>20062 rows × 35651 columns</p>\n",
       "</div>"
      ],
      "text/plain": [
       "       aaaaand  aaaah  aaaand  aah  aardvark  aaron  aback  abaft  abandon  \\\n",
       "0            0      0       0    0         0      0      0      0        0   \n",
       "1            0      0       0    0         0      0      0      0        0   \n",
       "2            0      0       0    0         0      0      0      0        0   \n",
       "3            0      0       0    0         0      0      0      0        0   \n",
       "4            0      0       0    0         0      0      0      0        0   \n",
       "...        ...    ...     ...  ...       ...    ...    ...    ...      ...   \n",
       "20057        0      0       0    0         0      0      0      0        0   \n",
       "20058        0      0       0    0         0      0      0      0        0   \n",
       "20059        0      0       0    0         0      0      0      0        0   \n",
       "20060        0      0       0    0         0      0      0      0        0   \n",
       "20061        0      0       0    0         0      0      0      0        0   \n",
       "\n",
       "       abandoned  ...  zoos  zoosanctuary  zoowildlife  zorba  zscore  zucc  \\\n",
       "0              0  ...     0             0            0      0       0     0   \n",
       "1              0  ...     0             0            0      0       0     0   \n",
       "2              0  ...     0             0            0      0       0     0   \n",
       "3              0  ...     0             0            0      0       0     0   \n",
       "4              0  ...     0             0            0      0       0     0   \n",
       "...          ...  ...   ...           ...          ...    ...     ...   ...   \n",
       "20057          0  ...     0             0            0      0       0     0   \n",
       "20058          0  ...     0             0            0      0       0     0   \n",
       "20059          0  ...     0             0            0      0       0     0   \n",
       "20060          0  ...     0             0            0      0       0     0   \n",
       "20061          0  ...     0             0            0      0       0     0   \n",
       "\n",
       "       zuckerberg  zuse  zygote  zyrtec  \n",
       "0               0     0       0       0  \n",
       "1               0     0       0       0  \n",
       "2               0     0       0       0  \n",
       "3               0     0       0       0  \n",
       "4               0     0       0       0  \n",
       "...           ...   ...     ...     ...  \n",
       "20057           0     0       0       0  \n",
       "20058           0     0       0       0  \n",
       "20059           0     0       0       0  \n",
       "20060           0     0       0       0  \n",
       "20061           0     0       0       0  \n",
       "\n",
       "[20062 rows x 35651 columns]"
      ]
     },
     "execution_count": 45,
     "metadata": {},
     "output_type": "execute_result"
    }
   ],
   "source": [
    "cvec_df = pd.DataFrame(cvec.fit_transform(df['comment']).toarray(), columns=cvec.get_feature_names_out())\n",
    "cvec_df"
   ]
  },
  {
   "cell_type": "markdown",
   "id": "85331f7c-98df-415b-8aac-72899efef4d5",
   "metadata": {},
   "source": [
    "I have returned a DataFrame with my X count-vectorized in order to check what are the most frequently occuring words in the dataset and if they are all stopwords. If they are, I will know that I am on the right track by removing stopwords."
   ]
  },
  {
   "cell_type": "code",
   "execution_count": 46,
   "id": "9069da63-48f6-4944-be2c-f2aaec154d9b",
   "metadata": {
    "tags": []
   },
   "outputs": [
    {
     "data": {
      "image/png": "[encoded data removed]",
      "text/plain": [
       "<Figure size 1500x750 with 1 Axes>"
      ]
     },
     "metadata": {},
     "output_type": "display_data"
    }
   ],
   "source": [
    "plt.figure(figsize=(10,5),dpi = 150)\n",
    "sns.barplot(x=cvec_df.sum().sort_values(ascending=False)[0:14].index,y=cvec_df.sum().sort_values(ascending=False)[0:14].values,palette='coolwarm')\n",
    "plt.title('Top 15 Most Common Words')\n",
    "plt.xlabel('Words')\n",
    "plt.xticks(rotation = 45)\n",
    "plt.ylabel('Word Count');\n"
   ]
  },
  {
   "cell_type": "markdown",
   "id": "1959c38b-cdd0-4951-af20-0ae76eca6c5a",
   "metadata": {},
   "source": [
    "From the plot above, we can see the most frequent words in the dataset / corpus are all stopwords. I will remove stopwords in the following models."
   ]
  },
  {
   "cell_type": "markdown",
   "id": "ff97cf50-2183-4d86-aa9a-9ac50c8b1ac2",
   "metadata": {},
   "source": [
    "## Lemmatizing the Corpus"
   ]
  },
  {
   "cell_type": "markdown",
   "id": "a06f7806-2da5-49b9-b325-682e4cd6d0f1",
   "metadata": {},
   "source": [
    "Now I will lemmatize my corpus to reduce the dimensionality and to also try and improve model performance."
   ]
  },
  {
   "cell_type": "code",
   "execution_count": 47,
   "id": "d4679526-d321-487f-9e86-72d108eb1ed6",
   "metadata": {
    "tags": []
   },
   "outputs": [],
   "source": [
    "nlp = spacy.load(\"en_core_web_sm\") # loading spacy to use for lemmatization\n",
    "\n",
    "def lemmatize(document): #function to lemmatize my documents\n",
    "    doc = nlp(document)\n",
    "    lemmatized_text = [word.lemma_ for word in doc]\n",
    "    return \" \".join(lemmatized_text)"
   ]
  },
  {
   "cell_type": "code",
   "execution_count": 48,
   "id": "12e5e708-f6ea-42a6-a3e9-8dcfcdbabf99",
   "metadata": {
    "tags": []
   },
   "outputs": [
    {
     "data": {
      "text/plain": [
       "'I like to go cycle'"
      ]
     },
     "execution_count": 48,
     "metadata": {},
     "output_type": "execute_result"
    }
   ],
   "source": [
    "lemmatize('I like to go cycling') "
   ]
  },
  {
   "cell_type": "markdown",
   "id": "be2e5cfa-88f9-4284-908f-9a2b4b96b58a",
   "metadata": {},
   "source": [
    "Note the output changes the word cycling to cycle. Lemmatizing is working as intended.\n",
    "\n",
    "Now to lemmatize my entire corpus. "
   ]
  },
  {
   "cell_type": "code",
   "execution_count": 49,
   "id": "d591245e-08fb-461e-a6ae-c019b8dbda18",
   "metadata": {
    "tags": []
   },
   "outputs": [
    {
     "name": "stdout",
     "output_type": "stream",
     "text": [
      "CPU times: user 2min 24s, sys: 970 ms, total: 2min 25s\n",
      "Wall time: 2min 26s\n"
     ]
    }
   ],
   "source": [
    "%%time\n",
    "\n",
    "df['comment'] = df['comment'].apply(lemmatize)"
   ]
  },
  {
   "cell_type": "code",
   "execution_count": 50,
   "id": "d2d82eaf-040a-4b8f-b62a-f492054ac10c",
   "metadata": {
    "scrolled": true,
    "tags": []
   },
   "outputs": [
    {
     "data": {
      "text/html": [
       "<div>\n",
       "<style scoped>\n",
       "    .dataframe tbody tr th:only-of-type {\n",
       "        vertical-align: middle;\n",
       "    }\n",
       "\n",
       "    .dataframe tbody tr th {\n",
       "        vertical-align: top;\n",
       "    }\n",
       "\n",
       "    .dataframe thead th {\n",
       "        text-align: right;\n",
       "    }\n",
       "</style>\n",
       "<table border=\"1\" class=\"dataframe\">\n",
       "  <thead>\n",
       "    <tr style=\"text-align: right;\">\n",
       "      <th></th>\n",
       "      <th>title</th>\n",
       "      <th>score</th>\n",
       "      <th>subreddit</th>\n",
       "      <th>id</th>\n",
       "      <th>url</th>\n",
       "      <th>num_comments</th>\n",
       "      <th>comment</th>\n",
       "      <th>target</th>\n",
       "      <th>comment_length</th>\n",
       "      <th>comment_word_count</th>\n",
       "    </tr>\n",
       "  </thead>\n",
       "  <tbody>\n",
       "    <tr>\n",
       "      <th>0</th>\n",
       "      <td>Biden Is Winning Over More Democrats Than Obam...</td>\n",
       "      <td>7627</td>\n",
       "      <td>politics</td>\n",
       "      <td>12vtljd</td>\n",
       "      <td>https://www.newsweek.com/biden-winning-over-mo...</td>\n",
       "      <td>1226</td>\n",
       "      <td>help when the other side be pure fascism</td>\n",
       "      <td>0</td>\n",
       "      <td>42</td>\n",
       "      <td>8</td>\n",
       "    </tr>\n",
       "    <tr>\n",
       "      <th>1</th>\n",
       "      <td>Biden Is Winning Over More Democrats Than Obam...</td>\n",
       "      <td>7627</td>\n",
       "      <td>politics</td>\n",
       "      <td>12vtljd</td>\n",
       "      <td>https://www.newsweek.com/biden-winning-over-mo...</td>\n",
       "      <td>1226</td>\n",
       "      <td>we know the alternative there s no comparison ...</td>\n",
       "      <td>1</td>\n",
       "      <td>229</td>\n",
       "      <td>40</td>\n",
       "    </tr>\n",
       "    <tr>\n",
       "      <th>2</th>\n",
       "      <td>Biden Is Winning Over More Democrats Than Obam...</td>\n",
       "      <td>7627</td>\n",
       "      <td>politics</td>\n",
       "      <td>12vtljd</td>\n",
       "      <td>https://www.newsweek.com/biden-winning-over-mo...</td>\n",
       "      <td>1226</td>\n",
       "      <td>for real   I be just terrified of the Republic...</td>\n",
       "      <td>0</td>\n",
       "      <td>178</td>\n",
       "      <td>32</td>\n",
       "    </tr>\n",
       "    <tr>\n",
       "      <th>3</th>\n",
       "      <td>Biden Is Winning Over More Democrats Than Obam...</td>\n",
       "      <td>7627</td>\n",
       "      <td>politics</td>\n",
       "      <td>12vtljd</td>\n",
       "      <td>https://www.newsweek.com/biden-winning-over-mo...</td>\n",
       "      <td>1226</td>\n",
       "      <td>Biden sure be not my favourite in the primary ...</td>\n",
       "      <td>0</td>\n",
       "      <td>327</td>\n",
       "      <td>55</td>\n",
       "    </tr>\n",
       "    <tr>\n",
       "      <th>4</th>\n",
       "      <td>Biden Is Winning Over More Democrats Than Obam...</td>\n",
       "      <td>7627</td>\n",
       "      <td>politics</td>\n",
       "      <td>12vtljd</td>\n",
       "      <td>https://www.newsweek.com/biden-winning-over-mo...</td>\n",
       "      <td>1226</td>\n",
       "      <td>President Joe Biden currently have a high job ...</td>\n",
       "      <td>0</td>\n",
       "      <td>296</td>\n",
       "      <td>51</td>\n",
       "    </tr>\n",
       "    <tr>\n",
       "      <th>...</th>\n",
       "      <td>...</td>\n",
       "      <td>...</td>\n",
       "      <td>...</td>\n",
       "      <td>...</td>\n",
       "      <td>...</td>\n",
       "      <td>...</td>\n",
       "      <td>...</td>\n",
       "      <td>...</td>\n",
       "      <td>...</td>\n",
       "      <td>...</td>\n",
       "    </tr>\n",
       "    <tr>\n",
       "      <th>20057</th>\n",
       "      <td>Mom wants stepdad to adopt me so she can inher...</td>\n",
       "      <td>3055</td>\n",
       "      <td>entitledparents</td>\n",
       "      <td>12km7ji</td>\n",
       "      <td>https://www.reddit.com/r/entitledparents/comme...</td>\n",
       "      <td>392</td>\n",
       "      <td>do not sound line you have anything in inherit...</td>\n",
       "      <td>0</td>\n",
       "      <td>107</td>\n",
       "      <td>17</td>\n",
       "    </tr>\n",
       "    <tr>\n",
       "      <th>20058</th>\n",
       "      <td>Mom wants stepdad to adopt me so she can inher...</td>\n",
       "      <td>3055</td>\n",
       "      <td>entitledparents</td>\n",
       "      <td>12km7ji</td>\n",
       "      <td>https://www.reddit.com/r/entitledparents/comme...</td>\n",
       "      <td>392</td>\n",
       "      <td>why be she so concerned about you die do you h...</td>\n",
       "      <td>0</td>\n",
       "      <td>134</td>\n",
       "      <td>25</td>\n",
       "    </tr>\n",
       "    <tr>\n",
       "      <th>20059</th>\n",
       "      <td>Mom wants stepdad to adopt me so she can inher...</td>\n",
       "      <td>3055</td>\n",
       "      <td>entitledparents</td>\n",
       "      <td>12km7ji</td>\n",
       "      <td>https://www.reddit.com/r/entitledparents/comme...</td>\n",
       "      <td>392</td>\n",
       "      <td>be it even possible for your stepdad to adopt ...</td>\n",
       "      <td>0</td>\n",
       "      <td>130</td>\n",
       "      <td>25</td>\n",
       "    </tr>\n",
       "    <tr>\n",
       "      <th>20060</th>\n",
       "      <td>Mom wants stepdad to adopt me so she can inher...</td>\n",
       "      <td>3055</td>\n",
       "      <td>entitledparents</td>\n",
       "      <td>12km7ji</td>\n",
       "      <td>https://www.reddit.com/r/entitledparents/comme...</td>\n",
       "      <td>392</td>\n",
       "      <td>burn I with all my stuff its mine my cousin ac...</td>\n",
       "      <td>0</td>\n",
       "      <td>75</td>\n",
       "      <td>13</td>\n",
       "    </tr>\n",
       "    <tr>\n",
       "      <th>20061</th>\n",
       "      <td>Mom wants stepdad to adopt me so she can inher...</td>\n",
       "      <td>3055</td>\n",
       "      <td>entitledparents</td>\n",
       "      <td>12km7ji</td>\n",
       "      <td>https://www.reddit.com/r/entitledparents/comme...</td>\n",
       "      <td>392</td>\n",
       "      <td>I would just saydont worry about it I ve alrea...</td>\n",
       "      <td>0</td>\n",
       "      <td>561</td>\n",
       "      <td>104</td>\n",
       "    </tr>\n",
       "  </tbody>\n",
       "</table>\n",
       "<p>20062 rows × 10 columns</p>\n",
       "</div>"
      ],
      "text/plain": [
       "                                                   title  score  \\\n",
       "0      Biden Is Winning Over More Democrats Than Obam...   7627   \n",
       "1      Biden Is Winning Over More Democrats Than Obam...   7627   \n",
       "2      Biden Is Winning Over More Democrats Than Obam...   7627   \n",
       "3      Biden Is Winning Over More Democrats Than Obam...   7627   \n",
       "4      Biden Is Winning Over More Democrats Than Obam...   7627   \n",
       "...                                                  ...    ...   \n",
       "20057  Mom wants stepdad to adopt me so she can inher...   3055   \n",
       "20058  Mom wants stepdad to adopt me so she can inher...   3055   \n",
       "20059  Mom wants stepdad to adopt me so she can inher...   3055   \n",
       "20060  Mom wants stepdad to adopt me so she can inher...   3055   \n",
       "20061  Mom wants stepdad to adopt me so she can inher...   3055   \n",
       "\n",
       "             subreddit       id  \\\n",
       "0             politics  12vtljd   \n",
       "1             politics  12vtljd   \n",
       "2             politics  12vtljd   \n",
       "3             politics  12vtljd   \n",
       "4             politics  12vtljd   \n",
       "...                ...      ...   \n",
       "20057  entitledparents  12km7ji   \n",
       "20058  entitledparents  12km7ji   \n",
       "20059  entitledparents  12km7ji   \n",
       "20060  entitledparents  12km7ji   \n",
       "20061  entitledparents  12km7ji   \n",
       "\n",
       "                                                     url  num_comments  \\\n",
       "0      https://www.newsweek.com/biden-winning-over-mo...          1226   \n",
       "1      https://www.newsweek.com/biden-winning-over-mo...          1226   \n",
       "2      https://www.newsweek.com/biden-winning-over-mo...          1226   \n",
       "3      https://www.newsweek.com/biden-winning-over-mo...          1226   \n",
       "4      https://www.newsweek.com/biden-winning-over-mo...          1226   \n",
       "...                                                  ...           ...   \n",
       "20057  https://www.reddit.com/r/entitledparents/comme...           392   \n",
       "20058  https://www.reddit.com/r/entitledparents/comme...           392   \n",
       "20059  https://www.reddit.com/r/entitledparents/comme...           392   \n",
       "20060  https://www.reddit.com/r/entitledparents/comme...           392   \n",
       "20061  https://www.reddit.com/r/entitledparents/comme...           392   \n",
       "\n",
       "                                                 comment  target  \\\n",
       "0               help when the other side be pure fascism       0   \n",
       "1      we know the alternative there s no comparison ...       1   \n",
       "2      for real   I be just terrified of the Republic...       0   \n",
       "3      Biden sure be not my favourite in the primary ...       0   \n",
       "4      President Joe Biden currently have a high job ...       0   \n",
       "...                                                  ...     ...   \n",
       "20057  do not sound line you have anything in inherit...       0   \n",
       "20058  why be she so concerned about you die do you h...       0   \n",
       "20059  be it even possible for your stepdad to adopt ...       0   \n",
       "20060  burn I with all my stuff its mine my cousin ac...       0   \n",
       "20061  I would just saydont worry about it I ve alrea...       0   \n",
       "\n",
       "       comment_length  comment_word_count  \n",
       "0                  42                   8  \n",
       "1                 229                  40  \n",
       "2                 178                  32  \n",
       "3                 327                  55  \n",
       "4                 296                  51  \n",
       "...               ...                 ...  \n",
       "20057             107                  17  \n",
       "20058             134                  25  \n",
       "20059             130                  25  \n",
       "20060              75                  13  \n",
       "20061             561                 104  \n",
       "\n",
       "[20062 rows x 10 columns]"
      ]
     },
     "execution_count": 50,
     "metadata": {},
     "output_type": "execute_result"
    }
   ],
   "source": [
    "df"
   ]
  },
  {
   "cell_type": "markdown",
   "id": "8b2e445b-1f2d-464e-b2d4-34dbe553cb7c",
   "metadata": {},
   "source": [
    "DataFrame with lemmatized text, special characters removed. I will now fit the next set of models with this improved dataset and to remove stopwords during vectorizing."
   ]
  },
  {
   "cell_type": "markdown",
   "id": "58f8b281-ad9f-452c-9a14-e47ce68da12e",
   "metadata": {},
   "source": [
    "# Second Round of Model Fitting "
   ]
  },
  {
   "cell_type": "code",
   "execution_count": 51,
   "id": "66d189ef-c91c-407a-9aee-8a4e060680ad",
   "metadata": {
    "tags": []
   },
   "outputs": [],
   "source": [
    "X = df['comment']\n",
    "y = df['target']"
   ]
  },
  {
   "cell_type": "code",
   "execution_count": 52,
   "id": "44c29868-4ebf-43ef-913d-e400576b6a4e",
   "metadata": {
    "tags": []
   },
   "outputs": [],
   "source": [
    "X_train, X_test, y_train, y_test = train_test_split(X, y, test_size=0.2, random_state=42, stratify= y)"
   ]
  },
  {
   "cell_type": "code",
   "execution_count": 53,
   "id": "5628b382-89b9-4208-81f6-450a6b234b02",
   "metadata": {
    "tags": []
   },
   "outputs": [],
   "source": [
    "cvec_pipe = Pipeline([\n",
    "    ('cvec', CountVectorizer(stop_words='english')), # tuple for transformer object, class\n",
    "    ('nb', MultinomialNB()) # tuple for estimator object, class\n",
    "])"
   ]
  },
  {
   "cell_type": "markdown",
   "id": "da092723-7439-4571-a5cf-05a2faa26635",
   "metadata": {},
   "source": [
    "Building my pipeline to fit the model.\n",
    "\n",
    "Note the parameter stop_words in CountVectorizer, this is to remove all stop_words as previously discussed."
   ]
  },
  {
   "cell_type": "code",
   "execution_count": 54,
   "id": "8406e065-ae0c-41af-81da-263151c28a12",
   "metadata": {
    "tags": []
   },
   "outputs": [],
   "source": [
    "cvec_pipe_params = {\n",
    "    'cvec__max_features': [5000, 10000, 15000, 20000], # start with CountVectorizer() class' object cvec__CountVectorizer()'s hyperparameter\n",
    "    'cvec__min_df': [2, 3],\n",
    "    'cvec__max_df': [.9, .95],\n",
    "    'cvec__ngram_range': [(1,1), (1,2)] # test unigram only (1,1) and unigram+bigram (1,2)\n",
    "} # standard param dict definition for GridSearch CV"
   ]
  },
  {
   "cell_type": "markdown",
   "id": "ae9a5ab1-56c7-4783-a520-6c499ca5724e",
   "metadata": {},
   "source": [
    "Creating my parameters dictionary for the Gridsearch to try. \n",
    "\n",
    "1. cvec__max_features is the number of most frequent words that the vectorizer will include in the matrix. This is as having too many unique words may be too complex and take up too much space.\n",
    "1. cvec__min_df is the minimum number the word / token must appear before it is used. As if the word only appears in one document, it is an outlier and may not matter.\n",
    "1. cvec__max_df is the opposite, where if a word appears in all documents, that means it may not be useful in predicting whether a comment is offensive or not\n",
    "1. cvec__ngram_range is to try unigram or unigram and bigram, as words have an order to them and taken together may be better at improving model performance."
   ]
  },
  {
   "cell_type": "code",
   "execution_count": 55,
   "id": "3678e993-31c0-457a-bfc1-43677f38b456",
   "metadata": {
    "tags": []
   },
   "outputs": [],
   "source": [
    "# Instantiate GridSearchCV.\n",
    "\n",
    "cvec_gs = GridSearchCV(cvec_pipe,\n",
    "                  param_grid=cvec_pipe_params, \n",
    "                  cv=5,\n",
    "                 verbose=1)"
   ]
  },
  {
   "cell_type": "code",
   "execution_count": 56,
   "id": "4bed391d-28ce-46dc-80a2-11ec81a05c6f",
   "metadata": {
    "tags": []
   },
   "outputs": [
    {
     "name": "stdout",
     "output_type": "stream",
     "text": [
      "Fitting 5 folds for each of 32 candidates, totalling 160 fits\n",
      "CPU times: user 53.7 s, sys: 889 ms, total: 54.6 s\n",
      "Wall time: 55.2 s\n"
     ]
    },
    {
     "data": {
      "text/html": [
       "<style>#sk-container-id-2 {color: black;background-color: white;}#sk-container-id-2 pre{padding: 0;}#sk-container-id-2 div.sk-toggleable {background-color: white;}#sk-container-id-2 label.sk-toggleable__label {cursor: pointer;display: block;width: 100%;margin-bottom: 0;padding: 0.3em;box-sizing: border-box;text-align: center;}#sk-container-id-2 label.sk-toggleable__label-arrow:before {content: \"▸\";float: left;margin-right: 0.25em;color: #696969;}#sk-container-id-2 label.sk-toggleable__label-arrow:hover:before {color: black;}#sk-container-id-2 div.sk-estimator:hover label.sk-toggleable__label-arrow:before {color: black;}#sk-container-id-2 div.sk-toggleable__content {max-height: 0;max-width: 0;overflow: hidden;text-align: left;background-color: #f0f8ff;}#sk-container-id-2 div.sk-toggleable__content pre {margin: 0.2em;color: black;border-radius: 0.25em;background-color: #f0f8ff;}#sk-container-id-2 input.sk-toggleable__control:checked~div.sk-toggleable__content {max-height: 200px;max-width: 100%;overflow: auto;}#sk-container-id-2 input.sk-toggleable__control:checked~label.sk-toggleable__label-arrow:before {content: \"▾\";}#sk-container-id-2 div.sk-estimator input.sk-toggleable__control:checked~label.sk-toggleable__label {background-color: #d4ebff;}#sk-container-id-2 div.sk-label input.sk-toggleable__control:checked~label.sk-toggleable__label {background-color: #d4ebff;}#sk-container-id-2 input.sk-hidden--visually {border: 0;clip: rect(1px 1px 1px 1px);clip: rect(1px, 1px, 1px, 1px);height: 1px;margin: -1px;overflow: hidden;padding: 0;position: absolute;width: 1px;}#sk-container-id-2 div.sk-estimator {font-family: monospace;background-color: #f0f8ff;border: 1px dotted black;border-radius: 0.25em;box-sizing: border-box;margin-bottom: 0.5em;}#sk-container-id-2 div.sk-estimator:hover {background-color: #d4ebff;}#sk-container-id-2 div.sk-parallel-item::after {content: \"\";width: 100%;border-bottom: 1px solid gray;flex-grow: 1;}#sk-container-id-2 div.sk-label:hover label.sk-toggleable__label {background-color: #d4ebff;}#sk-container-id-2 div.sk-serial::before {content: \"\";position: absolute;border-left: 1px solid gray;box-sizing: border-box;top: 0;bottom: 0;left: 50%;z-index: 0;}#sk-container-id-2 div.sk-serial {display: flex;flex-direction: column;align-items: center;background-color: white;padding-right: 0.2em;padding-left: 0.2em;position: relative;}#sk-container-id-2 div.sk-item {position: relative;z-index: 1;}#sk-container-id-2 div.sk-parallel {display: flex;align-items: stretch;justify-content: center;background-color: white;position: relative;}#sk-container-id-2 div.sk-item::before, #sk-container-id-2 div.sk-parallel-item::before {content: \"\";position: absolute;border-left: 1px solid gray;box-sizing: border-box;top: 0;bottom: 0;left: 50%;z-index: -1;}#sk-container-id-2 div.sk-parallel-item {display: flex;flex-direction: column;z-index: 1;position: relative;background-color: white;}#sk-container-id-2 div.sk-parallel-item:first-child::after {align-self: flex-end;width: 50%;}#sk-container-id-2 div.sk-parallel-item:last-child::after {align-self: flex-start;width: 50%;}#sk-container-id-2 div.sk-parallel-item:only-child::after {width: 0;}#sk-container-id-2 div.sk-dashed-wrapped {border: 1px dashed gray;margin: 0 0.4em 0.5em 0.4em;box-sizing: border-box;padding-bottom: 0.4em;background-color: white;}#sk-container-id-2 div.sk-label label {font-family: monospace;font-weight: bold;display: inline-block;line-height: 1.2em;}#sk-container-id-2 div.sk-label-container {text-align: center;}#sk-container-id-2 div.sk-container {/* jupyter's `normalize.less` sets `[hidden] { display: none; }` but bootstrap.min.css set `[hidden] { display: none !important; }` so we also need the `!important` here to be able to override the default hidden behavior on the sphinx rendered scikit-learn.org. See: https://github.com/scikit-learn/scikit-learn/issues/21755 */display: inline-block !important;position: relative;}#sk-container-id-2 div.sk-text-repr-fallback {display: none;}</style><div id=\"sk-container-id-2\" class=\"sk-top-container\"><div class=\"sk-text-repr-fallback\"><pre>GridSearchCV(cv=5,\n",
       "             estimator=Pipeline(steps=[(&#x27;cvec&#x27;,\n",
       "                                        CountVectorizer(stop_words=&#x27;english&#x27;)),\n",
       "                                       (&#x27;nb&#x27;, MultinomialNB())]),\n",
       "             param_grid={&#x27;cvec__max_df&#x27;: [0.9, 0.95],\n",
       "                         &#x27;cvec__max_features&#x27;: [5000, 10000, 15000, 20000],\n",
       "                         &#x27;cvec__min_df&#x27;: [2, 3],\n",
       "                         &#x27;cvec__ngram_range&#x27;: [(1, 1), (1, 2)]},\n",
       "             verbose=1)</pre><b>In a Jupyter environment, please rerun this cell to show the HTML representation or trust the notebook. <br />On GitHub, the HTML representation is unable to render, please try loading this page with nbviewer.org.</b></div><div class=\"sk-container\" hidden><div class=\"sk-item sk-dashed-wrapped\"><div class=\"sk-label-container\"><div class=\"sk-label sk-toggleable\"><input class=\"sk-toggleable__control sk-hidden--visually\" id=\"sk-estimator-id-2\" type=\"checkbox\" ><label for=\"sk-estimator-id-2\" class=\"sk-toggleable__label sk-toggleable__label-arrow\">GridSearchCV</label><div class=\"sk-toggleable__content\"><pre>GridSearchCV(cv=5,\n",
       "             estimator=Pipeline(steps=[(&#x27;cvec&#x27;,\n",
       "                                        CountVectorizer(stop_words=&#x27;english&#x27;)),\n",
       "                                       (&#x27;nb&#x27;, MultinomialNB())]),\n",
       "             param_grid={&#x27;cvec__max_df&#x27;: [0.9, 0.95],\n",
       "                         &#x27;cvec__max_features&#x27;: [5000, 10000, 15000, 20000],\n",
       "                         &#x27;cvec__min_df&#x27;: [2, 3],\n",
       "                         &#x27;cvec__ngram_range&#x27;: [(1, 1), (1, 2)]},\n",
       "             verbose=1)</pre></div></div></div><div class=\"sk-parallel\"><div class=\"sk-parallel-item\"><div class=\"sk-item\"><div class=\"sk-label-container\"><div class=\"sk-label sk-toggleable\"><input class=\"sk-toggleable__control sk-hidden--visually\" id=\"sk-estimator-id-3\" type=\"checkbox\" ><label for=\"sk-estimator-id-3\" class=\"sk-toggleable__label sk-toggleable__label-arrow\">estimator: Pipeline</label><div class=\"sk-toggleable__content\"><pre>Pipeline(steps=[(&#x27;cvec&#x27;, CountVectorizer(stop_words=&#x27;english&#x27;)),\n",
       "                (&#x27;nb&#x27;, MultinomialNB())])</pre></div></div></div><div class=\"sk-serial\"><div class=\"sk-item\"><div class=\"sk-serial\"><div class=\"sk-item\"><div class=\"sk-estimator sk-toggleable\"><input class=\"sk-toggleable__control sk-hidden--visually\" id=\"sk-estimator-id-4\" type=\"checkbox\" ><label for=\"sk-estimator-id-4\" class=\"sk-toggleable__label sk-toggleable__label-arrow\">CountVectorizer</label><div class=\"sk-toggleable__content\"><pre>CountVectorizer(stop_words=&#x27;english&#x27;)</pre></div></div></div><div class=\"sk-item\"><div class=\"sk-estimator sk-toggleable\"><input class=\"sk-toggleable__control sk-hidden--visually\" id=\"sk-estimator-id-5\" type=\"checkbox\" ><label for=\"sk-estimator-id-5\" class=\"sk-toggleable__label sk-toggleable__label-arrow\">MultinomialNB</label><div class=\"sk-toggleable__content\"><pre>MultinomialNB()</pre></div></div></div></div></div></div></div></div></div></div></div></div>"
      ],
      "text/plain": [
       "GridSearchCV(cv=5,\n",
       "             estimator=Pipeline(steps=[('cvec',\n",
       "                                        CountVectorizer(stop_words='english')),\n",
       "                                       ('nb', MultinomialNB())]),\n",
       "             param_grid={'cvec__max_df': [0.9, 0.95],\n",
       "                         'cvec__max_features': [5000, 10000, 15000, 20000],\n",
       "                         'cvec__min_df': [2, 3],\n",
       "                         'cvec__ngram_range': [(1, 1), (1, 2)]},\n",
       "             verbose=1)"
      ]
     },
     "execution_count": 56,
     "metadata": {},
     "output_type": "execute_result"
    }
   ],
   "source": [
    "%%time\n",
    "\n",
    "cvec_gs.fit(X_train,y_train)"
   ]
  },
  {
   "cell_type": "code",
   "execution_count": 57,
   "id": "7c6cfe51-a5dc-49cf-b881-f0f54c1ef787",
   "metadata": {
    "tags": []
   },
   "outputs": [
    {
     "data": {
      "text/plain": [
       "{'cvec__max_df': 0.9,\n",
       " 'cvec__max_features': 10000,\n",
       " 'cvec__min_df': 2,\n",
       " 'cvec__ngram_range': (1, 1)}"
      ]
     },
     "execution_count": 57,
     "metadata": {},
     "output_type": "execute_result"
    }
   ],
   "source": [
    "cvec_gs.best_params_"
   ]
  },
  {
   "cell_type": "markdown",
   "id": "ff7a0412-daf6-46b1-9c96-d6f818c79fec",
   "metadata": {},
   "source": [
    "Here are the best parameters found by the gridsearch."
   ]
  },
  {
   "cell_type": "code",
   "execution_count": 58,
   "id": "192785b8-b2d3-470f-ac9a-5819eb5f8851",
   "metadata": {
    "tags": []
   },
   "outputs": [
    {
     "data": {
      "text/plain": [
       "0.8390663390663391"
      ]
     },
     "execution_count": 58,
     "metadata": {},
     "output_type": "execute_result"
    }
   ],
   "source": [
    "metrics.recall_score(y_train,cvec_gs.predict(X_train))# recall score for training set"
   ]
  },
  {
   "cell_type": "code",
   "execution_count": 59,
   "id": "1451c8ca-443a-44ac-b466-459aab70ce6c",
   "metadata": {
    "tags": []
   },
   "outputs": [],
   "source": [
    "y_pred = cvec_gs.predict(X_test)"
   ]
  },
  {
   "cell_type": "code",
   "execution_count": 60,
   "id": "8492739c-fafa-496e-92fd-dffa82f48736",
   "metadata": {
    "tags": []
   },
   "outputs": [
    {
     "name": "stdout",
     "output_type": "stream",
     "text": [
      "              precision    recall  f1-score   support\n",
      "\n",
      "           0       0.94      0.96      0.95      3403\n",
      "           1       0.73      0.64      0.68       610\n",
      "\n",
      "    accuracy                           0.91      4013\n",
      "   macro avg       0.83      0.80      0.81      4013\n",
      "weighted avg       0.90      0.91      0.91      4013\n",
      "\n"
     ]
    }
   ],
   "source": [
    "improved_model_score = (metrics.classification_report(y_test,y_pred)) \n",
    "print(improved_model_score)# printing classification report"
   ]
  },
  {
   "cell_type": "markdown",
   "id": "85978d2a-b3f3-4c49-8d2c-477a12141cb4",
   "metadata": {},
   "source": [
    "The improved model does perform better compared to the baseline model based on the f1 score for the offensive target label. The f1-score improved from 0.56 to 0.68, and more importantly the recall score for offensive comments improved from 0.43 to 0.64. This means that the lemmatizing, removing stopwords, removing special characters, and tuning the vectorizer parameters did help.\n",
    "\n",
    "However, the model has now become overfit as shown in the recall_score on the training set which is 0.83. I will need to try and make the model less overfit."
   ]
  },
  {
   "cell_type": "code",
   "execution_count": 61,
   "id": "5c418ee2-c7e2-4cee-a4e5-7c012afdde87",
   "metadata": {
    "tags": []
   },
   "outputs": [
    {
     "data": {
      "image/png": "[encoded data removed]",
      "text/plain": [
       "<Figure size 640x480 with 2 Axes>"
      ]
     },
     "metadata": {},
     "output_type": "display_data"
    }
   ],
   "source": [
    "metrics.ConfusionMatrixDisplay.from_predictions(y_test,y_pred)\n",
    "plt.title('Confusion Matrix of Improved NB Model')\n",
    "plt.grid(None)"
   ]
  },
  {
   "cell_type": "markdown",
   "id": "0f6b7bdf-1ecc-43b8-8796-0ef26cf46701",
   "metadata": {},
   "source": [
    "Confusion Matrix for this model. Notice that there are more correct predictions for offensive comments in this model after improvements were made."
   ]
  },
  {
   "cell_type": "markdown",
   "id": "6ee1ede2-b772-4d72-8f8b-3eba5778a679",
   "metadata": {},
   "source": [
    "# Downsampling to Improve Model Performance"
   ]
  },
  {
   "cell_type": "markdown",
   "id": "aedf4d24-ed93-4340-8d43-db06f26c4328",
   "metadata": {},
   "source": [
    "I will now try to further improve model performance and reduce overfitting by downsampling. Recall that the target classes are heavily imbalanced even after I scraped data from subreddits which were likely to have more offensive comments."
   ]
  },
  {
   "cell_type": "code",
   "execution_count": 62,
   "id": "82b257dd-9f04-4d15-a522-f46cc2e59ca7",
   "metadata": {
    "tags": []
   },
   "outputs": [
    {
     "data": {
      "text/plain": [
       "0    0.847872\n",
       "1    0.152128\n",
       "Name: target, dtype: float64"
      ]
     },
     "execution_count": 62,
     "metadata": {},
     "output_type": "execute_result"
    }
   ],
   "source": [
    "df['target'].value_counts(normalize=True)"
   ]
  },
  {
   "cell_type": "markdown",
   "id": "f71d1d32-894c-4d68-97a3-217dca3ef1b0",
   "metadata": {},
   "source": [
    "As shown above, the target classes are imbalanced, I will downsample to have a 50-50 split and pass this dataset to the model to see if it improves performance."
   ]
  },
  {
   "cell_type": "code",
   "execution_count": 63,
   "id": "d42e7a6f-b51c-4415-b8df-0b0c25b51b51",
   "metadata": {
    "tags": []
   },
   "outputs": [],
   "source": [
    "# Separating the majority and minority classes\n",
    "majority_class = df[df['target'] == 0]\n",
    "minority_class = df[df['target'] == 1]"
   ]
  },
  {
   "cell_type": "code",
   "execution_count": 64,
   "id": "c35dd38a-b0e9-4488-9bd8-6a551c463481",
   "metadata": {
    "tags": []
   },
   "outputs": [],
   "source": [
    "# Downsampling the majority class\n",
    "majority_downsampled = resample(majority_class,\n",
    "                                replace=False, # Sample without replacement so that there is no chance to take the same row value.\n",
    "                                n_samples=len(minority_class), # Match minority class size so that the target classes are 50:50\n",
    "                                random_state=42) \n"
   ]
  },
  {
   "cell_type": "code",
   "execution_count": 65,
   "id": "55d1e9f9-74fd-4e79-b680-de02cdc2ecfe",
   "metadata": {
    "tags": []
   },
   "outputs": [],
   "source": [
    "# Combine the downsampled majority class with the minority class\n",
    "downsampled = pd.concat([majority_downsampled, minority_class])"
   ]
  },
  {
   "cell_type": "code",
   "execution_count": 66,
   "id": "87dd8eef-7751-4194-af39-1219fe45a84a",
   "metadata": {
    "tags": []
   },
   "outputs": [],
   "source": [
    "# Shuffle the combined dataset to avoid bias\n",
    "downsampled = downsampled.sample(frac=1, random_state=42)"
   ]
  },
  {
   "cell_type": "code",
   "execution_count": 67,
   "id": "4a5100d9-c9da-4de2-bcd9-b013bc95f947",
   "metadata": {
    "scrolled": true,
    "tags": []
   },
   "outputs": [
    {
     "data": {
      "text/html": [
       "<div>\n",
       "<style scoped>\n",
       "    .dataframe tbody tr th:only-of-type {\n",
       "        vertical-align: middle;\n",
       "    }\n",
       "\n",
       "    .dataframe tbody tr th {\n",
       "        vertical-align: top;\n",
       "    }\n",
       "\n",
       "    .dataframe thead th {\n",
       "        text-align: right;\n",
       "    }\n",
       "</style>\n",
       "<table border=\"1\" class=\"dataframe\">\n",
       "  <thead>\n",
       "    <tr style=\"text-align: right;\">\n",
       "      <th></th>\n",
       "      <th>title</th>\n",
       "      <th>score</th>\n",
       "      <th>subreddit</th>\n",
       "      <th>id</th>\n",
       "      <th>url</th>\n",
       "      <th>num_comments</th>\n",
       "      <th>comment</th>\n",
       "      <th>target</th>\n",
       "      <th>comment_length</th>\n",
       "      <th>comment_word_count</th>\n",
       "    </tr>\n",
       "  </thead>\n",
       "  <tbody>\n",
       "    <tr>\n",
       "      <th>15043</th>\n",
       "      <td>Boston Marathon runner takes a shit in OP's ya...</td>\n",
       "      <td>3073</td>\n",
       "      <td>SubredditDrama</td>\n",
       "      <td>12psgfk</td>\n",
       "      <td>https://www.reddit.com/r/SubredditDrama/commen...</td>\n",
       "      <td>1126</td>\n",
       "      <td>I get that running shit happen and happen pret...</td>\n",
       "      <td>1</td>\n",
       "      <td>314</td>\n",
       "      <td>59</td>\n",
       "    </tr>\n",
       "    <tr>\n",
       "      <th>12163</th>\n",
       "      <td>Parking Spot Karen Loses It When Someone Parks...</td>\n",
       "      <td>71</td>\n",
       "      <td>PublicFreakout</td>\n",
       "      <td>12xs2uc</td>\n",
       "      <td>https://v.redd.it/al4ktc21nvva1</td>\n",
       "      <td>36</td>\n",
       "      <td>an entire subdivision of the same shitty house...</td>\n",
       "      <td>1</td>\n",
       "      <td>90</td>\n",
       "      <td>16</td>\n",
       "    </tr>\n",
       "    <tr>\n",
       "      <th>60</th>\n",
       "      <td>Trump team texts are \"stronger evidence\" of Ge...</td>\n",
       "      <td>4781</td>\n",
       "      <td>politics</td>\n",
       "      <td>12vhq9y</td>\n",
       "      <td>https://www.newsweek.com/trump-team-texts-are-...</td>\n",
       "      <td>114</td>\n",
       "      <td>hey make sure you do not forget Lindsey Graham...</td>\n",
       "      <td>0</td>\n",
       "      <td>59</td>\n",
       "      <td>11</td>\n",
       "    </tr>\n",
       "    <tr>\n",
       "      <th>1826</th>\n",
       "      <td>What going on here</td>\n",
       "      <td>10312</td>\n",
       "      <td>funny</td>\n",
       "      <td>12vauh4</td>\n",
       "      <td>https://v.redd.it/cxicu90f5iva1</td>\n",
       "      <td>683</td>\n",
       "      <td>Establish Dominance with the old hump and wack</td>\n",
       "      <td>0</td>\n",
       "      <td>47</td>\n",
       "      <td>8</td>\n",
       "    </tr>\n",
       "    <tr>\n",
       "      <th>14172</th>\n",
       "      <td>When are the stupid questions during interview...</td>\n",
       "      <td>22</td>\n",
       "      <td>antiwork</td>\n",
       "      <td>12y0kvi</td>\n",
       "      <td>https://www.reddit.com/r/antiwork/comments/12y...</td>\n",
       "      <td>10</td>\n",
       "      <td>they ll only get bad due to more stupid people...</td>\n",
       "      <td>1</td>\n",
       "      <td>81</td>\n",
       "      <td>14</td>\n",
       "    </tr>\n",
       "    <tr>\n",
       "      <th>...</th>\n",
       "      <td>...</td>\n",
       "      <td>...</td>\n",
       "      <td>...</td>\n",
       "      <td>...</td>\n",
       "      <td>...</td>\n",
       "      <td>...</td>\n",
       "      <td>...</td>\n",
       "      <td>...</td>\n",
       "      <td>...</td>\n",
       "      <td>...</td>\n",
       "    </tr>\n",
       "    <tr>\n",
       "      <th>6951</th>\n",
       "      <td>If God is inherently good, why did he create a...</td>\n",
       "      <td>38</td>\n",
       "      <td>AskReddit</td>\n",
       "      <td>12w12bv</td>\n",
       "      <td>https://www.reddit.com/r/AskReddit/comments/12...</td>\n",
       "      <td>232</td>\n",
       "      <td>People be scared of die so they make shit up</td>\n",
       "      <td>1</td>\n",
       "      <td>47</td>\n",
       "      <td>10</td>\n",
       "    </tr>\n",
       "    <tr>\n",
       "      <th>15504</th>\n",
       "      <td>Joe Rogan user is having a rational conversati...</td>\n",
       "      <td>770</td>\n",
       "      <td>SubredditDrama</td>\n",
       "      <td>12kezkq</td>\n",
       "      <td>https://old.reddit.com/r/JoeRogan/comments/12i...</td>\n",
       "      <td>1012</td>\n",
       "      <td>its interesting how many caveman still walk ar...</td>\n",
       "      <td>1</td>\n",
       "      <td>222</td>\n",
       "      <td>39</td>\n",
       "    </tr>\n",
       "    <tr>\n",
       "      <th>15666</th>\n",
       "      <td>OP claims to have taken weeks hand painting 40...</td>\n",
       "      <td>791</td>\n",
       "      <td>SubredditDrama</td>\n",
       "      <td>12j2jgk</td>\n",
       "      <td>https://www.reddit.com/r/SubredditDrama/commen...</td>\n",
       "      <td>96</td>\n",
       "      <td>okay disregard the fact that its mostly fake h...</td>\n",
       "      <td>1</td>\n",
       "      <td>146</td>\n",
       "      <td>24</td>\n",
       "    </tr>\n",
       "    <tr>\n",
       "      <th>16310</th>\n",
       "      <td>Stop recording me whilst I unlawfully arrest you</td>\n",
       "      <td>60863</td>\n",
       "      <td>facepalm</td>\n",
       "      <td>12xhcjk</td>\n",
       "      <td>https://v.redd.it/tel86mqqcuva1</td>\n",
       "      <td>3984</td>\n",
       "      <td>now imagine this scenario play out where this ...</td>\n",
       "      <td>1</td>\n",
       "      <td>248</td>\n",
       "      <td>40</td>\n",
       "    </tr>\n",
       "    <tr>\n",
       "      <th>13303</th>\n",
       "      <td>How my workplace (fast-food) feels about it’s ...</td>\n",
       "      <td>334</td>\n",
       "      <td>antiwork</td>\n",
       "      <td>12xuaa1</td>\n",
       "      <td>https://i.redd.it/jys8i24vdut91.jpg</td>\n",
       "      <td>80</td>\n",
       "      <td>when I yell at MY ACTUAL child I be the TYPE o...</td>\n",
       "      <td>0</td>\n",
       "      <td>279</td>\n",
       "      <td>52</td>\n",
       "    </tr>\n",
       "  </tbody>\n",
       "</table>\n",
       "<p>6104 rows × 10 columns</p>\n",
       "</div>"
      ],
      "text/plain": [
       "                                                   title  score  \\\n",
       "15043  Boston Marathon runner takes a shit in OP's ya...   3073   \n",
       "12163  Parking Spot Karen Loses It When Someone Parks...     71   \n",
       "60     Trump team texts are \"stronger evidence\" of Ge...   4781   \n",
       "1826                                  What going on here  10312   \n",
       "14172  When are the stupid questions during interview...     22   \n",
       "...                                                  ...    ...   \n",
       "6951   If God is inherently good, why did he create a...     38   \n",
       "15504  Joe Rogan user is having a rational conversati...    770   \n",
       "15666  OP claims to have taken weeks hand painting 40...    791   \n",
       "16310   Stop recording me whilst I unlawfully arrest you  60863   \n",
       "13303  How my workplace (fast-food) feels about it’s ...    334   \n",
       "\n",
       "            subreddit       id  \\\n",
       "15043  SubredditDrama  12psgfk   \n",
       "12163  PublicFreakout  12xs2uc   \n",
       "60           politics  12vhq9y   \n",
       "1826            funny  12vauh4   \n",
       "14172        antiwork  12y0kvi   \n",
       "...               ...      ...   \n",
       "6951        AskReddit  12w12bv   \n",
       "15504  SubredditDrama  12kezkq   \n",
       "15666  SubredditDrama  12j2jgk   \n",
       "16310        facepalm  12xhcjk   \n",
       "13303        antiwork  12xuaa1   \n",
       "\n",
       "                                                     url  num_comments  \\\n",
       "15043  https://www.reddit.com/r/SubredditDrama/commen...          1126   \n",
       "12163                    https://v.redd.it/al4ktc21nvva1            36   \n",
       "60     https://www.newsweek.com/trump-team-texts-are-...           114   \n",
       "1826                     https://v.redd.it/cxicu90f5iva1           683   \n",
       "14172  https://www.reddit.com/r/antiwork/comments/12y...            10   \n",
       "...                                                  ...           ...   \n",
       "6951   https://www.reddit.com/r/AskReddit/comments/12...           232   \n",
       "15504  https://old.reddit.com/r/JoeRogan/comments/12i...          1012   \n",
       "15666  https://www.reddit.com/r/SubredditDrama/commen...            96   \n",
       "16310                    https://v.redd.it/tel86mqqcuva1          3984   \n",
       "13303                https://i.redd.it/jys8i24vdut91.jpg            80   \n",
       "\n",
       "                                                 comment  target  \\\n",
       "15043  I get that running shit happen and happen pret...       1   \n",
       "12163  an entire subdivision of the same shitty house...       1   \n",
       "60     hey make sure you do not forget Lindsey Graham...       0   \n",
       "1826      Establish Dominance with the old hump and wack       0   \n",
       "14172  they ll only get bad due to more stupid people...       1   \n",
       "...                                                  ...     ...   \n",
       "6951        People be scared of die so they make shit up       1   \n",
       "15504  its interesting how many caveman still walk ar...       1   \n",
       "15666  okay disregard the fact that its mostly fake h...       1   \n",
       "16310  now imagine this scenario play out where this ...       1   \n",
       "13303  when I yell at MY ACTUAL child I be the TYPE o...       0   \n",
       "\n",
       "       comment_length  comment_word_count  \n",
       "15043             314                  59  \n",
       "12163              90                  16  \n",
       "60                 59                  11  \n",
       "1826               47                   8  \n",
       "14172              81                  14  \n",
       "...               ...                 ...  \n",
       "6951               47                  10  \n",
       "15504             222                  39  \n",
       "15666             146                  24  \n",
       "16310             248                  40  \n",
       "13303             279                  52  \n",
       "\n",
       "[6104 rows x 10 columns]"
      ]
     },
     "execution_count": 67,
     "metadata": {},
     "output_type": "execute_result"
    }
   ],
   "source": [
    "downsampled"
   ]
  },
  {
   "cell_type": "code",
   "execution_count": 68,
   "id": "b6b3bc79-f839-401e-a3af-0d176011b301",
   "metadata": {
    "tags": []
   },
   "outputs": [
    {
     "data": {
      "text/plain": [
       "1    0.5\n",
       "0    0.5\n",
       "Name: target, dtype: float64"
      ]
     },
     "execution_count": 68,
     "metadata": {},
     "output_type": "execute_result"
    }
   ],
   "source": [
    "downsampled['target'].value_counts(normalize=True)"
   ]
  },
  {
   "cell_type": "markdown",
   "id": "67e187f1-f2d2-4abe-b894-ecbc962ff24a",
   "metadata": {},
   "source": [
    "Here is my dataset with balanced classes. I will now try to fit this dataset to the same model."
   ]
  },
  {
   "cell_type": "markdown",
   "id": "b38de475-ff10-4860-97ec-62d755f7978e",
   "metadata": {},
   "source": [
    "## Model Fitting with Downsampled Dataset"
   ]
  },
  {
   "cell_type": "code",
   "execution_count": 69,
   "id": "bc040288-5e1d-4c8e-9bb4-1d24b0239be0",
   "metadata": {
    "tags": []
   },
   "outputs": [],
   "source": [
    "X = downsampled['comment']\n",
    "y = downsampled['target']"
   ]
  },
  {
   "cell_type": "code",
   "execution_count": 70,
   "id": "c0c03f01-f158-4e2d-9000-d702fb8260a6",
   "metadata": {
    "tags": []
   },
   "outputs": [],
   "source": [
    "X_train, X_test, y_train, y_test = train_test_split(X, y, test_size=0.2, random_state=42, stratify= y)"
   ]
  },
  {
   "cell_type": "markdown",
   "id": "1b342a35-dfd9-4da8-8984-61118072856e",
   "metadata": {},
   "source": [
    "I will now run the downsampled data through the same gridsearch pipeline I previously created with the same parameters."
   ]
  },
  {
   "cell_type": "code",
   "execution_count": 71,
   "id": "ba29b56a-0a5a-49e0-9d48-22d6b5606cdb",
   "metadata": {
    "tags": []
   },
   "outputs": [
    {
     "name": "stdout",
     "output_type": "stream",
     "text": [
      "Fitting 5 folds for each of 32 candidates, totalling 160 fits\n",
      "CPU times: user 14.8 s, sys: 123 ms, total: 14.9 s\n",
      "Wall time: 15 s\n"
     ]
    },
    {
     "data": {
      "text/html": [
       "<style>#sk-container-id-3 {color: black;background-color: white;}#sk-container-id-3 pre{padding: 0;}#sk-container-id-3 div.sk-toggleable {background-color: white;}#sk-container-id-3 label.sk-toggleable__label {cursor: pointer;display: block;width: 100%;margin-bottom: 0;padding: 0.3em;box-sizing: border-box;text-align: center;}#sk-container-id-3 label.sk-toggleable__label-arrow:before {content: \"▸\";float: left;margin-right: 0.25em;color: #696969;}#sk-container-id-3 label.sk-toggleable__label-arrow:hover:before {color: black;}#sk-container-id-3 div.sk-estimator:hover label.sk-toggleable__label-arrow:before {color: black;}#sk-container-id-3 div.sk-toggleable__content {max-height: 0;max-width: 0;overflow: hidden;text-align: left;background-color: #f0f8ff;}#sk-container-id-3 div.sk-toggleable__content pre {margin: 0.2em;color: black;border-radius: 0.25em;background-color: #f0f8ff;}#sk-container-id-3 input.sk-toggleable__control:checked~div.sk-toggleable__content {max-height: 200px;max-width: 100%;overflow: auto;}#sk-container-id-3 input.sk-toggleable__control:checked~label.sk-toggleable__label-arrow:before {content: \"▾\";}#sk-container-id-3 div.sk-estimator input.sk-toggleable__control:checked~label.sk-toggleable__label {background-color: #d4ebff;}#sk-container-id-3 div.sk-label input.sk-toggleable__control:checked~label.sk-toggleable__label {background-color: #d4ebff;}#sk-container-id-3 input.sk-hidden--visually {border: 0;clip: rect(1px 1px 1px 1px);clip: rect(1px, 1px, 1px, 1px);height: 1px;margin: -1px;overflow: hidden;padding: 0;position: absolute;width: 1px;}#sk-container-id-3 div.sk-estimator {font-family: monospace;background-color: #f0f8ff;border: 1px dotted black;border-radius: 0.25em;box-sizing: border-box;margin-bottom: 0.5em;}#sk-container-id-3 div.sk-estimator:hover {background-color: #d4ebff;}#sk-container-id-3 div.sk-parallel-item::after {content: \"\";width: 100%;border-bottom: 1px solid gray;flex-grow: 1;}#sk-container-id-3 div.sk-label:hover label.sk-toggleable__label {background-color: #d4ebff;}#sk-container-id-3 div.sk-serial::before {content: \"\";position: absolute;border-left: 1px solid gray;box-sizing: border-box;top: 0;bottom: 0;left: 50%;z-index: 0;}#sk-container-id-3 div.sk-serial {display: flex;flex-direction: column;align-items: center;background-color: white;padding-right: 0.2em;padding-left: 0.2em;position: relative;}#sk-container-id-3 div.sk-item {position: relative;z-index: 1;}#sk-container-id-3 div.sk-parallel {display: flex;align-items: stretch;justify-content: center;background-color: white;position: relative;}#sk-container-id-3 div.sk-item::before, #sk-container-id-3 div.sk-parallel-item::before {content: \"\";position: absolute;border-left: 1px solid gray;box-sizing: border-box;top: 0;bottom: 0;left: 50%;z-index: -1;}#sk-container-id-3 div.sk-parallel-item {display: flex;flex-direction: column;z-index: 1;position: relative;background-color: white;}#sk-container-id-3 div.sk-parallel-item:first-child::after {align-self: flex-end;width: 50%;}#sk-container-id-3 div.sk-parallel-item:last-child::after {align-self: flex-start;width: 50%;}#sk-container-id-3 div.sk-parallel-item:only-child::after {width: 0;}#sk-container-id-3 div.sk-dashed-wrapped {border: 1px dashed gray;margin: 0 0.4em 0.5em 0.4em;box-sizing: border-box;padding-bottom: 0.4em;background-color: white;}#sk-container-id-3 div.sk-label label {font-family: monospace;font-weight: bold;display: inline-block;line-height: 1.2em;}#sk-container-id-3 div.sk-label-container {text-align: center;}#sk-container-id-3 div.sk-container {/* jupyter's `normalize.less` sets `[hidden] { display: none; }` but bootstrap.min.css set `[hidden] { display: none !important; }` so we also need the `!important` here to be able to override the default hidden behavior on the sphinx rendered scikit-learn.org. See: https://github.com/scikit-learn/scikit-learn/issues/21755 */display: inline-block !important;position: relative;}#sk-container-id-3 div.sk-text-repr-fallback {display: none;}</style><div id=\"sk-container-id-3\" class=\"sk-top-container\"><div class=\"sk-text-repr-fallback\"><pre>GridSearchCV(cv=5,\n",
       "             estimator=Pipeline(steps=[(&#x27;cvec&#x27;,\n",
       "                                        CountVectorizer(stop_words=&#x27;english&#x27;)),\n",
       "                                       (&#x27;nb&#x27;, MultinomialNB())]),\n",
       "             param_grid={&#x27;cvec__max_df&#x27;: [0.9, 0.95],\n",
       "                         &#x27;cvec__max_features&#x27;: [5000, 10000, 15000, 20000],\n",
       "                         &#x27;cvec__min_df&#x27;: [2, 3],\n",
       "                         &#x27;cvec__ngram_range&#x27;: [(1, 1), (1, 2)]},\n",
       "             verbose=1)</pre><b>In a Jupyter environment, please rerun this cell to show the HTML representation or trust the notebook. <br />On GitHub, the HTML representation is unable to render, please try loading this page with nbviewer.org.</b></div><div class=\"sk-container\" hidden><div class=\"sk-item sk-dashed-wrapped\"><div class=\"sk-label-container\"><div class=\"sk-label sk-toggleable\"><input class=\"sk-toggleable__control sk-hidden--visually\" id=\"sk-estimator-id-6\" type=\"checkbox\" ><label for=\"sk-estimator-id-6\" class=\"sk-toggleable__label sk-toggleable__label-arrow\">GridSearchCV</label><div class=\"sk-toggleable__content\"><pre>GridSearchCV(cv=5,\n",
       "             estimator=Pipeline(steps=[(&#x27;cvec&#x27;,\n",
       "                                        CountVectorizer(stop_words=&#x27;english&#x27;)),\n",
       "                                       (&#x27;nb&#x27;, MultinomialNB())]),\n",
       "             param_grid={&#x27;cvec__max_df&#x27;: [0.9, 0.95],\n",
       "                         &#x27;cvec__max_features&#x27;: [5000, 10000, 15000, 20000],\n",
       "                         &#x27;cvec__min_df&#x27;: [2, 3],\n",
       "                         &#x27;cvec__ngram_range&#x27;: [(1, 1), (1, 2)]},\n",
       "             verbose=1)</pre></div></div></div><div class=\"sk-parallel\"><div class=\"sk-parallel-item\"><div class=\"sk-item\"><div class=\"sk-label-container\"><div class=\"sk-label sk-toggleable\"><input class=\"sk-toggleable__control sk-hidden--visually\" id=\"sk-estimator-id-7\" type=\"checkbox\" ><label for=\"sk-estimator-id-7\" class=\"sk-toggleable__label sk-toggleable__label-arrow\">estimator: Pipeline</label><div class=\"sk-toggleable__content\"><pre>Pipeline(steps=[(&#x27;cvec&#x27;, CountVectorizer(stop_words=&#x27;english&#x27;)),\n",
       "                (&#x27;nb&#x27;, MultinomialNB())])</pre></div></div></div><div class=\"sk-serial\"><div class=\"sk-item\"><div class=\"sk-serial\"><div class=\"sk-item\"><div class=\"sk-estimator sk-toggleable\"><input class=\"sk-toggleable__control sk-hidden--visually\" id=\"sk-estimator-id-8\" type=\"checkbox\" ><label for=\"sk-estimator-id-8\" class=\"sk-toggleable__label sk-toggleable__label-arrow\">CountVectorizer</label><div class=\"sk-toggleable__content\"><pre>CountVectorizer(stop_words=&#x27;english&#x27;)</pre></div></div></div><div class=\"sk-item\"><div class=\"sk-estimator sk-toggleable\"><input class=\"sk-toggleable__control sk-hidden--visually\" id=\"sk-estimator-id-9\" type=\"checkbox\" ><label for=\"sk-estimator-id-9\" class=\"sk-toggleable__label sk-toggleable__label-arrow\">MultinomialNB</label><div class=\"sk-toggleable__content\"><pre>MultinomialNB()</pre></div></div></div></div></div></div></div></div></div></div></div></div>"
      ],
      "text/plain": [
       "GridSearchCV(cv=5,\n",
       "             estimator=Pipeline(steps=[('cvec',\n",
       "                                        CountVectorizer(stop_words='english')),\n",
       "                                       ('nb', MultinomialNB())]),\n",
       "             param_grid={'cvec__max_df': [0.9, 0.95],\n",
       "                         'cvec__max_features': [5000, 10000, 15000, 20000],\n",
       "                         'cvec__min_df': [2, 3],\n",
       "                         'cvec__ngram_range': [(1, 1), (1, 2)]},\n",
       "             verbose=1)"
      ]
     },
     "execution_count": 71,
     "metadata": {},
     "output_type": "execute_result"
    }
   ],
   "source": [
    "%%time\n",
    "\n",
    "cvec_gs.fit(X_train,y_train)"
   ]
  },
  {
   "cell_type": "code",
   "execution_count": 72,
   "id": "4c5ffee9-4531-4267-9929-430750af5909",
   "metadata": {
    "tags": []
   },
   "outputs": [
    {
     "data": {
      "text/plain": [
       "{'cvec__max_df': 0.9,\n",
       " 'cvec__max_features': 5000,\n",
       " 'cvec__min_df': 2,\n",
       " 'cvec__ngram_range': (1, 2)}"
      ]
     },
     "execution_count": 72,
     "metadata": {},
     "output_type": "execute_result"
    }
   ],
   "source": [
    "cvec_gs.best_params_"
   ]
  },
  {
   "cell_type": "markdown",
   "id": "7cf26e76-36a4-4131-a61c-4bef9ee08eac",
   "metadata": {},
   "source": [
    "Here are the best parameters found by the gridsearch. It has chosen different best parameters compared to the dataset without downsampling. It has chosen 5000 max features instead of 10000 which is to be expected since there are much less rows than the previous dataset meaning there are less unique words.\n",
    "\n",
    "For the ngram_range, the best parameter is (1,2) which means that unigram and bigram was chosen, instead of the previous only unigram being chosen."
   ]
  },
  {
   "cell_type": "code",
   "execution_count": 73,
   "id": "afeeb343-ddf1-4a6c-b08a-ff9f6b6c88ec",
   "metadata": {
    "tags": []
   },
   "outputs": [
    {
     "data": {
      "text/plain": [
       "0.9692874692874693"
      ]
     },
     "execution_count": 73,
     "metadata": {},
     "output_type": "execute_result"
    }
   ],
   "source": [
    "metrics.recall_score(y_train,cvec_gs.predict(X_train))#recall score for training set."
   ]
  },
  {
   "cell_type": "code",
   "execution_count": 74,
   "id": "eb07ef86-caa4-4af1-8b68-3b06aed3c91b",
   "metadata": {
    "tags": []
   },
   "outputs": [],
   "source": [
    "y_pred = cvec_gs.predict(X_test)"
   ]
  },
  {
   "cell_type": "code",
   "execution_count": 75,
   "id": "0bd0d7b5-add9-40a7-8f4f-ec7f042a39ce",
   "metadata": {
    "tags": []
   },
   "outputs": [
    {
     "name": "stdout",
     "output_type": "stream",
     "text": [
      "              precision    recall  f1-score   support\n",
      "\n",
      "           0       0.88      0.59      0.71       611\n",
      "           1       0.69      0.92      0.79       610\n",
      "\n",
      "    accuracy                           0.75      1221\n",
      "   macro avg       0.79      0.75      0.75      1221\n",
      "weighted avg       0.79      0.75      0.75      1221\n",
      "\n",
      "Downsampled MultinomialNB model score\n",
      "\n",
      "              precision    recall  f1-score   support\n",
      "\n",
      "           0       0.94      0.96      0.95      3403\n",
      "           1       0.73      0.64      0.68       610\n",
      "\n",
      "    accuracy                           0.91      4013\n",
      "   macro avg       0.83      0.80      0.81      4013\n",
      "weighted avg       0.90      0.91      0.91      4013\n",
      "\n",
      "MultinomialNB model score\n"
     ]
    }
   ],
   "source": [
    "downsampled_model_score = metrics.classification_report(y_test,y_pred)\n",
    "print(downsampled_model_score)\n",
    "print('Downsampled MultinomialNB model score\\n')\n",
    "print(improved_model_score)\n",
    "print('MultinomialNB model score')"
   ]
  },
  {
   "cell_type": "markdown",
   "id": "6564ea54-7d77-4fcf-b459-25f69eb7e132",
   "metadata": {},
   "source": [
    "Here are the classification reports for the downsampled model (on the top), and the model without downsampling (on the bottom).\n",
    "\n",
    "As expected, the f1-score for my offensive y labels have improved significantly from an f1 score of 0.68 to 0.79. In particular, the recall score has improved from 0.64 to 0.92, which is a great improvement. Also notice that the model is significantly less overfit compared to the previous model.\n",
    "\n",
    "However, the f1 and recall score for the non-offensive y labels have dropped from 0.95 to 0.71 and 0.96 to 0.59 for f1-score and recall respectively which is due to the fact that there is less of these rows in the dataset.\n",
    "\n",
    "To decide which model to choose, in the context of the problem statement, it would depend on what the school wants to identify. Whether identifying as many offensive comments as possible regardless of the number of false positives is their priority or if they wanted to not be too strict on what was restricted and to let some offensive comments through to reduce false positives.\n",
    "\n",
    "In this case, I will prioritise a higher recall at the expense of precision for my offensive comments as this is more importanat to the school. Therefore, between these 2 models. The model with downsampled dataset is better."
   ]
  },
  {
   "cell_type": "code",
   "execution_count": 76,
   "id": "18336549-e3d2-4868-be34-c8a4eef4174a",
   "metadata": {
    "tags": []
   },
   "outputs": [
    {
     "data": {
      "image/png": "[encoded data removed]",
      "text/plain": [
       "<Figure size 640x480 with 2 Axes>"
      ]
     },
     "metadata": {},
     "output_type": "display_data"
    }
   ],
   "source": [
    "metrics.ConfusionMatrixDisplay.from_predictions(y_test,y_pred)\n",
    "plt.title('Confusion Matrix of Downsampled NB Model')\n",
    "plt.grid(None)"
   ]
  },
  {
   "cell_type": "markdown",
   "id": "0a7b3936-8739-49c4-aa5b-04029247cbd1",
   "metadata": {},
   "source": [
    "Notice the high number of True Positives the model has predicted."
   ]
  },
  {
   "cell_type": "markdown",
   "id": "884d3704-99d9-4092-bd9c-72477c0d14ec",
   "metadata": {
    "tags": []
   },
   "source": [
    "# Random Forest Model"
   ]
  },
  {
   "cell_type": "markdown",
   "id": "4966d61a-db3b-4a09-b804-0c834fc72411",
   "metadata": {},
   "source": [
    "I will now try to fit the data to a random forest model to see if it improves performance."
   ]
  },
  {
   "cell_type": "code",
   "execution_count": 77,
   "id": "4f6b8dfc-44eb-4fce-a8e7-ac735d4159e5",
   "metadata": {
    "tags": []
   },
   "outputs": [],
   "source": [
    "rf_cvec_pipe = Pipeline([\n",
    "    ('cvec', CountVectorizer(stop_words='english',max_df=0.9,max_features=5000,min_df=2,ngram_range=(1,2))), # tuple for transformer object, class\n",
    "    ('rf', RandomForestClassifier()) # tuple for estimator object, class\n",
    "])"
   ]
  },
  {
   "cell_type": "markdown",
   "id": "c3553f4d-05ba-400f-9a02-b30f794da176",
   "metadata": {},
   "source": [
    "Building a new pipeline with random forest as the estimator this time instead of MultinomialNB. \n",
    "\n",
    "Notice that I have instantiated the CountVectorizer with the best parameters found in the previous gridsearch and not including in the params dictionary this time to reduce fitting time and complexity."
   ]
  },
  {
   "cell_type": "code",
   "execution_count": 78,
   "id": "74485895-ca46-42aa-8c75-57bc54663485",
   "metadata": {
    "tags": []
   },
   "outputs": [],
   "source": [
    "rf_cvec_pipe_params = {\n",
    "    'rf__n_estimators': [100,200,300], # no. of trees to make\n",
    "    'rf__max_depth': [3,4,5], # how many layers can the trees grow\n",
    "    'rf__min_samples_split': [10,50,100] # how many samples needs to be in the node before splitting\n",
    "} # standard param dict definition for GridSearch CV"
   ]
  },
  {
   "cell_type": "code",
   "execution_count": 79,
   "id": "5e30c738-d0cb-47b3-8425-13ddc1c568d5",
   "metadata": {
    "tags": []
   },
   "outputs": [],
   "source": [
    "# Instantiate GridSearchCV.\n",
    "\n",
    "rf_cvec_gs = GridSearchCV(rf_cvec_pipe,\n",
    "                  param_grid=rf_cvec_pipe_params, \n",
    "                  cv=5,\n",
    "                 verbose=1)"
   ]
  },
  {
   "cell_type": "code",
   "execution_count": 80,
   "id": "d20006a7-a631-41c6-aa6e-71b6f190c768",
   "metadata": {
    "tags": []
   },
   "outputs": [
    {
     "name": "stdout",
     "output_type": "stream",
     "text": [
      "Fitting 5 folds for each of 27 candidates, totalling 135 fits\n",
      "CPU times: user 38.9 s, sys: 320 ms, total: 39.2 s\n",
      "Wall time: 39.4 s\n"
     ]
    },
    {
     "data": {
      "text/html": [
       "<style>#sk-container-id-4 {color: black;background-color: white;}#sk-container-id-4 pre{padding: 0;}#sk-container-id-4 div.sk-toggleable {background-color: white;}#sk-container-id-4 label.sk-toggleable__label {cursor: pointer;display: block;width: 100%;margin-bottom: 0;padding: 0.3em;box-sizing: border-box;text-align: center;}#sk-container-id-4 label.sk-toggleable__label-arrow:before {content: \"▸\";float: left;margin-right: 0.25em;color: #696969;}#sk-container-id-4 label.sk-toggleable__label-arrow:hover:before {color: black;}#sk-container-id-4 div.sk-estimator:hover label.sk-toggleable__label-arrow:before {color: black;}#sk-container-id-4 div.sk-toggleable__content {max-height: 0;max-width: 0;overflow: hidden;text-align: left;background-color: #f0f8ff;}#sk-container-id-4 div.sk-toggleable__content pre {margin: 0.2em;color: black;border-radius: 0.25em;background-color: #f0f8ff;}#sk-container-id-4 input.sk-toggleable__control:checked~div.sk-toggleable__content {max-height: 200px;max-width: 100%;overflow: auto;}#sk-container-id-4 input.sk-toggleable__control:checked~label.sk-toggleable__label-arrow:before {content: \"▾\";}#sk-container-id-4 div.sk-estimator input.sk-toggleable__control:checked~label.sk-toggleable__label {background-color: #d4ebff;}#sk-container-id-4 div.sk-label input.sk-toggleable__control:checked~label.sk-toggleable__label {background-color: #d4ebff;}#sk-container-id-4 input.sk-hidden--visually {border: 0;clip: rect(1px 1px 1px 1px);clip: rect(1px, 1px, 1px, 1px);height: 1px;margin: -1px;overflow: hidden;padding: 0;position: absolute;width: 1px;}#sk-container-id-4 div.sk-estimator {font-family: monospace;background-color: #f0f8ff;border: 1px dotted black;border-radius: 0.25em;box-sizing: border-box;margin-bottom: 0.5em;}#sk-container-id-4 div.sk-estimator:hover {background-color: #d4ebff;}#sk-container-id-4 div.sk-parallel-item::after {content: \"\";width: 100%;border-bottom: 1px solid gray;flex-grow: 1;}#sk-container-id-4 div.sk-label:hover label.sk-toggleable__label {background-color: #d4ebff;}#sk-container-id-4 div.sk-serial::before {content: \"\";position: absolute;border-left: 1px solid gray;box-sizing: border-box;top: 0;bottom: 0;left: 50%;z-index: 0;}#sk-container-id-4 div.sk-serial {display: flex;flex-direction: column;align-items: center;background-color: white;padding-right: 0.2em;padding-left: 0.2em;position: relative;}#sk-container-id-4 div.sk-item {position: relative;z-index: 1;}#sk-container-id-4 div.sk-parallel {display: flex;align-items: stretch;justify-content: center;background-color: white;position: relative;}#sk-container-id-4 div.sk-item::before, #sk-container-id-4 div.sk-parallel-item::before {content: \"\";position: absolute;border-left: 1px solid gray;box-sizing: border-box;top: 0;bottom: 0;left: 50%;z-index: -1;}#sk-container-id-4 div.sk-parallel-item {display: flex;flex-direction: column;z-index: 1;position: relative;background-color: white;}#sk-container-id-4 div.sk-parallel-item:first-child::after {align-self: flex-end;width: 50%;}#sk-container-id-4 div.sk-parallel-item:last-child::after {align-self: flex-start;width: 50%;}#sk-container-id-4 div.sk-parallel-item:only-child::after {width: 0;}#sk-container-id-4 div.sk-dashed-wrapped {border: 1px dashed gray;margin: 0 0.4em 0.5em 0.4em;box-sizing: border-box;padding-bottom: 0.4em;background-color: white;}#sk-container-id-4 div.sk-label label {font-family: monospace;font-weight: bold;display: inline-block;line-height: 1.2em;}#sk-container-id-4 div.sk-label-container {text-align: center;}#sk-container-id-4 div.sk-container {/* jupyter's `normalize.less` sets `[hidden] { display: none; }` but bootstrap.min.css set `[hidden] { display: none !important; }` so we also need the `!important` here to be able to override the default hidden behavior on the sphinx rendered scikit-learn.org. See: https://github.com/scikit-learn/scikit-learn/issues/21755 */display: inline-block !important;position: relative;}#sk-container-id-4 div.sk-text-repr-fallback {display: none;}</style><div id=\"sk-container-id-4\" class=\"sk-top-container\"><div class=\"sk-text-repr-fallback\"><pre>GridSearchCV(cv=5,\n",
       "             estimator=Pipeline(steps=[(&#x27;cvec&#x27;,\n",
       "                                        CountVectorizer(max_df=0.9,\n",
       "                                                        max_features=5000,\n",
       "                                                        min_df=2,\n",
       "                                                        ngram_range=(1, 2),\n",
       "                                                        stop_words=&#x27;english&#x27;)),\n",
       "                                       (&#x27;rf&#x27;, RandomForestClassifier())]),\n",
       "             param_grid={&#x27;rf__max_depth&#x27;: [3, 4, 5],\n",
       "                         &#x27;rf__min_samples_split&#x27;: [10, 50, 100],\n",
       "                         &#x27;rf__n_estimators&#x27;: [100, 200, 300]},\n",
       "             verbose=1)</pre><b>In a Jupyter environment, please rerun this cell to show the HTML representation or trust the notebook. <br />On GitHub, the HTML representation is unable to render, please try loading this page with nbviewer.org.</b></div><div class=\"sk-container\" hidden><div class=\"sk-item sk-dashed-wrapped\"><div class=\"sk-label-container\"><div class=\"sk-label sk-toggleable\"><input class=\"sk-toggleable__control sk-hidden--visually\" id=\"sk-estimator-id-10\" type=\"checkbox\" ><label for=\"sk-estimator-id-10\" class=\"sk-toggleable__label sk-toggleable__label-arrow\">GridSearchCV</label><div class=\"sk-toggleable__content\"><pre>GridSearchCV(cv=5,\n",
       "             estimator=Pipeline(steps=[(&#x27;cvec&#x27;,\n",
       "                                        CountVectorizer(max_df=0.9,\n",
       "                                                        max_features=5000,\n",
       "                                                        min_df=2,\n",
       "                                                        ngram_range=(1, 2),\n",
       "                                                        stop_words=&#x27;english&#x27;)),\n",
       "                                       (&#x27;rf&#x27;, RandomForestClassifier())]),\n",
       "             param_grid={&#x27;rf__max_depth&#x27;: [3, 4, 5],\n",
       "                         &#x27;rf__min_samples_split&#x27;: [10, 50, 100],\n",
       "                         &#x27;rf__n_estimators&#x27;: [100, 200, 300]},\n",
       "             verbose=1)</pre></div></div></div><div class=\"sk-parallel\"><div class=\"sk-parallel-item\"><div class=\"sk-item\"><div class=\"sk-label-container\"><div class=\"sk-label sk-toggleable\"><input class=\"sk-toggleable__control sk-hidden--visually\" id=\"sk-estimator-id-11\" type=\"checkbox\" ><label for=\"sk-estimator-id-11\" class=\"sk-toggleable__label sk-toggleable__label-arrow\">estimator: Pipeline</label><div class=\"sk-toggleable__content\"><pre>Pipeline(steps=[(&#x27;cvec&#x27;,\n",
       "                 CountVectorizer(max_df=0.9, max_features=5000, min_df=2,\n",
       "                                 ngram_range=(1, 2), stop_words=&#x27;english&#x27;)),\n",
       "                (&#x27;rf&#x27;, RandomForestClassifier())])</pre></div></div></div><div class=\"sk-serial\"><div class=\"sk-item\"><div class=\"sk-serial\"><div class=\"sk-item\"><div class=\"sk-estimator sk-toggleable\"><input class=\"sk-toggleable__control sk-hidden--visually\" id=\"sk-estimator-id-12\" type=\"checkbox\" ><label for=\"sk-estimator-id-12\" class=\"sk-toggleable__label sk-toggleable__label-arrow\">CountVectorizer</label><div class=\"sk-toggleable__content\"><pre>CountVectorizer(max_df=0.9, max_features=5000, min_df=2, ngram_range=(1, 2),\n",
       "                stop_words=&#x27;english&#x27;)</pre></div></div></div><div class=\"sk-item\"><div class=\"sk-estimator sk-toggleable\"><input class=\"sk-toggleable__control sk-hidden--visually\" id=\"sk-estimator-id-13\" type=\"checkbox\" ><label for=\"sk-estimator-id-13\" class=\"sk-toggleable__label sk-toggleable__label-arrow\">RandomForestClassifier</label><div class=\"sk-toggleable__content\"><pre>RandomForestClassifier()</pre></div></div></div></div></div></div></div></div></div></div></div></div>"
      ],
      "text/plain": [
       "GridSearchCV(cv=5,\n",
       "             estimator=Pipeline(steps=[('cvec',\n",
       "                                        CountVectorizer(max_df=0.9,\n",
       "                                                        max_features=5000,\n",
       "                                                        min_df=2,\n",
       "                                                        ngram_range=(1, 2),\n",
       "                                                        stop_words='english')),\n",
       "                                       ('rf', RandomForestClassifier())]),\n",
       "             param_grid={'rf__max_depth': [3, 4, 5],\n",
       "                         'rf__min_samples_split': [10, 50, 100],\n",
       "                         'rf__n_estimators': [100, 200, 300]},\n",
       "             verbose=1)"
      ]
     },
     "execution_count": 80,
     "metadata": {},
     "output_type": "execute_result"
    }
   ],
   "source": [
    "%%time\n",
    "\n",
    "rf_cvec_gs.fit(X_train,y_train)"
   ]
  },
  {
   "cell_type": "markdown",
   "id": "e04ad024-a177-4493-8c0e-043d1fc0da4b",
   "metadata": {},
   "source": [
    "The X_train and y_train is the downsampled ones as it was the most recently assigned to these variables, which is what I want to use."
   ]
  },
  {
   "cell_type": "code",
   "execution_count": 81,
   "id": "9e4845b0-04bb-4f33-aa0f-eb038543dfe8",
   "metadata": {
    "tags": []
   },
   "outputs": [
    {
     "data": {
      "text/plain": [
       "0.7375102375102375"
      ]
     },
     "execution_count": 81,
     "metadata": {},
     "output_type": "execute_result"
    }
   ],
   "source": [
    "metrics.recall_score(y_train,rf_cvec_gs.predict(X_train))"
   ]
  },
  {
   "cell_type": "code",
   "execution_count": 82,
   "id": "27bad208-2a99-474d-8b83-98ebbc2c1d88",
   "metadata": {
    "tags": []
   },
   "outputs": [],
   "source": [
    "y_pred = rf_cvec_gs.predict(X_test)"
   ]
  },
  {
   "cell_type": "code",
   "execution_count": 83,
   "id": "836c5b20-3ccf-44e3-93e6-2721981840b5",
   "metadata": {
    "tags": []
   },
   "outputs": [
    {
     "name": "stdout",
     "output_type": "stream",
     "text": [
      "              precision    recall  f1-score   support\n",
      "\n",
      "           0       0.78      0.94      0.85       611\n",
      "           1       0.93      0.73      0.82       610\n",
      "\n",
      "    accuracy                           0.84      1221\n",
      "   macro avg       0.85      0.84      0.83      1221\n",
      "weighted avg       0.85      0.84      0.83      1221\n",
      "\n",
      "Downsampled Random Forest Model Score\n",
      "\n",
      "              precision    recall  f1-score   support\n",
      "\n",
      "           0       0.88      0.59      0.71       611\n",
      "           1       0.69      0.92      0.79       610\n",
      "\n",
      "    accuracy                           0.75      1221\n",
      "   macro avg       0.79      0.75      0.75      1221\n",
      "weighted avg       0.79      0.75      0.75      1221\n",
      "\n",
      "Downsampled Multinomial NB Model Score\n",
      "\n",
      "              precision    recall  f1-score   support\n",
      "\n",
      "           0       0.94      0.96      0.95      3403\n",
      "           1       0.73      0.64      0.68       610\n",
      "\n",
      "    accuracy                           0.91      4013\n",
      "   macro avg       0.83      0.80      0.81      4013\n",
      "weighted avg       0.90      0.91      0.91      4013\n",
      "\n",
      "MultinomialNB Model Score\n"
     ]
    }
   ],
   "source": [
    "downsampled_rf_model_score = metrics.classification_report(y_test,y_pred)\n",
    "print(downsampled_rf_model_score)\n",
    "print('Downsampled Random Forest Model Score\\n')\n",
    "print(downsampled_model_score)\n",
    "print('Downsampled Multinomial NB Model Score\\n')\n",
    "print(improved_model_score)\n",
    "print('MultinomialNB Model Score')"
   ]
  },
  {
   "cell_type": "markdown",
   "id": "378d1da9-f5ee-47c4-aa93-c84f8bfa5958",
   "metadata": {},
   "source": [
    "From the above classification, I can see that the random forest produces the most balanced results between all the models I've currently tested, with an f1-score of 0.85 and 0.81 for 0 and 1 target class respectively. It also does not have the problem of overfitting.\n",
    "\n",
    "Again, in the context of the problem statement, as the priority is to catch offensive comments, the current best model is still the Downsampled Multinomial NB model as the recall for the target class 1 is the highest out of all the models."
   ]
  },
  {
   "cell_type": "markdown",
   "id": "c435795a-26ab-453e-bd8f-d6022fb3710d",
   "metadata": {},
   "source": [
    "# TF-IDF Vectorizer Pipeline Models"
   ]
  },
  {
   "cell_type": "markdown",
   "id": "5993c8f8-94fa-4753-99ca-46ffd23476a3",
   "metadata": {},
   "source": [
    "## Fitting Original Dataset without Downsampling"
   ]
  },
  {
   "cell_type": "markdown",
   "id": "0673ecdc-fe9d-4e74-8eaa-441986118d73",
   "metadata": {},
   "source": [
    "Next I will try to use TF-IDF vectorizer instead of CountVectorizer to see if it improves performance. I will test the model on both the original dataset and the dataset with downsampling. I will start with the original dataset."
   ]
  },
  {
   "cell_type": "code",
   "execution_count": 84,
   "id": "d06fd611-f1fc-4bdf-b867-b1b8f4a478a7",
   "metadata": {
    "tags": []
   },
   "outputs": [],
   "source": [
    "tvec_pipe = Pipeline([\n",
    "    ('tvec',TfidfVectorizer(stop_words = 'english')),\n",
    "    ('nb',MultinomialNB())\n",
    "])"
   ]
  },
  {
   "cell_type": "markdown",
   "id": "1f73fb46-376c-42a6-b23b-81a4db67b609",
   "metadata": {},
   "source": [
    "Instantiating a new pipeline with TF-IDF vectorizer instead of count vectorizer"
   ]
  },
  {
   "cell_type": "code",
   "execution_count": 85,
   "id": "0ef007ca-cbd1-401b-86a7-1bb9f5eacf25",
   "metadata": {
    "tags": []
   },
   "outputs": [],
   "source": [
    "tvec_pipe_params = {\n",
    "    'tvec__max_features': [5000, 10000, 15000, 20000], \n",
    "    'tvec__min_df': [2, 3],\n",
    "    'tvec__max_df': [.9, .95],\n",
    "    'tvec__ngram_range': [(1,1), (1,2)] # test unigram only (1,1) and unigram+bigram (1,2)\n",
    "} # standard param dict definition for GridSearch CV"
   ]
  },
  {
   "cell_type": "markdown",
   "id": "e8211998-60ba-4031-b414-eabc7ad29a69",
   "metadata": {},
   "source": [
    "Creating my new gridsearch parameters dictionary"
   ]
  },
  {
   "cell_type": "code",
   "execution_count": 86,
   "id": "c07c3544-d435-4f9b-9960-fa6dfff8a153",
   "metadata": {
    "tags": []
   },
   "outputs": [],
   "source": [
    "# Instantiate GridSearchCV.\n",
    "tvec_gs = GridSearchCV(tvec_pipe,\n",
    "                  param_grid=tvec_pipe_params, \n",
    "                  cv=5,\n",
    "                 verbose=1)"
   ]
  },
  {
   "cell_type": "code",
   "execution_count": 87,
   "id": "6144d483-68b9-436b-9e2b-1486e306442b",
   "metadata": {
    "tags": []
   },
   "outputs": [],
   "source": [
    "X = df['comment']\n",
    "y = df['target']"
   ]
  },
  {
   "cell_type": "code",
   "execution_count": 88,
   "id": "282d2408-1842-424d-89df-da056367b836",
   "metadata": {
    "tags": []
   },
   "outputs": [],
   "source": [
    "X_train, X_test, y_train, y_test = train_test_split(X, y, test_size=0.2, random_state=42, stratify= y)"
   ]
  },
  {
   "cell_type": "markdown",
   "id": "2e7dca2b-dea3-4cbd-ad8a-1ad0db11c941",
   "metadata": {},
   "source": [
    "Setting X and y to be back to the original dataset without downsampling."
   ]
  },
  {
   "cell_type": "code",
   "execution_count": 89,
   "id": "04c3a890-ddb7-410c-896b-53f29cc19b21",
   "metadata": {
    "tags": []
   },
   "outputs": [
    {
     "name": "stdout",
     "output_type": "stream",
     "text": [
      "Fitting 5 folds for each of 32 candidates, totalling 160 fits\n"
     ]
    },
    {
     "data": {
      "text/html": [
       "<style>#sk-container-id-5 {color: black;background-color: white;}#sk-container-id-5 pre{padding: 0;}#sk-container-id-5 div.sk-toggleable {background-color: white;}#sk-container-id-5 label.sk-toggleable__label {cursor: pointer;display: block;width: 100%;margin-bottom: 0;padding: 0.3em;box-sizing: border-box;text-align: center;}#sk-container-id-5 label.sk-toggleable__label-arrow:before {content: \"▸\";float: left;margin-right: 0.25em;color: #696969;}#sk-container-id-5 label.sk-toggleable__label-arrow:hover:before {color: black;}#sk-container-id-5 div.sk-estimator:hover label.sk-toggleable__label-arrow:before {color: black;}#sk-container-id-5 div.sk-toggleable__content {max-height: 0;max-width: 0;overflow: hidden;text-align: left;background-color: #f0f8ff;}#sk-container-id-5 div.sk-toggleable__content pre {margin: 0.2em;color: black;border-radius: 0.25em;background-color: #f0f8ff;}#sk-container-id-5 input.sk-toggleable__control:checked~div.sk-toggleable__content {max-height: 200px;max-width: 100%;overflow: auto;}#sk-container-id-5 input.sk-toggleable__control:checked~label.sk-toggleable__label-arrow:before {content: \"▾\";}#sk-container-id-5 div.sk-estimator input.sk-toggleable__control:checked~label.sk-toggleable__label {background-color: #d4ebff;}#sk-container-id-5 div.sk-label input.sk-toggleable__control:checked~label.sk-toggleable__label {background-color: #d4ebff;}#sk-container-id-5 input.sk-hidden--visually {border: 0;clip: rect(1px 1px 1px 1px);clip: rect(1px, 1px, 1px, 1px);height: 1px;margin: -1px;overflow: hidden;padding: 0;position: absolute;width: 1px;}#sk-container-id-5 div.sk-estimator {font-family: monospace;background-color: #f0f8ff;border: 1px dotted black;border-radius: 0.25em;box-sizing: border-box;margin-bottom: 0.5em;}#sk-container-id-5 div.sk-estimator:hover {background-color: #d4ebff;}#sk-container-id-5 div.sk-parallel-item::after {content: \"\";width: 100%;border-bottom: 1px solid gray;flex-grow: 1;}#sk-container-id-5 div.sk-label:hover label.sk-toggleable__label {background-color: #d4ebff;}#sk-container-id-5 div.sk-serial::before {content: \"\";position: absolute;border-left: 1px solid gray;box-sizing: border-box;top: 0;bottom: 0;left: 50%;z-index: 0;}#sk-container-id-5 div.sk-serial {display: flex;flex-direction: column;align-items: center;background-color: white;padding-right: 0.2em;padding-left: 0.2em;position: relative;}#sk-container-id-5 div.sk-item {position: relative;z-index: 1;}#sk-container-id-5 div.sk-parallel {display: flex;align-items: stretch;justify-content: center;background-color: white;position: relative;}#sk-container-id-5 div.sk-item::before, #sk-container-id-5 div.sk-parallel-item::before {content: \"\";position: absolute;border-left: 1px solid gray;box-sizing: border-box;top: 0;bottom: 0;left: 50%;z-index: -1;}#sk-container-id-5 div.sk-parallel-item {display: flex;flex-direction: column;z-index: 1;position: relative;background-color: white;}#sk-container-id-5 div.sk-parallel-item:first-child::after {align-self: flex-end;width: 50%;}#sk-container-id-5 div.sk-parallel-item:last-child::after {align-self: flex-start;width: 50%;}#sk-container-id-5 div.sk-parallel-item:only-child::after {width: 0;}#sk-container-id-5 div.sk-dashed-wrapped {border: 1px dashed gray;margin: 0 0.4em 0.5em 0.4em;box-sizing: border-box;padding-bottom: 0.4em;background-color: white;}#sk-container-id-5 div.sk-label label {font-family: monospace;font-weight: bold;display: inline-block;line-height: 1.2em;}#sk-container-id-5 div.sk-label-container {text-align: center;}#sk-container-id-5 div.sk-container {/* jupyter's `normalize.less` sets `[hidden] { display: none; }` but bootstrap.min.css set `[hidden] { display: none !important; }` so we also need the `!important` here to be able to override the default hidden behavior on the sphinx rendered scikit-learn.org. See: https://github.com/scikit-learn/scikit-learn/issues/21755 */display: inline-block !important;position: relative;}#sk-container-id-5 div.sk-text-repr-fallback {display: none;}</style><div id=\"sk-container-id-5\" class=\"sk-top-container\"><div class=\"sk-text-repr-fallback\"><pre>GridSearchCV(cv=5,\n",
       "             estimator=Pipeline(steps=[(&#x27;tvec&#x27;,\n",
       "                                        TfidfVectorizer(stop_words=&#x27;english&#x27;)),\n",
       "                                       (&#x27;nb&#x27;, MultinomialNB())]),\n",
       "             param_grid={&#x27;tvec__max_df&#x27;: [0.9, 0.95],\n",
       "                         &#x27;tvec__max_features&#x27;: [5000, 10000, 15000, 20000],\n",
       "                         &#x27;tvec__min_df&#x27;: [2, 3],\n",
       "                         &#x27;tvec__ngram_range&#x27;: [(1, 1), (1, 2)]},\n",
       "             verbose=1)</pre><b>In a Jupyter environment, please rerun this cell to show the HTML representation or trust the notebook. <br />On GitHub, the HTML representation is unable to render, please try loading this page with nbviewer.org.</b></div><div class=\"sk-container\" hidden><div class=\"sk-item sk-dashed-wrapped\"><div class=\"sk-label-container\"><div class=\"sk-label sk-toggleable\"><input class=\"sk-toggleable__control sk-hidden--visually\" id=\"sk-estimator-id-14\" type=\"checkbox\" ><label for=\"sk-estimator-id-14\" class=\"sk-toggleable__label sk-toggleable__label-arrow\">GridSearchCV</label><div class=\"sk-toggleable__content\"><pre>GridSearchCV(cv=5,\n",
       "             estimator=Pipeline(steps=[(&#x27;tvec&#x27;,\n",
       "                                        TfidfVectorizer(stop_words=&#x27;english&#x27;)),\n",
       "                                       (&#x27;nb&#x27;, MultinomialNB())]),\n",
       "             param_grid={&#x27;tvec__max_df&#x27;: [0.9, 0.95],\n",
       "                         &#x27;tvec__max_features&#x27;: [5000, 10000, 15000, 20000],\n",
       "                         &#x27;tvec__min_df&#x27;: [2, 3],\n",
       "                         &#x27;tvec__ngram_range&#x27;: [(1, 1), (1, 2)]},\n",
       "             verbose=1)</pre></div></div></div><div class=\"sk-parallel\"><div class=\"sk-parallel-item\"><div class=\"sk-item\"><div class=\"sk-label-container\"><div class=\"sk-label sk-toggleable\"><input class=\"sk-toggleable__control sk-hidden--visually\" id=\"sk-estimator-id-15\" type=\"checkbox\" ><label for=\"sk-estimator-id-15\" class=\"sk-toggleable__label sk-toggleable__label-arrow\">estimator: Pipeline</label><div class=\"sk-toggleable__content\"><pre>Pipeline(steps=[(&#x27;tvec&#x27;, TfidfVectorizer(stop_words=&#x27;english&#x27;)),\n",
       "                (&#x27;nb&#x27;, MultinomialNB())])</pre></div></div></div><div class=\"sk-serial\"><div class=\"sk-item\"><div class=\"sk-serial\"><div class=\"sk-item\"><div class=\"sk-estimator sk-toggleable\"><input class=\"sk-toggleable__control sk-hidden--visually\" id=\"sk-estimator-id-16\" type=\"checkbox\" ><label for=\"sk-estimator-id-16\" class=\"sk-toggleable__label sk-toggleable__label-arrow\">TfidfVectorizer</label><div class=\"sk-toggleable__content\"><pre>TfidfVectorizer(stop_words=&#x27;english&#x27;)</pre></div></div></div><div class=\"sk-item\"><div class=\"sk-estimator sk-toggleable\"><input class=\"sk-toggleable__control sk-hidden--visually\" id=\"sk-estimator-id-17\" type=\"checkbox\" ><label for=\"sk-estimator-id-17\" class=\"sk-toggleable__label sk-toggleable__label-arrow\">MultinomialNB</label><div class=\"sk-toggleable__content\"><pre>MultinomialNB()</pre></div></div></div></div></div></div></div></div></div></div></div></div>"
      ],
      "text/plain": [
       "GridSearchCV(cv=5,\n",
       "             estimator=Pipeline(steps=[('tvec',\n",
       "                                        TfidfVectorizer(stop_words='english')),\n",
       "                                       ('nb', MultinomialNB())]),\n",
       "             param_grid={'tvec__max_df': [0.9, 0.95],\n",
       "                         'tvec__max_features': [5000, 10000, 15000, 20000],\n",
       "                         'tvec__min_df': [2, 3],\n",
       "                         'tvec__ngram_range': [(1, 1), (1, 2)]},\n",
       "             verbose=1)"
      ]
     },
     "execution_count": 89,
     "metadata": {},
     "output_type": "execute_result"
    }
   ],
   "source": [
    "tvec_gs.fit(X_train,y_train)"
   ]
  },
  {
   "cell_type": "code",
   "execution_count": 90,
   "id": "84b6f74f-0bb7-493d-aa40-87b115305357",
   "metadata": {
    "tags": []
   },
   "outputs": [
    {
     "data": {
      "text/plain": [
       "{'tvec__max_df': 0.9,\n",
       " 'tvec__max_features': 5000,\n",
       " 'tvec__min_df': 3,\n",
       " 'tvec__ngram_range': (1, 2)}"
      ]
     },
     "execution_count": 90,
     "metadata": {},
     "output_type": "execute_result"
    }
   ],
   "source": [
    "tvec_gs.best_params_"
   ]
  },
  {
   "cell_type": "code",
   "execution_count": 91,
   "id": "f85f4a10-3e5e-402f-8c66-6d0f917e2abe",
   "metadata": {
    "tags": []
   },
   "outputs": [
    {
     "data": {
      "text/plain": [
       "0.300982800982801"
      ]
     },
     "execution_count": 91,
     "metadata": {},
     "output_type": "execute_result"
    }
   ],
   "source": [
    "metrics.recall_score(y_train,tvec_gs.predict(X_train))"
   ]
  },
  {
   "cell_type": "code",
   "execution_count": 92,
   "id": "7c19c522-9cd0-4df0-8ec1-8f4858fa058d",
   "metadata": {
    "tags": []
   },
   "outputs": [],
   "source": [
    "y_pred = tvec_gs.predict(X_test)"
   ]
  },
  {
   "cell_type": "code",
   "execution_count": 93,
   "id": "55bb27ab-d4b3-43b5-9fa5-31fd37a41ef9",
   "metadata": {
    "tags": []
   },
   "outputs": [
    {
     "name": "stdout",
     "output_type": "stream",
     "text": [
      "              precision    recall  f1-score   support\n",
      "\n",
      "           0       0.88      1.00      0.94      3403\n",
      "           1       0.99      0.24      0.39       610\n",
      "\n",
      "    accuracy                           0.88      4013\n",
      "   macro avg       0.93      0.62      0.66      4013\n",
      "weighted avg       0.90      0.88      0.85      4013\n",
      "\n"
     ]
    }
   ],
   "source": [
    "tvec_nb_score=(metrics.classification_report(y_test,y_pred))\n",
    "print(tvec_nb_score)"
   ]
  },
  {
   "cell_type": "markdown",
   "id": "cd3a9123-01fc-4fd9-ba49-4281bb7275f8",
   "metadata": {},
   "source": [
    "This model with TF-IDF vectorizer and the original dataset, performs terribly at identifying offensive comments. This model will definitely not be selected as the final model."
   ]
  },
  {
   "cell_type": "code",
   "execution_count": 94,
   "id": "e48a0d0b-8df3-483c-b7d2-d6ea22d5de5a",
   "metadata": {
    "tags": []
   },
   "outputs": [
    {
     "data": {
      "image/png": "[encoded data removed]",
      "text/plain": [
       "<Figure size 640x480 with 2 Axes>"
      ]
     },
     "metadata": {},
     "output_type": "display_data"
    }
   ],
   "source": [
    "metrics.ConfusionMatrixDisplay.from_predictions(y_test,y_pred)\n",
    "plt.title('Confusion Matrix of TF-IDF NB Model')\n",
    "plt.grid(None)"
   ]
  },
  {
   "cell_type": "markdown",
   "id": "67786ff2-796e-4c3e-b864-3ecf5b4f8510",
   "metadata": {},
   "source": [
    "Note the number of False Negatives that the model predicted. This is not a good model in terms of the problem statement."
   ]
  },
  {
   "cell_type": "markdown",
   "id": "6a8694d1-6ea4-498c-9b25-2830e087c155",
   "metadata": {},
   "source": [
    "## Downsampling NB Model"
   ]
  },
  {
   "cell_type": "code",
   "execution_count": 95,
   "id": "9689e217-e1c0-48f9-9bf1-5005915b2099",
   "metadata": {
    "tags": []
   },
   "outputs": [],
   "source": [
    "X = downsampled['comment']\n",
    "y = downsampled['target']"
   ]
  },
  {
   "cell_type": "code",
   "execution_count": 96,
   "id": "cbf37287-c633-42ab-80a2-745f72abda46",
   "metadata": {
    "tags": []
   },
   "outputs": [],
   "source": [
    "X_train, X_test, y_train, y_test = train_test_split(X, y, test_size=0.2, random_state=42, stratify= y)"
   ]
  },
  {
   "cell_type": "markdown",
   "id": "f7803c4b-1d41-4cc1-9a39-705df1128bfa",
   "metadata": {},
   "source": [
    "Now X and y is downsampled"
   ]
  },
  {
   "cell_type": "code",
   "execution_count": 97,
   "id": "e6ab4b1e-cbda-45a7-860e-c205abaec959",
   "metadata": {
    "tags": []
   },
   "outputs": [
    {
     "name": "stdout",
     "output_type": "stream",
     "text": [
      "Fitting 5 folds for each of 32 candidates, totalling 160 fits\n"
     ]
    },
    {
     "data": {
      "text/html": [
       "<style>#sk-container-id-6 {color: black;background-color: white;}#sk-container-id-6 pre{padding: 0;}#sk-container-id-6 div.sk-toggleable {background-color: white;}#sk-container-id-6 label.sk-toggleable__label {cursor: pointer;display: block;width: 100%;margin-bottom: 0;padding: 0.3em;box-sizing: border-box;text-align: center;}#sk-container-id-6 label.sk-toggleable__label-arrow:before {content: \"▸\";float: left;margin-right: 0.25em;color: #696969;}#sk-container-id-6 label.sk-toggleable__label-arrow:hover:before {color: black;}#sk-container-id-6 div.sk-estimator:hover label.sk-toggleable__label-arrow:before {color: black;}#sk-container-id-6 div.sk-toggleable__content {max-height: 0;max-width: 0;overflow: hidden;text-align: left;background-color: #f0f8ff;}#sk-container-id-6 div.sk-toggleable__content pre {margin: 0.2em;color: black;border-radius: 0.25em;background-color: #f0f8ff;}#sk-container-id-6 input.sk-toggleable__control:checked~div.sk-toggleable__content {max-height: 200px;max-width: 100%;overflow: auto;}#sk-container-id-6 input.sk-toggleable__control:checked~label.sk-toggleable__label-arrow:before {content: \"▾\";}#sk-container-id-6 div.sk-estimator input.sk-toggleable__control:checked~label.sk-toggleable__label {background-color: #d4ebff;}#sk-container-id-6 div.sk-label input.sk-toggleable__control:checked~label.sk-toggleable__label {background-color: #d4ebff;}#sk-container-id-6 input.sk-hidden--visually {border: 0;clip: rect(1px 1px 1px 1px);clip: rect(1px, 1px, 1px, 1px);height: 1px;margin: -1px;overflow: hidden;padding: 0;position: absolute;width: 1px;}#sk-container-id-6 div.sk-estimator {font-family: monospace;background-color: #f0f8ff;border: 1px dotted black;border-radius: 0.25em;box-sizing: border-box;margin-bottom: 0.5em;}#sk-container-id-6 div.sk-estimator:hover {background-color: #d4ebff;}#sk-container-id-6 div.sk-parallel-item::after {content: \"\";width: 100%;border-bottom: 1px solid gray;flex-grow: 1;}#sk-container-id-6 div.sk-label:hover label.sk-toggleable__label {background-color: #d4ebff;}#sk-container-id-6 div.sk-serial::before {content: \"\";position: absolute;border-left: 1px solid gray;box-sizing: border-box;top: 0;bottom: 0;left: 50%;z-index: 0;}#sk-container-id-6 div.sk-serial {display: flex;flex-direction: column;align-items: center;background-color: white;padding-right: 0.2em;padding-left: 0.2em;position: relative;}#sk-container-id-6 div.sk-item {position: relative;z-index: 1;}#sk-container-id-6 div.sk-parallel {display: flex;align-items: stretch;justify-content: center;background-color: white;position: relative;}#sk-container-id-6 div.sk-item::before, #sk-container-id-6 div.sk-parallel-item::before {content: \"\";position: absolute;border-left: 1px solid gray;box-sizing: border-box;top: 0;bottom: 0;left: 50%;z-index: -1;}#sk-container-id-6 div.sk-parallel-item {display: flex;flex-direction: column;z-index: 1;position: relative;background-color: white;}#sk-container-id-6 div.sk-parallel-item:first-child::after {align-self: flex-end;width: 50%;}#sk-container-id-6 div.sk-parallel-item:last-child::after {align-self: flex-start;width: 50%;}#sk-container-id-6 div.sk-parallel-item:only-child::after {width: 0;}#sk-container-id-6 div.sk-dashed-wrapped {border: 1px dashed gray;margin: 0 0.4em 0.5em 0.4em;box-sizing: border-box;padding-bottom: 0.4em;background-color: white;}#sk-container-id-6 div.sk-label label {font-family: monospace;font-weight: bold;display: inline-block;line-height: 1.2em;}#sk-container-id-6 div.sk-label-container {text-align: center;}#sk-container-id-6 div.sk-container {/* jupyter's `normalize.less` sets `[hidden] { display: none; }` but bootstrap.min.css set `[hidden] { display: none !important; }` so we also need the `!important` here to be able to override the default hidden behavior on the sphinx rendered scikit-learn.org. See: https://github.com/scikit-learn/scikit-learn/issues/21755 */display: inline-block !important;position: relative;}#sk-container-id-6 div.sk-text-repr-fallback {display: none;}</style><div id=\"sk-container-id-6\" class=\"sk-top-container\"><div class=\"sk-text-repr-fallback\"><pre>GridSearchCV(cv=5,\n",
       "             estimator=Pipeline(steps=[(&#x27;tvec&#x27;,\n",
       "                                        TfidfVectorizer(stop_words=&#x27;english&#x27;)),\n",
       "                                       (&#x27;nb&#x27;, MultinomialNB())]),\n",
       "             param_grid={&#x27;tvec__max_df&#x27;: [0.9, 0.95],\n",
       "                         &#x27;tvec__max_features&#x27;: [5000, 10000, 15000, 20000],\n",
       "                         &#x27;tvec__min_df&#x27;: [2, 3],\n",
       "                         &#x27;tvec__ngram_range&#x27;: [(1, 1), (1, 2)]},\n",
       "             verbose=1)</pre><b>In a Jupyter environment, please rerun this cell to show the HTML representation or trust the notebook. <br />On GitHub, the HTML representation is unable to render, please try loading this page with nbviewer.org.</b></div><div class=\"sk-container\" hidden><div class=\"sk-item sk-dashed-wrapped\"><div class=\"sk-label-container\"><div class=\"sk-label sk-toggleable\"><input class=\"sk-toggleable__control sk-hidden--visually\" id=\"sk-estimator-id-18\" type=\"checkbox\" ><label for=\"sk-estimator-id-18\" class=\"sk-toggleable__label sk-toggleable__label-arrow\">GridSearchCV</label><div class=\"sk-toggleable__content\"><pre>GridSearchCV(cv=5,\n",
       "             estimator=Pipeline(steps=[(&#x27;tvec&#x27;,\n",
       "                                        TfidfVectorizer(stop_words=&#x27;english&#x27;)),\n",
       "                                       (&#x27;nb&#x27;, MultinomialNB())]),\n",
       "             param_grid={&#x27;tvec__max_df&#x27;: [0.9, 0.95],\n",
       "                         &#x27;tvec__max_features&#x27;: [5000, 10000, 15000, 20000],\n",
       "                         &#x27;tvec__min_df&#x27;: [2, 3],\n",
       "                         &#x27;tvec__ngram_range&#x27;: [(1, 1), (1, 2)]},\n",
       "             verbose=1)</pre></div></div></div><div class=\"sk-parallel\"><div class=\"sk-parallel-item\"><div class=\"sk-item\"><div class=\"sk-label-container\"><div class=\"sk-label sk-toggleable\"><input class=\"sk-toggleable__control sk-hidden--visually\" id=\"sk-estimator-id-19\" type=\"checkbox\" ><label for=\"sk-estimator-id-19\" class=\"sk-toggleable__label sk-toggleable__label-arrow\">estimator: Pipeline</label><div class=\"sk-toggleable__content\"><pre>Pipeline(steps=[(&#x27;tvec&#x27;, TfidfVectorizer(stop_words=&#x27;english&#x27;)),\n",
       "                (&#x27;nb&#x27;, MultinomialNB())])</pre></div></div></div><div class=\"sk-serial\"><div class=\"sk-item\"><div class=\"sk-serial\"><div class=\"sk-item\"><div class=\"sk-estimator sk-toggleable\"><input class=\"sk-toggleable__control sk-hidden--visually\" id=\"sk-estimator-id-20\" type=\"checkbox\" ><label for=\"sk-estimator-id-20\" class=\"sk-toggleable__label sk-toggleable__label-arrow\">TfidfVectorizer</label><div class=\"sk-toggleable__content\"><pre>TfidfVectorizer(stop_words=&#x27;english&#x27;)</pre></div></div></div><div class=\"sk-item\"><div class=\"sk-estimator sk-toggleable\"><input class=\"sk-toggleable__control sk-hidden--visually\" id=\"sk-estimator-id-21\" type=\"checkbox\" ><label for=\"sk-estimator-id-21\" class=\"sk-toggleable__label sk-toggleable__label-arrow\">MultinomialNB</label><div class=\"sk-toggleable__content\"><pre>MultinomialNB()</pre></div></div></div></div></div></div></div></div></div></div></div></div>"
      ],
      "text/plain": [
       "GridSearchCV(cv=5,\n",
       "             estimator=Pipeline(steps=[('tvec',\n",
       "                                        TfidfVectorizer(stop_words='english')),\n",
       "                                       ('nb', MultinomialNB())]),\n",
       "             param_grid={'tvec__max_df': [0.9, 0.95],\n",
       "                         'tvec__max_features': [5000, 10000, 15000, 20000],\n",
       "                         'tvec__min_df': [2, 3],\n",
       "                         'tvec__ngram_range': [(1, 1), (1, 2)]},\n",
       "             verbose=1)"
      ]
     },
     "execution_count": 97,
     "metadata": {},
     "output_type": "execute_result"
    }
   ],
   "source": [
    "tvec_gs.fit(X_train,y_train)"
   ]
  },
  {
   "cell_type": "code",
   "execution_count": 98,
   "id": "4e0ad1ee-1ea7-40b5-af64-7a08114c1cfb",
   "metadata": {
    "tags": []
   },
   "outputs": [
    {
     "data": {
      "text/plain": [
       "{'tvec__max_df': 0.9,\n",
       " 'tvec__max_features': 5000,\n",
       " 'tvec__min_df': 2,\n",
       " 'tvec__ngram_range': (1, 2)}"
      ]
     },
     "execution_count": 98,
     "metadata": {},
     "output_type": "execute_result"
    }
   ],
   "source": [
    "tvec_gs.best_params_"
   ]
  },
  {
   "cell_type": "code",
   "execution_count": 99,
   "id": "0e973450-e81f-4f3a-b2a0-9595f380d81b",
   "metadata": {
    "tags": []
   },
   "outputs": [
    {
     "data": {
      "text/plain": [
       "0.9631449631449631"
      ]
     },
     "execution_count": 99,
     "metadata": {},
     "output_type": "execute_result"
    }
   ],
   "source": [
    "metrics.recall_score(y_train,tvec_gs.predict(X_train))"
   ]
  },
  {
   "cell_type": "code",
   "execution_count": 100,
   "id": "98e694b1-3a90-4388-89b5-52395e362e3f",
   "metadata": {
    "tags": []
   },
   "outputs": [],
   "source": [
    "y_pred = tvec_gs.predict(X_test)"
   ]
  },
  {
   "cell_type": "code",
   "execution_count": 101,
   "id": "2e4a835f-ad7b-45ec-a220-43741c90ff31",
   "metadata": {
    "tags": []
   },
   "outputs": [
    {
     "name": "stdout",
     "output_type": "stream",
     "text": [
      "              precision    recall  f1-score   support\n",
      "\n",
      "           0       0.84      0.65      0.73       611\n",
      "           1       0.71      0.88      0.79       610\n",
      "\n",
      "    accuracy                           0.76      1221\n",
      "   macro avg       0.78      0.76      0.76      1221\n",
      "weighted avg       0.78      0.76      0.76      1221\n",
      "\n"
     ]
    }
   ],
   "source": [
    "downsampled_tvec_nb_score=(metrics.classification_report(y_test,y_pred))\n",
    "print(downsampled_tvec_nb_score)"
   ]
  },
  {
   "cell_type": "markdown",
   "id": "9026da50-8d27-4b35-a207-363903f1b6aa",
   "metadata": {},
   "source": [
    "The performance on the downsampled data set is much better at predicting offensive comments regardless of the vectorizer used as can be seen in the results above."
   ]
  },
  {
   "cell_type": "markdown",
   "id": "42263f38-5223-40e3-a688-e1d0759da92b",
   "metadata": {},
   "source": [
    "## Downsampled Random Forest Model"
   ]
  },
  {
   "cell_type": "markdown",
   "id": "638a9b20-2592-459f-9c0d-8ade35bf7a4e",
   "metadata": {},
   "source": [
    "The last model I will try using TF-IDF vectorizer is a random forest model on the downsampled dataset. After this I will compare all the models and select the best model to solve the problem statement."
   ]
  },
  {
   "cell_type": "code",
   "execution_count": 102,
   "id": "8e46bebb-2b09-4237-b502-cb64f6771fea",
   "metadata": {
    "tags": []
   },
   "outputs": [],
   "source": [
    "rf_tvec_pipe = Pipeline([\n",
    "    ('tvec', TfidfVectorizer(stop_words='english',max_df=0.9,max_features=5000,min_df=3,ngram_range=(1,2))), # tuple for transformer object, class\n",
    "    ('rf', RandomForestClassifier()) # tuple for estimator object, class\n",
    "])"
   ]
  },
  {
   "cell_type": "markdown",
   "id": "f80b451a-6f11-4f03-95d8-e29479669d0e",
   "metadata": {},
   "source": [
    "Building a new pipeline with random forest as the estimator this time instead of MultinomialNB.\n",
    "\n",
    "Again notice that I have instantiated the TF-IDF vectorizer with the best parameters found in the previous model."
   ]
  },
  {
   "cell_type": "code",
   "execution_count": 103,
   "id": "01665411-a70e-4020-a8e7-86ea70972336",
   "metadata": {
    "tags": []
   },
   "outputs": [],
   "source": [
    "rf_tvec_pipe_params = {\n",
    "    'rf__n_estimators': [100,200,300], # no. of trees to make\n",
    "    'rf__max_depth': [3,4,5], # how many layers can the trees grow\n",
    "    'rf__min_samples_split': [10,50,100], # how many samples needs to be in the node before splitting\n",
    "} # standard param dict definition for GridSearch CV"
   ]
  },
  {
   "cell_type": "code",
   "execution_count": 104,
   "id": "cd77796c-fdba-4984-9bf3-545135a1966f",
   "metadata": {
    "tags": []
   },
   "outputs": [],
   "source": [
    "# Instantiate GridSearchCV.\n",
    "rf_tvec_gs = GridSearchCV(rf_tvec_pipe,\n",
    "                  param_grid=rf_tvec_pipe_params, \n",
    "                  cv=5,\n",
    "                 verbose=1)"
   ]
  },
  {
   "cell_type": "code",
   "execution_count": 105,
   "id": "bd52c645-c5eb-41ee-80c0-bb68417ba26d",
   "metadata": {
    "tags": []
   },
   "outputs": [
    {
     "name": "stdout",
     "output_type": "stream",
     "text": [
      "Fitting 5 folds for each of 27 candidates, totalling 135 fits\n"
     ]
    },
    {
     "data": {
      "text/html": [
       "<style>#sk-container-id-7 {color: black;background-color: white;}#sk-container-id-7 pre{padding: 0;}#sk-container-id-7 div.sk-toggleable {background-color: white;}#sk-container-id-7 label.sk-toggleable__label {cursor: pointer;display: block;width: 100%;margin-bottom: 0;padding: 0.3em;box-sizing: border-box;text-align: center;}#sk-container-id-7 label.sk-toggleable__label-arrow:before {content: \"▸\";float: left;margin-right: 0.25em;color: #696969;}#sk-container-id-7 label.sk-toggleable__label-arrow:hover:before {color: black;}#sk-container-id-7 div.sk-estimator:hover label.sk-toggleable__label-arrow:before {color: black;}#sk-container-id-7 div.sk-toggleable__content {max-height: 0;max-width: 0;overflow: hidden;text-align: left;background-color: #f0f8ff;}#sk-container-id-7 div.sk-toggleable__content pre {margin: 0.2em;color: black;border-radius: 0.25em;background-color: #f0f8ff;}#sk-container-id-7 input.sk-toggleable__control:checked~div.sk-toggleable__content {max-height: 200px;max-width: 100%;overflow: auto;}#sk-container-id-7 input.sk-toggleable__control:checked~label.sk-toggleable__label-arrow:before {content: \"▾\";}#sk-container-id-7 div.sk-estimator input.sk-toggleable__control:checked~label.sk-toggleable__label {background-color: #d4ebff;}#sk-container-id-7 div.sk-label input.sk-toggleable__control:checked~label.sk-toggleable__label {background-color: #d4ebff;}#sk-container-id-7 input.sk-hidden--visually {border: 0;clip: rect(1px 1px 1px 1px);clip: rect(1px, 1px, 1px, 1px);height: 1px;margin: -1px;overflow: hidden;padding: 0;position: absolute;width: 1px;}#sk-container-id-7 div.sk-estimator {font-family: monospace;background-color: #f0f8ff;border: 1px dotted black;border-radius: 0.25em;box-sizing: border-box;margin-bottom: 0.5em;}#sk-container-id-7 div.sk-estimator:hover {background-color: #d4ebff;}#sk-container-id-7 div.sk-parallel-item::after {content: \"\";width: 100%;border-bottom: 1px solid gray;flex-grow: 1;}#sk-container-id-7 div.sk-label:hover label.sk-toggleable__label {background-color: #d4ebff;}#sk-container-id-7 div.sk-serial::before {content: \"\";position: absolute;border-left: 1px solid gray;box-sizing: border-box;top: 0;bottom: 0;left: 50%;z-index: 0;}#sk-container-id-7 div.sk-serial {display: flex;flex-direction: column;align-items: center;background-color: white;padding-right: 0.2em;padding-left: 0.2em;position: relative;}#sk-container-id-7 div.sk-item {position: relative;z-index: 1;}#sk-container-id-7 div.sk-parallel {display: flex;align-items: stretch;justify-content: center;background-color: white;position: relative;}#sk-container-id-7 div.sk-item::before, #sk-container-id-7 div.sk-parallel-item::before {content: \"\";position: absolute;border-left: 1px solid gray;box-sizing: border-box;top: 0;bottom: 0;left: 50%;z-index: -1;}#sk-container-id-7 div.sk-parallel-item {display: flex;flex-direction: column;z-index: 1;position: relative;background-color: white;}#sk-container-id-7 div.sk-parallel-item:first-child::after {align-self: flex-end;width: 50%;}#sk-container-id-7 div.sk-parallel-item:last-child::after {align-self: flex-start;width: 50%;}#sk-container-id-7 div.sk-parallel-item:only-child::after {width: 0;}#sk-container-id-7 div.sk-dashed-wrapped {border: 1px dashed gray;margin: 0 0.4em 0.5em 0.4em;box-sizing: border-box;padding-bottom: 0.4em;background-color: white;}#sk-container-id-7 div.sk-label label {font-family: monospace;font-weight: bold;display: inline-block;line-height: 1.2em;}#sk-container-id-7 div.sk-label-container {text-align: center;}#sk-container-id-7 div.sk-container {/* jupyter's `normalize.less` sets `[hidden] { display: none; }` but bootstrap.min.css set `[hidden] { display: none !important; }` so we also need the `!important` here to be able to override the default hidden behavior on the sphinx rendered scikit-learn.org. See: https://github.com/scikit-learn/scikit-learn/issues/21755 */display: inline-block !important;position: relative;}#sk-container-id-7 div.sk-text-repr-fallback {display: none;}</style><div id=\"sk-container-id-7\" class=\"sk-top-container\"><div class=\"sk-text-repr-fallback\"><pre>GridSearchCV(cv=5,\n",
       "             estimator=Pipeline(steps=[(&#x27;tvec&#x27;,\n",
       "                                        TfidfVectorizer(max_df=0.9,\n",
       "                                                        max_features=5000,\n",
       "                                                        min_df=3,\n",
       "                                                        ngram_range=(1, 2),\n",
       "                                                        stop_words=&#x27;english&#x27;)),\n",
       "                                       (&#x27;rf&#x27;, RandomForestClassifier())]),\n",
       "             param_grid={&#x27;rf__max_depth&#x27;: [3, 4, 5],\n",
       "                         &#x27;rf__min_samples_split&#x27;: [10, 50, 100],\n",
       "                         &#x27;rf__n_estimators&#x27;: [100, 200, 300]},\n",
       "             verbose=1)</pre><b>In a Jupyter environment, please rerun this cell to show the HTML representation or trust the notebook. <br />On GitHub, the HTML representation is unable to render, please try loading this page with nbviewer.org.</b></div><div class=\"sk-container\" hidden><div class=\"sk-item sk-dashed-wrapped\"><div class=\"sk-label-container\"><div class=\"sk-label sk-toggleable\"><input class=\"sk-toggleable__control sk-hidden--visually\" id=\"sk-estimator-id-22\" type=\"checkbox\" ><label for=\"sk-estimator-id-22\" class=\"sk-toggleable__label sk-toggleable__label-arrow\">GridSearchCV</label><div class=\"sk-toggleable__content\"><pre>GridSearchCV(cv=5,\n",
       "             estimator=Pipeline(steps=[(&#x27;tvec&#x27;,\n",
       "                                        TfidfVectorizer(max_df=0.9,\n",
       "                                                        max_features=5000,\n",
       "                                                        min_df=3,\n",
       "                                                        ngram_range=(1, 2),\n",
       "                                                        stop_words=&#x27;english&#x27;)),\n",
       "                                       (&#x27;rf&#x27;, RandomForestClassifier())]),\n",
       "             param_grid={&#x27;rf__max_depth&#x27;: [3, 4, 5],\n",
       "                         &#x27;rf__min_samples_split&#x27;: [10, 50, 100],\n",
       "                         &#x27;rf__n_estimators&#x27;: [100, 200, 300]},\n",
       "             verbose=1)</pre></div></div></div><div class=\"sk-parallel\"><div class=\"sk-parallel-item\"><div class=\"sk-item\"><div class=\"sk-label-container\"><div class=\"sk-label sk-toggleable\"><input class=\"sk-toggleable__control sk-hidden--visually\" id=\"sk-estimator-id-23\" type=\"checkbox\" ><label for=\"sk-estimator-id-23\" class=\"sk-toggleable__label sk-toggleable__label-arrow\">estimator: Pipeline</label><div class=\"sk-toggleable__content\"><pre>Pipeline(steps=[(&#x27;tvec&#x27;,\n",
       "                 TfidfVectorizer(max_df=0.9, max_features=5000, min_df=3,\n",
       "                                 ngram_range=(1, 2), stop_words=&#x27;english&#x27;)),\n",
       "                (&#x27;rf&#x27;, RandomForestClassifier())])</pre></div></div></div><div class=\"sk-serial\"><div class=\"sk-item\"><div class=\"sk-serial\"><div class=\"sk-item\"><div class=\"sk-estimator sk-toggleable\"><input class=\"sk-toggleable__control sk-hidden--visually\" id=\"sk-estimator-id-24\" type=\"checkbox\" ><label for=\"sk-estimator-id-24\" class=\"sk-toggleable__label sk-toggleable__label-arrow\">TfidfVectorizer</label><div class=\"sk-toggleable__content\"><pre>TfidfVectorizer(max_df=0.9, max_features=5000, min_df=3, ngram_range=(1, 2),\n",
       "                stop_words=&#x27;english&#x27;)</pre></div></div></div><div class=\"sk-item\"><div class=\"sk-estimator sk-toggleable\"><input class=\"sk-toggleable__control sk-hidden--visually\" id=\"sk-estimator-id-25\" type=\"checkbox\" ><label for=\"sk-estimator-id-25\" class=\"sk-toggleable__label sk-toggleable__label-arrow\">RandomForestClassifier</label><div class=\"sk-toggleable__content\"><pre>RandomForestClassifier()</pre></div></div></div></div></div></div></div></div></div></div></div></div>"
      ],
      "text/plain": [
       "GridSearchCV(cv=5,\n",
       "             estimator=Pipeline(steps=[('tvec',\n",
       "                                        TfidfVectorizer(max_df=0.9,\n",
       "                                                        max_features=5000,\n",
       "                                                        min_df=3,\n",
       "                                                        ngram_range=(1, 2),\n",
       "                                                        stop_words='english')),\n",
       "                                       ('rf', RandomForestClassifier())]),\n",
       "             param_grid={'rf__max_depth': [3, 4, 5],\n",
       "                         'rf__min_samples_split': [10, 50, 100],\n",
       "                         'rf__n_estimators': [100, 200, 300]},\n",
       "             verbose=1)"
      ]
     },
     "execution_count": 105,
     "metadata": {},
     "output_type": "execute_result"
    }
   ],
   "source": [
    "rf_tvec_gs.fit(X_train,y_train)"
   ]
  },
  {
   "cell_type": "code",
   "execution_count": 106,
   "id": "5bc77d43-fd8b-42ea-9bde-d5bdbc4604d5",
   "metadata": {
    "tags": []
   },
   "outputs": [
    {
     "data": {
      "text/plain": [
       "0.7473382473382474"
      ]
     },
     "execution_count": 106,
     "metadata": {},
     "output_type": "execute_result"
    }
   ],
   "source": [
    "metrics.recall_score(y_train,rf_tvec_gs.predict(X_train))"
   ]
  },
  {
   "cell_type": "code",
   "execution_count": 107,
   "id": "940b96aa-1e73-4af6-aa64-a207dc1492c6",
   "metadata": {
    "tags": []
   },
   "outputs": [],
   "source": [
    "y_pred = rf_tvec_gs.predict(X_test)"
   ]
  },
  {
   "cell_type": "code",
   "execution_count": 108,
   "id": "5857fdc2-ef75-437c-a57a-38ce245637a1",
   "metadata": {
    "tags": []
   },
   "outputs": [
    {
     "name": "stdout",
     "output_type": "stream",
     "text": [
      "              precision    recall  f1-score   support\n",
      "\n",
      "           0       0.78      0.94      0.86       611\n",
      "           1       0.93      0.74      0.82       610\n",
      "\n",
      "    accuracy                           0.84      1221\n",
      "   macro avg       0.86      0.84      0.84      1221\n",
      "weighted avg       0.86      0.84      0.84      1221\n",
      "\n"
     ]
    }
   ],
   "source": [
    "downsampled_tvec_rf_score=(metrics.classification_report(y_test,y_pred))\n",
    "print(downsampled_tvec_rf_score)"
   ]
  },
  {
   "cell_type": "markdown",
   "id": "b8f25d7a-90f2-4935-a8c8-8bc597db7c00",
   "metadata": {},
   "source": [
    "With all the model's fitted, I will now compare it all and choose the final model."
   ]
  },
  {
   "cell_type": "markdown",
   "id": "e9763308-1934-40f2-9ec2-4221c3971727",
   "metadata": {},
   "source": [
    "# Final Model Selection"
   ]
  },
  {
   "cell_type": "markdown",
   "id": "05a8e18d-0f9e-4bb1-84a6-5703125d3a67",
   "metadata": {
    "tags": []
   },
   "source": [
    "<table><thead><tr><th>No.</th><th>Model</th><th>Target</th><th>Precision</th><th>Recall</th><th>f1-score</th><th>support</th></tr></thead><tbody><tr><td rowspan=\"2\">1</td><td rowspan=\"2\">Improved Model<br>(CountVectorizer - MultinomialNB)</td><td>0</td><td>0.94</td><td>0.96</td><td>0.95</td><td>3403</td></tr><tr><td>1</td><td>0.73</td><td>0.64</td><td>0.68</td><td>610</td></tr><tr><td rowspan=\"2\">2</td><td rowspan=\"2\">Downsampled Model<br>(CountVectorizer - MultinomialNB)</td><td>0</td><td>0.88</td><td>0.59</td><td>0.71</td><td>611</td></tr><tr><td>1</td><td>0.69</td><td>0.92</td><td>0.79</td><td>610</td></tr><tr><td rowspan=\"2\">3</td><td rowspan=\"2\">Downsampled Random Forest Model<br>(CountVectorizer - Random Forest)</td><td>0</td><td>0.78</td><td>0.94</td><td>0.85</td><td>611</td></tr><tr><td>1</td><td>0.93</td><td>0.73</td><td>0.82</td><td>610</td></tr><tr><td rowspan=\"2\">4</td><td rowspan=\"2\">Improved Model<br>(TF-IDF Vectorizer - MultinomialNB)</td><td>0</td><td>0.88</td><td>1.00</td><td>0.94</td><td>3403</td></tr><tr><td>1</td><td>0.99</td><td>0.24</td><td>0.39</td><td>610</td></tr><tr><td rowspan=\"2\">5</td><td rowspan=\"2\">Downsampled Model<br>(TF-IDF Vectorizer - MultinomialNB)</td><td>0</td><td>0.84</td><td>0.65</td><td>0.73</td><td>611</td></tr><tr><td>1</td><td>0.71</td><td>0.88</td><td>0.79</td><td>610</td></tr><tr><td rowspan=\"2\">6</td><td rowspan=\"2\">Downsampled Random Forest Model<br>(TF-IDF Vectorizer - Random Forest)</td><td>0</td><td>0.78</td><td>0.94</td><td>0.86</td><td>611</td></tr><tr><td>1</td><td>0.93</td><td>0.74</td><td>0.82</td><td>610</td></tr></tbody></table>"
   ]
  },
  {
   "cell_type": "markdown",
   "id": "dc7039a0-c23f-4c56-866d-bed360e1d9d0",
   "metadata": {},
   "source": [
    "An overview of all the models and its results."
   ]
  },
  {
   "cell_type": "markdown",
   "id": "39745986-b598-48cc-baa0-b70ec2b05180",
   "metadata": {},
   "source": [
    "### Conclusions & Recommendations\n",
    "\n",
    "To conclude, in the context of the problem statement, the best model would be model number 2, the Downsampled CountVectorized Multinomial NB model.\n",
    "\n",
    "This is as the model had the highest recall for the target label 1 or offensive commments, which is what the problem statement seeks to achieve, to identify as many offensive comments as possible. In this regard, the project has succeeded as it produced a model which is able to correctly identify 92% of offensive comments.\n",
    "\n",
    "The school can now run all student comments through the model to flag out offensive comments before they get posted to the message boards.\n",
    "\n",
    "Recommendations for the school to further improve on this model are as follows:\n",
    "1. Once the new message board has been rolled out, they can create topics similar to the concept of subreddits. This will give an additional datapoint for future models to learn from, as can be seen from my EDA that the subreddit the comment was scraped for had an effect on the probability of the comment being offensive. The school can therefore take note of certain topics which are more likely to produce offensive comments.\n",
    "1. To include other languages as part of the model, as Singapore is a multiracial country, the students will submit comments in other languages as well. Future models will therefore need to be trained in the local languages to identify offensive comments."
   ]
  }
 ],
 "metadata": {
  "kernelspec": {
   "display_name": "Python 3 (ipykernel)",
   "language": "python",
   "name": "python3"
  },
  "language_info": {
   "codemirror_mode": {
    "name": "ipython",
    "version": 3
   },
   "file_extension": ".py",
   "mimetype": "text/x-python",
   "name": "python",
   "nbconvert_exporter": "python",
   "pygments_lexer": "ipython3",
   "version": "3.8.16"
  }
 },
 "nbformat": 4,
 "nbformat_minor": 5
}
