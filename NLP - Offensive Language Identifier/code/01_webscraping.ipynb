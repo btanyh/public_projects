{
 "cells": [
  {
   "cell_type": "markdown",
   "id": "af2742a3-3d02-4aee-9b13-998e155f928d",
   "metadata": {},
   "source": [
    "## Problem Statement\n",
    "\n"
   ]
  },
  {
   "cell_type": "markdown",
   "id": "87d4713a-bade-4694-b547-3666583bd1f9",
   "metadata": {},
   "source": [
    "\n",
    "The aim of this project is to develop a machine learning model that can accurately identify offensive comments on an online message board that a university in Singapore is planning to launch. The message board is intended to foster a sense of community among students, but the university is concerned about the potential for offensive comments as it may include elements of racism, sexism, or other forms of discrimination. These offensive comments can have far-reaching consequences beyond the message board itself. Negative attention from local media or other stakeholders can damage the university's reputation and put it in a negative spotlight. Hence, they have approached us to solve this issue.\n",
    "\n",
    "To address this concern, we will collect a dataset of comments from the popular social media platform Reddit, which is similar to the message board the university plans to implement, and whose [user base largely overlaps with the university's student population](https://www.statista.com/statistics/261766/share-of-us-internet-users-who-use-reddit-by-age-group/). We will use text classification algorithms, specifically Multinomial Naive Bayes and Random Forest, to train and evaluate models on this dataset, with a focus on achieving high recall scores to accurately identify offensive comments.\n",
    "\n",
    "We will also explore the impact of various pre-processing techniques, such as stopword removal, removing of special characters, and lemmatizing, on model performance. Finally, we will present the best performing model to the university, along with recommendations for implementation and ongoing monitoring of the message board.\n",
    "\n",
    "Overall, the goal of this project is to provide the university with a tool to identify and address offensive comments on their online message board."
   ]
  },
  {
   "cell_type": "markdown",
   "id": "4cdfc448-97c8-4642-8296-3e3f367dcaa4",
   "metadata": {},
   "source": [
    "## Data Scraping from Reddit"
   ]
  },
  {
   "cell_type": "markdown",
   "id": "94adb378-26ed-439a-b934-c2732212d69c",
   "metadata": {},
   "source": [
    "To get my dataset, I will be scraping data from Reddit, a popular [social news aggregation, content rating, and discussion website.](https://en.wikipedia.org/wiki/Reddit) I will be using PRAW which stands for Python Reddit API Wrapper. The documentation can be found [here](https://praw.readthedocs.io/en/stable/index.html).\n",
    "\n",
    "I aim to get around 10,000 rows for this dataset, but it can always be increased if more data is required.\n",
    "\n",
    "It will be broken down in the following manner:\n",
    "\n",
    "I will scrape the following 10 subreddits:\n",
    "1. Politics\n",
    "1. Science\n",
    "1. Art\n",
    "1. Music\n",
    "1. Funny\n",
    "1. News\n",
    "1. Movies\n",
    "1. Singapore\n",
    "1. TodayILearned\n",
    "1. NotTheOnion\n",
    "\n",
    "These subreddits have been chosen as they are extremely popular subreddits with tens of millions of members. The exception would be the subreddit 'Singapore', I have included it to have representation in the local context and to also better fit the problem statement.\n",
    "\n",
    "From each subreddit, I will get the 100 'hottest' posts at the time of scraping as defined by reddit's algorithm.\n",
    "\n",
    "From these 100 hot posts, I will then get the 'best' 10 comments in the post as defined by reddit's algorithm.\n",
    "\n",
    "This will give me 100 posts x 10 comments x 10 subreddits = 10000 rows of data"
   ]
  },
  {
   "cell_type": "code",
   "execution_count": 1,
   "id": "65c1aa87-cf7d-43c9-8c46-91c00b264ceb",
   "metadata": {},
   "outputs": [],
   "source": [
    "import praw # PRAW stands for Python Reddit API Wrapper, I will be using this to scrape reddit for data.\n",
    "from tqdm import tqdm # timer to track my loops as it will take hours to scrape and classify the dataset.\n",
    "from googleapiclient import discovery # API which I will be using to generate my y labels.\n",
    "import langdetect # using for language detection\n",
    "from langdetect.lang_detect_exception import LangDetectException # using it in a try except loop\n",
    "from IPython.display import display # Used to display images\n",
    "from PIL import Image #Used to display images\n",
    "\n",
    "import praw_credentials # to hide my api key\n",
    "import perspective_credentials # to hide my api key\n",
    "import json\n",
    "import numpy as np\n",
    "import pandas as pd\n",
    "import os \n",
    "import time # to wait a certain amount of time to avoid hitting quota of API"
   ]
  },
  {
   "cell_type": "code",
   "execution_count": 2,
   "id": "c8b0c074-afd6-4db9-b6a5-b55d53a6c3ea",
   "metadata": {
    "tags": []
   },
   "outputs": [],
   "source": [
    "reddit = praw.Reddit(client_id=praw_credentials.client_id,\n",
    "                     client_secret=praw_credentials.client_secret,\n",
    "                     username=praw_credentials.username,\n",
    "                     password=praw_credentials.password,\n",
    "                     user_agent=praw_credentials.user_agent)"
   ]
  },
  {
   "cell_type": "code",
   "execution_count": 3,
   "id": "43de7f99-c933-42a7-80a5-ac475495e6b4",
   "metadata": {
    "scrolled": true,
    "tags": []
   },
   "outputs": [
    {
     "data": {
      "text/html": [
       "<div>\n",
       "<style scoped>\n",
       "    .dataframe tbody tr th:only-of-type {\n",
       "        vertical-align: middle;\n",
       "    }\n",
       "\n",
       "    .dataframe tbody tr th {\n",
       "        vertical-align: top;\n",
       "    }\n",
       "\n",
       "    .dataframe thead th {\n",
       "        text-align: right;\n",
       "    }\n",
       "</style>\n",
       "<table border=\"1\" class=\"dataframe\">\n",
       "  <thead>\n",
       "    <tr style=\"text-align: right;\">\n",
       "      <th></th>\n",
       "      <th>title</th>\n",
       "      <th>score</th>\n",
       "      <th>subreddit</th>\n",
       "      <th>id</th>\n",
       "      <th>url</th>\n",
       "      <th>num_comments</th>\n",
       "    </tr>\n",
       "  </thead>\n",
       "  <tbody>\n",
       "    <tr>\n",
       "      <th>0</th>\n",
       "      <td>The most random thing seen today</td>\n",
       "      <td>2401</td>\n",
       "      <td>singapore</td>\n",
       "      <td>12vudx3</td>\n",
       "      <td>https://i.redd.it/45m1m99xjlva1.jpg</td>\n",
       "      <td>168</td>\n",
       "    </tr>\n",
       "    <tr>\n",
       "      <th>1</th>\n",
       "      <td>M'sian man, 67, rides to S'pore at 2am twice a...</td>\n",
       "      <td>339</td>\n",
       "      <td>singapore</td>\n",
       "      <td>12vvd8f</td>\n",
       "      <td>https://mothership.sg/2023/04/malaysian-man-so...</td>\n",
       "      <td>42</td>\n",
       "    </tr>\n",
       "    <tr>\n",
       "      <th>2</th>\n",
       "      <td>The 5 dollar note tree</td>\n",
       "      <td>203</td>\n",
       "      <td>singapore</td>\n",
       "      <td>12vtf6g</td>\n",
       "      <td>https://i.redd.it/17dhk27edlva1.jpg</td>\n",
       "      <td>14</td>\n",
       "    </tr>\n",
       "    <tr>\n",
       "      <th>3</th>\n",
       "      <td>Politically apathetic? Not us, say PAP and opp...</td>\n",
       "      <td>102</td>\n",
       "      <td>singapore</td>\n",
       "      <td>12vqv6c</td>\n",
       "      <td>https://www.straitstimes.com/singapore/politic...</td>\n",
       "      <td>90</td>\n",
       "    </tr>\n",
       "    <tr>\n",
       "      <th>4</th>\n",
       "      <td>Soaring COE prices: What’s driving the insanit...</td>\n",
       "      <td>41</td>\n",
       "      <td>singapore</td>\n",
       "      <td>12vwgro</td>\n",
       "      <td>https://www.straitstimes.com/singapore/transpo...</td>\n",
       "      <td>45</td>\n",
       "    </tr>\n",
       "    <tr>\n",
       "      <th>...</th>\n",
       "      <td>...</td>\n",
       "      <td>...</td>\n",
       "      <td>...</td>\n",
       "      <td>...</td>\n",
       "      <td>...</td>\n",
       "      <td>...</td>\n",
       "    </tr>\n",
       "    <tr>\n",
       "      <th>94</th>\n",
       "      <td>IKEA sells 12-inch hotdog for S$1 to celebrate...</td>\n",
       "      <td>281</td>\n",
       "      <td>singapore</td>\n",
       "      <td>12swy0o</td>\n",
       "      <td>https://mothership.sg/2023/04/ikea-12-inch-hot...</td>\n",
       "      <td>64</td>\n",
       "    </tr>\n",
       "    <tr>\n",
       "      <th>95</th>\n",
       "      <td>34,000 trees planted in Jurong Island, increas...</td>\n",
       "      <td>10</td>\n",
       "      <td>singapore</td>\n",
       "      <td>12tthlu</td>\n",
       "      <td>https://www.straitstimes.com/singapore/34000-t...</td>\n",
       "      <td>4</td>\n",
       "    </tr>\n",
       "    <tr>\n",
       "      <th>96</th>\n",
       "      <td>Commentary: Why tropical Singapore sent an exp...</td>\n",
       "      <td>0</td>\n",
       "      <td>singapore</td>\n",
       "      <td>12ul15r</td>\n",
       "      <td>https://www.channelnewsasia.com/commentary/cli...</td>\n",
       "      <td>10</td>\n",
       "    </tr>\n",
       "    <tr>\n",
       "      <th>97</th>\n",
       "      <td>Giant double rainbow spotted in Singapore: How...</td>\n",
       "      <td>5</td>\n",
       "      <td>singapore</td>\n",
       "      <td>12twzgj</td>\n",
       "      <td>https://www.straitstimes.com/singapore/environ...</td>\n",
       "      <td>6</td>\n",
       "    </tr>\n",
       "    <tr>\n",
       "      <th>98</th>\n",
       "      <td>caught this blatant ignoring red light. should...</td>\n",
       "      <td>451</td>\n",
       "      <td>singapore</td>\n",
       "      <td>12sr69g</td>\n",
       "      <td>https://v.redd.it/679jt85t10va1</td>\n",
       "      <td>202</td>\n",
       "    </tr>\n",
       "  </tbody>\n",
       "</table>\n",
       "<p>99 rows × 6 columns</p>\n",
       "</div>"
      ],
      "text/plain": [
       "                                                title  score  subreddit  \\\n",
       "0                    The most random thing seen today   2401  singapore   \n",
       "1   M'sian man, 67, rides to S'pore at 2am twice a...    339  singapore   \n",
       "2                              The 5 dollar note tree    203  singapore   \n",
       "3   Politically apathetic? Not us, say PAP and opp...    102  singapore   \n",
       "4   Soaring COE prices: What’s driving the insanit...     41  singapore   \n",
       "..                                                ...    ...        ...   \n",
       "94  IKEA sells 12-inch hotdog for S$1 to celebrate...    281  singapore   \n",
       "95  34,000 trees planted in Jurong Island, increas...     10  singapore   \n",
       "96  Commentary: Why tropical Singapore sent an exp...      0  singapore   \n",
       "97  Giant double rainbow spotted in Singapore: How...      5  singapore   \n",
       "98  caught this blatant ignoring red light. should...    451  singapore   \n",
       "\n",
       "         id                                                url  num_comments  \n",
       "0   12vudx3                https://i.redd.it/45m1m99xjlva1.jpg           168  \n",
       "1   12vvd8f  https://mothership.sg/2023/04/malaysian-man-so...            42  \n",
       "2   12vtf6g                https://i.redd.it/17dhk27edlva1.jpg            14  \n",
       "3   12vqv6c  https://www.straitstimes.com/singapore/politic...            90  \n",
       "4   12vwgro  https://www.straitstimes.com/singapore/transpo...            45  \n",
       "..      ...                                                ...           ...  \n",
       "94  12swy0o  https://mothership.sg/2023/04/ikea-12-inch-hot...            64  \n",
       "95  12tthlu  https://www.straitstimes.com/singapore/34000-t...             4  \n",
       "96  12ul15r  https://www.channelnewsasia.com/commentary/cli...            10  \n",
       "97  12twzgj  https://www.straitstimes.com/singapore/environ...             6  \n",
       "98  12sr69g                    https://v.redd.it/679jt85t10va1           202  \n",
       "\n",
       "[99 rows x 6 columns]"
      ]
     },
     "execution_count": 3,
     "metadata": {},
     "output_type": "execute_result"
    }
   ],
   "source": [
    "posts = []\n",
    "subreddit = reddit.subreddit('singapore') # assigning a particular subreddit to my variable subreddit\n",
    "\n",
    "for post in subreddit.hot(): #iterating through the hottest posts in the assigned subreddit\n",
    "    if post.stickied or post.subreddit.display_name == \"promoted\": #This is to skip pinned threads and advertisements, these aren't actually user submitted posts, so I will skip them.\n",
    "        continue\n",
    "    post_row = [post.title, post.score, post.subreddit, post.id, post.url, post.num_comments]# assigning the various attributes of each 'post' into a list which will be my column values.\n",
    "    posts.append(post_row) #appending each iteration of post_rows into my posts list, which are my data's column values\n",
    "    \n",
    "posts = pd.DataFrame(posts, columns=['title', 'score', 'subreddit','id', 'url', 'num_comments']) #Converting the posts list into a data frame with appropriately titled columns.\n",
    "posts"
   ]
  },
  {
   "cell_type": "markdown",
   "id": "ee1eb98f-4e42-4b5a-9715-ec625fe6a2ed",
   "metadata": {},
   "source": [
    "The scraping works for the posts. Now to scrape comments from within each post. To do that, I will need to expand my code and use nested loops."
   ]
  },
  {
   "cell_type": "code",
   "execution_count": 4,
   "id": "436caef6-85d4-4a19-8826-9532df5454cc",
   "metadata": {
    "tags": []
   },
   "outputs": [
    {
     "data": {
      "text/html": [
       "<div>\n",
       "<style scoped>\n",
       "    .dataframe tbody tr th:only-of-type {\n",
       "        vertical-align: middle;\n",
       "    }\n",
       "\n",
       "    .dataframe tbody tr th {\n",
       "        vertical-align: top;\n",
       "    }\n",
       "\n",
       "    .dataframe thead th {\n",
       "        text-align: right;\n",
       "    }\n",
       "</style>\n",
       "<table border=\"1\" class=\"dataframe\">\n",
       "  <thead>\n",
       "    <tr style=\"text-align: right;\">\n",
       "      <th></th>\n",
       "      <th>title</th>\n",
       "      <th>score</th>\n",
       "      <th>subreddit</th>\n",
       "      <th>id</th>\n",
       "      <th>url</th>\n",
       "      <th>num_comments</th>\n",
       "      <th>comment</th>\n",
       "    </tr>\n",
       "  </thead>\n",
       "  <tbody>\n",
       "    <tr>\n",
       "      <th>0</th>\n",
       "      <td>The most random thing seen today</td>\n",
       "      <td>2399</td>\n",
       "      <td>singapore</td>\n",
       "      <td>12vudx3</td>\n",
       "      <td>https://i.redd.it/45m1m99xjlva1.jpg</td>\n",
       "      <td>168</td>\n",
       "      <td>Quite impressive for it to take the escalator ...</td>\n",
       "    </tr>\n",
       "    <tr>\n",
       "      <th>1</th>\n",
       "      <td>The most random thing seen today</td>\n",
       "      <td>2399</td>\n",
       "      <td>singapore</td>\n",
       "      <td>12vudx3</td>\n",
       "      <td>https://i.redd.it/45m1m99xjlva1.jpg</td>\n",
       "      <td>168</td>\n",
       "      <td>Spring(leaf) Chicken.</td>\n",
       "    </tr>\n",
       "    <tr>\n",
       "      <th>2</th>\n",
       "      <td>The most random thing seen today</td>\n",
       "      <td>2399</td>\n",
       "      <td>singapore</td>\n",
       "      <td>12vudx3</td>\n",
       "      <td>https://i.redd.it/45m1m99xjlva1.jpg</td>\n",
       "      <td>168</td>\n",
       "      <td>\"Commuters who are caught evading fares will b...</td>\n",
       "    </tr>\n",
       "    <tr>\n",
       "      <th>3</th>\n",
       "      <td>The most random thing seen today</td>\n",
       "      <td>2399</td>\n",
       "      <td>singapore</td>\n",
       "      <td>12vudx3</td>\n",
       "      <td>https://i.redd.it/45m1m99xjlva1.jpg</td>\n",
       "      <td>168</td>\n",
       "      <td>Why did the chicken take the train?</td>\n",
       "    </tr>\n",
       "    <tr>\n",
       "      <th>4</th>\n",
       "      <td>The most random thing seen today</td>\n",
       "      <td>2399</td>\n",
       "      <td>singapore</td>\n",
       "      <td>12vudx3</td>\n",
       "      <td>https://i.redd.it/45m1m99xjlva1.jpg</td>\n",
       "      <td>168</td>\n",
       "      <td>damn, grab delivery really upped their game in...</td>\n",
       "    </tr>\n",
       "    <tr>\n",
       "      <th>5</th>\n",
       "      <td>M'sian man, 67, rides to S'pore at 2am twice a...</td>\n",
       "      <td>343</td>\n",
       "      <td>singapore</td>\n",
       "      <td>12vvd8f</td>\n",
       "      <td>https://mothership.sg/2023/04/malaysian-man-so...</td>\n",
       "      <td>42</td>\n",
       "      <td>Damn, dude really let his father down.</td>\n",
       "    </tr>\n",
       "    <tr>\n",
       "      <th>6</th>\n",
       "      <td>M'sian man, 67, rides to S'pore at 2am twice a...</td>\n",
       "      <td>343</td>\n",
       "      <td>singapore</td>\n",
       "      <td>12vvd8f</td>\n",
       "      <td>https://mothership.sg/2023/04/malaysian-man-so...</td>\n",
       "      <td>42</td>\n",
       "      <td>If somebody makes a wrong decision in their li...</td>\n",
       "    </tr>\n",
       "    <tr>\n",
       "      <th>7</th>\n",
       "      <td>M'sian man, 67, rides to S'pore at 2am twice a...</td>\n",
       "      <td>343</td>\n",
       "      <td>singapore</td>\n",
       "      <td>12vvd8f</td>\n",
       "      <td>https://mothership.sg/2023/04/malaysian-man-so...</td>\n",
       "      <td>42</td>\n",
       "      <td>Mainstream media portraying drug traffickers i...</td>\n",
       "    </tr>\n",
       "    <tr>\n",
       "      <th>8</th>\n",
       "      <td>M'sian man, 67, rides to S'pore at 2am twice a...</td>\n",
       "      <td>343</td>\n",
       "      <td>singapore</td>\n",
       "      <td>12vvd8f</td>\n",
       "      <td>https://mothership.sg/2023/04/malaysian-man-so...</td>\n",
       "      <td>42</td>\n",
       "      <td>Drugs destroy families, including the traffick...</td>\n",
       "    </tr>\n",
       "    <tr>\n",
       "      <th>9</th>\n",
       "      <td>M'sian man, 67, rides to S'pore at 2am twice a...</td>\n",
       "      <td>343</td>\n",
       "      <td>singapore</td>\n",
       "      <td>12vvd8f</td>\n",
       "      <td>https://mothership.sg/2023/04/malaysian-man-so...</td>\n",
       "      <td>42</td>\n",
       "      <td>Drug wise, tragedy all around.\\n\\nI consider t...</td>\n",
       "    </tr>\n",
       "  </tbody>\n",
       "</table>\n",
       "</div>"
      ],
      "text/plain": [
       "                                               title  score  subreddit  \\\n",
       "0                   The most random thing seen today   2399  singapore   \n",
       "1                   The most random thing seen today   2399  singapore   \n",
       "2                   The most random thing seen today   2399  singapore   \n",
       "3                   The most random thing seen today   2399  singapore   \n",
       "4                   The most random thing seen today   2399  singapore   \n",
       "5  M'sian man, 67, rides to S'pore at 2am twice a...    343  singapore   \n",
       "6  M'sian man, 67, rides to S'pore at 2am twice a...    343  singapore   \n",
       "7  M'sian man, 67, rides to S'pore at 2am twice a...    343  singapore   \n",
       "8  M'sian man, 67, rides to S'pore at 2am twice a...    343  singapore   \n",
       "9  M'sian man, 67, rides to S'pore at 2am twice a...    343  singapore   \n",
       "\n",
       "        id                                                url  num_comments  \\\n",
       "0  12vudx3                https://i.redd.it/45m1m99xjlva1.jpg           168   \n",
       "1  12vudx3                https://i.redd.it/45m1m99xjlva1.jpg           168   \n",
       "2  12vudx3                https://i.redd.it/45m1m99xjlva1.jpg           168   \n",
       "3  12vudx3                https://i.redd.it/45m1m99xjlva1.jpg           168   \n",
       "4  12vudx3                https://i.redd.it/45m1m99xjlva1.jpg           168   \n",
       "5  12vvd8f  https://mothership.sg/2023/04/malaysian-man-so...            42   \n",
       "6  12vvd8f  https://mothership.sg/2023/04/malaysian-man-so...            42   \n",
       "7  12vvd8f  https://mothership.sg/2023/04/malaysian-man-so...            42   \n",
       "8  12vvd8f  https://mothership.sg/2023/04/malaysian-man-so...            42   \n",
       "9  12vvd8f  https://mothership.sg/2023/04/malaysian-man-so...            42   \n",
       "\n",
       "                                             comment  \n",
       "0  Quite impressive for it to take the escalator ...  \n",
       "1                              Spring(leaf) Chicken.  \n",
       "2  \"Commuters who are caught evading fares will b...  \n",
       "3                Why did the chicken take the train?  \n",
       "4  damn, grab delivery really upped their game in...  \n",
       "5             Damn, dude really let his father down.  \n",
       "6  If somebody makes a wrong decision in their li...  \n",
       "7  Mainstream media portraying drug traffickers i...  \n",
       "8  Drugs destroy families, including the traffick...  \n",
       "9  Drug wise, tragedy all around.\\n\\nI consider t...  "
      ]
     },
     "execution_count": 4,
     "metadata": {},
     "output_type": "execute_result"
    }
   ],
   "source": [
    "posts = []\n",
    "subreddit = reddit.subreddit('singapore') # assigning a particular subreddit to my variable subreddit.\n",
    "total_rows_added = 0 #I will be using this variable to track the number of rows I have added.\n",
    "\n",
    "for post in subreddit.hot(): #iterating through the hottest posts in the assigned subreddit.\n",
    "    \n",
    "    if post.stickied or post.subreddit.display_name == \"promoted\":#This is to skip pinned threads and advertisements, these aren't actually user submitted posts, so I will skip them.\n",
    "        continue\n",
    "    post_row = [post.title, post.score, post.subreddit, post.id, post.url, post.num_comments]# assigning the various attributes of each 'post' into a list which will be my column values.\n",
    "        \n",
    "        \n",
    "    post.comments.replace_more(limit=0)# this is accessing the comments from within the post. \n",
    "    num_comments_printed = 0 # This is to track the number of comments scraped from a particular post.\n",
    "    for comment in post.comments:\n",
    "        if comment.stickied: #This is to skip stickied comments as it is usually a reminder about the particular subreddit's rules and not actual user submitted comments.\n",
    "            continue\n",
    "        num_comments_printed +=1\n",
    "        comment_row = list(post_row) # make a copy of the post row for each comment so that my final dataframe will have the same values for all other features, and only the value under the comment column will change\n",
    "        comment_row.append(comment.body)\n",
    "        posts.append(comment_row) #appending the post attributes and the comments to posts list which will be my data values.\n",
    "        if num_comments_printed == 5: # once 10 comments have been scraped from a particular post, to move on to the next post.\n",
    "            break\n",
    "            \n",
    "    total_rows_added = len(posts) # to check how many comments have been added to the final dataset so far.\n",
    "    \n",
    "    if total_rows_added >= 10: # break out of the loop once the desired amount of rows have been added.\n",
    "        break\n",
    "        \n",
    "# create dataframe\n",
    "posts = pd.DataFrame(posts, columns=['title', 'score', 'subreddit','id', 'url', 'num_comments', 'comment'])\n",
    "posts\n"
   ]
  },
  {
   "cell_type": "markdown",
   "id": "af081cf3-4071-437c-a89f-890f91c6c439",
   "metadata": {},
   "source": [
    "Scraping for comments of different posts works as well. Now to expand the code further to iterate through different subreddits and grab the corresponding posts and comments.\n",
    "\n",
    "I will need to implement more nested loops."
   ]
  },
  {
   "cell_type": "code",
   "execution_count": 6,
   "id": "6e152bf8-bb5a-4f7e-ab72-ea95d86bc769",
   "metadata": {
    "scrolled": true,
    "tags": []
   },
   "outputs": [
    {
     "data": {
      "text/html": [
       "<div>\n",
       "<style scoped>\n",
       "    .dataframe tbody tr th:only-of-type {\n",
       "        vertical-align: middle;\n",
       "    }\n",
       "\n",
       "    .dataframe tbody tr th {\n",
       "        vertical-align: top;\n",
       "    }\n",
       "\n",
       "    .dataframe thead th {\n",
       "        text-align: right;\n",
       "    }\n",
       "</style>\n",
       "<table border=\"1\" class=\"dataframe\">\n",
       "  <thead>\n",
       "    <tr style=\"text-align: right;\">\n",
       "      <th></th>\n",
       "      <th>title</th>\n",
       "      <th>score</th>\n",
       "      <th>subreddit</th>\n",
       "      <th>id</th>\n",
       "      <th>url</th>\n",
       "      <th>num_comments</th>\n",
       "      <th>comment</th>\n",
       "    </tr>\n",
       "  </thead>\n",
       "  <tbody>\n",
       "    <tr>\n",
       "      <th>0</th>\n",
       "      <td>The most random thing seen today</td>\n",
       "      <td>2405</td>\n",
       "      <td>singapore</td>\n",
       "      <td>12vudx3</td>\n",
       "      <td>https://i.redd.it/45m1m99xjlva1.jpg</td>\n",
       "      <td>171</td>\n",
       "      <td>Quite impressive for it to take the escalator ...</td>\n",
       "    </tr>\n",
       "    <tr>\n",
       "      <th>1</th>\n",
       "      <td>The most random thing seen today</td>\n",
       "      <td>2405</td>\n",
       "      <td>singapore</td>\n",
       "      <td>12vudx3</td>\n",
       "      <td>https://i.redd.it/45m1m99xjlva1.jpg</td>\n",
       "      <td>171</td>\n",
       "      <td>Spring(leaf) Chicken.</td>\n",
       "    </tr>\n",
       "    <tr>\n",
       "      <th>2</th>\n",
       "      <td>The most random thing seen today</td>\n",
       "      <td>2405</td>\n",
       "      <td>singapore</td>\n",
       "      <td>12vudx3</td>\n",
       "      <td>https://i.redd.it/45m1m99xjlva1.jpg</td>\n",
       "      <td>171</td>\n",
       "      <td>\"Commuters who are caught evading fares will b...</td>\n",
       "    </tr>\n",
       "    <tr>\n",
       "      <th>3</th>\n",
       "      <td>The most random thing seen today</td>\n",
       "      <td>2405</td>\n",
       "      <td>singapore</td>\n",
       "      <td>12vudx3</td>\n",
       "      <td>https://i.redd.it/45m1m99xjlva1.jpg</td>\n",
       "      <td>171</td>\n",
       "      <td>Why did the chicken take the train?</td>\n",
       "    </tr>\n",
       "    <tr>\n",
       "      <th>4</th>\n",
       "      <td>The most random thing seen today</td>\n",
       "      <td>2405</td>\n",
       "      <td>singapore</td>\n",
       "      <td>12vudx3</td>\n",
       "      <td>https://i.redd.it/45m1m99xjlva1.jpg</td>\n",
       "      <td>171</td>\n",
       "      <td>damn, grab delivery really upped their game in...</td>\n",
       "    </tr>\n",
       "    <tr>\n",
       "      <th>...</th>\n",
       "      <td>...</td>\n",
       "      <td>...</td>\n",
       "      <td>...</td>\n",
       "      <td>...</td>\n",
       "      <td>...</td>\n",
       "      <td>...</td>\n",
       "      <td>...</td>\n",
       "    </tr>\n",
       "    <tr>\n",
       "      <th>149</th>\n",
       "      <td>Ancient Astronaut, Me, 3D, 2023</td>\n",
       "      <td>1810</td>\n",
       "      <td>Art</td>\n",
       "      <td>12v9mt7</td>\n",
       "      <td>https://i.redd.it/4m10a5ztggva1.jpg</td>\n",
       "      <td>34</td>\n",
       "      <td>Oh I like this. Makes me think of Darksiders 2...</td>\n",
       "    </tr>\n",
       "    <tr>\n",
       "      <th>150</th>\n",
       "      <td>Ancient Astronaut, Me, 3D, 2023</td>\n",
       "      <td>1810</td>\n",
       "      <td>Art</td>\n",
       "      <td>12v9mt7</td>\n",
       "      <td>https://i.redd.it/4m10a5ztggva1.jpg</td>\n",
       "      <td>34</td>\n",
       "      <td>Makes me want a horizon zero dawn in a differe...</td>\n",
       "    </tr>\n",
       "    <tr>\n",
       "      <th>151</th>\n",
       "      <td>Ancient Astronaut, Me, 3D, 2023</td>\n",
       "      <td>1810</td>\n",
       "      <td>Art</td>\n",
       "      <td>12v9mt7</td>\n",
       "      <td>https://i.redd.it/4m10a5ztggva1.jpg</td>\n",
       "      <td>34</td>\n",
       "      <td>I thought it was Zelda for a second there, nic...</td>\n",
       "    </tr>\n",
       "    <tr>\n",
       "      <th>152</th>\n",
       "      <td>Ancient Astronaut, Me, 3D, 2023</td>\n",
       "      <td>1810</td>\n",
       "      <td>Art</td>\n",
       "      <td>12v9mt7</td>\n",
       "      <td>https://i.redd.it/4m10a5ztggva1.jpg</td>\n",
       "      <td>34</td>\n",
       "      <td>There’s an ancient Saiyan on the loose among t...</td>\n",
       "    </tr>\n",
       "    <tr>\n",
       "      <th>153</th>\n",
       "      <td>Ancient Astronaut, Me, 3D, 2023</td>\n",
       "      <td>1810</td>\n",
       "      <td>Art</td>\n",
       "      <td>12v9mt7</td>\n",
       "      <td>https://i.redd.it/4m10a5ztggva1.jpg</td>\n",
       "      <td>34</td>\n",
       "      <td>Some some E.G.G. on Dreamcast vibes, nicely done!</td>\n",
       "    </tr>\n",
       "  </tbody>\n",
       "</table>\n",
       "<p>154 rows × 7 columns</p>\n",
       "</div>"
      ],
      "text/plain": [
       "                                title  score  subreddit       id  \\\n",
       "0    The most random thing seen today   2405  singapore  12vudx3   \n",
       "1    The most random thing seen today   2405  singapore  12vudx3   \n",
       "2    The most random thing seen today   2405  singapore  12vudx3   \n",
       "3    The most random thing seen today   2405  singapore  12vudx3   \n",
       "4    The most random thing seen today   2405  singapore  12vudx3   \n",
       "..                                ...    ...        ...      ...   \n",
       "149   Ancient Astronaut, Me, 3D, 2023   1810        Art  12v9mt7   \n",
       "150   Ancient Astronaut, Me, 3D, 2023   1810        Art  12v9mt7   \n",
       "151   Ancient Astronaut, Me, 3D, 2023   1810        Art  12v9mt7   \n",
       "152   Ancient Astronaut, Me, 3D, 2023   1810        Art  12v9mt7   \n",
       "153   Ancient Astronaut, Me, 3D, 2023   1810        Art  12v9mt7   \n",
       "\n",
       "                                     url  num_comments  \\\n",
       "0    https://i.redd.it/45m1m99xjlva1.jpg           171   \n",
       "1    https://i.redd.it/45m1m99xjlva1.jpg           171   \n",
       "2    https://i.redd.it/45m1m99xjlva1.jpg           171   \n",
       "3    https://i.redd.it/45m1m99xjlva1.jpg           171   \n",
       "4    https://i.redd.it/45m1m99xjlva1.jpg           171   \n",
       "..                                   ...           ...   \n",
       "149  https://i.redd.it/4m10a5ztggva1.jpg            34   \n",
       "150  https://i.redd.it/4m10a5ztggva1.jpg            34   \n",
       "151  https://i.redd.it/4m10a5ztggva1.jpg            34   \n",
       "152  https://i.redd.it/4m10a5ztggva1.jpg            34   \n",
       "153  https://i.redd.it/4m10a5ztggva1.jpg            34   \n",
       "\n",
       "                                               comment  \n",
       "0    Quite impressive for it to take the escalator ...  \n",
       "1                                Spring(leaf) Chicken.  \n",
       "2    \"Commuters who are caught evading fares will b...  \n",
       "3                  Why did the chicken take the train?  \n",
       "4    damn, grab delivery really upped their game in...  \n",
       "..                                                 ...  \n",
       "149  Oh I like this. Makes me think of Darksiders 2...  \n",
       "150  Makes me want a horizon zero dawn in a differe...  \n",
       "151  I thought it was Zelda for a second there, nic...  \n",
       "152  There’s an ancient Saiyan on the loose among t...  \n",
       "153  Some some E.G.G. on Dreamcast vibes, nicely done!  \n",
       "\n",
       "[154 rows x 7 columns]"
      ]
     },
     "execution_count": 6,
     "metadata": {},
     "output_type": "execute_result"
    }
   ],
   "source": [
    "test = ['singapore','politics','Art']\n",
    "posts = []\n",
    "\n",
    "for thing in test: # iterating over a list of subreddits\n",
    "    subreddit = reddit.subreddit(thing) # assigning a particular subreddit to my variable subreddit\n",
    "    comments_added = [] # I need this variable as an accumulator for number of comments added for a particular subreddit. I place it inside the loop so that it resets after the loop enters a new subreddit so that it can exit the loop at the required value again.\n",
    "    total_rows_added = 0 #I will be using this variable to track the number of rows I have added to the final dataset.\n",
    "\n",
    "    for post in subreddit.hot(): #iterating through the hottest posts in the assigned subreddit\n",
    "\n",
    "        if post.stickied or post.subreddit.display_name == \"promoted\":#This is to skip pinned threads and advertisements, these aren't actually user submitted posts, so I will skip them.\n",
    "            continue\n",
    "        post_row = [post.title, post.score, post.subreddit, post.id, post.url, post.num_comments]# assigning the various attributes of each 'post' into a list which will be my column values.\n",
    "\n",
    "\n",
    "        post.comments.replace_more(limit=0) # this is accessing the comments from within the post. \n",
    "        num_comments_printed = 0 # This is to track the number of comments scraped from a particular post.\n",
    "        for comment in post.comments:\n",
    "            if comment.stickied: #This is to skip stickied comments as it is usually a reminder about the particular subreddit's rules and not actual user submitted comments.\n",
    "                continue\n",
    "            num_comments_printed +=1\n",
    "            comment_row = list(post_row)# make a copy of the post row for each comment so that my final dataframe will have the same values for all other features, and only the value under the comment column will change\n",
    "            comment_row.append(comment.body)\n",
    "            posts.append(comment_row) #appending the post attributes and the comments to posts list which will be my data values.\n",
    "            comments_added.append(comment_row)\n",
    "            if num_comments_printed == 10: # once 10 comments have been scraped from a particular post, to move on to the next post.\n",
    "                break\n",
    "\n",
    "        if len(comments_added) >= 50: # exits the loop once the desired amount of comments have been scraped from the particular subreddit\n",
    "                break\n",
    "\n",
    "        if total_rows_added >= 150: # exits the entire loop once the desired amount of rows of the final dataset has been scraped.\n",
    "            break\n",
    "\n",
    "# create dataframe\n",
    "posts = pd.DataFrame(posts, columns=['title', 'score', 'subreddit','id', 'url', 'num_comments', 'comment'])\n",
    "posts\n"
   ]
  },
  {
   "cell_type": "code",
   "execution_count": 10,
   "id": "81db7999-cfc8-4410-953f-1f51f2ac41d1",
   "metadata": {
    "scrolled": true,
    "tags": []
   },
   "outputs": [
    {
     "data": {
      "text/html": [
       "<div>\n",
       "<style scoped>\n",
       "    .dataframe tbody tr th:only-of-type {\n",
       "        vertical-align: middle;\n",
       "    }\n",
       "\n",
       "    .dataframe tbody tr th {\n",
       "        vertical-align: top;\n",
       "    }\n",
       "\n",
       "    .dataframe thead th {\n",
       "        text-align: right;\n",
       "    }\n",
       "</style>\n",
       "<table border=\"1\" class=\"dataframe\">\n",
       "  <thead>\n",
       "    <tr style=\"text-align: right;\">\n",
       "      <th></th>\n",
       "      <th>title</th>\n",
       "      <th>score</th>\n",
       "      <th>subreddit</th>\n",
       "      <th>id</th>\n",
       "      <th>url</th>\n",
       "      <th>num_comments</th>\n",
       "      <th>comment</th>\n",
       "    </tr>\n",
       "  </thead>\n",
       "  <tbody>\n",
       "    <tr>\n",
       "      <th>45</th>\n",
       "      <td>Soaring COE prices: What’s driving the insanit...</td>\n",
       "      <td>39</td>\n",
       "      <td>singapore</td>\n",
       "      <td>12vwgro</td>\n",
       "      <td>https://www.straitstimes.com/singapore/transpo...</td>\n",
       "      <td>45</td>\n",
       "      <td>While I understand that cars are luxury goods ...</td>\n",
       "    </tr>\n",
       "    <tr>\n",
       "      <th>46</th>\n",
       "      <td>Soaring COE prices: What’s driving the insanit...</td>\n",
       "      <td>39</td>\n",
       "      <td>singapore</td>\n",
       "      <td>12vwgro</td>\n",
       "      <td>https://www.straitstimes.com/singapore/transpo...</td>\n",
       "      <td>45</td>\n",
       "      <td>Make it cash only bidding without loans. \\nSep...</td>\n",
       "    </tr>\n",
       "    <tr>\n",
       "      <th>47</th>\n",
       "      <td>‘We couldn’t bear seeing all the kids running ...</td>\n",
       "      <td>24</td>\n",
       "      <td>singapore</td>\n",
       "      <td>12vy4cz</td>\n",
       "      <td>https://www.straitstimes.com/singapore/we-coul...</td>\n",
       "      <td>27</td>\n",
       "      <td>&gt;‘We couldn’t bear seeing all the kids running...</td>\n",
       "    </tr>\n",
       "    <tr>\n",
       "      <th>48</th>\n",
       "      <td>‘We couldn’t bear seeing all the kids running ...</td>\n",
       "      <td>24</td>\n",
       "      <td>singapore</td>\n",
       "      <td>12vy4cz</td>\n",
       "      <td>https://www.straitstimes.com/singapore/we-coul...</td>\n",
       "      <td>27</td>\n",
       "      <td>Why not adopt or foster? There are [many child...</td>\n",
       "    </tr>\n",
       "    <tr>\n",
       "      <th>49</th>\n",
       "      <td>‘We couldn’t bear seeing all the kids running ...</td>\n",
       "      <td>24</td>\n",
       "      <td>singapore</td>\n",
       "      <td>12vy4cz</td>\n",
       "      <td>https://www.straitstimes.com/singapore/we-coul...</td>\n",
       "      <td>27</td>\n",
       "      <td>Just close ur eyes then</td>\n",
       "    </tr>\n",
       "    <tr>\n",
       "      <th>50</th>\n",
       "      <td>‘We couldn’t bear seeing all the kids running ...</td>\n",
       "      <td>24</td>\n",
       "      <td>singapore</td>\n",
       "      <td>12vy4cz</td>\n",
       "      <td>https://www.straitstimes.com/singapore/we-coul...</td>\n",
       "      <td>27</td>\n",
       "      <td>Very sad to hear such experiences, and kinda s...</td>\n",
       "    </tr>\n",
       "    <tr>\n",
       "      <th>51</th>\n",
       "      <td>‘We couldn’t bear seeing all the kids running ...</td>\n",
       "      <td>24</td>\n",
       "      <td>singapore</td>\n",
       "      <td>12vy4cz</td>\n",
       "      <td>https://www.straitstimes.com/singapore/we-coul...</td>\n",
       "      <td>27</td>\n",
       "      <td>Sounds kinda selfish to me. Just because they ...</td>\n",
       "    </tr>\n",
       "    <tr>\n",
       "      <th>52</th>\n",
       "      <td>Biden Is Winning Over More Democrats Than Obam...</td>\n",
       "      <td>7551</td>\n",
       "      <td>politics</td>\n",
       "      <td>12vtljd</td>\n",
       "      <td>https://www.newsweek.com/biden-winning-over-mo...</td>\n",
       "      <td>1219</td>\n",
       "      <td>Helps when the other side is pure fascism.</td>\n",
       "    </tr>\n",
       "    <tr>\n",
       "      <th>53</th>\n",
       "      <td>Biden Is Winning Over More Democrats Than Obam...</td>\n",
       "      <td>7551</td>\n",
       "      <td>politics</td>\n",
       "      <td>12vtljd</td>\n",
       "      <td>https://www.newsweek.com/biden-winning-over-mo...</td>\n",
       "      <td>1219</td>\n",
       "      <td>We know the alternative. \\n\\nThere’s no compar...</td>\n",
       "    </tr>\n",
       "    <tr>\n",
       "      <th>54</th>\n",
       "      <td>Biden Is Winning Over More Democrats Than Obam...</td>\n",
       "      <td>7551</td>\n",
       "      <td>politics</td>\n",
       "      <td>12vtljd</td>\n",
       "      <td>https://www.newsweek.com/biden-winning-over-mo...</td>\n",
       "      <td>1219</td>\n",
       "      <td>For real,  I am just terrified of the Republic...</td>\n",
       "    </tr>\n",
       "  </tbody>\n",
       "</table>\n",
       "</div>"
      ],
      "text/plain": [
       "                                                title  score  subreddit  \\\n",
       "45  Soaring COE prices: What’s driving the insanit...     39  singapore   \n",
       "46  Soaring COE prices: What’s driving the insanit...     39  singapore   \n",
       "47  ‘We couldn’t bear seeing all the kids running ...     24  singapore   \n",
       "48  ‘We couldn’t bear seeing all the kids running ...     24  singapore   \n",
       "49  ‘We couldn’t bear seeing all the kids running ...     24  singapore   \n",
       "50  ‘We couldn’t bear seeing all the kids running ...     24  singapore   \n",
       "51  ‘We couldn’t bear seeing all the kids running ...     24  singapore   \n",
       "52  Biden Is Winning Over More Democrats Than Obam...   7551   politics   \n",
       "53  Biden Is Winning Over More Democrats Than Obam...   7551   politics   \n",
       "54  Biden Is Winning Over More Democrats Than Obam...   7551   politics   \n",
       "\n",
       "         id                                                url  num_comments  \\\n",
       "45  12vwgro  https://www.straitstimes.com/singapore/transpo...            45   \n",
       "46  12vwgro  https://www.straitstimes.com/singapore/transpo...            45   \n",
       "47  12vy4cz  https://www.straitstimes.com/singapore/we-coul...            27   \n",
       "48  12vy4cz  https://www.straitstimes.com/singapore/we-coul...            27   \n",
       "49  12vy4cz  https://www.straitstimes.com/singapore/we-coul...            27   \n",
       "50  12vy4cz  https://www.straitstimes.com/singapore/we-coul...            27   \n",
       "51  12vy4cz  https://www.straitstimes.com/singapore/we-coul...            27   \n",
       "52  12vtljd  https://www.newsweek.com/biden-winning-over-mo...          1219   \n",
       "53  12vtljd  https://www.newsweek.com/biden-winning-over-mo...          1219   \n",
       "54  12vtljd  https://www.newsweek.com/biden-winning-over-mo...          1219   \n",
       "\n",
       "                                              comment  \n",
       "45  While I understand that cars are luxury goods ...  \n",
       "46  Make it cash only bidding without loans. \\nSep...  \n",
       "47  >‘We couldn’t bear seeing all the kids running...  \n",
       "48  Why not adopt or foster? There are [many child...  \n",
       "49                            Just close ur eyes then  \n",
       "50  Very sad to hear such experiences, and kinda s...  \n",
       "51  Sounds kinda selfish to me. Just because they ...  \n",
       "52         Helps when the other side is pure fascism.  \n",
       "53  We know the alternative. \\n\\nThere’s no compar...  \n",
       "54  For real,  I am just terrified of the Republic...  "
      ]
     },
     "execution_count": 10,
     "metadata": {},
     "output_type": "execute_result"
    }
   ],
   "source": [
    "posts[45:55]"
   ]
  },
  {
   "cell_type": "code",
   "execution_count": 11,
   "id": "8488b5ee-b6a2-4239-a2dd-f98243f8e641",
   "metadata": {
    "tags": []
   },
   "outputs": [
    {
     "data": {
      "text/html": [
       "<div>\n",
       "<style scoped>\n",
       "    .dataframe tbody tr th:only-of-type {\n",
       "        vertical-align: middle;\n",
       "    }\n",
       "\n",
       "    .dataframe tbody tr th {\n",
       "        vertical-align: top;\n",
       "    }\n",
       "\n",
       "    .dataframe thead th {\n",
       "        text-align: right;\n",
       "    }\n",
       "</style>\n",
       "<table border=\"1\" class=\"dataframe\">\n",
       "  <thead>\n",
       "    <tr style=\"text-align: right;\">\n",
       "      <th></th>\n",
       "      <th>title</th>\n",
       "      <th>score</th>\n",
       "      <th>subreddit</th>\n",
       "      <th>id</th>\n",
       "      <th>url</th>\n",
       "      <th>num_comments</th>\n",
       "      <th>comment</th>\n",
       "    </tr>\n",
       "  </thead>\n",
       "  <tbody>\n",
       "    <tr>\n",
       "      <th>95</th>\n",
       "      <td>Alaska Supreme Court, in landmark ruling, says...</td>\n",
       "      <td>33409</td>\n",
       "      <td>politics</td>\n",
       "      <td>12vafk7</td>\n",
       "      <td>https://www.adn.com/politics/2023/04/21/alaska...</td>\n",
       "      <td>582</td>\n",
       "      <td>Ohio Supreme Court said the same thing. *Five ...</td>\n",
       "    </tr>\n",
       "    <tr>\n",
       "      <th>96</th>\n",
       "      <td>Alaska Supreme Court, in landmark ruling, says...</td>\n",
       "      <td>33409</td>\n",
       "      <td>politics</td>\n",
       "      <td>12vafk7</td>\n",
       "      <td>https://www.adn.com/politics/2023/04/21/alaska...</td>\n",
       "      <td>582</td>\n",
       "      <td>This is what Moore v Harper would change. If t...</td>\n",
       "    </tr>\n",
       "    <tr>\n",
       "      <th>97</th>\n",
       "      <td>Alaska Supreme Court, in landmark ruling, says...</td>\n",
       "      <td>33409</td>\n",
       "      <td>politics</td>\n",
       "      <td>12vafk7</td>\n",
       "      <td>https://www.adn.com/politics/2023/04/21/alaska...</td>\n",
       "      <td>582</td>\n",
       "      <td>Now do Wisconsin.</td>\n",
       "    </tr>\n",
       "    <tr>\n",
       "      <th>98</th>\n",
       "      <td>Alaska Supreme Court, in landmark ruling, says...</td>\n",
       "      <td>33409</td>\n",
       "      <td>politics</td>\n",
       "      <td>12vafk7</td>\n",
       "      <td>https://www.adn.com/politics/2023/04/21/alaska...</td>\n",
       "      <td>582</td>\n",
       "      <td>Wisconsin is next. Hopefully we'll finally get...</td>\n",
       "    </tr>\n",
       "    <tr>\n",
       "      <th>99</th>\n",
       "      <td>Alaska Supreme Court, in landmark ruling, says...</td>\n",
       "      <td>33409</td>\n",
       "      <td>politics</td>\n",
       "      <td>12vafk7</td>\n",
       "      <td>https://www.adn.com/politics/2023/04/21/alaska...</td>\n",
       "      <td>582</td>\n",
       "      <td>Build Back Better addressed gerrymandering and...</td>\n",
       "    </tr>\n",
       "    <tr>\n",
       "      <th>100</th>\n",
       "      <td>Alaska Supreme Court, in landmark ruling, says...</td>\n",
       "      <td>33409</td>\n",
       "      <td>politics</td>\n",
       "      <td>12vafk7</td>\n",
       "      <td>https://www.adn.com/politics/2023/04/21/alaska...</td>\n",
       "      <td>582</td>\n",
       "      <td>I've lived in Alaska for most of my adult life...</td>\n",
       "    </tr>\n",
       "    <tr>\n",
       "      <th>101</th>\n",
       "      <td>Alaska Supreme Court, in landmark ruling, says...</td>\n",
       "      <td>33409</td>\n",
       "      <td>politics</td>\n",
       "      <td>12vafk7</td>\n",
       "      <td>https://www.adn.com/politics/2023/04/21/alaska...</td>\n",
       "      <td>582</td>\n",
       "      <td>Seems kinda f*ckin obvious that intentionally ...</td>\n",
       "    </tr>\n",
       "    <tr>\n",
       "      <th>102</th>\n",
       "      <td>\"The Rejected\", me, Pens/Copic markers/pencils...</td>\n",
       "      <td>4040</td>\n",
       "      <td>Art</td>\n",
       "      <td>12vmkmw</td>\n",
       "      <td>https://i.redd.it/7dqzcncvmiva1.jpg</td>\n",
       "      <td>116</td>\n",
       "      <td>Absurdly clean for pen and marker!</td>\n",
       "    </tr>\n",
       "    <tr>\n",
       "      <th>103</th>\n",
       "      <td>\"The Rejected\", me, Pens/Copic markers/pencils...</td>\n",
       "      <td>4040</td>\n",
       "      <td>Art</td>\n",
       "      <td>12vmkmw</td>\n",
       "      <td>https://i.redd.it/7dqzcncvmiva1.jpg</td>\n",
       "      <td>116</td>\n",
       "      <td>I dont know who you are but i saw that man wit...</td>\n",
       "    </tr>\n",
       "    <tr>\n",
       "      <th>104</th>\n",
       "      <td>\"The Rejected\", me, Pens/Copic markers/pencils...</td>\n",
       "      <td>4040</td>\n",
       "      <td>Art</td>\n",
       "      <td>12vmkmw</td>\n",
       "      <td>https://i.redd.it/7dqzcncvmiva1.jpg</td>\n",
       "      <td>116</td>\n",
       "      <td>DAMN! Good work! Im pulling for her!</td>\n",
       "    </tr>\n",
       "  </tbody>\n",
       "</table>\n",
       "</div>"
      ],
      "text/plain": [
       "                                                 title  score subreddit  \\\n",
       "95   Alaska Supreme Court, in landmark ruling, says...  33409  politics   \n",
       "96   Alaska Supreme Court, in landmark ruling, says...  33409  politics   \n",
       "97   Alaska Supreme Court, in landmark ruling, says...  33409  politics   \n",
       "98   Alaska Supreme Court, in landmark ruling, says...  33409  politics   \n",
       "99   Alaska Supreme Court, in landmark ruling, says...  33409  politics   \n",
       "100  Alaska Supreme Court, in landmark ruling, says...  33409  politics   \n",
       "101  Alaska Supreme Court, in landmark ruling, says...  33409  politics   \n",
       "102  \"The Rejected\", me, Pens/Copic markers/pencils...   4040       Art   \n",
       "103  \"The Rejected\", me, Pens/Copic markers/pencils...   4040       Art   \n",
       "104  \"The Rejected\", me, Pens/Copic markers/pencils...   4040       Art   \n",
       "\n",
       "          id                                                url  num_comments  \\\n",
       "95   12vafk7  https://www.adn.com/politics/2023/04/21/alaska...           582   \n",
       "96   12vafk7  https://www.adn.com/politics/2023/04/21/alaska...           582   \n",
       "97   12vafk7  https://www.adn.com/politics/2023/04/21/alaska...           582   \n",
       "98   12vafk7  https://www.adn.com/politics/2023/04/21/alaska...           582   \n",
       "99   12vafk7  https://www.adn.com/politics/2023/04/21/alaska...           582   \n",
       "100  12vafk7  https://www.adn.com/politics/2023/04/21/alaska...           582   \n",
       "101  12vafk7  https://www.adn.com/politics/2023/04/21/alaska...           582   \n",
       "102  12vmkmw                https://i.redd.it/7dqzcncvmiva1.jpg           116   \n",
       "103  12vmkmw                https://i.redd.it/7dqzcncvmiva1.jpg           116   \n",
       "104  12vmkmw                https://i.redd.it/7dqzcncvmiva1.jpg           116   \n",
       "\n",
       "                                               comment  \n",
       "95   Ohio Supreme Court said the same thing. *Five ...  \n",
       "96   This is what Moore v Harper would change. If t...  \n",
       "97                                   Now do Wisconsin.  \n",
       "98   Wisconsin is next. Hopefully we'll finally get...  \n",
       "99   Build Back Better addressed gerrymandering and...  \n",
       "100  I've lived in Alaska for most of my adult life...  \n",
       "101  Seems kinda f*ckin obvious that intentionally ...  \n",
       "102                 Absurdly clean for pen and marker!  \n",
       "103  I dont know who you are but i saw that man wit...  \n",
       "104               DAMN! Good work! Im pulling for her!  "
      ]
     },
     "execution_count": 11,
     "metadata": {},
     "output_type": "execute_result"
    }
   ],
   "source": [
    "posts[95:105]"
   ]
  },
  {
   "cell_type": "markdown",
   "id": "641183fc-c146-4a58-8ee8-5e01b24b4189",
   "metadata": {},
   "source": [
    "Notice that the subreddit changes exactly after 50 rows.\n",
    "\n",
    "Scraping for comments across posts across subreddits work. Now I can expand it to scrape the full amount of comments across the full list of subreddits."
   ]
  },
  {
   "cell_type": "markdown",
   "id": "73dc2387-7b4e-459a-9a89-592a77849342",
   "metadata": {},
   "source": [
    "The next block of code will be getting my full dataset of around 10,000 rows. This will take a bit of time. It took 30 minutes for my computer to run.\n",
    "\n",
    "Notice that I have changed the values of if len(comments_added) >= **1000** to 1000 and if total_rows_added >= **10000** to 10000."
   ]
  },
  {
   "cell_type": "code",
   "execution_count": 12,
   "id": "7690736c-45ea-41e0-81a3-1434337f7463",
   "metadata": {
    "tags": []
   },
   "outputs": [
    {
     "name": "stderr",
     "output_type": "stream",
     "text": [
      "100%|██████████████████████████████████████████| 10/10 [22:43<00:00, 136.35s/it]\n"
     ]
    },
    {
     "data": {
      "text/html": [
       "<div>\n",
       "<style scoped>\n",
       "    .dataframe tbody tr th:only-of-type {\n",
       "        vertical-align: middle;\n",
       "    }\n",
       "\n",
       "    .dataframe tbody tr th {\n",
       "        vertical-align: top;\n",
       "    }\n",
       "\n",
       "    .dataframe thead th {\n",
       "        text-align: right;\n",
       "    }\n",
       "</style>\n",
       "<table border=\"1\" class=\"dataframe\">\n",
       "  <thead>\n",
       "    <tr style=\"text-align: right;\">\n",
       "      <th></th>\n",
       "      <th>title</th>\n",
       "      <th>score</th>\n",
       "      <th>subreddit</th>\n",
       "      <th>id</th>\n",
       "      <th>url</th>\n",
       "      <th>num_comments</th>\n",
       "      <th>comment</th>\n",
       "    </tr>\n",
       "  </thead>\n",
       "  <tbody>\n",
       "    <tr>\n",
       "      <th>0</th>\n",
       "      <td>Biden Is Winning Over More Democrats Than Obam...</td>\n",
       "      <td>7627</td>\n",
       "      <td>politics</td>\n",
       "      <td>12vtljd</td>\n",
       "      <td>https://www.newsweek.com/biden-winning-over-mo...</td>\n",
       "      <td>1226</td>\n",
       "      <td>Helps when the other side is pure fascism.</td>\n",
       "    </tr>\n",
       "    <tr>\n",
       "      <th>1</th>\n",
       "      <td>Biden Is Winning Over More Democrats Than Obam...</td>\n",
       "      <td>7627</td>\n",
       "      <td>politics</td>\n",
       "      <td>12vtljd</td>\n",
       "      <td>https://www.newsweek.com/biden-winning-over-mo...</td>\n",
       "      <td>1226</td>\n",
       "      <td>We know the alternative. \\n\\nThere’s no compar...</td>\n",
       "    </tr>\n",
       "    <tr>\n",
       "      <th>2</th>\n",
       "      <td>Biden Is Winning Over More Democrats Than Obam...</td>\n",
       "      <td>7627</td>\n",
       "      <td>politics</td>\n",
       "      <td>12vtljd</td>\n",
       "      <td>https://www.newsweek.com/biden-winning-over-mo...</td>\n",
       "      <td>1226</td>\n",
       "      <td>For real,  I am just terrified of the Republic...</td>\n",
       "    </tr>\n",
       "    <tr>\n",
       "      <th>3</th>\n",
       "      <td>Biden Is Winning Over More Democrats Than Obam...</td>\n",
       "      <td>7627</td>\n",
       "      <td>politics</td>\n",
       "      <td>12vtljd</td>\n",
       "      <td>https://www.newsweek.com/biden-winning-over-mo...</td>\n",
       "      <td>1226</td>\n",
       "      <td>Biden sure wasn't my favourite in the primarie...</td>\n",
       "    </tr>\n",
       "    <tr>\n",
       "      <th>4</th>\n",
       "      <td>Biden Is Winning Over More Democrats Than Obam...</td>\n",
       "      <td>7627</td>\n",
       "      <td>politics</td>\n",
       "      <td>12vtljd</td>\n",
       "      <td>https://www.newsweek.com/biden-winning-over-mo...</td>\n",
       "      <td>1226</td>\n",
       "      <td>&gt;President Joe Biden currently has a higher jo...</td>\n",
       "    </tr>\n",
       "    <tr>\n",
       "      <th>...</th>\n",
       "      <td>...</td>\n",
       "      <td>...</td>\n",
       "      <td>...</td>\n",
       "      <td>...</td>\n",
       "      <td>...</td>\n",
       "      <td>...</td>\n",
       "      <td>...</td>\n",
       "    </tr>\n",
       "    <tr>\n",
       "      <th>6257</th>\n",
       "      <td>New Jersey Environmental Agency fines itself f...</td>\n",
       "      <td>145</td>\n",
       "      <td>nottheonion</td>\n",
       "      <td>12pqg6l</td>\n",
       "      <td>https://tvpworld.com/69221279/new-jersey-envir...</td>\n",
       "      <td>8</td>\n",
       "      <td>If they're holding themselves accountable that...</td>\n",
       "    </tr>\n",
       "    <tr>\n",
       "      <th>6258</th>\n",
       "      <td>New Jersey Environmental Agency fines itself f...</td>\n",
       "      <td>145</td>\n",
       "      <td>nottheonion</td>\n",
       "      <td>12pqg6l</td>\n",
       "      <td>https://tvpworld.com/69221279/new-jersey-envir...</td>\n",
       "      <td>8</td>\n",
       "      <td>At least they are honest.</td>\n",
       "    </tr>\n",
       "    <tr>\n",
       "      <th>6259</th>\n",
       "      <td>New Jersey Environmental Agency fines itself f...</td>\n",
       "      <td>145</td>\n",
       "      <td>nottheonion</td>\n",
       "      <td>12pqg6l</td>\n",
       "      <td>https://tvpworld.com/69221279/new-jersey-envir...</td>\n",
       "      <td>8</td>\n",
       "      <td>I knew I saw this earlier\\n\\nr/nottheonion/com...</td>\n",
       "    </tr>\n",
       "    <tr>\n",
       "      <th>6260</th>\n",
       "      <td>New Jersey Environmental Agency fines itself f...</td>\n",
       "      <td>145</td>\n",
       "      <td>nottheonion</td>\n",
       "      <td>12pqg6l</td>\n",
       "      <td>https://tvpworld.com/69221279/new-jersey-envir...</td>\n",
       "      <td>8</td>\n",
       "      <td>A governmental agency fining itself is in effe...</td>\n",
       "    </tr>\n",
       "    <tr>\n",
       "      <th>6261</th>\n",
       "      <td>New Jersey Environmental Agency fines itself f...</td>\n",
       "      <td>145</td>\n",
       "      <td>nottheonion</td>\n",
       "      <td>12pqg6l</td>\n",
       "      <td>https://tvpworld.com/69221279/new-jersey-envir...</td>\n",
       "      <td>8</td>\n",
       "      <td>Ah yes, the TVP World, the pinnacle of jurnalism</td>\n",
       "    </tr>\n",
       "  </tbody>\n",
       "</table>\n",
       "<p>6262 rows × 7 columns</p>\n",
       "</div>"
      ],
      "text/plain": [
       "                                                  title  score    subreddit  \\\n",
       "0     Biden Is Winning Over More Democrats Than Obam...   7627     politics   \n",
       "1     Biden Is Winning Over More Democrats Than Obam...   7627     politics   \n",
       "2     Biden Is Winning Over More Democrats Than Obam...   7627     politics   \n",
       "3     Biden Is Winning Over More Democrats Than Obam...   7627     politics   \n",
       "4     Biden Is Winning Over More Democrats Than Obam...   7627     politics   \n",
       "...                                                 ...    ...          ...   \n",
       "6257  New Jersey Environmental Agency fines itself f...    145  nottheonion   \n",
       "6258  New Jersey Environmental Agency fines itself f...    145  nottheonion   \n",
       "6259  New Jersey Environmental Agency fines itself f...    145  nottheonion   \n",
       "6260  New Jersey Environmental Agency fines itself f...    145  nottheonion   \n",
       "6261  New Jersey Environmental Agency fines itself f...    145  nottheonion   \n",
       "\n",
       "           id                                                url  \\\n",
       "0     12vtljd  https://www.newsweek.com/biden-winning-over-mo...   \n",
       "1     12vtljd  https://www.newsweek.com/biden-winning-over-mo...   \n",
       "2     12vtljd  https://www.newsweek.com/biden-winning-over-mo...   \n",
       "3     12vtljd  https://www.newsweek.com/biden-winning-over-mo...   \n",
       "4     12vtljd  https://www.newsweek.com/biden-winning-over-mo...   \n",
       "...       ...                                                ...   \n",
       "6257  12pqg6l  https://tvpworld.com/69221279/new-jersey-envir...   \n",
       "6258  12pqg6l  https://tvpworld.com/69221279/new-jersey-envir...   \n",
       "6259  12pqg6l  https://tvpworld.com/69221279/new-jersey-envir...   \n",
       "6260  12pqg6l  https://tvpworld.com/69221279/new-jersey-envir...   \n",
       "6261  12pqg6l  https://tvpworld.com/69221279/new-jersey-envir...   \n",
       "\n",
       "      num_comments                                            comment  \n",
       "0             1226         Helps when the other side is pure fascism.  \n",
       "1             1226  We know the alternative. \\n\\nThere’s no compar...  \n",
       "2             1226  For real,  I am just terrified of the Republic...  \n",
       "3             1226  Biden sure wasn't my favourite in the primarie...  \n",
       "4             1226  >President Joe Biden currently has a higher jo...  \n",
       "...            ...                                                ...  \n",
       "6257             8  If they're holding themselves accountable that...  \n",
       "6258             8                          At least they are honest.  \n",
       "6259             8  I knew I saw this earlier\\n\\nr/nottheonion/com...  \n",
       "6260             8  A governmental agency fining itself is in effe...  \n",
       "6261             8   Ah yes, the TVP World, the pinnacle of jurnalism  \n",
       "\n",
       "[6262 rows x 7 columns]"
      ]
     },
     "execution_count": 12,
     "metadata": {},
     "output_type": "execute_result"
    }
   ],
   "source": [
    "list_of_subreddits = ['politics','science','Art','Music','funny','news','movies','singapore','todayilearned','nottheonion']#implementing the full list\n",
    "posts = []\n",
    "\n",
    "for genre in tqdm(list_of_subreddits): # iterating over a list of subreddits\n",
    "    subreddit = reddit.subreddit(genre) # assigning a particular subreddit to my variable subreddit\n",
    "    comments_added = [] # I need this variable as an accumulator for number of comments added for a particular subreddit. I place it inside the loop so that it resets after the loop enters a new subreddit so that it can exit the loop at the required value again.\n",
    "    total_rows_added = 0 #I will be using this variable to track the number of rows I have added to the final dataset.\n",
    "\n",
    "    for post in subreddit.hot(): #iterating through the hottest posts in the assigned subreddit\n",
    "\n",
    "        if post.stickied or post.subreddit.display_name == \"promoted\":#This is to skip pinned threads and advertisements, these aren't actually user submitted posts, so I will skip them.\n",
    "            continue\n",
    "        post_row = [post.title, post.score, post.subreddit, post.id, post.url, post.num_comments]# assigning the various attributes of each 'post' into a list which will be my column values.\n",
    "\n",
    "\n",
    "        post.comments.replace_more(limit=0) # this is accessing the comments from within the post. \n",
    "        num_comments_printed = 0 # This is to track the number of comments scraped from a particular post.\n",
    "        for comment in post.comments:\n",
    "            if comment.stickied: #This is to skip stickied comments as it is usually a reminder about the particular subreddit's rules and not actual user submitted comments.\n",
    "                continue\n",
    "            num_comments_printed +=1\n",
    "            comment_row = list(post_row)# make a copy of the post row for each comment so that my final dataframe will have the same values for all other features, and only the value under the comment column will change\n",
    "            comment_row.append(comment.body)\n",
    "            posts.append(comment_row) #appending the post attributes and the comments to posts list which will be my data values.\n",
    "            comments_added.append(comment_row)\n",
    "            if num_comments_printed == 10: # once 10 comments have been scraped from a particular post, to move on to the next post.\n",
    "                break\n",
    "\n",
    "        if len(comments_added) >= 1000: # exits the loop once the desired amount of comments have been scraped from the particular subreddit\n",
    "                break\n",
    "\n",
    "        if total_rows_added >= 10000: # exits the entire loop once the desired amount of rows of the final dataset has been scraped.\n",
    "            break\n",
    "\n",
    "# create dataframe\n",
    "posts = pd.DataFrame(posts, columns=['title', 'score', 'subreddit','id', 'url', 'num_comments', 'comment'])\n",
    "posts\n"
   ]
  },
  {
   "cell_type": "code",
   "execution_count": 13,
   "id": "bd83d8b7-9b85-4956-abad-484cb0d3d5a0",
   "metadata": {
    "tags": []
   },
   "outputs": [
    {
     "data": {
      "text/plain": [
       "array([Subreddit(display_name='politics'),\n",
       "       Subreddit(display_name='science'), Subreddit(display_name='Art'),\n",
       "       Subreddit(display_name='Music'), Subreddit(display_name='funny'),\n",
       "       Subreddit(display_name='news'), Subreddit(display_name='movies'),\n",
       "       Subreddit(display_name='singapore'),\n",
       "       Subreddit(display_name='todayilearned'),\n",
       "       Subreddit(display_name='nottheonion')], dtype=object)"
      ]
     },
     "execution_count": 13,
     "metadata": {},
     "output_type": "execute_result"
    }
   ],
   "source": [
    "posts['subreddit'].unique()"
   ]
  },
  {
   "cell_type": "markdown",
   "id": "f14f413f-6ac3-4be0-949b-cac26dc9b4da",
   "metadata": {},
   "source": [
    "Notice that the DataFrame has less than 10,000 rows. The reason is that certain posts had less than 10 comments inside the post. As such for that particular post, less than 10 comments were scraped.\n",
    "\n",
    "This compounded over all the subreddits and all the posts, resulted in only 6262 rows.\n",
    "\n",
    "I will need to scrape more subreddits for more data."
   ]
  },
  {
   "cell_type": "code",
   "execution_count": 14,
   "id": "349dfe20-bbcc-49cd-837d-b8e5444f6927",
   "metadata": {
    "tags": []
   },
   "outputs": [],
   "source": [
    "#posts.to_csv('../data/outputs/comments_from_reddit_part_1.csv') #exporting posts dataframe into csv"
   ]
  },
  {
   "cell_type": "code",
   "execution_count": 25,
   "id": "14dc6b58-d548-4f33-b1c1-92febf444f09",
   "metadata": {
    "tags": []
   },
   "outputs": [
    {
     "name": "stderr",
     "output_type": "stream",
     "text": [
      "100%|████████████████████████████████████████████| 8/8 [15:52<00:00, 119.01s/it]\n"
     ]
    },
    {
     "data": {
      "text/html": [
       "<div>\n",
       "<style scoped>\n",
       "    .dataframe tbody tr th:only-of-type {\n",
       "        vertical-align: middle;\n",
       "    }\n",
       "\n",
       "    .dataframe tbody tr th {\n",
       "        vertical-align: top;\n",
       "    }\n",
       "\n",
       "    .dataframe thead th {\n",
       "        text-align: right;\n",
       "    }\n",
       "</style>\n",
       "<table border=\"1\" class=\"dataframe\">\n",
       "  <thead>\n",
       "    <tr style=\"text-align: right;\">\n",
       "      <th></th>\n",
       "      <th>title</th>\n",
       "      <th>score</th>\n",
       "      <th>subreddit</th>\n",
       "      <th>id</th>\n",
       "      <th>url</th>\n",
       "      <th>num_comments</th>\n",
       "      <th>comment</th>\n",
       "    </tr>\n",
       "  </thead>\n",
       "  <tbody>\n",
       "    <tr>\n",
       "      <th>0</th>\n",
       "      <td>Not enough people know about Tribes</td>\n",
       "      <td>4668</td>\n",
       "      <td>gaming</td>\n",
       "      <td>12vsse6</td>\n",
       "      <td>https://i.imgur.com/bY6EIbq.jpg</td>\n",
       "      <td>748</td>\n",
       "      <td>Shazbot!</td>\n",
       "    </tr>\n",
       "    <tr>\n",
       "      <th>1</th>\n",
       "      <td>Not enough people know about Tribes</td>\n",
       "      <td>4668</td>\n",
       "      <td>gaming</td>\n",
       "      <td>12vsse6</td>\n",
       "      <td>https://i.imgur.com/bY6EIbq.jpg</td>\n",
       "      <td>748</td>\n",
       "      <td>Man, skiing over a map, grabbing the flag, and...</td>\n",
       "    </tr>\n",
       "    <tr>\n",
       "      <th>2</th>\n",
       "      <td>Not enough people know about Tribes</td>\n",
       "      <td>4668</td>\n",
       "      <td>gaming</td>\n",
       "      <td>12vsse6</td>\n",
       "      <td>https://i.imgur.com/bY6EIbq.jpg</td>\n",
       "      <td>748</td>\n",
       "      <td>Bro, I miss Tribes: Ascend\\n\\nSHAZBOT!</td>\n",
       "    </tr>\n",
       "    <tr>\n",
       "      <th>3</th>\n",
       "      <td>Not enough people know about Tribes</td>\n",
       "      <td>4668</td>\n",
       "      <td>gaming</td>\n",
       "      <td>12vsse6</td>\n",
       "      <td>https://i.imgur.com/bY6EIbq.jpg</td>\n",
       "      <td>748</td>\n",
       "      <td>I'll never forgive hi Rez for killing this IP</td>\n",
       "    </tr>\n",
       "    <tr>\n",
       "      <th>4</th>\n",
       "      <td>Not enough people know about Tribes</td>\n",
       "      <td>4668</td>\n",
       "      <td>gaming</td>\n",
       "      <td>12vsse6</td>\n",
       "      <td>https://i.imgur.com/bY6EIbq.jpg</td>\n",
       "      <td>748</td>\n",
       "      <td>Fun game, lost in time</td>\n",
       "    </tr>\n",
       "    <tr>\n",
       "      <th>...</th>\n",
       "      <td>...</td>\n",
       "      <td>...</td>\n",
       "      <td>...</td>\n",
       "      <td>...</td>\n",
       "      <td>...</td>\n",
       "      <td>...</td>\n",
       "      <td>...</td>\n",
       "    </tr>\n",
       "    <tr>\n",
       "      <th>4456</th>\n",
       "      <td>New personal trainer challenge: I finished my ...</td>\n",
       "      <td>8</td>\n",
       "      <td>pics</td>\n",
       "      <td>12vyrny</td>\n",
       "      <td>https://i.redd.it/inn9aqu4ykva1.jpg</td>\n",
       "      <td>10</td>\n",
       "      <td>Confidence, love to see it</td>\n",
       "    </tr>\n",
       "    <tr>\n",
       "      <th>4457</th>\n",
       "      <td>New personal trainer challenge: I finished my ...</td>\n",
       "      <td>8</td>\n",
       "      <td>pics</td>\n",
       "      <td>12vyrny</td>\n",
       "      <td>https://i.redd.it/inn9aqu4ykva1.jpg</td>\n",
       "      <td>10</td>\n",
       "      <td>I seriously hope its not for self defense.</td>\n",
       "    </tr>\n",
       "    <tr>\n",
       "      <th>4458</th>\n",
       "      <td>New personal trainer challenge: I finished my ...</td>\n",
       "      <td>8</td>\n",
       "      <td>pics</td>\n",
       "      <td>12vyrny</td>\n",
       "      <td>https://i.redd.it/inn9aqu4ykva1.jpg</td>\n",
       "      <td>10</td>\n",
       "      <td>At one point OP will be required to shout \\nTH...</td>\n",
       "    </tr>\n",
       "    <tr>\n",
       "      <th>4459</th>\n",
       "      <td>Wreckage of an American B17 in remote Papua Ne...</td>\n",
       "      <td>36</td>\n",
       "      <td>pics</td>\n",
       "      <td>12vnw31</td>\n",
       "      <td>https://i.redd.it/apsoza6sckva1.jpg</td>\n",
       "      <td>3</td>\n",
       "      <td>Was literally just talking about my grandfathe...</td>\n",
       "    </tr>\n",
       "    <tr>\n",
       "      <th>4460</th>\n",
       "      <td>Wreckage of an American B17 in remote Papua Ne...</td>\n",
       "      <td>36</td>\n",
       "      <td>pics</td>\n",
       "      <td>12vnw31</td>\n",
       "      <td>https://i.redd.it/apsoza6sckva1.jpg</td>\n",
       "      <td>3</td>\n",
       "      <td>They blew his brains out all over the Pacific....</td>\n",
       "    </tr>\n",
       "  </tbody>\n",
       "</table>\n",
       "<p>4461 rows × 7 columns</p>\n",
       "</div>"
      ],
      "text/plain": [
       "                                                  title  score subreddit  \\\n",
       "0                   Not enough people know about Tribes   4668    gaming   \n",
       "1                   Not enough people know about Tribes   4668    gaming   \n",
       "2                   Not enough people know about Tribes   4668    gaming   \n",
       "3                   Not enough people know about Tribes   4668    gaming   \n",
       "4                   Not enough people know about Tribes   4668    gaming   \n",
       "...                                                 ...    ...       ...   \n",
       "4456  New personal trainer challenge: I finished my ...      8      pics   \n",
       "4457  New personal trainer challenge: I finished my ...      8      pics   \n",
       "4458  New personal trainer challenge: I finished my ...      8      pics   \n",
       "4459  Wreckage of an American B17 in remote Papua Ne...     36      pics   \n",
       "4460  Wreckage of an American B17 in remote Papua Ne...     36      pics   \n",
       "\n",
       "           id                                  url  num_comments  \\\n",
       "0     12vsse6      https://i.imgur.com/bY6EIbq.jpg           748   \n",
       "1     12vsse6      https://i.imgur.com/bY6EIbq.jpg           748   \n",
       "2     12vsse6      https://i.imgur.com/bY6EIbq.jpg           748   \n",
       "3     12vsse6      https://i.imgur.com/bY6EIbq.jpg           748   \n",
       "4     12vsse6      https://i.imgur.com/bY6EIbq.jpg           748   \n",
       "...       ...                                  ...           ...   \n",
       "4456  12vyrny  https://i.redd.it/inn9aqu4ykva1.jpg            10   \n",
       "4457  12vyrny  https://i.redd.it/inn9aqu4ykva1.jpg            10   \n",
       "4458  12vyrny  https://i.redd.it/inn9aqu4ykva1.jpg            10   \n",
       "4459  12vnw31  https://i.redd.it/apsoza6sckva1.jpg             3   \n",
       "4460  12vnw31  https://i.redd.it/apsoza6sckva1.jpg             3   \n",
       "\n",
       "                                                comment  \n",
       "0                                              Shazbot!  \n",
       "1     Man, skiing over a map, grabbing the flag, and...  \n",
       "2                Bro, I miss Tribes: Ascend\\n\\nSHAZBOT!  \n",
       "3         I'll never forgive hi Rez for killing this IP  \n",
       "4                                Fun game, lost in time  \n",
       "...                                                 ...  \n",
       "4456                         Confidence, love to see it  \n",
       "4457         I seriously hope its not for self defense.  \n",
       "4458  At one point OP will be required to shout \\nTH...  \n",
       "4459  Was literally just talking about my grandfathe...  \n",
       "4460  They blew his brains out all over the Pacific....  \n",
       "\n",
       "[4461 rows x 7 columns]"
      ]
     },
     "execution_count": 25,
     "metadata": {},
     "output_type": "execute_result"
    }
   ],
   "source": [
    "list_of_subreddits_2 = ['gaming','AskReddit','aww','Showerthoughts','sports','food','worldnews','pics']#implementing a new list of subreddits to scrape data\n",
    "\n",
    "posts_2 = [] # initialising a different list called posts_2 for clarity\n",
    "\n",
    "for genre in tqdm(list_of_subreddits_2): # iterating over a list of subreddits\n",
    "    subreddit = reddit.subreddit(genre) # assigning a particular subreddit to my variable subreddit\n",
    "    comments_added = [] # I need this variable as an accumulator for number of comments added for a particular subreddit. I place it inside the loop so that it resets after the loop enters a new subreddit so that it can exit the loop at the required value again.\n",
    "    total_rows_added = 0 #I will be using this variable to track the number of rows I have added to the final dataset.\n",
    "\n",
    "    for post in subreddit.hot(): #iterating through the hottest posts in the assigned subreddit\n",
    "\n",
    "        if post.stickied or post.subreddit.display_name == \"promoted\":#This is to skip pinned threads and advertisements, these aren't actually user submitted posts, so I will skip them.\n",
    "            continue\n",
    "        post_row = [post.title, post.score, post.subreddit, post.id, post.url, post.num_comments]# assigning the various attributes of each 'post' into a list which will be my column values.\n",
    "\n",
    "\n",
    "        post.comments.replace_more(limit=0) # this is accessing the comments from within the post. \n",
    "        num_comments_printed = 0 # This is to track the number of comments scraped from a particular post.\n",
    "        for comment in post.comments:\n",
    "            if comment.stickied: #This is to skip stickied comments as it is usually a reminder about the particular subreddit's rules and not actual user submitted comments.\n",
    "                continue\n",
    "            num_comments_printed +=1\n",
    "            comment_row = list(post_row)# make a copy of the post row for each comment so that my final dataframe will have the same values for all other features, and only the value under the comment column will change\n",
    "            comment_row.append(comment.body)\n",
    "            posts_2.append(comment_row) #appending the post attributes and the comments to posts list which will be my data values.\n",
    "            comments_added.append(comment_row)\n",
    "            if num_comments_printed == 10: # once 10 comments have been scraped from a particular post, to move on to the next post.\n",
    "                break\n",
    "\n",
    "        if len(comments_added) >= 1000: # exits the loop once the desired amount of comments have been scraped from the particular subreddit\n",
    "                break\n",
    "\n",
    "        if total_rows_added >= 10000: # exits the entire loop once the desired amount of rows of the final dataset has been scraped.\n",
    "            break\n",
    "\n",
    "# create dataframe\n",
    "posts_2 = pd.DataFrame(posts_2, columns=['title', 'score', 'subreddit','id', 'url', 'num_comments', 'comment'])\n",
    "posts_2\n"
   ]
  },
  {
   "cell_type": "code",
   "execution_count": 38,
   "id": "9b59cd02-df65-4590-9c95-39facc1861a3",
   "metadata": {
    "tags": []
   },
   "outputs": [],
   "source": [
    "#posts_2.to_csv('../data/outputs/comments_from_reddit_part_2.csv') #exporting posts dataframe into csv"
   ]
  },
  {
   "cell_type": "code",
   "execution_count": 44,
   "id": "c3e8fc09-046c-4b66-ac69-ce59e380c82e",
   "metadata": {
    "tags": []
   },
   "outputs": [],
   "source": [
    "final_posts = pd.concat([posts,posts_2])"
   ]
  },
  {
   "cell_type": "markdown",
   "id": "415ab8d8-11d8-4e6f-9231-2157b1b144f5",
   "metadata": {},
   "source": [
    "Concatenating both dataframes together."
   ]
  },
  {
   "cell_type": "code",
   "execution_count": 46,
   "id": "0c539c30-2cbd-4f70-8c1d-9dc231bc3ec7",
   "metadata": {
    "tags": []
   },
   "outputs": [
    {
     "name": "stdout",
     "output_type": "stream",
     "text": [
      "<class 'pandas.core.frame.DataFrame'>\n",
      "Int64Index: 10723 entries, 0 to 4460\n",
      "Data columns (total 7 columns):\n",
      " #   Column        Non-Null Count  Dtype \n",
      "---  ------        --------------  ----- \n",
      " 0   title         10723 non-null  object\n",
      " 1   score         10723 non-null  int64 \n",
      " 2   subreddit     10723 non-null  object\n",
      " 3   id            10723 non-null  object\n",
      " 4   url           10723 non-null  object\n",
      " 5   num_comments  10723 non-null  int64 \n",
      " 6   comment       10723 non-null  object\n",
      "dtypes: int64(2), object(5)\n",
      "memory usage: 670.2+ KB\n"
     ]
    }
   ],
   "source": [
    "final_posts.info()"
   ]
  },
  {
   "cell_type": "markdown",
   "id": "708b0342-13dd-48ef-bdab-9b15d7eb3045",
   "metadata": {},
   "source": [
    "Final Dataset with over 10,000 rows."
   ]
  },
  {
   "cell_type": "markdown",
   "id": "c6071ec8-8050-4a83-a6f5-01d99898186e",
   "metadata": {},
   "source": [
    "## Classifiying the Scraped Data"
   ]
  },
  {
   "cell_type": "markdown",
   "id": "6c392e55-918a-490b-b7a2-ed55f9528deb",
   "metadata": {},
   "source": [
    "Now that I have my dataset, I need to get my y labels based on the comments.\n",
    "\n",
    "To do this, I will be using [Google's Perspective API](https://developers.perspectiveapi.com/s/about-the-api?language=en_US), which is an API that uses machine learning to analyse text and returns a probability that the text is of one of certain attributes such as toxic, insulting, threatening, etc.\n",
    "\n",
    "The full list of attributes and documentation can be found [here.](https://developers.perspectiveapi.com/s/about-the-api-attributes-and-languages?language=en_US)\n",
    "\n",
    "Next I will run through code to show how it works on a small scale, before running it through all 9000+ rows of my dataset."
   ]
  },
  {
   "cell_type": "code",
   "execution_count": 47,
   "id": "617248b5-193f-4f24-a5d2-ec06f0982686",
   "metadata": {
    "scrolled": true,
    "tags": []
   },
   "outputs": [
    {
     "name": "stdout",
     "output_type": "stream",
     "text": [
      "{\n",
      "  \"attributeScores\": {\n",
      "    \"TOXICITY\": {\n",
      "      \"spanScores\": [\n",
      "        {\n",
      "          \"begin\": 0,\n",
      "          \"end\": 34,\n",
      "          \"score\": {\n",
      "            \"value\": 0.050573748,\n",
      "            \"type\": \"PROBABILITY\"\n",
      "          }\n",
      "        }\n",
      "      ],\n",
      "      \"summaryScore\": {\n",
      "        \"value\": 0.050573748,\n",
      "        \"type\": \"PROBABILITY\"\n",
      "      }\n",
      "    }\n",
      "  },\n",
      "  \"languages\": [\n",
      "    \"en\"\n",
      "  ],\n",
      "  \"detectedLanguages\": [\n",
      "    \"en\"\n",
      "  ]\n",
      "}\n"
     ]
    }
   ],
   "source": [
    "API_KEY = perspective_credentials.API_KEY\n",
    "\n",
    "client = discovery.build(\n",
    "  \"commentanalyzer\",\n",
    "  \"v1alpha1\",\n",
    "  developerKey=API_KEY,\n",
    "  discoveryServiceUrl=\"https://commentanalyzer.googleapis.com/$discovery/rest?version=v1alpha1\",\n",
    "  static_discovery=False,\n",
    ")\n",
    "\n",
    "analyze_request = {\n",
    "  'comment': { 'text': 'testing text to check for toxicity' },\n",
    "  'requestedAttributes': {'TOXICITY': {}}\n",
    "}\n",
    "\n",
    "response = client.comments().analyze(body=analyze_request).execute()\n",
    "print(json.dumps(response, indent=2))"
   ]
  },
  {
   "cell_type": "markdown",
   "id": "8b544236-a98e-444b-882f-d6e316ad9c2c",
   "metadata": {},
   "source": [
    "This block of code has been copied from [Perspective's documentation](https://developers.perspectiveapi.com/s/docs-sample-requests?language=en_US) of sample requests.\n",
    "\n",
    "The important portion for me is under 'comment' where I will input my list of comments to get a probability for the attributes under 'requestedAttributes', in this block of code, the requested attribute is 'TOXICITY'.\n",
    "\n",
    "From the output, you can see under 'summaryScore' a value of 0.05 which is the probability score between 0 to 1 that the input text is toxic or whatever attribute you selected.\n",
    "\n",
    "A higher score indicates a higher probability that the input text is the attribute you selected."
   ]
  },
  {
   "cell_type": "code",
   "execution_count": 48,
   "id": "decf3f4a-0e43-4d4e-b675-8ebb4d8bc2a4",
   "metadata": {
    "tags": []
   },
   "outputs": [
    {
     "data": {
      "text/plain": [
       "0.050573748"
      ]
     },
     "execution_count": 48,
     "metadata": {},
     "output_type": "execute_result"
    }
   ],
   "source": [
    "response['attributeScores']['TOXICITY']['summaryScore']['value']"
   ]
  },
  {
   "cell_type": "markdown",
   "id": "93e1f361-cbfe-4431-a9c0-917078f35615",
   "metadata": {},
   "source": [
    "I have filtered out the probablity value as this is what I will be basing my y labels off of.\n",
    "\n",
    "Now I can set a threshold and check for all the attributes I want to generate my y labels"
   ]
  },
  {
   "cell_type": "code",
   "execution_count": 49,
   "id": "80e4764e-083f-499e-80e7-e4f595afd794",
   "metadata": {
    "tags": []
   },
   "outputs": [],
   "source": [
    "attributes = ['TOXICITY', 'IDENTITY_ATTACK', 'INSULT', 'PROFANITY', 'THREAT']\n",
    "y_label = []\n",
    "for comment in final_posts.iloc[:20]['comment']:\n",
    "    analyze_request = {\n",
    "        'comment': { 'text': comment },\n",
    "        'requestedAttributes': {   #Note that more attributes have been requested\n",
    "            'TOXICITY': {},\n",
    "            'IDENTITY_ATTACK': {},\n",
    "            'INSULT': {},\n",
    "            'PROFANITY': {},\n",
    "            'THREAT': {},\n",
    "        }\n",
    "    }\n",
    "    response = client.comments().analyze(body=analyze_request).execute()\n",
    "    scores = [response['attributeScores'][attr]['summaryScore']['value'] for attr in attributes] # list comprehension to run through my list of attributes and storing all scores in a list\n",
    "    y_label.append(1 if any(score >= 0.5 for score in scores) else 0) # checking through the list of scores if any are above 0.5, if it is label it as a 1, if not label as 0."
   ]
  },
  {
   "cell_type": "markdown",
   "id": "6bbc5219-1f95-4ead-a8f0-2bf5c3525154",
   "metadata": {},
   "source": [
    "In this block of code, I have expanded it to check for more attributes besides TOXICITY, I have also set the threshold at 0.5. Any comment which scores above 0.5 for any of the attributes will be classified as offensive and the value will be 1."
   ]
  },
  {
   "cell_type": "code",
   "execution_count": 50,
   "id": "62ce3237-de57-4a5f-b53a-732216eee39b",
   "metadata": {
    "tags": []
   },
   "outputs": [
    {
     "data": {
      "text/plain": [
       "[0, 1, 0, 0, 0, 0, 0, 0, 0, 0, 0, 0, 0, 0, 1, 0, 1, 0, 0, 0]"
      ]
     },
     "execution_count": 50,
     "metadata": {},
     "output_type": "execute_result"
    }
   ],
   "source": [
    "y_label"
   ]
  },
  {
   "cell_type": "markdown",
   "id": "4682001d-8afa-47ec-8373-1f98a31f1dce",
   "metadata": {},
   "source": [
    "Here are my y labels for the first 20 rows of my dataset. "
   ]
  },
  {
   "cell_type": "markdown",
   "id": "f6aa77e1-14d6-4096-b500-d388cad50b62",
   "metadata": {},
   "source": [
    "## Checking Classifications against Human Labelled"
   ]
  },
  {
   "cell_type": "markdown",
   "id": "67c3adf1-703f-4646-ac51-d401506813a1",
   "metadata": {},
   "source": [
    "To check the accuracy of the perspective API, I will be manually labelling 100 comments to compare results.\n",
    "\n",
    "I will be checking for the following, as described in the [documentation](https://developers.perspectiveapi.com/s/about-the-api-attributes-and-languages?language=en_US): \n",
    "\n",
    "1. IDENTITY_ATTACK: Negative or hateful comments targeting someone because of their identity.\n",
    "\n",
    "1. INSULT: Insulting, inflammatory, or negative comment towards a person or a group of people.\n",
    "\n",
    "1. PROFANITY: Swear words, curse words, or other obscene or profane language.\n",
    "\n",
    "1. THREAT Describes an intention to inflict pain, injury, or violence against an individual or group."
   ]
  },
  {
   "cell_type": "code",
   "execution_count": 65,
   "id": "c6f9ce4c-1259-4abe-a562-f6622ec52eec",
   "metadata": {
    "scrolled": true,
    "tags": []
   },
   "outputs": [
    {
     "data": {
      "text/plain": [
       "0                                                                                                                                                                                                                                                                                                  Helps when the other side is pure fascism.\n",
       "1                                                                                                 We know the alternative. \\n\\nThere’s no comparison. \\n\\nRun of the mill democrat vs “holy fucking shit, I can’t do this again” \\n\\nGotta take back that House. I’m getting real sick of McCarthy and the imbecile gang he pretends to lead.\n",
       "2                                                                                                                                                          For real,  I am just terrified of the Republicans at this point. Stripping people of their rights is not the right approach to country where people are safe and mentally healthy.\n",
       "3     Biden sure wasn't my favourite in the primaries, but he's  impressed me as President. Mature, more progressive than expected, calm and caring. He's doing well in very dangerous times. Age is an issue but it's not significant in the face of a dangerous fascist threat. Safe hands to deal with domestic and international threats.\n",
       "4                                 >President Joe Biden currently has a higher job approval rating among Democrats than the past two presidents from his party had at the same point in their presidencies, according to a new poll.\\n\\n\\nJoe is doing a pretty great job as President. It's nice to see him getting some recognition for that\n",
       "                                                                                                                                                                       ...                                                                                                                                                                   \n",
       "95                                                                                                                                                                                                                                                                                                    Worst person you know makes good point.\n",
       "96                                                                                                                                                                                                                                                                                          But. But. But. That’s where you live, Trumpy boy.\n",
       "97                                                                                             Man, it'd be a real shame if it triggered some kind of mass exodus of MAGA people from my terrible no good state. I don't know how I would go on living. Like, if they all just up and left they would own this lib and stick one to DeSantis.\n",
       "98                                                                                                                                                                                                                                                                Of course Trump picked the worst place to live, he’s a super stable genius.\n",
       "99                                                                                                                                                                                                                                                                      If they could both be locked in prison for life, I would be so happy.\n",
       "Name: comment, Length: 100, dtype: object"
      ]
     },
     "execution_count": 65,
     "metadata": {},
     "output_type": "execute_result"
    }
   ],
   "source": [
    "final_posts.iloc[:100]['comment'] # These are the 100 comments I will hand label."
   ]
  },
  {
   "cell_type": "code",
   "execution_count": 64,
   "id": "625b0744-eaaf-45c4-a011-32960c7dffc7",
   "metadata": {
    "tags": []
   },
   "outputs": [],
   "source": [
    "hand_labelled = [0,1,0,0,0,0,0,0,0,0,0,0,0,0,1,1,1,0,0,0,0,1,0,0,0,0,1,0,0,0,0,0,0,0,0,1,0,1,0,0,0,0,0,0,0,0,0,0,0,1,1,0,0,1,0,0,0,0,0,0,1,0,0,0,0,0,0,0,0,0,0,1,0,0,0,0,0,0,0,0,1,0,0,0,0,0,0,0,0,0,0,0,1,0,0,0,0,0,0,0]"
   ]
  },
  {
   "cell_type": "markdown",
   "id": "b294d0f3-aef0-4abd-9c75-7b26c16501d4",
   "metadata": {},
   "source": [
    "I went through these 100 comments and hand labelled them, 1 being offensive, 0 not being offensive. The hand labelled classifications can be found above. \n",
    "\n",
    "I can now compare it against the API generated y labels."
   ]
  },
  {
   "cell_type": "code",
   "execution_count": 67,
   "id": "7dc5233b-f947-4558-8a6c-73ca583f966d",
   "metadata": {
    "tags": []
   },
   "outputs": [],
   "source": [
    "attributes = ['TOXICITY', 'IDENTITY_ATTACK', 'INSULT', 'PROFANITY', 'THREAT']\n",
    "y_label = []\n",
    "counter = 0\n",
    "for comment in final_posts.iloc[0:100]['comment']:\n",
    "    analyze_request = {\n",
    "        'comment': { 'text': comment },\n",
    "        'requestedAttributes': {   #Note that more attributes have been requested\n",
    "            'TOXICITY': {},\n",
    "            'IDENTITY_ATTACK': {},\n",
    "            'INSULT': {},\n",
    "            'PROFANITY': {},\n",
    "            'THREAT': {},\n",
    "        }\n",
    "    }\n",
    "    response = client.comments().analyze(body=analyze_request).execute()\n",
    "    scores = [response['attributeScores'][attr]['summaryScore']['value'] for attr in attributes] # list comprehension to run through my list of attributes and storing all scores in a list\n",
    "    y_label.append(1 if any(score >= 0.5 for score in scores) else 0) # checking through the list of scores if any are above 0.5, if it is label it as a 1, if not label as 0.\n",
    "    counter +=1\n",
    "    if counter % 50 == 0: # Wait one minute every 50 comments to avoid hitting the quota\n",
    "        time.sleep(60) "
   ]
  },
  {
   "cell_type": "markdown",
   "id": "4089130d-8b25-4dc9-bfd3-c8fec811784a",
   "metadata": {},
   "source": [
    "**Note the important additions in the above block of code.**\n",
    "\n",
    "1. Initialising a counter variable\n",
    "1. To wait 60 seconds after every 50 comments analysed.\n",
    "\n",
    "This is as Perspective has a quota limit of 60 per minute, if I exceed this quota, my code will error out. To stay on the safe side, I will wait 1 minute every 50 comments to let the quota reest, before analysing the next 50 comments.\n",
    "\n",
    "With this quota in place, it is going to take an extremely long time to analyse the full dataset, but I will get to that later.\n",
    "\n",
    "I will first check the 100 generated labels against my hand labelled data."
   ]
  },
  {
   "cell_type": "code",
   "execution_count": 68,
   "id": "642570a0-7f86-4ba4-bbd7-85553475b2c9",
   "metadata": {
    "scrolled": true,
    "tags": []
   },
   "outputs": [
    {
     "data": {
      "text/plain": [
       "[0,\n",
       " 1,\n",
       " 0,\n",
       " 0,\n",
       " 0,\n",
       " 0,\n",
       " 0,\n",
       " 0,\n",
       " 0,\n",
       " 0,\n",
       " 0,\n",
       " 0,\n",
       " 0,\n",
       " 0,\n",
       " 1,\n",
       " 0,\n",
       " 1,\n",
       " 0,\n",
       " 0,\n",
       " 0,\n",
       " 0,\n",
       " 1,\n",
       " 0,\n",
       " 1,\n",
       " 0,\n",
       " 0,\n",
       " 1,\n",
       " 0,\n",
       " 0,\n",
       " 0,\n",
       " 0,\n",
       " 0,\n",
       " 0,\n",
       " 0,\n",
       " 0,\n",
       " 1,\n",
       " 0,\n",
       " 1,\n",
       " 1,\n",
       " 0,\n",
       " 0,\n",
       " 0,\n",
       " 1,\n",
       " 0,\n",
       " 0,\n",
       " 0,\n",
       " 0,\n",
       " 0,\n",
       " 0,\n",
       " 1,\n",
       " 1,\n",
       " 0,\n",
       " 0,\n",
       " 1,\n",
       " 0,\n",
       " 0,\n",
       " 0,\n",
       " 0,\n",
       " 0,\n",
       " 0,\n",
       " 1,\n",
       " 0,\n",
       " 0,\n",
       " 0,\n",
       " 1,\n",
       " 0,\n",
       " 0,\n",
       " 0,\n",
       " 1,\n",
       " 0,\n",
       " 0,\n",
       " 0,\n",
       " 0,\n",
       " 0,\n",
       " 0,\n",
       " 0,\n",
       " 0,\n",
       " 0,\n",
       " 0,\n",
       " 0,\n",
       " 1,\n",
       " 1,\n",
       " 0,\n",
       " 0,\n",
       " 0,\n",
       " 0,\n",
       " 1,\n",
       " 0,\n",
       " 1,\n",
       " 0,\n",
       " 0,\n",
       " 0,\n",
       " 1,\n",
       " 0,\n",
       " 0,\n",
       " 0,\n",
       " 0,\n",
       " 0,\n",
       " 0,\n",
       " 0]"
      ]
     },
     "execution_count": 68,
     "metadata": {},
     "output_type": "execute_result"
    }
   ],
   "source": [
    "y_label"
   ]
  },
  {
   "cell_type": "markdown",
   "id": "676efbb1-5cf8-46fc-923c-90ebe843e51a",
   "metadata": {},
   "source": [
    "Here are the API generated y labels for the first 100 comments. I can now check this against my hand labelled values."
   ]
  },
  {
   "cell_type": "code",
   "execution_count": 69,
   "id": "bc88e075-dcf3-47e5-8166-a140ef0a8f2a",
   "metadata": {
    "tags": []
   },
   "outputs": [
    {
     "name": "stdout",
     "output_type": "stream",
     "text": [
      "Percentage of similarity: 90.00%\n"
     ]
    }
   ],
   "source": [
    "matches = 0\n",
    "for i in range(len(hand_labelled)):\n",
    "    if hand_labelled[i] == y_label[i]:\n",
    "        matches += 1\n",
    "        \n",
    "similarity = matches / len(hand_labelled) * 100\n",
    "print(f\"Percentage of similarity: {similarity:.2f}%\")"
   ]
  },
  {
   "cell_type": "markdown",
   "id": "99378c1f-6a3c-4f25-bd06-a2d4c303c6b9",
   "metadata": {},
   "source": [
    "There is a 90% similarity between my hand labelled data and the machine labelled data. I think this is a pretty good score, and this means I can continue with using the machine generated labels for the rest of my dataset."
   ]
  },
  {
   "cell_type": "markdown",
   "id": "32f21a57-3995-4c90-9c02-ad19af453ab3",
   "metadata": {},
   "source": [
    "## Generating Labels for Full Dataset"
   ]
  },
  {
   "cell_type": "markdown",
   "id": "e290664e-03ea-4f18-888c-121d9ecc266b",
   "metadata": {},
   "source": [
    "Now I will run the code to generate y labels for my entire dataset. Note that this will take around 3 - 4 hours barring any unforeseen errors."
   ]
  },
  {
   "cell_type": "code",
   "execution_count": 70,
   "id": "09b9e791-04c7-4095-8368-f94ef433be6a",
   "metadata": {
    "tags": []
   },
   "outputs": [
    {
     "data": {
      "text/plain": [
       "10723"
      ]
     },
     "execution_count": 70,
     "metadata": {},
     "output_type": "execute_result"
    }
   ],
   "source": [
    "len(final_posts.iloc[:]['comment'])"
   ]
  },
  {
   "cell_type": "markdown",
   "id": "a2dbc952-12f6-473a-8df2-59e9f1c0c5fc",
   "metadata": {},
   "source": [
    "**Please expand the markdown text below, it shows the code I tried to run, I put it back into markdown text to avoid any accidental running of a codeblock which will error out. The explanation is further below.**"
   ]
  },
  {
   "cell_type": "markdown",
   "id": "b426b97d-519f-4428-80ef-1b6227a83310",
   "metadata": {
    "tags": []
   },
   "source": [
    "attributes = ['TOXICITY', 'IDENTITY_ATTACK', 'INSULT', 'PROFANITY', 'THREAT']\n",
    "y_label = []\n",
    "counter = 0\n",
    "for comment in tqdm(final_posts.iloc[:]['comment']):\n",
    "    analyze_request = {\n",
    "        'comment': { 'text': comment },\n",
    "        'requestedAttributes': {   #Note that more attributes have been requested\n",
    "            'TOXICITY': {},\n",
    "            'IDENTITY_ATTACK': {},\n",
    "            'INSULT': {},\n",
    "            'PROFANITY': {},\n",
    "            'THREAT': {},\n",
    "        }\n",
    "    }\n",
    "    response = client.comments().analyze(body=analyze_request).execute()\n",
    "    scores = [response['attributeScores'][attr]['summaryScore']['value'] for attr in attributes] # list comprehension to run through my list of attributes and storing all scores in a list\n",
    "    y_label.append(1 if any(score >= 0.5 for score in scores) else 0) # checking through the list of scores if any are above 0.5, if it is label it as a 1, if not label as 0.\n",
    "    counter +=1\n",
    "    if counter % 50 == 0: # Wait one minute every 50 comments to avoid hitting the quota\n",
    "        time.sleep(60) "
   ]
  },
  {
   "cell_type": "code",
   "execution_count": 177,
   "id": "b35a3d65-ec62-4c3c-ba58-ce1d32707238",
   "metadata": {
    "tags": []
   },
   "outputs": [
    {
     "data": {
      "image/png": "[encoded data removed]",
      "text/plain": [
       "<PIL.PngImagePlugin.PngImageFile image mode=RGBA size=3006x1048>"
      ]
     },
     "metadata": {},
     "output_type": "display_data"
    }
   ],
   "source": [
    "path=\"../images/error_code.png\"\n",
    "display(Image.open(path))"
   ]
  },
  {
   "cell_type": "markdown",
   "id": "a1e89e7f-dc7c-4070-91b5-7486ee6a6bef",
   "metadata": {},
   "source": [
    "Unfortunately the code block threw an error as shown in the image above.\n",
    "\n",
    "A certain comment was not in english as decided by the API's language detection and threw an error.\n",
    "\n",
    "I will need to amend the code to check for the language type before passing it to the analyser to avoid any more errors.\n"
   ]
  },
  {
   "cell_type": "markdown",
   "id": "92c5263a-41e2-44a5-946a-2ff19fec9bb1",
   "metadata": {
    "tags": []
   },
   "source": [
    "I found out that [Perspective API uses language detection](https://developers.perspectiveapi.com/s/about-the-api-methods?language=en_US) from Google's Cloud Natural Language API. However, this API requires money so I won't be using the same language detection model.\n",
    "\n",
    "As such, I will use another language detection(listed below) in a try except loop for each comment before passing it to the actual comment analyser to try and reduce the number of language errors. This is not ideal as they will have different algorithms to detect language, but this is the best alternative under the given circumstances.\n",
    "\n",
    "\n",
    "I will also include code to save the generated y labels up to that point in case of any other unforeseen errors so I don't need to run the entire loop over and over again for every error, but rather I can work on the next checkpoint.\n",
    "\n",
    "\n",
    "**This is the module I will be using for language detection**\n",
    "\n",
    "#pip install langdetect\n",
    "\n",
    "#import langdetect\n",
    "\n",
    "#from langdetect.lang_detect_exception import LangDetectException"
   ]
  },
  {
   "cell_type": "code",
   "execution_count": 71,
   "id": "4a660c62-0b7f-4ecd-9b19-63dbb9fb6d79",
   "metadata": {
    "tags": []
   },
   "outputs": [],
   "source": [
    "output_file = os.path.join('../data/outputs/', 'y_label.npy')"
   ]
  },
  {
   "cell_type": "markdown",
   "id": "05a2e7f5-dece-4861-96b5-b752d9c23c6e",
   "metadata": {},
   "source": [
    "Creating a outputfile to save the generated y labels up to that point.\n",
    "\n",
    "**Worst case scenario, I will need to keep running the loop from each error point and updating the y labels until I finish all the rows. This is still significantly faster than reading each comment one at a time**"
   ]
  },
  {
   "cell_type": "code",
   "execution_count": 72,
   "id": "7207ba7a-ff01-4344-9a24-0396f3933132",
   "metadata": {
    "tags": []
   },
   "outputs": [
    {
     "name": "stderr",
     "output_type": "stream",
     "text": [
      "100%|███████████████████████████████████| 10723/10723 [3:34:44<00:00,  1.20s/it]\n"
     ]
    }
   ],
   "source": [
    "attributes = ['TOXICITY', 'IDENTITY_ATTACK', 'INSULT', 'PROFANITY', 'THREAT']\n",
    "y_label = []\n",
    "counter = 0\n",
    "for comment in tqdm(final_posts.iloc[:]['comment']):\n",
    "    try:\n",
    "        if langdetect.detect(comment) != 'en': # if the comment is not in English, append NaN to y_label\n",
    "            y_label.append(float('nan'))\n",
    "            continue\n",
    "    except LangDetectException: # if it is in English, run the rest of the loop\n",
    "        pass\n",
    "    \n",
    "    analyze_request = {\n",
    "        'comment': { 'text': comment },\n",
    "        'languages': ['en'],\n",
    "        'requestedAttributes': {\n",
    "            'TOXICITY': {},\n",
    "            'IDENTITY_ATTACK': {},\n",
    "            'INSULT': {},\n",
    "            'PROFANITY': {},\n",
    "            'THREAT': {},\n",
    "        }\n",
    "    }\n",
    "    \n",
    "    response = client.comments().analyze(body=analyze_request).execute()\n",
    "    scores = [response['attributeScores'][attr]['summaryScore']['value'] for attr in attributes]# list comprehension to run through my list of attributes and storing all scores in a list\n",
    "    y_label.append(1 if any(score >= 0.5 for score in scores) else 0)# checking through the list of scores if any are above 0.5, if it is label it as a 1, if not label as 0.\n",
    "    counter +=1\n",
    "    if counter % 50 == 0: # Wait one minute every 50 comments to avoid hitting the quota\n",
    "        time.sleep(60)\n",
    "        \n",
    "    np.save(output_file, y_label)# Save the generated y labels to a file so I don't lose progress, and I can also use the generated file to see which comment threw the error."
   ]
  },
  {
   "cell_type": "markdown",
   "id": "5cc2c26f-4af6-4ff3-a97f-12b497a19429",
   "metadata": {},
   "source": [
    "**Luckily, the code did not encounter any errors this time. The code has finally finished running. It took over 3 hours. Time to inspect the y_label**"
   ]
  },
  {
   "cell_type": "code",
   "execution_count": 73,
   "id": "655a3558-37a3-42e0-8087-0e7339833bc0",
   "metadata": {
    "tags": []
   },
   "outputs": [
    {
     "data": {
      "text/plain": [
       "10723"
      ]
     },
     "execution_count": 73,
     "metadata": {},
     "output_type": "execute_result"
    }
   ],
   "source": [
    "len(y_label)"
   ]
  },
  {
   "cell_type": "markdown",
   "id": "d5a26b4c-573a-4111-9e36-bb58adeb5347",
   "metadata": {},
   "source": [
    "10723 Labels as expected."
   ]
  },
  {
   "cell_type": "markdown",
   "id": "40f1a238-f4af-4149-ab3e-ab4c0940b484",
   "metadata": {},
   "source": [
    "## Checking for Missing Values"
   ]
  },
  {
   "cell_type": "code",
   "execution_count": 77,
   "id": "937aecc6-bffb-44a3-8dbd-5af0a29cb711",
   "metadata": {
    "tags": []
   },
   "outputs": [],
   "source": [
    "final_posts['target'] = y_label # adding labels to dataframe."
   ]
  },
  {
   "cell_type": "code",
   "execution_count": 78,
   "id": "4674d083-c8e3-4ce2-a8e6-dc368bcbcd62",
   "metadata": {
    "tags": []
   },
   "outputs": [
    {
     "data": {
      "text/plain": [
       "array([ 0.,  1., nan])"
      ]
     },
     "execution_count": 78,
     "metadata": {},
     "output_type": "execute_result"
    }
   ],
   "source": [
    "final_posts['target'].unique()"
   ]
  },
  {
   "cell_type": "markdown",
   "id": "dc36ff71-614f-42ae-a656-d717efa62335",
   "metadata": {},
   "source": [
    "Notice that there are null values due to the language detection.\n",
    "\n",
    "I will now check these rows to see if they really were not in english. If they were wrongly classified, I will manually label these rows if the numbers are manageable."
   ]
  },
  {
   "cell_type": "code",
   "execution_count": 79,
   "id": "71a62cda-d75a-4f0b-a091-82800bf39a92",
   "metadata": {
    "scrolled": true,
    "tags": []
   },
   "outputs": [
    {
     "data": {
      "text/html": [
       "<div>\n",
       "<style scoped>\n",
       "    .dataframe tbody tr th:only-of-type {\n",
       "        vertical-align: middle;\n",
       "    }\n",
       "\n",
       "    .dataframe tbody tr th {\n",
       "        vertical-align: top;\n",
       "    }\n",
       "\n",
       "    .dataframe thead th {\n",
       "        text-align: right;\n",
       "    }\n",
       "</style>\n",
       "<table border=\"1\" class=\"dataframe\">\n",
       "  <thead>\n",
       "    <tr style=\"text-align: right;\">\n",
       "      <th></th>\n",
       "      <th>title</th>\n",
       "      <th>score</th>\n",
       "      <th>subreddit</th>\n",
       "      <th>id</th>\n",
       "      <th>url</th>\n",
       "      <th>num_comments</th>\n",
       "      <th>comment</th>\n",
       "      <th>target</th>\n",
       "    </tr>\n",
       "  </thead>\n",
       "  <tbody>\n",
       "    <tr>\n",
       "      <th>39</th>\n",
       "      <td>Ron DeSantis promises to boycott Bud Light before admitting he prefers LGBTQ+-friendly Guinness. DeSantis said that Bud Light \"lost a customer\" and then admitted he doesn't even drink it.</td>\n",
       "      <td>8816</td>\n",
       "      <td>politics</td>\n",
       "      <td>12vfywb</td>\n",
       "      <td>https://www.lgbtqnation.com/2023/04/ron-desantis-promises-to-boycott-bud-light-before-admitting-he-prefers-lgbtq-friendly-guinness/</td>\n",
       "      <td>700</td>\n",
       "      <td>Florida lost me as a customer.</td>\n",
       "      <td>NaN</td>\n",
       "    </tr>\n",
       "    <tr>\n",
       "      <th>55</th>\n",
       "      <td>The Texas Senate Just Voted To Destroy Its Public Universities</td>\n",
       "      <td>5296</td>\n",
       "      <td>politics</td>\n",
       "      <td>12vip2v</td>\n",
       "      <td>https://talkingpointsmemo.com/morning-memo/texas-senate-tenure-bill-public-universities</td>\n",
       "      <td>382</td>\n",
       "      <td>[removed]</td>\n",
       "      <td>NaN</td>\n",
       "    </tr>\n",
       "    <tr>\n",
       "      <th>77</th>\n",
       "      <td>Tennessee Republican who voted to expel Democrats resigns after ethics violation</td>\n",
       "      <td>2974</td>\n",
       "      <td>politics</td>\n",
       "      <td>12vlj9r</td>\n",
       "      <td>https://www.nbcnews.com/politics/politics-news/tennessee-republican-lawmaker-resigns-ethics-violation-rcna80782</td>\n",
       "      <td>47</td>\n",
       "      <td>Good.</td>\n",
       "      <td>NaN</td>\n",
       "    </tr>\n",
       "    <tr>\n",
       "      <th>161</th>\n",
       "      <td>Meet the Afghanistan War Veteran Taking on Rep. George Santos</td>\n",
       "      <td>1140</td>\n",
       "      <td>politics</td>\n",
       "      <td>12vk986</td>\n",
       "      <td>https://www.msnbc.com/jonathan-capehart/watch/meet-the-afghanistan-war-veteran-taking-on-rep-george-santos-171012165896</td>\n",
       "      <td>46</td>\n",
       "      <td>George Santos.. didn’t he die on 9/11?</td>\n",
       "      <td>NaN</td>\n",
       "    </tr>\n",
       "    <tr>\n",
       "      <th>188</th>\n",
       "      <td>Minnesota Senate passes bill banning conversion “therapy”. “If anyone doubts that we can take meaningful action to protect our kids, I’ve got two words for you: Watch us.” ~ Gov. Tim Walz</td>\n",
       "      <td>2366</td>\n",
       "      <td>politics</td>\n",
       "      <td>12vd8bl</td>\n",
       "      <td>https://www.losangelesblade.com/2023/04/21/minnesota-senate-passes-bill-banning-conversion-therapy/</td>\n",
       "      <td>79</td>\n",
       "      <td>Go Walz, keep it up!</td>\n",
       "      <td>NaN</td>\n",
       "    </tr>\n",
       "    <tr>\n",
       "      <th>...</th>\n",
       "      <td>...</td>\n",
       "      <td>...</td>\n",
       "      <td>...</td>\n",
       "      <td>...</td>\n",
       "      <td>...</td>\n",
       "      <td>...</td>\n",
       "      <td>...</td>\n",
       "      <td>...</td>\n",
       "    </tr>\n",
       "    <tr>\n",
       "      <th>4404</th>\n",
       "      <td>Beach House</td>\n",
       "      <td>101</td>\n",
       "      <td>pics</td>\n",
       "      <td>12vgalt</td>\n",
       "      <td>https://i.redd.it/651amnswkhva1.jpg</td>\n",
       "      <td>30</td>\n",
       "      <td>Extremely motivated seller...</td>\n",
       "      <td>NaN</td>\n",
       "    </tr>\n",
       "    <tr>\n",
       "      <th>4427</th>\n",
       "      <td>Wife and I checked something off the bucket list ✅ Sunrise over the Himalayas. 🥲</td>\n",
       "      <td>60</td>\n",
       "      <td>pics</td>\n",
       "      <td>12vkq8z</td>\n",
       "      <td>https://i.redd.it/nvynrb3btjva1.jpg</td>\n",
       "      <td>7</td>\n",
       "      <td>[removed]</td>\n",
       "      <td>NaN</td>\n",
       "    </tr>\n",
       "    <tr>\n",
       "      <th>4428</th>\n",
       "      <td>Wife and I checked something off the bucket list ✅ Sunrise over the Himalayas. 🥲</td>\n",
       "      <td>60</td>\n",
       "      <td>pics</td>\n",
       "      <td>12vkq8z</td>\n",
       "      <td>https://i.redd.it/nvynrb3btjva1.jpg</td>\n",
       "      <td>7</td>\n",
       "      <td>Beautiful</td>\n",
       "      <td>NaN</td>\n",
       "    </tr>\n",
       "    <tr>\n",
       "      <th>4432</th>\n",
       "      <td>Protesting Ron DeSantis at Utah Valley University</td>\n",
       "      <td>68</td>\n",
       "      <td>pics</td>\n",
       "      <td>12viqpx</td>\n",
       "      <td>https://i.redd.it/n07ucshnhjva1.jpg</td>\n",
       "      <td>2</td>\n",
       "      <td>Dancing is forbidden</td>\n",
       "      <td>NaN</td>\n",
       "    </tr>\n",
       "    <tr>\n",
       "      <th>4454</th>\n",
       "      <td>New personal trainer challenge: I finished my first all-female kickboxing class yesterday.</td>\n",
       "      <td>8</td>\n",
       "      <td>pics</td>\n",
       "      <td>12vyrny</td>\n",
       "      <td>https://i.redd.it/inn9aqu4ykva1.jpg</td>\n",
       "      <td>10</td>\n",
       "      <td>Looks like a fun class</td>\n",
       "      <td>NaN</td>\n",
       "    </tr>\n",
       "  </tbody>\n",
       "</table>\n",
       "<p>915 rows × 8 columns</p>\n",
       "</div>"
      ],
      "text/plain": [
       "                                                                                                                                                                                            title  \\\n",
       "39    Ron DeSantis promises to boycott Bud Light before admitting he prefers LGBTQ+-friendly Guinness. DeSantis said that Bud Light \"lost a customer\" and then admitted he doesn't even drink it.   \n",
       "55                                                                                                                                 The Texas Senate Just Voted To Destroy Its Public Universities   \n",
       "77                                                                                                               Tennessee Republican who voted to expel Democrats resigns after ethics violation   \n",
       "161                                                                                                                                 Meet the Afghanistan War Veteran Taking on Rep. George Santos   \n",
       "188   Minnesota Senate passes bill banning conversion “therapy”. “If anyone doubts that we can take meaningful action to protect our kids, I’ve got two words for you: Watch us.” ~ Gov. Tim Walz   \n",
       "...                                                                                                                                                                                           ...   \n",
       "4404                                                                                                                                                                                  Beach House   \n",
       "4427                                                                                                             Wife and I checked something off the bucket list ✅ Sunrise over the Himalayas. 🥲   \n",
       "4428                                                                                                             Wife and I checked something off the bucket list ✅ Sunrise over the Himalayas. 🥲   \n",
       "4432                                                                                                                                            Protesting Ron DeSantis at Utah Valley University   \n",
       "4454                                                                                                   New personal trainer challenge: I finished my first all-female kickboxing class yesterday.   \n",
       "\n",
       "      score subreddit       id  \\\n",
       "39     8816  politics  12vfywb   \n",
       "55     5296  politics  12vip2v   \n",
       "77     2974  politics  12vlj9r   \n",
       "161    1140  politics  12vk986   \n",
       "188    2366  politics  12vd8bl   \n",
       "...     ...       ...      ...   \n",
       "4404    101      pics  12vgalt   \n",
       "4427     60      pics  12vkq8z   \n",
       "4428     60      pics  12vkq8z   \n",
       "4432     68      pics  12viqpx   \n",
       "4454      8      pics  12vyrny   \n",
       "\n",
       "                                                                                                                                      url  \\\n",
       "39    https://www.lgbtqnation.com/2023/04/ron-desantis-promises-to-boycott-bud-light-before-admitting-he-prefers-lgbtq-friendly-guinness/   \n",
       "55                                                https://talkingpointsmemo.com/morning-memo/texas-senate-tenure-bill-public-universities   \n",
       "77                        https://www.nbcnews.com/politics/politics-news/tennessee-republican-lawmaker-resigns-ethics-violation-rcna80782   \n",
       "161               https://www.msnbc.com/jonathan-capehart/watch/meet-the-afghanistan-war-veteran-taking-on-rep-george-santos-171012165896   \n",
       "188                                   https://www.losangelesblade.com/2023/04/21/minnesota-senate-passes-bill-banning-conversion-therapy/   \n",
       "...                                                                                                                                   ...   \n",
       "4404                                                                                                  https://i.redd.it/651amnswkhva1.jpg   \n",
       "4427                                                                                                  https://i.redd.it/nvynrb3btjva1.jpg   \n",
       "4428                                                                                                  https://i.redd.it/nvynrb3btjva1.jpg   \n",
       "4432                                                                                                  https://i.redd.it/n07ucshnhjva1.jpg   \n",
       "4454                                                                                                  https://i.redd.it/inn9aqu4ykva1.jpg   \n",
       "\n",
       "      num_comments                                 comment  target  \n",
       "39             700          Florida lost me as a customer.     NaN  \n",
       "55             382                               [removed]     NaN  \n",
       "77              47                                   Good.     NaN  \n",
       "161             46  George Santos.. didn’t he die on 9/11?     NaN  \n",
       "188             79                    Go Walz, keep it up!     NaN  \n",
       "...            ...                                     ...     ...  \n",
       "4404            30           Extremely motivated seller...     NaN  \n",
       "4427             7                               [removed]     NaN  \n",
       "4428             7                               Beautiful     NaN  \n",
       "4432             2                    Dancing is forbidden     NaN  \n",
       "4454            10                  Looks like a fun class     NaN  \n",
       "\n",
       "[915 rows x 8 columns]"
      ]
     },
     "execution_count": 79,
     "metadata": {},
     "output_type": "execute_result"
    }
   ],
   "source": [
    "final_posts[final_posts['target'].isnull()]"
   ]
  },
  {
   "cell_type": "markdown",
   "id": "ac1d6f10-6661-4bde-8803-e3aaf75023c4",
   "metadata": {},
   "source": [
    "There are 915 rows of null values. I'll take a closer look."
   ]
  },
  {
   "cell_type": "code",
   "execution_count": 80,
   "id": "94b341b9-09f2-46b5-a6c9-35d2a112055e",
   "metadata": {
    "scrolled": true,
    "tags": []
   },
   "outputs": [
    {
     "data": {
      "text/plain": [
       "[removed]                 75\n",
       "[deleted]                 48\n",
       "adorable                  11\n",
       "Awww cute                 10\n",
       "super cute                 7\n",
       "                          ..\n",
       "I stand alone              1\n",
       "/r/titlegore               1\n",
       "So no A2M?                 1\n",
       "Star Lord?                 1\n",
       "Looks like a fun class     1\n",
       "Name: comment, Length: 734, dtype: int64"
      ]
     },
     "execution_count": 80,
     "metadata": {},
     "output_type": "execute_result"
    }
   ],
   "source": [
    "final_posts[final_posts['target'].isnull()]['comment'].value_counts()"
   ]
  },
  {
   "cell_type": "markdown",
   "id": "f8cacfaa-13b1-4d09-a773-2ccb75ebb4dc",
   "metadata": {},
   "source": [
    "The top two null values are due to comments having been deleted or removed. I will drop these rows."
   ]
  },
  {
   "cell_type": "code",
   "execution_count": 81,
   "id": "5bfd3eaa-2bc5-4b4b-8613-baa60651623a",
   "metadata": {
    "scrolled": true,
    "tags": []
   },
   "outputs": [],
   "source": [
    "final_posts = final_posts[~((final_posts['target'].isnull()) & (final_posts['comment'] == '[deleted]'))]"
   ]
  },
  {
   "cell_type": "code",
   "execution_count": 82,
   "id": "fd57ff18-521f-4309-9611-25ff2bf4d43d",
   "metadata": {
    "tags": []
   },
   "outputs": [],
   "source": [
    "final_posts = final_posts[~((final_posts['target'].isnull()) & (final_posts['comment'] == '[removed]'))]"
   ]
  },
  {
   "cell_type": "markdown",
   "id": "9fba1e2a-abe3-4f55-9dea-e972fb3302f6",
   "metadata": {},
   "source": [
    "I have dropped deleted and removed comments"
   ]
  },
  {
   "cell_type": "code",
   "execution_count": 86,
   "id": "d948d4e7-9731-402e-92ff-adba90e8e61b",
   "metadata": {
    "scrolled": true,
    "tags": []
   },
   "outputs": [
    {
     "data": {
      "text/html": [
       "<div>\n",
       "<style scoped>\n",
       "    .dataframe tbody tr th:only-of-type {\n",
       "        vertical-align: middle;\n",
       "    }\n",
       "\n",
       "    .dataframe tbody tr th {\n",
       "        vertical-align: top;\n",
       "    }\n",
       "\n",
       "    .dataframe thead th {\n",
       "        text-align: right;\n",
       "    }\n",
       "</style>\n",
       "<table border=\"1\" class=\"dataframe\">\n",
       "  <thead>\n",
       "    <tr style=\"text-align: right;\">\n",
       "      <th></th>\n",
       "      <th>title</th>\n",
       "      <th>score</th>\n",
       "      <th>subreddit</th>\n",
       "      <th>id</th>\n",
       "      <th>url</th>\n",
       "      <th>num_comments</th>\n",
       "      <th>comment</th>\n",
       "      <th>target</th>\n",
       "    </tr>\n",
       "  </thead>\n",
       "  <tbody>\n",
       "    <tr>\n",
       "      <th>39</th>\n",
       "      <td>Ron DeSantis promises to boycott Bud Light before admitting he prefers LGBTQ+-friendly Guinness. DeSantis said that Bud Light \"lost a customer\" and then admitted he doesn't even drink it.</td>\n",
       "      <td>8816</td>\n",
       "      <td>politics</td>\n",
       "      <td>12vfywb</td>\n",
       "      <td>https://www.lgbtqnation.com/2023/04/ron-desantis-promises-to-boycott-bud-light-before-admitting-he-prefers-lgbtq-friendly-guinness/</td>\n",
       "      <td>700</td>\n",
       "      <td>Florida lost me as a customer.</td>\n",
       "      <td>NaN</td>\n",
       "    </tr>\n",
       "    <tr>\n",
       "      <th>77</th>\n",
       "      <td>Tennessee Republican who voted to expel Democrats resigns after ethics violation</td>\n",
       "      <td>2974</td>\n",
       "      <td>politics</td>\n",
       "      <td>12vlj9r</td>\n",
       "      <td>https://www.nbcnews.com/politics/politics-news/tennessee-republican-lawmaker-resigns-ethics-violation-rcna80782</td>\n",
       "      <td>47</td>\n",
       "      <td>Good.</td>\n",
       "      <td>NaN</td>\n",
       "    </tr>\n",
       "    <tr>\n",
       "      <th>161</th>\n",
       "      <td>Meet the Afghanistan War Veteran Taking on Rep. George Santos</td>\n",
       "      <td>1140</td>\n",
       "      <td>politics</td>\n",
       "      <td>12vk986</td>\n",
       "      <td>https://www.msnbc.com/jonathan-capehart/watch/meet-the-afghanistan-war-veteran-taking-on-rep-george-santos-171012165896</td>\n",
       "      <td>46</td>\n",
       "      <td>George Santos.. didn’t he die on 9/11?</td>\n",
       "      <td>NaN</td>\n",
       "    </tr>\n",
       "    <tr>\n",
       "      <th>188</th>\n",
       "      <td>Minnesota Senate passes bill banning conversion “therapy”. “If anyone doubts that we can take meaningful action to protect our kids, I’ve got two words for you: Watch us.” ~ Gov. Tim Walz</td>\n",
       "      <td>2366</td>\n",
       "      <td>politics</td>\n",
       "      <td>12vd8bl</td>\n",
       "      <td>https://www.losangelesblade.com/2023/04/21/minnesota-senate-passes-bill-banning-conversion-therapy/</td>\n",
       "      <td>79</td>\n",
       "      <td>Go Walz, keep it up!</td>\n",
       "      <td>NaN</td>\n",
       "    </tr>\n",
       "    <tr>\n",
       "      <th>223</th>\n",
       "      <td>Minnesota Senate Passes Bill To Ban 'Conversion Therapy' For LGBTQ+ People</td>\n",
       "      <td>1068</td>\n",
       "      <td>politics</td>\n",
       "      <td>12vkc9z</td>\n",
       "      <td>https://www.huffpost.com/entry/minnesota-lgbtq-so-called-conversion-therapy-ban_n_644431b5e4b039ec4e7f1d50</td>\n",
       "      <td>35</td>\n",
       "      <td>Michelle Bachmann in shambles.</td>\n",
       "      <td>NaN</td>\n",
       "    </tr>\n",
       "    <tr>\n",
       "      <th>...</th>\n",
       "      <td>...</td>\n",
       "      <td>...</td>\n",
       "      <td>...</td>\n",
       "      <td>...</td>\n",
       "      <td>...</td>\n",
       "      <td>...</td>\n",
       "      <td>...</td>\n",
       "      <td>...</td>\n",
       "    </tr>\n",
       "    <tr>\n",
       "      <th>4394</th>\n",
       "      <td>Crafted from a whiskey barrel, an old guitar string, and silver.</td>\n",
       "      <td>38</td>\n",
       "      <td>pics</td>\n",
       "      <td>12vq1dc</td>\n",
       "      <td>https://i.redd.it/kjudt264rkva1.jpg</td>\n",
       "      <td>9</td>\n",
       "      <td>Nice</td>\n",
       "      <td>NaN</td>\n",
       "    </tr>\n",
       "    <tr>\n",
       "      <th>4404</th>\n",
       "      <td>Beach House</td>\n",
       "      <td>101</td>\n",
       "      <td>pics</td>\n",
       "      <td>12vgalt</td>\n",
       "      <td>https://i.redd.it/651amnswkhva1.jpg</td>\n",
       "      <td>30</td>\n",
       "      <td>Extremely motivated seller...</td>\n",
       "      <td>NaN</td>\n",
       "    </tr>\n",
       "    <tr>\n",
       "      <th>4428</th>\n",
       "      <td>Wife and I checked something off the bucket list ✅ Sunrise over the Himalayas. 🥲</td>\n",
       "      <td>60</td>\n",
       "      <td>pics</td>\n",
       "      <td>12vkq8z</td>\n",
       "      <td>https://i.redd.it/nvynrb3btjva1.jpg</td>\n",
       "      <td>7</td>\n",
       "      <td>Beautiful</td>\n",
       "      <td>NaN</td>\n",
       "    </tr>\n",
       "    <tr>\n",
       "      <th>4432</th>\n",
       "      <td>Protesting Ron DeSantis at Utah Valley University</td>\n",
       "      <td>68</td>\n",
       "      <td>pics</td>\n",
       "      <td>12viqpx</td>\n",
       "      <td>https://i.redd.it/n07ucshnhjva1.jpg</td>\n",
       "      <td>2</td>\n",
       "      <td>Dancing is forbidden</td>\n",
       "      <td>NaN</td>\n",
       "    </tr>\n",
       "    <tr>\n",
       "      <th>4454</th>\n",
       "      <td>New personal trainer challenge: I finished my first all-female kickboxing class yesterday.</td>\n",
       "      <td>8</td>\n",
       "      <td>pics</td>\n",
       "      <td>12vyrny</td>\n",
       "      <td>https://i.redd.it/inn9aqu4ykva1.jpg</td>\n",
       "      <td>10</td>\n",
       "      <td>Looks like a fun class</td>\n",
       "      <td>NaN</td>\n",
       "    </tr>\n",
       "  </tbody>\n",
       "</table>\n",
       "<p>792 rows × 8 columns</p>\n",
       "</div>"
      ],
      "text/plain": [
       "                                                                                                                                                                                            title  \\\n",
       "39    Ron DeSantis promises to boycott Bud Light before admitting he prefers LGBTQ+-friendly Guinness. DeSantis said that Bud Light \"lost a customer\" and then admitted he doesn't even drink it.   \n",
       "77                                                                                                               Tennessee Republican who voted to expel Democrats resigns after ethics violation   \n",
       "161                                                                                                                                 Meet the Afghanistan War Veteran Taking on Rep. George Santos   \n",
       "188   Minnesota Senate passes bill banning conversion “therapy”. “If anyone doubts that we can take meaningful action to protect our kids, I’ve got two words for you: Watch us.” ~ Gov. Tim Walz   \n",
       "223                                                                                                                    Minnesota Senate Passes Bill To Ban 'Conversion Therapy' For LGBTQ+ People   \n",
       "...                                                                                                                                                                                           ...   \n",
       "4394                                                                                                                             Crafted from a whiskey barrel, an old guitar string, and silver.   \n",
       "4404                                                                                                                                                                                  Beach House   \n",
       "4428                                                                                                             Wife and I checked something off the bucket list ✅ Sunrise over the Himalayas. 🥲   \n",
       "4432                                                                                                                                            Protesting Ron DeSantis at Utah Valley University   \n",
       "4454                                                                                                   New personal trainer challenge: I finished my first all-female kickboxing class yesterday.   \n",
       "\n",
       "      score subreddit       id  \\\n",
       "39     8816  politics  12vfywb   \n",
       "77     2974  politics  12vlj9r   \n",
       "161    1140  politics  12vk986   \n",
       "188    2366  politics  12vd8bl   \n",
       "223    1068  politics  12vkc9z   \n",
       "...     ...       ...      ...   \n",
       "4394     38      pics  12vq1dc   \n",
       "4404    101      pics  12vgalt   \n",
       "4428     60      pics  12vkq8z   \n",
       "4432     68      pics  12viqpx   \n",
       "4454      8      pics  12vyrny   \n",
       "\n",
       "                                                                                                                                      url  \\\n",
       "39    https://www.lgbtqnation.com/2023/04/ron-desantis-promises-to-boycott-bud-light-before-admitting-he-prefers-lgbtq-friendly-guinness/   \n",
       "77                        https://www.nbcnews.com/politics/politics-news/tennessee-republican-lawmaker-resigns-ethics-violation-rcna80782   \n",
       "161               https://www.msnbc.com/jonathan-capehart/watch/meet-the-afghanistan-war-veteran-taking-on-rep-george-santos-171012165896   \n",
       "188                                   https://www.losangelesblade.com/2023/04/21/minnesota-senate-passes-bill-banning-conversion-therapy/   \n",
       "223                            https://www.huffpost.com/entry/minnesota-lgbtq-so-called-conversion-therapy-ban_n_644431b5e4b039ec4e7f1d50   \n",
       "...                                                                                                                                   ...   \n",
       "4394                                                                                                  https://i.redd.it/kjudt264rkva1.jpg   \n",
       "4404                                                                                                  https://i.redd.it/651amnswkhva1.jpg   \n",
       "4428                                                                                                  https://i.redd.it/nvynrb3btjva1.jpg   \n",
       "4432                                                                                                  https://i.redd.it/n07ucshnhjva1.jpg   \n",
       "4454                                                                                                  https://i.redd.it/inn9aqu4ykva1.jpg   \n",
       "\n",
       "      num_comments                                 comment  target  \n",
       "39             700          Florida lost me as a customer.     NaN  \n",
       "77              47                                   Good.     NaN  \n",
       "161             46  George Santos.. didn’t he die on 9/11?     NaN  \n",
       "188             79                    Go Walz, keep it up!     NaN  \n",
       "223             35          Michelle Bachmann in shambles.     NaN  \n",
       "...            ...                                     ...     ...  \n",
       "4394             9                                    Nice     NaN  \n",
       "4404            30           Extremely motivated seller...     NaN  \n",
       "4428             7                               Beautiful     NaN  \n",
       "4432             2                    Dancing is forbidden     NaN  \n",
       "4454            10                  Looks like a fun class     NaN  \n",
       "\n",
       "[792 rows x 8 columns]"
      ]
     },
     "execution_count": 86,
     "metadata": {},
     "output_type": "execute_result"
    }
   ],
   "source": [
    "missing_values = final_posts[final_posts['target'].isnull()]\n",
    "missing_values"
   ]
  },
  {
   "cell_type": "markdown",
   "id": "4d7c3e79-a135-42ae-8f20-e11d6a038dea",
   "metadata": {},
   "source": [
    "Remaining null rows. It looks like all of the comments are in English, which means that the language detection module I used didn't identify these ones correctly. I will run these commemnts through the analyser another time and join the results back to my dataframe."
   ]
  },
  {
   "cell_type": "code",
   "execution_count": 96,
   "id": "bffd0c69-addd-4e7a-9345-5e6b53fdbfdd",
   "metadata": {
    "tags": []
   },
   "outputs": [
    {
     "name": "stderr",
     "output_type": "stream",
     "text": [
      "100%|█████████████████████████████████████████| 792/792 [16:13<00:00,  1.23s/it]\n"
     ]
    }
   ],
   "source": [
    "attributes = ['TOXICITY', 'IDENTITY_ATTACK', 'INSULT', 'PROFANITY', 'THREAT']\n",
    "y_label_for_null_values = []\n",
    "counter = 0\n",
    "for comment in tqdm(missing_values['comment']):\n",
    "    analyze_request = {\n",
    "        'comment': { 'text': comment },\n",
    "        'languages': ['en'],\n",
    "        'requestedAttributes': {   #Note that more attributes have been requested\n",
    "            'TOXICITY': {},\n",
    "            'IDENTITY_ATTACK': {},\n",
    "            'INSULT': {},\n",
    "            'PROFANITY': {},\n",
    "            'THREAT': {},\n",
    "        }\n",
    "    }\n",
    "    response = client.comments().analyze(body=analyze_request).execute()\n",
    "    scores = [response['attributeScores'][attr]['summaryScore']['value'] for attr in attributes] # list comprehension to run through my list of attributes and storing all scores in a list\n",
    "    y_label_for_null_values.append(1 if any(score >= 0.5 for score in scores) else 0) # checking through the list of scores if any are above 0.5, if it is label it as a 1, if not label as 0.\n",
    "    counter +=1\n",
    "    if counter % 50 == 0: # Wait one minute every 50 comments to avoid hitting the quota\n",
    "        time.sleep(60) "
   ]
  },
  {
   "cell_type": "code",
   "execution_count": 98,
   "id": "b4893054-2ac4-4dfe-9167-90ace07b57c8",
   "metadata": {
    "tags": []
   },
   "outputs": [
    {
     "data": {
      "text/plain": [
       "792"
      ]
     },
     "execution_count": 98,
     "metadata": {},
     "output_type": "execute_result"
    }
   ],
   "source": [
    "len(y_label_for_null_values)"
   ]
  },
  {
   "cell_type": "markdown",
   "id": "65358a1c-4f62-4e91-9f70-6c0262f394af",
   "metadata": {},
   "source": [
    "Got the y labels for the null values."
   ]
  },
  {
   "cell_type": "code",
   "execution_count": 105,
   "id": "394cea85-e958-4294-9447-82d9b60e6d0d",
   "metadata": {
    "tags": []
   },
   "outputs": [],
   "source": [
    "final_posts.loc[final_posts['target'].isnull(), 'target'] = y_label_for_null_values"
   ]
  },
  {
   "cell_type": "code",
   "execution_count": 106,
   "id": "63d14f62-edf4-4754-bf33-6b00c1225978",
   "metadata": {
    "tags": []
   },
   "outputs": [
    {
     "data": {
      "text/plain": [
       "title           0\n",
       "score           0\n",
       "subreddit       0\n",
       "id              0\n",
       "url             0\n",
       "num_comments    0\n",
       "comment         0\n",
       "target          0\n",
       "dtype: int64"
      ]
     },
     "execution_count": 106,
     "metadata": {},
     "output_type": "execute_result"
    }
   ],
   "source": [
    "final_posts.isnull().sum()"
   ]
  },
  {
   "cell_type": "code",
   "execution_count": 107,
   "id": "2ad238ce-5c7e-439a-9d45-a34ef9f10c2b",
   "metadata": {
    "tags": []
   },
   "outputs": [
    {
     "data": {
      "text/plain": [
       "array([0., 1.])"
      ]
     },
     "execution_count": 107,
     "metadata": {},
     "output_type": "execute_result"
    }
   ],
   "source": [
    "final_posts['target'].unique()"
   ]
  },
  {
   "cell_type": "code",
   "execution_count": 113,
   "id": "08e0e374-a370-4f7d-8006-e276d58af9c9",
   "metadata": {
    "tags": []
   },
   "outputs": [],
   "source": [
    "final_posts['target'] = final_posts['target'].astype(int)"
   ]
  },
  {
   "cell_type": "markdown",
   "id": "519a2256-c3e7-404f-86f4-6f7f93cc2c62",
   "metadata": {},
   "source": [
    "Now let's check to see whether my labels are balanced or imbalanced. If they are imbalanced, I may need to scrape for more data from reddits which are more likely to have offensive statements."
   ]
  },
  {
   "cell_type": "code",
   "execution_count": 130,
   "id": "e1247338-d8cb-499a-aecb-ebe102f68427",
   "metadata": {
    "tags": []
   },
   "outputs": [
    {
     "data": {
      "text/plain": [
       "0    0.900689\n",
       "1    0.099311\n",
       "Name: target, dtype: float64"
      ]
     },
     "execution_count": 130,
     "metadata": {},
     "output_type": "execute_result"
    }
   ],
   "source": [
    "final_posts['target'].value_counts(normalize=True)"
   ]
  },
  {
   "cell_type": "markdown",
   "id": "e02e489d-9fd1-4091-be29-fa3b5b7e28db",
   "metadata": {},
   "source": [
    "## Imbalanced y Classes, Scraping for more Data"
   ]
  },
  {
   "cell_type": "markdown",
   "id": "94803bc5-6783-4f8a-a855-8c3eaee1bba5",
   "metadata": {},
   "source": [
    "Unfortunately my y labels are heavily imbalanced. I will need to scrape more data to make the classes more balanced.\n",
    "\n",
    "I will scrape from subreddits which I think are more offensive in nature to get more 1 y labels. I will also scrape more posts and more comments per subreddit for this reason as well."
   ]
  },
  {
   "cell_type": "code",
   "execution_count": 133,
   "id": "f155aaa4-f09c-4ef0-a8e9-8afb32382290",
   "metadata": {
    "scrolled": true,
    "tags": []
   },
   "outputs": [
    {
     "name": "stderr",
     "output_type": "stream",
     "text": [
      "100%|█████████████████████████████████████████████| 5/5 [06:42<00:00, 80.51s/it]\n"
     ]
    },
    {
     "data": {
      "text/html": [
       "<div>\n",
       "<style scoped>\n",
       "    .dataframe tbody tr th:only-of-type {\n",
       "        vertical-align: middle;\n",
       "    }\n",
       "\n",
       "    .dataframe tbody tr th {\n",
       "        vertical-align: top;\n",
       "    }\n",
       "\n",
       "    .dataframe thead th {\n",
       "        text-align: right;\n",
       "    }\n",
       "</style>\n",
       "<table border=\"1\" class=\"dataframe\">\n",
       "  <thead>\n",
       "    <tr style=\"text-align: right;\">\n",
       "      <th></th>\n",
       "      <th>title</th>\n",
       "      <th>score</th>\n",
       "      <th>subreddit</th>\n",
       "      <th>id</th>\n",
       "      <th>url</th>\n",
       "      <th>num_comments</th>\n",
       "      <th>comment</th>\n",
       "    </tr>\n",
       "  </thead>\n",
       "  <tbody>\n",
       "    <tr>\n",
       "      <th>0</th>\n",
       "      <td>Ivanka Trump being loudly booed by a man in a blue shirt</td>\n",
       "      <td>8000</td>\n",
       "      <td>PublicFreakout</td>\n",
       "      <td>12xwt77</td>\n",
       "      <td>https://v.redd.it/jcugezm0fwva1</td>\n",
       "      <td>490</td>\n",
       "      <td>\"You're the only one here.\"\\n\\nSo you agree? The popular vote matters most?</td>\n",
       "    </tr>\n",
       "    <tr>\n",
       "      <th>1</th>\n",
       "      <td>Ivanka Trump being loudly booed by a man in a blue shirt</td>\n",
       "      <td>8000</td>\n",
       "      <td>PublicFreakout</td>\n",
       "      <td>12xwt77</td>\n",
       "      <td>https://v.redd.it/jcugezm0fwva1</td>\n",
       "      <td>490</td>\n",
       "      <td>![gif](giphy|3otPotmw1yvxkfowBq|downsized)\\n\\nReminds me of this scene</td>\n",
       "    </tr>\n",
       "    <tr>\n",
       "      <th>2</th>\n",
       "      <td>Ivanka Trump being loudly booed by a man in a blue shirt</td>\n",
       "      <td>8000</td>\n",
       "      <td>PublicFreakout</td>\n",
       "      <td>12xwt77</td>\n",
       "      <td>https://v.redd.it/jcugezm0fwva1</td>\n",
       "      <td>490</td>\n",
       "      <td>They should all be shamed and ostracized in public. All the time. Every time</td>\n",
       "    </tr>\n",
       "    <tr>\n",
       "      <th>3</th>\n",
       "      <td>Ivanka Trump being loudly booed by a man in a blue shirt</td>\n",
       "      <td>8000</td>\n",
       "      <td>PublicFreakout</td>\n",
       "      <td>12xwt77</td>\n",
       "      <td>https://v.redd.it/jcugezm0fwva1</td>\n",
       "      <td>490</td>\n",
       "      <td>Only one there with the right attitude</td>\n",
       "    </tr>\n",
       "    <tr>\n",
       "      <th>4</th>\n",
       "      <td>Ivanka Trump being loudly booed by a man in a blue shirt</td>\n",
       "      <td>8000</td>\n",
       "      <td>PublicFreakout</td>\n",
       "      <td>12xwt77</td>\n",
       "      <td>https://v.redd.it/jcugezm0fwva1</td>\n",
       "      <td>490</td>\n",
       "      <td>That is going to happen to her for the rest of her life,</td>\n",
       "    </tr>\n",
       "    <tr>\n",
       "      <th>...</th>\n",
       "      <td>...</td>\n",
       "      <td>...</td>\n",
       "      <td>...</td>\n",
       "      <td>...</td>\n",
       "      <td>...</td>\n",
       "      <td>...</td>\n",
       "      <td>...</td>\n",
       "    </tr>\n",
       "    <tr>\n",
       "      <th>10113</th>\n",
       "      <td>Mom wants stepdad to adopt me so she can inherit me</td>\n",
       "      <td>3055</td>\n",
       "      <td>entitledparents</td>\n",
       "      <td>12km7ji</td>\n",
       "      <td>https://www.reddit.com/r/entitledparents/comments/12km7ji/mom_wants_stepdad_to_adopt_me_so_she_can_inherit/</td>\n",
       "      <td>392</td>\n",
       "      <td>Doesn't sound line you have anything in inherit \\n\\n\\nThat sounds like needless psychotic behavior on her part</td>\n",
       "    </tr>\n",
       "    <tr>\n",
       "      <th>10114</th>\n",
       "      <td>Mom wants stepdad to adopt me so she can inherit me</td>\n",
       "      <td>3055</td>\n",
       "      <td>entitledparents</td>\n",
       "      <td>12km7ji</td>\n",
       "      <td>https://www.reddit.com/r/entitledparents/comments/12km7ji/mom_wants_stepdad_to_adopt_me_so_she_can_inherit/</td>\n",
       "      <td>392</td>\n",
       "      <td>Why is she so concerned about you dying? Do you have terminal cancer? Are you a millionaire? Do you have a huge life insurance policy?</td>\n",
       "    </tr>\n",
       "    <tr>\n",
       "      <th>10115</th>\n",
       "      <td>Mom wants stepdad to adopt me so she can inherit me</td>\n",
       "      <td>3055</td>\n",
       "      <td>entitledparents</td>\n",
       "      <td>12km7ji</td>\n",
       "      <td>https://www.reddit.com/r/entitledparents/comments/12km7ji/mom_wants_stepdad_to_adopt_me_so_she_can_inherit/</td>\n",
       "      <td>392</td>\n",
       "      <td>Is it even possible for your stepdad to adopt you if your dad is still alive and doesn’t volunteer to give up his parental rights?</td>\n",
       "    </tr>\n",
       "    <tr>\n",
       "      <th>10116</th>\n",
       "      <td>Mom wants stepdad to adopt me so she can inherit me</td>\n",
       "      <td>3055</td>\n",
       "      <td>entitledparents</td>\n",
       "      <td>12km7ji</td>\n",
       "      <td>https://www.reddit.com/r/entitledparents/comments/12km7ji/mom_wants_stepdad_to_adopt_me_so_she_can_inherit/</td>\n",
       "      <td>392</td>\n",
       "      <td>\"Burn me with all my stuff! It's mine!\"\\n\\n^ My cousins actual notarized will</td>\n",
       "    </tr>\n",
       "    <tr>\n",
       "      <th>10117</th>\n",
       "      <td>Mom wants stepdad to adopt me so she can inherit me</td>\n",
       "      <td>3055</td>\n",
       "      <td>entitledparents</td>\n",
       "      <td>12km7ji</td>\n",
       "      <td>https://www.reddit.com/r/entitledparents/comments/12km7ji/mom_wants_stepdad_to_adopt_me_so_she_can_inherit/</td>\n",
       "      <td>392</td>\n",
       "      <td>I would just say,”Don’t worry about it. I’ve already made sure you guys get everything you deserve.” Then, make your legally binding will out to leave them each one whole dollar. And to be fair, that’s in all likelihood far too generous. But you did mention them in the will, so it’s much harder to dispute. Also, I personally might be somewhat concerned why your lovely mother has it in her head you might meet your end before her. Then, add in the fact she wants her hubby to adopt you so that he may inherit, sounds sinister at minimum. Be careful out there.</td>\n",
       "    </tr>\n",
       "  </tbody>\n",
       "</table>\n",
       "<p>10118 rows × 7 columns</p>\n",
       "</div>"
      ],
      "text/plain": [
       "                                                          title  score  \\\n",
       "0      Ivanka Trump being loudly booed by a man in a blue shirt   8000   \n",
       "1      Ivanka Trump being loudly booed by a man in a blue shirt   8000   \n",
       "2      Ivanka Trump being loudly booed by a man in a blue shirt   8000   \n",
       "3      Ivanka Trump being loudly booed by a man in a blue shirt   8000   \n",
       "4      Ivanka Trump being loudly booed by a man in a blue shirt   8000   \n",
       "...                                                         ...    ...   \n",
       "10113       Mom wants stepdad to adopt me so she can inherit me   3055   \n",
       "10114       Mom wants stepdad to adopt me so she can inherit me   3055   \n",
       "10115       Mom wants stepdad to adopt me so she can inherit me   3055   \n",
       "10116       Mom wants stepdad to adopt me so she can inherit me   3055   \n",
       "10117       Mom wants stepdad to adopt me so she can inherit me   3055   \n",
       "\n",
       "             subreddit       id  \\\n",
       "0       PublicFreakout  12xwt77   \n",
       "1       PublicFreakout  12xwt77   \n",
       "2       PublicFreakout  12xwt77   \n",
       "3       PublicFreakout  12xwt77   \n",
       "4       PublicFreakout  12xwt77   \n",
       "...                ...      ...   \n",
       "10113  entitledparents  12km7ji   \n",
       "10114  entitledparents  12km7ji   \n",
       "10115  entitledparents  12km7ji   \n",
       "10116  entitledparents  12km7ji   \n",
       "10117  entitledparents  12km7ji   \n",
       "\n",
       "                                                                                                               url  \\\n",
       "0                                                                                  https://v.redd.it/jcugezm0fwva1   \n",
       "1                                                                                  https://v.redd.it/jcugezm0fwva1   \n",
       "2                                                                                  https://v.redd.it/jcugezm0fwva1   \n",
       "3                                                                                  https://v.redd.it/jcugezm0fwva1   \n",
       "4                                                                                  https://v.redd.it/jcugezm0fwva1   \n",
       "...                                                                                                            ...   \n",
       "10113  https://www.reddit.com/r/entitledparents/comments/12km7ji/mom_wants_stepdad_to_adopt_me_so_she_can_inherit/   \n",
       "10114  https://www.reddit.com/r/entitledparents/comments/12km7ji/mom_wants_stepdad_to_adopt_me_so_she_can_inherit/   \n",
       "10115  https://www.reddit.com/r/entitledparents/comments/12km7ji/mom_wants_stepdad_to_adopt_me_so_she_can_inherit/   \n",
       "10116  https://www.reddit.com/r/entitledparents/comments/12km7ji/mom_wants_stepdad_to_adopt_me_so_she_can_inherit/   \n",
       "10117  https://www.reddit.com/r/entitledparents/comments/12km7ji/mom_wants_stepdad_to_adopt_me_so_she_can_inherit/   \n",
       "\n",
       "       num_comments  \\\n",
       "0               490   \n",
       "1               490   \n",
       "2               490   \n",
       "3               490   \n",
       "4               490   \n",
       "...             ...   \n",
       "10113           392   \n",
       "10114           392   \n",
       "10115           392   \n",
       "10116           392   \n",
       "10117           392   \n",
       "\n",
       "                                                                                                                                                                                                                                                                                                                                                                                                                                                                                                                                                                                 comment  \n",
       "0                                                                                                                                                                                                                                                                                                                                                                                                                                                                                                            \"You're the only one here.\"\\n\\nSo you agree? The popular vote matters most?  \n",
       "1                                                                                                                                                                                                                                                                                                                                                                                                                                                                                                                 ![gif](giphy|3otPotmw1yvxkfowBq|downsized)\\n\\nReminds me of this scene  \n",
       "2                                                                                                                                                                                                                                                                                                                                                                                                                                                                                                           They should all be shamed and ostracized in public. All the time. Every time  \n",
       "3                                                                                                                                                                                                                                                                                                                                                                                                                                                                                                                                                 Only one there with the right attitude  \n",
       "4                                                                                                                                                                                                                                                                                                                                                                                                                                                                                                                               That is going to happen to her for the rest of her life,  \n",
       "...                                                                                                                                                                                                                                                                                                                                                                                                                                                                                                                                                                                  ...  \n",
       "10113                                                                                                                                                                                                                                                                                                                                                                                                                                                                     Doesn't sound line you have anything in inherit \\n\\n\\nThat sounds like needless psychotic behavior on her part  \n",
       "10114                                                                                                                                                                                                                                                                                                                                                                                                                                             Why is she so concerned about you dying? Do you have terminal cancer? Are you a millionaire? Do you have a huge life insurance policy?  \n",
       "10115                                                                                                                                                                                                                                                                                                                                                                                                                                                 Is it even possible for your stepdad to adopt you if your dad is still alive and doesn’t volunteer to give up his parental rights?  \n",
       "10116                                                                                                                                                                                                                                                                                                                                                                                                                                                                                                      \"Burn me with all my stuff! It's mine!\"\\n\\n^ My cousins actual notarized will  \n",
       "10117  I would just say,”Don’t worry about it. I’ve already made sure you guys get everything you deserve.” Then, make your legally binding will out to leave them each one whole dollar. And to be fair, that’s in all likelihood far too generous. But you did mention them in the will, so it’s much harder to dispute. Also, I personally might be somewhat concerned why your lovely mother has it in her head you might meet your end before her. Then, add in the fact she wants her hubby to adopt you so that he may inherit, sounds sinister at minimum. Be careful out there.  \n",
       "\n",
       "[10118 rows x 7 columns]"
      ]
     },
     "execution_count": 133,
     "metadata": {},
     "output_type": "execute_result"
    }
   ],
   "source": [
    "list_of_subreddits_3 = ['PublicFreakout','antiwork','SubredditDrama','facepalm','entitledparents']#implementing a new list of subreddits to scrape data\n",
    "\n",
    "posts_3 = [] # initialising a different list called posts_3 for clarity\n",
    "\n",
    "for genre in tqdm(list_of_subreddits_3): # iterating over a list of subreddits\n",
    "    subreddit = reddit.subreddit(genre) # assigning a particular subreddit to my variable subreddit\n",
    "    comments_added = [] # I need this variable as an accumulator for number of comments added for a particular subreddit. I place it inside the loop so that it resets after the loop enters a new subreddit so that it can exit the loop at the required value again.\n",
    "    total_rows_added = 0 #I will be using this variable to track the number of rows I have added to the final dataset.\n",
    "\n",
    "    for post in subreddit.hot(): #iterating through the hottest posts in the assigned subreddit\n",
    "\n",
    "        if post.stickied or post.subreddit.display_name == \"promoted\":#This is to skip pinned threads and advertisements, these aren't actually user submitted posts, so I will skip them.\n",
    "            continue\n",
    "        post_row = [post.title, post.score, post.subreddit, post.id, post.url, post.num_comments]# assigning the various attributes of each 'post' into a list which will be my column values.\n",
    "\n",
    "\n",
    "        post.comments.replace_more(limit=0) # this is accessing the comments from within the post. \n",
    "        num_comments_printed = 0 # This is to track the number of comments scraped from a particular post.\n",
    "        for comment in post.comments:\n",
    "            if comment.stickied: #This is to skip stickied comments as it is usually a reminder about the particular subreddit's rules and not actual user submitted comments.\n",
    "                continue\n",
    "            num_comments_printed +=1\n",
    "            comment_row = list(post_row)# make a copy of the post row for each comment so that my final dataframe will have the same values for all other features, and only the value under the comment column will change\n",
    "            comment_row.append(comment.body)\n",
    "            posts_3.append(comment_row) #appending the post attributes and the comments to posts list which will be my data values.\n",
    "            comments_added.append(comment_row)\n",
    "            if num_comments_printed == 100: # once 10 comments have been scraped from a particular post, to move on to the next post.\n",
    "                break\n",
    "\n",
    "        if len(comments_added) >= 2000: # exits the loop once the desired amount of comments have been scraped from the particular subreddit\n",
    "                break\n",
    "\n",
    "        if total_rows_added >= 15000: # exits the entire loop once the desired amount of rows of the final dataset has been scraped.\n",
    "            break\n",
    "\n",
    "# create dataframe\n",
    "posts_3 = pd.DataFrame(posts_3, columns=['title', 'score', 'subreddit','id', 'url', 'num_comments', 'comment'])\n",
    "posts_3\n"
   ]
  },
  {
   "cell_type": "code",
   "execution_count": 134,
   "id": "060154e5-8a1e-49f5-ab62-a241518a97f4",
   "metadata": {
    "tags": []
   },
   "outputs": [],
   "source": [
    "#posts_3.to_csv('../data/outputs/comments_from_reddit_part_3.csv') #exporting posts dataframe into csv"
   ]
  },
  {
   "cell_type": "markdown",
   "id": "919bf22b-f9df-4eea-8e97-17db65ebd4c4",
   "metadata": {},
   "source": [
    "Now to repeat the labelling process again. At this point in time I received approval from the google perspective team to increase my quota. So I can analyse more comments before waiting 1 minute. The quota was increased from 60 comments per minute to 240 comments per minute. I will now wait 60 seconds after every 230 comments insteaed of every 50 comments."
   ]
  },
  {
   "cell_type": "code",
   "execution_count": 179,
   "id": "835089ac-ef0f-45f9-8155-b1074334bca1",
   "metadata": {
    "tags": []
   },
   "outputs": [],
   "source": [
    "output_file = os.path.join('../data/outputs/', 'y_label_posts_3.npy')"
   ]
  },
  {
   "cell_type": "markdown",
   "id": "818c03a4-b4b3-4d93-838e-5460fcdbec93",
   "metadata": {},
   "source": [
    "Updating output_file for the new y labels."
   ]
  },
  {
   "cell_type": "code",
   "execution_count": 137,
   "id": "a96345dd-f7c1-4828-a00a-f1864328ade7",
   "metadata": {
    "tags": []
   },
   "outputs": [
    {
     "name": "stderr",
     "output_type": "stream",
     "text": [
      "100%|█████████████████████████████████████| 10118/10118 [58:35<00:00,  2.88it/s]\n"
     ]
    }
   ],
   "source": [
    "attributes = ['TOXICITY', 'IDENTITY_ATTACK', 'INSULT', 'PROFANITY', 'THREAT']\n",
    "y_label_posts_3 = []\n",
    "counter = 0\n",
    "for comment in tqdm(posts_3.iloc[:]['comment']):\n",
    "    try:\n",
    "        if langdetect.detect(comment) != 'en': # if the comment is not in English, append NaN to y_label\n",
    "            y_label_posts_3.append(float('nan'))\n",
    "            continue\n",
    "    except LangDetectException: # if it is in English, run the rest of the loop\n",
    "        pass\n",
    "    \n",
    "    analyze_request = {\n",
    "        'comment': { 'text': comment },\n",
    "        'languages': ['en'],\n",
    "        'requestedAttributes': {\n",
    "            'TOXICITY': {},\n",
    "            'IDENTITY_ATTACK': {},\n",
    "            'INSULT': {},\n",
    "            'PROFANITY': {},\n",
    "            'THREAT': {},\n",
    "        }\n",
    "    }\n",
    "    \n",
    "    response = client.comments().analyze(body=analyze_request).execute()\n",
    "    scores = [response['attributeScores'][attr]['summaryScore']['value'] for attr in attributes]# list comprehension to run through my list of attributes and storing all scores in a list\n",
    "    y_label_posts_3.append(1 if any(score >= 0.5 for score in scores) else 0)# checking through the list of scores if any are above 0.5, if it is label it as a 1, if not label as 0.\n",
    "    counter +=1\n",
    "    if counter % 230 == 0: # Wait one minute every 50 comments to avoid hitting the quota\n",
    "        time.sleep(60)\n",
    "        \n",
    "    np.save(output_file, y_label_posts_3)# Save the generated y labels to a file so I don't lose progress, and I can also use the generated file to see which comment threw the error."
   ]
  },
  {
   "cell_type": "code",
   "execution_count": 139,
   "id": "81f30fc7-0747-4ca1-a2d1-8c8b17511ab3",
   "metadata": {
    "tags": []
   },
   "outputs": [
    {
     "data": {
      "text/plain": [
       "10118"
      ]
     },
     "execution_count": 139,
     "metadata": {},
     "output_type": "execute_result"
    }
   ],
   "source": [
    "len(y_label_posts_3)"
   ]
  },
  {
   "cell_type": "code",
   "execution_count": 143,
   "id": "797fec9d-2f03-4db9-9f5e-4345ee387726",
   "metadata": {
    "tags": []
   },
   "outputs": [
    {
     "data": {
      "text/plain": [
       "0.0    0.788713\n",
       "1.0    0.211287\n",
       "dtype: float64"
      ]
     },
     "execution_count": 143,
     "metadata": {},
     "output_type": "execute_result"
    }
   ],
   "source": [
    "pd.DataFrame(y_label_posts_3).value_counts(normalize=True)"
   ]
  },
  {
   "cell_type": "markdown",
   "id": "31455d9c-b4ab-4d55-bd4b-fa014eedcbc8",
   "metadata": {},
   "source": [
    "The y labels for this set of data is still imbalanced but better than the previous dataset. In any case, I can always utilise downsampling and upsampling later on to make the dataset more balanced."
   ]
  },
  {
   "cell_type": "markdown",
   "id": "11036310-e242-4d16-9ce0-1b96bc95ff45",
   "metadata": {},
   "source": [
    "I will now redo all the steps of checking for null values, etc. before concatenating the two datasets together for my final dataset."
   ]
  },
  {
   "cell_type": "code",
   "execution_count": 145,
   "id": "73e598af-0ec8-4e20-b0c2-45742208b948",
   "metadata": {
    "tags": []
   },
   "outputs": [
    {
     "data": {
      "text/html": [
       "<div>\n",
       "<style scoped>\n",
       "    .dataframe tbody tr th:only-of-type {\n",
       "        vertical-align: middle;\n",
       "    }\n",
       "\n",
       "    .dataframe tbody tr th {\n",
       "        vertical-align: top;\n",
       "    }\n",
       "\n",
       "    .dataframe thead th {\n",
       "        text-align: right;\n",
       "    }\n",
       "</style>\n",
       "<table border=\"1\" class=\"dataframe\">\n",
       "  <thead>\n",
       "    <tr style=\"text-align: right;\">\n",
       "      <th></th>\n",
       "      <th>title</th>\n",
       "      <th>score</th>\n",
       "      <th>subreddit</th>\n",
       "      <th>id</th>\n",
       "      <th>url</th>\n",
       "      <th>num_comments</th>\n",
       "      <th>comment</th>\n",
       "      <th>target</th>\n",
       "    </tr>\n",
       "  </thead>\n",
       "  <tbody>\n",
       "    <tr>\n",
       "      <th>0</th>\n",
       "      <td>Ivanka Trump being loudly booed by a man in a blue shirt</td>\n",
       "      <td>8000</td>\n",
       "      <td>PublicFreakout</td>\n",
       "      <td>12xwt77</td>\n",
       "      <td>https://v.redd.it/jcugezm0fwva1</td>\n",
       "      <td>490</td>\n",
       "      <td>\"You're the only one here.\"\\n\\nSo you agree? The popular vote matters most?</td>\n",
       "      <td>0.0</td>\n",
       "    </tr>\n",
       "    <tr>\n",
       "      <th>1</th>\n",
       "      <td>Ivanka Trump being loudly booed by a man in a blue shirt</td>\n",
       "      <td>8000</td>\n",
       "      <td>PublicFreakout</td>\n",
       "      <td>12xwt77</td>\n",
       "      <td>https://v.redd.it/jcugezm0fwva1</td>\n",
       "      <td>490</td>\n",
       "      <td>![gif](giphy|3otPotmw1yvxkfowBq|downsized)\\n\\nReminds me of this scene</td>\n",
       "      <td>0.0</td>\n",
       "    </tr>\n",
       "    <tr>\n",
       "      <th>2</th>\n",
       "      <td>Ivanka Trump being loudly booed by a man in a blue shirt</td>\n",
       "      <td>8000</td>\n",
       "      <td>PublicFreakout</td>\n",
       "      <td>12xwt77</td>\n",
       "      <td>https://v.redd.it/jcugezm0fwva1</td>\n",
       "      <td>490</td>\n",
       "      <td>They should all be shamed and ostracized in public. All the time. Every time</td>\n",
       "      <td>0.0</td>\n",
       "    </tr>\n",
       "    <tr>\n",
       "      <th>3</th>\n",
       "      <td>Ivanka Trump being loudly booed by a man in a blue shirt</td>\n",
       "      <td>8000</td>\n",
       "      <td>PublicFreakout</td>\n",
       "      <td>12xwt77</td>\n",
       "      <td>https://v.redd.it/jcugezm0fwva1</td>\n",
       "      <td>490</td>\n",
       "      <td>Only one there with the right attitude</td>\n",
       "      <td>0.0</td>\n",
       "    </tr>\n",
       "    <tr>\n",
       "      <th>4</th>\n",
       "      <td>Ivanka Trump being loudly booed by a man in a blue shirt</td>\n",
       "      <td>8000</td>\n",
       "      <td>PublicFreakout</td>\n",
       "      <td>12xwt77</td>\n",
       "      <td>https://v.redd.it/jcugezm0fwva1</td>\n",
       "      <td>490</td>\n",
       "      <td>That is going to happen to her for the rest of her life,</td>\n",
       "      <td>0.0</td>\n",
       "    </tr>\n",
       "  </tbody>\n",
       "</table>\n",
       "</div>"
      ],
      "text/plain": [
       "                                                      title  score  \\\n",
       "0  Ivanka Trump being loudly booed by a man in a blue shirt   8000   \n",
       "1  Ivanka Trump being loudly booed by a man in a blue shirt   8000   \n",
       "2  Ivanka Trump being loudly booed by a man in a blue shirt   8000   \n",
       "3  Ivanka Trump being loudly booed by a man in a blue shirt   8000   \n",
       "4  Ivanka Trump being loudly booed by a man in a blue shirt   8000   \n",
       "\n",
       "        subreddit       id                              url  num_comments  \\\n",
       "0  PublicFreakout  12xwt77  https://v.redd.it/jcugezm0fwva1           490   \n",
       "1  PublicFreakout  12xwt77  https://v.redd.it/jcugezm0fwva1           490   \n",
       "2  PublicFreakout  12xwt77  https://v.redd.it/jcugezm0fwva1           490   \n",
       "3  PublicFreakout  12xwt77  https://v.redd.it/jcugezm0fwva1           490   \n",
       "4  PublicFreakout  12xwt77  https://v.redd.it/jcugezm0fwva1           490   \n",
       "\n",
       "                                                                        comment  \\\n",
       "0   \"You're the only one here.\"\\n\\nSo you agree? The popular vote matters most?   \n",
       "1        ![gif](giphy|3otPotmw1yvxkfowBq|downsized)\\n\\nReminds me of this scene   \n",
       "2  They should all be shamed and ostracized in public. All the time. Every time   \n",
       "3                                        Only one there with the right attitude   \n",
       "4                      That is going to happen to her for the rest of her life,   \n",
       "\n",
       "   target  \n",
       "0     0.0  \n",
       "1     0.0  \n",
       "2     0.0  \n",
       "3     0.0  \n",
       "4     0.0  "
      ]
     },
     "execution_count": 145,
     "metadata": {},
     "output_type": "execute_result"
    }
   ],
   "source": [
    "posts_3.head()"
   ]
  },
  {
   "cell_type": "code",
   "execution_count": 144,
   "id": "4dc72512-5f57-4b4b-9bdc-feefcfd2c495",
   "metadata": {
    "tags": []
   },
   "outputs": [],
   "source": [
    "posts_3['target'] = y_label_posts_3 # adding labels to dataframe."
   ]
  },
  {
   "cell_type": "code",
   "execution_count": 146,
   "id": "7d968140-1066-4ecb-ba8e-ebf1f26a52b9",
   "metadata": {
    "tags": []
   },
   "outputs": [
    {
     "data": {
      "text/plain": [
       "array([ 0.,  1., nan])"
      ]
     },
     "execution_count": 146,
     "metadata": {},
     "output_type": "execute_result"
    }
   ],
   "source": [
    "posts_3['target'].unique()"
   ]
  },
  {
   "cell_type": "code",
   "execution_count": 147,
   "id": "4c66dc2d-d0d6-42e9-bf79-f042d15d1efa",
   "metadata": {
    "scrolled": true,
    "tags": []
   },
   "outputs": [
    {
     "data": {
      "text/html": [
       "<div>\n",
       "<style scoped>\n",
       "    .dataframe tbody tr th:only-of-type {\n",
       "        vertical-align: middle;\n",
       "    }\n",
       "\n",
       "    .dataframe tbody tr th {\n",
       "        vertical-align: top;\n",
       "    }\n",
       "\n",
       "    .dataframe thead th {\n",
       "        text-align: right;\n",
       "    }\n",
       "</style>\n",
       "<table border=\"1\" class=\"dataframe\">\n",
       "  <thead>\n",
       "    <tr style=\"text-align: right;\">\n",
       "      <th></th>\n",
       "      <th>title</th>\n",
       "      <th>score</th>\n",
       "      <th>subreddit</th>\n",
       "      <th>id</th>\n",
       "      <th>url</th>\n",
       "      <th>num_comments</th>\n",
       "      <th>comment</th>\n",
       "      <th>target</th>\n",
       "    </tr>\n",
       "  </thead>\n",
       "  <tbody>\n",
       "    <tr>\n",
       "      <th>12</th>\n",
       "      <td>Ivanka Trump being loudly booed by a man in a blue shirt</td>\n",
       "      <td>8000</td>\n",
       "      <td>PublicFreakout</td>\n",
       "      <td>12xwt77</td>\n",
       "      <td>https://v.redd.it/jcugezm0fwva1</td>\n",
       "      <td>490</td>\n",
       "      <td>\"Woo go Trump!\" 🤮</td>\n",
       "      <td>NaN</td>\n",
       "    </tr>\n",
       "    <tr>\n",
       "      <th>15</th>\n",
       "      <td>Ivanka Trump being loudly booed by a man in a blue shirt</td>\n",
       "      <td>8000</td>\n",
       "      <td>PublicFreakout</td>\n",
       "      <td>12xwt77</td>\n",
       "      <td>https://v.redd.it/jcugezm0fwva1</td>\n",
       "      <td>490</td>\n",
       "      <td>Impressive lungs</td>\n",
       "      <td>NaN</td>\n",
       "    </tr>\n",
       "    <tr>\n",
       "      <th>29</th>\n",
       "      <td>Ivanka Trump being loudly booed by a man in a blue shirt</td>\n",
       "      <td>8000</td>\n",
       "      <td>PublicFreakout</td>\n",
       "      <td>12xwt77</td>\n",
       "      <td>https://v.redd.it/jcugezm0fwva1</td>\n",
       "      <td>490</td>\n",
       "      <td>Hahahahahahahahahahahaha</td>\n",
       "      <td>NaN</td>\n",
       "    </tr>\n",
       "    <tr>\n",
       "      <th>30</th>\n",
       "      <td>Ivanka Trump being loudly booed by a man in a blue shirt</td>\n",
       "      <td>8000</td>\n",
       "      <td>PublicFreakout</td>\n",
       "      <td>12xwt77</td>\n",
       "      <td>https://v.redd.it/jcugezm0fwva1</td>\n",
       "      <td>490</td>\n",
       "      <td>Booooo booo lol</td>\n",
       "      <td>NaN</td>\n",
       "    </tr>\n",
       "    <tr>\n",
       "      <th>31</th>\n",
       "      <td>Ivanka Trump being loudly booed by a man in a blue shirt</td>\n",
       "      <td>8000</td>\n",
       "      <td>PublicFreakout</td>\n",
       "      <td>12xwt77</td>\n",
       "      <td>https://v.redd.it/jcugezm0fwva1</td>\n",
       "      <td>490</td>\n",
       "      <td>![gif](giphy|4gZKpjp9zlsqs)</td>\n",
       "      <td>NaN</td>\n",
       "    </tr>\n",
       "    <tr>\n",
       "      <th>...</th>\n",
       "      <td>...</td>\n",
       "      <td>...</td>\n",
       "      <td>...</td>\n",
       "      <td>...</td>\n",
       "      <td>...</td>\n",
       "      <td>...</td>\n",
       "      <td>...</td>\n",
       "      <td>...</td>\n",
       "    </tr>\n",
       "    <tr>\n",
       "      <th>9924</th>\n",
       "      <td>Parents force me and my brother to eat expired food</td>\n",
       "      <td>955</td>\n",
       "      <td>entitledparents</td>\n",
       "      <td>12lvyrj</td>\n",
       "      <td>https://www.reddit.com/r/entitledparents/comments/12lvyrj/parents_force_me_and_my_brother_to_eat_expired/</td>\n",
       "      <td>170</td>\n",
       "      <td>“No.” Is a complete sentence.</td>\n",
       "      <td>NaN</td>\n",
       "    </tr>\n",
       "    <tr>\n",
       "      <th>9997</th>\n",
       "      <td>Karen called the cops on my service dog and accused me of being too young to be disabled again</td>\n",
       "      <td>3020</td>\n",
       "      <td>entitledparents</td>\n",
       "      <td>12kqo29</td>\n",
       "      <td>https://www.reddit.com/r/entitledparents/comments/12kqo29/karen_called_the_cops_on_my_service_dog_and/</td>\n",
       "      <td>157</td>\n",
       "      <td>[removed]</td>\n",
       "      <td>NaN</td>\n",
       "    </tr>\n",
       "    <tr>\n",
       "      <th>10004</th>\n",
       "      <td>Karen called the cops on my service dog and accused me of being too young to be disabled again</td>\n",
       "      <td>3020</td>\n",
       "      <td>entitledparents</td>\n",
       "      <td>12kqo29</td>\n",
       "      <td>https://www.reddit.com/r/entitledparents/comments/12kqo29/karen_called_the_cops_on_my_service_dog_and/</td>\n",
       "      <td>157</td>\n",
       "      <td>… again?!</td>\n",
       "      <td>NaN</td>\n",
       "    </tr>\n",
       "    <tr>\n",
       "      <th>10047</th>\n",
       "      <td>Mom wants stepdad to adopt me so she can inherit me</td>\n",
       "      <td>3055</td>\n",
       "      <td>entitledparents</td>\n",
       "      <td>12km7ji</td>\n",
       "      <td>https://www.reddit.com/r/entitledparents/comments/12km7ji/mom_wants_stepdad_to_adopt_me_so_she_can_inherit/</td>\n",
       "      <td>392</td>\n",
       "      <td>nu vet jag inte vart i skandinavien du är, men är du i sverige så kan du göra alla utom dina barn arvslösa, även dina föräldrar</td>\n",
       "      <td>NaN</td>\n",
       "    </tr>\n",
       "    <tr>\n",
       "      <th>10102</th>\n",
       "      <td>Mom wants stepdad to adopt me so she can inherit me</td>\n",
       "      <td>3055</td>\n",
       "      <td>entitledparents</td>\n",
       "      <td>12km7ji</td>\n",
       "      <td>https://www.reddit.com/r/entitledparents/comments/12km7ji/mom_wants_stepdad_to_adopt_me_so_she_can_inherit/</td>\n",
       "      <td>392</td>\n",
       "      <td>I had no idea you could adopt a legal adult.</td>\n",
       "      <td>NaN</td>\n",
       "    </tr>\n",
       "  </tbody>\n",
       "</table>\n",
       "<p>638 rows × 8 columns</p>\n",
       "</div>"
      ],
      "text/plain": [
       "                                                                                                title  \\\n",
       "12                                           Ivanka Trump being loudly booed by a man in a blue shirt   \n",
       "15                                           Ivanka Trump being loudly booed by a man in a blue shirt   \n",
       "29                                           Ivanka Trump being loudly booed by a man in a blue shirt   \n",
       "30                                           Ivanka Trump being loudly booed by a man in a blue shirt   \n",
       "31                                           Ivanka Trump being loudly booed by a man in a blue shirt   \n",
       "...                                                                                               ...   \n",
       "9924                                              Parents force me and my brother to eat expired food   \n",
       "9997   Karen called the cops on my service dog and accused me of being too young to be disabled again   \n",
       "10004  Karen called the cops on my service dog and accused me of being too young to be disabled again   \n",
       "10047                                             Mom wants stepdad to adopt me so she can inherit me   \n",
       "10102                                             Mom wants stepdad to adopt me so she can inherit me   \n",
       "\n",
       "       score        subreddit       id  \\\n",
       "12      8000   PublicFreakout  12xwt77   \n",
       "15      8000   PublicFreakout  12xwt77   \n",
       "29      8000   PublicFreakout  12xwt77   \n",
       "30      8000   PublicFreakout  12xwt77   \n",
       "31      8000   PublicFreakout  12xwt77   \n",
       "...      ...              ...      ...   \n",
       "9924     955  entitledparents  12lvyrj   \n",
       "9997    3020  entitledparents  12kqo29   \n",
       "10004   3020  entitledparents  12kqo29   \n",
       "10047   3055  entitledparents  12km7ji   \n",
       "10102   3055  entitledparents  12km7ji   \n",
       "\n",
       "                                                                                                               url  \\\n",
       "12                                                                                 https://v.redd.it/jcugezm0fwva1   \n",
       "15                                                                                 https://v.redd.it/jcugezm0fwva1   \n",
       "29                                                                                 https://v.redd.it/jcugezm0fwva1   \n",
       "30                                                                                 https://v.redd.it/jcugezm0fwva1   \n",
       "31                                                                                 https://v.redd.it/jcugezm0fwva1   \n",
       "...                                                                                                            ...   \n",
       "9924     https://www.reddit.com/r/entitledparents/comments/12lvyrj/parents_force_me_and_my_brother_to_eat_expired/   \n",
       "9997        https://www.reddit.com/r/entitledparents/comments/12kqo29/karen_called_the_cops_on_my_service_dog_and/   \n",
       "10004       https://www.reddit.com/r/entitledparents/comments/12kqo29/karen_called_the_cops_on_my_service_dog_and/   \n",
       "10047  https://www.reddit.com/r/entitledparents/comments/12km7ji/mom_wants_stepdad_to_adopt_me_so_she_can_inherit/   \n",
       "10102  https://www.reddit.com/r/entitledparents/comments/12km7ji/mom_wants_stepdad_to_adopt_me_so_she_can_inherit/   \n",
       "\n",
       "       num_comments  \\\n",
       "12              490   \n",
       "15              490   \n",
       "29              490   \n",
       "30              490   \n",
       "31              490   \n",
       "...             ...   \n",
       "9924            170   \n",
       "9997            157   \n",
       "10004           157   \n",
       "10047           392   \n",
       "10102           392   \n",
       "\n",
       "                                                                                                                               comment  \\\n",
       "12                                                                                                                   \"Woo go Trump!\" 🤮   \n",
       "15                                                                                                                    Impressive lungs   \n",
       "29                                                                                                            Hahahahahahahahahahahaha   \n",
       "30                                                                                                                     Booooo booo lol   \n",
       "31                                                                                                         ![gif](giphy|4gZKpjp9zlsqs)   \n",
       "...                                                                                                                                ...   \n",
       "9924                                                                                                     “No.” Is a complete sentence.   \n",
       "9997                                                                                                                         [removed]   \n",
       "10004                                                                                                                        … again?!   \n",
       "10047  nu vet jag inte vart i skandinavien du är, men är du i sverige så kan du göra alla utom dina barn arvslösa, även dina föräldrar   \n",
       "10102                                                                                     I had no idea you could adopt a legal adult.   \n",
       "\n",
       "       target  \n",
       "12        NaN  \n",
       "15        NaN  \n",
       "29        NaN  \n",
       "30        NaN  \n",
       "31        NaN  \n",
       "...       ...  \n",
       "9924      NaN  \n",
       "9997      NaN  \n",
       "10004     NaN  \n",
       "10047     NaN  \n",
       "10102     NaN  \n",
       "\n",
       "[638 rows x 8 columns]"
      ]
     },
     "execution_count": 147,
     "metadata": {},
     "output_type": "execute_result"
    }
   ],
   "source": [
    "posts_3[posts_3['target'].isnull()]"
   ]
  },
  {
   "cell_type": "code",
   "execution_count": 148,
   "id": "a9313f8e-a62d-4e76-8013-8ffb37cf75b9",
   "metadata": {
    "scrolled": true,
    "tags": []
   },
   "outputs": [
    {
     "data": {
      "text/plain": [
       "[deleted]                                       48\n",
       "Updateme!                                       45\n",
       "[removed]                                       38\n",
       "UpdateMe!                                       11\n",
       "Updateme                                         5\n",
       "                                                ..\n",
       "Beautiful language                               1\n",
       "![gif](giphy|13NUOwOLq0NJug)                     1\n",
       "Someone has seen In Bruges                       1\n",
       "![gif](giphy|DB2oahQFa0qeQ)                      1\n",
       "I had no idea you could adopt a legal adult.     1\n",
       "Name: comment, Length: 484, dtype: int64"
      ]
     },
     "execution_count": 148,
     "metadata": {},
     "output_type": "execute_result"
    }
   ],
   "source": [
    "posts_3[posts_3['target'].isnull()]['comment'].value_counts()"
   ]
  },
  {
   "cell_type": "markdown",
   "id": "c1358260-7a15-4476-a300-6e3647606205",
   "metadata": {},
   "source": [
    "The top few null values are not useful. I will remove these comments."
   ]
  },
  {
   "cell_type": "code",
   "execution_count": 151,
   "id": "0e51a9d1-80ca-4973-9121-f6a0f128f459",
   "metadata": {
    "scrolled": true,
    "tags": []
   },
   "outputs": [],
   "source": [
    "posts_3 = posts_3[~((posts_3['target'].isnull()) & (posts_3['comment'] == '[deleted]'))]"
   ]
  },
  {
   "cell_type": "code",
   "execution_count": 152,
   "id": "d7213343-bdec-44df-82d4-9ef53615d896",
   "metadata": {
    "tags": []
   },
   "outputs": [],
   "source": [
    "posts_3 = posts_3[~((posts_3['target'].isnull()) & (posts_3['comment'] == '[removed]'))]"
   ]
  },
  {
   "cell_type": "code",
   "execution_count": 153,
   "id": "e8500892-4312-40f6-b05f-29432f83306c",
   "metadata": {
    "tags": []
   },
   "outputs": [],
   "source": [
    "posts_3 = posts_3[~((posts_3['target'].isnull()) & (posts_3['comment'] == 'Updateme!'))]"
   ]
  },
  {
   "cell_type": "code",
   "execution_count": 154,
   "id": "dc5ae797-e1f5-4db3-8560-2c50eb145bec",
   "metadata": {
    "tags": []
   },
   "outputs": [],
   "source": [
    "posts_3 = posts_3[~((posts_3['target'].isnull()) & (posts_3['comment'] == 'UpdateMe!'))]"
   ]
  },
  {
   "cell_type": "code",
   "execution_count": 155,
   "id": "7787e83c-95b3-4879-9f71-76cb20a7147b",
   "metadata": {
    "tags": []
   },
   "outputs": [],
   "source": [
    "posts_3 = posts_3[~((posts_3['target'].isnull()) & (posts_3['comment'] == 'Updateme'))]"
   ]
  },
  {
   "cell_type": "code",
   "execution_count": 157,
   "id": "5efd9c65-0347-415a-a849-f1b58dfba198",
   "metadata": {
    "tags": []
   },
   "outputs": [],
   "source": [
    "posts_3 = posts_3[~((posts_3['target'].isnull()) & (posts_3['comment'] == 'Update me!'))]"
   ]
  },
  {
   "cell_type": "code",
   "execution_count": 158,
   "id": "a17f71a8-5b44-4a18-b97c-ff930871f9ab",
   "metadata": {
    "tags": []
   },
   "outputs": [],
   "source": [
    "posts_3 = posts_3[~((posts_3['target'].isnull()) & (posts_3['comment'] == 'Update me'))]"
   ]
  },
  {
   "cell_type": "markdown",
   "id": "3bbcad7e-1861-4d81-8cc4-f67b7ca722ce",
   "metadata": {},
   "source": [
    "I have dropped deleted and removed the top few non useful comments."
   ]
  },
  {
   "cell_type": "code",
   "execution_count": 160,
   "id": "e7aaec0f-519d-4f3e-bfae-f5601e5350c4",
   "metadata": {
    "scrolled": true,
    "tags": []
   },
   "outputs": [
    {
     "data": {
      "text/html": [
       "<div>\n",
       "<style scoped>\n",
       "    .dataframe tbody tr th:only-of-type {\n",
       "        vertical-align: middle;\n",
       "    }\n",
       "\n",
       "    .dataframe tbody tr th {\n",
       "        vertical-align: top;\n",
       "    }\n",
       "\n",
       "    .dataframe thead th {\n",
       "        text-align: right;\n",
       "    }\n",
       "</style>\n",
       "<table border=\"1\" class=\"dataframe\">\n",
       "  <thead>\n",
       "    <tr style=\"text-align: right;\">\n",
       "      <th></th>\n",
       "      <th>title</th>\n",
       "      <th>score</th>\n",
       "      <th>subreddit</th>\n",
       "      <th>id</th>\n",
       "      <th>url</th>\n",
       "      <th>num_comments</th>\n",
       "      <th>comment</th>\n",
       "      <th>target</th>\n",
       "    </tr>\n",
       "  </thead>\n",
       "  <tbody>\n",
       "    <tr>\n",
       "      <th>12</th>\n",
       "      <td>Ivanka Trump being loudly booed by a man in a blue shirt</td>\n",
       "      <td>8000</td>\n",
       "      <td>PublicFreakout</td>\n",
       "      <td>12xwt77</td>\n",
       "      <td>https://v.redd.it/jcugezm0fwva1</td>\n",
       "      <td>490</td>\n",
       "      <td>\"Woo go Trump!\" 🤮</td>\n",
       "      <td>NaN</td>\n",
       "    </tr>\n",
       "    <tr>\n",
       "      <th>15</th>\n",
       "      <td>Ivanka Trump being loudly booed by a man in a blue shirt</td>\n",
       "      <td>8000</td>\n",
       "      <td>PublicFreakout</td>\n",
       "      <td>12xwt77</td>\n",
       "      <td>https://v.redd.it/jcugezm0fwva1</td>\n",
       "      <td>490</td>\n",
       "      <td>Impressive lungs</td>\n",
       "      <td>NaN</td>\n",
       "    </tr>\n",
       "    <tr>\n",
       "      <th>29</th>\n",
       "      <td>Ivanka Trump being loudly booed by a man in a blue shirt</td>\n",
       "      <td>8000</td>\n",
       "      <td>PublicFreakout</td>\n",
       "      <td>12xwt77</td>\n",
       "      <td>https://v.redd.it/jcugezm0fwva1</td>\n",
       "      <td>490</td>\n",
       "      <td>Hahahahahahahahahahahaha</td>\n",
       "      <td>NaN</td>\n",
       "    </tr>\n",
       "    <tr>\n",
       "      <th>30</th>\n",
       "      <td>Ivanka Trump being loudly booed by a man in a blue shirt</td>\n",
       "      <td>8000</td>\n",
       "      <td>PublicFreakout</td>\n",
       "      <td>12xwt77</td>\n",
       "      <td>https://v.redd.it/jcugezm0fwva1</td>\n",
       "      <td>490</td>\n",
       "      <td>Booooo booo lol</td>\n",
       "      <td>NaN</td>\n",
       "    </tr>\n",
       "    <tr>\n",
       "      <th>31</th>\n",
       "      <td>Ivanka Trump being loudly booed by a man in a blue shirt</td>\n",
       "      <td>8000</td>\n",
       "      <td>PublicFreakout</td>\n",
       "      <td>12xwt77</td>\n",
       "      <td>https://v.redd.it/jcugezm0fwva1</td>\n",
       "      <td>490</td>\n",
       "      <td>![gif](giphy|4gZKpjp9zlsqs)</td>\n",
       "      <td>NaN</td>\n",
       "    </tr>\n",
       "    <tr>\n",
       "      <th>...</th>\n",
       "      <td>...</td>\n",
       "      <td>...</td>\n",
       "      <td>...</td>\n",
       "      <td>...</td>\n",
       "      <td>...</td>\n",
       "      <td>...</td>\n",
       "      <td>...</td>\n",
       "      <td>...</td>\n",
       "    </tr>\n",
       "    <tr>\n",
       "      <th>9917</th>\n",
       "      <td>Parents force me and my brother to eat expired food</td>\n",
       "      <td>955</td>\n",
       "      <td>entitledparents</td>\n",
       "      <td>12lvyrj</td>\n",
       "      <td>https://www.reddit.com/r/entitledparents/comments/12lvyrj/parents_force_me_and_my_brother_to_eat_expired/</td>\n",
       "      <td>170</td>\n",
       "      <td>How many days past expiration date?</td>\n",
       "      <td>NaN</td>\n",
       "    </tr>\n",
       "    <tr>\n",
       "      <th>9924</th>\n",
       "      <td>Parents force me and my brother to eat expired food</td>\n",
       "      <td>955</td>\n",
       "      <td>entitledparents</td>\n",
       "      <td>12lvyrj</td>\n",
       "      <td>https://www.reddit.com/r/entitledparents/comments/12lvyrj/parents_force_me_and_my_brother_to_eat_expired/</td>\n",
       "      <td>170</td>\n",
       "      <td>“No.” Is a complete sentence.</td>\n",
       "      <td>NaN</td>\n",
       "    </tr>\n",
       "    <tr>\n",
       "      <th>10004</th>\n",
       "      <td>Karen called the cops on my service dog and accused me of being too young to be disabled again</td>\n",
       "      <td>3020</td>\n",
       "      <td>entitledparents</td>\n",
       "      <td>12kqo29</td>\n",
       "      <td>https://www.reddit.com/r/entitledparents/comments/12kqo29/karen_called_the_cops_on_my_service_dog_and/</td>\n",
       "      <td>157</td>\n",
       "      <td>… again?!</td>\n",
       "      <td>NaN</td>\n",
       "    </tr>\n",
       "    <tr>\n",
       "      <th>10047</th>\n",
       "      <td>Mom wants stepdad to adopt me so she can inherit me</td>\n",
       "      <td>3055</td>\n",
       "      <td>entitledparents</td>\n",
       "      <td>12km7ji</td>\n",
       "      <td>https://www.reddit.com/r/entitledparents/comments/12km7ji/mom_wants_stepdad_to_adopt_me_so_she_can_inherit/</td>\n",
       "      <td>392</td>\n",
       "      <td>nu vet jag inte vart i skandinavien du är, men är du i sverige så kan du göra alla utom dina barn arvslösa, även dina föräldrar</td>\n",
       "      <td>NaN</td>\n",
       "    </tr>\n",
       "    <tr>\n",
       "      <th>10102</th>\n",
       "      <td>Mom wants stepdad to adopt me so she can inherit me</td>\n",
       "      <td>3055</td>\n",
       "      <td>entitledparents</td>\n",
       "      <td>12km7ji</td>\n",
       "      <td>https://www.reddit.com/r/entitledparents/comments/12km7ji/mom_wants_stepdad_to_adopt_me_so_she_can_inherit/</td>\n",
       "      <td>392</td>\n",
       "      <td>I had no idea you could adopt a legal adult.</td>\n",
       "      <td>NaN</td>\n",
       "    </tr>\n",
       "  </tbody>\n",
       "</table>\n",
       "<p>484 rows × 8 columns</p>\n",
       "</div>"
      ],
      "text/plain": [
       "                                                                                                title  \\\n",
       "12                                           Ivanka Trump being loudly booed by a man in a blue shirt   \n",
       "15                                           Ivanka Trump being loudly booed by a man in a blue shirt   \n",
       "29                                           Ivanka Trump being loudly booed by a man in a blue shirt   \n",
       "30                                           Ivanka Trump being loudly booed by a man in a blue shirt   \n",
       "31                                           Ivanka Trump being loudly booed by a man in a blue shirt   \n",
       "...                                                                                               ...   \n",
       "9917                                              Parents force me and my brother to eat expired food   \n",
       "9924                                              Parents force me and my brother to eat expired food   \n",
       "10004  Karen called the cops on my service dog and accused me of being too young to be disabled again   \n",
       "10047                                             Mom wants stepdad to adopt me so she can inherit me   \n",
       "10102                                             Mom wants stepdad to adopt me so she can inherit me   \n",
       "\n",
       "       score        subreddit       id  \\\n",
       "12      8000   PublicFreakout  12xwt77   \n",
       "15      8000   PublicFreakout  12xwt77   \n",
       "29      8000   PublicFreakout  12xwt77   \n",
       "30      8000   PublicFreakout  12xwt77   \n",
       "31      8000   PublicFreakout  12xwt77   \n",
       "...      ...              ...      ...   \n",
       "9917     955  entitledparents  12lvyrj   \n",
       "9924     955  entitledparents  12lvyrj   \n",
       "10004   3020  entitledparents  12kqo29   \n",
       "10047   3055  entitledparents  12km7ji   \n",
       "10102   3055  entitledparents  12km7ji   \n",
       "\n",
       "                                                                                                               url  \\\n",
       "12                                                                                 https://v.redd.it/jcugezm0fwva1   \n",
       "15                                                                                 https://v.redd.it/jcugezm0fwva1   \n",
       "29                                                                                 https://v.redd.it/jcugezm0fwva1   \n",
       "30                                                                                 https://v.redd.it/jcugezm0fwva1   \n",
       "31                                                                                 https://v.redd.it/jcugezm0fwva1   \n",
       "...                                                                                                            ...   \n",
       "9917     https://www.reddit.com/r/entitledparents/comments/12lvyrj/parents_force_me_and_my_brother_to_eat_expired/   \n",
       "9924     https://www.reddit.com/r/entitledparents/comments/12lvyrj/parents_force_me_and_my_brother_to_eat_expired/   \n",
       "10004       https://www.reddit.com/r/entitledparents/comments/12kqo29/karen_called_the_cops_on_my_service_dog_and/   \n",
       "10047  https://www.reddit.com/r/entitledparents/comments/12km7ji/mom_wants_stepdad_to_adopt_me_so_she_can_inherit/   \n",
       "10102  https://www.reddit.com/r/entitledparents/comments/12km7ji/mom_wants_stepdad_to_adopt_me_so_she_can_inherit/   \n",
       "\n",
       "       num_comments  \\\n",
       "12              490   \n",
       "15              490   \n",
       "29              490   \n",
       "30              490   \n",
       "31              490   \n",
       "...             ...   \n",
       "9917            170   \n",
       "9924            170   \n",
       "10004           157   \n",
       "10047           392   \n",
       "10102           392   \n",
       "\n",
       "                                                                                                                               comment  \\\n",
       "12                                                                                                                   \"Woo go Trump!\" 🤮   \n",
       "15                                                                                                                    Impressive lungs   \n",
       "29                                                                                                            Hahahahahahahahahahahaha   \n",
       "30                                                                                                                     Booooo booo lol   \n",
       "31                                                                                                         ![gif](giphy|4gZKpjp9zlsqs)   \n",
       "...                                                                                                                                ...   \n",
       "9917                                                                                               How many days past expiration date?   \n",
       "9924                                                                                                     “No.” Is a complete sentence.   \n",
       "10004                                                                                                                        … again?!   \n",
       "10047  nu vet jag inte vart i skandinavien du är, men är du i sverige så kan du göra alla utom dina barn arvslösa, även dina föräldrar   \n",
       "10102                                                                                     I had no idea you could adopt a legal adult.   \n",
       "\n",
       "       target  \n",
       "12        NaN  \n",
       "15        NaN  \n",
       "29        NaN  \n",
       "30        NaN  \n",
       "31        NaN  \n",
       "...       ...  \n",
       "9917      NaN  \n",
       "9924      NaN  \n",
       "10004     NaN  \n",
       "10047     NaN  \n",
       "10102     NaN  \n",
       "\n",
       "[484 rows x 8 columns]"
      ]
     },
     "execution_count": 160,
     "metadata": {},
     "output_type": "execute_result"
    }
   ],
   "source": [
    "posts_3[posts_3['target'].isnull()]"
   ]
  },
  {
   "cell_type": "markdown",
   "id": "929e2b70-2f15-4f64-b183-3088798fdce7",
   "metadata": {},
   "source": [
    "Remaining null rows for this dataset, this time I will simply drop these rows, as I already have quite a lot of rows of data and going through a few of these comments, they are all not likely to give me the y label of 1 that I hope to get."
   ]
  },
  {
   "cell_type": "code",
   "execution_count": 163,
   "id": "0739eff3-f3df-4380-8a99-75a8c70d4538",
   "metadata": {
    "scrolled": true,
    "tags": []
   },
   "outputs": [],
   "source": [
    "posts_3 = posts_3.dropna()"
   ]
  },
  {
   "cell_type": "code",
   "execution_count": 168,
   "id": "0bac7111-439b-4f52-b6ee-390a1d9f3adb",
   "metadata": {
    "tags": []
   },
   "outputs": [],
   "source": [
    "final_posts = pd.concat([final_posts,posts_3])"
   ]
  },
  {
   "cell_type": "markdown",
   "id": "1419798b-47e5-41af-b060-7d7b9038c338",
   "metadata": {},
   "source": [
    "Updating the final_posts variable to include this newly scraped dataset."
   ]
  },
  {
   "cell_type": "code",
   "execution_count": 169,
   "id": "db0d8fb4-de97-4f49-9f36-056c8af30f85",
   "metadata": {
    "tags": []
   },
   "outputs": [
    {
     "data": {
      "text/plain": [
       "title           0\n",
       "score           0\n",
       "subreddit       0\n",
       "id              0\n",
       "url             0\n",
       "num_comments    0\n",
       "comment         0\n",
       "target          0\n",
       "dtype: int64"
      ]
     },
     "execution_count": 169,
     "metadata": {},
     "output_type": "execute_result"
    }
   ],
   "source": [
    "final_posts.isnull().sum()"
   ]
  },
  {
   "cell_type": "code",
   "execution_count": 170,
   "id": "043682e1-f03f-4408-bf64-d75d4c640827",
   "metadata": {
    "tags": []
   },
   "outputs": [
    {
     "data": {
      "text/plain": [
       "array([0., 1.])"
      ]
     },
     "execution_count": 170,
     "metadata": {},
     "output_type": "execute_result"
    }
   ],
   "source": [
    "final_posts['target'].unique()"
   ]
  },
  {
   "cell_type": "code",
   "execution_count": 171,
   "id": "a1ccb788-9531-4bc8-a5e6-9a3dd40a56b0",
   "metadata": {
    "tags": []
   },
   "outputs": [],
   "source": [
    "final_posts['target'] = final_posts['target'].astype(int)"
   ]
  },
  {
   "cell_type": "markdown",
   "id": "c0d19c3c-15f8-41bb-9cd5-fb6d3f7209b0",
   "metadata": {},
   "source": [
    "Now let's check to see whether my labels are balanced or imbalanced. If they are imbalanced, I may need to scrape for more data from reddits which are more likely to have offensive statements."
   ]
  },
  {
   "cell_type": "code",
   "execution_count": 172,
   "id": "cbb19e4c-84f8-46f2-98e9-3b2756313ee0",
   "metadata": {
    "tags": []
   },
   "outputs": [
    {
     "data": {
      "text/plain": [
       "0    0.847806\n",
       "1    0.152194\n",
       "Name: target, dtype: float64"
      ]
     },
     "execution_count": 172,
     "metadata": {},
     "output_type": "execute_result"
    }
   ],
   "source": [
    "final_posts['target'].value_counts(normalize=True)"
   ]
  },
  {
   "cell_type": "markdown",
   "id": "6adbaacf-03af-4910-a822-5569b304c629",
   "metadata": {},
   "source": [
    "Now my y labels are slightly more balanced from 9% to 15%."
   ]
  },
  {
   "cell_type": "code",
   "execution_count": 173,
   "id": "4558eac7-160e-4c48-8a3f-b16ebc83c06e",
   "metadata": {
    "tags": []
   },
   "outputs": [
    {
     "name": "stdout",
     "output_type": "stream",
     "text": [
      "<class 'pandas.core.frame.DataFrame'>\n",
      "Int64Index: 20073 entries, 0 to 10117\n",
      "Data columns (total 8 columns):\n",
      " #   Column        Non-Null Count  Dtype \n",
      "---  ------        --------------  ----- \n",
      " 0   title         20073 non-null  object\n",
      " 1   score         20073 non-null  int64 \n",
      " 2   subreddit     20073 non-null  object\n",
      " 3   id            20073 non-null  object\n",
      " 4   url           20073 non-null  object\n",
      " 5   num_comments  20073 non-null  int64 \n",
      " 6   comment       20073 non-null  object\n",
      " 7   target        20073 non-null  int64 \n",
      "dtypes: int64(3), object(5)\n",
      "memory usage: 1.4+ MB\n"
     ]
    }
   ],
   "source": [
    "final_posts.info()"
   ]
  },
  {
   "cell_type": "markdown",
   "id": "d3cc14b8-8246-4d3b-84a7-a442982061c8",
   "metadata": {},
   "source": [
    "No more null values for the target column and no null values in any of the columns."
   ]
  },
  {
   "cell_type": "markdown",
   "id": "1a17e7b7-c152-48a5-9ab3-d303e65f32d4",
   "metadata": {},
   "source": [
    "## Checking for Duplicated Data"
   ]
  },
  {
   "cell_type": "code",
   "execution_count": 174,
   "id": "07abc2ce-cfda-4571-93ab-135982fa1835",
   "metadata": {
    "tags": []
   },
   "outputs": [
    {
     "data": {
      "text/plain": [
       "True"
      ]
     },
     "execution_count": 174,
     "metadata": {},
     "output_type": "execute_result"
    }
   ],
   "source": [
    "len(final_posts.columns) == len(set(final_posts.columns)) # If it is true it means there are no columns with duplicated names, if it is False, there are columns with the same names"
   ]
  },
  {
   "cell_type": "markdown",
   "id": "fe06af0c-fbf9-4e83-aebd-ac95e4728a72",
   "metadata": {},
   "source": [
    "No duplicated columns"
   ]
  },
  {
   "cell_type": "code",
   "execution_count": 175,
   "id": "ed6564fc-0f62-44fb-acf0-85912636de2c",
   "metadata": {
    "tags": []
   },
   "outputs": [
    {
     "data": {
      "text/plain": [
       "11"
      ]
     },
     "execution_count": 175,
     "metadata": {},
     "output_type": "execute_result"
    }
   ],
   "source": [
    "len(final_posts[final_posts.duplicated()])"
   ]
  },
  {
   "cell_type": "markdown",
   "id": "99c2b11a-1cdf-4c10-aa20-8a94b70376ae",
   "metadata": {},
   "source": [
    "There are duplicated rows. I will remove these rows."
   ]
  },
  {
   "cell_type": "code",
   "execution_count": 176,
   "id": "f19f3725-e023-4f0a-b36c-5fe49a1bd318",
   "metadata": {
    "tags": []
   },
   "outputs": [],
   "source": [
    "final_posts = final_posts[~(final_posts.duplicated())]"
   ]
  },
  {
   "cell_type": "markdown",
   "id": "b37ac210-9a8c-488f-8c30-f3a2165c3d67",
   "metadata": {},
   "source": [
    "No duplicated rows or columns left in dataset. The dataset is fully cleaned and ready for eda and preprocessing now."
   ]
  },
  {
   "cell_type": "code",
   "execution_count": 178,
   "id": "0f1129c9-b49b-475d-a51c-e3b680e4bb0f",
   "metadata": {
    "tags": []
   },
   "outputs": [],
   "source": [
    "#final_posts.to_csv('../data/outputs/Final_DataFrame_with_ylabels.csv') #exporting final dataframe into csv"
   ]
  },
  {
   "cell_type": "markdown",
   "id": "138d0465-0cb3-427e-8a59-796f0c68c204",
   "metadata": {},
   "source": [
    "This is the end of this notebook. The next notebook will go through EDA, preprocessing, and modelling."
   ]
  }
 ],
 "metadata": {
  "kernelspec": {
   "display_name": "Python 3 (ipykernel)",
   "language": "python",
   "name": "python3"
  },
  "language_info": {
   "codemirror_mode": {
    "name": "ipython",
    "version": 3
   },
   "file_extension": ".py",
   "mimetype": "text/x-python",
   "name": "python",
   "nbconvert_exporter": "python",
   "pygments_lexer": "ipython3",
   "version": "3.8.16"
  }
 },
 "nbformat": 4,
 "nbformat_minor": 5
}
