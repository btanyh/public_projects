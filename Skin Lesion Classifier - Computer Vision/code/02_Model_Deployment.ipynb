{
 "cells": [
  {
   "cell_type": "markdown",
   "id": "23d48456-5690-4696-a381-5280fe673361",
   "metadata": {},
   "source": [
    "# Model Deployment"
   ]
  },
  {
   "cell_type": "markdown",
   "id": "788f50f1-f92b-4199-8f5e-d1099b4dd8cd",
   "metadata": {},
   "source": [
    "Below is the block of code I used to write my skin_lesion_classifier.py file for streamlit model deployment."
   ]
  },
  {
   "cell_type": "code",
   "execution_count": 12,
   "id": "a781bc36-0949-4b24-a6e1-475ca42715f0",
   "metadata": {
    "tags": []
   },
   "outputs": [
    {
     "name": "stdout",
     "output_type": "stream",
     "text": [
      "Overwriting skin_lesion_classifier.py\n"
     ]
    }
   ],
   "source": [
    "%%writefile skin_lesion_classifier.py\n",
    "# importing necessary modules\n",
    "import streamlit as st\n",
    "import tensorflow as tf\n",
    "import numpy as np\n",
    "from tensorflow.keras.models import load_model # to load model from saved file earlier\n",
    "from tensorflow.keras.preprocessing import image # to do image processing in the required format for predictions\n",
    "st.set_page_config(layout=\"wide\",page_title = 'Skin Lesion Classification App')# setting streamlit to use the full page, and to set the title of the page\n",
    "#to remove watermark and menu bar\n",
    "hide_default_format = \"\"\"\n",
    "       <style>\n",
    "       #MainMenu {visibility: hidden; }\n",
    "       footer {visibility: hidden;}\n",
    "       </style>\n",
    "       \"\"\"\n",
    "st.markdown(hide_default_format, unsafe_allow_html=True)\n",
    "\n",
    "@st.cache_resource # to cache models so it doesn't reload everytime.\n",
    "def load_model():\n",
    "  model=tf.keras.models.load_model('./benign_malignant_final_model.h5')# loading in the trained model\n",
    "  return model\n",
    "with st.spinner('Model is being loaded..'):# to tell users model is loading\n",
    "  model=load_model()\n",
    "\n",
    "st.title('Skin Lesion Classifier')# title of the app shown to users\n",
    "\n",
    "\n",
    "file = st.file_uploader(\"Please upload an image of a skin lesion in either jpg or png extension.\", type=[\"jpg\", \"png\"])# user instructions\n",
    "\n",
    "if file is None:\n",
    "    st.write(f'<p style=\"font-size:26px;color:black;\">Please upload an image file to be classified as benign or malignant.</p>', unsafe_allow_html=True) # user instructions\n",
    "### if uploaded file is an image, run the following lines of code\n",
    "else:\n",
    "    test_image = image.load_img(file,target_size=(224,224))#resize image\n",
    "    st.image(test_image)#display image\n",
    "    # step 4: Convert the image to a matrix of numbers to feed into model\n",
    "    test_image = image.img_to_array(test_image) # 1st: convert loaded image to array\n",
    "    test_image = np.expand_dims(test_image, axis=0) # 2nd: https://www.tensorflow.org/api_docs/python/tf/expand_dims (to add additional 4th dummy dimension for batch on top of height, width, channel for a color image, to meet Tensorflow's expected no. of dimensions for input image\n",
    "    result = model.predict(test_image)# predict the probability of the image\n",
    "    for pred in result:\n",
    "        if pred[0] > 0.5:\n",
    "            text = 'Your skin lesion has been classified as malignant melanoma. Please visit a doctor IMMEDIATELY!'\n",
    "            st.write(f'<p style=\"font-size:26px;color:red;\">{text}</p>', unsafe_allow_html=True)\n",
    "        else:\n",
    "            text = 'Your skin lesion has been classified as benign. Nothing to worry about.'\n",
    "            st.write(f'<p style=\"font-size:26px;color:green;\">{text}</p>', unsafe_allow_html=True)\n",
    "    "
   ]
  }
 ],
 "metadata": {
  "kernelspec": {
   "display_name": "Python 3.10 (tensorflow)",
   "language": "python",
   "name": "tensorflow"
  },
  "language_info": {
   "codemirror_mode": {
    "name": "ipython",
    "version": 3
   },
   "file_extension": ".py",
   "mimetype": "text/x-python",
   "name": "python",
   "nbconvert_exporter": "python",
   "pygments_lexer": "ipython3",
   "version": "3.10.9"
  }
 },
 "nbformat": 4,
 "nbformat_minor": 5
}
