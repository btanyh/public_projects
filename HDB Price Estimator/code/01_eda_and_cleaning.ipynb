{
 "cells": [
  {
   "cell_type": "markdown",
   "id": "badf9cd3-fda1-4eec-a2ed-f1f6f9343115",
   "metadata": {},
   "source": [
    "# EDA and Cleaning"
   ]
  },
  {
   "cell_type": "markdown",
   "id": "f91c60fa-01bb-4782-86cf-cd81d37f0cc4",
   "metadata": {},
   "source": [
    "This notebook will cover Data Importing, Data Cleaning, and the EDA portion of this project."
   ]
  },
  {
   "cell_type": "code",
   "execution_count": 2,
   "id": "4863166b-4614-425e-a120-ef452cd55c57",
   "metadata": {
    "tags": []
   },
   "outputs": [],
   "source": [
    "import numpy as np\n",
    "import pandas as pd\n",
    "import matplotlib.pyplot as plt\n",
    "import seaborn as sns\n",
    "\n",
    "import os  "
   ]
  },
  {
   "cell_type": "code",
   "execution_count": 3,
   "id": "0e7f155a-8c46-4d68-a92b-e3f88e11d2cd",
   "metadata": {
    "tags": []
   },
   "outputs": [
    {
     "name": "stderr",
     "output_type": "stream",
     "text": [
      "/var/folders/46/7m_77fzd11d4p2vjr6j6rtk40000gn/T/ipykernel_63739/3718364399.py:1: DtypeWarning: Columns (41) have mixed types. Specify dtype option on import or set low_memory=False.\n",
      "  df = pd.read_csv('../data/inputs/train.csv')\n"
     ]
    }
   ],
   "source": [
    "df = pd.read_csv('../data/inputs/train.csv')"
   ]
  },
  {
   "cell_type": "markdown",
   "id": "0a5f63f0-a3c4-403d-bf6f-a6f750f40278",
   "metadata": {},
   "source": [
    "## Checking for Duplicated Columns / Rows"
   ]
  },
  {
   "cell_type": "code",
   "execution_count": 4,
   "id": "49dd7c3c-b702-4bbc-bbcd-20d9248c1eb0",
   "metadata": {
    "tags": []
   },
   "outputs": [
    {
     "data": {
      "text/plain": [
       "True"
      ]
     },
     "execution_count": 4,
     "metadata": {},
     "output_type": "execute_result"
    }
   ],
   "source": [
    "len(df.columns) == len(set(df.columns)) # If it is true it means there are no columns with duplicated names, if it is False, there are columns with the same names"
   ]
  },
  {
   "cell_type": "code",
   "execution_count": null,
   "id": "36926f68-814f-470d-816e-ebdf31207600",
   "metadata": {
    "tags": []
   },
   "outputs": [
    {
     "data": {
      "text/html": [
       "<div>\n",
       "<style scoped>\n",
       "    .dataframe tbody tr th:only-of-type {\n",
       "        vertical-align: middle;\n",
       "    }\n",
       "\n",
       "    .dataframe tbody tr th {\n",
       "        vertical-align: top;\n",
       "    }\n",
       "\n",
       "    .dataframe thead th {\n",
       "        text-align: right;\n",
       "    }\n",
       "</style>\n",
       "<table border=\"1\" class=\"dataframe\">\n",
       "  <thead>\n",
       "    <tr style=\"text-align: right;\">\n",
       "      <th></th>\n",
       "      <th>id</th>\n",
       "      <th>Tranc_YearMonth</th>\n",
       "      <th>town</th>\n",
       "      <th>flat_type</th>\n",
       "      <th>block</th>\n",
       "      <th>street_name</th>\n",
       "      <th>storey_range</th>\n",
       "      <th>floor_area_sqm</th>\n",
       "      <th>flat_model</th>\n",
       "      <th>lease_commence_date</th>\n",
       "      <th>...</th>\n",
       "      <th>vacancy</th>\n",
       "      <th>pri_sch_affiliation</th>\n",
       "      <th>pri_sch_latitude</th>\n",
       "      <th>pri_sch_longitude</th>\n",
       "      <th>sec_sch_nearest_dist</th>\n",
       "      <th>sec_sch_name</th>\n",
       "      <th>cutoff_point</th>\n",
       "      <th>affiliation</th>\n",
       "      <th>sec_sch_latitude</th>\n",
       "      <th>sec_sch_longitude</th>\n",
       "    </tr>\n",
       "  </thead>\n",
       "  <tbody>\n",
       "  </tbody>\n",
       "</table>\n",
       "<p>0 rows × 77 columns</p>\n",
       "</div>"
      ],
      "text/plain": [
       "Empty DataFrame\n",
       "Columns: [id, Tranc_YearMonth, town, flat_type, block, street_name, storey_range, floor_area_sqm, flat_model, lease_commence_date, resale_price, Tranc_Year, Tranc_Month, mid_storey, lower, upper, mid, full_flat_type, address, floor_area_sqft, hdb_age, max_floor_lvl, year_completed, residential, commercial, market_hawker, multistorey_carpark, precinct_pavilion, total_dwelling_units, 1room_sold, 2room_sold, 3room_sold, 4room_sold, 5room_sold, exec_sold, multigen_sold, studio_apartment_sold, 1room_rental, 2room_rental, 3room_rental, other_room_rental, postal, Latitude, Longitude, planning_area, Mall_Nearest_Distance, Mall_Within_500m, Mall_Within_1km, Mall_Within_2km, Hawker_Nearest_Distance, Hawker_Within_500m, Hawker_Within_1km, Hawker_Within_2km, hawker_food_stalls, hawker_market_stalls, mrt_nearest_distance, mrt_name, bus_interchange, mrt_interchange, mrt_latitude, mrt_longitude, bus_stop_nearest_distance, bus_stop_name, bus_stop_latitude, bus_stop_longitude, pri_sch_nearest_distance, pri_sch_name, vacancy, pri_sch_affiliation, pri_sch_latitude, pri_sch_longitude, sec_sch_nearest_dist, sec_sch_name, cutoff_point, affiliation, sec_sch_latitude, sec_sch_longitude]\n",
       "Index: []\n",
       "\n",
       "[0 rows x 77 columns]"
      ]
     },
     "execution_count": 3,
     "metadata": {},
     "output_type": "execute_result"
    }
   ],
   "source": [
    "df[df.duplicated()]"
   ]
  },
  {
   "cell_type": "markdown",
   "id": "6f90dd07-32e6-4b79-9321-0327e34f5124",
   "metadata": {},
   "source": [
    "There are no duplicated rows. The duplicated function checks if the values of all the columns of a certain row matches another row exactly.\n",
    "\n",
    "In this case, there are no duplicated rows."
   ]
  },
  {
   "cell_type": "markdown",
   "id": "686e463b-242c-4952-b689-db4d3add0155",
   "metadata": {},
   "source": [
    "## Checking Missing Values"
   ]
  },
  {
   "cell_type": "code",
   "execution_count": null,
   "id": "d56d68e4-7bed-49c6-8fd2-a1fe70ddf974",
   "metadata": {
    "scrolled": true,
    "tags": []
   },
   "outputs": [
    {
     "name": "stdout",
     "output_type": "stream",
     "text": [
      "<class 'pandas.core.frame.DataFrame'>\n",
      "RangeIndex: 150634 entries, 0 to 150633\n",
      "Data columns (total 77 columns):\n",
      " #   Column                     Non-Null Count   Dtype  \n",
      "---  ------                     --------------   -----  \n",
      " 0   id                         150634 non-null  int64  \n",
      " 1   Tranc_YearMonth            150634 non-null  object \n",
      " 2   town                       150634 non-null  object \n",
      " 3   flat_type                  150634 non-null  object \n",
      " 4   block                      150634 non-null  object \n",
      " 5   street_name                150634 non-null  object \n",
      " 6   storey_range               150634 non-null  object \n",
      " 7   floor_area_sqm             150634 non-null  float64\n",
      " 8   flat_model                 150634 non-null  object \n",
      " 9   lease_commence_date        150634 non-null  int64  \n",
      " 10  resale_price               150634 non-null  float64\n",
      " 11  Tranc_Year                 150634 non-null  int64  \n",
      " 12  Tranc_Month                150634 non-null  int64  \n",
      " 13  mid_storey                 150634 non-null  int64  \n",
      " 14  lower                      150634 non-null  int64  \n",
      " 15  upper                      150634 non-null  int64  \n",
      " 16  mid                        150634 non-null  int64  \n",
      " 17  full_flat_type             150634 non-null  object \n",
      " 18  address                    150634 non-null  object \n",
      " 19  floor_area_sqft            150634 non-null  float64\n",
      " 20  hdb_age                    150634 non-null  int64  \n",
      " 21  max_floor_lvl              150634 non-null  int64  \n",
      " 22  year_completed             150634 non-null  int64  \n",
      " 23  residential                150634 non-null  object \n",
      " 24  commercial                 150634 non-null  object \n",
      " 25  market_hawker              150634 non-null  object \n",
      " 26  multistorey_carpark        150634 non-null  object \n",
      " 27  precinct_pavilion          150634 non-null  object \n",
      " 28  total_dwelling_units       150634 non-null  int64  \n",
      " 29  1room_sold                 150634 non-null  int64  \n",
      " 30  2room_sold                 150634 non-null  int64  \n",
      " 31  3room_sold                 150634 non-null  int64  \n",
      " 32  4room_sold                 150634 non-null  int64  \n",
      " 33  5room_sold                 150634 non-null  int64  \n",
      " 34  exec_sold                  150634 non-null  int64  \n",
      " 35  multigen_sold              150634 non-null  int64  \n",
      " 36  studio_apartment_sold      150634 non-null  int64  \n",
      " 37  1room_rental               150634 non-null  int64  \n",
      " 38  2room_rental               150634 non-null  int64  \n",
      " 39  3room_rental               150634 non-null  int64  \n",
      " 40  other_room_rental          150634 non-null  int64  \n",
      " 41  postal                     150634 non-null  object \n",
      " 42  Latitude                   150634 non-null  float64\n",
      " 43  Longitude                  150634 non-null  float64\n",
      " 44  planning_area              150634 non-null  object \n",
      " 45  Mall_Nearest_Distance      149805 non-null  float64\n",
      " 46  Mall_Within_500m           57845 non-null   float64\n",
      " 47  Mall_Within_1km            125208 non-null  float64\n",
      " 48  Mall_Within_2km            148694 non-null  float64\n",
      " 49  Hawker_Nearest_Distance    150634 non-null  float64\n",
      " 50  Hawker_Within_500m         53244 non-null   float64\n",
      " 51  Hawker_Within_1km          89766 non-null   float64\n",
      " 52  Hawker_Within_2km          121432 non-null  float64\n",
      " 53  hawker_food_stalls         150634 non-null  int64  \n",
      " 54  hawker_market_stalls       150634 non-null  int64  \n",
      " 55  mrt_nearest_distance       150634 non-null  float64\n",
      " 56  mrt_name                   150634 non-null  object \n",
      " 57  bus_interchange            150634 non-null  int64  \n",
      " 58  mrt_interchange            150634 non-null  int64  \n",
      " 59  mrt_latitude               150634 non-null  float64\n",
      " 60  mrt_longitude              150634 non-null  float64\n",
      " 61  bus_stop_nearest_distance  150634 non-null  float64\n",
      " 62  bus_stop_name              150634 non-null  object \n",
      " 63  bus_stop_latitude          150634 non-null  float64\n",
      " 64  bus_stop_longitude         150634 non-null  float64\n",
      " 65  pri_sch_nearest_distance   150634 non-null  float64\n",
      " 66  pri_sch_name               150634 non-null  object \n",
      " 67  vacancy                    150634 non-null  int64  \n",
      " 68  pri_sch_affiliation        150634 non-null  int64  \n",
      " 69  pri_sch_latitude           150634 non-null  float64\n",
      " 70  pri_sch_longitude          150634 non-null  float64\n",
      " 71  sec_sch_nearest_dist       150634 non-null  float64\n",
      " 72  sec_sch_name               150634 non-null  object \n",
      " 73  cutoff_point               150634 non-null  int64  \n",
      " 74  affiliation                150634 non-null  int64  \n",
      " 75  sec_sch_latitude           150634 non-null  float64\n",
      " 76  sec_sch_longitude          150634 non-null  float64\n",
      "dtypes: float64(25), int64(32), object(20)\n",
      "memory usage: 88.5+ MB\n"
     ]
    }
   ],
   "source": [
    "df.info()"
   ]
  },
  {
   "cell_type": "markdown",
   "id": "543baf7a-09f0-4cbb-bd0d-90ae4f091c52",
   "metadata": {},
   "source": [
    "Let's first check to see if there are any missing values in the dataset."
   ]
  },
  {
   "cell_type": "code",
   "execution_count": null,
   "id": "765c36f3-1d0e-40f9-a666-6c158349015e",
   "metadata": {
    "tags": []
   },
   "outputs": [
    {
     "data": {
      "text/plain": [
       "Hawker_Within_500m    97390\n",
       "Mall_Within_500m      92789\n",
       "Hawker_Within_1km     60868\n",
       "Hawker_Within_2km     29202\n",
       "Mall_Within_1km       25426\n",
       "                      ...  \n",
       "market_hawker             0\n",
       "commercial                0\n",
       "residential               0\n",
       "year_completed            0\n",
       "sec_sch_longitude         0\n",
       "Length: 77, dtype: int64"
      ]
     },
     "execution_count": 5,
     "metadata": {},
     "output_type": "execute_result"
    }
   ],
   "source": [
    "df.isnull().sum().sort_values(ascending=False)"
   ]
  },
  {
   "cell_type": "markdown",
   "id": "787bab64-9b6b-4595-a1d4-75ae83aa45cf",
   "metadata": {},
   "source": [
    "There are missing values, let's filter them out and have the missing values as a percentage against the total number of rows."
   ]
  },
  {
   "cell_type": "code",
   "execution_count": null,
   "id": "754c4f11-5eaa-4ff8-a96f-bb6e38f4b85f",
   "metadata": {
    "tags": []
   },
   "outputs": [],
   "source": [
    "def percent_missing(df):\n",
    "    # getting %nulls for cols with missing values\n",
    "    missing_df = pd.DataFrame(df.isna().sum()).reset_index()\n",
    "    missing_df.columns = ['col', 'num_nulls'] # updating all col names in missing_df\n",
    "    missing_df['%nulls'] = missing_df['num_nulls']*100/len(df)#creating a new col for %nulls (num_nulls/df_len)\n",
    "    return missing_df[missing_df['num_nulls']>0] # filter to only cols with any nulls"
   ]
  },
  {
   "cell_type": "code",
   "execution_count": null,
   "id": "78125cc9-3a05-4878-89dc-c37f17b788e8",
   "metadata": {
    "tags": []
   },
   "outputs": [
    {
     "data": {
      "text/html": [
       "<div>\n",
       "<style scoped>\n",
       "    .dataframe tbody tr th:only-of-type {\n",
       "        vertical-align: middle;\n",
       "    }\n",
       "\n",
       "    .dataframe tbody tr th {\n",
       "        vertical-align: top;\n",
       "    }\n",
       "\n",
       "    .dataframe thead th {\n",
       "        text-align: right;\n",
       "    }\n",
       "</style>\n",
       "<table border=\"1\" class=\"dataframe\">\n",
       "  <thead>\n",
       "    <tr style=\"text-align: right;\">\n",
       "      <th></th>\n",
       "      <th>col</th>\n",
       "      <th>num_nulls</th>\n",
       "      <th>%nulls</th>\n",
       "    </tr>\n",
       "  </thead>\n",
       "  <tbody>\n",
       "    <tr>\n",
       "      <th>45</th>\n",
       "      <td>Mall_Nearest_Distance</td>\n",
       "      <td>829</td>\n",
       "      <td>0.550341</td>\n",
       "    </tr>\n",
       "    <tr>\n",
       "      <th>46</th>\n",
       "      <td>Mall_Within_500m</td>\n",
       "      <td>92789</td>\n",
       "      <td>61.598975</td>\n",
       "    </tr>\n",
       "    <tr>\n",
       "      <th>47</th>\n",
       "      <td>Mall_Within_1km</td>\n",
       "      <td>25426</td>\n",
       "      <td>16.879323</td>\n",
       "    </tr>\n",
       "    <tr>\n",
       "      <th>48</th>\n",
       "      <td>Mall_Within_2km</td>\n",
       "      <td>1940</td>\n",
       "      <td>1.287890</td>\n",
       "    </tr>\n",
       "    <tr>\n",
       "      <th>50</th>\n",
       "      <td>Hawker_Within_500m</td>\n",
       "      <td>97390</td>\n",
       "      <td>64.653398</td>\n",
       "    </tr>\n",
       "    <tr>\n",
       "      <th>51</th>\n",
       "      <td>Hawker_Within_1km</td>\n",
       "      <td>60868</td>\n",
       "      <td>40.407876</td>\n",
       "    </tr>\n",
       "    <tr>\n",
       "      <th>52</th>\n",
       "      <td>Hawker_Within_2km</td>\n",
       "      <td>29202</td>\n",
       "      <td>19.386062</td>\n",
       "    </tr>\n",
       "  </tbody>\n",
       "</table>\n",
       "</div>"
      ],
      "text/plain": [
       "                      col  num_nulls     %nulls\n",
       "45  Mall_Nearest_Distance        829   0.550341\n",
       "46       Mall_Within_500m      92789  61.598975\n",
       "47        Mall_Within_1km      25426  16.879323\n",
       "48        Mall_Within_2km       1940   1.287890\n",
       "50     Hawker_Within_500m      97390  64.653398\n",
       "51      Hawker_Within_1km      60868  40.407876\n",
       "52      Hawker_Within_2km      29202  19.386062"
      ]
     },
     "execution_count": 7,
     "metadata": {},
     "output_type": "execute_result"
    }
   ],
   "source": [
    "percent_missing(df)"
   ]
  },
  {
   "cell_type": "markdown",
   "id": "e3253269-bd16-4ff9-9ce5-876f7d57de8b",
   "metadata": {},
   "source": [
    "There are 7 features with missing values, I will need to check them all. Starting with the columns related to mall distance"
   ]
  },
  {
   "cell_type": "code",
   "execution_count": null,
   "id": "edbc91a2-eb6a-49e3-8ab7-79408359cd19",
   "metadata": {
    "scrolled": true,
    "tags": []
   },
   "outputs": [
    {
     "data": {
      "text/html": [
       "<div>\n",
       "<style scoped>\n",
       "    .dataframe tbody tr th:only-of-type {\n",
       "        vertical-align: middle;\n",
       "    }\n",
       "\n",
       "    .dataframe tbody tr th {\n",
       "        vertical-align: top;\n",
       "    }\n",
       "\n",
       "    .dataframe thead th {\n",
       "        text-align: right;\n",
       "    }\n",
       "</style>\n",
       "<table border=\"1\" class=\"dataframe\">\n",
       "  <thead>\n",
       "    <tr style=\"text-align: right;\">\n",
       "      <th></th>\n",
       "      <th>block</th>\n",
       "      <th>town</th>\n",
       "      <th>street_name</th>\n",
       "      <th>Mall_Nearest_Distance</th>\n",
       "      <th>Mall_Within_1km</th>\n",
       "    </tr>\n",
       "  </thead>\n",
       "  <tbody>\n",
       "    <tr>\n",
       "      <th>75</th>\n",
       "      <td>468A</td>\n",
       "      <td>SENGKANG</td>\n",
       "      <td>FERNVALE LINK</td>\n",
       "      <td>NaN</td>\n",
       "      <td>NaN</td>\n",
       "    </tr>\n",
       "    <tr>\n",
       "      <th>321</th>\n",
       "      <td>815C</td>\n",
       "      <td>CHOA CHU KANG</td>\n",
       "      <td>CHOA CHU KANG AVE 7</td>\n",
       "      <td>NaN</td>\n",
       "      <td>NaN</td>\n",
       "    </tr>\n",
       "    <tr>\n",
       "      <th>478</th>\n",
       "      <td>18B</td>\n",
       "      <td>GEYLANG</td>\n",
       "      <td>CIRCUIT RD</td>\n",
       "      <td>NaN</td>\n",
       "      <td>NaN</td>\n",
       "    </tr>\n",
       "    <tr>\n",
       "      <th>643</th>\n",
       "      <td>122A</td>\n",
       "      <td>PUNGGOL</td>\n",
       "      <td>EDGEDALE PLAINS</td>\n",
       "      <td>NaN</td>\n",
       "      <td>NaN</td>\n",
       "    </tr>\n",
       "    <tr>\n",
       "      <th>691</th>\n",
       "      <td>440A</td>\n",
       "      <td>CLEMENTI</td>\n",
       "      <td>CLEMENTI AVE 3</td>\n",
       "      <td>NaN</td>\n",
       "      <td>NaN</td>\n",
       "    </tr>\n",
       "    <tr>\n",
       "      <th>...</th>\n",
       "      <td>...</td>\n",
       "      <td>...</td>\n",
       "      <td>...</td>\n",
       "      <td>...</td>\n",
       "      <td>...</td>\n",
       "    </tr>\n",
       "    <tr>\n",
       "      <th>150296</th>\n",
       "      <td>315A</td>\n",
       "      <td>PUNGGOL</td>\n",
       "      <td>PUNGGOL WAY</td>\n",
       "      <td>NaN</td>\n",
       "      <td>NaN</td>\n",
       "    </tr>\n",
       "    <tr>\n",
       "      <th>150388</th>\n",
       "      <td>676C</td>\n",
       "      <td>PUNGGOL</td>\n",
       "      <td>PUNGGOL DR</td>\n",
       "      <td>NaN</td>\n",
       "      <td>NaN</td>\n",
       "    </tr>\n",
       "    <tr>\n",
       "      <th>150394</th>\n",
       "      <td>678A</td>\n",
       "      <td>PUNGGOL</td>\n",
       "      <td>PUNGGOL DR</td>\n",
       "      <td>NaN</td>\n",
       "      <td>NaN</td>\n",
       "    </tr>\n",
       "    <tr>\n",
       "      <th>150479</th>\n",
       "      <td>677B</td>\n",
       "      <td>PUNGGOL</td>\n",
       "      <td>PUNGGOL DR</td>\n",
       "      <td>NaN</td>\n",
       "      <td>NaN</td>\n",
       "    </tr>\n",
       "    <tr>\n",
       "      <th>150625</th>\n",
       "      <td>676B</td>\n",
       "      <td>PUNGGOL</td>\n",
       "      <td>PUNGGOL DR</td>\n",
       "      <td>NaN</td>\n",
       "      <td>NaN</td>\n",
       "    </tr>\n",
       "  </tbody>\n",
       "</table>\n",
       "<p>829 rows × 5 columns</p>\n",
       "</div>"
      ],
      "text/plain": [
       "       block           town          street_name  Mall_Nearest_Distance  \\\n",
       "75      468A       SENGKANG        FERNVALE LINK                    NaN   \n",
       "321     815C  CHOA CHU KANG  CHOA CHU KANG AVE 7                    NaN   \n",
       "478      18B        GEYLANG           CIRCUIT RD                    NaN   \n",
       "643     122A        PUNGGOL      EDGEDALE PLAINS                    NaN   \n",
       "691     440A       CLEMENTI       CLEMENTI AVE 3                    NaN   \n",
       "...      ...            ...                  ...                    ...   \n",
       "150296  315A        PUNGGOL          PUNGGOL WAY                    NaN   \n",
       "150388  676C        PUNGGOL           PUNGGOL DR                    NaN   \n",
       "150394  678A        PUNGGOL           PUNGGOL DR                    NaN   \n",
       "150479  677B        PUNGGOL           PUNGGOL DR                    NaN   \n",
       "150625  676B        PUNGGOL           PUNGGOL DR                    NaN   \n",
       "\n",
       "        Mall_Within_1km  \n",
       "75                  NaN  \n",
       "321                 NaN  \n",
       "478                 NaN  \n",
       "643                 NaN  \n",
       "691                 NaN  \n",
       "...                 ...  \n",
       "150296              NaN  \n",
       "150388              NaN  \n",
       "150394              NaN  \n",
       "150479              NaN  \n",
       "150625              NaN  \n",
       "\n",
       "[829 rows x 5 columns]"
      ]
     },
     "execution_count": 8,
     "metadata": {},
     "output_type": "execute_result"
    }
   ],
   "source": [
    "df[(df['Mall_Within_1km'].isnull()) & ((df['Mall_Nearest_Distance'] < 1000) | df['Mall_Nearest_Distance'].isnull())][['block','town','street_name','Mall_Nearest_Distance','Mall_Within_1km']]"
   ]
  },
  {
   "cell_type": "code",
   "execution_count": null,
   "id": "afcb5101-9f4b-48de-9d48-45417b60f9e2",
   "metadata": {
    "tags": []
   },
   "outputs": [
    {
     "data": {
      "text/plain": [
       "array([nan])"
      ]
     },
     "execution_count": 9,
     "metadata": {},
     "output_type": "execute_result"
    }
   ],
   "source": [
    "df[(df['Mall_Within_1km'].isnull()) & ((df['Mall_Nearest_Distance'] < 1000) | df['Mall_Nearest_Distance'].isnull())]['Mall_Nearest_Distance'].unique()"
   ]
  },
  {
   "cell_type": "markdown",
   "id": "0d3fe8c0-15aa-41cd-bd64-ff4709a3280e",
   "metadata": {},
   "source": [
    "Checking if there are any rows which list the mall nearest distance as less than 1000 mteres, as if there is any, that means that the NaN values are not representing 0 but rather that something went wrong in the data recording process.\n",
    "\n",
    "In this case, there are no rows which mall_within_1km is null and mall_nearest_distance is less than 1000, which means that the NaN values are all highly likely to represent 0."
   ]
  },
  {
   "cell_type": "code",
   "execution_count": null,
   "id": "cea85e2d-aa85-473a-b268-4489aef4128c",
   "metadata": {
    "tags": []
   },
   "outputs": [
    {
     "data": {
      "text/html": [
       "<div>\n",
       "<style scoped>\n",
       "    .dataframe tbody tr th:only-of-type {\n",
       "        vertical-align: middle;\n",
       "    }\n",
       "\n",
       "    .dataframe tbody tr th {\n",
       "        vertical-align: top;\n",
       "    }\n",
       "\n",
       "    .dataframe thead th {\n",
       "        text-align: right;\n",
       "    }\n",
       "</style>\n",
       "<table border=\"1\" class=\"dataframe\">\n",
       "  <thead>\n",
       "    <tr style=\"text-align: right;\">\n",
       "      <th></th>\n",
       "      <th>block</th>\n",
       "      <th>town</th>\n",
       "      <th>street_name</th>\n",
       "      <th>Mall_Nearest_Distance</th>\n",
       "      <th>Mall_Within_1km</th>\n",
       "    </tr>\n",
       "  </thead>\n",
       "  <tbody>\n",
       "    <tr>\n",
       "      <th>0</th>\n",
       "      <td>3B</td>\n",
       "      <td>KALLANG/WHAMPOA</td>\n",
       "      <td>UPP BOON KENG RD</td>\n",
       "      <td>1094.090418</td>\n",
       "      <td>NaN</td>\n",
       "    </tr>\n",
       "    <tr>\n",
       "      <th>2</th>\n",
       "      <td>289B</td>\n",
       "      <td>BUKIT BATOK</td>\n",
       "      <td>BT BATOK ST 25</td>\n",
       "      <td>1459.579948</td>\n",
       "      <td>NaN</td>\n",
       "    </tr>\n",
       "    <tr>\n",
       "      <th>7</th>\n",
       "      <td>701</td>\n",
       "      <td>BEDOK</td>\n",
       "      <td>BEDOK RESERVOIR RD</td>\n",
       "      <td>1749.147519</td>\n",
       "      <td>NaN</td>\n",
       "    </tr>\n",
       "    <tr>\n",
       "      <th>27</th>\n",
       "      <td>291A</td>\n",
       "      <td>BUKIT BATOK</td>\n",
       "      <td>BT BATOK ST 24</td>\n",
       "      <td>1063.974768</td>\n",
       "      <td>NaN</td>\n",
       "    </tr>\n",
       "    <tr>\n",
       "      <th>35</th>\n",
       "      <td>64</td>\n",
       "      <td>KALLANG/WHAMPOA</td>\n",
       "      <td>KALLANG BAHRU</td>\n",
       "      <td>1211.930580</td>\n",
       "      <td>NaN</td>\n",
       "    </tr>\n",
       "    <tr>\n",
       "      <th>...</th>\n",
       "      <td>...</td>\n",
       "      <td>...</td>\n",
       "      <td>...</td>\n",
       "      <td>...</td>\n",
       "      <td>...</td>\n",
       "    </tr>\n",
       "    <tr>\n",
       "      <th>150606</th>\n",
       "      <td>59</td>\n",
       "      <td>BEDOK</td>\n",
       "      <td>CHAI CHEE RD</td>\n",
       "      <td>1019.573002</td>\n",
       "      <td>NaN</td>\n",
       "    </tr>\n",
       "    <tr>\n",
       "      <th>150613</th>\n",
       "      <td>142</td>\n",
       "      <td>BUKIT MERAH</td>\n",
       "      <td>JLN BT MERAH</td>\n",
       "      <td>1051.126583</td>\n",
       "      <td>NaN</td>\n",
       "    </tr>\n",
       "    <tr>\n",
       "      <th>150625</th>\n",
       "      <td>676B</td>\n",
       "      <td>PUNGGOL</td>\n",
       "      <td>PUNGGOL DR</td>\n",
       "      <td>NaN</td>\n",
       "      <td>NaN</td>\n",
       "    </tr>\n",
       "    <tr>\n",
       "      <th>150626</th>\n",
       "      <td>60</td>\n",
       "      <td>BUKIT MERAH</td>\n",
       "      <td>TELOK BLANGAH HTS</td>\n",
       "      <td>1216.129901</td>\n",
       "      <td>NaN</td>\n",
       "    </tr>\n",
       "    <tr>\n",
       "      <th>150631</th>\n",
       "      <td>639</td>\n",
       "      <td>BEDOK</td>\n",
       "      <td>BEDOK RESERVOIR RD</td>\n",
       "      <td>1790.053482</td>\n",
       "      <td>NaN</td>\n",
       "    </tr>\n",
       "  </tbody>\n",
       "</table>\n",
       "<p>25426 rows × 5 columns</p>\n",
       "</div>"
      ],
      "text/plain": [
       "       block             town         street_name  Mall_Nearest_Distance  \\\n",
       "0         3B  KALLANG/WHAMPOA    UPP BOON KENG RD            1094.090418   \n",
       "2       289B      BUKIT BATOK      BT BATOK ST 25            1459.579948   \n",
       "7        701            BEDOK  BEDOK RESERVOIR RD            1749.147519   \n",
       "27      291A      BUKIT BATOK      BT BATOK ST 24            1063.974768   \n",
       "35        64  KALLANG/WHAMPOA       KALLANG BAHRU            1211.930580   \n",
       "...      ...              ...                 ...                    ...   \n",
       "150606    59            BEDOK        CHAI CHEE RD            1019.573002   \n",
       "150613   142      BUKIT MERAH        JLN BT MERAH            1051.126583   \n",
       "150625  676B          PUNGGOL          PUNGGOL DR                    NaN   \n",
       "150626    60      BUKIT MERAH   TELOK BLANGAH HTS            1216.129901   \n",
       "150631   639            BEDOK  BEDOK RESERVOIR RD            1790.053482   \n",
       "\n",
       "        Mall_Within_1km  \n",
       "0                   NaN  \n",
       "2                   NaN  \n",
       "7                   NaN  \n",
       "27                  NaN  \n",
       "35                  NaN  \n",
       "...                 ...  \n",
       "150606              NaN  \n",
       "150613              NaN  \n",
       "150625              NaN  \n",
       "150626              NaN  \n",
       "150631              NaN  \n",
       "\n",
       "[25426 rows x 5 columns]"
      ]
     },
     "execution_count": 10,
     "metadata": {},
     "output_type": "execute_result"
    }
   ],
   "source": [
    "df[(df['Mall_Within_1km'].isnull()) & ((df['Mall_Nearest_Distance'] > 1000) | df['Mall_Nearest_Distance'].isnull())][['block','town','street_name','Mall_Nearest_Distance','Mall_Within_1km']]"
   ]
  },
  {
   "cell_type": "markdown",
   "id": "35140350-1bcc-4661-aa99-ec287c2f0c61",
   "metadata": {},
   "source": [
    "More evidence can be found when we do the opposite and filter above 1000 metres. We can see all null values have a mall_nearest_distance at least 1000 metres away. Hence, the null values should be 0 and not null."
   ]
  },
  {
   "cell_type": "code",
   "execution_count": null,
   "id": "3049c5fc-7ed4-45be-bb7f-f22307373605",
   "metadata": {
    "tags": []
   },
   "outputs": [],
   "source": [
    "df['Mall_Within_1km'] = df['Mall_Within_1km'].fillna(0)"
   ]
  },
  {
   "cell_type": "markdown",
   "id": "01f72b9f-f004-404d-9515-4c68390cb6a2",
   "metadata": {},
   "source": [
    "As i'm filling the missing values with a constant value of 0, it doesn't really matter whether I do it before the train test split as I'm not introducting any bias. Will fill the missing values now."
   ]
  },
  {
   "cell_type": "code",
   "execution_count": null,
   "id": "17a54eb0-6d80-435a-945a-2d8da9296bbd",
   "metadata": {},
   "outputs": [
    {
     "data": {
      "text/html": [
       "<div>\n",
       "<style scoped>\n",
       "    .dataframe tbody tr th:only-of-type {\n",
       "        vertical-align: middle;\n",
       "    }\n",
       "\n",
       "    .dataframe tbody tr th {\n",
       "        vertical-align: top;\n",
       "    }\n",
       "\n",
       "    .dataframe thead th {\n",
       "        text-align: right;\n",
       "    }\n",
       "</style>\n",
       "<table border=\"1\" class=\"dataframe\">\n",
       "  <thead>\n",
       "    <tr style=\"text-align: right;\">\n",
       "      <th></th>\n",
       "      <th>block</th>\n",
       "      <th>town</th>\n",
       "      <th>street_name</th>\n",
       "      <th>Mall_Nearest_Distance</th>\n",
       "      <th>Mall_Within_2km</th>\n",
       "    </tr>\n",
       "  </thead>\n",
       "  <tbody>\n",
       "    <tr>\n",
       "      <th>75</th>\n",
       "      <td>468A</td>\n",
       "      <td>SENGKANG</td>\n",
       "      <td>FERNVALE LINK</td>\n",
       "      <td>NaN</td>\n",
       "      <td>NaN</td>\n",
       "    </tr>\n",
       "    <tr>\n",
       "      <th>321</th>\n",
       "      <td>815C</td>\n",
       "      <td>CHOA CHU KANG</td>\n",
       "      <td>CHOA CHU KANG AVE 7</td>\n",
       "      <td>NaN</td>\n",
       "      <td>NaN</td>\n",
       "    </tr>\n",
       "    <tr>\n",
       "      <th>478</th>\n",
       "      <td>18B</td>\n",
       "      <td>GEYLANG</td>\n",
       "      <td>CIRCUIT RD</td>\n",
       "      <td>NaN</td>\n",
       "      <td>NaN</td>\n",
       "    </tr>\n",
       "    <tr>\n",
       "      <th>643</th>\n",
       "      <td>122A</td>\n",
       "      <td>PUNGGOL</td>\n",
       "      <td>EDGEDALE PLAINS</td>\n",
       "      <td>NaN</td>\n",
       "      <td>NaN</td>\n",
       "    </tr>\n",
       "    <tr>\n",
       "      <th>691</th>\n",
       "      <td>440A</td>\n",
       "      <td>CLEMENTI</td>\n",
       "      <td>CLEMENTI AVE 3</td>\n",
       "      <td>NaN</td>\n",
       "      <td>NaN</td>\n",
       "    </tr>\n",
       "    <tr>\n",
       "      <th>...</th>\n",
       "      <td>...</td>\n",
       "      <td>...</td>\n",
       "      <td>...</td>\n",
       "      <td>...</td>\n",
       "      <td>...</td>\n",
       "    </tr>\n",
       "    <tr>\n",
       "      <th>150296</th>\n",
       "      <td>315A</td>\n",
       "      <td>PUNGGOL</td>\n",
       "      <td>PUNGGOL WAY</td>\n",
       "      <td>NaN</td>\n",
       "      <td>NaN</td>\n",
       "    </tr>\n",
       "    <tr>\n",
       "      <th>150388</th>\n",
       "      <td>676C</td>\n",
       "      <td>PUNGGOL</td>\n",
       "      <td>PUNGGOL DR</td>\n",
       "      <td>NaN</td>\n",
       "      <td>NaN</td>\n",
       "    </tr>\n",
       "    <tr>\n",
       "      <th>150394</th>\n",
       "      <td>678A</td>\n",
       "      <td>PUNGGOL</td>\n",
       "      <td>PUNGGOL DR</td>\n",
       "      <td>NaN</td>\n",
       "      <td>NaN</td>\n",
       "    </tr>\n",
       "    <tr>\n",
       "      <th>150479</th>\n",
       "      <td>677B</td>\n",
       "      <td>PUNGGOL</td>\n",
       "      <td>PUNGGOL DR</td>\n",
       "      <td>NaN</td>\n",
       "      <td>NaN</td>\n",
       "    </tr>\n",
       "    <tr>\n",
       "      <th>150625</th>\n",
       "      <td>676B</td>\n",
       "      <td>PUNGGOL</td>\n",
       "      <td>PUNGGOL DR</td>\n",
       "      <td>NaN</td>\n",
       "      <td>NaN</td>\n",
       "    </tr>\n",
       "  </tbody>\n",
       "</table>\n",
       "<p>829 rows × 5 columns</p>\n",
       "</div>"
      ],
      "text/plain": [
       "       block           town          street_name  Mall_Nearest_Distance  \\\n",
       "75      468A       SENGKANG        FERNVALE LINK                    NaN   \n",
       "321     815C  CHOA CHU KANG  CHOA CHU KANG AVE 7                    NaN   \n",
       "478      18B        GEYLANG           CIRCUIT RD                    NaN   \n",
       "643     122A        PUNGGOL      EDGEDALE PLAINS                    NaN   \n",
       "691     440A       CLEMENTI       CLEMENTI AVE 3                    NaN   \n",
       "...      ...            ...                  ...                    ...   \n",
       "150296  315A        PUNGGOL          PUNGGOL WAY                    NaN   \n",
       "150388  676C        PUNGGOL           PUNGGOL DR                    NaN   \n",
       "150394  678A        PUNGGOL           PUNGGOL DR                    NaN   \n",
       "150479  677B        PUNGGOL           PUNGGOL DR                    NaN   \n",
       "150625  676B        PUNGGOL           PUNGGOL DR                    NaN   \n",
       "\n",
       "        Mall_Within_2km  \n",
       "75                  NaN  \n",
       "321                 NaN  \n",
       "478                 NaN  \n",
       "643                 NaN  \n",
       "691                 NaN  \n",
       "...                 ...  \n",
       "150296              NaN  \n",
       "150388              NaN  \n",
       "150394              NaN  \n",
       "150479              NaN  \n",
       "150625              NaN  \n",
       "\n",
       "[829 rows x 5 columns]"
      ]
     },
     "execution_count": 12,
     "metadata": {},
     "output_type": "execute_result"
    }
   ],
   "source": [
    "df[(df['Mall_Within_2km'].isnull()) & ((df['Mall_Nearest_Distance'] < 2000) | df['Mall_Nearest_Distance'].isnull())][['block','town','street_name','Mall_Nearest_Distance','Mall_Within_2km']]"
   ]
  },
  {
   "cell_type": "code",
   "execution_count": null,
   "id": "b1ac2ba2-9d9f-40f5-959e-00599ce2fedc",
   "metadata": {
    "scrolled": true,
    "tags": []
   },
   "outputs": [
    {
     "data": {
      "text/html": [
       "<div>\n",
       "<style scoped>\n",
       "    .dataframe tbody tr th:only-of-type {\n",
       "        vertical-align: middle;\n",
       "    }\n",
       "\n",
       "    .dataframe tbody tr th {\n",
       "        vertical-align: top;\n",
       "    }\n",
       "\n",
       "    .dataframe thead th {\n",
       "        text-align: right;\n",
       "    }\n",
       "</style>\n",
       "<table border=\"1\" class=\"dataframe\">\n",
       "  <thead>\n",
       "    <tr style=\"text-align: right;\">\n",
       "      <th></th>\n",
       "      <th>block</th>\n",
       "      <th>town</th>\n",
       "      <th>street_name</th>\n",
       "      <th>Mall_Nearest_Distance</th>\n",
       "      <th>Mall_Within_2km</th>\n",
       "    </tr>\n",
       "  </thead>\n",
       "  <tbody>\n",
       "    <tr>\n",
       "      <th>75</th>\n",
       "      <td>468A</td>\n",
       "      <td>SENGKANG</td>\n",
       "      <td>FERNVALE LINK</td>\n",
       "      <td>NaN</td>\n",
       "      <td>NaN</td>\n",
       "    </tr>\n",
       "    <tr>\n",
       "      <th>109</th>\n",
       "      <td>601</td>\n",
       "      <td>BEDOK</td>\n",
       "      <td>BEDOK RESERVOIR RD</td>\n",
       "      <td>2050.201309</td>\n",
       "      <td>NaN</td>\n",
       "    </tr>\n",
       "    <tr>\n",
       "      <th>220</th>\n",
       "      <td>123</td>\n",
       "      <td>BEDOK</td>\n",
       "      <td>BEDOK RESERVOIR RD</td>\n",
       "      <td>2247.327448</td>\n",
       "      <td>NaN</td>\n",
       "    </tr>\n",
       "    <tr>\n",
       "      <th>321</th>\n",
       "      <td>815C</td>\n",
       "      <td>CHOA CHU KANG</td>\n",
       "      <td>CHOA CHU KANG AVE 7</td>\n",
       "      <td>NaN</td>\n",
       "      <td>NaN</td>\n",
       "    </tr>\n",
       "    <tr>\n",
       "      <th>478</th>\n",
       "      <td>18B</td>\n",
       "      <td>GEYLANG</td>\n",
       "      <td>CIRCUIT RD</td>\n",
       "      <td>NaN</td>\n",
       "      <td>NaN</td>\n",
       "    </tr>\n",
       "    <tr>\n",
       "      <th>...</th>\n",
       "      <td>...</td>\n",
       "      <td>...</td>\n",
       "      <td>...</td>\n",
       "      <td>...</td>\n",
       "      <td>...</td>\n",
       "    </tr>\n",
       "    <tr>\n",
       "      <th>150337</th>\n",
       "      <td>120</td>\n",
       "      <td>BEDOK</td>\n",
       "      <td>BEDOK RESERVOIR RD</td>\n",
       "      <td>2147.296706</td>\n",
       "      <td>NaN</td>\n",
       "    </tr>\n",
       "    <tr>\n",
       "      <th>150388</th>\n",
       "      <td>676C</td>\n",
       "      <td>PUNGGOL</td>\n",
       "      <td>PUNGGOL DR</td>\n",
       "      <td>NaN</td>\n",
       "      <td>NaN</td>\n",
       "    </tr>\n",
       "    <tr>\n",
       "      <th>150394</th>\n",
       "      <td>678A</td>\n",
       "      <td>PUNGGOL</td>\n",
       "      <td>PUNGGOL DR</td>\n",
       "      <td>NaN</td>\n",
       "      <td>NaN</td>\n",
       "    </tr>\n",
       "    <tr>\n",
       "      <th>150479</th>\n",
       "      <td>677B</td>\n",
       "      <td>PUNGGOL</td>\n",
       "      <td>PUNGGOL DR</td>\n",
       "      <td>NaN</td>\n",
       "      <td>NaN</td>\n",
       "    </tr>\n",
       "    <tr>\n",
       "      <th>150625</th>\n",
       "      <td>676B</td>\n",
       "      <td>PUNGGOL</td>\n",
       "      <td>PUNGGOL DR</td>\n",
       "      <td>NaN</td>\n",
       "      <td>NaN</td>\n",
       "    </tr>\n",
       "  </tbody>\n",
       "</table>\n",
       "<p>1940 rows × 5 columns</p>\n",
       "</div>"
      ],
      "text/plain": [
       "       block           town          street_name  Mall_Nearest_Distance  \\\n",
       "75      468A       SENGKANG        FERNVALE LINK                    NaN   \n",
       "109      601          BEDOK   BEDOK RESERVOIR RD            2050.201309   \n",
       "220      123          BEDOK   BEDOK RESERVOIR RD            2247.327448   \n",
       "321     815C  CHOA CHU KANG  CHOA CHU KANG AVE 7                    NaN   \n",
       "478      18B        GEYLANG           CIRCUIT RD                    NaN   \n",
       "...      ...            ...                  ...                    ...   \n",
       "150337   120          BEDOK   BEDOK RESERVOIR RD            2147.296706   \n",
       "150388  676C        PUNGGOL           PUNGGOL DR                    NaN   \n",
       "150394  678A        PUNGGOL           PUNGGOL DR                    NaN   \n",
       "150479  677B        PUNGGOL           PUNGGOL DR                    NaN   \n",
       "150625  676B        PUNGGOL           PUNGGOL DR                    NaN   \n",
       "\n",
       "        Mall_Within_2km  \n",
       "75                  NaN  \n",
       "109                 NaN  \n",
       "220                 NaN  \n",
       "321                 NaN  \n",
       "478                 NaN  \n",
       "...                 ...  \n",
       "150337              NaN  \n",
       "150388              NaN  \n",
       "150394              NaN  \n",
       "150479              NaN  \n",
       "150625              NaN  \n",
       "\n",
       "[1940 rows x 5 columns]"
      ]
     },
     "execution_count": 13,
     "metadata": {},
     "output_type": "execute_result"
    }
   ],
   "source": [
    "df[(df['Mall_Within_2km'].isnull()) & ((df['Mall_Nearest_Distance'] > 2000) | df['Mall_Nearest_Distance'].isnull())][['block','town','street_name','Mall_Nearest_Distance','Mall_Within_2km']]"
   ]
  },
  {
   "cell_type": "markdown",
   "id": "f5295006-64b2-4ba5-a815-6324fc723380",
   "metadata": {},
   "source": [
    "Similarly for Mall_Within_2km column, the same is true. The null values are because the nearest mall is more than 2km away. The null values should be 0 instead."
   ]
  },
  {
   "cell_type": "code",
   "execution_count": null,
   "id": "b07fb675-91e7-460d-af5f-032e21f6204a",
   "metadata": {
    "tags": []
   },
   "outputs": [],
   "source": [
    "df['Mall_Within_2km'] = df['Mall_Within_2km'].fillna(0)"
   ]
  },
  {
   "cell_type": "code",
   "execution_count": null,
   "id": "7ffd7169-5b92-4a4c-9603-c6697d5d08f4",
   "metadata": {
    "tags": []
   },
   "outputs": [
    {
     "data": {
      "text/html": [
       "<div>\n",
       "<style scoped>\n",
       "    .dataframe tbody tr th:only-of-type {\n",
       "        vertical-align: middle;\n",
       "    }\n",
       "\n",
       "    .dataframe tbody tr th {\n",
       "        vertical-align: top;\n",
       "    }\n",
       "\n",
       "    .dataframe thead th {\n",
       "        text-align: right;\n",
       "    }\n",
       "</style>\n",
       "<table border=\"1\" class=\"dataframe\">\n",
       "  <thead>\n",
       "    <tr style=\"text-align: right;\">\n",
       "      <th></th>\n",
       "      <th>block</th>\n",
       "      <th>town</th>\n",
       "      <th>street_name</th>\n",
       "      <th>Mall_Nearest_Distance</th>\n",
       "      <th>Mall_Within_500m</th>\n",
       "    </tr>\n",
       "  </thead>\n",
       "  <tbody>\n",
       "    <tr>\n",
       "      <th>75</th>\n",
       "      <td>468A</td>\n",
       "      <td>SENGKANG</td>\n",
       "      <td>FERNVALE LINK</td>\n",
       "      <td>NaN</td>\n",
       "      <td>NaN</td>\n",
       "    </tr>\n",
       "    <tr>\n",
       "      <th>321</th>\n",
       "      <td>815C</td>\n",
       "      <td>CHOA CHU KANG</td>\n",
       "      <td>CHOA CHU KANG AVE 7</td>\n",
       "      <td>NaN</td>\n",
       "      <td>NaN</td>\n",
       "    </tr>\n",
       "    <tr>\n",
       "      <th>478</th>\n",
       "      <td>18B</td>\n",
       "      <td>GEYLANG</td>\n",
       "      <td>CIRCUIT RD</td>\n",
       "      <td>NaN</td>\n",
       "      <td>NaN</td>\n",
       "    </tr>\n",
       "    <tr>\n",
       "      <th>643</th>\n",
       "      <td>122A</td>\n",
       "      <td>PUNGGOL</td>\n",
       "      <td>EDGEDALE PLAINS</td>\n",
       "      <td>NaN</td>\n",
       "      <td>NaN</td>\n",
       "    </tr>\n",
       "    <tr>\n",
       "      <th>691</th>\n",
       "      <td>440A</td>\n",
       "      <td>CLEMENTI</td>\n",
       "      <td>CLEMENTI AVE 3</td>\n",
       "      <td>NaN</td>\n",
       "      <td>NaN</td>\n",
       "    </tr>\n",
       "    <tr>\n",
       "      <th>...</th>\n",
       "      <td>...</td>\n",
       "      <td>...</td>\n",
       "      <td>...</td>\n",
       "      <td>...</td>\n",
       "      <td>...</td>\n",
       "    </tr>\n",
       "    <tr>\n",
       "      <th>150296</th>\n",
       "      <td>315A</td>\n",
       "      <td>PUNGGOL</td>\n",
       "      <td>PUNGGOL WAY</td>\n",
       "      <td>NaN</td>\n",
       "      <td>NaN</td>\n",
       "    </tr>\n",
       "    <tr>\n",
       "      <th>150388</th>\n",
       "      <td>676C</td>\n",
       "      <td>PUNGGOL</td>\n",
       "      <td>PUNGGOL DR</td>\n",
       "      <td>NaN</td>\n",
       "      <td>NaN</td>\n",
       "    </tr>\n",
       "    <tr>\n",
       "      <th>150394</th>\n",
       "      <td>678A</td>\n",
       "      <td>PUNGGOL</td>\n",
       "      <td>PUNGGOL DR</td>\n",
       "      <td>NaN</td>\n",
       "      <td>NaN</td>\n",
       "    </tr>\n",
       "    <tr>\n",
       "      <th>150479</th>\n",
       "      <td>677B</td>\n",
       "      <td>PUNGGOL</td>\n",
       "      <td>PUNGGOL DR</td>\n",
       "      <td>NaN</td>\n",
       "      <td>NaN</td>\n",
       "    </tr>\n",
       "    <tr>\n",
       "      <th>150625</th>\n",
       "      <td>676B</td>\n",
       "      <td>PUNGGOL</td>\n",
       "      <td>PUNGGOL DR</td>\n",
       "      <td>NaN</td>\n",
       "      <td>NaN</td>\n",
       "    </tr>\n",
       "  </tbody>\n",
       "</table>\n",
       "<p>829 rows × 5 columns</p>\n",
       "</div>"
      ],
      "text/plain": [
       "       block           town          street_name  Mall_Nearest_Distance  \\\n",
       "75      468A       SENGKANG        FERNVALE LINK                    NaN   \n",
       "321     815C  CHOA CHU KANG  CHOA CHU KANG AVE 7                    NaN   \n",
       "478      18B        GEYLANG           CIRCUIT RD                    NaN   \n",
       "643     122A        PUNGGOL      EDGEDALE PLAINS                    NaN   \n",
       "691     440A       CLEMENTI       CLEMENTI AVE 3                    NaN   \n",
       "...      ...            ...                  ...                    ...   \n",
       "150296  315A        PUNGGOL          PUNGGOL WAY                    NaN   \n",
       "150388  676C        PUNGGOL           PUNGGOL DR                    NaN   \n",
       "150394  678A        PUNGGOL           PUNGGOL DR                    NaN   \n",
       "150479  677B        PUNGGOL           PUNGGOL DR                    NaN   \n",
       "150625  676B        PUNGGOL           PUNGGOL DR                    NaN   \n",
       "\n",
       "        Mall_Within_500m  \n",
       "75                   NaN  \n",
       "321                  NaN  \n",
       "478                  NaN  \n",
       "643                  NaN  \n",
       "691                  NaN  \n",
       "...                  ...  \n",
       "150296               NaN  \n",
       "150388               NaN  \n",
       "150394               NaN  \n",
       "150479               NaN  \n",
       "150625               NaN  \n",
       "\n",
       "[829 rows x 5 columns]"
      ]
     },
     "execution_count": 15,
     "metadata": {},
     "output_type": "execute_result"
    }
   ],
   "source": [
    "df[(df['Mall_Within_500m'].isnull()) & ((df['Mall_Nearest_Distance'] < 500) | df['Mall_Nearest_Distance'].isnull())][['block','town','street_name','Mall_Nearest_Distance','Mall_Within_500m']]"
   ]
  },
  {
   "cell_type": "code",
   "execution_count": null,
   "id": "f351b296-2cfe-4efe-8213-d0742131c87b",
   "metadata": {
    "tags": []
   },
   "outputs": [
    {
     "data": {
      "text/html": [
       "<div>\n",
       "<style scoped>\n",
       "    .dataframe tbody tr th:only-of-type {\n",
       "        vertical-align: middle;\n",
       "    }\n",
       "\n",
       "    .dataframe tbody tr th {\n",
       "        vertical-align: top;\n",
       "    }\n",
       "\n",
       "    .dataframe thead th {\n",
       "        text-align: right;\n",
       "    }\n",
       "</style>\n",
       "<table border=\"1\" class=\"dataframe\">\n",
       "  <thead>\n",
       "    <tr style=\"text-align: right;\">\n",
       "      <th></th>\n",
       "      <th>block</th>\n",
       "      <th>town</th>\n",
       "      <th>street_name</th>\n",
       "      <th>Mall_Nearest_Distance</th>\n",
       "      <th>Mall_Within_500m</th>\n",
       "    </tr>\n",
       "  </thead>\n",
       "  <tbody>\n",
       "    <tr>\n",
       "      <th>0</th>\n",
       "      <td>3B</td>\n",
       "      <td>KALLANG/WHAMPOA</td>\n",
       "      <td>UPP BOON KENG RD</td>\n",
       "      <td>1094.090418</td>\n",
       "      <td>NaN</td>\n",
       "    </tr>\n",
       "    <tr>\n",
       "      <th>1</th>\n",
       "      <td>153</td>\n",
       "      <td>BISHAN</td>\n",
       "      <td>BISHAN ST 13</td>\n",
       "      <td>866.941448</td>\n",
       "      <td>NaN</td>\n",
       "    </tr>\n",
       "    <tr>\n",
       "      <th>2</th>\n",
       "      <td>289B</td>\n",
       "      <td>BUKIT BATOK</td>\n",
       "      <td>BT BATOK ST 25</td>\n",
       "      <td>1459.579948</td>\n",
       "      <td>NaN</td>\n",
       "    </tr>\n",
       "    <tr>\n",
       "      <th>3</th>\n",
       "      <td>232</td>\n",
       "      <td>BISHAN</td>\n",
       "      <td>BISHAN ST 22</td>\n",
       "      <td>950.175199</td>\n",
       "      <td>NaN</td>\n",
       "    </tr>\n",
       "    <tr>\n",
       "      <th>4</th>\n",
       "      <td>876</td>\n",
       "      <td>YISHUN</td>\n",
       "      <td>YISHUN ST 81</td>\n",
       "      <td>729.771895</td>\n",
       "      <td>NaN</td>\n",
       "    </tr>\n",
       "    <tr>\n",
       "      <th>...</th>\n",
       "      <td>...</td>\n",
       "      <td>...</td>\n",
       "      <td>...</td>\n",
       "      <td>...</td>\n",
       "      <td>...</td>\n",
       "    </tr>\n",
       "    <tr>\n",
       "      <th>150626</th>\n",
       "      <td>60</td>\n",
       "      <td>BUKIT MERAH</td>\n",
       "      <td>TELOK BLANGAH HTS</td>\n",
       "      <td>1216.129901</td>\n",
       "      <td>NaN</td>\n",
       "    </tr>\n",
       "    <tr>\n",
       "      <th>150628</th>\n",
       "      <td>469C</td>\n",
       "      <td>SENGKANG</td>\n",
       "      <td>SENGKANG WEST WAY</td>\n",
       "      <td>565.636046</td>\n",
       "      <td>NaN</td>\n",
       "    </tr>\n",
       "    <tr>\n",
       "      <th>150629</th>\n",
       "      <td>849</td>\n",
       "      <td>WOODLANDS</td>\n",
       "      <td>WOODLANDS ST 82</td>\n",
       "      <td>585.138715</td>\n",
       "      <td>NaN</td>\n",
       "    </tr>\n",
       "    <tr>\n",
       "      <th>150631</th>\n",
       "      <td>639</td>\n",
       "      <td>BEDOK</td>\n",
       "      <td>BEDOK RESERVOIR RD</td>\n",
       "      <td>1790.053482</td>\n",
       "      <td>NaN</td>\n",
       "    </tr>\n",
       "    <tr>\n",
       "      <th>150632</th>\n",
       "      <td>32</td>\n",
       "      <td>QUEENSTOWN</td>\n",
       "      <td>HOLLAND CL</td>\n",
       "      <td>587.244922</td>\n",
       "      <td>NaN</td>\n",
       "    </tr>\n",
       "  </tbody>\n",
       "</table>\n",
       "<p>92789 rows × 5 columns</p>\n",
       "</div>"
      ],
      "text/plain": [
       "       block             town         street_name  Mall_Nearest_Distance  \\\n",
       "0         3B  KALLANG/WHAMPOA    UPP BOON KENG RD            1094.090418   \n",
       "1        153           BISHAN        BISHAN ST 13             866.941448   \n",
       "2       289B      BUKIT BATOK      BT BATOK ST 25            1459.579948   \n",
       "3        232           BISHAN        BISHAN ST 22             950.175199   \n",
       "4        876           YISHUN        YISHUN ST 81             729.771895   \n",
       "...      ...              ...                 ...                    ...   \n",
       "150626    60      BUKIT MERAH   TELOK BLANGAH HTS            1216.129901   \n",
       "150628  469C         SENGKANG   SENGKANG WEST WAY             565.636046   \n",
       "150629   849        WOODLANDS     WOODLANDS ST 82             585.138715   \n",
       "150631   639            BEDOK  BEDOK RESERVOIR RD            1790.053482   \n",
       "150632    32       QUEENSTOWN          HOLLAND CL             587.244922   \n",
       "\n",
       "        Mall_Within_500m  \n",
       "0                    NaN  \n",
       "1                    NaN  \n",
       "2                    NaN  \n",
       "3                    NaN  \n",
       "4                    NaN  \n",
       "...                  ...  \n",
       "150626               NaN  \n",
       "150628               NaN  \n",
       "150629               NaN  \n",
       "150631               NaN  \n",
       "150632               NaN  \n",
       "\n",
       "[92789 rows x 5 columns]"
      ]
     },
     "execution_count": 16,
     "metadata": {},
     "output_type": "execute_result"
    }
   ],
   "source": [
    "df[(df['Mall_Within_500m'].isnull()) & ((df['Mall_Nearest_Distance'] > 500) | df['Mall_Nearest_Distance'].isnull())][['block','town','street_name','Mall_Nearest_Distance','Mall_Within_500m']]\n"
   ]
  },
  {
   "cell_type": "markdown",
   "id": "b55557d1-15d9-4d79-a6b0-3253102f62f6",
   "metadata": {},
   "source": [
    "Same thing applies for mall_within_500m, values should be 0."
   ]
  },
  {
   "cell_type": "code",
   "execution_count": null,
   "id": "b29809da-4854-41fa-acc4-a22d87ae5357",
   "metadata": {
    "tags": []
   },
   "outputs": [],
   "source": [
    "df['Mall_Within_500m'] = df['Mall_Within_500m'].fillna(0)"
   ]
  },
  {
   "cell_type": "code",
   "execution_count": null,
   "id": "b4973206-53e9-47d7-bcac-1d60ba4c4bac",
   "metadata": {
    "tags": []
   },
   "outputs": [
    {
     "data": {
      "text/html": [
       "<div>\n",
       "<style scoped>\n",
       "    .dataframe tbody tr th:only-of-type {\n",
       "        vertical-align: middle;\n",
       "    }\n",
       "\n",
       "    .dataframe tbody tr th {\n",
       "        vertical-align: top;\n",
       "    }\n",
       "\n",
       "    .dataframe thead th {\n",
       "        text-align: right;\n",
       "    }\n",
       "</style>\n",
       "<table border=\"1\" class=\"dataframe\">\n",
       "  <thead>\n",
       "    <tr style=\"text-align: right;\">\n",
       "      <th></th>\n",
       "      <th>col</th>\n",
       "      <th>num_nulls</th>\n",
       "      <th>%nulls</th>\n",
       "    </tr>\n",
       "  </thead>\n",
       "  <tbody>\n",
       "    <tr>\n",
       "      <th>45</th>\n",
       "      <td>Mall_Nearest_Distance</td>\n",
       "      <td>829</td>\n",
       "      <td>0.550341</td>\n",
       "    </tr>\n",
       "    <tr>\n",
       "      <th>50</th>\n",
       "      <td>Hawker_Within_500m</td>\n",
       "      <td>97390</td>\n",
       "      <td>64.653398</td>\n",
       "    </tr>\n",
       "    <tr>\n",
       "      <th>51</th>\n",
       "      <td>Hawker_Within_1km</td>\n",
       "      <td>60868</td>\n",
       "      <td>40.407876</td>\n",
       "    </tr>\n",
       "    <tr>\n",
       "      <th>52</th>\n",
       "      <td>Hawker_Within_2km</td>\n",
       "      <td>29202</td>\n",
       "      <td>19.386062</td>\n",
       "    </tr>\n",
       "  </tbody>\n",
       "</table>\n",
       "</div>"
      ],
      "text/plain": [
       "                      col  num_nulls     %nulls\n",
       "45  Mall_Nearest_Distance        829   0.550341\n",
       "50     Hawker_Within_500m      97390  64.653398\n",
       "51      Hawker_Within_1km      60868  40.407876\n",
       "52      Hawker_Within_2km      29202  19.386062"
      ]
     },
     "execution_count": 18,
     "metadata": {},
     "output_type": "execute_result"
    }
   ],
   "source": [
    "percent_missing(df)"
   ]
  },
  {
   "cell_type": "markdown",
   "id": "465a4709-a278-432c-beb2-af967b0c42a6",
   "metadata": {},
   "source": [
    "Now to check if the same is true for the hawker columns."
   ]
  },
  {
   "cell_type": "code",
   "execution_count": null,
   "id": "5dca32dd-f2b9-4524-8f09-688ea32a879b",
   "metadata": {
    "tags": []
   },
   "outputs": [
    {
     "data": {
      "text/html": [
       "<div>\n",
       "<style scoped>\n",
       "    .dataframe tbody tr th:only-of-type {\n",
       "        vertical-align: middle;\n",
       "    }\n",
       "\n",
       "    .dataframe tbody tr th {\n",
       "        vertical-align: top;\n",
       "    }\n",
       "\n",
       "    .dataframe thead th {\n",
       "        text-align: right;\n",
       "    }\n",
       "</style>\n",
       "<table border=\"1\" class=\"dataframe\">\n",
       "  <thead>\n",
       "    <tr style=\"text-align: right;\">\n",
       "      <th></th>\n",
       "      <th>block</th>\n",
       "      <th>town</th>\n",
       "      <th>street_name</th>\n",
       "      <th>Hawker_Nearest_Distance</th>\n",
       "      <th>Hawker_Within_1km</th>\n",
       "    </tr>\n",
       "  </thead>\n",
       "  <tbody>\n",
       "  </tbody>\n",
       "</table>\n",
       "</div>"
      ],
      "text/plain": [
       "Empty DataFrame\n",
       "Columns: [block, town, street_name, Hawker_Nearest_Distance, Hawker_Within_1km]\n",
       "Index: []"
      ]
     },
     "execution_count": 19,
     "metadata": {},
     "output_type": "execute_result"
    }
   ],
   "source": [
    "df[(df['Hawker_Within_1km'].isnull()) & ((df['Hawker_Nearest_Distance'] < 1000) | df['Hawker_Nearest_Distance'].isnull())][['block','town','street_name','Hawker_Nearest_Distance','Hawker_Within_1km']]"
   ]
  },
  {
   "cell_type": "code",
   "execution_count": null,
   "id": "16a49271-e53e-4f37-b05e-c57a1143ea52",
   "metadata": {
    "scrolled": true,
    "tags": []
   },
   "outputs": [
    {
     "data": {
      "text/html": [
       "<div>\n",
       "<style scoped>\n",
       "    .dataframe tbody tr th:only-of-type {\n",
       "        vertical-align: middle;\n",
       "    }\n",
       "\n",
       "    .dataframe tbody tr th {\n",
       "        vertical-align: top;\n",
       "    }\n",
       "\n",
       "    .dataframe thead th {\n",
       "        text-align: right;\n",
       "    }\n",
       "</style>\n",
       "<table border=\"1\" class=\"dataframe\">\n",
       "  <thead>\n",
       "    <tr style=\"text-align: right;\">\n",
       "      <th></th>\n",
       "      <th>block</th>\n",
       "      <th>town</th>\n",
       "      <th>street_name</th>\n",
       "      <th>Hawker_Nearest_Distance</th>\n",
       "      <th>Hawker_Within_1km</th>\n",
       "    </tr>\n",
       "  </thead>\n",
       "  <tbody>\n",
       "    <tr>\n",
       "      <th>2</th>\n",
       "      <td>289B</td>\n",
       "      <td>BUKIT BATOK</td>\n",
       "      <td>BT BATOK ST 25</td>\n",
       "      <td>1762.082341</td>\n",
       "      <td>NaN</td>\n",
       "    </tr>\n",
       "    <tr>\n",
       "      <th>4</th>\n",
       "      <td>876</td>\n",
       "      <td>YISHUN</td>\n",
       "      <td>YISHUN ST 81</td>\n",
       "      <td>1540.151439</td>\n",
       "      <td>NaN</td>\n",
       "    </tr>\n",
       "    <tr>\n",
       "      <th>8</th>\n",
       "      <td>450</td>\n",
       "      <td>BISHAN</td>\n",
       "      <td>SIN MING AVE</td>\n",
       "      <td>1032.848455</td>\n",
       "      <td>NaN</td>\n",
       "    </tr>\n",
       "    <tr>\n",
       "      <th>9</th>\n",
       "      <td>307D</td>\n",
       "      <td>SENGKANG</td>\n",
       "      <td>ANCHORVALE RD</td>\n",
       "      <td>1743.704293</td>\n",
       "      <td>NaN</td>\n",
       "    </tr>\n",
       "    <tr>\n",
       "      <th>10</th>\n",
       "      <td>273D</td>\n",
       "      <td>SENGKANG</td>\n",
       "      <td>COMPASSVALE LINK</td>\n",
       "      <td>1634.750527</td>\n",
       "      <td>NaN</td>\n",
       "    </tr>\n",
       "    <tr>\n",
       "      <th>...</th>\n",
       "      <td>...</td>\n",
       "      <td>...</td>\n",
       "      <td>...</td>\n",
       "      <td>...</td>\n",
       "      <td>...</td>\n",
       "    </tr>\n",
       "    <tr>\n",
       "      <th>150625</th>\n",
       "      <td>676B</td>\n",
       "      <td>PUNGGOL</td>\n",
       "      <td>PUNGGOL DR</td>\n",
       "      <td>4491.675680</td>\n",
       "      <td>NaN</td>\n",
       "    </tr>\n",
       "    <tr>\n",
       "      <th>150627</th>\n",
       "      <td>359A</td>\n",
       "      <td>SEMBAWANG</td>\n",
       "      <td>ADMIRALTY DR</td>\n",
       "      <td>1957.044643</td>\n",
       "      <td>NaN</td>\n",
       "    </tr>\n",
       "    <tr>\n",
       "      <th>150628</th>\n",
       "      <td>469C</td>\n",
       "      <td>SENGKANG</td>\n",
       "      <td>SENGKANG WEST WAY</td>\n",
       "      <td>2443.370839</td>\n",
       "      <td>NaN</td>\n",
       "    </tr>\n",
       "    <tr>\n",
       "      <th>150630</th>\n",
       "      <td>648D</td>\n",
       "      <td>JURONG WEST</td>\n",
       "      <td>JURONG WEST ST 61</td>\n",
       "      <td>1807.769865</td>\n",
       "      <td>NaN</td>\n",
       "    </tr>\n",
       "    <tr>\n",
       "      <th>150631</th>\n",
       "      <td>639</td>\n",
       "      <td>BEDOK</td>\n",
       "      <td>BEDOK RESERVOIR RD</td>\n",
       "      <td>1076.260436</td>\n",
       "      <td>NaN</td>\n",
       "    </tr>\n",
       "  </tbody>\n",
       "</table>\n",
       "<p>60868 rows × 5 columns</p>\n",
       "</div>"
      ],
      "text/plain": [
       "       block         town         street_name  Hawker_Nearest_Distance  \\\n",
       "2       289B  BUKIT BATOK      BT BATOK ST 25              1762.082341   \n",
       "4        876       YISHUN        YISHUN ST 81              1540.151439   \n",
       "8        450       BISHAN        SIN MING AVE              1032.848455   \n",
       "9       307D     SENGKANG       ANCHORVALE RD              1743.704293   \n",
       "10      273D     SENGKANG    COMPASSVALE LINK              1634.750527   \n",
       "...      ...          ...                 ...                      ...   \n",
       "150625  676B      PUNGGOL          PUNGGOL DR              4491.675680   \n",
       "150627  359A    SEMBAWANG        ADMIRALTY DR              1957.044643   \n",
       "150628  469C     SENGKANG   SENGKANG WEST WAY              2443.370839   \n",
       "150630  648D  JURONG WEST   JURONG WEST ST 61              1807.769865   \n",
       "150631   639        BEDOK  BEDOK RESERVOIR RD              1076.260436   \n",
       "\n",
       "        Hawker_Within_1km  \n",
       "2                     NaN  \n",
       "4                     NaN  \n",
       "8                     NaN  \n",
       "9                     NaN  \n",
       "10                    NaN  \n",
       "...                   ...  \n",
       "150625                NaN  \n",
       "150627                NaN  \n",
       "150628                NaN  \n",
       "150630                NaN  \n",
       "150631                NaN  \n",
       "\n",
       "[60868 rows x 5 columns]"
      ]
     },
     "execution_count": 20,
     "metadata": {},
     "output_type": "execute_result"
    }
   ],
   "source": [
    "df[(df['Hawker_Within_1km'].isnull()) & ((df['Hawker_Nearest_Distance'] > 1000) | df['Hawker_Nearest_Distance'].isnull())][['block','town','street_name','Hawker_Nearest_Distance','Hawker_Within_1km']]"
   ]
  },
  {
   "cell_type": "markdown",
   "id": "cd4ed400-2c7c-42e0-9e1f-d9265f1443c5",
   "metadata": {},
   "source": [
    "As expected, the null values represent 0 as no hawker centres are within 1km."
   ]
  },
  {
   "cell_type": "code",
   "execution_count": null,
   "id": "7f398a8a-0e55-4065-ad95-b011c6ea8761",
   "metadata": {
    "tags": []
   },
   "outputs": [],
   "source": [
    "df['Hawker_Within_1km'] = df['Hawker_Within_1km'].fillna(0)"
   ]
  },
  {
   "cell_type": "code",
   "execution_count": null,
   "id": "b7ccdf26-6c13-4329-b513-1fc952b692dd",
   "metadata": {
    "tags": []
   },
   "outputs": [
    {
     "data": {
      "text/html": [
       "<div>\n",
       "<style scoped>\n",
       "    .dataframe tbody tr th:only-of-type {\n",
       "        vertical-align: middle;\n",
       "    }\n",
       "\n",
       "    .dataframe tbody tr th {\n",
       "        vertical-align: top;\n",
       "    }\n",
       "\n",
       "    .dataframe thead th {\n",
       "        text-align: right;\n",
       "    }\n",
       "</style>\n",
       "<table border=\"1\" class=\"dataframe\">\n",
       "  <thead>\n",
       "    <tr style=\"text-align: right;\">\n",
       "      <th></th>\n",
       "      <th>block</th>\n",
       "      <th>town</th>\n",
       "      <th>street_name</th>\n",
       "      <th>Hawker_Nearest_Distance</th>\n",
       "      <th>Hawker_Within_2km</th>\n",
       "    </tr>\n",
       "  </thead>\n",
       "  <tbody>\n",
       "  </tbody>\n",
       "</table>\n",
       "</div>"
      ],
      "text/plain": [
       "Empty DataFrame\n",
       "Columns: [block, town, street_name, Hawker_Nearest_Distance, Hawker_Within_2km]\n",
       "Index: []"
      ]
     },
     "execution_count": 22,
     "metadata": {},
     "output_type": "execute_result"
    }
   ],
   "source": [
    "df[(df['Hawker_Within_2km'].isnull()) & ((df['Hawker_Nearest_Distance'] < 2000) | df['Hawker_Nearest_Distance'].isnull())][['block','town','street_name','Hawker_Nearest_Distance','Hawker_Within_2km']]"
   ]
  },
  {
   "cell_type": "code",
   "execution_count": null,
   "id": "5655840b-0f95-4289-acb6-798a1737e74a",
   "metadata": {
    "tags": []
   },
   "outputs": [
    {
     "data": {
      "text/html": [
       "<div>\n",
       "<style scoped>\n",
       "    .dataframe tbody tr th:only-of-type {\n",
       "        vertical-align: middle;\n",
       "    }\n",
       "\n",
       "    .dataframe tbody tr th {\n",
       "        vertical-align: top;\n",
       "    }\n",
       "\n",
       "    .dataframe thead th {\n",
       "        text-align: right;\n",
       "    }\n",
       "</style>\n",
       "<table border=\"1\" class=\"dataframe\">\n",
       "  <thead>\n",
       "    <tr style=\"text-align: right;\">\n",
       "      <th></th>\n",
       "      <th>block</th>\n",
       "      <th>town</th>\n",
       "      <th>street_name</th>\n",
       "      <th>Hawker_Nearest_Distance</th>\n",
       "      <th>Hawker_Within_2km</th>\n",
       "    </tr>\n",
       "  </thead>\n",
       "  <tbody>\n",
       "    <tr>\n",
       "      <th>26</th>\n",
       "      <td>653A</td>\n",
       "      <td>JURONG WEST</td>\n",
       "      <td>JURONG WEST ST 61</td>\n",
       "      <td>2028.864896</td>\n",
       "      <td>NaN</td>\n",
       "    </tr>\n",
       "    <tr>\n",
       "      <th>27</th>\n",
       "      <td>291A</td>\n",
       "      <td>BUKIT BATOK</td>\n",
       "      <td>BT BATOK ST 24</td>\n",
       "      <td>2044.044484</td>\n",
       "      <td>NaN</td>\n",
       "    </tr>\n",
       "    <tr>\n",
       "      <th>30</th>\n",
       "      <td>417</td>\n",
       "      <td>CHOA CHU KANG</td>\n",
       "      <td>CHOA CHU KANG AVE 4</td>\n",
       "      <td>3472.690804</td>\n",
       "      <td>NaN</td>\n",
       "    </tr>\n",
       "    <tr>\n",
       "      <th>31</th>\n",
       "      <td>507C</td>\n",
       "      <td>SEMBAWANG</td>\n",
       "      <td>WELLINGTON CIRCLE</td>\n",
       "      <td>2278.363660</td>\n",
       "      <td>NaN</td>\n",
       "    </tr>\n",
       "    <tr>\n",
       "      <th>33</th>\n",
       "      <td>299B</td>\n",
       "      <td>SENGKANG</td>\n",
       "      <td>COMPASSVALE ST</td>\n",
       "      <td>3159.026726</td>\n",
       "      <td>NaN</td>\n",
       "    </tr>\n",
       "    <tr>\n",
       "      <th>...</th>\n",
       "      <td>...</td>\n",
       "      <td>...</td>\n",
       "      <td>...</td>\n",
       "      <td>...</td>\n",
       "      <td>...</td>\n",
       "    </tr>\n",
       "    <tr>\n",
       "      <th>150615</th>\n",
       "      <td>667A</td>\n",
       "      <td>PUNGGOL</td>\n",
       "      <td>PUNGGOL DR</td>\n",
       "      <td>4612.654746</td>\n",
       "      <td>NaN</td>\n",
       "    </tr>\n",
       "    <tr>\n",
       "      <th>150620</th>\n",
       "      <td>175D</td>\n",
       "      <td>PUNGGOL</td>\n",
       "      <td>PUNGGOL FIELD</td>\n",
       "      <td>3794.986446</td>\n",
       "      <td>NaN</td>\n",
       "    </tr>\n",
       "    <tr>\n",
       "      <th>150623</th>\n",
       "      <td>260C</td>\n",
       "      <td>SENGKANG</td>\n",
       "      <td>SENGKANG EAST WAY</td>\n",
       "      <td>2537.537184</td>\n",
       "      <td>NaN</td>\n",
       "    </tr>\n",
       "    <tr>\n",
       "      <th>150625</th>\n",
       "      <td>676B</td>\n",
       "      <td>PUNGGOL</td>\n",
       "      <td>PUNGGOL DR</td>\n",
       "      <td>4491.675680</td>\n",
       "      <td>NaN</td>\n",
       "    </tr>\n",
       "    <tr>\n",
       "      <th>150628</th>\n",
       "      <td>469C</td>\n",
       "      <td>SENGKANG</td>\n",
       "      <td>SENGKANG WEST WAY</td>\n",
       "      <td>2443.370839</td>\n",
       "      <td>NaN</td>\n",
       "    </tr>\n",
       "  </tbody>\n",
       "</table>\n",
       "<p>29202 rows × 5 columns</p>\n",
       "</div>"
      ],
      "text/plain": [
       "       block           town          street_name  Hawker_Nearest_Distance  \\\n",
       "26      653A    JURONG WEST    JURONG WEST ST 61              2028.864896   \n",
       "27      291A    BUKIT BATOK       BT BATOK ST 24              2044.044484   \n",
       "30       417  CHOA CHU KANG  CHOA CHU KANG AVE 4              3472.690804   \n",
       "31      507C      SEMBAWANG    WELLINGTON CIRCLE              2278.363660   \n",
       "33      299B       SENGKANG       COMPASSVALE ST              3159.026726   \n",
       "...      ...            ...                  ...                      ...   \n",
       "150615  667A        PUNGGOL           PUNGGOL DR              4612.654746   \n",
       "150620  175D        PUNGGOL        PUNGGOL FIELD              3794.986446   \n",
       "150623  260C       SENGKANG    SENGKANG EAST WAY              2537.537184   \n",
       "150625  676B        PUNGGOL           PUNGGOL DR              4491.675680   \n",
       "150628  469C       SENGKANG    SENGKANG WEST WAY              2443.370839   \n",
       "\n",
       "        Hawker_Within_2km  \n",
       "26                    NaN  \n",
       "27                    NaN  \n",
       "30                    NaN  \n",
       "31                    NaN  \n",
       "33                    NaN  \n",
       "...                   ...  \n",
       "150615                NaN  \n",
       "150620                NaN  \n",
       "150623                NaN  \n",
       "150625                NaN  \n",
       "150628                NaN  \n",
       "\n",
       "[29202 rows x 5 columns]"
      ]
     },
     "execution_count": 23,
     "metadata": {},
     "output_type": "execute_result"
    }
   ],
   "source": [
    "df[(df['Hawker_Within_2km'].isnull()) & ((df['Hawker_Nearest_Distance'] > 2000) | df['Hawker_Nearest_Distance'].isnull())][['block','town','street_name','Hawker_Nearest_Distance','Hawker_Within_2km']]"
   ]
  },
  {
   "cell_type": "markdown",
   "id": "eca24eb1-adb6-41be-ade9-93072f1cef59",
   "metadata": {},
   "source": [
    "Same thing as hawker_within_1km, all null values should be 0 instead."
   ]
  },
  {
   "cell_type": "code",
   "execution_count": null,
   "id": "e7d79b6b-12a5-42d6-a977-f2a1b6c14a74",
   "metadata": {
    "tags": []
   },
   "outputs": [],
   "source": [
    "df['Hawker_Within_2km'] = df['Hawker_Within_2km'].fillna(0)"
   ]
  },
  {
   "cell_type": "code",
   "execution_count": null,
   "id": "59a74786-a157-4d22-940f-3b71b655abc8",
   "metadata": {
    "tags": []
   },
   "outputs": [
    {
     "data": {
      "text/html": [
       "<div>\n",
       "<style scoped>\n",
       "    .dataframe tbody tr th:only-of-type {\n",
       "        vertical-align: middle;\n",
       "    }\n",
       "\n",
       "    .dataframe tbody tr th {\n",
       "        vertical-align: top;\n",
       "    }\n",
       "\n",
       "    .dataframe thead th {\n",
       "        text-align: right;\n",
       "    }\n",
       "</style>\n",
       "<table border=\"1\" class=\"dataframe\">\n",
       "  <thead>\n",
       "    <tr style=\"text-align: right;\">\n",
       "      <th></th>\n",
       "      <th>block</th>\n",
       "      <th>town</th>\n",
       "      <th>street_name</th>\n",
       "      <th>Hawker_Nearest_Distance</th>\n",
       "      <th>Hawker_Within_500m</th>\n",
       "    </tr>\n",
       "  </thead>\n",
       "  <tbody>\n",
       "  </tbody>\n",
       "</table>\n",
       "</div>"
      ],
      "text/plain": [
       "Empty DataFrame\n",
       "Columns: [block, town, street_name, Hawker_Nearest_Distance, Hawker_Within_500m]\n",
       "Index: []"
      ]
     },
     "execution_count": 25,
     "metadata": {},
     "output_type": "execute_result"
    }
   ],
   "source": [
    "df[(df['Hawker_Within_500m'].isnull()) & ((df['Hawker_Nearest_Distance'] < 500) | df['Hawker_Nearest_Distance'].isnull())][['block','town','street_name','Hawker_Nearest_Distance','Hawker_Within_500m']]"
   ]
  },
  {
   "cell_type": "code",
   "execution_count": null,
   "id": "20227d09-0a48-46b4-b254-58a0bfcade29",
   "metadata": {
    "tags": []
   },
   "outputs": [
    {
     "data": {
      "text/html": [
       "<div>\n",
       "<style scoped>\n",
       "    .dataframe tbody tr th:only-of-type {\n",
       "        vertical-align: middle;\n",
       "    }\n",
       "\n",
       "    .dataframe tbody tr th {\n",
       "        vertical-align: top;\n",
       "    }\n",
       "\n",
       "    .dataframe thead th {\n",
       "        text-align: right;\n",
       "    }\n",
       "</style>\n",
       "<table border=\"1\" class=\"dataframe\">\n",
       "  <thead>\n",
       "    <tr style=\"text-align: right;\">\n",
       "      <th></th>\n",
       "      <th>block</th>\n",
       "      <th>town</th>\n",
       "      <th>street_name</th>\n",
       "      <th>Hawker_Nearest_Distance</th>\n",
       "      <th>Hawker_Within_500m</th>\n",
       "    </tr>\n",
       "  </thead>\n",
       "  <tbody>\n",
       "    <tr>\n",
       "      <th>1</th>\n",
       "      <td>153</td>\n",
       "      <td>BISHAN</td>\n",
       "      <td>BISHAN ST 13</td>\n",
       "      <td>640.151925</td>\n",
       "      <td>NaN</td>\n",
       "    </tr>\n",
       "    <tr>\n",
       "      <th>2</th>\n",
       "      <td>289B</td>\n",
       "      <td>BUKIT BATOK</td>\n",
       "      <td>BT BATOK ST 25</td>\n",
       "      <td>1762.082341</td>\n",
       "      <td>NaN</td>\n",
       "    </tr>\n",
       "    <tr>\n",
       "      <th>3</th>\n",
       "      <td>232</td>\n",
       "      <td>BISHAN</td>\n",
       "      <td>BISHAN ST 22</td>\n",
       "      <td>726.215262</td>\n",
       "      <td>NaN</td>\n",
       "    </tr>\n",
       "    <tr>\n",
       "      <th>4</th>\n",
       "      <td>876</td>\n",
       "      <td>YISHUN</td>\n",
       "      <td>YISHUN ST 81</td>\n",
       "      <td>1540.151439</td>\n",
       "      <td>NaN</td>\n",
       "    </tr>\n",
       "    <tr>\n",
       "      <th>6</th>\n",
       "      <td>641</td>\n",
       "      <td>HOUGANG</td>\n",
       "      <td>HOUGANG AVE 8</td>\n",
       "      <td>516.981824</td>\n",
       "      <td>NaN</td>\n",
       "    </tr>\n",
       "    <tr>\n",
       "      <th>...</th>\n",
       "      <td>...</td>\n",
       "      <td>...</td>\n",
       "      <td>...</td>\n",
       "      <td>...</td>\n",
       "      <td>...</td>\n",
       "    </tr>\n",
       "    <tr>\n",
       "      <th>150628</th>\n",
       "      <td>469C</td>\n",
       "      <td>SENGKANG</td>\n",
       "      <td>SENGKANG WEST WAY</td>\n",
       "      <td>2443.370839</td>\n",
       "      <td>NaN</td>\n",
       "    </tr>\n",
       "    <tr>\n",
       "      <th>150629</th>\n",
       "      <td>849</td>\n",
       "      <td>WOODLANDS</td>\n",
       "      <td>WOODLANDS ST 82</td>\n",
       "      <td>973.725973</td>\n",
       "      <td>NaN</td>\n",
       "    </tr>\n",
       "    <tr>\n",
       "      <th>150630</th>\n",
       "      <td>648D</td>\n",
       "      <td>JURONG WEST</td>\n",
       "      <td>JURONG WEST ST 61</td>\n",
       "      <td>1807.769865</td>\n",
       "      <td>NaN</td>\n",
       "    </tr>\n",
       "    <tr>\n",
       "      <th>150631</th>\n",
       "      <td>639</td>\n",
       "      <td>BEDOK</td>\n",
       "      <td>BEDOK RESERVOIR RD</td>\n",
       "      <td>1076.260436</td>\n",
       "      <td>NaN</td>\n",
       "    </tr>\n",
       "    <tr>\n",
       "      <th>150633</th>\n",
       "      <td>666</td>\n",
       "      <td>YISHUN</td>\n",
       "      <td>YISHUN AVE 4</td>\n",
       "      <td>812.774934</td>\n",
       "      <td>NaN</td>\n",
       "    </tr>\n",
       "  </tbody>\n",
       "</table>\n",
       "<p>97390 rows × 5 columns</p>\n",
       "</div>"
      ],
      "text/plain": [
       "       block         town         street_name  Hawker_Nearest_Distance  \\\n",
       "1        153       BISHAN        BISHAN ST 13               640.151925   \n",
       "2       289B  BUKIT BATOK      BT BATOK ST 25              1762.082341   \n",
       "3        232       BISHAN        BISHAN ST 22               726.215262   \n",
       "4        876       YISHUN        YISHUN ST 81              1540.151439   \n",
       "6        641      HOUGANG       HOUGANG AVE 8               516.981824   \n",
       "...      ...          ...                 ...                      ...   \n",
       "150628  469C     SENGKANG   SENGKANG WEST WAY              2443.370839   \n",
       "150629   849    WOODLANDS     WOODLANDS ST 82               973.725973   \n",
       "150630  648D  JURONG WEST   JURONG WEST ST 61              1807.769865   \n",
       "150631   639        BEDOK  BEDOK RESERVOIR RD              1076.260436   \n",
       "150633   666       YISHUN        YISHUN AVE 4               812.774934   \n",
       "\n",
       "        Hawker_Within_500m  \n",
       "1                      NaN  \n",
       "2                      NaN  \n",
       "3                      NaN  \n",
       "4                      NaN  \n",
       "6                      NaN  \n",
       "...                    ...  \n",
       "150628                 NaN  \n",
       "150629                 NaN  \n",
       "150630                 NaN  \n",
       "150631                 NaN  \n",
       "150633                 NaN  \n",
       "\n",
       "[97390 rows x 5 columns]"
      ]
     },
     "execution_count": 26,
     "metadata": {},
     "output_type": "execute_result"
    }
   ],
   "source": [
    "df[(df['Hawker_Within_500m'].isnull()) & ((df['Hawker_Nearest_Distance'] > 500) | df['Hawker_Nearest_Distance'].isnull())][['block','town','street_name','Hawker_Nearest_Distance','Hawker_Within_500m']]"
   ]
  },
  {
   "cell_type": "markdown",
   "id": "8d85e120-c6c1-484e-8f70-2b69bf92c740",
   "metadata": {},
   "source": [
    "As expected, the NaN values are because there are no hawker centres within 500m. The NaN values should be 0 instead."
   ]
  },
  {
   "cell_type": "code",
   "execution_count": null,
   "id": "f4eec66c-e25c-4733-9d43-31059dc40128",
   "metadata": {
    "tags": []
   },
   "outputs": [],
   "source": [
    "df['Hawker_Within_500m'] = df['Hawker_Within_500m'].fillna(0)"
   ]
  },
  {
   "cell_type": "code",
   "execution_count": null,
   "id": "7c4bad8c-1212-4c4d-b441-e59b433e0dc7",
   "metadata": {
    "tags": []
   },
   "outputs": [
    {
     "data": {
      "text/html": [
       "<div>\n",
       "<style scoped>\n",
       "    .dataframe tbody tr th:only-of-type {\n",
       "        vertical-align: middle;\n",
       "    }\n",
       "\n",
       "    .dataframe tbody tr th {\n",
       "        vertical-align: top;\n",
       "    }\n",
       "\n",
       "    .dataframe thead th {\n",
       "        text-align: right;\n",
       "    }\n",
       "</style>\n",
       "<table border=\"1\" class=\"dataframe\">\n",
       "  <thead>\n",
       "    <tr style=\"text-align: right;\">\n",
       "      <th></th>\n",
       "      <th>col</th>\n",
       "      <th>num_nulls</th>\n",
       "      <th>%nulls</th>\n",
       "    </tr>\n",
       "  </thead>\n",
       "  <tbody>\n",
       "    <tr>\n",
       "      <th>45</th>\n",
       "      <td>Mall_Nearest_Distance</td>\n",
       "      <td>829</td>\n",
       "      <td>0.550341</td>\n",
       "    </tr>\n",
       "  </tbody>\n",
       "</table>\n",
       "</div>"
      ],
      "text/plain": [
       "                      col  num_nulls    %nulls\n",
       "45  Mall_Nearest_Distance        829  0.550341"
      ]
     },
     "execution_count": 28,
     "metadata": {},
     "output_type": "execute_result"
    }
   ],
   "source": [
    "percent_missing(df)"
   ]
  },
  {
   "cell_type": "markdown",
   "id": "5f9fcc19-9efa-4848-b06b-e96dc1091576",
   "metadata": {},
   "source": [
    "We are now left with one column with missing values."
   ]
  },
  {
   "cell_type": "code",
   "execution_count": null,
   "id": "97a51cb3-4604-4ac1-a06f-0ec05c169c72",
   "metadata": {
    "scrolled": true,
    "tags": []
   },
   "outputs": [
    {
     "data": {
      "text/html": [
       "<div>\n",
       "<style scoped>\n",
       "    .dataframe tbody tr th:only-of-type {\n",
       "        vertical-align: middle;\n",
       "    }\n",
       "\n",
       "    .dataframe tbody tr th {\n",
       "        vertical-align: top;\n",
       "    }\n",
       "\n",
       "    .dataframe thead th {\n",
       "        text-align: right;\n",
       "    }\n",
       "</style>\n",
       "<table border=\"1\" class=\"dataframe\">\n",
       "  <thead>\n",
       "    <tr style=\"text-align: right;\">\n",
       "      <th></th>\n",
       "      <th>id</th>\n",
       "      <th>Tranc_YearMonth</th>\n",
       "      <th>town</th>\n",
       "      <th>flat_type</th>\n",
       "      <th>block</th>\n",
       "      <th>street_name</th>\n",
       "      <th>storey_range</th>\n",
       "      <th>floor_area_sqm</th>\n",
       "      <th>flat_model</th>\n",
       "      <th>lease_commence_date</th>\n",
       "      <th>...</th>\n",
       "      <th>vacancy</th>\n",
       "      <th>pri_sch_affiliation</th>\n",
       "      <th>pri_sch_latitude</th>\n",
       "      <th>pri_sch_longitude</th>\n",
       "      <th>sec_sch_nearest_dist</th>\n",
       "      <th>sec_sch_name</th>\n",
       "      <th>cutoff_point</th>\n",
       "      <th>affiliation</th>\n",
       "      <th>sec_sch_latitude</th>\n",
       "      <th>sec_sch_longitude</th>\n",
       "    </tr>\n",
       "  </thead>\n",
       "  <tbody>\n",
       "    <tr>\n",
       "      <th>75</th>\n",
       "      <td>163384</td>\n",
       "      <td>2021-04</td>\n",
       "      <td>SENGKANG</td>\n",
       "      <td>4 ROOM</td>\n",
       "      <td>468A</td>\n",
       "      <td>FERNVALE LINK</td>\n",
       "      <td>19 TO 21</td>\n",
       "      <td>93.0</td>\n",
       "      <td>Model A</td>\n",
       "      <td>2016</td>\n",
       "      <td>...</td>\n",
       "      <td>83</td>\n",
       "      <td>0</td>\n",
       "      <td>1.397621</td>\n",
       "      <td>103.880210</td>\n",
       "      <td>789.399776</td>\n",
       "      <td>Pei Hwa Secondary School</td>\n",
       "      <td>219</td>\n",
       "      <td>0</td>\n",
       "      <td>1.390380</td>\n",
       "      <td>103.878593</td>\n",
       "    </tr>\n",
       "    <tr>\n",
       "      <th>321</th>\n",
       "      <td>163733</td>\n",
       "      <td>2021-03</td>\n",
       "      <td>CHOA CHU KANG</td>\n",
       "      <td>4 ROOM</td>\n",
       "      <td>815C</td>\n",
       "      <td>CHOA CHU KANG AVE 7</td>\n",
       "      <td>19 TO 21</td>\n",
       "      <td>93.0</td>\n",
       "      <td>Model A</td>\n",
       "      <td>2017</td>\n",
       "      <td>...</td>\n",
       "      <td>38</td>\n",
       "      <td>0</td>\n",
       "      <td>1.381767</td>\n",
       "      <td>103.747290</td>\n",
       "      <td>926.560287</td>\n",
       "      <td>Chua Chu Kang Secondary School</td>\n",
       "      <td>211</td>\n",
       "      <td>0</td>\n",
       "      <td>1.383275</td>\n",
       "      <td>103.752025</td>\n",
       "    </tr>\n",
       "    <tr>\n",
       "      <th>478</th>\n",
       "      <td>68334</td>\n",
       "      <td>2021-02</td>\n",
       "      <td>GEYLANG</td>\n",
       "      <td>3 ROOM</td>\n",
       "      <td>18B</td>\n",
       "      <td>CIRCUIT RD</td>\n",
       "      <td>01 TO 03</td>\n",
       "      <td>67.0</td>\n",
       "      <td>Model A</td>\n",
       "      <td>2016</td>\n",
       "      <td>...</td>\n",
       "      <td>47</td>\n",
       "      <td>1</td>\n",
       "      <td>1.326511</td>\n",
       "      <td>103.881757</td>\n",
       "      <td>1366.262344</td>\n",
       "      <td>Bartley Secondary School</td>\n",
       "      <td>188</td>\n",
       "      <td>0</td>\n",
       "      <td>1.340017</td>\n",
       "      <td>103.882455</td>\n",
       "    </tr>\n",
       "    <tr>\n",
       "      <th>643</th>\n",
       "      <td>68382</td>\n",
       "      <td>2021-02</td>\n",
       "      <td>PUNGGOL</td>\n",
       "      <td>4 ROOM</td>\n",
       "      <td>122A</td>\n",
       "      <td>EDGEDALE PLAINS</td>\n",
       "      <td>10 TO 12</td>\n",
       "      <td>93.0</td>\n",
       "      <td>Model A</td>\n",
       "      <td>2017</td>\n",
       "      <td>...</td>\n",
       "      <td>93</td>\n",
       "      <td>1</td>\n",
       "      <td>1.394854</td>\n",
       "      <td>103.908573</td>\n",
       "      <td>501.165620</td>\n",
       "      <td>Greendale Secondary School</td>\n",
       "      <td>203</td>\n",
       "      <td>0</td>\n",
       "      <td>1.397281</td>\n",
       "      <td>103.911576</td>\n",
       "    </tr>\n",
       "    <tr>\n",
       "      <th>691</th>\n",
       "      <td>68193</td>\n",
       "      <td>2020-12</td>\n",
       "      <td>CLEMENTI</td>\n",
       "      <td>3 ROOM</td>\n",
       "      <td>440A</td>\n",
       "      <td>CLEMENTI AVE 3</td>\n",
       "      <td>10 TO 12</td>\n",
       "      <td>69.0</td>\n",
       "      <td>Model A</td>\n",
       "      <td>2018</td>\n",
       "      <td>...</td>\n",
       "      <td>75</td>\n",
       "      <td>0</td>\n",
       "      <td>1.315809</td>\n",
       "      <td>103.763055</td>\n",
       "      <td>241.034822</td>\n",
       "      <td>Clementi Town Secondary School</td>\n",
       "      <td>231</td>\n",
       "      <td>0</td>\n",
       "      <td>1.315475</td>\n",
       "      <td>103.762079</td>\n",
       "    </tr>\n",
       "    <tr>\n",
       "      <th>...</th>\n",
       "      <td>...</td>\n",
       "      <td>...</td>\n",
       "      <td>...</td>\n",
       "      <td>...</td>\n",
       "      <td>...</td>\n",
       "      <td>...</td>\n",
       "      <td>...</td>\n",
       "      <td>...</td>\n",
       "      <td>...</td>\n",
       "      <td>...</td>\n",
       "      <td>...</td>\n",
       "      <td>...</td>\n",
       "      <td>...</td>\n",
       "      <td>...</td>\n",
       "      <td>...</td>\n",
       "      <td>...</td>\n",
       "      <td>...</td>\n",
       "      <td>...</td>\n",
       "      <td>...</td>\n",
       "      <td>...</td>\n",
       "      <td>...</td>\n",
       "    </tr>\n",
       "    <tr>\n",
       "      <th>150296</th>\n",
       "      <td>68302</td>\n",
       "      <td>2021-01</td>\n",
       "      <td>PUNGGOL</td>\n",
       "      <td>3 ROOM</td>\n",
       "      <td>315A</td>\n",
       "      <td>PUNGGOL WAY</td>\n",
       "      <td>13 TO 15</td>\n",
       "      <td>68.0</td>\n",
       "      <td>Premium Apartment</td>\n",
       "      <td>2017</td>\n",
       "      <td>...</td>\n",
       "      <td>110</td>\n",
       "      <td>0</td>\n",
       "      <td>1.406871</td>\n",
       "      <td>103.898911</td>\n",
       "      <td>1067.082939</td>\n",
       "      <td>Edgefield Secondary School</td>\n",
       "      <td>226</td>\n",
       "      <td>0</td>\n",
       "      <td>1.400179</td>\n",
       "      <td>103.902141</td>\n",
       "    </tr>\n",
       "    <tr>\n",
       "      <th>150388</th>\n",
       "      <td>163799</td>\n",
       "      <td>2021-02</td>\n",
       "      <td>PUNGGOL</td>\n",
       "      <td>5 ROOM</td>\n",
       "      <td>676C</td>\n",
       "      <td>PUNGGOL DR</td>\n",
       "      <td>13 TO 15</td>\n",
       "      <td>113.0</td>\n",
       "      <td>Premium Apartment</td>\n",
       "      <td>2016</td>\n",
       "      <td>...</td>\n",
       "      <td>57</td>\n",
       "      <td>0</td>\n",
       "      <td>1.404409</td>\n",
       "      <td>103.910996</td>\n",
       "      <td>391.955268</td>\n",
       "      <td>Punggol Secondary School</td>\n",
       "      <td>194</td>\n",
       "      <td>0</td>\n",
       "      <td>1.402126</td>\n",
       "      <td>103.909119</td>\n",
       "    </tr>\n",
       "    <tr>\n",
       "      <th>150394</th>\n",
       "      <td>163287</td>\n",
       "      <td>2021-01</td>\n",
       "      <td>PUNGGOL</td>\n",
       "      <td>4 ROOM</td>\n",
       "      <td>678A</td>\n",
       "      <td>PUNGGOL DR</td>\n",
       "      <td>10 TO 12</td>\n",
       "      <td>93.0</td>\n",
       "      <td>Premium Apartment</td>\n",
       "      <td>2016</td>\n",
       "      <td>...</td>\n",
       "      <td>57</td>\n",
       "      <td>0</td>\n",
       "      <td>1.404409</td>\n",
       "      <td>103.910996</td>\n",
       "      <td>395.677442</td>\n",
       "      <td>Punggol Secondary School</td>\n",
       "      <td>194</td>\n",
       "      <td>0</td>\n",
       "      <td>1.402126</td>\n",
       "      <td>103.909119</td>\n",
       "    </tr>\n",
       "    <tr>\n",
       "      <th>150479</th>\n",
       "      <td>163674</td>\n",
       "      <td>2021-04</td>\n",
       "      <td>PUNGGOL</td>\n",
       "      <td>4 ROOM</td>\n",
       "      <td>677B</td>\n",
       "      <td>PUNGGOL DR</td>\n",
       "      <td>13 TO 15</td>\n",
       "      <td>93.0</td>\n",
       "      <td>Premium Apartment</td>\n",
       "      <td>2016</td>\n",
       "      <td>...</td>\n",
       "      <td>57</td>\n",
       "      <td>0</td>\n",
       "      <td>1.404409</td>\n",
       "      <td>103.910996</td>\n",
       "      <td>362.688469</td>\n",
       "      <td>Punggol Secondary School</td>\n",
       "      <td>194</td>\n",
       "      <td>0</td>\n",
       "      <td>1.402126</td>\n",
       "      <td>103.909119</td>\n",
       "    </tr>\n",
       "    <tr>\n",
       "      <th>150625</th>\n",
       "      <td>163670</td>\n",
       "      <td>2021-04</td>\n",
       "      <td>PUNGGOL</td>\n",
       "      <td>5 ROOM</td>\n",
       "      <td>676B</td>\n",
       "      <td>PUNGGOL DR</td>\n",
       "      <td>16 TO 18</td>\n",
       "      <td>113.0</td>\n",
       "      <td>Premium Apartment</td>\n",
       "      <td>2016</td>\n",
       "      <td>...</td>\n",
       "      <td>57</td>\n",
       "      <td>0</td>\n",
       "      <td>1.404409</td>\n",
       "      <td>103.910996</td>\n",
       "      <td>330.498161</td>\n",
       "      <td>Punggol Secondary School</td>\n",
       "      <td>194</td>\n",
       "      <td>0</td>\n",
       "      <td>1.402126</td>\n",
       "      <td>103.909119</td>\n",
       "    </tr>\n",
       "  </tbody>\n",
       "</table>\n",
       "<p>829 rows × 77 columns</p>\n",
       "</div>"
      ],
      "text/plain": [
       "            id Tranc_YearMonth           town flat_type block  \\\n",
       "75      163384         2021-04       SENGKANG    4 ROOM  468A   \n",
       "321     163733         2021-03  CHOA CHU KANG    4 ROOM  815C   \n",
       "478      68334         2021-02        GEYLANG    3 ROOM   18B   \n",
       "643      68382         2021-02        PUNGGOL    4 ROOM  122A   \n",
       "691      68193         2020-12       CLEMENTI    3 ROOM  440A   \n",
       "...        ...             ...            ...       ...   ...   \n",
       "150296   68302         2021-01        PUNGGOL    3 ROOM  315A   \n",
       "150388  163799         2021-02        PUNGGOL    5 ROOM  676C   \n",
       "150394  163287         2021-01        PUNGGOL    4 ROOM  678A   \n",
       "150479  163674         2021-04        PUNGGOL    4 ROOM  677B   \n",
       "150625  163670         2021-04        PUNGGOL    5 ROOM  676B   \n",
       "\n",
       "                street_name storey_range  floor_area_sqm         flat_model  \\\n",
       "75            FERNVALE LINK     19 TO 21            93.0            Model A   \n",
       "321     CHOA CHU KANG AVE 7     19 TO 21            93.0            Model A   \n",
       "478              CIRCUIT RD     01 TO 03            67.0            Model A   \n",
       "643         EDGEDALE PLAINS     10 TO 12            93.0            Model A   \n",
       "691          CLEMENTI AVE 3     10 TO 12            69.0            Model A   \n",
       "...                     ...          ...             ...                ...   \n",
       "150296          PUNGGOL WAY     13 TO 15            68.0  Premium Apartment   \n",
       "150388           PUNGGOL DR     13 TO 15           113.0  Premium Apartment   \n",
       "150394           PUNGGOL DR     10 TO 12            93.0  Premium Apartment   \n",
       "150479           PUNGGOL DR     13 TO 15            93.0  Premium Apartment   \n",
       "150625           PUNGGOL DR     16 TO 18           113.0  Premium Apartment   \n",
       "\n",
       "        lease_commence_date  ...  vacancy  pri_sch_affiliation  \\\n",
       "75                     2016  ...       83                    0   \n",
       "321                    2017  ...       38                    0   \n",
       "478                    2016  ...       47                    1   \n",
       "643                    2017  ...       93                    1   \n",
       "691                    2018  ...       75                    0   \n",
       "...                     ...  ...      ...                  ...   \n",
       "150296                 2017  ...      110                    0   \n",
       "150388                 2016  ...       57                    0   \n",
       "150394                 2016  ...       57                    0   \n",
       "150479                 2016  ...       57                    0   \n",
       "150625                 2016  ...       57                    0   \n",
       "\n",
       "        pri_sch_latitude  pri_sch_longitude  sec_sch_nearest_dist  \\\n",
       "75              1.397621         103.880210            789.399776   \n",
       "321             1.381767         103.747290            926.560287   \n",
       "478             1.326511         103.881757           1366.262344   \n",
       "643             1.394854         103.908573            501.165620   \n",
       "691             1.315809         103.763055            241.034822   \n",
       "...                  ...                ...                   ...   \n",
       "150296          1.406871         103.898911           1067.082939   \n",
       "150388          1.404409         103.910996            391.955268   \n",
       "150394          1.404409         103.910996            395.677442   \n",
       "150479          1.404409         103.910996            362.688469   \n",
       "150625          1.404409         103.910996            330.498161   \n",
       "\n",
       "                          sec_sch_name  cutoff_point affiliation  \\\n",
       "75            Pei Hwa Secondary School           219           0   \n",
       "321     Chua Chu Kang Secondary School           211           0   \n",
       "478           Bartley Secondary School           188           0   \n",
       "643         Greendale Secondary School           203           0   \n",
       "691     Clementi Town Secondary School           231           0   \n",
       "...                                ...           ...         ...   \n",
       "150296      Edgefield Secondary School           226           0   \n",
       "150388        Punggol Secondary School           194           0   \n",
       "150394        Punggol Secondary School           194           0   \n",
       "150479        Punggol Secondary School           194           0   \n",
       "150625        Punggol Secondary School           194           0   \n",
       "\n",
       "       sec_sch_latitude  sec_sch_longitude  \n",
       "75             1.390380         103.878593  \n",
       "321            1.383275         103.752025  \n",
       "478            1.340017         103.882455  \n",
       "643            1.397281         103.911576  \n",
       "691            1.315475         103.762079  \n",
       "...                 ...                ...  \n",
       "150296         1.400179         103.902141  \n",
       "150388         1.402126         103.909119  \n",
       "150394         1.402126         103.909119  \n",
       "150479         1.402126         103.909119  \n",
       "150625         1.402126         103.909119  \n",
       "\n",
       "[829 rows x 77 columns]"
      ]
     },
     "execution_count": 29,
     "metadata": {},
     "output_type": "execute_result"
    }
   ],
   "source": [
    "df[df['Mall_Nearest_Distance'].isnull()]"
   ]
  },
  {
   "cell_type": "markdown",
   "id": "d414604e-1160-4296-81f2-ec4222b59366",
   "metadata": {},
   "source": [
    "Looking at the null values for the Mall_Nearest_Distance column, we can either remove the rows at is only 0.55% of the entire dataset, but I think imputing the missing values with the median value of the feature makes sense."
   ]
  },
  {
   "cell_type": "markdown",
   "id": "d3c0db84-2bb2-4416-ab06-369b78eb64d1",
   "metadata": {},
   "source": [
    "Knowing this, I will impute the missing values after my train test split to avoid data leakage."
   ]
  },
  {
   "cell_type": "markdown",
   "id": "47a29d88-0e57-4333-b0a8-c2bcbde70b2f",
   "metadata": {},
   "source": [
    "## Checking Categorical Columns"
   ]
  },
  {
   "cell_type": "code",
   "execution_count": null,
   "id": "51963d8c-324f-4742-953a-7db646f329bd",
   "metadata": {
    "tags": []
   },
   "outputs": [],
   "source": [
    "df_objs = df.select_dtypes(include='object')"
   ]
  },
  {
   "cell_type": "markdown",
   "id": "ee5fe805-0137-40b0-95bb-891fe800c461",
   "metadata": {},
   "source": [
    "* Identifying categorical columns, to either remove or dummify them."
   ]
  },
  {
   "cell_type": "code",
   "execution_count": null,
   "id": "6aebb375-a3bf-428b-9c7a-7cccb579350d",
   "metadata": {
    "tags": []
   },
   "outputs": [
    {
     "name": "stdout",
     "output_type": "stream",
     "text": [
      "<class 'pandas.core.frame.DataFrame'>\n",
      "RangeIndex: 150634 entries, 0 to 150633\n",
      "Data columns (total 20 columns):\n",
      " #   Column               Non-Null Count   Dtype \n",
      "---  ------               --------------   ----- \n",
      " 0   Tranc_YearMonth      150634 non-null  object\n",
      " 1   town                 150634 non-null  object\n",
      " 2   flat_type            150634 non-null  object\n",
      " 3   block                150634 non-null  object\n",
      " 4   street_name          150634 non-null  object\n",
      " 5   storey_range         150634 non-null  object\n",
      " 6   flat_model           150634 non-null  object\n",
      " 7   full_flat_type       150634 non-null  object\n",
      " 8   address              150634 non-null  object\n",
      " 9   residential          150634 non-null  object\n",
      " 10  commercial           150634 non-null  object\n",
      " 11  market_hawker        150634 non-null  object\n",
      " 12  multistorey_carpark  150634 non-null  object\n",
      " 13  precinct_pavilion    150634 non-null  object\n",
      " 14  postal               150634 non-null  object\n",
      " 15  planning_area        150634 non-null  object\n",
      " 16  mrt_name             150634 non-null  object\n",
      " 17  bus_stop_name        150634 non-null  object\n",
      " 18  pri_sch_name         150634 non-null  object\n",
      " 19  sec_sch_name         150634 non-null  object\n",
      "dtypes: object(20)\n",
      "memory usage: 23.0+ MB\n"
     ]
    }
   ],
   "source": [
    "df_objs.info()"
   ]
  },
  {
   "cell_type": "code",
   "execution_count": null,
   "id": "9be13067-187a-4561-b926-f1f47f10f76c",
   "metadata": {
    "tags": []
   },
   "outputs": [],
   "source": [
    "def unique(column_name):\n",
    "    return df[column_name].unique()"
   ]
  },
  {
   "cell_type": "markdown",
   "id": "b91fb378-5771-4951-a0ac-cfaaf3d61149",
   "metadata": {},
   "source": [
    "Creating a function to make checking unique values of each column quicker."
   ]
  },
  {
   "cell_type": "code",
   "execution_count": null,
   "id": "a368b322-72f9-4b04-8487-e62fe204eae7",
   "metadata": {
    "scrolled": true,
    "tags": []
   },
   "outputs": [
    {
     "data": {
      "text/plain": [
       "array(['2016-05', '2012-07', '2013-07', '2012-04', '2017-12', '2013-01',\n",
       "       '2018-05', '2012-03', '2020-01', '2014-06', '2013-06', '2018-03',\n",
       "       '2017-07', '2015-08', '2019-10', '2018-01', '2020-11', '2015-12',\n",
       "       '2017-08', '2015-07', '2019-04', '2019-08', '2020-06', '2020-07',\n",
       "       '2017-09', '2016-03', '2012-11', '2012-12', '2018-11', '2013-04',\n",
       "       '2020-12', '2019-03', '2017-04', '2016-12', '2021-04', '2012-10',\n",
       "       '2014-07', '2018-04', '2017-01', '2015-04', '2012-06', '2013-08',\n",
       "       '2019-07', '2017-02', '2020-08', '2017-10', '2020-10', '2015-01',\n",
       "       '2020-02', '2019-01', '2019-09', '2016-06', '2016-08', '2018-12',\n",
       "       '2018-07', '2015-03', '2012-05', '2014-04', '2014-09', '2014-12',\n",
       "       '2015-09', '2017-11', '2020-03', '2015-06', '2012-09', '2014-11',\n",
       "       '2014-05', '2021-01', '2012-08', '2016-04', '2013-05', '2016-02',\n",
       "       '2016-01', '2018-02', '2014-10', '2021-02', '2017-06', '2014-03',\n",
       "       '2018-06', '2019-02', '2020-04', '2021-03', '2016-09', '2019-11',\n",
       "       '2016-11', '2015-02', '2018-08', '2013-10', '2019-06', '2017-03',\n",
       "       '2020-09', '2013-11', '2013-03', '2016-07', '2014-08', '2019-12',\n",
       "       '2018-10', '2015-11', '2014-02', '2015-10', '2013-02', '2019-05',\n",
       "       '2015-05', '2017-05', '2013-09', '2016-10', '2018-09', '2014-01',\n",
       "       '2020-05', '2013-12'], dtype=object)"
      ]
     },
     "execution_count": 33,
     "metadata": {},
     "output_type": "execute_result"
    }
   ],
   "source": [
    "unique('Tranc_YearMonth')"
   ]
  },
  {
   "cell_type": "markdown",
   "id": "b1b83582-c8b5-4f41-9830-95344f42bb9e",
   "metadata": {},
   "source": [
    "For Tranc_YearMonth, we can remove this column as there are two other columns with tranc year and tranc month individually. This is a redundant column."
   ]
  },
  {
   "cell_type": "code",
   "execution_count": null,
   "id": "02602cf6-4ca9-4b6e-b873-bea668a90559",
   "metadata": {
    "tags": []
   },
   "outputs": [],
   "source": [
    "df_objs = df_objs.drop('Tranc_YearMonth', axis = 1)"
   ]
  },
  {
   "cell_type": "code",
   "execution_count": null,
   "id": "204c7858-15af-448f-81bb-17c00f664fbf",
   "metadata": {
    "tags": []
   },
   "outputs": [
    {
     "data": {
      "text/plain": [
       "array(['KALLANG/WHAMPOA', 'BISHAN', 'BUKIT BATOK', 'YISHUN', 'GEYLANG',\n",
       "       'HOUGANG', 'BEDOK', 'SENGKANG', 'TAMPINES', 'SERANGOON',\n",
       "       'BUKIT MERAH', 'BUKIT PANJANG', 'WOODLANDS', 'JURONG WEST',\n",
       "       'TOA PAYOH', 'CHOA CHU KANG', 'SEMBAWANG', 'ANG MO KIO',\n",
       "       'PASIR RIS', 'CLEMENTI', 'PUNGGOL', 'JURONG EAST', 'CENTRAL AREA',\n",
       "       'QUEENSTOWN', 'BUKIT TIMAH', 'MARINE PARADE'], dtype=object)"
      ]
     },
     "execution_count": 35,
     "metadata": {},
     "output_type": "execute_result"
    }
   ],
   "source": [
    "unique('town')"
   ]
  },
  {
   "cell_type": "code",
   "execution_count": null,
   "id": "0a5e0a50-dbcb-48bd-8ca4-7a2c33cef47f",
   "metadata": {
    "tags": []
   },
   "outputs": [
    {
     "data": {
      "text/plain": [
       "array(['4 ROOM', '5 ROOM', 'EXECUTIVE', '3 ROOM', '2 ROOM', '1 ROOM',\n",
       "       'MULTI-GENERATION'], dtype=object)"
      ]
     },
     "execution_count": 36,
     "metadata": {},
     "output_type": "execute_result"
    }
   ],
   "source": [
    "unique('flat_type')"
   ]
  },
  {
   "cell_type": "markdown",
   "id": "6e930ad7-bcbd-4fde-9f63-21911c01b107",
   "metadata": {},
   "source": [
    "For town and flat_type we will dummify the value."
   ]
  },
  {
   "cell_type": "code",
   "execution_count": null,
   "id": "139252ca-5aa5-42b8-b573-b8e8001a0d0f",
   "metadata": {
    "tags": []
   },
   "outputs": [
    {
     "data": {
      "text/plain": [
       "2514"
      ]
     },
     "execution_count": 37,
     "metadata": {},
     "output_type": "execute_result"
    }
   ],
   "source": [
    "len(unique('block'))"
   ]
  },
  {
   "cell_type": "code",
   "execution_count": null,
   "id": "14bde4c9-b122-4dab-a876-f75e639160a4",
   "metadata": {},
   "outputs": [],
   "source": [
    "df_objs = df_objs.drop('block', axis = 1)"
   ]
  },
  {
   "cell_type": "markdown",
   "id": "3b053122-46a8-4907-804b-68161948d515",
   "metadata": {},
   "source": [
    "There are too many values to dummify for block, I will remove this column as there many other columns which are location related such as town, etc."
   ]
  },
  {
   "cell_type": "code",
   "execution_count": null,
   "id": "e3bb8a9b-f58c-4c86-a173-d0758c221fe0",
   "metadata": {
    "tags": []
   },
   "outputs": [
    {
     "data": {
      "text/plain": [
       "553"
      ]
     },
     "execution_count": 39,
     "metadata": {},
     "output_type": "execute_result"
    }
   ],
   "source": [
    "len(unique('street_name'))"
   ]
  },
  {
   "cell_type": "markdown",
   "id": "1514cc38-b843-4edc-9b55-119cae2885d5",
   "metadata": {},
   "source": [
    "There are too many values to dummify for street_name, I will remove this column as there many other columns which are location related such as town, etc."
   ]
  },
  {
   "cell_type": "code",
   "execution_count": null,
   "id": "e6929b80-16a8-40af-9831-d6e84821732d",
   "metadata": {},
   "outputs": [],
   "source": [
    "df_objs = df_objs.drop('street_name', axis = 1)"
   ]
  },
  {
   "cell_type": "code",
   "execution_count": null,
   "id": "e8d103b8-4c7a-4cf5-8dc6-c17a74f1457b",
   "metadata": {
    "tags": []
   },
   "outputs": [
    {
     "data": {
      "text/plain": [
       "array(['10 TO 12', '07 TO 09', '13 TO 15', '01 TO 05', '01 TO 03',\n",
       "       '06 TO 10', '28 TO 30', '19 TO 21', '04 TO 06', '16 TO 18',\n",
       "       '22 TO 24', '16 TO 20', '34 TO 36', '25 TO 27', '11 TO 15',\n",
       "       '37 TO 39', '31 TO 33', '43 TO 45', '40 TO 42', '21 TO 25',\n",
       "       '49 TO 51', '46 TO 48', '26 TO 30', '36 TO 40', '31 TO 35'],\n",
       "      dtype=object)"
      ]
     },
     "execution_count": 41,
     "metadata": {},
     "output_type": "execute_result"
    }
   ],
   "source": [
    "unique('storey_range')"
   ]
  },
  {
   "cell_type": "markdown",
   "id": "c8c7b4a3-768b-425c-ab59-6403fe39d5ba",
   "metadata": {},
   "source": [
    "I will dummify the storey_range column."
   ]
  },
  {
   "cell_type": "code",
   "execution_count": null,
   "id": "6f8aa5bf-28cc-4da7-a5b3-d088b0617537",
   "metadata": {
    "tags": []
   },
   "outputs": [
    {
     "data": {
      "text/plain": [
       "array(['Model A', 'Improved', 'Apartment', 'Simplified', 'New Generation',\n",
       "       'Premium Apartment', 'Model A2', 'Maisonette', 'Standard', 'DBSS',\n",
       "       'Terrace', 'Model A-Maisonette', 'Type S1',\n",
       "       'Premium Apartment Loft', 'Adjoined flat', 'Multi Generation',\n",
       "       'Type S2', 'Premium Maisonette', 'Improved-Maisonette', '2-room'],\n",
       "      dtype=object)"
      ]
     },
     "execution_count": 42,
     "metadata": {},
     "output_type": "execute_result"
    }
   ],
   "source": [
    "unique('flat_model')"
   ]
  },
  {
   "cell_type": "markdown",
   "id": "19ab4d6f-c6c1-4293-898c-6be8affa6af6",
   "metadata": {
    "tags": []
   },
   "source": [
    "I will dummify the flat_model column."
   ]
  },
  {
   "cell_type": "code",
   "execution_count": null,
   "id": "c16b41c6-f26e-4e5e-892d-4d4073b4255c",
   "metadata": {
    "tags": []
   },
   "outputs": [
    {
     "data": {
      "text/plain": [
       "array(['4 ROOM Model A', '5 ROOM Improved', 'EXECUTIVE Apartment',\n",
       "       '4 ROOM Simplified', '3 ROOM Improved', '3 ROOM New Generation',\n",
       "       '4 ROOM Premium Apartment', '3 ROOM Model A',\n",
       "       '5 ROOM Premium Apartment', '4 ROOM Model A2', '5 ROOM Model A',\n",
       "       'EXECUTIVE Maisonette', '4 ROOM New Generation',\n",
       "       'EXECUTIVE Premium Apartment', '4 ROOM Improved',\n",
       "       '2 ROOM Standard', '3 ROOM Standard', '3 ROOM Simplified',\n",
       "       '2 ROOM Improved', '5 ROOM Standard', '3 ROOM Premium Apartment',\n",
       "       '2 ROOM Model A', '4 ROOM DBSS', '3 ROOM Terrace', '3 ROOM DBSS',\n",
       "       '5 ROOM DBSS', '5 ROOM Model A-Maisonette', '4 ROOM Type S1',\n",
       "       '1 ROOM Improved', '4 ROOM Premium Apartment Loft',\n",
       "       'EXECUTIVE Adjoined flat', '4 ROOM Terrace',\n",
       "       'MULTI-GENERATION Multi Generation', '4 ROOM Standard',\n",
       "       '5 ROOM Type S2', '5 ROOM Adjoined flat',\n",
       "       '5 ROOM Premium Apartment Loft', '4 ROOM Adjoined flat',\n",
       "       'EXECUTIVE Premium Maisonette', '2 ROOM Premium Apartment',\n",
       "       '5 ROOM Improved-Maisonette', '2 ROOM 2-room', '2 ROOM DBSS'],\n",
       "      dtype=object)"
      ]
     },
     "execution_count": 43,
     "metadata": {},
     "output_type": "execute_result"
    }
   ],
   "source": [
    "unique('full_flat_type')"
   ]
  },
  {
   "cell_type": "markdown",
   "id": "f1a086ac-4d67-48f8-80a5-8bf7c6d8ceb3",
   "metadata": {},
   "source": [
    "From the data dictionary, full_flat_type is a combination of two existing columns (i.e. flat_type and flat_model). Therefore, this column is redundant, I will remove this column."
   ]
  },
  {
   "cell_type": "code",
   "execution_count": null,
   "id": "5057b74e-bd8a-4917-a0d8-b37d9323541d",
   "metadata": {
    "tags": []
   },
   "outputs": [],
   "source": [
    "df_objs = df_objs.drop('full_flat_type', axis = 1)"
   ]
  },
  {
   "cell_type": "code",
   "execution_count": null,
   "id": "30757360-81eb-4cab-a614-2f8af3e0eda8",
   "metadata": {
    "tags": []
   },
   "outputs": [
    {
     "data": {
      "text/plain": [
       "9157"
      ]
     },
     "execution_count": 45,
     "metadata": {},
     "output_type": "execute_result"
    }
   ],
   "source": [
    "len(unique('address'))"
   ]
  },
  {
   "cell_type": "markdown",
   "id": "bcaed3ef-5378-4075-b42a-f29c1f9fdcc9",
   "metadata": {},
   "source": [
    "There are too many values to dummify for address, I will remove this column as there many other columns which are location related such as town, etc."
   ]
  },
  {
   "cell_type": "code",
   "execution_count": null,
   "id": "bdb3d255-0298-44c6-a65c-a469754ac7c8",
   "metadata": {
    "tags": []
   },
   "outputs": [],
   "source": [
    "df_objs = df_objs.drop('address', axis = 1)"
   ]
  },
  {
   "cell_type": "code",
   "execution_count": null,
   "id": "6f3bacc0-f01b-432c-ac4d-582ec75a9cd6",
   "metadata": {
    "tags": []
   },
   "outputs": [
    {
     "data": {
      "text/plain": [
       "array(['Y'], dtype=object)"
      ]
     },
     "execution_count": 47,
     "metadata": {},
     "output_type": "execute_result"
    }
   ],
   "source": [
    "unique('residential')"
   ]
  },
  {
   "cell_type": "markdown",
   "id": "aa46eb88-8c6b-4fa4-868b-a0df52608ebd",
   "metadata": {
    "tags": []
   },
   "source": [
    "residential feature column has only 1 value for all the rows. Hence, I will remove this column as it is a constant feature and will not help my machine learning model."
   ]
  },
  {
   "cell_type": "code",
   "execution_count": null,
   "id": "e89a3b45-171c-4c0c-9a7c-728ad030c83b",
   "metadata": {
    "tags": []
   },
   "outputs": [],
   "source": [
    "df_objs = df_objs.drop('residential', axis = 1)"
   ]
  },
  {
   "cell_type": "code",
   "execution_count": null,
   "id": "cb6069e7-5770-49f3-8106-663328b80f30",
   "metadata": {
    "tags": []
   },
   "outputs": [
    {
     "data": {
      "text/plain": [
       "array(['N', 'Y'], dtype=object)"
      ]
     },
     "execution_count": 49,
     "metadata": {},
     "output_type": "execute_result"
    }
   ],
   "source": [
    "unique('commercial')"
   ]
  },
  {
   "cell_type": "markdown",
   "id": "f719656f-14b0-4111-a542-67f86d3c35f1",
   "metadata": {},
   "source": [
    "I will dummify the commercial column."
   ]
  },
  {
   "cell_type": "code",
   "execution_count": null,
   "id": "429de117-46e8-45d5-9a5d-cf75fe643337",
   "metadata": {
    "tags": []
   },
   "outputs": [
    {
     "data": {
      "text/plain": [
       "array(['N', 'Y'], dtype=object)"
      ]
     },
     "execution_count": 50,
     "metadata": {},
     "output_type": "execute_result"
    }
   ],
   "source": [
    "unique('market_hawker')"
   ]
  },
  {
   "cell_type": "markdown",
   "id": "cf7c1e57-01e4-441b-a626-e1b9d449b787",
   "metadata": {},
   "source": [
    "I will dummify the market_hawker column."
   ]
  },
  {
   "cell_type": "code",
   "execution_count": null,
   "id": "77629cb7-59ae-4ff7-8946-7c8ba23cc459",
   "metadata": {
    "tags": []
   },
   "outputs": [
    {
     "data": {
      "text/plain": [
       "array(['N', 'Y'], dtype=object)"
      ]
     },
     "execution_count": 51,
     "metadata": {},
     "output_type": "execute_result"
    }
   ],
   "source": [
    "unique('multistorey_carpark')"
   ]
  },
  {
   "cell_type": "markdown",
   "id": "e0355ad8-947d-47b1-9cc4-f17d6f9fd5dc",
   "metadata": {},
   "source": [
    "I will dummify the multistorey_carpark column."
   ]
  },
  {
   "cell_type": "code",
   "execution_count": null,
   "id": "1718afb8-80cc-4b2e-9b4a-b47d8fac6a40",
   "metadata": {
    "tags": []
   },
   "outputs": [
    {
     "data": {
      "text/plain": [
       "array(['N', 'Y'], dtype=object)"
      ]
     },
     "execution_count": 52,
     "metadata": {},
     "output_type": "execute_result"
    }
   ],
   "source": [
    "unique('precinct_pavilion')"
   ]
  },
  {
   "cell_type": "markdown",
   "id": "f5ef163b-fb16-44ac-9e9b-c7cdaf091ef0",
   "metadata": {},
   "source": [
    "I will dummify the precinct_pavilion column."
   ]
  },
  {
   "cell_type": "code",
   "execution_count": null,
   "id": "87c7c090-fd20-44b3-804e-a76b87f00520",
   "metadata": {
    "tags": []
   },
   "outputs": [
    {
     "data": {
      "text/plain": [
       "17483"
      ]
     },
     "execution_count": 53,
     "metadata": {},
     "output_type": "execute_result"
    }
   ],
   "source": [
    "len(unique('postal'))"
   ]
  },
  {
   "cell_type": "markdown",
   "id": "104955f6-927f-406d-9c6d-ff52ac424db7",
   "metadata": {},
   "source": [
    "There are too many values to dummify for postal I will remove this column as longitude and latitude are also features of this dataset."
   ]
  },
  {
   "cell_type": "code",
   "execution_count": null,
   "id": "b5606b83-eecd-4931-8632-1c7bbdfa3632",
   "metadata": {
    "tags": []
   },
   "outputs": [],
   "source": [
    "df_objs = df_objs.drop('postal', axis = 1)"
   ]
  },
  {
   "cell_type": "code",
   "execution_count": null,
   "id": "b04892f8-53a7-461a-a5dc-e2e74c45fd78",
   "metadata": {
    "tags": []
   },
   "outputs": [
    {
     "data": {
      "text/plain": [
       "array(['Kallang', 'Bishan', 'Bukit Batok', 'Yishun', 'Geylang', 'Hougang',\n",
       "       'Bedok', 'Sengkang', 'Tampines', 'Serangoon', 'Bukit Merah',\n",
       "       'Bukit Panjang', 'Woodlands', 'Jurong West', 'Toa Payoh',\n",
       "       'Choa Chu Kang', 'Sembawang', 'Novena', 'Ang Mo Kio', 'Pasir Ris',\n",
       "       'Clementi', 'Punggol', 'Jurong East', 'Rochor', 'Queenstown',\n",
       "       'Bukit Timah', 'Outram', 'Tanglin', 'Marine Parade',\n",
       "       'Western Water Catchment', 'Downtown Core', 'Changi'], dtype=object)"
      ]
     },
     "execution_count": 55,
     "metadata": {},
     "output_type": "execute_result"
    }
   ],
   "source": [
    "unique('planning_area')"
   ]
  },
  {
   "cell_type": "code",
   "execution_count": null,
   "id": "83d47942-19d2-42a8-a00f-04651a0b47d8",
   "metadata": {
    "scrolled": true,
    "tags": []
   },
   "outputs": [
    {
     "data": {
      "text/html": [
       "<div>\n",
       "<style scoped>\n",
       "    .dataframe tbody tr th:only-of-type {\n",
       "        vertical-align: middle;\n",
       "    }\n",
       "\n",
       "    .dataframe tbody tr th {\n",
       "        vertical-align: top;\n",
       "    }\n",
       "\n",
       "    .dataframe thead th {\n",
       "        text-align: right;\n",
       "    }\n",
       "</style>\n",
       "<table border=\"1\" class=\"dataframe\">\n",
       "  <thead>\n",
       "    <tr style=\"text-align: right;\">\n",
       "      <th></th>\n",
       "      <th>planning_area</th>\n",
       "      <th>town</th>\n",
       "    </tr>\n",
       "  </thead>\n",
       "  <tbody>\n",
       "    <tr>\n",
       "      <th>0</th>\n",
       "      <td>Kallang</td>\n",
       "      <td>KALLANG/WHAMPOA</td>\n",
       "    </tr>\n",
       "    <tr>\n",
       "      <th>1</th>\n",
       "      <td>Bishan</td>\n",
       "      <td>BISHAN</td>\n",
       "    </tr>\n",
       "    <tr>\n",
       "      <th>2</th>\n",
       "      <td>Bukit Batok</td>\n",
       "      <td>BUKIT BATOK</td>\n",
       "    </tr>\n",
       "    <tr>\n",
       "      <th>3</th>\n",
       "      <td>Bishan</td>\n",
       "      <td>BISHAN</td>\n",
       "    </tr>\n",
       "    <tr>\n",
       "      <th>4</th>\n",
       "      <td>Yishun</td>\n",
       "      <td>YISHUN</td>\n",
       "    </tr>\n",
       "  </tbody>\n",
       "</table>\n",
       "</div>"
      ],
      "text/plain": [
       "  planning_area             town\n",
       "0       Kallang  KALLANG/WHAMPOA\n",
       "1        Bishan           BISHAN\n",
       "2   Bukit Batok      BUKIT BATOK\n",
       "3        Bishan           BISHAN\n",
       "4        Yishun           YISHUN"
      ]
     },
     "execution_count": 56,
     "metadata": {},
     "output_type": "execute_result"
    }
   ],
   "source": [
    "df[['planning_area','town']].head()"
   ]
  },
  {
   "cell_type": "markdown",
   "id": "598be4c0-39c3-49fd-b95d-4f94c1fd9894",
   "metadata": {},
   "source": [
    "I will drop the planning_area column as the values are the same as the town feature column. There is no need for two columns with the same values."
   ]
  },
  {
   "cell_type": "code",
   "execution_count": null,
   "id": "25a67b20-7cff-4c42-b7a3-c21d8594af7f",
   "metadata": {
    "tags": []
   },
   "outputs": [],
   "source": [
    "df_objs = df_objs.drop('planning_area', axis = 1)"
   ]
  },
  {
   "cell_type": "code",
   "execution_count": null,
   "id": "65e108d3-8e37-4bcb-901a-2e25dcdae16d",
   "metadata": {
    "tags": []
   },
   "outputs": [
    {
     "data": {
      "text/plain": [
       "array(['Kallang', 'Bishan', 'Bukit Batok', 'Khatib', 'MacPherson',\n",
       "       'Kovan', 'Bedok North', 'Marymount', 'Sengkang', 'Buangkok',\n",
       "       'Tampines', 'Tiong Bahru', 'Bukit Panjang', 'Marsiling',\n",
       "       'Woodlands South', 'Admiralty', 'Pioneer', 'Braddell', 'Lakeside',\n",
       "       'Choa Chu Kang', 'Sembawang', 'Toa Payoh', 'Geylang Bahru',\n",
       "       'Yew Tee', 'Ang Mo Kio', 'Telok Blangah', 'Tampines East',\n",
       "       'Potong Pasir', 'Tampines West', 'Eunos', 'Yio Chu Kang',\n",
       "       'Farrer Park', 'Bukit Gombak', 'Clementi', 'Yishun', 'Punggol',\n",
       "       'Jurong East', 'Tanah Merah', 'Chinese Garden', 'Kembangan',\n",
       "       'Pasir Ris', 'Jalan Besar', 'Hougang', 'Buona Vista', 'Kaki Bukit',\n",
       "       'Cashew', 'Bedok', 'Boon Keng', 'Woodlands', 'Simei', 'Boon Lay',\n",
       "       'Dakota', 'Redhill', 'Canberra', 'Beauty World', 'Commonwealth',\n",
       "       'Lorong Chuan', 'Tai Seng', 'Bedok Reservoir', 'Holland Village',\n",
       "       'Ubi', 'HarbourFront', 'Dover', 'Chinatown', 'Queenstown',\n",
       "       'Mattar', 'one-north', 'Mountbatten', 'Serangoon', 'Farrer Road',\n",
       "       'Lavender', 'Outram Park', 'Caldecott', 'Aljunied', 'Little India',\n",
       "       'Upper Changi', 'Bartley', 'Woodlands North', 'Paya Lebar',\n",
       "       'Tanjong Pagar', 'Woodleigh', 'Hillview', 'Bencoolen',\n",
       "       'Labrador Park', 'Rochor', 'Nicoll Highway', 'Clarke Quay',\n",
       "       'Tan Kah Kee', 'Bras Basah', 'Changi Airport', 'Bugis',\n",
       "       'Bendemeer', 'Botanic Gardens', 'Novena'], dtype=object)"
      ]
     },
     "execution_count": 58,
     "metadata": {},
     "output_type": "execute_result"
    }
   ],
   "source": [
    "unique('mrt_name')"
   ]
  },
  {
   "cell_type": "markdown",
   "id": "3d55049c-7c3b-4f20-aa72-b82ee253d988",
   "metadata": {},
   "source": [
    "I will dummify mrt_name column."
   ]
  },
  {
   "cell_type": "code",
   "execution_count": null,
   "id": "c9210e4a-79a2-4199-91a3-16321a1e5161",
   "metadata": {
    "tags": []
   },
   "outputs": [
    {
     "data": {
      "text/plain": [
       "1657"
      ]
     },
     "execution_count": 59,
     "metadata": {},
     "output_type": "execute_result"
    }
   ],
   "source": [
    "len(unique('bus_stop_name'))"
   ]
  },
  {
   "cell_type": "markdown",
   "id": "65b3556f-bbe3-4a52-aefa-65f53bbe2534",
   "metadata": {},
   "source": [
    "There are too many values to dummify for bus_stop_name, I will remove this column as there many other columns which are location related such as town, etc."
   ]
  },
  {
   "cell_type": "code",
   "execution_count": null,
   "id": "2213fd86-f359-4417-840e-867003abb834",
   "metadata": {
    "tags": []
   },
   "outputs": [],
   "source": [
    "df_objs = df_objs.drop('bus_stop_name', axis = 1)"
   ]
  },
  {
   "cell_type": "code",
   "execution_count": null,
   "id": "7c6ce014-e0c4-49f4-9a22-6bda07cbae13",
   "metadata": {
    "tags": []
   },
   "outputs": [
    {
     "data": {
      "text/plain": [
       "177"
      ]
     },
     "execution_count": 61,
     "metadata": {},
     "output_type": "execute_result"
    }
   ],
   "source": [
    "len(unique('pri_sch_name'))"
   ]
  },
  {
   "cell_type": "markdown",
   "id": "0772a4e2-e03e-44b8-b192-541320803241",
   "metadata": {},
   "source": [
    "I will remove pri_sch_name column as there are feature columns (i.e.pri_school_latitude and longitude that is showing the same information), the closest primary school. One is giving the name, the other is giving the coordinates."
   ]
  },
  {
   "cell_type": "code",
   "execution_count": null,
   "id": "010dd80f-0108-4305-b2e6-48c5f8a6a2e5",
   "metadata": {
    "tags": []
   },
   "outputs": [],
   "source": [
    "df_objs = df_objs.drop('pri_sch_name', axis = 1)"
   ]
  },
  {
   "cell_type": "code",
   "execution_count": null,
   "id": "f8852d46-db85-4e74-a32f-bd7699e2c108",
   "metadata": {
    "tags": []
   },
   "outputs": [
    {
     "data": {
      "text/plain": [
       "134"
      ]
     },
     "execution_count": 63,
     "metadata": {},
     "output_type": "execute_result"
    }
   ],
   "source": [
    "len(unique('sec_sch_name'))"
   ]
  },
  {
   "cell_type": "markdown",
   "id": "352b2555-9683-4106-bbb8-6a59014e20de",
   "metadata": {},
   "source": [
    "I will remove sec_sch_name column as there are feature columns (i.e.sec_school_latitude and longitude that is showing the same information), the closest secondary school. One is giving the name, the other is giving the coordinates.\n"
   ]
  },
  {
   "cell_type": "code",
   "execution_count": null,
   "id": "9f2cbc85-d070-43b5-aca2-2dd01ee609c2",
   "metadata": {
    "tags": []
   },
   "outputs": [],
   "source": [
    "df_objs = df_objs.drop('sec_sch_name', axis = 1)"
   ]
  },
  {
   "cell_type": "code",
   "execution_count": null,
   "id": "ab92a45b-1ed6-4610-82f9-292a4b01deca",
   "metadata": {
    "tags": []
   },
   "outputs": [
    {
     "name": "stdout",
     "output_type": "stream",
     "text": [
      "<class 'pandas.core.frame.DataFrame'>\n",
      "RangeIndex: 150634 entries, 0 to 150633\n",
      "Data columns (total 9 columns):\n",
      " #   Column               Non-Null Count   Dtype \n",
      "---  ------               --------------   ----- \n",
      " 0   town                 150634 non-null  object\n",
      " 1   flat_type            150634 non-null  object\n",
      " 2   storey_range         150634 non-null  object\n",
      " 3   flat_model           150634 non-null  object\n",
      " 4   commercial           150634 non-null  object\n",
      " 5   market_hawker        150634 non-null  object\n",
      " 6   multistorey_carpark  150634 non-null  object\n",
      " 7   precinct_pavilion    150634 non-null  object\n",
      " 8   mrt_name             150634 non-null  object\n",
      "dtypes: object(9)\n",
      "memory usage: 10.3+ MB\n"
     ]
    }
   ],
   "source": [
    "df_objs.info()"
   ]
  },
  {
   "cell_type": "markdown",
   "id": "13d48298-5a3a-49ef-9ecd-6bab5a3e4d06",
   "metadata": {},
   "source": [
    "**Final columns to dummify**"
   ]
  },
  {
   "cell_type": "markdown",
   "id": "fdcc80eb-af14-439e-8692-75f0023787cf",
   "metadata": {},
   "source": [
    "## Checking Numerical Columns"
   ]
  },
  {
   "cell_type": "code",
   "execution_count": null,
   "id": "60586af2-fcad-4b52-8254-bc789a4ce37c",
   "metadata": {
    "tags": []
   },
   "outputs": [],
   "source": [
    "df_nums = df.select_dtypes(exclude='object')"
   ]
  },
  {
   "cell_type": "code",
   "execution_count": null,
   "id": "23ef2b92-2d2b-4411-988b-b2362117e0fd",
   "metadata": {
    "scrolled": true,
    "tags": []
   },
   "outputs": [
    {
     "name": "stdout",
     "output_type": "stream",
     "text": [
      "<class 'pandas.core.frame.DataFrame'>\n",
      "RangeIndex: 150634 entries, 0 to 150633\n",
      "Data columns (total 57 columns):\n",
      " #   Column                     Non-Null Count   Dtype  \n",
      "---  ------                     --------------   -----  \n",
      " 0   id                         150634 non-null  int64  \n",
      " 1   floor_area_sqm             150634 non-null  float64\n",
      " 2   lease_commence_date        150634 non-null  int64  \n",
      " 3   resale_price               150634 non-null  float64\n",
      " 4   Tranc_Year                 150634 non-null  int64  \n",
      " 5   Tranc_Month                150634 non-null  int64  \n",
      " 6   mid_storey                 150634 non-null  int64  \n",
      " 7   lower                      150634 non-null  int64  \n",
      " 8   upper                      150634 non-null  int64  \n",
      " 9   mid                        150634 non-null  int64  \n",
      " 10  floor_area_sqft            150634 non-null  float64\n",
      " 11  hdb_age                    150634 non-null  int64  \n",
      " 12  max_floor_lvl              150634 non-null  int64  \n",
      " 13  year_completed             150634 non-null  int64  \n",
      " 14  total_dwelling_units       150634 non-null  int64  \n",
      " 15  1room_sold                 150634 non-null  int64  \n",
      " 16  2room_sold                 150634 non-null  int64  \n",
      " 17  3room_sold                 150634 non-null  int64  \n",
      " 18  4room_sold                 150634 non-null  int64  \n",
      " 19  5room_sold                 150634 non-null  int64  \n",
      " 20  exec_sold                  150634 non-null  int64  \n",
      " 21  multigen_sold              150634 non-null  int64  \n",
      " 22  studio_apartment_sold      150634 non-null  int64  \n",
      " 23  1room_rental               150634 non-null  int64  \n",
      " 24  2room_rental               150634 non-null  int64  \n",
      " 25  3room_rental               150634 non-null  int64  \n",
      " 26  other_room_rental          150634 non-null  int64  \n",
      " 27  Latitude                   150634 non-null  float64\n",
      " 28  Longitude                  150634 non-null  float64\n",
      " 29  Mall_Nearest_Distance      149805 non-null  float64\n",
      " 30  Mall_Within_500m           150634 non-null  float64\n",
      " 31  Mall_Within_1km            150634 non-null  float64\n",
      " 32  Mall_Within_2km            150634 non-null  float64\n",
      " 33  Hawker_Nearest_Distance    150634 non-null  float64\n",
      " 34  Hawker_Within_500m         150634 non-null  float64\n",
      " 35  Hawker_Within_1km          150634 non-null  float64\n",
      " 36  Hawker_Within_2km          150634 non-null  float64\n",
      " 37  hawker_food_stalls         150634 non-null  int64  \n",
      " 38  hawker_market_stalls       150634 non-null  int64  \n",
      " 39  mrt_nearest_distance       150634 non-null  float64\n",
      " 40  bus_interchange            150634 non-null  int64  \n",
      " 41  mrt_interchange            150634 non-null  int64  \n",
      " 42  mrt_latitude               150634 non-null  float64\n",
      " 43  mrt_longitude              150634 non-null  float64\n",
      " 44  bus_stop_nearest_distance  150634 non-null  float64\n",
      " 45  bus_stop_latitude          150634 non-null  float64\n",
      " 46  bus_stop_longitude         150634 non-null  float64\n",
      " 47  pri_sch_nearest_distance   150634 non-null  float64\n",
      " 48  vacancy                    150634 non-null  int64  \n",
      " 49  pri_sch_affiliation        150634 non-null  int64  \n",
      " 50  pri_sch_latitude           150634 non-null  float64\n",
      " 51  pri_sch_longitude          150634 non-null  float64\n",
      " 52  sec_sch_nearest_dist       150634 non-null  float64\n",
      " 53  cutoff_point               150634 non-null  int64  \n",
      " 54  affiliation                150634 non-null  int64  \n",
      " 55  sec_sch_latitude           150634 non-null  float64\n",
      " 56  sec_sch_longitude          150634 non-null  float64\n",
      "dtypes: float64(25), int64(32)\n",
      "memory usage: 65.5 MB\n"
     ]
    }
   ],
   "source": [
    "df_nums.info()"
   ]
  },
  {
   "cell_type": "markdown",
   "id": "3006c86e-426c-4767-b123-e27660926f9d",
   "metadata": {},
   "source": [
    "I will now check the numerical columns to first remove any duplicates and checking for collinearity."
   ]
  },
  {
   "cell_type": "code",
   "execution_count": null,
   "id": "611d8e0d-ffb1-4c62-8583-91406ad9ee8c",
   "metadata": {
    "tags": []
   },
   "outputs": [],
   "source": [
    "corr_matrix = df_nums.corr(numeric_only=True).abs()\n",
    "high_corr_var=np.where(corr_matrix>0.9)\n",
    "high_corr_var=[(corr_matrix.index[x],corr_matrix.columns[y]) for x,y in zip(*high_corr_var) if x!=y and x<y]"
   ]
  },
  {
   "cell_type": "markdown",
   "id": "48ac03a6-4cf2-4c5f-9219-45b2a8644d99",
   "metadata": {},
   "source": [
    "The block of code above is to check for collinearity between columns. I set the correlation value to be above 0.9, and assigned it to high_corr_var which will show the correlated features in each tuple."
   ]
  },
  {
   "cell_type": "code",
   "execution_count": null,
   "id": "934a7209-b6dd-46e5-b9ca-a213e6b9ea06",
   "metadata": {
    "scrolled": true,
    "tags": []
   },
   "outputs": [
    {
     "data": {
      "text/plain": [
       "[('floor_area_sqm', 'floor_area_sqft'),\n",
       " ('lease_commence_date', 'hdb_age'),\n",
       " ('lease_commence_date', 'year_completed'),\n",
       " ('mid_storey', 'lower'),\n",
       " ('mid_storey', 'upper'),\n",
       " ('mid_storey', 'mid'),\n",
       " ('lower', 'upper'),\n",
       " ('lower', 'mid'),\n",
       " ('upper', 'mid'),\n",
       " ('hdb_age', 'year_completed'),\n",
       " ('Latitude', 'mrt_latitude'),\n",
       " ('Latitude', 'bus_stop_latitude'),\n",
       " ('Latitude', 'pri_sch_latitude'),\n",
       " ('Latitude', 'sec_sch_latitude'),\n",
       " ('Longitude', 'mrt_longitude'),\n",
       " ('Longitude', 'bus_stop_longitude'),\n",
       " ('Longitude', 'pri_sch_longitude'),\n",
       " ('Longitude', 'sec_sch_longitude'),\n",
       " ('mrt_latitude', 'bus_stop_latitude'),\n",
       " ('mrt_latitude', 'pri_sch_latitude'),\n",
       " ('mrt_latitude', 'sec_sch_latitude'),\n",
       " ('mrt_longitude', 'bus_stop_longitude'),\n",
       " ('mrt_longitude', 'pri_sch_longitude'),\n",
       " ('mrt_longitude', 'sec_sch_longitude'),\n",
       " ('bus_stop_latitude', 'pri_sch_latitude'),\n",
       " ('bus_stop_latitude', 'sec_sch_latitude'),\n",
       " ('bus_stop_longitude', 'pri_sch_longitude'),\n",
       " ('bus_stop_longitude', 'sec_sch_longitude'),\n",
       " ('pri_sch_latitude', 'sec_sch_latitude'),\n",
       " ('pri_sch_longitude', 'sec_sch_longitude')]"
      ]
     },
     "execution_count": 69,
     "metadata": {},
     "output_type": "execute_result"
    }
   ],
   "source": [
    "high_corr_var"
   ]
  },
  {
   "cell_type": "markdown",
   "id": "7c6c08c1-0796-4fb4-93b9-1d830879f3a4",
   "metadata": {},
   "source": [
    "For floor_area_sqm, there is another column called floor_area_sqft. Both are giving the same values in different systems of measurement. I will retain floor_area_sqm, and drop floor_area_sqft"
   ]
  },
  {
   "cell_type": "code",
   "execution_count": null,
   "id": "f3a946d1-6247-467b-9d04-0dd41694ee66",
   "metadata": {
    "tags": []
   },
   "outputs": [],
   "source": [
    "df_nums = df_nums.drop('floor_area_sqft',axis = 1)"
   ]
  },
  {
   "cell_type": "markdown",
   "id": "a4710a65-fa7b-4b47-bd8f-038afd814f50",
   "metadata": {},
   "source": [
    "For lease_commence_date, there is another column called hdb_age. Both columns are giving the same values, hdb_age is simply the number of years since the lease_commence_date. I will remove hdb_age, as lease_commence_date is more futureproof as you can always calculate hdb age from lease_commencement_date, but it is harder to do the reverse."
   ]
  },
  {
   "cell_type": "code",
   "execution_count": null,
   "id": "aec6d0cf-47e0-4816-8a6e-58304b2c9073",
   "metadata": {
    "tags": []
   },
   "outputs": [],
   "source": [
    "df_nums = df_nums.drop('hdb_age',axis = 1)"
   ]
  },
  {
   "cell_type": "markdown",
   "id": "2df5602b-2efa-49b2-89ff-45391bb4bfd9",
   "metadata": {},
   "source": [
    "Also for lease_commence_date, it is highly correlated with year_completed. Although, they are highly correlated, they still represent different values, which may each have an effect on the target variable. For this reason, I will leave in both columns."
   ]
  },
  {
   "cell_type": "code",
   "execution_count": null,
   "id": "18da6bfb-1972-4286-b060-e8dfe6442834",
   "metadata": {
    "scrolled": true,
    "tags": []
   },
   "outputs": [
    {
     "data": {
      "text/html": [
       "<div>\n",
       "<style scoped>\n",
       "    .dataframe tbody tr th:only-of-type {\n",
       "        vertical-align: middle;\n",
       "    }\n",
       "\n",
       "    .dataframe tbody tr th {\n",
       "        vertical-align: top;\n",
       "    }\n",
       "\n",
       "    .dataframe thead th {\n",
       "        text-align: right;\n",
       "    }\n",
       "</style>\n",
       "<table border=\"1\" class=\"dataframe\">\n",
       "  <thead>\n",
       "    <tr style=\"text-align: right;\">\n",
       "      <th></th>\n",
       "      <th>mid</th>\n",
       "      <th>mid_storey</th>\n",
       "    </tr>\n",
       "  </thead>\n",
       "  <tbody>\n",
       "    <tr>\n",
       "      <th>0</th>\n",
       "      <td>11</td>\n",
       "      <td>11</td>\n",
       "    </tr>\n",
       "    <tr>\n",
       "      <th>1</th>\n",
       "      <td>8</td>\n",
       "      <td>8</td>\n",
       "    </tr>\n",
       "    <tr>\n",
       "      <th>2</th>\n",
       "      <td>14</td>\n",
       "      <td>14</td>\n",
       "    </tr>\n",
       "    <tr>\n",
       "      <th>3</th>\n",
       "      <td>3</td>\n",
       "      <td>3</td>\n",
       "    </tr>\n",
       "    <tr>\n",
       "      <th>4</th>\n",
       "      <td>2</td>\n",
       "      <td>2</td>\n",
       "    </tr>\n",
       "    <tr>\n",
       "      <th>...</th>\n",
       "      <td>...</td>\n",
       "      <td>...</td>\n",
       "    </tr>\n",
       "    <tr>\n",
       "      <th>150629</th>\n",
       "      <td>5</td>\n",
       "      <td>5</td>\n",
       "    </tr>\n",
       "    <tr>\n",
       "      <th>150630</th>\n",
       "      <td>5</td>\n",
       "      <td>5</td>\n",
       "    </tr>\n",
       "    <tr>\n",
       "      <th>150631</th>\n",
       "      <td>11</td>\n",
       "      <td>11</td>\n",
       "    </tr>\n",
       "    <tr>\n",
       "      <th>150632</th>\n",
       "      <td>8</td>\n",
       "      <td>8</td>\n",
       "    </tr>\n",
       "    <tr>\n",
       "      <th>150633</th>\n",
       "      <td>8</td>\n",
       "      <td>8</td>\n",
       "    </tr>\n",
       "  </tbody>\n",
       "</table>\n",
       "<p>150634 rows × 2 columns</p>\n",
       "</div>"
      ],
      "text/plain": [
       "        mid  mid_storey\n",
       "0        11          11\n",
       "1         8           8\n",
       "2        14          14\n",
       "3         3           3\n",
       "4         2           2\n",
       "...     ...         ...\n",
       "150629    5           5\n",
       "150630    5           5\n",
       "150631   11          11\n",
       "150632    8           8\n",
       "150633    8           8\n",
       "\n",
       "[150634 rows x 2 columns]"
      ]
     },
     "execution_count": 72,
     "metadata": {},
     "output_type": "execute_result"
    }
   ],
   "source": [
    "df[['mid','mid_storey']]"
   ]
  },
  {
   "cell_type": "markdown",
   "id": "102e7c8b-a57d-4019-a1c4-93c8554086bf",
   "metadata": {},
   "source": [
    "I will drop mid_storey as it has the same values as mid column."
   ]
  },
  {
   "cell_type": "code",
   "execution_count": null,
   "id": "e084f186-4f60-4fc9-87e3-5511f863f56b",
   "metadata": {
    "tags": []
   },
   "outputs": [],
   "source": [
    "df_nums = df_nums.drop('mid_storey',axis = 1)"
   ]
  },
  {
   "cell_type": "markdown",
   "id": "afd7c9cc-786f-4a4b-ad73-2b4ddec39c62",
   "metadata": {},
   "source": [
    "For the rest of the columns which have high correlation with each other, I will leave the columns in, as the remaining columns are all related to latitude and longitude of schools / amenities. Their values are naturally quite close to each other, but even though they are close they are referring to different places. I will leave the columns in."
   ]
  },
  {
   "cell_type": "code",
   "execution_count": null,
   "id": "df029c91-b755-41eb-87ea-a2ddc725cb83",
   "metadata": {
    "scrolled": true,
    "tags": []
   },
   "outputs": [
    {
     "name": "stdout",
     "output_type": "stream",
     "text": [
      "<class 'pandas.core.frame.DataFrame'>\n",
      "RangeIndex: 150634 entries, 0 to 150633\n",
      "Data columns (total 54 columns):\n",
      " #   Column                     Non-Null Count   Dtype  \n",
      "---  ------                     --------------   -----  \n",
      " 0   id                         150634 non-null  int64  \n",
      " 1   floor_area_sqm             150634 non-null  float64\n",
      " 2   lease_commence_date        150634 non-null  int64  \n",
      " 3   resale_price               150634 non-null  float64\n",
      " 4   Tranc_Year                 150634 non-null  int64  \n",
      " 5   Tranc_Month                150634 non-null  int64  \n",
      " 6   lower                      150634 non-null  int64  \n",
      " 7   upper                      150634 non-null  int64  \n",
      " 8   mid                        150634 non-null  int64  \n",
      " 9   max_floor_lvl              150634 non-null  int64  \n",
      " 10  year_completed             150634 non-null  int64  \n",
      " 11  total_dwelling_units       150634 non-null  int64  \n",
      " 12  1room_sold                 150634 non-null  int64  \n",
      " 13  2room_sold                 150634 non-null  int64  \n",
      " 14  3room_sold                 150634 non-null  int64  \n",
      " 15  4room_sold                 150634 non-null  int64  \n",
      " 16  5room_sold                 150634 non-null  int64  \n",
      " 17  exec_sold                  150634 non-null  int64  \n",
      " 18  multigen_sold              150634 non-null  int64  \n",
      " 19  studio_apartment_sold      150634 non-null  int64  \n",
      " 20  1room_rental               150634 non-null  int64  \n",
      " 21  2room_rental               150634 non-null  int64  \n",
      " 22  3room_rental               150634 non-null  int64  \n",
      " 23  other_room_rental          150634 non-null  int64  \n",
      " 24  Latitude                   150634 non-null  float64\n",
      " 25  Longitude                  150634 non-null  float64\n",
      " 26  Mall_Nearest_Distance      149805 non-null  float64\n",
      " 27  Mall_Within_500m           150634 non-null  float64\n",
      " 28  Mall_Within_1km            150634 non-null  float64\n",
      " 29  Mall_Within_2km            150634 non-null  float64\n",
      " 30  Hawker_Nearest_Distance    150634 non-null  float64\n",
      " 31  Hawker_Within_500m         150634 non-null  float64\n",
      " 32  Hawker_Within_1km          150634 non-null  float64\n",
      " 33  Hawker_Within_2km          150634 non-null  float64\n",
      " 34  hawker_food_stalls         150634 non-null  int64  \n",
      " 35  hawker_market_stalls       150634 non-null  int64  \n",
      " 36  mrt_nearest_distance       150634 non-null  float64\n",
      " 37  bus_interchange            150634 non-null  int64  \n",
      " 38  mrt_interchange            150634 non-null  int64  \n",
      " 39  mrt_latitude               150634 non-null  float64\n",
      " 40  mrt_longitude              150634 non-null  float64\n",
      " 41  bus_stop_nearest_distance  150634 non-null  float64\n",
      " 42  bus_stop_latitude          150634 non-null  float64\n",
      " 43  bus_stop_longitude         150634 non-null  float64\n",
      " 44  pri_sch_nearest_distance   150634 non-null  float64\n",
      " 45  vacancy                    150634 non-null  int64  \n",
      " 46  pri_sch_affiliation        150634 non-null  int64  \n",
      " 47  pri_sch_latitude           150634 non-null  float64\n",
      " 48  pri_sch_longitude          150634 non-null  float64\n",
      " 49  sec_sch_nearest_dist       150634 non-null  float64\n",
      " 50  cutoff_point               150634 non-null  int64  \n",
      " 51  affiliation                150634 non-null  int64  \n",
      " 52  sec_sch_latitude           150634 non-null  float64\n",
      " 53  sec_sch_longitude          150634 non-null  float64\n",
      "dtypes: float64(24), int64(30)\n",
      "memory usage: 62.1 MB\n"
     ]
    }
   ],
   "source": [
    "df_nums.info()"
   ]
  },
  {
   "cell_type": "markdown",
   "id": "5a5efbd6-61ce-47f0-9a6e-fc627929e3c1",
   "metadata": {},
   "source": [
    "I will now go through each numerical column and refer to the data dictionary to check if any of the columns needs to be amended for whatever reason."
   ]
  },
  {
   "cell_type": "code",
   "execution_count": null,
   "id": "1a0382e6-0558-4f28-b2bd-3d44383648cb",
   "metadata": {
    "tags": []
   },
   "outputs": [
    {
     "data": {
      "text/html": [
       "<div>\n",
       "<style scoped>\n",
       "    .dataframe tbody tr th:only-of-type {\n",
       "        vertical-align: middle;\n",
       "    }\n",
       "\n",
       "    .dataframe tbody tr th {\n",
       "        vertical-align: top;\n",
       "    }\n",
       "\n",
       "    .dataframe thead th {\n",
       "        text-align: right;\n",
       "    }\n",
       "</style>\n",
       "<table border=\"1\" class=\"dataframe\">\n",
       "  <thead>\n",
       "    <tr style=\"text-align: right;\">\n",
       "      <th></th>\n",
       "      <th>hawker_market_stalls</th>\n",
       "      <th>hawker_food_stalls</th>\n",
       "    </tr>\n",
       "  </thead>\n",
       "  <tbody>\n",
       "    <tr>\n",
       "      <th>0</th>\n",
       "      <td>60</td>\n",
       "      <td>84</td>\n",
       "    </tr>\n",
       "    <tr>\n",
       "      <th>1</th>\n",
       "      <td>77</td>\n",
       "      <td>80</td>\n",
       "    </tr>\n",
       "    <tr>\n",
       "      <th>2</th>\n",
       "      <td>95</td>\n",
       "      <td>84</td>\n",
       "    </tr>\n",
       "    <tr>\n",
       "      <th>3</th>\n",
       "      <td>86</td>\n",
       "      <td>32</td>\n",
       "    </tr>\n",
       "    <tr>\n",
       "      <th>4</th>\n",
       "      <td>0</td>\n",
       "      <td>45</td>\n",
       "    </tr>\n",
       "    <tr>\n",
       "      <th>...</th>\n",
       "      <td>...</td>\n",
       "      <td>...</td>\n",
       "    </tr>\n",
       "    <tr>\n",
       "      <th>150629</th>\n",
       "      <td>0</td>\n",
       "      <td>43</td>\n",
       "    </tr>\n",
       "    <tr>\n",
       "      <th>150630</th>\n",
       "      <td>94</td>\n",
       "      <td>72</td>\n",
       "    </tr>\n",
       "    <tr>\n",
       "      <th>150631</th>\n",
       "      <td>75</td>\n",
       "      <td>36</td>\n",
       "    </tr>\n",
       "    <tr>\n",
       "      <th>150632</th>\n",
       "      <td>63</td>\n",
       "      <td>39</td>\n",
       "    </tr>\n",
       "    <tr>\n",
       "      <th>150633</th>\n",
       "      <td>0</td>\n",
       "      <td>45</td>\n",
       "    </tr>\n",
       "  </tbody>\n",
       "</table>\n",
       "<p>150634 rows × 2 columns</p>\n",
       "</div>"
      ],
      "text/plain": [
       "        hawker_market_stalls  hawker_food_stalls\n",
       "0                         60                  84\n",
       "1                         77                  80\n",
       "2                         95                  84\n",
       "3                         86                  32\n",
       "4                          0                  45\n",
       "...                      ...                 ...\n",
       "150629                     0                  43\n",
       "150630                    94                  72\n",
       "150631                    75                  36\n",
       "150632                    63                  39\n",
       "150633                     0                  45\n",
       "\n",
       "[150634 rows x 2 columns]"
      ]
     },
     "execution_count": 75,
     "metadata": {},
     "output_type": "execute_result"
    }
   ],
   "source": [
    "df[['hawker_market_stalls','hawker_food_stalls']]"
   ]
  },
  {
   "cell_type": "markdown",
   "id": "2e913b0b-d522-4fd2-98dd-123d984e927f",
   "metadata": {},
   "source": [
    "For the two feature columns listed above, the details provided by the data dictionary is as follows:\n",
    "\n",
    "Feature|Description|\n",
    "|---|---|\n",
    "hawker_food_stalls| number of hawker food stalls in the nearest hawker centre\n",
    "hawker_market_stalls| number of hawker and market stalls in the nearest hawker centre\n",
    "\n",
    "I found it strange as these columns were not flagged out by my high_corr_var as the numbers should be relatively close to one another, as how many more market stalls could there be in a hawker centre compared to just hawker food stalls.\n",
    "\n",
    "Upon further inspection as shown in the dataframe above. There is something wrong with the values. The value of hawker_market_stalls can never be lower than hawker_food_stalls, as they would share the same nearest hawker centre and if there is 0 market stalls in the hawker centre, the number should be exactly the same as hawker_food_stalls.\n",
    "\n",
    "The value for hawker_market_stalls should only be higher or exactly the same as hawker_food_stalls, not lower as can be seen in some rows in the dataframe above."
   ]
  },
  {
   "cell_type": "code",
   "execution_count": null,
   "id": "e7fb9eb6-eafa-4c09-b22f-be6548171bdb",
   "metadata": {
    "tags": []
   },
   "outputs": [
    {
     "data": {
      "text/plain": [
       "hawker_food_stalls     -0.033581\n",
       "hawker_market_stalls   -0.009378\n",
       "Name: resale_price, dtype: float64"
      ]
     },
     "execution_count": 76,
     "metadata": {},
     "output_type": "execute_result"
    }
   ],
   "source": [
    "df.corr(numeric_only=True)['resale_price'].sort_values()[['hawker_food_stalls','hawker_market_stalls']]"
   ]
  },
  {
   "cell_type": "markdown",
   "id": "05347e3c-52b6-4a8b-b89d-d6381f7eea22",
   "metadata": {},
   "source": [
    "As I can't verify whether the description in the data dictionary is wrong or which column has the wrong values or if both columns have wrong values, I will remove both columns to ensure the quality and accuracy of the data. Furthermore, the correlation with the target variable is insignificant."
   ]
  },
  {
   "cell_type": "code",
   "execution_count": null,
   "id": "987652be-1a8a-487f-9114-4039fc21d784",
   "metadata": {
    "tags": []
   },
   "outputs": [],
   "source": [
    "df_nums = df_nums.drop(['hawker_food_stalls','hawker_market_stalls'],axis = 1)"
   ]
  },
  {
   "cell_type": "code",
   "execution_count": null,
   "id": "d2540855-b778-41fb-b342-3ae816bd0375",
   "metadata": {
    "scrolled": true,
    "tags": []
   },
   "outputs": [
    {
     "name": "stdout",
     "output_type": "stream",
     "text": [
      "<class 'pandas.core.frame.DataFrame'>\n",
      "RangeIndex: 150634 entries, 0 to 150633\n",
      "Data columns (total 52 columns):\n",
      " #   Column                     Non-Null Count   Dtype  \n",
      "---  ------                     --------------   -----  \n",
      " 0   id                         150634 non-null  int64  \n",
      " 1   floor_area_sqm             150634 non-null  float64\n",
      " 2   lease_commence_date        150634 non-null  int64  \n",
      " 3   resale_price               150634 non-null  float64\n",
      " 4   Tranc_Year                 150634 non-null  int64  \n",
      " 5   Tranc_Month                150634 non-null  int64  \n",
      " 6   lower                      150634 non-null  int64  \n",
      " 7   upper                      150634 non-null  int64  \n",
      " 8   mid                        150634 non-null  int64  \n",
      " 9   max_floor_lvl              150634 non-null  int64  \n",
      " 10  year_completed             150634 non-null  int64  \n",
      " 11  total_dwelling_units       150634 non-null  int64  \n",
      " 12  1room_sold                 150634 non-null  int64  \n",
      " 13  2room_sold                 150634 non-null  int64  \n",
      " 14  3room_sold                 150634 non-null  int64  \n",
      " 15  4room_sold                 150634 non-null  int64  \n",
      " 16  5room_sold                 150634 non-null  int64  \n",
      " 17  exec_sold                  150634 non-null  int64  \n",
      " 18  multigen_sold              150634 non-null  int64  \n",
      " 19  studio_apartment_sold      150634 non-null  int64  \n",
      " 20  1room_rental               150634 non-null  int64  \n",
      " 21  2room_rental               150634 non-null  int64  \n",
      " 22  3room_rental               150634 non-null  int64  \n",
      " 23  other_room_rental          150634 non-null  int64  \n",
      " 24  Latitude                   150634 non-null  float64\n",
      " 25  Longitude                  150634 non-null  float64\n",
      " 26  Mall_Nearest_Distance      149805 non-null  float64\n",
      " 27  Mall_Within_500m           150634 non-null  float64\n",
      " 28  Mall_Within_1km            150634 non-null  float64\n",
      " 29  Mall_Within_2km            150634 non-null  float64\n",
      " 30  Hawker_Nearest_Distance    150634 non-null  float64\n",
      " 31  Hawker_Within_500m         150634 non-null  float64\n",
      " 32  Hawker_Within_1km          150634 non-null  float64\n",
      " 33  Hawker_Within_2km          150634 non-null  float64\n",
      " 34  mrt_nearest_distance       150634 non-null  float64\n",
      " 35  bus_interchange            150634 non-null  int64  \n",
      " 36  mrt_interchange            150634 non-null  int64  \n",
      " 37  mrt_latitude               150634 non-null  float64\n",
      " 38  mrt_longitude              150634 non-null  float64\n",
      " 39  bus_stop_nearest_distance  150634 non-null  float64\n",
      " 40  bus_stop_latitude          150634 non-null  float64\n",
      " 41  bus_stop_longitude         150634 non-null  float64\n",
      " 42  pri_sch_nearest_distance   150634 non-null  float64\n",
      " 43  vacancy                    150634 non-null  int64  \n",
      " 44  pri_sch_affiliation        150634 non-null  int64  \n",
      " 45  pri_sch_latitude           150634 non-null  float64\n",
      " 46  pri_sch_longitude          150634 non-null  float64\n",
      " 47  sec_sch_nearest_dist       150634 non-null  float64\n",
      " 48  cutoff_point               150634 non-null  int64  \n",
      " 49  affiliation                150634 non-null  int64  \n",
      " 50  sec_sch_latitude           150634 non-null  float64\n",
      " 51  sec_sch_longitude          150634 non-null  float64\n",
      "dtypes: float64(24), int64(28)\n",
      "memory usage: 59.8 MB\n"
     ]
    }
   ],
   "source": [
    "df_nums.info()"
   ]
  },
  {
   "cell_type": "markdown",
   "id": "6c493173-b803-47f0-a6ec-13cc79e494d9",
   "metadata": {},
   "source": [
    "For the rest of the numerical columns, I will leave them in as I did not see anything out of place. This is the final numerical columns."
   ]
  },
  {
   "cell_type": "markdown",
   "id": "57581a16-1a5d-41c2-bc06-eec2bd1b8b52",
   "metadata": {},
   "source": [
    "## Final DataFrame"
   ]
  },
  {
   "cell_type": "code",
   "execution_count": null,
   "id": "684de847-319b-4ef9-b2ea-4842fb9c8a34",
   "metadata": {
    "tags": []
   },
   "outputs": [],
   "source": [
    "final_df = pd.concat([df_nums,df_objs],axis=1)"
   ]
  },
  {
   "cell_type": "code",
   "execution_count": null,
   "id": "8e9e750f-bde7-4b98-b8cd-40148773f484",
   "metadata": {
    "tags": []
   },
   "outputs": [
    {
     "data": {
      "text/html": [
       "<div>\n",
       "<style scoped>\n",
       "    .dataframe tbody tr th:only-of-type {\n",
       "        vertical-align: middle;\n",
       "    }\n",
       "\n",
       "    .dataframe tbody tr th {\n",
       "        vertical-align: top;\n",
       "    }\n",
       "\n",
       "    .dataframe thead th {\n",
       "        text-align: right;\n",
       "    }\n",
       "</style>\n",
       "<table border=\"1\" class=\"dataframe\">\n",
       "  <thead>\n",
       "    <tr style=\"text-align: right;\">\n",
       "      <th></th>\n",
       "      <th>id</th>\n",
       "      <th>floor_area_sqm</th>\n",
       "      <th>lease_commence_date</th>\n",
       "      <th>resale_price</th>\n",
       "      <th>Tranc_Year</th>\n",
       "      <th>Tranc_Month</th>\n",
       "      <th>lower</th>\n",
       "      <th>upper</th>\n",
       "      <th>mid</th>\n",
       "      <th>max_floor_lvl</th>\n",
       "      <th>...</th>\n",
       "      <th>sec_sch_longitude</th>\n",
       "      <th>town</th>\n",
       "      <th>flat_type</th>\n",
       "      <th>storey_range</th>\n",
       "      <th>flat_model</th>\n",
       "      <th>commercial</th>\n",
       "      <th>market_hawker</th>\n",
       "      <th>multistorey_carpark</th>\n",
       "      <th>precinct_pavilion</th>\n",
       "      <th>mrt_name</th>\n",
       "    </tr>\n",
       "  </thead>\n",
       "  <tbody>\n",
       "    <tr>\n",
       "      <th>0</th>\n",
       "      <td>88471</td>\n",
       "      <td>90.0</td>\n",
       "      <td>2006</td>\n",
       "      <td>680000.0</td>\n",
       "      <td>2016</td>\n",
       "      <td>5</td>\n",
       "      <td>10</td>\n",
       "      <td>12</td>\n",
       "      <td>11</td>\n",
       "      <td>25</td>\n",
       "      <td>...</td>\n",
       "      <td>103.882504</td>\n",
       "      <td>KALLANG/WHAMPOA</td>\n",
       "      <td>4 ROOM</td>\n",
       "      <td>10 TO 12</td>\n",
       "      <td>Model A</td>\n",
       "      <td>N</td>\n",
       "      <td>N</td>\n",
       "      <td>N</td>\n",
       "      <td>N</td>\n",
       "      <td>Kallang</td>\n",
       "    </tr>\n",
       "    <tr>\n",
       "      <th>1</th>\n",
       "      <td>122598</td>\n",
       "      <td>130.0</td>\n",
       "      <td>1987</td>\n",
       "      <td>665000.0</td>\n",
       "      <td>2012</td>\n",
       "      <td>7</td>\n",
       "      <td>7</td>\n",
       "      <td>9</td>\n",
       "      <td>8</td>\n",
       "      <td>9</td>\n",
       "      <td>...</td>\n",
       "      <td>103.854892</td>\n",
       "      <td>BISHAN</td>\n",
       "      <td>5 ROOM</td>\n",
       "      <td>07 TO 09</td>\n",
       "      <td>Improved</td>\n",
       "      <td>N</td>\n",
       "      <td>N</td>\n",
       "      <td>N</td>\n",
       "      <td>N</td>\n",
       "      <td>Bishan</td>\n",
       "    </tr>\n",
       "    <tr>\n",
       "      <th>2</th>\n",
       "      <td>170897</td>\n",
       "      <td>144.0</td>\n",
       "      <td>1997</td>\n",
       "      <td>838000.0</td>\n",
       "      <td>2013</td>\n",
       "      <td>7</td>\n",
       "      <td>13</td>\n",
       "      <td>15</td>\n",
       "      <td>14</td>\n",
       "      <td>16</td>\n",
       "      <td>...</td>\n",
       "      <td>103.760013</td>\n",
       "      <td>BUKIT BATOK</td>\n",
       "      <td>EXECUTIVE</td>\n",
       "      <td>13 TO 15</td>\n",
       "      <td>Apartment</td>\n",
       "      <td>N</td>\n",
       "      <td>N</td>\n",
       "      <td>N</td>\n",
       "      <td>N</td>\n",
       "      <td>Bukit Batok</td>\n",
       "    </tr>\n",
       "    <tr>\n",
       "      <th>3</th>\n",
       "      <td>86070</td>\n",
       "      <td>103.0</td>\n",
       "      <td>1992</td>\n",
       "      <td>550000.0</td>\n",
       "      <td>2012</td>\n",
       "      <td>4</td>\n",
       "      <td>1</td>\n",
       "      <td>5</td>\n",
       "      <td>3</td>\n",
       "      <td>11</td>\n",
       "      <td>...</td>\n",
       "      <td>103.844934</td>\n",
       "      <td>BISHAN</td>\n",
       "      <td>4 ROOM</td>\n",
       "      <td>01 TO 05</td>\n",
       "      <td>Model A</td>\n",
       "      <td>Y</td>\n",
       "      <td>N</td>\n",
       "      <td>N</td>\n",
       "      <td>N</td>\n",
       "      <td>Bishan</td>\n",
       "    </tr>\n",
       "    <tr>\n",
       "      <th>4</th>\n",
       "      <td>153632</td>\n",
       "      <td>83.0</td>\n",
       "      <td>1987</td>\n",
       "      <td>298000.0</td>\n",
       "      <td>2017</td>\n",
       "      <td>12</td>\n",
       "      <td>1</td>\n",
       "      <td>3</td>\n",
       "      <td>2</td>\n",
       "      <td>4</td>\n",
       "      <td>...</td>\n",
       "      <td>103.838335</td>\n",
       "      <td>YISHUN</td>\n",
       "      <td>4 ROOM</td>\n",
       "      <td>01 TO 03</td>\n",
       "      <td>Simplified</td>\n",
       "      <td>N</td>\n",
       "      <td>N</td>\n",
       "      <td>N</td>\n",
       "      <td>N</td>\n",
       "      <td>Khatib</td>\n",
       "    </tr>\n",
       "  </tbody>\n",
       "</table>\n",
       "<p>5 rows × 61 columns</p>\n",
       "</div>"
      ],
      "text/plain": [
       "       id  floor_area_sqm  lease_commence_date  resale_price  Tranc_Year  \\\n",
       "0   88471            90.0                 2006      680000.0        2016   \n",
       "1  122598           130.0                 1987      665000.0        2012   \n",
       "2  170897           144.0                 1997      838000.0        2013   \n",
       "3   86070           103.0                 1992      550000.0        2012   \n",
       "4  153632            83.0                 1987      298000.0        2017   \n",
       "\n",
       "   Tranc_Month  lower  upper  mid  max_floor_lvl  ...  sec_sch_longitude  \\\n",
       "0            5     10     12   11             25  ...         103.882504   \n",
       "1            7      7      9    8              9  ...         103.854892   \n",
       "2            7     13     15   14             16  ...         103.760013   \n",
       "3            4      1      5    3             11  ...         103.844934   \n",
       "4           12      1      3    2              4  ...         103.838335   \n",
       "\n",
       "              town  flat_type  storey_range  flat_model  commercial  \\\n",
       "0  KALLANG/WHAMPOA     4 ROOM      10 TO 12     Model A           N   \n",
       "1           BISHAN     5 ROOM      07 TO 09    Improved           N   \n",
       "2      BUKIT BATOK  EXECUTIVE      13 TO 15   Apartment           N   \n",
       "3           BISHAN     4 ROOM      01 TO 05     Model A           Y   \n",
       "4           YISHUN     4 ROOM      01 TO 03  Simplified           N   \n",
       "\n",
       "   market_hawker  multistorey_carpark  precinct_pavilion     mrt_name  \n",
       "0              N                    N                  N      Kallang  \n",
       "1              N                    N                  N       Bishan  \n",
       "2              N                    N                  N  Bukit Batok  \n",
       "3              N                    N                  N       Bishan  \n",
       "4              N                    N                  N       Khatib  \n",
       "\n",
       "[5 rows x 61 columns]"
      ]
     },
     "execution_count": 80,
     "metadata": {},
     "output_type": "execute_result"
    }
   ],
   "source": [
    "final_df.head()"
   ]
  },
  {
   "cell_type": "code",
   "execution_count": null,
   "id": "f96b7e1a-4720-4cf6-b83c-a7f1b500b1b6",
   "metadata": {
    "scrolled": true,
    "tags": []
   },
   "outputs": [
    {
     "name": "stdout",
     "output_type": "stream",
     "text": [
      "<class 'pandas.core.frame.DataFrame'>\n",
      "RangeIndex: 150634 entries, 0 to 150633\n",
      "Data columns (total 61 columns):\n",
      " #   Column                     Non-Null Count   Dtype  \n",
      "---  ------                     --------------   -----  \n",
      " 0   id                         150634 non-null  int64  \n",
      " 1   floor_area_sqm             150634 non-null  float64\n",
      " 2   lease_commence_date        150634 non-null  int64  \n",
      " 3   resale_price               150634 non-null  float64\n",
      " 4   Tranc_Year                 150634 non-null  int64  \n",
      " 5   Tranc_Month                150634 non-null  int64  \n",
      " 6   lower                      150634 non-null  int64  \n",
      " 7   upper                      150634 non-null  int64  \n",
      " 8   mid                        150634 non-null  int64  \n",
      " 9   max_floor_lvl              150634 non-null  int64  \n",
      " 10  year_completed             150634 non-null  int64  \n",
      " 11  total_dwelling_units       150634 non-null  int64  \n",
      " 12  1room_sold                 150634 non-null  int64  \n",
      " 13  2room_sold                 150634 non-null  int64  \n",
      " 14  3room_sold                 150634 non-null  int64  \n",
      " 15  4room_sold                 150634 non-null  int64  \n",
      " 16  5room_sold                 150634 non-null  int64  \n",
      " 17  exec_sold                  150634 non-null  int64  \n",
      " 18  multigen_sold              150634 non-null  int64  \n",
      " 19  studio_apartment_sold      150634 non-null  int64  \n",
      " 20  1room_rental               150634 non-null  int64  \n",
      " 21  2room_rental               150634 non-null  int64  \n",
      " 22  3room_rental               150634 non-null  int64  \n",
      " 23  other_room_rental          150634 non-null  int64  \n",
      " 24  Latitude                   150634 non-null  float64\n",
      " 25  Longitude                  150634 non-null  float64\n",
      " 26  Mall_Nearest_Distance      149805 non-null  float64\n",
      " 27  Mall_Within_500m           150634 non-null  float64\n",
      " 28  Mall_Within_1km            150634 non-null  float64\n",
      " 29  Mall_Within_2km            150634 non-null  float64\n",
      " 30  Hawker_Nearest_Distance    150634 non-null  float64\n",
      " 31  Hawker_Within_500m         150634 non-null  float64\n",
      " 32  Hawker_Within_1km          150634 non-null  float64\n",
      " 33  Hawker_Within_2km          150634 non-null  float64\n",
      " 34  mrt_nearest_distance       150634 non-null  float64\n",
      " 35  bus_interchange            150634 non-null  int64  \n",
      " 36  mrt_interchange            150634 non-null  int64  \n",
      " 37  mrt_latitude               150634 non-null  float64\n",
      " 38  mrt_longitude              150634 non-null  float64\n",
      " 39  bus_stop_nearest_distance  150634 non-null  float64\n",
      " 40  bus_stop_latitude          150634 non-null  float64\n",
      " 41  bus_stop_longitude         150634 non-null  float64\n",
      " 42  pri_sch_nearest_distance   150634 non-null  float64\n",
      " 43  vacancy                    150634 non-null  int64  \n",
      " 44  pri_sch_affiliation        150634 non-null  int64  \n",
      " 45  pri_sch_latitude           150634 non-null  float64\n",
      " 46  pri_sch_longitude          150634 non-null  float64\n",
      " 47  sec_sch_nearest_dist       150634 non-null  float64\n",
      " 48  cutoff_point               150634 non-null  int64  \n",
      " 49  affiliation                150634 non-null  int64  \n",
      " 50  sec_sch_latitude           150634 non-null  float64\n",
      " 51  sec_sch_longitude          150634 non-null  float64\n",
      " 52  town                       150634 non-null  object \n",
      " 53  flat_type                  150634 non-null  object \n",
      " 54  storey_range               150634 non-null  object \n",
      " 55  flat_model                 150634 non-null  object \n",
      " 56  commercial                 150634 non-null  object \n",
      " 57  market_hawker              150634 non-null  object \n",
      " 58  multistorey_carpark        150634 non-null  object \n",
      " 59  precinct_pavilion          150634 non-null  object \n",
      " 60  mrt_name                   150634 non-null  object \n",
      "dtypes: float64(24), int64(28), object(9)\n",
      "memory usage: 70.1+ MB\n"
     ]
    }
   ],
   "source": [
    "final_df.info()"
   ]
  },
  {
   "cell_type": "code",
   "execution_count": null,
   "id": "19481643-7ec8-480d-82bf-05db967f8896",
   "metadata": {
    "tags": []
   },
   "outputs": [],
   "source": [
    "os.makedirs('../data/outputs', exist_ok=True)  \n",
    "final_df.to_csv('../data/outputs/final_df.csv')"
   ]
  },
  {
   "cell_type": "markdown",
   "id": "1f1854eb-f710-419a-aff9-f6f71cc79883",
   "metadata": {},
   "source": [
    "Exporting final_df."
   ]
  },
  {
   "cell_type": "markdown",
   "id": "21cf91ee-265e-470f-9340-05a81efa825c",
   "metadata": {},
   "source": [
    "## Data Visualisation"
   ]
  },
  {
   "cell_type": "code",
   "execution_count": null,
   "id": "35c6896c-50ca-45d8-8c7c-575d859552e2",
   "metadata": {
    "tags": []
   },
   "outputs": [
    {
     "data": {
      "image/png": "[encoded data removed]",
      "text/plain": [
       "<Figure size 960x720 with 1 Axes>"
      ]
     },
     "metadata": {},
     "output_type": "display_data"
    }
   ],
   "source": [
    "plt.figure(dpi=150)\n",
    "sns.histplot(data=final_df,x='resale_price',kde=True)\n",
    "plt.xlabel('Sale Price of Property')\n",
    "plt.xticks(rotation=90)\n",
    "plt.ylabel('No. of Properties sold')\n",
    "plt.ticklabel_format(style='plain', axis='x')\n",
    "plt.title('Number of Properties sold at different Prices');"
   ]
  },
  {
   "cell_type": "markdown",
   "id": "ba94959b-d1aa-4b87-86ab-2c628fbc1148",
   "metadata": {},
   "source": [
    "From the histplot, we can see that the target variable resale_price is slightly right-skewed, which makes sense as there are probably some extremely expensive houses included in the price. This would also suggest that there are outliers in this dataset."
   ]
  },
  {
   "cell_type": "code",
   "execution_count": 99,
   "id": "507dbd3c-5b44-4a08-b6ce-f8cc90f03e79",
   "metadata": {
    "scrolled": true,
    "tags": []
   },
   "outputs": [
    {
     "data": {
      "text/plain": [
       "resale_price                 1.000000\n",
       "floor_area_sqm               0.654120\n",
       "id                           0.521504\n",
       "max_floor_lvl                0.495650\n",
       "5room_sold                   0.359434\n",
       "year_completed               0.353698\n",
       "upper                        0.353552\n",
       "mid                          0.353213\n",
       "lower                        0.352466\n",
       "lease_commence_date          0.350337\n",
       "exec_sold                    0.337500\n",
       "Hawker_Within_2km            0.183168\n",
       "sec_sch_longitude            0.108911\n",
       "Mall_Within_2km              0.108648\n",
       "pri_sch_longitude            0.106681\n",
       "Longitude                    0.106596\n",
       "mrt_longitude                0.106506\n",
       "bus_stop_longitude           0.106394\n",
       "sec_sch_nearest_dist         0.095339\n",
       "4room_sold                   0.092600\n",
       "Hawker_Within_1km            0.090516\n",
       "Mall_Within_500m             0.085151\n",
       "Mall_Within_1km              0.078815\n",
       "mrt_interchange              0.066413\n",
       "studio_apartment_sold        0.040312\n",
       "multigen_sold                0.037406\n",
       "cutoff_point                 0.034572\n",
       "bus_stop_nearest_distance    0.031940\n",
       "pri_sch_affiliation          0.030931\n",
       "other_room_rental            0.013049\n",
       "Hawker_Within_500m           0.012637\n",
       "bus_interchange              0.002547\n",
       "affiliation                 -0.000466\n",
       "Tranc_Month                 -0.006823\n",
       "pri_sch_nearest_distance    -0.011004\n",
       "Hawker_Nearest_Distance     -0.014537\n",
       "vacancy                     -0.016140\n",
       "Tranc_Year                  -0.019146\n",
       "1room_rental                -0.037993\n",
       "1room_sold                  -0.039434\n",
       "2room_rental                -0.077548\n",
       "3room_rental                -0.079965\n",
       "Mall_Nearest_Distance       -0.087096\n",
       "mrt_nearest_distance        -0.128222\n",
       "total_dwelling_units        -0.140725\n",
       "2room_sold                  -0.145287\n",
       "pri_sch_latitude            -0.214707\n",
       "mrt_latitude                -0.214939\n",
       "bus_stop_latitude           -0.215760\n",
       "Latitude                    -0.216153\n",
       "sec_sch_latitude            -0.216303\n",
       "3room_sold                  -0.410368\n",
       "Name: resale_price, dtype: float64"
      ]
     },
     "execution_count": 99,
     "metadata": {},
     "output_type": "execute_result"
    }
   ],
   "source": [
    "final_df.corr(numeric_only=True)['resale_price'].sort_values(ascending=False)"
   ]
  },
  {
   "cell_type": "markdown",
   "id": "ec20df4d-c9c4-4e2d-af1f-c3eef3e96c1b",
   "metadata": {},
   "source": [
    "Checking the correlation values of the numeric columns against the target variable. From this we can see that there are features with moderate to high correlation against the target variable.\n",
    "\n",
    "Also note that I will need to remove the id column before creating my X and y as the id is simply an index, not a feature."
   ]
  },
  {
   "cell_type": "code",
   "execution_count": 100,
   "id": "b8a754f0-c8d8-4295-899a-7c012463c96c",
   "metadata": {
    "tags": []
   },
   "outputs": [
    {
     "data": {
      "image/png": "[encoded data removed]",
      "text/plain": [
       "<Figure size 640x480 with 1 Axes>"
      ]
     },
     "metadata": {},
     "output_type": "display_data"
    }
   ],
   "source": [
    "plt.figure(dpi=100)\n",
    "sns.scatterplot(x = 'floor_area_sqm', y = 'resale_price',data=final_df,alpha = 0.5)\n",
    "plt.ticklabel_format(style='plain', axis='y')\n",
    "plt.xlabel('Floor Area in Square Metres')\n",
    "plt.ylabel('Sale Price of Property')\n",
    "plt.title('Sale Price of Properties across different Floor Areas in Square Metres');"
   ]
  },
  {
   "cell_type": "markdown",
   "id": "53d8e413-1f2a-4404-9c7e-fba1f6aea5e0",
   "metadata": {},
   "source": [
    "For the highest correlated variable floor_area_sqm, we can see from the graph that there is indeed a positive relationship between the variables.\n",
    "\n",
    "As expected, I can also see that there are some outliers from the graph, the points which are above 200 sqm and price above 0.9. I will leave the outliers in for now, but I now know that after fitting the initial baseline model, I can come back to remove outliers to potentially improve model performance. "
   ]
  },
  {
   "cell_type": "code",
   "execution_count": null,
   "id": "b4b2d703-f476-4c09-804c-3c4d811909a3",
   "metadata": {
    "tags": []
   },
   "outputs": [
    {
     "data": {
      "image/png": "[encoded data removed]",
      "text/plain": [
       "<Figure size 3000x1500 with 1 Axes>"
      ]
     },
     "metadata": {},
     "output_type": "display_data"
    }
   ],
   "source": [
    "plt.figure(figsize=(20,10),dpi =150)\n",
    "sns.lineplot(x=df['Tranc_YearMonth'].sort_values().unique()[::2], y = df.groupby('Tranc_YearMonth').mean(numeric_only=True)['resale_price'].values[::2])\n",
    "plt.grid()\n",
    "plt.xlabel('Date')\n",
    "plt.ylabel('Average Sale Price of Property')\n",
    "plt.title('Average Sale Price of Property across 2012 to 2021')\n",
    "plt.xticks(rotation = 90);"
   ]
  },
  {
   "cell_type": "markdown",
   "id": "68cde604-e6d1-4911-807b-e5f2079ff0fa",
   "metadata": {},
   "source": [
    "From the lineplot, we can also see that there are two periods where the prices of properties spiked or dipped greatly (i.e. 2013 - 2014, and 2020 to 2021).\n",
    "\n",
    "The dip in year 2013 - 2014 was due to the government implementing numerous cooling measures, and the spike in 2020 - 2021 is due to the effects of COVID.\n",
    "\n",
    "I can consider removing these outlier years after seeing the results of the baseline model.\n",
    "\n",
    "https://www.cnbc.com/2014/01/15/singapore-home-sales-collapse-as-cooling-measures-bite.html"
   ]
  },
  {
   "cell_type": "code",
   "execution_count": null,
   "id": "096160f4-ec8a-4dcf-8972-64dfcd7cb978",
   "metadata": {
    "tags": []
   },
   "outputs": [
    {
     "name": "stdout",
     "output_type": "stream",
     "text": [
      "<class 'pandas.core.frame.DataFrame'>\n",
      "RangeIndex: 150634 entries, 0 to 150633\n",
      "Data columns (total 9 columns):\n",
      " #   Column               Non-Null Count   Dtype \n",
      "---  ------               --------------   ----- \n",
      " 0   town                 150634 non-null  object\n",
      " 1   flat_type            150634 non-null  object\n",
      " 2   storey_range         150634 non-null  object\n",
      " 3   flat_model           150634 non-null  object\n",
      " 4   commercial           150634 non-null  object\n",
      " 5   market_hawker        150634 non-null  object\n",
      " 6   multistorey_carpark  150634 non-null  object\n",
      " 7   precinct_pavilion    150634 non-null  object\n",
      " 8   mrt_name             150634 non-null  object\n",
      "dtypes: object(9)\n",
      "memory usage: 10.3+ MB\n"
     ]
    }
   ],
   "source": [
    "df_objs.info()"
   ]
  },
  {
   "cell_type": "markdown",
   "id": "7adae7da-5322-44b4-83b8-010ac215844a",
   "metadata": {},
   "source": [
    "Next I will do some data visualisation on the object columns."
   ]
  },
  {
   "cell_type": "code",
   "execution_count": null,
   "id": "b920aff2-e242-4ba7-b3ae-4f551b4ff6c4",
   "metadata": {
    "tags": []
   },
   "outputs": [
    {
     "data": {
      "image/png": "[encoded data removed]",
      "text/plain": [
       "<Figure size 750x750 with 1 Axes>"
      ]
     },
     "metadata": {},
     "output_type": "display_data"
    }
   ],
   "source": [
    "fig = sns.catplot(x='storey_range', y=\"resale_price\", data=final_df.sort_values(by='storey_range'), kind=\"bar\",errorbar=None,palette='coolwarm')\n",
    "fig.fig.set_dpi(150)\n",
    "plt.xticks(rotation = 90)\n",
    "plt.ticklabel_format(style='plain', axis='y')\n",
    "plt.xlabel('Range of Storeys')\n",
    "plt.ylabel('Average Sale Price of Property')\n",
    "plt.title('Sale Price of Property across different Range of Storeys');"
   ]
  },
  {
   "cell_type": "markdown",
   "id": "c2cdaa49-7f23-4d86-b850-984458ba18f6",
   "metadata": {},
   "source": [
    "From the catplot we can see that there is a correlation between range of storeys the property is located on and resale price. Generally a property on a higher storey has a higher price."
   ]
  },
  {
   "cell_type": "code",
   "execution_count": null,
   "id": "ef7ac65e-7b31-4134-9905-34be930c04f1",
   "metadata": {
    "scrolled": true,
    "tags": []
   },
   "outputs": [
    {
     "data": {
      "image/png": "[encoded data removed]",
      "text/plain": [
       "<Figure size 500x500 with 1 Axes>"
      ]
     },
     "metadata": {},
     "output_type": "display_data"
    }
   ],
   "source": [
    "fig = sns.catplot(x='flat_type', y=\"resale_price\", data=final_df.sort_values(by='flat_type'), kind=\"bar\",errorbar=None,palette ='coolwarm')\n",
    "fig.fig.set_dpi(100)\n",
    "plt.xticks(rotation = 45)\n",
    "plt.ticklabel_format(style='plain', axis='y')\n",
    "plt.xlabel('Property Type')\n",
    "plt.ylabel('Average Sale Price of Property')\n",
    "plt.title('Sale Price of Property across different Property Types');"
   ]
  },
  {
   "cell_type": "markdown",
   "id": "066e26c8-1a93-4db0-92b3-c1c44382d00a",
   "metadata": {},
   "source": [
    "Similarly, from this catplot, we can see that there is correlation between flat type and resale price, which makes sense as obviously a smaller flat would cost less than a larger flat all other features remaining constant."
   ]
  },
  {
   "cell_type": "markdown",
   "id": "f01e7c87-5f4f-4432-977b-fd2c8cd6baed",
   "metadata": {},
   "source": [
    "Through these plots, it is likely that the features we have will be able to give a good prediction of the resale price."
   ]
  },
  {
   "cell_type": "markdown",
   "id": "e1a92122-0b5b-4a97-bf43-e78efb28d442",
   "metadata": {},
   "source": [
    "This is the end of this code notebook, in the next code notebook, I will be doing preprocessing on the data, and running the baseline model."
   ]
  }
 ],
 "metadata": {
  "kernelspec": {
   "display_name": "Python 3 (ipykernel)",
   "language": "python",
   "name": "python3"
  },
  "language_info": {
   "codemirror_mode": {
    "name": "ipython",
    "version": 3
   },
   "file_extension": ".py",
   "mimetype": "text/x-python",
   "name": "python",
   "nbconvert_exporter": "python",
   "pygments_lexer": "ipython3",
   "version": "3.8.16"
  },
  "toc-autonumbering": true
 },
 "nbformat": 4,
 "nbformat_minor": 5
}
