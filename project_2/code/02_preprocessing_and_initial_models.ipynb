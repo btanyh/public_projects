{
 "cells": [
  {
   "cell_type": "markdown",
   "id": "485ac60b-c892-4684-8426-5eee9915f327",
   "metadata": {},
   "source": [
    "# Preprocessing"
   ]
  },
  {
   "cell_type": "markdown",
   "id": "4ee407c5-891a-4ae1-bfc9-624eb663fbba",
   "metadata": {},
   "source": [
    "This code notebook will go through the preprocessing process and fitting to the baseline model."
   ]
  },
  {
   "cell_type": "code",
   "execution_count": 1,
   "id": "1b39a265-5485-42ab-9e32-d0bc6a6e77fc",
   "metadata": {
    "tags": []
   },
   "outputs": [],
   "source": [
    "import numpy as np\n",
    "import pandas as pd\n",
    "import matplotlib.pyplot as plt\n",
    "import seaborn as sns\n",
    "import os\n",
    "\n",
    "from sklearn import metrics\n",
    "from sklearn.model_selection import train_test_split, cross_val_score\n",
    "from sklearn.impute import SimpleImputer\n",
    "from sklearn.linear_model import LinearRegression, LassoCV, RidgeCV, ElasticNetCV, Lasso, Ridge, ElasticNet\n",
    "from sklearn.preprocessing import StandardScaler,OneHotEncoder"
   ]
  },
  {
   "cell_type": "code",
   "execution_count": 2,
   "id": "30920311-d89a-4c57-a3b2-5270cde039af",
   "metadata": {
    "tags": []
   },
   "outputs": [],
   "source": [
    "df = pd.read_csv('../data/outputs/final_df.csv',index_col=0)"
   ]
  },
  {
   "cell_type": "markdown",
   "id": "3c698fca-821b-4789-9872-ee1613c8aa17",
   "metadata": {},
   "source": [
    "Loading in the final dataframe done in the previous notebook."
   ]
  },
  {
   "cell_type": "code",
   "execution_count": 3,
   "id": "679ae9df-3683-4856-99a4-818b108483c4",
   "metadata": {
    "tags": []
   },
   "outputs": [],
   "source": [
    "X = df.drop(['resale_price','id'],axis = 1)\n",
    "y = df['resale_price']"
   ]
  },
  {
   "cell_type": "markdown",
   "id": "578afe27-ce36-460c-9a1e-3c9565dfd3a8",
   "metadata": {},
   "source": [
    "Setting my X and y. Notice I also drop id from my features as it is basically just another index. I only need it for kaggle submission. Will add the id column back later."
   ]
  },
  {
   "cell_type": "markdown",
   "id": "9d757c59-842e-465e-9dca-46583f8c696b",
   "metadata": {},
   "source": [
    "## Train Test Split"
   ]
  },
  {
   "cell_type": "code",
   "execution_count": 4,
   "id": "31d8860d-33de-40ff-9da5-251c15b394e4",
   "metadata": {
    "tags": []
   },
   "outputs": [],
   "source": [
    "X_train, X_test, y_train, y_test = train_test_split(X, y, test_size=0.2, random_state=42)"
   ]
  },
  {
   "cell_type": "markdown",
   "id": "5d4e49ef-8c91-4085-983e-5eb6f922bbb8",
   "metadata": {},
   "source": [
    "## Imputing Missing Values"
   ]
  },
  {
   "cell_type": "code",
   "execution_count": 5,
   "id": "275ac7c4-bad0-4a1d-8ab4-ca037117b464",
   "metadata": {
    "scrolled": true,
    "tags": []
   },
   "outputs": [
    {
     "data": {
      "text/plain": [
       "Mall_Nearest_Distance        673\n",
       "floor_area_sqm                 0\n",
       "Hawker_Within_1km              0\n",
       "mrt_nearest_distance           0\n",
       "bus_interchange                0\n",
       "mrt_interchange                0\n",
       "mrt_latitude                   0\n",
       "mrt_longitude                  0\n",
       "bus_stop_nearest_distance      0\n",
       "bus_stop_latitude              0\n",
       "bus_stop_longitude             0\n",
       "pri_sch_nearest_distance       0\n",
       "vacancy                        0\n",
       "pri_sch_affiliation            0\n",
       "pri_sch_latitude               0\n",
       "pri_sch_longitude              0\n",
       "sec_sch_nearest_dist           0\n",
       "cutoff_point                   0\n",
       "affiliation                    0\n",
       "sec_sch_latitude               0\n",
       "sec_sch_longitude              0\n",
       "town                           0\n",
       "flat_type                      0\n",
       "storey_range                   0\n",
       "flat_model                     0\n",
       "commercial                     0\n",
       "market_hawker                  0\n",
       "multistorey_carpark            0\n",
       "precinct_pavilion              0\n",
       "Hawker_Within_2km              0\n",
       "Hawker_Within_500m             0\n",
       "lease_commence_date            0\n",
       "Hawker_Nearest_Distance        0\n",
       "Tranc_Year                     0\n",
       "Tranc_Month                    0\n",
       "lower                          0\n",
       "upper                          0\n",
       "mid                            0\n",
       "max_floor_lvl                  0\n",
       "year_completed                 0\n",
       "total_dwelling_units           0\n",
       "1room_sold                     0\n",
       "2room_sold                     0\n",
       "3room_sold                     0\n",
       "4room_sold                     0\n",
       "5room_sold                     0\n",
       "exec_sold                      0\n",
       "multigen_sold                  0\n",
       "studio_apartment_sold          0\n",
       "1room_rental                   0\n",
       "2room_rental                   0\n",
       "3room_rental                   0\n",
       "other_room_rental              0\n",
       "Latitude                       0\n",
       "Longitude                      0\n",
       "Mall_Within_500m               0\n",
       "Mall_Within_1km                0\n",
       "Mall_Within_2km                0\n",
       "mrt_name                       0\n",
       "dtype: int64"
      ]
     },
     "execution_count": 5,
     "metadata": {},
     "output_type": "execute_result"
    }
   ],
   "source": [
    "X_train.isnull().sum().sort_values(ascending = False)"
   ]
  },
  {
   "cell_type": "code",
   "execution_count": 6,
   "id": "40f4e8a3-3ea5-40ed-a791-f90ee6e34d22",
   "metadata": {
    "tags": []
   },
   "outputs": [
    {
     "data": {
      "text/plain": [
       "<Axes: xlabel='Mall_Nearest_Distance', ylabel='Count'>"
      ]
     },
     "execution_count": 6,
     "metadata": {},
     "output_type": "execute_result"
    },
    {
     "data": {
      "image/png": "[encoded data removed]",
      "text/plain": [
       "<Figure size 640x480 with 1 Axes>"
      ]
     },
     "metadata": {},
     "output_type": "display_data"
    }
   ],
   "source": [
    "sns.histplot(x='Mall_Nearest_Distance',data = X_train)"
   ]
  },
  {
   "cell_type": "markdown",
   "id": "90252ed2-08a3-4fae-9c95-237db8e281ef",
   "metadata": {},
   "source": [
    "From the histogram above, we can see the distribution of the feature is skewed right. As such , I will impute missing values using the median value instead of the mean as it is less sensitive to outliers."
   ]
  },
  {
   "cell_type": "code",
   "execution_count": 7,
   "id": "fb2aee82-f6f7-4f76-b410-82ad086bbf6c",
   "metadata": {
    "tags": []
   },
   "outputs": [],
   "source": [
    "imp_median = SimpleImputer(strategy='median')"
   ]
  },
  {
   "cell_type": "code",
   "execution_count": 8,
   "id": "bf71e5e9-cdd5-4d4a-bfc1-942fb5d73f03",
   "metadata": {
    "tags": []
   },
   "outputs": [],
   "source": [
    "X_train['Mall_Nearest_Distance_Imputed'] = imp_median.fit_transform(X_train['Mall_Nearest_Distance'].values.reshape(-1,1))"
   ]
  },
  {
   "cell_type": "markdown",
   "id": "7fa2b52a-e44d-4db9-9b2b-4d03e78ffd65",
   "metadata": {},
   "source": [
    "Imputing missing values for X_train"
   ]
  },
  {
   "cell_type": "code",
   "execution_count": 9,
   "id": "81db3d8f-1a96-4bed-9cba-53f0bc075e9e",
   "metadata": {
    "tags": []
   },
   "outputs": [],
   "source": [
    "X_test['Mall_Nearest_Distance_Imputed'] = imp_median.transform(X_test['Mall_Nearest_Distance'].values.reshape(-1,1))"
   ]
  },
  {
   "cell_type": "markdown",
   "id": "9b24448f-f202-42d8-a8c7-c4a21a59831a",
   "metadata": {},
   "source": [
    "Repeating the same process for X_test"
   ]
  },
  {
   "cell_type": "code",
   "execution_count": 10,
   "id": "5446a13e-b4d9-46d8-a0bb-f4c279c90bd0",
   "metadata": {
    "tags": []
   },
   "outputs": [],
   "source": [
    "X_train = X_train.drop('Mall_Nearest_Distance',axis = 1)\n",
    "X_test = X_test.drop('Mall_Nearest_Distance',axis = 1)"
   ]
  },
  {
   "cell_type": "markdown",
   "id": "1666b203-df8b-4235-9a74-c83348fee872",
   "metadata": {},
   "source": [
    "I can now drop the columns with missing values as I have the column with the imputed values."
   ]
  },
  {
   "cell_type": "markdown",
   "id": "88aca75e-2b9f-4937-b516-bea4a7825bdb",
   "metadata": {},
   "source": [
    "## One-Hot Encoding Train and Test Sets"
   ]
  },
  {
   "cell_type": "code",
   "execution_count": 11,
   "id": "e80935b6-b6f7-41b2-9b9b-d0cb7e48df5c",
   "metadata": {
    "tags": []
   },
   "outputs": [],
   "source": [
    "X_train_objs = X_train.select_dtypes(include='object')\n",
    "X_train_nums = X_train.select_dtypes(exclude = 'object')\n",
    "\n",
    "X_test_objs = X_test.select_dtypes(include='object')\n",
    "X_test_nums = X_test.select_dtypes(exclude = 'object')"
   ]
  },
  {
   "cell_type": "markdown",
   "id": "d576a142-c8ee-40d6-bbdf-a1a645885fd8",
   "metadata": {},
   "source": [
    "Splitting my x train and x test into objects and numerical columns to perform scaling and one hot encoding."
   ]
  },
  {
   "cell_type": "code",
   "execution_count": 12,
   "id": "d3f05c1a-47fe-46eb-b5be-e7e12b5efdb5",
   "metadata": {
    "tags": []
   },
   "outputs": [],
   "source": [
    "ohe = OneHotEncoder(drop='first',sparse_output=False)"
   ]
  },
  {
   "cell_type": "code",
   "execution_count": 13,
   "id": "e323d9b6-5198-4dc9-9ce5-d9391a4d1dc2",
   "metadata": {
    "tags": []
   },
   "outputs": [],
   "source": [
    "ohe_X_train_objs = pd.DataFrame(ohe.fit_transform(X_train_objs))"
   ]
  },
  {
   "cell_type": "code",
   "execution_count": 14,
   "id": "5e917d21-ad56-4803-873e-5a4d403bff81",
   "metadata": {
    "tags": []
   },
   "outputs": [],
   "source": [
    "ohe_X_train_objs.columns = ohe.get_feature_names_out(input_features=X_train_objs.columns)"
   ]
  },
  {
   "cell_type": "code",
   "execution_count": 15,
   "id": "c31e31f5-86cb-4232-91fe-26c3e360596a",
   "metadata": {
    "tags": []
   },
   "outputs": [
    {
     "data": {
      "text/html": [
       "<div>\n",
       "<style scoped>\n",
       "    .dataframe tbody tr th:only-of-type {\n",
       "        vertical-align: middle;\n",
       "    }\n",
       "\n",
       "    .dataframe tbody tr th {\n",
       "        vertical-align: top;\n",
       "    }\n",
       "\n",
       "    .dataframe thead th {\n",
       "        text-align: right;\n",
       "    }\n",
       "</style>\n",
       "<table border=\"1\" class=\"dataframe\">\n",
       "  <thead>\n",
       "    <tr style=\"text-align: right;\">\n",
       "      <th></th>\n",
       "      <th>town_BEDOK</th>\n",
       "      <th>town_BISHAN</th>\n",
       "      <th>town_BUKIT BATOK</th>\n",
       "      <th>town_BUKIT MERAH</th>\n",
       "      <th>town_BUKIT PANJANG</th>\n",
       "      <th>town_BUKIT TIMAH</th>\n",
       "      <th>town_CENTRAL AREA</th>\n",
       "      <th>town_CHOA CHU KANG</th>\n",
       "      <th>town_CLEMENTI</th>\n",
       "      <th>town_GEYLANG</th>\n",
       "      <th>...</th>\n",
       "      <th>mrt_name_Ubi</th>\n",
       "      <th>mrt_name_Upper Changi</th>\n",
       "      <th>mrt_name_Woodlands</th>\n",
       "      <th>mrt_name_Woodlands North</th>\n",
       "      <th>mrt_name_Woodlands South</th>\n",
       "      <th>mrt_name_Woodleigh</th>\n",
       "      <th>mrt_name_Yew Tee</th>\n",
       "      <th>mrt_name_Yio Chu Kang</th>\n",
       "      <th>mrt_name_Yishun</th>\n",
       "      <th>mrt_name_one-north</th>\n",
       "    </tr>\n",
       "  </thead>\n",
       "  <tbody>\n",
       "    <tr>\n",
       "      <th>0</th>\n",
       "      <td>0.0</td>\n",
       "      <td>0.0</td>\n",
       "      <td>0.0</td>\n",
       "      <td>0.0</td>\n",
       "      <td>0.0</td>\n",
       "      <td>0.0</td>\n",
       "      <td>0.0</td>\n",
       "      <td>0.0</td>\n",
       "      <td>0.0</td>\n",
       "      <td>1.0</td>\n",
       "      <td>...</td>\n",
       "      <td>0.0</td>\n",
       "      <td>0.0</td>\n",
       "      <td>0.0</td>\n",
       "      <td>0.0</td>\n",
       "      <td>0.0</td>\n",
       "      <td>0.0</td>\n",
       "      <td>0.0</td>\n",
       "      <td>0.0</td>\n",
       "      <td>0.0</td>\n",
       "      <td>0.0</td>\n",
       "    </tr>\n",
       "    <tr>\n",
       "      <th>1</th>\n",
       "      <td>1.0</td>\n",
       "      <td>0.0</td>\n",
       "      <td>0.0</td>\n",
       "      <td>0.0</td>\n",
       "      <td>0.0</td>\n",
       "      <td>0.0</td>\n",
       "      <td>0.0</td>\n",
       "      <td>0.0</td>\n",
       "      <td>0.0</td>\n",
       "      <td>0.0</td>\n",
       "      <td>...</td>\n",
       "      <td>0.0</td>\n",
       "      <td>0.0</td>\n",
       "      <td>0.0</td>\n",
       "      <td>0.0</td>\n",
       "      <td>0.0</td>\n",
       "      <td>0.0</td>\n",
       "      <td>0.0</td>\n",
       "      <td>0.0</td>\n",
       "      <td>0.0</td>\n",
       "      <td>0.0</td>\n",
       "    </tr>\n",
       "    <tr>\n",
       "      <th>2</th>\n",
       "      <td>0.0</td>\n",
       "      <td>0.0</td>\n",
       "      <td>0.0</td>\n",
       "      <td>0.0</td>\n",
       "      <td>0.0</td>\n",
       "      <td>0.0</td>\n",
       "      <td>0.0</td>\n",
       "      <td>0.0</td>\n",
       "      <td>0.0</td>\n",
       "      <td>0.0</td>\n",
       "      <td>...</td>\n",
       "      <td>0.0</td>\n",
       "      <td>0.0</td>\n",
       "      <td>0.0</td>\n",
       "      <td>0.0</td>\n",
       "      <td>0.0</td>\n",
       "      <td>0.0</td>\n",
       "      <td>0.0</td>\n",
       "      <td>1.0</td>\n",
       "      <td>0.0</td>\n",
       "      <td>0.0</td>\n",
       "    </tr>\n",
       "    <tr>\n",
       "      <th>3</th>\n",
       "      <td>0.0</td>\n",
       "      <td>0.0</td>\n",
       "      <td>0.0</td>\n",
       "      <td>0.0</td>\n",
       "      <td>0.0</td>\n",
       "      <td>0.0</td>\n",
       "      <td>0.0</td>\n",
       "      <td>0.0</td>\n",
       "      <td>0.0</td>\n",
       "      <td>0.0</td>\n",
       "      <td>...</td>\n",
       "      <td>0.0</td>\n",
       "      <td>0.0</td>\n",
       "      <td>0.0</td>\n",
       "      <td>0.0</td>\n",
       "      <td>0.0</td>\n",
       "      <td>0.0</td>\n",
       "      <td>0.0</td>\n",
       "      <td>0.0</td>\n",
       "      <td>0.0</td>\n",
       "      <td>0.0</td>\n",
       "    </tr>\n",
       "    <tr>\n",
       "      <th>4</th>\n",
       "      <td>0.0</td>\n",
       "      <td>0.0</td>\n",
       "      <td>0.0</td>\n",
       "      <td>0.0</td>\n",
       "      <td>0.0</td>\n",
       "      <td>0.0</td>\n",
       "      <td>0.0</td>\n",
       "      <td>0.0</td>\n",
       "      <td>0.0</td>\n",
       "      <td>0.0</td>\n",
       "      <td>...</td>\n",
       "      <td>0.0</td>\n",
       "      <td>0.0</td>\n",
       "      <td>0.0</td>\n",
       "      <td>0.0</td>\n",
       "      <td>0.0</td>\n",
       "      <td>0.0</td>\n",
       "      <td>0.0</td>\n",
       "      <td>0.0</td>\n",
       "      <td>0.0</td>\n",
       "      <td>0.0</td>\n",
       "    </tr>\n",
       "    <tr>\n",
       "      <th>...</th>\n",
       "      <td>...</td>\n",
       "      <td>...</td>\n",
       "      <td>...</td>\n",
       "      <td>...</td>\n",
       "      <td>...</td>\n",
       "      <td>...</td>\n",
       "      <td>...</td>\n",
       "      <td>...</td>\n",
       "      <td>...</td>\n",
       "      <td>...</td>\n",
       "      <td>...</td>\n",
       "      <td>...</td>\n",
       "      <td>...</td>\n",
       "      <td>...</td>\n",
       "      <td>...</td>\n",
       "      <td>...</td>\n",
       "      <td>...</td>\n",
       "      <td>...</td>\n",
       "      <td>...</td>\n",
       "      <td>...</td>\n",
       "      <td>...</td>\n",
       "    </tr>\n",
       "    <tr>\n",
       "      <th>120502</th>\n",
       "      <td>0.0</td>\n",
       "      <td>0.0</td>\n",
       "      <td>0.0</td>\n",
       "      <td>0.0</td>\n",
       "      <td>0.0</td>\n",
       "      <td>0.0</td>\n",
       "      <td>0.0</td>\n",
       "      <td>0.0</td>\n",
       "      <td>0.0</td>\n",
       "      <td>0.0</td>\n",
       "      <td>...</td>\n",
       "      <td>0.0</td>\n",
       "      <td>0.0</td>\n",
       "      <td>0.0</td>\n",
       "      <td>0.0</td>\n",
       "      <td>0.0</td>\n",
       "      <td>0.0</td>\n",
       "      <td>0.0</td>\n",
       "      <td>0.0</td>\n",
       "      <td>0.0</td>\n",
       "      <td>0.0</td>\n",
       "    </tr>\n",
       "    <tr>\n",
       "      <th>120503</th>\n",
       "      <td>0.0</td>\n",
       "      <td>0.0</td>\n",
       "      <td>0.0</td>\n",
       "      <td>0.0</td>\n",
       "      <td>0.0</td>\n",
       "      <td>0.0</td>\n",
       "      <td>0.0</td>\n",
       "      <td>0.0</td>\n",
       "      <td>0.0</td>\n",
       "      <td>0.0</td>\n",
       "      <td>...</td>\n",
       "      <td>0.0</td>\n",
       "      <td>0.0</td>\n",
       "      <td>0.0</td>\n",
       "      <td>0.0</td>\n",
       "      <td>0.0</td>\n",
       "      <td>0.0</td>\n",
       "      <td>0.0</td>\n",
       "      <td>0.0</td>\n",
       "      <td>0.0</td>\n",
       "      <td>0.0</td>\n",
       "    </tr>\n",
       "    <tr>\n",
       "      <th>120504</th>\n",
       "      <td>0.0</td>\n",
       "      <td>0.0</td>\n",
       "      <td>0.0</td>\n",
       "      <td>0.0</td>\n",
       "      <td>0.0</td>\n",
       "      <td>0.0</td>\n",
       "      <td>0.0</td>\n",
       "      <td>0.0</td>\n",
       "      <td>0.0</td>\n",
       "      <td>0.0</td>\n",
       "      <td>...</td>\n",
       "      <td>0.0</td>\n",
       "      <td>0.0</td>\n",
       "      <td>0.0</td>\n",
       "      <td>0.0</td>\n",
       "      <td>0.0</td>\n",
       "      <td>0.0</td>\n",
       "      <td>0.0</td>\n",
       "      <td>0.0</td>\n",
       "      <td>0.0</td>\n",
       "      <td>0.0</td>\n",
       "    </tr>\n",
       "    <tr>\n",
       "      <th>120505</th>\n",
       "      <td>0.0</td>\n",
       "      <td>0.0</td>\n",
       "      <td>0.0</td>\n",
       "      <td>0.0</td>\n",
       "      <td>0.0</td>\n",
       "      <td>0.0</td>\n",
       "      <td>0.0</td>\n",
       "      <td>0.0</td>\n",
       "      <td>0.0</td>\n",
       "      <td>0.0</td>\n",
       "      <td>...</td>\n",
       "      <td>0.0</td>\n",
       "      <td>0.0</td>\n",
       "      <td>0.0</td>\n",
       "      <td>0.0</td>\n",
       "      <td>0.0</td>\n",
       "      <td>0.0</td>\n",
       "      <td>0.0</td>\n",
       "      <td>0.0</td>\n",
       "      <td>0.0</td>\n",
       "      <td>0.0</td>\n",
       "    </tr>\n",
       "    <tr>\n",
       "      <th>120506</th>\n",
       "      <td>0.0</td>\n",
       "      <td>0.0</td>\n",
       "      <td>0.0</td>\n",
       "      <td>0.0</td>\n",
       "      <td>0.0</td>\n",
       "      <td>0.0</td>\n",
       "      <td>1.0</td>\n",
       "      <td>0.0</td>\n",
       "      <td>0.0</td>\n",
       "      <td>0.0</td>\n",
       "      <td>...</td>\n",
       "      <td>0.0</td>\n",
       "      <td>0.0</td>\n",
       "      <td>0.0</td>\n",
       "      <td>0.0</td>\n",
       "      <td>0.0</td>\n",
       "      <td>0.0</td>\n",
       "      <td>0.0</td>\n",
       "      <td>0.0</td>\n",
       "      <td>0.0</td>\n",
       "      <td>0.0</td>\n",
       "    </tr>\n",
       "  </tbody>\n",
       "</table>\n",
       "<p>120507 rows × 171 columns</p>\n",
       "</div>"
      ],
      "text/plain": [
       "        town_BEDOK  town_BISHAN  town_BUKIT BATOK  town_BUKIT MERAH  \\\n",
       "0              0.0          0.0               0.0               0.0   \n",
       "1              1.0          0.0               0.0               0.0   \n",
       "2              0.0          0.0               0.0               0.0   \n",
       "3              0.0          0.0               0.0               0.0   \n",
       "4              0.0          0.0               0.0               0.0   \n",
       "...            ...          ...               ...               ...   \n",
       "120502         0.0          0.0               0.0               0.0   \n",
       "120503         0.0          0.0               0.0               0.0   \n",
       "120504         0.0          0.0               0.0               0.0   \n",
       "120505         0.0          0.0               0.0               0.0   \n",
       "120506         0.0          0.0               0.0               0.0   \n",
       "\n",
       "        town_BUKIT PANJANG  town_BUKIT TIMAH  town_CENTRAL AREA  \\\n",
       "0                      0.0               0.0                0.0   \n",
       "1                      0.0               0.0                0.0   \n",
       "2                      0.0               0.0                0.0   \n",
       "3                      0.0               0.0                0.0   \n",
       "4                      0.0               0.0                0.0   \n",
       "...                    ...               ...                ...   \n",
       "120502                 0.0               0.0                0.0   \n",
       "120503                 0.0               0.0                0.0   \n",
       "120504                 0.0               0.0                0.0   \n",
       "120505                 0.0               0.0                0.0   \n",
       "120506                 0.0               0.0                1.0   \n",
       "\n",
       "        town_CHOA CHU KANG  town_CLEMENTI  town_GEYLANG  ...  mrt_name_Ubi  \\\n",
       "0                      0.0            0.0           1.0  ...           0.0   \n",
       "1                      0.0            0.0           0.0  ...           0.0   \n",
       "2                      0.0            0.0           0.0  ...           0.0   \n",
       "3                      0.0            0.0           0.0  ...           0.0   \n",
       "4                      0.0            0.0           0.0  ...           0.0   \n",
       "...                    ...            ...           ...  ...           ...   \n",
       "120502                 0.0            0.0           0.0  ...           0.0   \n",
       "120503                 0.0            0.0           0.0  ...           0.0   \n",
       "120504                 0.0            0.0           0.0  ...           0.0   \n",
       "120505                 0.0            0.0           0.0  ...           0.0   \n",
       "120506                 0.0            0.0           0.0  ...           0.0   \n",
       "\n",
       "        mrt_name_Upper Changi  mrt_name_Woodlands  mrt_name_Woodlands North  \\\n",
       "0                         0.0                 0.0                       0.0   \n",
       "1                         0.0                 0.0                       0.0   \n",
       "2                         0.0                 0.0                       0.0   \n",
       "3                         0.0                 0.0                       0.0   \n",
       "4                         0.0                 0.0                       0.0   \n",
       "...                       ...                 ...                       ...   \n",
       "120502                    0.0                 0.0                       0.0   \n",
       "120503                    0.0                 0.0                       0.0   \n",
       "120504                    0.0                 0.0                       0.0   \n",
       "120505                    0.0                 0.0                       0.0   \n",
       "120506                    0.0                 0.0                       0.0   \n",
       "\n",
       "        mrt_name_Woodlands South  mrt_name_Woodleigh  mrt_name_Yew Tee  \\\n",
       "0                            0.0                 0.0               0.0   \n",
       "1                            0.0                 0.0               0.0   \n",
       "2                            0.0                 0.0               0.0   \n",
       "3                            0.0                 0.0               0.0   \n",
       "4                            0.0                 0.0               0.0   \n",
       "...                          ...                 ...               ...   \n",
       "120502                       0.0                 0.0               0.0   \n",
       "120503                       0.0                 0.0               0.0   \n",
       "120504                       0.0                 0.0               0.0   \n",
       "120505                       0.0                 0.0               0.0   \n",
       "120506                       0.0                 0.0               0.0   \n",
       "\n",
       "        mrt_name_Yio Chu Kang  mrt_name_Yishun  mrt_name_one-north  \n",
       "0                         0.0              0.0                 0.0  \n",
       "1                         0.0              0.0                 0.0  \n",
       "2                         1.0              0.0                 0.0  \n",
       "3                         0.0              0.0                 0.0  \n",
       "4                         0.0              0.0                 0.0  \n",
       "...                       ...              ...                 ...  \n",
       "120502                    0.0              0.0                 0.0  \n",
       "120503                    0.0              0.0                 0.0  \n",
       "120504                    0.0              0.0                 0.0  \n",
       "120505                    0.0              0.0                 0.0  \n",
       "120506                    0.0              0.0                 0.0  \n",
       "\n",
       "[120507 rows x 171 columns]"
      ]
     },
     "execution_count": 15,
     "metadata": {},
     "output_type": "execute_result"
    }
   ],
   "source": [
    "ohe_X_train_objs"
   ]
  },
  {
   "cell_type": "markdown",
   "id": "1f4736eb-f732-48df-a812-a6872a3a8f5d",
   "metadata": {},
   "source": [
    "Categorical columns have now been one hot encoded and put back into a dataframe to merge back with the numerical columns later."
   ]
  },
  {
   "cell_type": "code",
   "execution_count": 16,
   "id": "963178e0-9dd7-4aaf-8c1c-3ae25ec988b1",
   "metadata": {
    "tags": []
   },
   "outputs": [],
   "source": [
    "ohe_X_test_objs = pd.DataFrame(ohe.transform(X_test_objs))"
   ]
  },
  {
   "cell_type": "code",
   "execution_count": 17,
   "id": "9ec32cdd-5f3d-49a3-8fe0-08e8c5e8d49f",
   "metadata": {
    "tags": []
   },
   "outputs": [],
   "source": [
    "ohe_X_test_objs.columns = ohe.get_feature_names_out(input_features=X_test_objs.columns)"
   ]
  },
  {
   "cell_type": "code",
   "execution_count": 18,
   "id": "14a630b1-843d-4a7a-a281-70a43b3d5e6e",
   "metadata": {
    "tags": []
   },
   "outputs": [
    {
     "data": {
      "text/html": [
       "<div>\n",
       "<style scoped>\n",
       "    .dataframe tbody tr th:only-of-type {\n",
       "        vertical-align: middle;\n",
       "    }\n",
       "\n",
       "    .dataframe tbody tr th {\n",
       "        vertical-align: top;\n",
       "    }\n",
       "\n",
       "    .dataframe thead th {\n",
       "        text-align: right;\n",
       "    }\n",
       "</style>\n",
       "<table border=\"1\" class=\"dataframe\">\n",
       "  <thead>\n",
       "    <tr style=\"text-align: right;\">\n",
       "      <th></th>\n",
       "      <th>town_BEDOK</th>\n",
       "      <th>town_BISHAN</th>\n",
       "      <th>town_BUKIT BATOK</th>\n",
       "      <th>town_BUKIT MERAH</th>\n",
       "      <th>town_BUKIT PANJANG</th>\n",
       "      <th>town_BUKIT TIMAH</th>\n",
       "      <th>town_CENTRAL AREA</th>\n",
       "      <th>town_CHOA CHU KANG</th>\n",
       "      <th>town_CLEMENTI</th>\n",
       "      <th>town_GEYLANG</th>\n",
       "      <th>...</th>\n",
       "      <th>mrt_name_Ubi</th>\n",
       "      <th>mrt_name_Upper Changi</th>\n",
       "      <th>mrt_name_Woodlands</th>\n",
       "      <th>mrt_name_Woodlands North</th>\n",
       "      <th>mrt_name_Woodlands South</th>\n",
       "      <th>mrt_name_Woodleigh</th>\n",
       "      <th>mrt_name_Yew Tee</th>\n",
       "      <th>mrt_name_Yio Chu Kang</th>\n",
       "      <th>mrt_name_Yishun</th>\n",
       "      <th>mrt_name_one-north</th>\n",
       "    </tr>\n",
       "  </thead>\n",
       "  <tbody>\n",
       "    <tr>\n",
       "      <th>0</th>\n",
       "      <td>0.0</td>\n",
       "      <td>0.0</td>\n",
       "      <td>0.0</td>\n",
       "      <td>0.0</td>\n",
       "      <td>0.0</td>\n",
       "      <td>0.0</td>\n",
       "      <td>0.0</td>\n",
       "      <td>0.0</td>\n",
       "      <td>0.0</td>\n",
       "      <td>0.0</td>\n",
       "      <td>...</td>\n",
       "      <td>0.0</td>\n",
       "      <td>0.0</td>\n",
       "      <td>0.0</td>\n",
       "      <td>0.0</td>\n",
       "      <td>0.0</td>\n",
       "      <td>0.0</td>\n",
       "      <td>0.0</td>\n",
       "      <td>0.0</td>\n",
       "      <td>0.0</td>\n",
       "      <td>0.0</td>\n",
       "    </tr>\n",
       "    <tr>\n",
       "      <th>1</th>\n",
       "      <td>0.0</td>\n",
       "      <td>0.0</td>\n",
       "      <td>0.0</td>\n",
       "      <td>0.0</td>\n",
       "      <td>0.0</td>\n",
       "      <td>0.0</td>\n",
       "      <td>0.0</td>\n",
       "      <td>0.0</td>\n",
       "      <td>0.0</td>\n",
       "      <td>0.0</td>\n",
       "      <td>...</td>\n",
       "      <td>0.0</td>\n",
       "      <td>0.0</td>\n",
       "      <td>0.0</td>\n",
       "      <td>0.0</td>\n",
       "      <td>0.0</td>\n",
       "      <td>0.0</td>\n",
       "      <td>0.0</td>\n",
       "      <td>0.0</td>\n",
       "      <td>0.0</td>\n",
       "      <td>0.0</td>\n",
       "    </tr>\n",
       "    <tr>\n",
       "      <th>2</th>\n",
       "      <td>0.0</td>\n",
       "      <td>0.0</td>\n",
       "      <td>0.0</td>\n",
       "      <td>0.0</td>\n",
       "      <td>0.0</td>\n",
       "      <td>0.0</td>\n",
       "      <td>0.0</td>\n",
       "      <td>0.0</td>\n",
       "      <td>0.0</td>\n",
       "      <td>0.0</td>\n",
       "      <td>...</td>\n",
       "      <td>0.0</td>\n",
       "      <td>0.0</td>\n",
       "      <td>0.0</td>\n",
       "      <td>0.0</td>\n",
       "      <td>0.0</td>\n",
       "      <td>0.0</td>\n",
       "      <td>0.0</td>\n",
       "      <td>0.0</td>\n",
       "      <td>0.0</td>\n",
       "      <td>0.0</td>\n",
       "    </tr>\n",
       "    <tr>\n",
       "      <th>3</th>\n",
       "      <td>0.0</td>\n",
       "      <td>0.0</td>\n",
       "      <td>0.0</td>\n",
       "      <td>0.0</td>\n",
       "      <td>0.0</td>\n",
       "      <td>0.0</td>\n",
       "      <td>0.0</td>\n",
       "      <td>0.0</td>\n",
       "      <td>0.0</td>\n",
       "      <td>0.0</td>\n",
       "      <td>...</td>\n",
       "      <td>0.0</td>\n",
       "      <td>0.0</td>\n",
       "      <td>0.0</td>\n",
       "      <td>0.0</td>\n",
       "      <td>0.0</td>\n",
       "      <td>0.0</td>\n",
       "      <td>0.0</td>\n",
       "      <td>0.0</td>\n",
       "      <td>0.0</td>\n",
       "      <td>0.0</td>\n",
       "    </tr>\n",
       "    <tr>\n",
       "      <th>4</th>\n",
       "      <td>0.0</td>\n",
       "      <td>0.0</td>\n",
       "      <td>0.0</td>\n",
       "      <td>0.0</td>\n",
       "      <td>0.0</td>\n",
       "      <td>0.0</td>\n",
       "      <td>0.0</td>\n",
       "      <td>0.0</td>\n",
       "      <td>0.0</td>\n",
       "      <td>0.0</td>\n",
       "      <td>...</td>\n",
       "      <td>0.0</td>\n",
       "      <td>0.0</td>\n",
       "      <td>0.0</td>\n",
       "      <td>0.0</td>\n",
       "      <td>0.0</td>\n",
       "      <td>0.0</td>\n",
       "      <td>0.0</td>\n",
       "      <td>0.0</td>\n",
       "      <td>0.0</td>\n",
       "      <td>0.0</td>\n",
       "    </tr>\n",
       "    <tr>\n",
       "      <th>...</th>\n",
       "      <td>...</td>\n",
       "      <td>...</td>\n",
       "      <td>...</td>\n",
       "      <td>...</td>\n",
       "      <td>...</td>\n",
       "      <td>...</td>\n",
       "      <td>...</td>\n",
       "      <td>...</td>\n",
       "      <td>...</td>\n",
       "      <td>...</td>\n",
       "      <td>...</td>\n",
       "      <td>...</td>\n",
       "      <td>...</td>\n",
       "      <td>...</td>\n",
       "      <td>...</td>\n",
       "      <td>...</td>\n",
       "      <td>...</td>\n",
       "      <td>...</td>\n",
       "      <td>...</td>\n",
       "      <td>...</td>\n",
       "      <td>...</td>\n",
       "    </tr>\n",
       "    <tr>\n",
       "      <th>30122</th>\n",
       "      <td>0.0</td>\n",
       "      <td>0.0</td>\n",
       "      <td>0.0</td>\n",
       "      <td>0.0</td>\n",
       "      <td>0.0</td>\n",
       "      <td>0.0</td>\n",
       "      <td>0.0</td>\n",
       "      <td>0.0</td>\n",
       "      <td>1.0</td>\n",
       "      <td>0.0</td>\n",
       "      <td>...</td>\n",
       "      <td>0.0</td>\n",
       "      <td>0.0</td>\n",
       "      <td>0.0</td>\n",
       "      <td>0.0</td>\n",
       "      <td>0.0</td>\n",
       "      <td>0.0</td>\n",
       "      <td>0.0</td>\n",
       "      <td>0.0</td>\n",
       "      <td>0.0</td>\n",
       "      <td>0.0</td>\n",
       "    </tr>\n",
       "    <tr>\n",
       "      <th>30123</th>\n",
       "      <td>0.0</td>\n",
       "      <td>0.0</td>\n",
       "      <td>0.0</td>\n",
       "      <td>0.0</td>\n",
       "      <td>0.0</td>\n",
       "      <td>0.0</td>\n",
       "      <td>0.0</td>\n",
       "      <td>0.0</td>\n",
       "      <td>0.0</td>\n",
       "      <td>0.0</td>\n",
       "      <td>...</td>\n",
       "      <td>0.0</td>\n",
       "      <td>0.0</td>\n",
       "      <td>0.0</td>\n",
       "      <td>0.0</td>\n",
       "      <td>0.0</td>\n",
       "      <td>0.0</td>\n",
       "      <td>0.0</td>\n",
       "      <td>0.0</td>\n",
       "      <td>0.0</td>\n",
       "      <td>0.0</td>\n",
       "    </tr>\n",
       "    <tr>\n",
       "      <th>30124</th>\n",
       "      <td>0.0</td>\n",
       "      <td>0.0</td>\n",
       "      <td>0.0</td>\n",
       "      <td>0.0</td>\n",
       "      <td>0.0</td>\n",
       "      <td>0.0</td>\n",
       "      <td>0.0</td>\n",
       "      <td>0.0</td>\n",
       "      <td>0.0</td>\n",
       "      <td>0.0</td>\n",
       "      <td>...</td>\n",
       "      <td>0.0</td>\n",
       "      <td>0.0</td>\n",
       "      <td>0.0</td>\n",
       "      <td>0.0</td>\n",
       "      <td>0.0</td>\n",
       "      <td>0.0</td>\n",
       "      <td>0.0</td>\n",
       "      <td>0.0</td>\n",
       "      <td>0.0</td>\n",
       "      <td>1.0</td>\n",
       "    </tr>\n",
       "    <tr>\n",
       "      <th>30125</th>\n",
       "      <td>0.0</td>\n",
       "      <td>0.0</td>\n",
       "      <td>0.0</td>\n",
       "      <td>1.0</td>\n",
       "      <td>0.0</td>\n",
       "      <td>0.0</td>\n",
       "      <td>0.0</td>\n",
       "      <td>0.0</td>\n",
       "      <td>0.0</td>\n",
       "      <td>0.0</td>\n",
       "      <td>...</td>\n",
       "      <td>0.0</td>\n",
       "      <td>0.0</td>\n",
       "      <td>0.0</td>\n",
       "      <td>0.0</td>\n",
       "      <td>0.0</td>\n",
       "      <td>0.0</td>\n",
       "      <td>0.0</td>\n",
       "      <td>0.0</td>\n",
       "      <td>0.0</td>\n",
       "      <td>0.0</td>\n",
       "    </tr>\n",
       "    <tr>\n",
       "      <th>30126</th>\n",
       "      <td>0.0</td>\n",
       "      <td>0.0</td>\n",
       "      <td>0.0</td>\n",
       "      <td>0.0</td>\n",
       "      <td>0.0</td>\n",
       "      <td>0.0</td>\n",
       "      <td>0.0</td>\n",
       "      <td>0.0</td>\n",
       "      <td>0.0</td>\n",
       "      <td>0.0</td>\n",
       "      <td>...</td>\n",
       "      <td>0.0</td>\n",
       "      <td>0.0</td>\n",
       "      <td>0.0</td>\n",
       "      <td>0.0</td>\n",
       "      <td>0.0</td>\n",
       "      <td>0.0</td>\n",
       "      <td>0.0</td>\n",
       "      <td>0.0</td>\n",
       "      <td>0.0</td>\n",
       "      <td>0.0</td>\n",
       "    </tr>\n",
       "  </tbody>\n",
       "</table>\n",
       "<p>30127 rows × 171 columns</p>\n",
       "</div>"
      ],
      "text/plain": [
       "       town_BEDOK  town_BISHAN  town_BUKIT BATOK  town_BUKIT MERAH  \\\n",
       "0             0.0          0.0               0.0               0.0   \n",
       "1             0.0          0.0               0.0               0.0   \n",
       "2             0.0          0.0               0.0               0.0   \n",
       "3             0.0          0.0               0.0               0.0   \n",
       "4             0.0          0.0               0.0               0.0   \n",
       "...           ...          ...               ...               ...   \n",
       "30122         0.0          0.0               0.0               0.0   \n",
       "30123         0.0          0.0               0.0               0.0   \n",
       "30124         0.0          0.0               0.0               0.0   \n",
       "30125         0.0          0.0               0.0               1.0   \n",
       "30126         0.0          0.0               0.0               0.0   \n",
       "\n",
       "       town_BUKIT PANJANG  town_BUKIT TIMAH  town_CENTRAL AREA  \\\n",
       "0                     0.0               0.0                0.0   \n",
       "1                     0.0               0.0                0.0   \n",
       "2                     0.0               0.0                0.0   \n",
       "3                     0.0               0.0                0.0   \n",
       "4                     0.0               0.0                0.0   \n",
       "...                   ...               ...                ...   \n",
       "30122                 0.0               0.0                0.0   \n",
       "30123                 0.0               0.0                0.0   \n",
       "30124                 0.0               0.0                0.0   \n",
       "30125                 0.0               0.0                0.0   \n",
       "30126                 0.0               0.0                0.0   \n",
       "\n",
       "       town_CHOA CHU KANG  town_CLEMENTI  town_GEYLANG  ...  mrt_name_Ubi  \\\n",
       "0                     0.0            0.0           0.0  ...           0.0   \n",
       "1                     0.0            0.0           0.0  ...           0.0   \n",
       "2                     0.0            0.0           0.0  ...           0.0   \n",
       "3                     0.0            0.0           0.0  ...           0.0   \n",
       "4                     0.0            0.0           0.0  ...           0.0   \n",
       "...                   ...            ...           ...  ...           ...   \n",
       "30122                 0.0            1.0           0.0  ...           0.0   \n",
       "30123                 0.0            0.0           0.0  ...           0.0   \n",
       "30124                 0.0            0.0           0.0  ...           0.0   \n",
       "30125                 0.0            0.0           0.0  ...           0.0   \n",
       "30126                 0.0            0.0           0.0  ...           0.0   \n",
       "\n",
       "       mrt_name_Upper Changi  mrt_name_Woodlands  mrt_name_Woodlands North  \\\n",
       "0                        0.0                 0.0                       0.0   \n",
       "1                        0.0                 0.0                       0.0   \n",
       "2                        0.0                 0.0                       0.0   \n",
       "3                        0.0                 0.0                       0.0   \n",
       "4                        0.0                 0.0                       0.0   \n",
       "...                      ...                 ...                       ...   \n",
       "30122                    0.0                 0.0                       0.0   \n",
       "30123                    0.0                 0.0                       0.0   \n",
       "30124                    0.0                 0.0                       0.0   \n",
       "30125                    0.0                 0.0                       0.0   \n",
       "30126                    0.0                 0.0                       0.0   \n",
       "\n",
       "       mrt_name_Woodlands South  mrt_name_Woodleigh  mrt_name_Yew Tee  \\\n",
       "0                           0.0                 0.0               0.0   \n",
       "1                           0.0                 0.0               0.0   \n",
       "2                           0.0                 0.0               0.0   \n",
       "3                           0.0                 0.0               0.0   \n",
       "4                           0.0                 0.0               0.0   \n",
       "...                         ...                 ...               ...   \n",
       "30122                       0.0                 0.0               0.0   \n",
       "30123                       0.0                 0.0               0.0   \n",
       "30124                       0.0                 0.0               0.0   \n",
       "30125                       0.0                 0.0               0.0   \n",
       "30126                       0.0                 0.0               0.0   \n",
       "\n",
       "       mrt_name_Yio Chu Kang  mrt_name_Yishun  mrt_name_one-north  \n",
       "0                        0.0              0.0                 0.0  \n",
       "1                        0.0              0.0                 0.0  \n",
       "2                        0.0              0.0                 0.0  \n",
       "3                        0.0              0.0                 0.0  \n",
       "4                        0.0              0.0                 0.0  \n",
       "...                      ...              ...                 ...  \n",
       "30122                    0.0              0.0                 0.0  \n",
       "30123                    0.0              0.0                 0.0  \n",
       "30124                    0.0              0.0                 1.0  \n",
       "30125                    0.0              0.0                 0.0  \n",
       "30126                    0.0              0.0                 0.0  \n",
       "\n",
       "[30127 rows x 171 columns]"
      ]
     },
     "execution_count": 18,
     "metadata": {},
     "output_type": "execute_result"
    }
   ],
   "source": [
    "ohe_X_test_objs"
   ]
  },
  {
   "cell_type": "markdown",
   "id": "9f782ac4-b9f2-4f24-b1f7-ce7e3b7e0883",
   "metadata": {},
   "source": [
    "Repeating the same process for X test"
   ]
  },
  {
   "cell_type": "markdown",
   "id": "9503edc4-5735-43fa-b52a-3818125030f5",
   "metadata": {},
   "source": [
    "## Scaling Train and Test Sets"
   ]
  },
  {
   "cell_type": "code",
   "execution_count": 19,
   "id": "cd5d6721-7cbd-4c2d-8f8d-b1a214f2c30f",
   "metadata": {
    "scrolled": true,
    "tags": []
   },
   "outputs": [
    {
     "name": "stdout",
     "output_type": "stream",
     "text": [
      "<class 'pandas.core.frame.DataFrame'>\n",
      "Int64Index: 120507 entries, 107922 to 121958\n",
      "Data columns (total 50 columns):\n",
      " #   Column                         Non-Null Count   Dtype  \n",
      "---  ------                         --------------   -----  \n",
      " 0   floor_area_sqm                 120507 non-null  float64\n",
      " 1   lease_commence_date            120507 non-null  int64  \n",
      " 2   Tranc_Year                     120507 non-null  int64  \n",
      " 3   Tranc_Month                    120507 non-null  int64  \n",
      " 4   lower                          120507 non-null  int64  \n",
      " 5   upper                          120507 non-null  int64  \n",
      " 6   mid                            120507 non-null  int64  \n",
      " 7   max_floor_lvl                  120507 non-null  int64  \n",
      " 8   year_completed                 120507 non-null  int64  \n",
      " 9   total_dwelling_units           120507 non-null  int64  \n",
      " 10  1room_sold                     120507 non-null  int64  \n",
      " 11  2room_sold                     120507 non-null  int64  \n",
      " 12  3room_sold                     120507 non-null  int64  \n",
      " 13  4room_sold                     120507 non-null  int64  \n",
      " 14  5room_sold                     120507 non-null  int64  \n",
      " 15  exec_sold                      120507 non-null  int64  \n",
      " 16  multigen_sold                  120507 non-null  int64  \n",
      " 17  studio_apartment_sold          120507 non-null  int64  \n",
      " 18  1room_rental                   120507 non-null  int64  \n",
      " 19  2room_rental                   120507 non-null  int64  \n",
      " 20  3room_rental                   120507 non-null  int64  \n",
      " 21  other_room_rental              120507 non-null  int64  \n",
      " 22  Latitude                       120507 non-null  float64\n",
      " 23  Longitude                      120507 non-null  float64\n",
      " 24  Mall_Within_500m               120507 non-null  float64\n",
      " 25  Mall_Within_1km                120507 non-null  float64\n",
      " 26  Mall_Within_2km                120507 non-null  float64\n",
      " 27  Hawker_Nearest_Distance        120507 non-null  float64\n",
      " 28  Hawker_Within_500m             120507 non-null  float64\n",
      " 29  Hawker_Within_1km              120507 non-null  float64\n",
      " 30  Hawker_Within_2km              120507 non-null  float64\n",
      " 31  mrt_nearest_distance           120507 non-null  float64\n",
      " 32  bus_interchange                120507 non-null  int64  \n",
      " 33  mrt_interchange                120507 non-null  int64  \n",
      " 34  mrt_latitude                   120507 non-null  float64\n",
      " 35  mrt_longitude                  120507 non-null  float64\n",
      " 36  bus_stop_nearest_distance      120507 non-null  float64\n",
      " 37  bus_stop_latitude              120507 non-null  float64\n",
      " 38  bus_stop_longitude             120507 non-null  float64\n",
      " 39  pri_sch_nearest_distance       120507 non-null  float64\n",
      " 40  vacancy                        120507 non-null  int64  \n",
      " 41  pri_sch_affiliation            120507 non-null  int64  \n",
      " 42  pri_sch_latitude               120507 non-null  float64\n",
      " 43  pri_sch_longitude              120507 non-null  float64\n",
      " 44  sec_sch_nearest_dist           120507 non-null  float64\n",
      " 45  cutoff_point                   120507 non-null  int64  \n",
      " 46  affiliation                    120507 non-null  int64  \n",
      " 47  sec_sch_latitude               120507 non-null  float64\n",
      " 48  sec_sch_longitude              120507 non-null  float64\n",
      " 49  Mall_Nearest_Distance_Imputed  120507 non-null  float64\n",
      "dtypes: float64(23), int64(27)\n",
      "memory usage: 46.9 MB\n"
     ]
    }
   ],
   "source": [
    "X_train_nums.info()"
   ]
  },
  {
   "cell_type": "markdown",
   "id": "bc30c1af-e32e-4d84-82bd-f82644310cd7",
   "metadata": {},
   "source": [
    "I realise that there are 4 numeric columns which are actually boolean values.\n",
    "\n",
    "1. affiliation\n",
    "2. pri_sch_affiliation\n",
    "3. bus_interchange\n",
    "4. mrt_interchange \n",
    "\n",
    "I don't want to scale boolean values as they are binary and scaling them will not represent the original data well. As such, I will be dropping these 4 columns before scaling the numeric columns and rejoining the 4 colums back together."
   ]
  },
  {
   "cell_type": "code",
   "execution_count": 20,
   "id": "8f97075a-2aa2-4f4d-b0d7-a54688ae1663",
   "metadata": {
    "tags": []
   },
   "outputs": [],
   "source": [
    "scaler = StandardScaler()"
   ]
  },
  {
   "cell_type": "code",
   "execution_count": 21,
   "id": "e1cdf36f-82d9-4cc3-84ea-013be0c7611a",
   "metadata": {
    "tags": []
   },
   "outputs": [],
   "source": [
    "scaled_X_train_nums = scaler.fit_transform(X_train_nums.drop(['affiliation','pri_sch_affiliation','bus_interchange','mrt_interchange'],axis = 1))"
   ]
  },
  {
   "cell_type": "markdown",
   "id": "c4138993-900c-445a-acc2-8a2ff191a036",
   "metadata": {},
   "source": [
    "Fit Transforming my x train nums without the boolean value features."
   ]
  },
  {
   "cell_type": "code",
   "execution_count": 22,
   "id": "6576aeb6-fb72-4faa-8cf3-79075c8974f8",
   "metadata": {
    "tags": []
   },
   "outputs": [],
   "source": [
    "scaled_X_train_nums = pd.DataFrame(scaled_X_train_nums,columns=X_train_nums.drop(['affiliation','pri_sch_affiliation','bus_interchange','mrt_interchange'],axis = 1).columns)"
   ]
  },
  {
   "cell_type": "markdown",
   "id": "3fad5513-a6e0-4369-80d9-e2ab69662546",
   "metadata": {},
   "source": [
    "As the transformed values are in an array, I am putting the data back into a data frame and relabelling the columns."
   ]
  },
  {
   "cell_type": "code",
   "execution_count": 23,
   "id": "2f025151-3289-4cf1-9d39-b3e0ff2f1049",
   "metadata": {
    "tags": []
   },
   "outputs": [],
   "source": [
    "scaled_X_train_nums[['affiliation','pri_sch_affiliation','bus_interchange','mrt_interchange']] = X_train_nums[['affiliation','pri_sch_affiliation','bus_interchange','mrt_interchange']].reset_index(drop=True)"
   ]
  },
  {
   "cell_type": "markdown",
   "id": "82d2c865-8a32-4e9b-b95c-5f8c55129b40",
   "metadata": {},
   "source": [
    "Adding back the 4 boolean value columns."
   ]
  },
  {
   "cell_type": "code",
   "execution_count": 24,
   "id": "77f5af46-2681-40a9-b9d6-91cec4611cbe",
   "metadata": {
    "tags": []
   },
   "outputs": [
    {
     "data": {
      "text/html": [
       "<div>\n",
       "<style scoped>\n",
       "    .dataframe tbody tr th:only-of-type {\n",
       "        vertical-align: middle;\n",
       "    }\n",
       "\n",
       "    .dataframe tbody tr th {\n",
       "        vertical-align: top;\n",
       "    }\n",
       "\n",
       "    .dataframe thead th {\n",
       "        text-align: right;\n",
       "    }\n",
       "</style>\n",
       "<table border=\"1\" class=\"dataframe\">\n",
       "  <thead>\n",
       "    <tr style=\"text-align: right;\">\n",
       "      <th></th>\n",
       "      <th>floor_area_sqm</th>\n",
       "      <th>lease_commence_date</th>\n",
       "      <th>Tranc_Year</th>\n",
       "      <th>Tranc_Month</th>\n",
       "      <th>lower</th>\n",
       "      <th>upper</th>\n",
       "      <th>mid</th>\n",
       "      <th>max_floor_lvl</th>\n",
       "      <th>year_completed</th>\n",
       "      <th>total_dwelling_units</th>\n",
       "      <th>...</th>\n",
       "      <th>pri_sch_longitude</th>\n",
       "      <th>sec_sch_nearest_dist</th>\n",
       "      <th>cutoff_point</th>\n",
       "      <th>sec_sch_latitude</th>\n",
       "      <th>sec_sch_longitude</th>\n",
       "      <th>Mall_Nearest_Distance_Imputed</th>\n",
       "      <th>affiliation</th>\n",
       "      <th>pri_sch_affiliation</th>\n",
       "      <th>bus_interchange</th>\n",
       "      <th>mrt_interchange</th>\n",
       "    </tr>\n",
       "  </thead>\n",
       "  <tbody>\n",
       "    <tr>\n",
       "      <th>0</th>\n",
       "      <td>-0.871090</td>\n",
       "      <td>-1.274507</td>\n",
       "      <td>-0.541554</td>\n",
       "      <td>-1.670383</td>\n",
       "      <td>-0.044711</td>\n",
       "      <td>-0.057839</td>\n",
       "      <td>-0.051300</td>\n",
       "      <td>-0.343280</td>\n",
       "      <td>-1.224483</td>\n",
       "      <td>0.983980</td>\n",
       "      <td>...</td>\n",
       "      <td>0.597569</td>\n",
       "      <td>-0.080688</td>\n",
       "      <td>0.691741</td>\n",
       "      <td>-1.133456</td>\n",
       "      <td>0.594585</td>\n",
       "      <td>0.704271</td>\n",
       "      <td>0</td>\n",
       "      <td>1</td>\n",
       "      <td>0</td>\n",
       "      <td>0</td>\n",
       "    </tr>\n",
       "    <tr>\n",
       "      <th>1</th>\n",
       "      <td>0.030637</td>\n",
       "      <td>-1.192042</td>\n",
       "      <td>1.275574</td>\n",
       "      <td>1.020394</td>\n",
       "      <td>-0.587205</td>\n",
       "      <td>-0.601074</td>\n",
       "      <td>-0.594473</td>\n",
       "      <td>-0.343280</td>\n",
       "      <td>-1.142459</td>\n",
       "      <td>1.309890</td>\n",
       "      <td>...</td>\n",
       "      <td>1.311111</td>\n",
       "      <td>-0.550911</td>\n",
       "      <td>-1.106348</td>\n",
       "      <td>-0.754181</td>\n",
       "      <td>1.323920</td>\n",
       "      <td>0.753246</td>\n",
       "      <td>0</td>\n",
       "      <td>0</td>\n",
       "      <td>0</td>\n",
       "      <td>0</td>\n",
       "    </tr>\n",
       "    <tr>\n",
       "      <th>2</th>\n",
       "      <td>-0.256276</td>\n",
       "      <td>-0.944646</td>\n",
       "      <td>-0.178129</td>\n",
       "      <td>-0.175507</td>\n",
       "      <td>-0.044711</td>\n",
       "      <td>-0.057839</td>\n",
       "      <td>-0.051300</td>\n",
       "      <td>-0.663891</td>\n",
       "      <td>-0.896387</td>\n",
       "      <td>0.263547</td>\n",
       "      <td>...</td>\n",
       "      <td>-0.065401</td>\n",
       "      <td>-0.405330</td>\n",
       "      <td>2.290042</td>\n",
       "      <td>0.181894</td>\n",
       "      <td>-0.068507</td>\n",
       "      <td>1.103466</td>\n",
       "      <td>1</td>\n",
       "      <td>1</td>\n",
       "      <td>1</td>\n",
       "      <td>0</td>\n",
       "    </tr>\n",
       "    <tr>\n",
       "      <th>3</th>\n",
       "      <td>0.399526</td>\n",
       "      <td>0.292333</td>\n",
       "      <td>1.639000</td>\n",
       "      <td>-1.670383</td>\n",
       "      <td>-0.044711</td>\n",
       "      <td>-0.057839</td>\n",
       "      <td>-0.051300</td>\n",
       "      <td>-0.984503</td>\n",
       "      <td>0.251949</td>\n",
       "      <td>-0.765644</td>\n",
       "      <td>...</td>\n",
       "      <td>1.688331</td>\n",
       "      <td>-0.582214</td>\n",
       "      <td>-1.106348</td>\n",
       "      <td>-0.216234</td>\n",
       "      <td>1.676024</td>\n",
       "      <td>1.814273</td>\n",
       "      <td>0</td>\n",
       "      <td>0</td>\n",
       "      <td>0</td>\n",
       "      <td>0</td>\n",
       "    </tr>\n",
       "    <tr>\n",
       "      <th>4</th>\n",
       "      <td>-1.526892</td>\n",
       "      <td>-2.099160</td>\n",
       "      <td>-0.541554</td>\n",
       "      <td>0.123468</td>\n",
       "      <td>-1.129699</td>\n",
       "      <td>-1.144309</td>\n",
       "      <td>-1.137646</td>\n",
       "      <td>0.137638</td>\n",
       "      <td>-2.208770</td>\n",
       "      <td>2.201856</td>\n",
       "      <td>...</td>\n",
       "      <td>-0.537839</td>\n",
       "      <td>-0.216145</td>\n",
       "      <td>0.192272</td>\n",
       "      <td>-1.536567</td>\n",
       "      <td>-0.516834</td>\n",
       "      <td>0.840046</td>\n",
       "      <td>0</td>\n",
       "      <td>0</td>\n",
       "      <td>0</td>\n",
       "      <td>0</td>\n",
       "    </tr>\n",
       "  </tbody>\n",
       "</table>\n",
       "<p>5 rows × 50 columns</p>\n",
       "</div>"
      ],
      "text/plain": [
       "   floor_area_sqm  lease_commence_date  Tranc_Year  Tranc_Month     lower  \\\n",
       "0       -0.871090            -1.274507   -0.541554    -1.670383 -0.044711   \n",
       "1        0.030637            -1.192042    1.275574     1.020394 -0.587205   \n",
       "2       -0.256276            -0.944646   -0.178129    -0.175507 -0.044711   \n",
       "3        0.399526             0.292333    1.639000    -1.670383 -0.044711   \n",
       "4       -1.526892            -2.099160   -0.541554     0.123468 -1.129699   \n",
       "\n",
       "      upper       mid  max_floor_lvl  year_completed  total_dwelling_units  \\\n",
       "0 -0.057839 -0.051300      -0.343280       -1.224483              0.983980   \n",
       "1 -0.601074 -0.594473      -0.343280       -1.142459              1.309890   \n",
       "2 -0.057839 -0.051300      -0.663891       -0.896387              0.263547   \n",
       "3 -0.057839 -0.051300      -0.984503        0.251949             -0.765644   \n",
       "4 -1.144309 -1.137646       0.137638       -2.208770              2.201856   \n",
       "\n",
       "   ...  pri_sch_longitude  sec_sch_nearest_dist  cutoff_point  \\\n",
       "0  ...           0.597569             -0.080688      0.691741   \n",
       "1  ...           1.311111             -0.550911     -1.106348   \n",
       "2  ...          -0.065401             -0.405330      2.290042   \n",
       "3  ...           1.688331             -0.582214     -1.106348   \n",
       "4  ...          -0.537839             -0.216145      0.192272   \n",
       "\n",
       "   sec_sch_latitude  sec_sch_longitude  Mall_Nearest_Distance_Imputed  \\\n",
       "0         -1.133456           0.594585                       0.704271   \n",
       "1         -0.754181           1.323920                       0.753246   \n",
       "2          0.181894          -0.068507                       1.103466   \n",
       "3         -0.216234           1.676024                       1.814273   \n",
       "4         -1.536567          -0.516834                       0.840046   \n",
       "\n",
       "   affiliation  pri_sch_affiliation  bus_interchange  mrt_interchange  \n",
       "0            0                    1                0                0  \n",
       "1            0                    0                0                0  \n",
       "2            1                    1                1                0  \n",
       "3            0                    0                0                0  \n",
       "4            0                    0                0                0  \n",
       "\n",
       "[5 rows x 50 columns]"
      ]
     },
     "execution_count": 24,
     "metadata": {},
     "output_type": "execute_result"
    }
   ],
   "source": [
    "scaled_X_train_nums.head()"
   ]
  },
  {
   "cell_type": "markdown",
   "id": "4f49b1e5-6d94-41b2-baa7-dd811e191a45",
   "metadata": {},
   "source": [
    "Scaled X_train numerical columns with 4 boolean value columns added back."
   ]
  },
  {
   "cell_type": "code",
   "execution_count": 25,
   "id": "d88c3bb2-f9fa-4156-8818-499f21f8740c",
   "metadata": {
    "tags": []
   },
   "outputs": [],
   "source": [
    "scaled_X_test_nums = scaler.transform(X_test_nums.drop(['affiliation','pri_sch_affiliation','bus_interchange','mrt_interchange'],axis = 1))"
   ]
  },
  {
   "cell_type": "code",
   "execution_count": 26,
   "id": "6178a65a-1571-4548-95b3-7fccb79db21b",
   "metadata": {
    "tags": []
   },
   "outputs": [],
   "source": [
    "scaled_X_test_nums = pd.DataFrame(scaled_X_test_nums,columns=X_test_nums.drop(['affiliation','pri_sch_affiliation','bus_interchange','mrt_interchange'],axis = 1).columns)"
   ]
  },
  {
   "cell_type": "code",
   "execution_count": 27,
   "id": "1b881f76-9db8-4617-b103-143db8fbb303",
   "metadata": {
    "tags": []
   },
   "outputs": [],
   "source": [
    "scaled_X_test_nums[['affiliation','pri_sch_affiliation','bus_interchange','mrt_interchange']] = X_test_nums[['affiliation','pri_sch_affiliation','bus_interchange','mrt_interchange']].reset_index(drop=True)"
   ]
  },
  {
   "cell_type": "markdown",
   "id": "7d994cc2-ff00-41e9-a93e-9743d37b08e0",
   "metadata": {},
   "source": [
    "Repeating the process for my x_test numerical columns."
   ]
  },
  {
   "cell_type": "code",
   "execution_count": 28,
   "id": "739b417c-8f4f-4d6d-84af-abb316adaca6",
   "metadata": {
    "tags": []
   },
   "outputs": [
    {
     "data": {
      "text/html": [
       "<div>\n",
       "<style scoped>\n",
       "    .dataframe tbody tr th:only-of-type {\n",
       "        vertical-align: middle;\n",
       "    }\n",
       "\n",
       "    .dataframe tbody tr th {\n",
       "        vertical-align: top;\n",
       "    }\n",
       "\n",
       "    .dataframe thead th {\n",
       "        text-align: right;\n",
       "    }\n",
       "</style>\n",
       "<table border=\"1\" class=\"dataframe\">\n",
       "  <thead>\n",
       "    <tr style=\"text-align: right;\">\n",
       "      <th></th>\n",
       "      <th>floor_area_sqm</th>\n",
       "      <th>lease_commence_date</th>\n",
       "      <th>Tranc_Year</th>\n",
       "      <th>Tranc_Month</th>\n",
       "      <th>lower</th>\n",
       "      <th>upper</th>\n",
       "      <th>mid</th>\n",
       "      <th>max_floor_lvl</th>\n",
       "      <th>year_completed</th>\n",
       "      <th>total_dwelling_units</th>\n",
       "      <th>...</th>\n",
       "      <th>pri_sch_longitude</th>\n",
       "      <th>sec_sch_nearest_dist</th>\n",
       "      <th>cutoff_point</th>\n",
       "      <th>sec_sch_latitude</th>\n",
       "      <th>sec_sch_longitude</th>\n",
       "      <th>Mall_Nearest_Distance_Imputed</th>\n",
       "      <th>affiliation</th>\n",
       "      <th>pri_sch_affiliation</th>\n",
       "      <th>bus_interchange</th>\n",
       "      <th>mrt_interchange</th>\n",
       "    </tr>\n",
       "  </thead>\n",
       "  <tbody>\n",
       "    <tr>\n",
       "      <th>0</th>\n",
       "      <td>-0.297264</td>\n",
       "      <td>0.622194</td>\n",
       "      <td>-0.178129</td>\n",
       "      <td>-0.773457</td>\n",
       "      <td>-0.044711</td>\n",
       "      <td>-0.057839</td>\n",
       "      <td>-0.051300</td>\n",
       "      <td>-0.022668</td>\n",
       "      <td>0.662069</td>\n",
       "      <td>-0.216742</td>\n",
       "      <td>...</td>\n",
       "      <td>0.808877</td>\n",
       "      <td>-0.441314</td>\n",
       "      <td>-0.007516</td>\n",
       "      <td>0.709432</td>\n",
       "      <td>0.833551</td>\n",
       "      <td>-0.789013</td>\n",
       "      <td>0</td>\n",
       "      <td>0</td>\n",
       "      <td>1</td>\n",
       "      <td>1</td>\n",
       "    </tr>\n",
       "    <tr>\n",
       "      <th>1</th>\n",
       "      <td>1.014340</td>\n",
       "      <td>0.539729</td>\n",
       "      <td>-0.904980</td>\n",
       "      <td>-0.773457</td>\n",
       "      <td>-0.044711</td>\n",
       "      <td>-0.057839</td>\n",
       "      <td>-0.051300</td>\n",
       "      <td>0.137638</td>\n",
       "      <td>0.580045</td>\n",
       "      <td>-1.125861</td>\n",
       "      <td>...</td>\n",
       "      <td>0.831754</td>\n",
       "      <td>-0.743978</td>\n",
       "      <td>-0.556932</td>\n",
       "      <td>0.472071</td>\n",
       "      <td>0.813200</td>\n",
       "      <td>-0.385495</td>\n",
       "      <td>0</td>\n",
       "      <td>0</td>\n",
       "      <td>1</td>\n",
       "      <td>1</td>\n",
       "    </tr>\n",
       "    <tr>\n",
       "      <th>2</th>\n",
       "      <td>1.957055</td>\n",
       "      <td>0.044937</td>\n",
       "      <td>-0.178129</td>\n",
       "      <td>1.020394</td>\n",
       "      <td>0.497782</td>\n",
       "      <td>0.485395</td>\n",
       "      <td>0.491873</td>\n",
       "      <td>-0.343280</td>\n",
       "      <td>0.087901</td>\n",
       "      <td>-1.314546</td>\n",
       "      <td>...</td>\n",
       "      <td>0.119648</td>\n",
       "      <td>0.291703</td>\n",
       "      <td>0.042431</td>\n",
       "      <td>-0.567360</td>\n",
       "      <td>0.175790</td>\n",
       "      <td>0.250140</td>\n",
       "      <td>0</td>\n",
       "      <td>0</td>\n",
       "      <td>0</td>\n",
       "      <td>0</td>\n",
       "    </tr>\n",
       "    <tr>\n",
       "      <th>3</th>\n",
       "      <td>-1.321954</td>\n",
       "      <td>-1.356972</td>\n",
       "      <td>1.275574</td>\n",
       "      <td>1.020394</td>\n",
       "      <td>-0.044711</td>\n",
       "      <td>-0.057839</td>\n",
       "      <td>-0.051300</td>\n",
       "      <td>0.137638</td>\n",
       "      <td>-1.306507</td>\n",
       "      <td>0.898214</td>\n",
       "      <td>...</td>\n",
       "      <td>0.992374</td>\n",
       "      <td>1.179024</td>\n",
       "      <td>0.741688</td>\n",
       "      <td>-1.367587</td>\n",
       "      <td>1.065933</td>\n",
       "      <td>-0.429257</td>\n",
       "      <td>0</td>\n",
       "      <td>0</td>\n",
       "      <td>1</td>\n",
       "      <td>0</td>\n",
       "    </tr>\n",
       "    <tr>\n",
       "      <th>4</th>\n",
       "      <td>1.137303</td>\n",
       "      <td>0.044937</td>\n",
       "      <td>0.185297</td>\n",
       "      <td>-0.474482</td>\n",
       "      <td>0.497782</td>\n",
       "      <td>0.485395</td>\n",
       "      <td>0.491873</td>\n",
       "      <td>-0.343280</td>\n",
       "      <td>0.087901</td>\n",
       "      <td>-0.902869</td>\n",
       "      <td>...</td>\n",
       "      <td>1.511425</td>\n",
       "      <td>-0.353757</td>\n",
       "      <td>0.941476</td>\n",
       "      <td>-0.127344</td>\n",
       "      <td>1.608641</td>\n",
       "      <td>1.177478</td>\n",
       "      <td>0</td>\n",
       "      <td>0</td>\n",
       "      <td>0</td>\n",
       "      <td>0</td>\n",
       "    </tr>\n",
       "  </tbody>\n",
       "</table>\n",
       "<p>5 rows × 50 columns</p>\n",
       "</div>"
      ],
      "text/plain": [
       "   floor_area_sqm  lease_commence_date  Tranc_Year  Tranc_Month     lower  \\\n",
       "0       -0.297264             0.622194   -0.178129    -0.773457 -0.044711   \n",
       "1        1.014340             0.539729   -0.904980    -0.773457 -0.044711   \n",
       "2        1.957055             0.044937   -0.178129     1.020394  0.497782   \n",
       "3       -1.321954            -1.356972    1.275574     1.020394 -0.044711   \n",
       "4        1.137303             0.044937    0.185297    -0.474482  0.497782   \n",
       "\n",
       "      upper       mid  max_floor_lvl  year_completed  total_dwelling_units  \\\n",
       "0 -0.057839 -0.051300      -0.022668        0.662069             -0.216742   \n",
       "1 -0.057839 -0.051300       0.137638        0.580045             -1.125861   \n",
       "2  0.485395  0.491873      -0.343280        0.087901             -1.314546   \n",
       "3 -0.057839 -0.051300       0.137638       -1.306507              0.898214   \n",
       "4  0.485395  0.491873      -0.343280        0.087901             -0.902869   \n",
       "\n",
       "   ...  pri_sch_longitude  sec_sch_nearest_dist  cutoff_point  \\\n",
       "0  ...           0.808877             -0.441314     -0.007516   \n",
       "1  ...           0.831754             -0.743978     -0.556932   \n",
       "2  ...           0.119648              0.291703      0.042431   \n",
       "3  ...           0.992374              1.179024      0.741688   \n",
       "4  ...           1.511425             -0.353757      0.941476   \n",
       "\n",
       "   sec_sch_latitude  sec_sch_longitude  Mall_Nearest_Distance_Imputed  \\\n",
       "0          0.709432           0.833551                      -0.789013   \n",
       "1          0.472071           0.813200                      -0.385495   \n",
       "2         -0.567360           0.175790                       0.250140   \n",
       "3         -1.367587           1.065933                      -0.429257   \n",
       "4         -0.127344           1.608641                       1.177478   \n",
       "\n",
       "   affiliation  pri_sch_affiliation  bus_interchange  mrt_interchange  \n",
       "0            0                    0                1                1  \n",
       "1            0                    0                1                1  \n",
       "2            0                    0                0                0  \n",
       "3            0                    0                1                0  \n",
       "4            0                    0                0                0  \n",
       "\n",
       "[5 rows x 50 columns]"
      ]
     },
     "execution_count": 28,
     "metadata": {},
     "output_type": "execute_result"
    }
   ],
   "source": [
    "scaled_X_test_nums.head()"
   ]
  },
  {
   "cell_type": "markdown",
   "id": "227c3ee7-0a8a-4a11-88ae-e52bc0ba2102",
   "metadata": {},
   "source": [
    "## Merging Scaled and One-Hot Encoded Data"
   ]
  },
  {
   "cell_type": "code",
   "execution_count": 29,
   "id": "193ebf8c-d98f-4351-aff3-425b285757f5",
   "metadata": {
    "tags": []
   },
   "outputs": [],
   "source": [
    "final_X_train = pd.concat([ohe_X_train_objs,scaled_X_train_nums],axis=1)"
   ]
  },
  {
   "cell_type": "code",
   "execution_count": 30,
   "id": "b913ec6e-2c50-48f7-9056-83c0bcf19bdb",
   "metadata": {
    "tags": []
   },
   "outputs": [
    {
     "data": {
      "text/html": [
       "<div>\n",
       "<style scoped>\n",
       "    .dataframe tbody tr th:only-of-type {\n",
       "        vertical-align: middle;\n",
       "    }\n",
       "\n",
       "    .dataframe tbody tr th {\n",
       "        vertical-align: top;\n",
       "    }\n",
       "\n",
       "    .dataframe thead th {\n",
       "        text-align: right;\n",
       "    }\n",
       "</style>\n",
       "<table border=\"1\" class=\"dataframe\">\n",
       "  <thead>\n",
       "    <tr style=\"text-align: right;\">\n",
       "      <th></th>\n",
       "      <th>town_BEDOK</th>\n",
       "      <th>town_BISHAN</th>\n",
       "      <th>town_BUKIT BATOK</th>\n",
       "      <th>town_BUKIT MERAH</th>\n",
       "      <th>town_BUKIT PANJANG</th>\n",
       "      <th>town_BUKIT TIMAH</th>\n",
       "      <th>town_CENTRAL AREA</th>\n",
       "      <th>town_CHOA CHU KANG</th>\n",
       "      <th>town_CLEMENTI</th>\n",
       "      <th>town_GEYLANG</th>\n",
       "      <th>...</th>\n",
       "      <th>pri_sch_longitude</th>\n",
       "      <th>sec_sch_nearest_dist</th>\n",
       "      <th>cutoff_point</th>\n",
       "      <th>sec_sch_latitude</th>\n",
       "      <th>sec_sch_longitude</th>\n",
       "      <th>Mall_Nearest_Distance_Imputed</th>\n",
       "      <th>affiliation</th>\n",
       "      <th>pri_sch_affiliation</th>\n",
       "      <th>bus_interchange</th>\n",
       "      <th>mrt_interchange</th>\n",
       "    </tr>\n",
       "  </thead>\n",
       "  <tbody>\n",
       "    <tr>\n",
       "      <th>0</th>\n",
       "      <td>0.0</td>\n",
       "      <td>0.0</td>\n",
       "      <td>0.0</td>\n",
       "      <td>0.0</td>\n",
       "      <td>0.0</td>\n",
       "      <td>0.0</td>\n",
       "      <td>0.0</td>\n",
       "      <td>0.0</td>\n",
       "      <td>0.0</td>\n",
       "      <td>1.0</td>\n",
       "      <td>...</td>\n",
       "      <td>0.597569</td>\n",
       "      <td>-0.080688</td>\n",
       "      <td>0.691741</td>\n",
       "      <td>-1.133456</td>\n",
       "      <td>0.594585</td>\n",
       "      <td>0.704271</td>\n",
       "      <td>0</td>\n",
       "      <td>1</td>\n",
       "      <td>0</td>\n",
       "      <td>0</td>\n",
       "    </tr>\n",
       "    <tr>\n",
       "      <th>1</th>\n",
       "      <td>1.0</td>\n",
       "      <td>0.0</td>\n",
       "      <td>0.0</td>\n",
       "      <td>0.0</td>\n",
       "      <td>0.0</td>\n",
       "      <td>0.0</td>\n",
       "      <td>0.0</td>\n",
       "      <td>0.0</td>\n",
       "      <td>0.0</td>\n",
       "      <td>0.0</td>\n",
       "      <td>...</td>\n",
       "      <td>1.311111</td>\n",
       "      <td>-0.550911</td>\n",
       "      <td>-1.106348</td>\n",
       "      <td>-0.754181</td>\n",
       "      <td>1.323920</td>\n",
       "      <td>0.753246</td>\n",
       "      <td>0</td>\n",
       "      <td>0</td>\n",
       "      <td>0</td>\n",
       "      <td>0</td>\n",
       "    </tr>\n",
       "    <tr>\n",
       "      <th>2</th>\n",
       "      <td>0.0</td>\n",
       "      <td>0.0</td>\n",
       "      <td>0.0</td>\n",
       "      <td>0.0</td>\n",
       "      <td>0.0</td>\n",
       "      <td>0.0</td>\n",
       "      <td>0.0</td>\n",
       "      <td>0.0</td>\n",
       "      <td>0.0</td>\n",
       "      <td>0.0</td>\n",
       "      <td>...</td>\n",
       "      <td>-0.065401</td>\n",
       "      <td>-0.405330</td>\n",
       "      <td>2.290042</td>\n",
       "      <td>0.181894</td>\n",
       "      <td>-0.068507</td>\n",
       "      <td>1.103466</td>\n",
       "      <td>1</td>\n",
       "      <td>1</td>\n",
       "      <td>1</td>\n",
       "      <td>0</td>\n",
       "    </tr>\n",
       "    <tr>\n",
       "      <th>3</th>\n",
       "      <td>0.0</td>\n",
       "      <td>0.0</td>\n",
       "      <td>0.0</td>\n",
       "      <td>0.0</td>\n",
       "      <td>0.0</td>\n",
       "      <td>0.0</td>\n",
       "      <td>0.0</td>\n",
       "      <td>0.0</td>\n",
       "      <td>0.0</td>\n",
       "      <td>0.0</td>\n",
       "      <td>...</td>\n",
       "      <td>1.688331</td>\n",
       "      <td>-0.582214</td>\n",
       "      <td>-1.106348</td>\n",
       "      <td>-0.216234</td>\n",
       "      <td>1.676024</td>\n",
       "      <td>1.814273</td>\n",
       "      <td>0</td>\n",
       "      <td>0</td>\n",
       "      <td>0</td>\n",
       "      <td>0</td>\n",
       "    </tr>\n",
       "    <tr>\n",
       "      <th>4</th>\n",
       "      <td>0.0</td>\n",
       "      <td>0.0</td>\n",
       "      <td>0.0</td>\n",
       "      <td>0.0</td>\n",
       "      <td>0.0</td>\n",
       "      <td>0.0</td>\n",
       "      <td>0.0</td>\n",
       "      <td>0.0</td>\n",
       "      <td>0.0</td>\n",
       "      <td>0.0</td>\n",
       "      <td>...</td>\n",
       "      <td>-0.537839</td>\n",
       "      <td>-0.216145</td>\n",
       "      <td>0.192272</td>\n",
       "      <td>-1.536567</td>\n",
       "      <td>-0.516834</td>\n",
       "      <td>0.840046</td>\n",
       "      <td>0</td>\n",
       "      <td>0</td>\n",
       "      <td>0</td>\n",
       "      <td>0</td>\n",
       "    </tr>\n",
       "    <tr>\n",
       "      <th>...</th>\n",
       "      <td>...</td>\n",
       "      <td>...</td>\n",
       "      <td>...</td>\n",
       "      <td>...</td>\n",
       "      <td>...</td>\n",
       "      <td>...</td>\n",
       "      <td>...</td>\n",
       "      <td>...</td>\n",
       "      <td>...</td>\n",
       "      <td>...</td>\n",
       "      <td>...</td>\n",
       "      <td>...</td>\n",
       "      <td>...</td>\n",
       "      <td>...</td>\n",
       "      <td>...</td>\n",
       "      <td>...</td>\n",
       "      <td>...</td>\n",
       "      <td>...</td>\n",
       "      <td>...</td>\n",
       "      <td>...</td>\n",
       "      <td>...</td>\n",
       "    </tr>\n",
       "    <tr>\n",
       "      <th>120502</th>\n",
       "      <td>0.0</td>\n",
       "      <td>0.0</td>\n",
       "      <td>0.0</td>\n",
       "      <td>0.0</td>\n",
       "      <td>0.0</td>\n",
       "      <td>0.0</td>\n",
       "      <td>0.0</td>\n",
       "      <td>0.0</td>\n",
       "      <td>0.0</td>\n",
       "      <td>0.0</td>\n",
       "      <td>...</td>\n",
       "      <td>-1.651459</td>\n",
       "      <td>0.735123</td>\n",
       "      <td>0.541900</td>\n",
       "      <td>-0.319499</td>\n",
       "      <td>-1.617479</td>\n",
       "      <td>-0.267273</td>\n",
       "      <td>0</td>\n",
       "      <td>0</td>\n",
       "      <td>0</td>\n",
       "      <td>0</td>\n",
       "    </tr>\n",
       "    <tr>\n",
       "      <th>120503</th>\n",
       "      <td>0.0</td>\n",
       "      <td>0.0</td>\n",
       "      <td>0.0</td>\n",
       "      <td>0.0</td>\n",
       "      <td>0.0</td>\n",
       "      <td>0.0</td>\n",
       "      <td>0.0</td>\n",
       "      <td>0.0</td>\n",
       "      <td>0.0</td>\n",
       "      <td>0.0</td>\n",
       "      <td>...</td>\n",
       "      <td>-0.510927</td>\n",
       "      <td>-0.338259</td>\n",
       "      <td>-0.656825</td>\n",
       "      <td>1.874702</td>\n",
       "      <td>-0.507553</td>\n",
       "      <td>-0.797682</td>\n",
       "      <td>0</td>\n",
       "      <td>0</td>\n",
       "      <td>0</td>\n",
       "      <td>0</td>\n",
       "    </tr>\n",
       "    <tr>\n",
       "      <th>120504</th>\n",
       "      <td>0.0</td>\n",
       "      <td>0.0</td>\n",
       "      <td>0.0</td>\n",
       "      <td>0.0</td>\n",
       "      <td>0.0</td>\n",
       "      <td>0.0</td>\n",
       "      <td>0.0</td>\n",
       "      <td>0.0</td>\n",
       "      <td>0.0</td>\n",
       "      <td>0.0</td>\n",
       "      <td>...</td>\n",
       "      <td>-0.230312</td>\n",
       "      <td>0.443481</td>\n",
       "      <td>-1.106348</td>\n",
       "      <td>2.048039</td>\n",
       "      <td>-0.341452</td>\n",
       "      <td>-1.072328</td>\n",
       "      <td>0</td>\n",
       "      <td>0</td>\n",
       "      <td>1</td>\n",
       "      <td>0</td>\n",
       "    </tr>\n",
       "    <tr>\n",
       "      <th>120505</th>\n",
       "      <td>0.0</td>\n",
       "      <td>0.0</td>\n",
       "      <td>0.0</td>\n",
       "      <td>0.0</td>\n",
       "      <td>0.0</td>\n",
       "      <td>0.0</td>\n",
       "      <td>0.0</td>\n",
       "      <td>0.0</td>\n",
       "      <td>0.0</td>\n",
       "      <td>0.0</td>\n",
       "      <td>...</td>\n",
       "      <td>0.717403</td>\n",
       "      <td>-1.313472</td>\n",
       "      <td>1.640732</td>\n",
       "      <td>0.532784</td>\n",
       "      <td>0.701661</td>\n",
       "      <td>0.008810</td>\n",
       "      <td>0</td>\n",
       "      <td>0</td>\n",
       "      <td>1</td>\n",
       "      <td>0</td>\n",
       "    </tr>\n",
       "    <tr>\n",
       "      <th>120506</th>\n",
       "      <td>0.0</td>\n",
       "      <td>0.0</td>\n",
       "      <td>0.0</td>\n",
       "      <td>0.0</td>\n",
       "      <td>0.0</td>\n",
       "      <td>0.0</td>\n",
       "      <td>1.0</td>\n",
       "      <td>0.0</td>\n",
       "      <td>0.0</td>\n",
       "      <td>0.0</td>\n",
       "      <td>...</td>\n",
       "      <td>0.011823</td>\n",
       "      <td>2.584791</td>\n",
       "      <td>-1.106348</td>\n",
       "      <td>-1.867046</td>\n",
       "      <td>-0.030480</td>\n",
       "      <td>-1.288251</td>\n",
       "      <td>0</td>\n",
       "      <td>0</td>\n",
       "      <td>0</td>\n",
       "      <td>0</td>\n",
       "    </tr>\n",
       "  </tbody>\n",
       "</table>\n",
       "<p>120507 rows × 221 columns</p>\n",
       "</div>"
      ],
      "text/plain": [
       "        town_BEDOK  town_BISHAN  town_BUKIT BATOK  town_BUKIT MERAH  \\\n",
       "0              0.0          0.0               0.0               0.0   \n",
       "1              1.0          0.0               0.0               0.0   \n",
       "2              0.0          0.0               0.0               0.0   \n",
       "3              0.0          0.0               0.0               0.0   \n",
       "4              0.0          0.0               0.0               0.0   \n",
       "...            ...          ...               ...               ...   \n",
       "120502         0.0          0.0               0.0               0.0   \n",
       "120503         0.0          0.0               0.0               0.0   \n",
       "120504         0.0          0.0               0.0               0.0   \n",
       "120505         0.0          0.0               0.0               0.0   \n",
       "120506         0.0          0.0               0.0               0.0   \n",
       "\n",
       "        town_BUKIT PANJANG  town_BUKIT TIMAH  town_CENTRAL AREA  \\\n",
       "0                      0.0               0.0                0.0   \n",
       "1                      0.0               0.0                0.0   \n",
       "2                      0.0               0.0                0.0   \n",
       "3                      0.0               0.0                0.0   \n",
       "4                      0.0               0.0                0.0   \n",
       "...                    ...               ...                ...   \n",
       "120502                 0.0               0.0                0.0   \n",
       "120503                 0.0               0.0                0.0   \n",
       "120504                 0.0               0.0                0.0   \n",
       "120505                 0.0               0.0                0.0   \n",
       "120506                 0.0               0.0                1.0   \n",
       "\n",
       "        town_CHOA CHU KANG  town_CLEMENTI  town_GEYLANG  ...  \\\n",
       "0                      0.0            0.0           1.0  ...   \n",
       "1                      0.0            0.0           0.0  ...   \n",
       "2                      0.0            0.0           0.0  ...   \n",
       "3                      0.0            0.0           0.0  ...   \n",
       "4                      0.0            0.0           0.0  ...   \n",
       "...                    ...            ...           ...  ...   \n",
       "120502                 0.0            0.0           0.0  ...   \n",
       "120503                 0.0            0.0           0.0  ...   \n",
       "120504                 0.0            0.0           0.0  ...   \n",
       "120505                 0.0            0.0           0.0  ...   \n",
       "120506                 0.0            0.0           0.0  ...   \n",
       "\n",
       "        pri_sch_longitude  sec_sch_nearest_dist  cutoff_point  \\\n",
       "0                0.597569             -0.080688      0.691741   \n",
       "1                1.311111             -0.550911     -1.106348   \n",
       "2               -0.065401             -0.405330      2.290042   \n",
       "3                1.688331             -0.582214     -1.106348   \n",
       "4               -0.537839             -0.216145      0.192272   \n",
       "...                   ...                   ...           ...   \n",
       "120502          -1.651459              0.735123      0.541900   \n",
       "120503          -0.510927             -0.338259     -0.656825   \n",
       "120504          -0.230312              0.443481     -1.106348   \n",
       "120505           0.717403             -1.313472      1.640732   \n",
       "120506           0.011823              2.584791     -1.106348   \n",
       "\n",
       "        sec_sch_latitude  sec_sch_longitude  Mall_Nearest_Distance_Imputed  \\\n",
       "0              -1.133456           0.594585                       0.704271   \n",
       "1              -0.754181           1.323920                       0.753246   \n",
       "2               0.181894          -0.068507                       1.103466   \n",
       "3              -0.216234           1.676024                       1.814273   \n",
       "4              -1.536567          -0.516834                       0.840046   \n",
       "...                  ...                ...                            ...   \n",
       "120502         -0.319499          -1.617479                      -0.267273   \n",
       "120503          1.874702          -0.507553                      -0.797682   \n",
       "120504          2.048039          -0.341452                      -1.072328   \n",
       "120505          0.532784           0.701661                       0.008810   \n",
       "120506         -1.867046          -0.030480                      -1.288251   \n",
       "\n",
       "        affiliation  pri_sch_affiliation  bus_interchange  mrt_interchange  \n",
       "0                 0                    1                0                0  \n",
       "1                 0                    0                0                0  \n",
       "2                 1                    1                1                0  \n",
       "3                 0                    0                0                0  \n",
       "4                 0                    0                0                0  \n",
       "...             ...                  ...              ...              ...  \n",
       "120502            0                    0                0                0  \n",
       "120503            0                    0                0                0  \n",
       "120504            0                    0                1                0  \n",
       "120505            0                    0                1                0  \n",
       "120506            0                    0                0                0  \n",
       "\n",
       "[120507 rows x 221 columns]"
      ]
     },
     "execution_count": 30,
     "metadata": {},
     "output_type": "execute_result"
    }
   ],
   "source": [
    "final_X_train"
   ]
  },
  {
   "cell_type": "code",
   "execution_count": 31,
   "id": "5d11783f-a7a7-47cd-96b1-7ba1b19e6d2b",
   "metadata": {
    "tags": []
   },
   "outputs": [],
   "source": [
    "final_X_test = pd.concat([ohe_X_test_objs,scaled_X_test_nums],axis=1)"
   ]
  },
  {
   "cell_type": "code",
   "execution_count": 32,
   "id": "04c89e38-1fe3-4ed1-8891-e9f913f4c8e3",
   "metadata": {
    "tags": []
   },
   "outputs": [
    {
     "data": {
      "text/html": [
       "<div>\n",
       "<style scoped>\n",
       "    .dataframe tbody tr th:only-of-type {\n",
       "        vertical-align: middle;\n",
       "    }\n",
       "\n",
       "    .dataframe tbody tr th {\n",
       "        vertical-align: top;\n",
       "    }\n",
       "\n",
       "    .dataframe thead th {\n",
       "        text-align: right;\n",
       "    }\n",
       "</style>\n",
       "<table border=\"1\" class=\"dataframe\">\n",
       "  <thead>\n",
       "    <tr style=\"text-align: right;\">\n",
       "      <th></th>\n",
       "      <th>town_BEDOK</th>\n",
       "      <th>town_BISHAN</th>\n",
       "      <th>town_BUKIT BATOK</th>\n",
       "      <th>town_BUKIT MERAH</th>\n",
       "      <th>town_BUKIT PANJANG</th>\n",
       "      <th>town_BUKIT TIMAH</th>\n",
       "      <th>town_CENTRAL AREA</th>\n",
       "      <th>town_CHOA CHU KANG</th>\n",
       "      <th>town_CLEMENTI</th>\n",
       "      <th>town_GEYLANG</th>\n",
       "      <th>...</th>\n",
       "      <th>pri_sch_longitude</th>\n",
       "      <th>sec_sch_nearest_dist</th>\n",
       "      <th>cutoff_point</th>\n",
       "      <th>sec_sch_latitude</th>\n",
       "      <th>sec_sch_longitude</th>\n",
       "      <th>Mall_Nearest_Distance_Imputed</th>\n",
       "      <th>affiliation</th>\n",
       "      <th>pri_sch_affiliation</th>\n",
       "      <th>bus_interchange</th>\n",
       "      <th>mrt_interchange</th>\n",
       "    </tr>\n",
       "  </thead>\n",
       "  <tbody>\n",
       "    <tr>\n",
       "      <th>0</th>\n",
       "      <td>0.0</td>\n",
       "      <td>0.0</td>\n",
       "      <td>0.0</td>\n",
       "      <td>0.0</td>\n",
       "      <td>0.0</td>\n",
       "      <td>0.0</td>\n",
       "      <td>0.0</td>\n",
       "      <td>0.0</td>\n",
       "      <td>0.0</td>\n",
       "      <td>0.0</td>\n",
       "      <td>...</td>\n",
       "      <td>0.808877</td>\n",
       "      <td>-0.441314</td>\n",
       "      <td>-0.007516</td>\n",
       "      <td>0.709432</td>\n",
       "      <td>0.833551</td>\n",
       "      <td>-0.789013</td>\n",
       "      <td>0</td>\n",
       "      <td>0</td>\n",
       "      <td>1</td>\n",
       "      <td>1</td>\n",
       "    </tr>\n",
       "    <tr>\n",
       "      <th>1</th>\n",
       "      <td>0.0</td>\n",
       "      <td>0.0</td>\n",
       "      <td>0.0</td>\n",
       "      <td>0.0</td>\n",
       "      <td>0.0</td>\n",
       "      <td>0.0</td>\n",
       "      <td>0.0</td>\n",
       "      <td>0.0</td>\n",
       "      <td>0.0</td>\n",
       "      <td>0.0</td>\n",
       "      <td>...</td>\n",
       "      <td>0.831754</td>\n",
       "      <td>-0.743978</td>\n",
       "      <td>-0.556932</td>\n",
       "      <td>0.472071</td>\n",
       "      <td>0.813200</td>\n",
       "      <td>-0.385495</td>\n",
       "      <td>0</td>\n",
       "      <td>0</td>\n",
       "      <td>1</td>\n",
       "      <td>1</td>\n",
       "    </tr>\n",
       "    <tr>\n",
       "      <th>2</th>\n",
       "      <td>0.0</td>\n",
       "      <td>0.0</td>\n",
       "      <td>0.0</td>\n",
       "      <td>0.0</td>\n",
       "      <td>0.0</td>\n",
       "      <td>0.0</td>\n",
       "      <td>0.0</td>\n",
       "      <td>0.0</td>\n",
       "      <td>0.0</td>\n",
       "      <td>0.0</td>\n",
       "      <td>...</td>\n",
       "      <td>0.119648</td>\n",
       "      <td>0.291703</td>\n",
       "      <td>0.042431</td>\n",
       "      <td>-0.567360</td>\n",
       "      <td>0.175790</td>\n",
       "      <td>0.250140</td>\n",
       "      <td>0</td>\n",
       "      <td>0</td>\n",
       "      <td>0</td>\n",
       "      <td>0</td>\n",
       "    </tr>\n",
       "    <tr>\n",
       "      <th>3</th>\n",
       "      <td>0.0</td>\n",
       "      <td>0.0</td>\n",
       "      <td>0.0</td>\n",
       "      <td>0.0</td>\n",
       "      <td>0.0</td>\n",
       "      <td>0.0</td>\n",
       "      <td>0.0</td>\n",
       "      <td>0.0</td>\n",
       "      <td>0.0</td>\n",
       "      <td>0.0</td>\n",
       "      <td>...</td>\n",
       "      <td>0.992374</td>\n",
       "      <td>1.179024</td>\n",
       "      <td>0.741688</td>\n",
       "      <td>-1.367587</td>\n",
       "      <td>1.065933</td>\n",
       "      <td>-0.429257</td>\n",
       "      <td>0</td>\n",
       "      <td>0</td>\n",
       "      <td>1</td>\n",
       "      <td>0</td>\n",
       "    </tr>\n",
       "    <tr>\n",
       "      <th>4</th>\n",
       "      <td>0.0</td>\n",
       "      <td>0.0</td>\n",
       "      <td>0.0</td>\n",
       "      <td>0.0</td>\n",
       "      <td>0.0</td>\n",
       "      <td>0.0</td>\n",
       "      <td>0.0</td>\n",
       "      <td>0.0</td>\n",
       "      <td>0.0</td>\n",
       "      <td>0.0</td>\n",
       "      <td>...</td>\n",
       "      <td>1.511425</td>\n",
       "      <td>-0.353757</td>\n",
       "      <td>0.941476</td>\n",
       "      <td>-0.127344</td>\n",
       "      <td>1.608641</td>\n",
       "      <td>1.177478</td>\n",
       "      <td>0</td>\n",
       "      <td>0</td>\n",
       "      <td>0</td>\n",
       "      <td>0</td>\n",
       "    </tr>\n",
       "    <tr>\n",
       "      <th>...</th>\n",
       "      <td>...</td>\n",
       "      <td>...</td>\n",
       "      <td>...</td>\n",
       "      <td>...</td>\n",
       "      <td>...</td>\n",
       "      <td>...</td>\n",
       "      <td>...</td>\n",
       "      <td>...</td>\n",
       "      <td>...</td>\n",
       "      <td>...</td>\n",
       "      <td>...</td>\n",
       "      <td>...</td>\n",
       "      <td>...</td>\n",
       "      <td>...</td>\n",
       "      <td>...</td>\n",
       "      <td>...</td>\n",
       "      <td>...</td>\n",
       "      <td>...</td>\n",
       "      <td>...</td>\n",
       "      <td>...</td>\n",
       "      <td>...</td>\n",
       "    </tr>\n",
       "    <tr>\n",
       "      <th>30122</th>\n",
       "      <td>0.0</td>\n",
       "      <td>0.0</td>\n",
       "      <td>0.0</td>\n",
       "      <td>0.0</td>\n",
       "      <td>0.0</td>\n",
       "      <td>0.0</td>\n",
       "      <td>0.0</td>\n",
       "      <td>0.0</td>\n",
       "      <td>1.0</td>\n",
       "      <td>0.0</td>\n",
       "      <td>...</td>\n",
       "      <td>-1.128452</td>\n",
       "      <td>-0.948986</td>\n",
       "      <td>-0.207303</td>\n",
       "      <td>-1.515977</td>\n",
       "      <td>-1.023096</td>\n",
       "      <td>-0.739238</td>\n",
       "      <td>0</td>\n",
       "      <td>0</td>\n",
       "      <td>1</td>\n",
       "      <td>0</td>\n",
       "    </tr>\n",
       "    <tr>\n",
       "      <th>30123</th>\n",
       "      <td>0.0</td>\n",
       "      <td>0.0</td>\n",
       "      <td>0.0</td>\n",
       "      <td>0.0</td>\n",
       "      <td>0.0</td>\n",
       "      <td>0.0</td>\n",
       "      <td>0.0</td>\n",
       "      <td>0.0</td>\n",
       "      <td>0.0</td>\n",
       "      <td>0.0</td>\n",
       "      <td>...</td>\n",
       "      <td>-0.837578</td>\n",
       "      <td>-0.775721</td>\n",
       "      <td>-1.106348</td>\n",
       "      <td>1.521490</td>\n",
       "      <td>-0.854959</td>\n",
       "      <td>-0.762048</td>\n",
       "      <td>0</td>\n",
       "      <td>0</td>\n",
       "      <td>0</td>\n",
       "      <td>0</td>\n",
       "    </tr>\n",
       "    <tr>\n",
       "      <th>30124</th>\n",
       "      <td>0.0</td>\n",
       "      <td>0.0</td>\n",
       "      <td>0.0</td>\n",
       "      <td>0.0</td>\n",
       "      <td>0.0</td>\n",
       "      <td>0.0</td>\n",
       "      <td>0.0</td>\n",
       "      <td>0.0</td>\n",
       "      <td>0.0</td>\n",
       "      <td>0.0</td>\n",
       "      <td>...</td>\n",
       "      <td>-0.734174</td>\n",
       "      <td>-0.313105</td>\n",
       "      <td>1.540838</td>\n",
       "      <td>-1.502652</td>\n",
       "      <td>-0.755621</td>\n",
       "      <td>0.093940</td>\n",
       "      <td>0</td>\n",
       "      <td>1</td>\n",
       "      <td>0</td>\n",
       "      <td>0</td>\n",
       "    </tr>\n",
       "    <tr>\n",
       "      <th>30125</th>\n",
       "      <td>0.0</td>\n",
       "      <td>0.0</td>\n",
       "      <td>0.0</td>\n",
       "      <td>1.0</td>\n",
       "      <td>0.0</td>\n",
       "      <td>0.0</td>\n",
       "      <td>0.0</td>\n",
       "      <td>0.0</td>\n",
       "      <td>0.0</td>\n",
       "      <td>0.0</td>\n",
       "      <td>...</td>\n",
       "      <td>-0.204734</td>\n",
       "      <td>0.172974</td>\n",
       "      <td>1.241157</td>\n",
       "      <td>-2.110038</td>\n",
       "      <td>-0.233128</td>\n",
       "      <td>0.336745</td>\n",
       "      <td>0</td>\n",
       "      <td>0</td>\n",
       "      <td>0</td>\n",
       "      <td>0</td>\n",
       "    </tr>\n",
       "    <tr>\n",
       "      <th>30126</th>\n",
       "      <td>0.0</td>\n",
       "      <td>0.0</td>\n",
       "      <td>0.0</td>\n",
       "      <td>0.0</td>\n",
       "      <td>0.0</td>\n",
       "      <td>0.0</td>\n",
       "      <td>0.0</td>\n",
       "      <td>0.0</td>\n",
       "      <td>0.0</td>\n",
       "      <td>0.0</td>\n",
       "      <td>...</td>\n",
       "      <td>-1.734556</td>\n",
       "      <td>-0.013878</td>\n",
       "      <td>1.990361</td>\n",
       "      <td>-0.513340</td>\n",
       "      <td>-1.790065</td>\n",
       "      <td>-1.025602</td>\n",
       "      <td>1</td>\n",
       "      <td>0</td>\n",
       "      <td>0</td>\n",
       "      <td>0</td>\n",
       "    </tr>\n",
       "  </tbody>\n",
       "</table>\n",
       "<p>30127 rows × 221 columns</p>\n",
       "</div>"
      ],
      "text/plain": [
       "       town_BEDOK  town_BISHAN  town_BUKIT BATOK  town_BUKIT MERAH  \\\n",
       "0             0.0          0.0               0.0               0.0   \n",
       "1             0.0          0.0               0.0               0.0   \n",
       "2             0.0          0.0               0.0               0.0   \n",
       "3             0.0          0.0               0.0               0.0   \n",
       "4             0.0          0.0               0.0               0.0   \n",
       "...           ...          ...               ...               ...   \n",
       "30122         0.0          0.0               0.0               0.0   \n",
       "30123         0.0          0.0               0.0               0.0   \n",
       "30124         0.0          0.0               0.0               0.0   \n",
       "30125         0.0          0.0               0.0               1.0   \n",
       "30126         0.0          0.0               0.0               0.0   \n",
       "\n",
       "       town_BUKIT PANJANG  town_BUKIT TIMAH  town_CENTRAL AREA  \\\n",
       "0                     0.0               0.0                0.0   \n",
       "1                     0.0               0.0                0.0   \n",
       "2                     0.0               0.0                0.0   \n",
       "3                     0.0               0.0                0.0   \n",
       "4                     0.0               0.0                0.0   \n",
       "...                   ...               ...                ...   \n",
       "30122                 0.0               0.0                0.0   \n",
       "30123                 0.0               0.0                0.0   \n",
       "30124                 0.0               0.0                0.0   \n",
       "30125                 0.0               0.0                0.0   \n",
       "30126                 0.0               0.0                0.0   \n",
       "\n",
       "       town_CHOA CHU KANG  town_CLEMENTI  town_GEYLANG  ...  \\\n",
       "0                     0.0            0.0           0.0  ...   \n",
       "1                     0.0            0.0           0.0  ...   \n",
       "2                     0.0            0.0           0.0  ...   \n",
       "3                     0.0            0.0           0.0  ...   \n",
       "4                     0.0            0.0           0.0  ...   \n",
       "...                   ...            ...           ...  ...   \n",
       "30122                 0.0            1.0           0.0  ...   \n",
       "30123                 0.0            0.0           0.0  ...   \n",
       "30124                 0.0            0.0           0.0  ...   \n",
       "30125                 0.0            0.0           0.0  ...   \n",
       "30126                 0.0            0.0           0.0  ...   \n",
       "\n",
       "       pri_sch_longitude  sec_sch_nearest_dist  cutoff_point  \\\n",
       "0               0.808877             -0.441314     -0.007516   \n",
       "1               0.831754             -0.743978     -0.556932   \n",
       "2               0.119648              0.291703      0.042431   \n",
       "3               0.992374              1.179024      0.741688   \n",
       "4               1.511425             -0.353757      0.941476   \n",
       "...                  ...                   ...           ...   \n",
       "30122          -1.128452             -0.948986     -0.207303   \n",
       "30123          -0.837578             -0.775721     -1.106348   \n",
       "30124          -0.734174             -0.313105      1.540838   \n",
       "30125          -0.204734              0.172974      1.241157   \n",
       "30126          -1.734556             -0.013878      1.990361   \n",
       "\n",
       "       sec_sch_latitude  sec_sch_longitude  Mall_Nearest_Distance_Imputed  \\\n",
       "0              0.709432           0.833551                      -0.789013   \n",
       "1              0.472071           0.813200                      -0.385495   \n",
       "2             -0.567360           0.175790                       0.250140   \n",
       "3             -1.367587           1.065933                      -0.429257   \n",
       "4             -0.127344           1.608641                       1.177478   \n",
       "...                 ...                ...                            ...   \n",
       "30122         -1.515977          -1.023096                      -0.739238   \n",
       "30123          1.521490          -0.854959                      -0.762048   \n",
       "30124         -1.502652          -0.755621                       0.093940   \n",
       "30125         -2.110038          -0.233128                       0.336745   \n",
       "30126         -0.513340          -1.790065                      -1.025602   \n",
       "\n",
       "       affiliation  pri_sch_affiliation  bus_interchange  mrt_interchange  \n",
       "0                0                    0                1                1  \n",
       "1                0                    0                1                1  \n",
       "2                0                    0                0                0  \n",
       "3                0                    0                1                0  \n",
       "4                0                    0                0                0  \n",
       "...            ...                  ...              ...              ...  \n",
       "30122            0                    0                1                0  \n",
       "30123            0                    0                0                0  \n",
       "30124            0                    1                0                0  \n",
       "30125            0                    0                0                0  \n",
       "30126            1                    0                0                0  \n",
       "\n",
       "[30127 rows x 221 columns]"
      ]
     },
     "execution_count": 32,
     "metadata": {},
     "output_type": "execute_result"
    }
   ],
   "source": [
    "final_X_test"
   ]
  },
  {
   "cell_type": "markdown",
   "id": "e024c5de-3c23-465c-8514-fed6d15114b5",
   "metadata": {},
   "source": [
    "Final scaled and one-hot encoded X train and X test dataframes shown above."
   ]
  },
  {
   "cell_type": "markdown",
   "id": "e097fe14-1ab5-49b7-ba36-b898ab70bd04",
   "metadata": {},
   "source": [
    "# Model Fitting"
   ]
  },
  {
   "cell_type": "markdown",
   "id": "0228e9ea-a646-4d9b-bc36-be1ba36ef09a",
   "metadata": {},
   "source": [
    "## Baseline Model"
   ]
  },
  {
   "cell_type": "code",
   "execution_count": 33,
   "id": "a4a246e3-1638-4dbe-8bac-af3322c362dd",
   "metadata": {
    "tags": []
   },
   "outputs": [],
   "source": [
    "lr_model = LinearRegression()"
   ]
  },
  {
   "cell_type": "code",
   "execution_count": 34,
   "id": "2fe1e639-1bba-46b6-8f55-9345eeb69009",
   "metadata": {
    "tags": []
   },
   "outputs": [
    {
     "data": {
      "text/html": [
       "<style>#sk-container-id-1 {color: black;background-color: white;}#sk-container-id-1 pre{padding: 0;}#sk-container-id-1 div.sk-toggleable {background-color: white;}#sk-container-id-1 label.sk-toggleable__label {cursor: pointer;display: block;width: 100%;margin-bottom: 0;padding: 0.3em;box-sizing: border-box;text-align: center;}#sk-container-id-1 label.sk-toggleable__label-arrow:before {content: \"▸\";float: left;margin-right: 0.25em;color: #696969;}#sk-container-id-1 label.sk-toggleable__label-arrow:hover:before {color: black;}#sk-container-id-1 div.sk-estimator:hover label.sk-toggleable__label-arrow:before {color: black;}#sk-container-id-1 div.sk-toggleable__content {max-height: 0;max-width: 0;overflow: hidden;text-align: left;background-color: #f0f8ff;}#sk-container-id-1 div.sk-toggleable__content pre {margin: 0.2em;color: black;border-radius: 0.25em;background-color: #f0f8ff;}#sk-container-id-1 input.sk-toggleable__control:checked~div.sk-toggleable__content {max-height: 200px;max-width: 100%;overflow: auto;}#sk-container-id-1 input.sk-toggleable__control:checked~label.sk-toggleable__label-arrow:before {content: \"▾\";}#sk-container-id-1 div.sk-estimator input.sk-toggleable__control:checked~label.sk-toggleable__label {background-color: #d4ebff;}#sk-container-id-1 div.sk-label input.sk-toggleable__control:checked~label.sk-toggleable__label {background-color: #d4ebff;}#sk-container-id-1 input.sk-hidden--visually {border: 0;clip: rect(1px 1px 1px 1px);clip: rect(1px, 1px, 1px, 1px);height: 1px;margin: -1px;overflow: hidden;padding: 0;position: absolute;width: 1px;}#sk-container-id-1 div.sk-estimator {font-family: monospace;background-color: #f0f8ff;border: 1px dotted black;border-radius: 0.25em;box-sizing: border-box;margin-bottom: 0.5em;}#sk-container-id-1 div.sk-estimator:hover {background-color: #d4ebff;}#sk-container-id-1 div.sk-parallel-item::after {content: \"\";width: 100%;border-bottom: 1px solid gray;flex-grow: 1;}#sk-container-id-1 div.sk-label:hover label.sk-toggleable__label {background-color: #d4ebff;}#sk-container-id-1 div.sk-serial::before {content: \"\";position: absolute;border-left: 1px solid gray;box-sizing: border-box;top: 0;bottom: 0;left: 50%;z-index: 0;}#sk-container-id-1 div.sk-serial {display: flex;flex-direction: column;align-items: center;background-color: white;padding-right: 0.2em;padding-left: 0.2em;position: relative;}#sk-container-id-1 div.sk-item {position: relative;z-index: 1;}#sk-container-id-1 div.sk-parallel {display: flex;align-items: stretch;justify-content: center;background-color: white;position: relative;}#sk-container-id-1 div.sk-item::before, #sk-container-id-1 div.sk-parallel-item::before {content: \"\";position: absolute;border-left: 1px solid gray;box-sizing: border-box;top: 0;bottom: 0;left: 50%;z-index: -1;}#sk-container-id-1 div.sk-parallel-item {display: flex;flex-direction: column;z-index: 1;position: relative;background-color: white;}#sk-container-id-1 div.sk-parallel-item:first-child::after {align-self: flex-end;width: 50%;}#sk-container-id-1 div.sk-parallel-item:last-child::after {align-self: flex-start;width: 50%;}#sk-container-id-1 div.sk-parallel-item:only-child::after {width: 0;}#sk-container-id-1 div.sk-dashed-wrapped {border: 1px dashed gray;margin: 0 0.4em 0.5em 0.4em;box-sizing: border-box;padding-bottom: 0.4em;background-color: white;}#sk-container-id-1 div.sk-label label {font-family: monospace;font-weight: bold;display: inline-block;line-height: 1.2em;}#sk-container-id-1 div.sk-label-container {text-align: center;}#sk-container-id-1 div.sk-container {/* jupyter's `normalize.less` sets `[hidden] { display: none; }` but bootstrap.min.css set `[hidden] { display: none !important; }` so we also need the `!important` here to be able to override the default hidden behavior on the sphinx rendered scikit-learn.org. See: https://github.com/scikit-learn/scikit-learn/issues/21755 */display: inline-block !important;position: relative;}#sk-container-id-1 div.sk-text-repr-fallback {display: none;}</style><div id=\"sk-container-id-1\" class=\"sk-top-container\"><div class=\"sk-text-repr-fallback\"><pre>LinearRegression()</pre><b>In a Jupyter environment, please rerun this cell to show the HTML representation or trust the notebook. <br />On GitHub, the HTML representation is unable to render, please try loading this page with nbviewer.org.</b></div><div class=\"sk-container\" hidden><div class=\"sk-item\"><div class=\"sk-estimator sk-toggleable\"><input class=\"sk-toggleable__control sk-hidden--visually\" id=\"sk-estimator-id-1\" type=\"checkbox\" checked><label for=\"sk-estimator-id-1\" class=\"sk-toggleable__label sk-toggleable__label-arrow\">LinearRegression</label><div class=\"sk-toggleable__content\"><pre>LinearRegression()</pre></div></div></div></div></div>"
      ],
      "text/plain": [
       "LinearRegression()"
      ]
     },
     "execution_count": 34,
     "metadata": {},
     "output_type": "execute_result"
    }
   ],
   "source": [
    "lr_model.fit(final_X_train,y_train)"
   ]
  },
  {
   "cell_type": "code",
   "execution_count": 35,
   "id": "dd4df89f-9d56-4887-bcf4-0c93ccae5c4c",
   "metadata": {
    "tags": []
   },
   "outputs": [
    {
     "name": "stdout",
     "output_type": "stream",
     "text": [
      "R^2 score for training set is 0.9005704568396409\n"
     ]
    }
   ],
   "source": [
    "print(f'R^2 score for training set is {lr_model.score(final_X_train,y_train)}')"
   ]
  },
  {
   "cell_type": "code",
   "execution_count": 36,
   "id": "f2e828af-7ce4-4c2a-854c-03064cea92da",
   "metadata": {
    "tags": []
   },
   "outputs": [
    {
     "name": "stdout",
     "output_type": "stream",
     "text": [
      "R^2 score for test set is 0.9014481142290208\n"
     ]
    }
   ],
   "source": [
    "print(f'R^2 score for test set is {lr_model.score(final_X_test,y_test)}')"
   ]
  },
  {
   "cell_type": "code",
   "execution_count": 37,
   "id": "64308410-3be3-43ed-8d00-5036ae52bb2f",
   "metadata": {
    "tags": []
   },
   "outputs": [
    {
     "name": "stdout",
     "output_type": "stream",
     "text": [
      "Mean R^2 score with 5 fold cross validation on training set is 0.900051166322673\n"
     ]
    }
   ],
   "source": [
    "print(f'Mean R^2 score with 5 fold cross validation on training set is {cross_val_score(lr_model,final_X_train,y_train,cv = 5).mean()}')"
   ]
  },
  {
   "cell_type": "markdown",
   "id": "a9cbe708-65b1-46eb-a09c-b1b8e164a297",
   "metadata": {
    "tags": []
   },
   "source": [
    "From the R^2 score, we can see that the model is actually performing very well, with both training and test sets having an R^2 score higher than 0.9. There is no overfitting or underfitting.\n",
    "\n",
    "The cross validation score is also almost exactly the same as the test score, which means that I have a representative test set and it is highly unlikely that there is sampling error."
   ]
  },
  {
   "cell_type": "code",
   "execution_count": 41,
   "id": "9a42cc16-f744-4f82-ad78-ec6e34ea7855",
   "metadata": {
    "tags": []
   },
   "outputs": [],
   "source": [
    "y_pred = lr_model.predict(final_X_test)"
   ]
  },
  {
   "cell_type": "code",
   "execution_count": 42,
   "id": "6f70612e-ddd5-47b4-93f8-a3754e1c910c",
   "metadata": {
    "tags": []
   },
   "outputs": [
    {
     "name": "stdout",
     "output_type": "stream",
     "text": [
      "MAE is 34185.836455339064\n"
     ]
    }
   ],
   "source": [
    "print(f'MAE is {metrics.mean_absolute_error(y_test,y_pred)}')"
   ]
  },
  {
   "cell_type": "code",
   "execution_count": 43,
   "id": "b6891ce2-90b4-4cea-9b85-33a4c6626e9c",
   "metadata": {
    "tags": []
   },
   "outputs": [
    {
     "name": "stdout",
     "output_type": "stream",
     "text": [
      "RMSE is 44827.78363705131\n"
     ]
    }
   ],
   "source": [
    "print(f'RMSE is {np.sqrt(metrics.mean_squared_error(y_test,y_pred))}')"
   ]
  },
  {
   "cell_type": "code",
   "execution_count": 44,
   "id": "5c74ba10-af5c-47aa-a5e3-a98b8a7342ca",
   "metadata": {
    "tags": []
   },
   "outputs": [
    {
     "data": {
      "text/plain": [
       "449417.36125984386"
      ]
     },
     "execution_count": 44,
     "metadata": {},
     "output_type": "execute_result"
    }
   ],
   "source": [
    "y_train.mean()"
   ]
  },
  {
   "cell_type": "markdown",
   "id": "e34144ee-547f-4caa-b845-aee0f7f49470",
   "metadata": {},
   "source": [
    "To further evaluate this model, I have used the metrics MAE, RMSE. Both performed significantly better than the mean of the y-train. Suggesting that the line of best fit is predicting the values well."
   ]
  },
  {
   "cell_type": "code",
   "execution_count": 45,
   "id": "3e22b0a3-5b8f-47f2-b199-ad48bff77f12",
   "metadata": {
    "tags": []
   },
   "outputs": [
    {
     "data": {
      "image/png": "[encoded data removed]",
      "text/plain": [
       "<Figure size 640x480 with 1 Axes>"
      ]
     },
     "metadata": {},
     "output_type": "display_data"
    }
   ],
   "source": [
    "plt.figure(dpi=100)\n",
    "plt.ticklabel_format(style='plain', axis = 'y')\n",
    "plt.ticklabel_format(style='plain', axis = 'x')\n",
    "plt.xlabel('Predicted Resale Price')\n",
    "plt.ylabel('Actual Resale Price')\n",
    "plt.title('Predicted Resale Price against Actual Resale Price')\n",
    "plt.scatter(y_test, y_pred,alpha = 0.5);"
   ]
  },
  {
   "cell_type": "markdown",
   "id": "d49c62cb-88d5-46f9-8aec-046e915e9ffe",
   "metadata": {},
   "source": [
    "Although the baseline model's results are very good, I will try to improve on it by using other more complex models"
   ]
  },
  {
   "cell_type": "markdown",
   "id": "e0f9aa68-b0a3-49c3-a22a-c0691b07a85e",
   "metadata": {},
   "source": [
    "## Lasso Regression"
   ]
  },
  {
   "cell_type": "code",
   "execution_count": 46,
   "id": "bd6d31f1-83b5-459c-90cb-c2dd39a33386",
   "metadata": {
    "tags": []
   },
   "outputs": [],
   "source": [
    "lasso_model = LassoCV(max_iter = 10000,cv = 5, verbose = 1)"
   ]
  },
  {
   "cell_type": "code",
   "execution_count": 47,
   "id": "50bea6f5-cbe8-45ba-bd6a-d578f417450e",
   "metadata": {
    "tags": []
   },
   "outputs": [
    {
     "name": "stderr",
     "output_type": "stream",
     "text": [
      "[Parallel(n_jobs=1)]: Using backend SequentialBackend with 1 concurrent workers.\n",
      "....................................................................................................................................................................................................................................................................................................................................................................................................................................................................................................................[Parallel(n_jobs=1)]: Done   5 out of   5 | elapsed:    4.5s finished\n"
     ]
    },
    {
     "data": {
      "text/html": [
       "<style>#sk-container-id-2 {color: black;background-color: white;}#sk-container-id-2 pre{padding: 0;}#sk-container-id-2 div.sk-toggleable {background-color: white;}#sk-container-id-2 label.sk-toggleable__label {cursor: pointer;display: block;width: 100%;margin-bottom: 0;padding: 0.3em;box-sizing: border-box;text-align: center;}#sk-container-id-2 label.sk-toggleable__label-arrow:before {content: \"▸\";float: left;margin-right: 0.25em;color: #696969;}#sk-container-id-2 label.sk-toggleable__label-arrow:hover:before {color: black;}#sk-container-id-2 div.sk-estimator:hover label.sk-toggleable__label-arrow:before {color: black;}#sk-container-id-2 div.sk-toggleable__content {max-height: 0;max-width: 0;overflow: hidden;text-align: left;background-color: #f0f8ff;}#sk-container-id-2 div.sk-toggleable__content pre {margin: 0.2em;color: black;border-radius: 0.25em;background-color: #f0f8ff;}#sk-container-id-2 input.sk-toggleable__control:checked~div.sk-toggleable__content {max-height: 200px;max-width: 100%;overflow: auto;}#sk-container-id-2 input.sk-toggleable__control:checked~label.sk-toggleable__label-arrow:before {content: \"▾\";}#sk-container-id-2 div.sk-estimator input.sk-toggleable__control:checked~label.sk-toggleable__label {background-color: #d4ebff;}#sk-container-id-2 div.sk-label input.sk-toggleable__control:checked~label.sk-toggleable__label {background-color: #d4ebff;}#sk-container-id-2 input.sk-hidden--visually {border: 0;clip: rect(1px 1px 1px 1px);clip: rect(1px, 1px, 1px, 1px);height: 1px;margin: -1px;overflow: hidden;padding: 0;position: absolute;width: 1px;}#sk-container-id-2 div.sk-estimator {font-family: monospace;background-color: #f0f8ff;border: 1px dotted black;border-radius: 0.25em;box-sizing: border-box;margin-bottom: 0.5em;}#sk-container-id-2 div.sk-estimator:hover {background-color: #d4ebff;}#sk-container-id-2 div.sk-parallel-item::after {content: \"\";width: 100%;border-bottom: 1px solid gray;flex-grow: 1;}#sk-container-id-2 div.sk-label:hover label.sk-toggleable__label {background-color: #d4ebff;}#sk-container-id-2 div.sk-serial::before {content: \"\";position: absolute;border-left: 1px solid gray;box-sizing: border-box;top: 0;bottom: 0;left: 50%;z-index: 0;}#sk-container-id-2 div.sk-serial {display: flex;flex-direction: column;align-items: center;background-color: white;padding-right: 0.2em;padding-left: 0.2em;position: relative;}#sk-container-id-2 div.sk-item {position: relative;z-index: 1;}#sk-container-id-2 div.sk-parallel {display: flex;align-items: stretch;justify-content: center;background-color: white;position: relative;}#sk-container-id-2 div.sk-item::before, #sk-container-id-2 div.sk-parallel-item::before {content: \"\";position: absolute;border-left: 1px solid gray;box-sizing: border-box;top: 0;bottom: 0;left: 50%;z-index: -1;}#sk-container-id-2 div.sk-parallel-item {display: flex;flex-direction: column;z-index: 1;position: relative;background-color: white;}#sk-container-id-2 div.sk-parallel-item:first-child::after {align-self: flex-end;width: 50%;}#sk-container-id-2 div.sk-parallel-item:last-child::after {align-self: flex-start;width: 50%;}#sk-container-id-2 div.sk-parallel-item:only-child::after {width: 0;}#sk-container-id-2 div.sk-dashed-wrapped {border: 1px dashed gray;margin: 0 0.4em 0.5em 0.4em;box-sizing: border-box;padding-bottom: 0.4em;background-color: white;}#sk-container-id-2 div.sk-label label {font-family: monospace;font-weight: bold;display: inline-block;line-height: 1.2em;}#sk-container-id-2 div.sk-label-container {text-align: center;}#sk-container-id-2 div.sk-container {/* jupyter's `normalize.less` sets `[hidden] { display: none; }` but bootstrap.min.css set `[hidden] { display: none !important; }` so we also need the `!important` here to be able to override the default hidden behavior on the sphinx rendered scikit-learn.org. See: https://github.com/scikit-learn/scikit-learn/issues/21755 */display: inline-block !important;position: relative;}#sk-container-id-2 div.sk-text-repr-fallback {display: none;}</style><div id=\"sk-container-id-2\" class=\"sk-top-container\"><div class=\"sk-text-repr-fallback\"><pre>LassoCV(cv=5, max_iter=10000, verbose=1)</pre><b>In a Jupyter environment, please rerun this cell to show the HTML representation or trust the notebook. <br />On GitHub, the HTML representation is unable to render, please try loading this page with nbviewer.org.</b></div><div class=\"sk-container\" hidden><div class=\"sk-item\"><div class=\"sk-estimator sk-toggleable\"><input class=\"sk-toggleable__control sk-hidden--visually\" id=\"sk-estimator-id-2\" type=\"checkbox\" checked><label for=\"sk-estimator-id-2\" class=\"sk-toggleable__label sk-toggleable__label-arrow\">LassoCV</label><div class=\"sk-toggleable__content\"><pre>LassoCV(cv=5, max_iter=10000, verbose=1)</pre></div></div></div></div></div>"
      ],
      "text/plain": [
       "LassoCV(cv=5, max_iter=10000, verbose=1)"
      ]
     },
     "execution_count": 47,
     "metadata": {},
     "output_type": "execute_result"
    }
   ],
   "source": [
    "lasso_model.fit(final_X_train,y_train)"
   ]
  },
  {
   "cell_type": "code",
   "execution_count": 49,
   "id": "67f90c13-284d-4fc9-9817-f56ebc16327c",
   "metadata": {
    "tags": []
   },
   "outputs": [
    {
     "data": {
      "text/plain": [
       "93.68396660451357"
      ]
     },
     "execution_count": 49,
     "metadata": {},
     "output_type": "execute_result"
    }
   ],
   "source": [
    "alpha = lasso_model.alpha_\n",
    "alpha"
   ]
  },
  {
   "cell_type": "markdown",
   "id": "4724837f-91e5-46e3-b840-4231acff687e",
   "metadata": {},
   "source": [
    "This is the optimal alpha as decided by the model, which I will use to cross validate the score."
   ]
  },
  {
   "cell_type": "code",
   "execution_count": 50,
   "id": "e962da0c-cf32-4be8-9c5e-78492ab75662",
   "metadata": {
    "tags": []
   },
   "outputs": [
    {
     "name": "stdout",
     "output_type": "stream",
     "text": [
      "R^2 score for training set is 0.8908561082694333\n"
     ]
    }
   ],
   "source": [
    "print(f'R^2 score for training set is {lasso_model.score(final_X_train,y_train)}')"
   ]
  },
  {
   "cell_type": "code",
   "execution_count": 51,
   "id": "3203272a-1190-4fed-9544-a847cef55738",
   "metadata": {
    "tags": []
   },
   "outputs": [
    {
     "name": "stdout",
     "output_type": "stream",
     "text": [
      "R^2 score for test set is 0.8913479641514964\n"
     ]
    }
   ],
   "source": [
    "print(f'R^2 score for test set is {lasso_model.score(final_X_test,y_test)}')"
   ]
  },
  {
   "cell_type": "code",
   "execution_count": 52,
   "id": "85aa8d84-5d3d-44a2-9334-cf9255896f0e",
   "metadata": {
    "tags": []
   },
   "outputs": [
    {
     "name": "stdout",
     "output_type": "stream",
     "text": [
      "Mean R^2 score with optimal alpha value is 0.890527143631229\n"
     ]
    }
   ],
   "source": [
    "print(f'Mean R^2 score with optimal alpha value is {cross_val_score(Lasso(alpha=alpha),final_X_train,y_train,cv=5).mean()}')"
   ]
  },
  {
   "cell_type": "markdown",
   "id": "8e8d0138-2a17-41d8-8c7b-76ef8aa4fab0",
   "metadata": {},
   "source": [
    "From the R^2 score, we can see that the model is actually performing very well, with both training and test sets having an R^2 score higher than 0.89. There is no overfitting or underfitting.\n",
    "\n",
    "The cross validation score is also almost exactly the same as the test score, which means that I have a representative test set and it is highly unlikely that there is sampling error."
   ]
  },
  {
   "cell_type": "code",
   "execution_count": 59,
   "id": "1d330134-8df1-4dfe-a1b5-8f1c5f78ca22",
   "metadata": {
    "tags": []
   },
   "outputs": [],
   "source": [
    "y_pred = lasso_model.predict(final_X_test)"
   ]
  },
  {
   "cell_type": "code",
   "execution_count": 60,
   "id": "855c692d-4729-4551-9a7a-ed03d669641c",
   "metadata": {
    "tags": []
   },
   "outputs": [
    {
     "name": "stdout",
     "output_type": "stream",
     "text": [
      "MAE is 35537.752772577966\n"
     ]
    }
   ],
   "source": [
    "print(f'MAE is {metrics.mean_absolute_error(y_test,y_pred)}')"
   ]
  },
  {
   "cell_type": "code",
   "execution_count": 61,
   "id": "9ba8dd4c-aebd-451b-98df-c4a3fcd077ad",
   "metadata": {
    "tags": []
   },
   "outputs": [
    {
     "name": "stdout",
     "output_type": "stream",
     "text": [
      "RMSE is 47068.86562950841\n"
     ]
    }
   ],
   "source": [
    "print(f'RMSE is {np.sqrt(metrics.mean_squared_error(y_test,y_pred))}')"
   ]
  },
  {
   "cell_type": "code",
   "execution_count": 62,
   "id": "7fef0d2d-0803-4c09-bb82-92a8cb7d021c",
   "metadata": {
    "tags": []
   },
   "outputs": [
    {
     "data": {
      "text/plain": [
       "449417.36125984386"
      ]
     },
     "execution_count": 62,
     "metadata": {},
     "output_type": "execute_result"
    }
   ],
   "source": [
    "y_train.mean()"
   ]
  },
  {
   "cell_type": "markdown",
   "id": "8ad82455-9b4d-492d-9e8b-fb2f825b8636",
   "metadata": {},
   "source": [
    "The MAE and RMSE score is also significantly better than the mean of y train."
   ]
  },
  {
   "cell_type": "code",
   "execution_count": 63,
   "id": "b1bbf64d-dc93-480a-b036-069cb5de0864",
   "metadata": {
    "scrolled": true,
    "tags": []
   },
   "outputs": [],
   "source": [
    "coef_values = pd.DataFrame(lasso_model.coef_,index = final_X_train.columns,columns=['coef_values']).T"
   ]
  },
  {
   "cell_type": "code",
   "execution_count": 64,
   "id": "5b1fd1ad-bcdc-4e6d-bc0c-19907e8623fb",
   "metadata": {
    "tags": []
   },
   "outputs": [
    {
     "data": {
      "text/html": [
       "<div>\n",
       "<style scoped>\n",
       "    .dataframe tbody tr th:only-of-type {\n",
       "        vertical-align: middle;\n",
       "    }\n",
       "\n",
       "    .dataframe tbody tr th {\n",
       "        vertical-align: top;\n",
       "    }\n",
       "\n",
       "    .dataframe thead th {\n",
       "        text-align: right;\n",
       "    }\n",
       "</style>\n",
       "<table border=\"1\" class=\"dataframe\">\n",
       "  <thead>\n",
       "    <tr style=\"text-align: right;\">\n",
       "      <th></th>\n",
       "      <th>town_BEDOK</th>\n",
       "      <th>town_BISHAN</th>\n",
       "      <th>town_BUKIT BATOK</th>\n",
       "      <th>town_BUKIT MERAH</th>\n",
       "      <th>town_BUKIT PANJANG</th>\n",
       "      <th>town_BUKIT TIMAH</th>\n",
       "      <th>town_CENTRAL AREA</th>\n",
       "      <th>town_CHOA CHU KANG</th>\n",
       "      <th>town_CLEMENTI</th>\n",
       "      <th>town_GEYLANG</th>\n",
       "      <th>...</th>\n",
       "      <th>pri_sch_longitude</th>\n",
       "      <th>sec_sch_nearest_dist</th>\n",
       "      <th>cutoff_point</th>\n",
       "      <th>sec_sch_latitude</th>\n",
       "      <th>sec_sch_longitude</th>\n",
       "      <th>Mall_Nearest_Distance_Imputed</th>\n",
       "      <th>affiliation</th>\n",
       "      <th>pri_sch_affiliation</th>\n",
       "      <th>bus_interchange</th>\n",
       "      <th>mrt_interchange</th>\n",
       "    </tr>\n",
       "  </thead>\n",
       "  <tbody>\n",
       "    <tr>\n",
       "      <th>coef_values</th>\n",
       "      <td>-46248.945827</td>\n",
       "      <td>80730.179525</td>\n",
       "      <td>-0.0</td>\n",
       "      <td>-22838.366171</td>\n",
       "      <td>-6911.674111</td>\n",
       "      <td>133207.546182</td>\n",
       "      <td>0.0</td>\n",
       "      <td>-22000.539823</td>\n",
       "      <td>11005.193725</td>\n",
       "      <td>-28092.384954</td>\n",
       "      <td>...</td>\n",
       "      <td>-0.0</td>\n",
       "      <td>4257.272887</td>\n",
       "      <td>0.0</td>\n",
       "      <td>0.0</td>\n",
       "      <td>0.0</td>\n",
       "      <td>-948.998001</td>\n",
       "      <td>14828.569552</td>\n",
       "      <td>-0.0</td>\n",
       "      <td>11803.518766</td>\n",
       "      <td>1167.094374</td>\n",
       "    </tr>\n",
       "  </tbody>\n",
       "</table>\n",
       "<p>1 rows × 221 columns</p>\n",
       "</div>"
      ],
      "text/plain": [
       "               town_BEDOK   town_BISHAN  town_BUKIT BATOK  town_BUKIT MERAH  \\\n",
       "coef_values -46248.945827  80730.179525              -0.0     -22838.366171   \n",
       "\n",
       "             town_BUKIT PANJANG  town_BUKIT TIMAH  town_CENTRAL AREA  \\\n",
       "coef_values        -6911.674111     133207.546182                0.0   \n",
       "\n",
       "             town_CHOA CHU KANG  town_CLEMENTI  town_GEYLANG  ...  \\\n",
       "coef_values       -22000.539823   11005.193725 -28092.384954  ...   \n",
       "\n",
       "             pri_sch_longitude  sec_sch_nearest_dist  cutoff_point  \\\n",
       "coef_values               -0.0           4257.272887           0.0   \n",
       "\n",
       "             sec_sch_latitude  sec_sch_longitude  \\\n",
       "coef_values               0.0                0.0   \n",
       "\n",
       "             Mall_Nearest_Distance_Imputed   affiliation  pri_sch_affiliation  \\\n",
       "coef_values                    -948.998001  14828.569552                 -0.0   \n",
       "\n",
       "             bus_interchange  mrt_interchange  \n",
       "coef_values     11803.518766      1167.094374  \n",
       "\n",
       "[1 rows x 221 columns]"
      ]
     },
     "execution_count": 64,
     "metadata": {},
     "output_type": "execute_result"
    }
   ],
   "source": [
    "coef_values"
   ]
  },
  {
   "cell_type": "code",
   "execution_count": 65,
   "id": "e6f6f923-cead-42fd-8aa7-0db01d642377",
   "metadata": {
    "tags": []
   },
   "outputs": [],
   "source": [
    "os.makedirs('../data/outputs', exist_ok=True)  \n",
    "coef_values.to_csv('../data/outputs/coef_values.csv')"
   ]
  },
  {
   "cell_type": "markdown",
   "id": "b39c98d8-e7e7-41b1-933d-100997ff4d7b",
   "metadata": {},
   "source": [
    "From the results above, the model performed slightly worse than the baseline model which is interesting as I expected alot of features to not be useful. \n",
    "\n",
    "Viewing the coefficients, I can see that the model did weigh certain features 0. I can take this information and remove the features completely and rerun the updated dataset through the models to see if it improves performance.\n",
    "\n",
    "**I will export this DataFrame so that I can import it into the next notebook where I remove features to try and improve model performance.**"
   ]
  },
  {
   "cell_type": "markdown",
   "id": "637ef408-ad50-48ab-98b6-687e495b1b60",
   "metadata": {},
   "source": [
    "## Ridge Regression"
   ]
  },
  {
   "cell_type": "code",
   "execution_count": 66,
   "id": "57f5a87a-1802-4f60-bc23-3d624199f372",
   "metadata": {
    "tags": []
   },
   "outputs": [],
   "source": [
    "r_alphas = np.logspace(0, 5, 100) # setting up my alphas to pass into the model"
   ]
  },
  {
   "cell_type": "code",
   "execution_count": 67,
   "id": "9421caee-b0e3-4b5a-9912-fca6ae20642d",
   "metadata": {
    "tags": []
   },
   "outputs": [],
   "source": [
    "ridge_model = RidgeCV(alphas = r_alphas, scoring = 'r2', cv = 5)"
   ]
  },
  {
   "cell_type": "code",
   "execution_count": 68,
   "id": "3f1a8dc9-33c5-43fe-b6bb-a9187948963e",
   "metadata": {
    "tags": []
   },
   "outputs": [
    {
     "data": {
      "text/html": [
       "<style>#sk-container-id-3 {color: black;background-color: white;}#sk-container-id-3 pre{padding: 0;}#sk-container-id-3 div.sk-toggleable {background-color: white;}#sk-container-id-3 label.sk-toggleable__label {cursor: pointer;display: block;width: 100%;margin-bottom: 0;padding: 0.3em;box-sizing: border-box;text-align: center;}#sk-container-id-3 label.sk-toggleable__label-arrow:before {content: \"▸\";float: left;margin-right: 0.25em;color: #696969;}#sk-container-id-3 label.sk-toggleable__label-arrow:hover:before {color: black;}#sk-container-id-3 div.sk-estimator:hover label.sk-toggleable__label-arrow:before {color: black;}#sk-container-id-3 div.sk-toggleable__content {max-height: 0;max-width: 0;overflow: hidden;text-align: left;background-color: #f0f8ff;}#sk-container-id-3 div.sk-toggleable__content pre {margin: 0.2em;color: black;border-radius: 0.25em;background-color: #f0f8ff;}#sk-container-id-3 input.sk-toggleable__control:checked~div.sk-toggleable__content {max-height: 200px;max-width: 100%;overflow: auto;}#sk-container-id-3 input.sk-toggleable__control:checked~label.sk-toggleable__label-arrow:before {content: \"▾\";}#sk-container-id-3 div.sk-estimator input.sk-toggleable__control:checked~label.sk-toggleable__label {background-color: #d4ebff;}#sk-container-id-3 div.sk-label input.sk-toggleable__control:checked~label.sk-toggleable__label {background-color: #d4ebff;}#sk-container-id-3 input.sk-hidden--visually {border: 0;clip: rect(1px 1px 1px 1px);clip: rect(1px, 1px, 1px, 1px);height: 1px;margin: -1px;overflow: hidden;padding: 0;position: absolute;width: 1px;}#sk-container-id-3 div.sk-estimator {font-family: monospace;background-color: #f0f8ff;border: 1px dotted black;border-radius: 0.25em;box-sizing: border-box;margin-bottom: 0.5em;}#sk-container-id-3 div.sk-estimator:hover {background-color: #d4ebff;}#sk-container-id-3 div.sk-parallel-item::after {content: \"\";width: 100%;border-bottom: 1px solid gray;flex-grow: 1;}#sk-container-id-3 div.sk-label:hover label.sk-toggleable__label {background-color: #d4ebff;}#sk-container-id-3 div.sk-serial::before {content: \"\";position: absolute;border-left: 1px solid gray;box-sizing: border-box;top: 0;bottom: 0;left: 50%;z-index: 0;}#sk-container-id-3 div.sk-serial {display: flex;flex-direction: column;align-items: center;background-color: white;padding-right: 0.2em;padding-left: 0.2em;position: relative;}#sk-container-id-3 div.sk-item {position: relative;z-index: 1;}#sk-container-id-3 div.sk-parallel {display: flex;align-items: stretch;justify-content: center;background-color: white;position: relative;}#sk-container-id-3 div.sk-item::before, #sk-container-id-3 div.sk-parallel-item::before {content: \"\";position: absolute;border-left: 1px solid gray;box-sizing: border-box;top: 0;bottom: 0;left: 50%;z-index: -1;}#sk-container-id-3 div.sk-parallel-item {display: flex;flex-direction: column;z-index: 1;position: relative;background-color: white;}#sk-container-id-3 div.sk-parallel-item:first-child::after {align-self: flex-end;width: 50%;}#sk-container-id-3 div.sk-parallel-item:last-child::after {align-self: flex-start;width: 50%;}#sk-container-id-3 div.sk-parallel-item:only-child::after {width: 0;}#sk-container-id-3 div.sk-dashed-wrapped {border: 1px dashed gray;margin: 0 0.4em 0.5em 0.4em;box-sizing: border-box;padding-bottom: 0.4em;background-color: white;}#sk-container-id-3 div.sk-label label {font-family: monospace;font-weight: bold;display: inline-block;line-height: 1.2em;}#sk-container-id-3 div.sk-label-container {text-align: center;}#sk-container-id-3 div.sk-container {/* jupyter's `normalize.less` sets `[hidden] { display: none; }` but bootstrap.min.css set `[hidden] { display: none !important; }` so we also need the `!important` here to be able to override the default hidden behavior on the sphinx rendered scikit-learn.org. See: https://github.com/scikit-learn/scikit-learn/issues/21755 */display: inline-block !important;position: relative;}#sk-container-id-3 div.sk-text-repr-fallback {display: none;}</style><div id=\"sk-container-id-3\" class=\"sk-top-container\"><div class=\"sk-text-repr-fallback\"><pre>RidgeCV(alphas=array([1.00000000e+00, 1.12332403e+00, 1.26185688e+00, 1.41747416e+00,\n",
       "       1.59228279e+00, 1.78864953e+00, 2.00923300e+00, 2.25701972e+00,\n",
       "       2.53536449e+00, 2.84803587e+00, 3.19926714e+00, 3.59381366e+00,\n",
       "       4.03701726e+00, 4.53487851e+00, 5.09413801e+00, 5.72236766e+00,\n",
       "       6.42807312e+00, 7.22080902e+00, 8.11130831e+00, 9.11162756e+00,\n",
       "       1.02353102e+01, 1.14975700e+0...\n",
       "       6.89261210e+03, 7.74263683e+03, 8.69749003e+03, 9.77009957e+03,\n",
       "       1.09749877e+04, 1.23284674e+04, 1.38488637e+04, 1.55567614e+04,\n",
       "       1.74752840e+04, 1.96304065e+04, 2.20513074e+04, 2.47707636e+04,\n",
       "       2.78255940e+04, 3.12571585e+04, 3.51119173e+04, 3.94420606e+04,\n",
       "       4.43062146e+04, 4.97702356e+04, 5.59081018e+04, 6.28029144e+04,\n",
       "       7.05480231e+04, 7.92482898e+04, 8.90215085e+04, 1.00000000e+05]),\n",
       "        cv=5, scoring=&#x27;r2&#x27;)</pre><b>In a Jupyter environment, please rerun this cell to show the HTML representation or trust the notebook. <br />On GitHub, the HTML representation is unable to render, please try loading this page with nbviewer.org.</b></div><div class=\"sk-container\" hidden><div class=\"sk-item\"><div class=\"sk-estimator sk-toggleable\"><input class=\"sk-toggleable__control sk-hidden--visually\" id=\"sk-estimator-id-3\" type=\"checkbox\" checked><label for=\"sk-estimator-id-3\" class=\"sk-toggleable__label sk-toggleable__label-arrow\">RidgeCV</label><div class=\"sk-toggleable__content\"><pre>RidgeCV(alphas=array([1.00000000e+00, 1.12332403e+00, 1.26185688e+00, 1.41747416e+00,\n",
       "       1.59228279e+00, 1.78864953e+00, 2.00923300e+00, 2.25701972e+00,\n",
       "       2.53536449e+00, 2.84803587e+00, 3.19926714e+00, 3.59381366e+00,\n",
       "       4.03701726e+00, 4.53487851e+00, 5.09413801e+00, 5.72236766e+00,\n",
       "       6.42807312e+00, 7.22080902e+00, 8.11130831e+00, 9.11162756e+00,\n",
       "       1.02353102e+01, 1.14975700e+0...\n",
       "       6.89261210e+03, 7.74263683e+03, 8.69749003e+03, 9.77009957e+03,\n",
       "       1.09749877e+04, 1.23284674e+04, 1.38488637e+04, 1.55567614e+04,\n",
       "       1.74752840e+04, 1.96304065e+04, 2.20513074e+04, 2.47707636e+04,\n",
       "       2.78255940e+04, 3.12571585e+04, 3.51119173e+04, 3.94420606e+04,\n",
       "       4.43062146e+04, 4.97702356e+04, 5.59081018e+04, 6.28029144e+04,\n",
       "       7.05480231e+04, 7.92482898e+04, 8.90215085e+04, 1.00000000e+05]),\n",
       "        cv=5, scoring=&#x27;r2&#x27;)</pre></div></div></div></div></div>"
      ],
      "text/plain": [
       "RidgeCV(alphas=array([1.00000000e+00, 1.12332403e+00, 1.26185688e+00, 1.41747416e+00,\n",
       "       1.59228279e+00, 1.78864953e+00, 2.00923300e+00, 2.25701972e+00,\n",
       "       2.53536449e+00, 2.84803587e+00, 3.19926714e+00, 3.59381366e+00,\n",
       "       4.03701726e+00, 4.53487851e+00, 5.09413801e+00, 5.72236766e+00,\n",
       "       6.42807312e+00, 7.22080902e+00, 8.11130831e+00, 9.11162756e+00,\n",
       "       1.02353102e+01, 1.14975700e+0...\n",
       "       6.89261210e+03, 7.74263683e+03, 8.69749003e+03, 9.77009957e+03,\n",
       "       1.09749877e+04, 1.23284674e+04, 1.38488637e+04, 1.55567614e+04,\n",
       "       1.74752840e+04, 1.96304065e+04, 2.20513074e+04, 2.47707636e+04,\n",
       "       2.78255940e+04, 3.12571585e+04, 3.51119173e+04, 3.94420606e+04,\n",
       "       4.43062146e+04, 4.97702356e+04, 5.59081018e+04, 6.28029144e+04,\n",
       "       7.05480231e+04, 7.92482898e+04, 8.90215085e+04, 1.00000000e+05]),\n",
       "        cv=5, scoring='r2')"
      ]
     },
     "execution_count": 68,
     "metadata": {},
     "output_type": "execute_result"
    }
   ],
   "source": [
    "ridge_model.fit(final_X_train,y_train)"
   ]
  },
  {
   "cell_type": "code",
   "execution_count": 69,
   "id": "e7a6c9a9-b4ac-4a1d-bfb3-591a9d51bb73",
   "metadata": {
    "tags": []
   },
   "outputs": [
    {
     "data": {
      "text/plain": [
       "1.0"
      ]
     },
     "execution_count": 69,
     "metadata": {},
     "output_type": "execute_result"
    }
   ],
   "source": [
    "alpha = ridge_model.alpha_\n",
    "alpha"
   ]
  },
  {
   "cell_type": "markdown",
   "id": "d9df2508-6a64-4f02-85d0-ae0cb8174b7f",
   "metadata": {},
   "source": [
    "This is the optimal alpha as decided by the model, which I will use to cross validate the score."
   ]
  },
  {
   "cell_type": "code",
   "execution_count": 70,
   "id": "7567a346-2d8a-4924-85cf-da715cd89420",
   "metadata": {
    "tags": []
   },
   "outputs": [
    {
     "name": "stdout",
     "output_type": "stream",
     "text": [
      "R^2 score for training set is 0.9005758625554359\n"
     ]
    }
   ],
   "source": [
    "print(f'R^2 score for training set is {ridge_model.score(final_X_train,y_train)}')"
   ]
  },
  {
   "cell_type": "code",
   "execution_count": 71,
   "id": "7733f05e-2bff-4ef7-a6e0-dbe7bea8f0e5",
   "metadata": {
    "tags": []
   },
   "outputs": [
    {
     "name": "stdout",
     "output_type": "stream",
     "text": [
      "R^2 score for test set is 0.9014872346425724\n"
     ]
    }
   ],
   "source": [
    "print(f'R^2 score for test set is {ridge_model.score(final_X_test,y_test)}')"
   ]
  },
  {
   "cell_type": "code",
   "execution_count": 72,
   "id": "244a811d-5f41-49db-9573-43e4875d5bfd",
   "metadata": {
    "tags": []
   },
   "outputs": [
    {
     "name": "stdout",
     "output_type": "stream",
     "text": [
      "Mean R^2 score with optimal alpha value is 0.8963122731114372\n"
     ]
    }
   ],
   "source": [
    "print(f'Mean R^2 score with optimal alpha value is {cross_val_score(Ridge(alpha=alpha),final_X_train,y_train,cv=5).mean()}')"
   ]
  },
  {
   "cell_type": "markdown",
   "id": "8e6fb49a-653b-492a-bcbc-09bb6c61736d",
   "metadata": {},
   "source": [
    "From the R^2 score, we can see that the model is actually performing very well, with both training and test sets having an R^2 score higher than 0.9. There is no overfitting or underfitting.\n",
    "\n",
    "The cross validation score is also almost exactly the same as the test score, which means that I have a representative test set and it is highly unlikely that there is sampling error."
   ]
  },
  {
   "cell_type": "code",
   "execution_count": 73,
   "id": "4bb3d38f-0df5-45c9-99c5-b69f632c14ed",
   "metadata": {
    "tags": []
   },
   "outputs": [],
   "source": [
    "y_pred = ridge_model.predict(final_X_test)"
   ]
  },
  {
   "cell_type": "code",
   "execution_count": 74,
   "id": "c7ac2db2-d433-4422-8483-7aaec5fc1ceb",
   "metadata": {
    "tags": []
   },
   "outputs": [
    {
     "name": "stdout",
     "output_type": "stream",
     "text": [
      "MAE is 34180.992942369776\n"
     ]
    }
   ],
   "source": [
    "print(f'MAE is {metrics.mean_absolute_error(y_test,y_pred)}')"
   ]
  },
  {
   "cell_type": "code",
   "execution_count": 75,
   "id": "15fc8252-4455-4c50-a87e-901e790ff8f4",
   "metadata": {
    "tags": []
   },
   "outputs": [
    {
     "name": "stdout",
     "output_type": "stream",
     "text": [
      "RMSE is 44818.88550442122\n"
     ]
    }
   ],
   "source": [
    "print(f'RMSE is {np.sqrt(metrics.mean_squared_error(y_test,y_pred))}')"
   ]
  },
  {
   "cell_type": "code",
   "execution_count": 76,
   "id": "3d389aa7-72fd-4dfc-b525-1f6ab746a698",
   "metadata": {
    "tags": []
   },
   "outputs": [
    {
     "data": {
      "text/plain": [
       "449417.36125984386"
      ]
     },
     "execution_count": 76,
     "metadata": {},
     "output_type": "execute_result"
    }
   ],
   "source": [
    "y_train.mean()"
   ]
  },
  {
   "cell_type": "markdown",
   "id": "7a274ff9-a231-49fd-81c5-12e7d2469afa",
   "metadata": {},
   "source": [
    "The MAE and RMSE score is also significantly better than the mean of y train."
   ]
  },
  {
   "cell_type": "markdown",
   "id": "a947fccf-e64d-48c7-8f24-8e9dad1e108a",
   "metadata": {},
   "source": [
    "## ElasticNet Regression"
   ]
  },
  {
   "cell_type": "code",
   "execution_count": 77,
   "id": "e27ac560-6ee4-4bcd-80e3-2d25d4dee9a0",
   "metadata": {
    "tags": []
   },
   "outputs": [],
   "source": [
    "en_model = ElasticNetCV(l1_ratio = [.1, .5, .7, .9, .95, .99, 1],max_iter = 10000,verbose = 1)"
   ]
  },
  {
   "cell_type": "code",
   "execution_count": 78,
   "id": "65d10ebd-bfb4-46f1-b9c3-5e16317e741b",
   "metadata": {
    "tags": []
   },
   "outputs": [
    {
     "name": "stderr",
     "output_type": "stream",
     "text": [
      "[Parallel(n_jobs=1)]: Using backend SequentialBackend with 1 concurrent workers.\n",
      "............................................................................................................................................................................................................................................................................................................................................................................................................................................................................................................................................................................................................................................................................................................................................................................................................................................................................................................................................................................................................................................................................................................................................................................................................................................................................................................................................................................................................................................................................................................................................................................................................................................................................................................................................................................................................................................................................................................................................................................................................................................................................................................................................................................................................................................................................................................................................................................................................................................................................................................................................................................................................................................................................................................................................................................................................................................................................................................................................................................................................................................................................................................................................................................................................................................................................................................................................................................................................................................................................................................................................................................................................................................[Parallel(n_jobs=1)]: Done  35 out of  35 | elapsed:   29.4s finished\n"
     ]
    },
    {
     "data": {
      "text/html": [
       "<style>#sk-container-id-4 {color: black;background-color: white;}#sk-container-id-4 pre{padding: 0;}#sk-container-id-4 div.sk-toggleable {background-color: white;}#sk-container-id-4 label.sk-toggleable__label {cursor: pointer;display: block;width: 100%;margin-bottom: 0;padding: 0.3em;box-sizing: border-box;text-align: center;}#sk-container-id-4 label.sk-toggleable__label-arrow:before {content: \"▸\";float: left;margin-right: 0.25em;color: #696969;}#sk-container-id-4 label.sk-toggleable__label-arrow:hover:before {color: black;}#sk-container-id-4 div.sk-estimator:hover label.sk-toggleable__label-arrow:before {color: black;}#sk-container-id-4 div.sk-toggleable__content {max-height: 0;max-width: 0;overflow: hidden;text-align: left;background-color: #f0f8ff;}#sk-container-id-4 div.sk-toggleable__content pre {margin: 0.2em;color: black;border-radius: 0.25em;background-color: #f0f8ff;}#sk-container-id-4 input.sk-toggleable__control:checked~div.sk-toggleable__content {max-height: 200px;max-width: 100%;overflow: auto;}#sk-container-id-4 input.sk-toggleable__control:checked~label.sk-toggleable__label-arrow:before {content: \"▾\";}#sk-container-id-4 div.sk-estimator input.sk-toggleable__control:checked~label.sk-toggleable__label {background-color: #d4ebff;}#sk-container-id-4 div.sk-label input.sk-toggleable__control:checked~label.sk-toggleable__label {background-color: #d4ebff;}#sk-container-id-4 input.sk-hidden--visually {border: 0;clip: rect(1px 1px 1px 1px);clip: rect(1px, 1px, 1px, 1px);height: 1px;margin: -1px;overflow: hidden;padding: 0;position: absolute;width: 1px;}#sk-container-id-4 div.sk-estimator {font-family: monospace;background-color: #f0f8ff;border: 1px dotted black;border-radius: 0.25em;box-sizing: border-box;margin-bottom: 0.5em;}#sk-container-id-4 div.sk-estimator:hover {background-color: #d4ebff;}#sk-container-id-4 div.sk-parallel-item::after {content: \"\";width: 100%;border-bottom: 1px solid gray;flex-grow: 1;}#sk-container-id-4 div.sk-label:hover label.sk-toggleable__label {background-color: #d4ebff;}#sk-container-id-4 div.sk-serial::before {content: \"\";position: absolute;border-left: 1px solid gray;box-sizing: border-box;top: 0;bottom: 0;left: 50%;z-index: 0;}#sk-container-id-4 div.sk-serial {display: flex;flex-direction: column;align-items: center;background-color: white;padding-right: 0.2em;padding-left: 0.2em;position: relative;}#sk-container-id-4 div.sk-item {position: relative;z-index: 1;}#sk-container-id-4 div.sk-parallel {display: flex;align-items: stretch;justify-content: center;background-color: white;position: relative;}#sk-container-id-4 div.sk-item::before, #sk-container-id-4 div.sk-parallel-item::before {content: \"\";position: absolute;border-left: 1px solid gray;box-sizing: border-box;top: 0;bottom: 0;left: 50%;z-index: -1;}#sk-container-id-4 div.sk-parallel-item {display: flex;flex-direction: column;z-index: 1;position: relative;background-color: white;}#sk-container-id-4 div.sk-parallel-item:first-child::after {align-self: flex-end;width: 50%;}#sk-container-id-4 div.sk-parallel-item:last-child::after {align-self: flex-start;width: 50%;}#sk-container-id-4 div.sk-parallel-item:only-child::after {width: 0;}#sk-container-id-4 div.sk-dashed-wrapped {border: 1px dashed gray;margin: 0 0.4em 0.5em 0.4em;box-sizing: border-box;padding-bottom: 0.4em;background-color: white;}#sk-container-id-4 div.sk-label label {font-family: monospace;font-weight: bold;display: inline-block;line-height: 1.2em;}#sk-container-id-4 div.sk-label-container {text-align: center;}#sk-container-id-4 div.sk-container {/* jupyter's `normalize.less` sets `[hidden] { display: none; }` but bootstrap.min.css set `[hidden] { display: none !important; }` so we also need the `!important` here to be able to override the default hidden behavior on the sphinx rendered scikit-learn.org. See: https://github.com/scikit-learn/scikit-learn/issues/21755 */display: inline-block !important;position: relative;}#sk-container-id-4 div.sk-text-repr-fallback {display: none;}</style><div id=\"sk-container-id-4\" class=\"sk-top-container\"><div class=\"sk-text-repr-fallback\"><pre>ElasticNetCV(l1_ratio=[0.1, 0.5, 0.7, 0.9, 0.95, 0.99, 1], max_iter=10000,\n",
       "             verbose=1)</pre><b>In a Jupyter environment, please rerun this cell to show the HTML representation or trust the notebook. <br />On GitHub, the HTML representation is unable to render, please try loading this page with nbviewer.org.</b></div><div class=\"sk-container\" hidden><div class=\"sk-item\"><div class=\"sk-estimator sk-toggleable\"><input class=\"sk-toggleable__control sk-hidden--visually\" id=\"sk-estimator-id-4\" type=\"checkbox\" checked><label for=\"sk-estimator-id-4\" class=\"sk-toggleable__label sk-toggleable__label-arrow\">ElasticNetCV</label><div class=\"sk-toggleable__content\"><pre>ElasticNetCV(l1_ratio=[0.1, 0.5, 0.7, 0.9, 0.95, 0.99, 1], max_iter=10000,\n",
       "             verbose=1)</pre></div></div></div></div></div>"
      ],
      "text/plain": [
       "ElasticNetCV(l1_ratio=[0.1, 0.5, 0.7, 0.9, 0.95, 0.99, 1], max_iter=10000,\n",
       "             verbose=1)"
      ]
     },
     "execution_count": 78,
     "metadata": {},
     "output_type": "execute_result"
    }
   ],
   "source": [
    "en_model.fit(final_X_train,y_train)"
   ]
  },
  {
   "cell_type": "code",
   "execution_count": 79,
   "id": "58429ddf-b9b7-4ab8-a089-14cdc44fa123",
   "metadata": {
    "tags": []
   },
   "outputs": [],
   "source": [
    "l1_ratio = en_model.l1_ratio_"
   ]
  },
  {
   "cell_type": "markdown",
   "id": "428c6da9-2fb4-431a-9e86-9610a6bbdf8d",
   "metadata": {},
   "source": [
    "ElasticNet model has selected an l1 ratio of 1 or pure lasso regression."
   ]
  },
  {
   "cell_type": "code",
   "execution_count": 80,
   "id": "7dc37ee8-97ae-4881-93bf-e6c70da4e334",
   "metadata": {
    "tags": []
   },
   "outputs": [
    {
     "data": {
      "text/plain": [
       "93.68396660451357"
      ]
     },
     "execution_count": 80,
     "metadata": {},
     "output_type": "execute_result"
    }
   ],
   "source": [
    "alpha = en_model.alpha_\n",
    "alpha"
   ]
  },
  {
   "cell_type": "markdown",
   "id": "b09f1f84-86a0-40fc-a6c9-18a2e7efbcea",
   "metadata": {},
   "source": [
    "This is the optimal alpha as decided by the model, which I will use to cross validate the score."
   ]
  },
  {
   "cell_type": "code",
   "execution_count": 81,
   "id": "0ed73727-2d39-4aa7-a086-3f7660cf9f7e",
   "metadata": {
    "tags": []
   },
   "outputs": [
    {
     "name": "stdout",
     "output_type": "stream",
     "text": [
      "R^2 score for training set is 0.8908561082694333\n"
     ]
    }
   ],
   "source": [
    "print(f'R^2 score for training set is {en_model.score(final_X_train,y_train)}')"
   ]
  },
  {
   "cell_type": "code",
   "execution_count": 82,
   "id": "d5905ba9-a8bf-41ae-9612-79498b0645af",
   "metadata": {
    "tags": []
   },
   "outputs": [
    {
     "name": "stdout",
     "output_type": "stream",
     "text": [
      "R^2 score for test set is 0.8913479641514964\n"
     ]
    }
   ],
   "source": [
    "print(f'R^2 score for test set is {en_model.score(final_X_test,y_test)}')"
   ]
  },
  {
   "cell_type": "code",
   "execution_count": 83,
   "id": "34cb9013-ce91-401e-85fa-d3c4dfa2dc2a",
   "metadata": {
    "tags": []
   },
   "outputs": [
    {
     "name": "stdout",
     "output_type": "stream",
     "text": [
      "Mean R^2 score with optimal alpha value is 0.890527143631229\n"
     ]
    }
   ],
   "source": [
    "print(f'Mean R^2 score with optimal alpha value is {cross_val_score(ElasticNet(alpha=alpha,l1_ratio = l1_ratio),final_X_train,y_train,cv=5).mean()}')"
   ]
  },
  {
   "cell_type": "markdown",
   "id": "1118ebe9-ef38-4b4c-9b1c-ce83c203721a",
   "metadata": {},
   "source": [
    "From the R^2 score, we can see that the model is actually performing very well, with both training and test sets having an R^2 score higher than 0.89. There is no overfitting or underfitting.\n",
    "\n",
    "The cross validation score is also almost exactly the same as the test score, which means that I have a representative test set and it is highly unlikely that there is sampling error."
   ]
  },
  {
   "cell_type": "code",
   "execution_count": 84,
   "id": "a7d070a3-c000-4245-b935-0c86d90b2b36",
   "metadata": {
    "tags": []
   },
   "outputs": [],
   "source": [
    "y_pred = en_model.predict(final_X_test)"
   ]
  },
  {
   "cell_type": "code",
   "execution_count": 85,
   "id": "0987877a-164e-45ff-988c-708f3f865364",
   "metadata": {
    "tags": []
   },
   "outputs": [
    {
     "name": "stdout",
     "output_type": "stream",
     "text": [
      "MAE is 35537.752772577966\n"
     ]
    }
   ],
   "source": [
    "print(f'MAE is {metrics.mean_absolute_error(y_test,y_pred)}')"
   ]
  },
  {
   "cell_type": "code",
   "execution_count": 86,
   "id": "bb7e8848-8a95-4fb9-851b-4ddadaefaf41",
   "metadata": {
    "tags": []
   },
   "outputs": [
    {
     "name": "stdout",
     "output_type": "stream",
     "text": [
      "RMSE is 47068.86562950841\n"
     ]
    }
   ],
   "source": [
    "print(f'RMSE is {np.sqrt(metrics.mean_squared_error(y_test,y_pred))}')"
   ]
  },
  {
   "cell_type": "code",
   "execution_count": 87,
   "id": "eebf400d-e3bb-4898-8350-6c55727e6b82",
   "metadata": {
    "tags": []
   },
   "outputs": [
    {
     "data": {
      "text/plain": [
       "449417.36125984386"
      ]
     },
     "execution_count": 87,
     "metadata": {},
     "output_type": "execute_result"
    }
   ],
   "source": [
    "y_train.mean()"
   ]
  },
  {
   "cell_type": "markdown",
   "id": "637f3a20-b182-49d2-b2a6-5d208b657b45",
   "metadata": {},
   "source": [
    "The MAE and RMSE score is also significantly better than the mean of y train."
   ]
  },
  {
   "cell_type": "markdown",
   "id": "32713822-e6a9-401b-8c69-3afbd6db6967",
   "metadata": {},
   "source": [
    "## Comparison of 4 Models "
   ]
  },
  {
   "cell_type": "code",
   "execution_count": 89,
   "id": "ad9051f0-91a3-44fa-8357-0c320f501596",
   "metadata": {
    "tags": []
   },
   "outputs": [
    {
     "name": "stdout",
     "output_type": "stream",
     "text": [
      "====== OLS =======\n",
      "0.9005704568396409\n",
      "0.9014481142290208\n",
      "\n",
      "===== Lasso ======\n",
      "0.8908561082694333\n",
      "0.8913479641514964\n",
      "\n",
      "===== Ridge ======\n",
      "0.9005758625554359\n",
      "0.9014872346425724\n",
      "\n",
      "=== ElasticNet ===\n",
      "0.8908561082694333\n",
      "0.8913479641514964\n"
     ]
    }
   ],
   "source": [
    "print(\" Multiple Linear Regression \".center(18, \"=\"))# syntax: str.center(width, fillchar=' ')\n",
    "print(lr_model.score(final_X_train, y_train))\n",
    "print(lr_model.score(final_X_test, y_test))\n",
    "print()\n",
    "print(\" Lasso \".center(18, \"=\"))\n",
    "print(lasso_model.score(final_X_train, y_train))\n",
    "print(lasso_model.score(final_X_test, y_test))\n",
    "print()\n",
    "print(\" Ridge \".center(18, \"=\"))\n",
    "print(ridge_model.score(final_X_train, y_train))\n",
    "print(ridge_model.score(final_X_test, y_test))\n",
    "print()\n",
    "print(\" ElasticNet \".center(18, \"=\"))\n",
    "print(en_model.score(final_X_train, y_train))\n",
    "print(en_model.score(final_X_test, y_test))"
   ]
  },
  {
   "cell_type": "markdown",
   "id": "d3638f75-3644-4a72-a960-3b41efbaa1bd",
   "metadata": {},
   "source": [
    "| Model                                | R-Squared Score - Training Set | R-Squared Score - Test Set | Cross-Validated R-Squared Score folds = 5 | RMSE  |\n",
    "|--------------------------------------|--------------------------------|----------------------------|-------------------------------------------|-------|\n",
    "| Multiple Linear Regression                                  | 0.90                           | 0.90                       | 0.90                                      | 44827 |\n",
    "| Lasso  alpha = 93.6                  | 0.89                           | 0.89                       | 0.89                                      | 47068 |\n",
    "| Ridge alpha = 1                      | 0.90                           | 0.90                       | 0.90                                      | 44818 |\n",
    "| ElasticNet l1_ratio = 1 alpha = 93.6 | 0.89                           | 0.89                       | 0.89                                      | 47068 |"
   ]
  },
  {
   "cell_type": "markdown",
   "id": "09bc22f2-d954-4455-8669-b5a9703cb70e",
   "metadata": {},
   "source": [
    "From the R^2 scores of the first 4 models, all of them are actually pretty good. However, I will try to further improve on them, by doing the following:\n",
    "\n",
    "\n",
    "1. Removing outlier years\n",
    "1. Removing outlier datapoints\n",
    "1. Removing features which were given 0 weight by lasso\n",
    "\n",
    "\n",
    "This will be done in the next code notebook."
   ]
  }
 ],
 "metadata": {
  "kernelspec": {
   "display_name": "Python 3 (ipykernel)",
   "language": "python",
   "name": "python3"
  },
  "language_info": {
   "codemirror_mode": {
    "name": "ipython",
    "version": 3
   },
   "file_extension": ".py",
   "mimetype": "text/x-python",
   "name": "python",
   "nbconvert_exporter": "python",
   "pygments_lexer": "ipython3",
   "version": "3.8.16"
  }
 },
 "nbformat": 4,
 "nbformat_minor": 5
}
